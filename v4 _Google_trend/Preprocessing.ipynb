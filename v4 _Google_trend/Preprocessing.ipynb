{
 "cells": [
  {
   "cell_type": "markdown",
   "id": "52749e9a",
   "metadata": {},
   "source": [
    "Imports"
   ]
  },
  {
   "cell_type": "code",
   "execution_count": 2,
   "id": "aed1fe93",
   "metadata": {},
   "outputs": [],
   "source": [
    "# Standard library imports\n",
    "import os\n",
    "import re\n",
    "import unicodedata\n",
    "import warnings\n",
    "\n",
    "# Third-party library imports\n",
    "import numpy as np\n",
    "import pandas as pd\n",
    "import matplotlib.pyplot as plt\n",
    "import matplotlib.ticker as mtick\n",
    "from matplotlib.ticker import PercentFormatter\n",
    "import seaborn as sns\n",
    "import textstat\n",
    "from textblob import TextBlob\n",
    "from textblob_nl import PatternAnalyzer\n",
    "from tqdm.notebook import tqdm\n",
    "import requests\n"
   ]
  },
  {
   "cell_type": "markdown",
   "id": "48cd107d",
   "metadata": {},
   "source": [
    "### Carsales"
   ]
  },
  {
   "cell_type": "markdown",
   "id": "fa5c5125",
   "metadata": {},
   "source": [
    "extracted from https://opendata.cbs.nl/#/CBS/nl/dataset/85898NED/table?ts=1745764299955"
   ]
  },
  {
   "cell_type": "markdown",
   "id": "15111359",
   "metadata": {},
   "source": [
    ">Dataset inladen "
   ]
  },
  {
   "cell_type": "code",
   "execution_count": 3,
   "id": "49eb296b",
   "metadata": {},
   "outputs": [
    {
     "data": {
      "application/vnd.microsoft.datawrangler.viewer.v0+json": {
       "columns": [
        {
         "name": "index",
         "rawType": "int64",
         "type": "integer"
        },
        {
         "name": "Wegvoertuigen",
         "rawType": "object",
         "type": "string"
        },
        {
         "name": "Brandstofsoort voertuig",
         "rawType": "object",
         "type": "string"
        },
        {
         "name": "Perioden",
         "rawType": "object",
         "type": "string"
        },
        {
         "name": "Totaal verkochte wegvoertuigen (aantal)",
         "rawType": "int64",
         "type": "integer"
        }
       ],
       "conversionMethod": "pd.DataFrame",
       "ref": "83a9a47a-b922-4ba5-9af0-15835c61c4ab",
       "rows": [
        [
         "0",
         "Totaal wegvoertuigen",
         "Full elektric (BEV)",
         "2007 januari",
         "31"
        ],
        [
         "1",
         "Totaal wegvoertuigen",
         "Full elektric (BEV)",
         "2007 februari",
         "39"
        ],
        [
         "2",
         "Totaal wegvoertuigen",
         "Full elektric (BEV)",
         "2007 maart",
         "123"
        ],
        [
         "3",
         "Totaal wegvoertuigen",
         "Full elektric (BEV)",
         "2007 april",
         "62"
        ],
        [
         "4",
         "Totaal wegvoertuigen",
         "Full elektric (BEV)",
         "2007 mei",
         "84"
        ],
        [
         "5",
         "Totaal wegvoertuigen",
         "Full elektric (BEV)",
         "2007 juni",
         "112"
        ],
        [
         "6",
         "Totaal wegvoertuigen",
         "Full elektric (BEV)",
         "2007 juli",
         "124"
        ],
        [
         "7",
         "Totaal wegvoertuigen",
         "Full elektric (BEV)",
         "2007 augustus",
         "96"
        ],
        [
         "8",
         "Totaal wegvoertuigen",
         "Full elektric (BEV)",
         "2007 september",
         "120"
        ],
        [
         "9",
         "Totaal wegvoertuigen",
         "Full elektric (BEV)",
         "2007 oktober",
         "77"
        ],
        [
         "10",
         "Totaal wegvoertuigen",
         "Full elektric (BEV)",
         "2007 november",
         "170"
        ],
        [
         "11",
         "Totaal wegvoertuigen",
         "Full elektric (BEV)",
         "2007 december",
         "79"
        ],
        [
         "12",
         "Totaal wegvoertuigen",
         "Full elektric (BEV)",
         "2008 januari",
         "100"
        ],
        [
         "13",
         "Totaal wegvoertuigen",
         "Full elektric (BEV)",
         "2008 februari",
         "111"
        ],
        [
         "14",
         "Totaal wegvoertuigen",
         "Full elektric (BEV)",
         "2008 maart",
         "174"
        ],
        [
         "15",
         "Totaal wegvoertuigen",
         "Full elektric (BEV)",
         "2008 april",
         "192"
        ],
        [
         "16",
         "Totaal wegvoertuigen",
         "Full elektric (BEV)",
         "2008 mei",
         "287"
        ],
        [
         "17",
         "Totaal wegvoertuigen",
         "Full elektric (BEV)",
         "2008 juni",
         "364"
        ],
        [
         "18",
         "Totaal wegvoertuigen",
         "Full elektric (BEV)",
         "2008 juli",
         "365"
        ],
        [
         "19",
         "Totaal wegvoertuigen",
         "Full elektric (BEV)",
         "2008 augustus",
         "263"
        ],
        [
         "20",
         "Totaal wegvoertuigen",
         "Full elektric (BEV)",
         "2008 september",
         "298"
        ],
        [
         "21",
         "Totaal wegvoertuigen",
         "Full elektric (BEV)",
         "2008 oktober",
         "366"
        ],
        [
         "22",
         "Totaal wegvoertuigen",
         "Full elektric (BEV)",
         "2008 november",
         "250"
        ],
        [
         "23",
         "Totaal wegvoertuigen",
         "Full elektric (BEV)",
         "2008 december",
         "202"
        ],
        [
         "24",
         "Totaal wegvoertuigen",
         "Full elektric (BEV)",
         "2009 januari",
         "168"
        ],
        [
         "25",
         "Totaal wegvoertuigen",
         "Full elektric (BEV)",
         "2009 februari",
         "246"
        ],
        [
         "26",
         "Totaal wegvoertuigen",
         "Full elektric (BEV)",
         "2009 maart",
         "287"
        ],
        [
         "27",
         "Totaal wegvoertuigen",
         "Full elektric (BEV)",
         "2009 april",
         "434"
        ],
        [
         "28",
         "Totaal wegvoertuigen",
         "Full elektric (BEV)",
         "2009 mei",
         "433"
        ],
        [
         "29",
         "Totaal wegvoertuigen",
         "Full elektric (BEV)",
         "2009 juni",
         "522"
        ],
        [
         "30",
         "Totaal wegvoertuigen",
         "Full elektric (BEV)",
         "2009 juli",
         "575"
        ],
        [
         "31",
         "Totaal wegvoertuigen",
         "Full elektric (BEV)",
         "2009 augustus",
         "515"
        ],
        [
         "32",
         "Totaal wegvoertuigen",
         "Full elektric (BEV)",
         "2009 september",
         "474"
        ],
        [
         "33",
         "Totaal wegvoertuigen",
         "Full elektric (BEV)",
         "2009 oktober",
         "457"
        ],
        [
         "34",
         "Totaal wegvoertuigen",
         "Full elektric (BEV)",
         "2009 november",
         "398"
        ],
        [
         "35",
         "Totaal wegvoertuigen",
         "Full elektric (BEV)",
         "2009 december",
         "287"
        ],
        [
         "36",
         "Totaal wegvoertuigen",
         "Full elektric (BEV)",
         "2010 januari",
         "248"
        ],
        [
         "37",
         "Totaal wegvoertuigen",
         "Full elektric (BEV)",
         "2010 februari",
         "318"
        ],
        [
         "38",
         "Totaal wegvoertuigen",
         "Full elektric (BEV)",
         "2010 maart",
         "518"
        ],
        [
         "39",
         "Totaal wegvoertuigen",
         "Full elektric (BEV)",
         "2010 april",
         "774"
        ],
        [
         "40",
         "Totaal wegvoertuigen",
         "Full elektric (BEV)",
         "2010 mei",
         "663"
        ],
        [
         "41",
         "Totaal wegvoertuigen",
         "Full elektric (BEV)",
         "2010 juni",
         "774"
        ],
        [
         "42",
         "Totaal wegvoertuigen",
         "Full elektric (BEV)",
         "2010 juli",
         "986"
        ],
        [
         "43",
         "Totaal wegvoertuigen",
         "Full elektric (BEV)",
         "2010 augustus",
         "616"
        ],
        [
         "44",
         "Totaal wegvoertuigen",
         "Full elektric (BEV)",
         "2010 september",
         "530"
        ],
        [
         "45",
         "Totaal wegvoertuigen",
         "Full elektric (BEV)",
         "2010 oktober",
         "411"
        ],
        [
         "46",
         "Totaal wegvoertuigen",
         "Full elektric (BEV)",
         "2010 november",
         "402"
        ],
        [
         "47",
         "Totaal wegvoertuigen",
         "Full elektric (BEV)",
         "2010 december",
         "224"
        ],
        [
         "48",
         "Totaal wegvoertuigen",
         "Full elektric (BEV)",
         "2011 januari",
         "365"
        ],
        [
         "49",
         "Totaal wegvoertuigen",
         "Full elektric (BEV)",
         "2011 februari",
         "427"
        ]
       ],
       "shape": {
        "columns": 4,
        "rows": 219
       }
      },
      "text/html": [
       "<div>\n",
       "<style scoped>\n",
       "    .dataframe tbody tr th:only-of-type {\n",
       "        vertical-align: middle;\n",
       "    }\n",
       "\n",
       "    .dataframe tbody tr th {\n",
       "        vertical-align: top;\n",
       "    }\n",
       "\n",
       "    .dataframe thead th {\n",
       "        text-align: right;\n",
       "    }\n",
       "</style>\n",
       "<table border=\"1\" class=\"dataframe\">\n",
       "  <thead>\n",
       "    <tr style=\"text-align: right;\">\n",
       "      <th></th>\n",
       "      <th>Wegvoertuigen</th>\n",
       "      <th>Brandstofsoort voertuig</th>\n",
       "      <th>Perioden</th>\n",
       "      <th>Totaal verkochte wegvoertuigen (aantal)</th>\n",
       "    </tr>\n",
       "  </thead>\n",
       "  <tbody>\n",
       "    <tr>\n",
       "      <th>0</th>\n",
       "      <td>Totaal wegvoertuigen</td>\n",
       "      <td>Full elektric (BEV)</td>\n",
       "      <td>2007 januari</td>\n",
       "      <td>31</td>\n",
       "    </tr>\n",
       "    <tr>\n",
       "      <th>1</th>\n",
       "      <td>Totaal wegvoertuigen</td>\n",
       "      <td>Full elektric (BEV)</td>\n",
       "      <td>2007 februari</td>\n",
       "      <td>39</td>\n",
       "    </tr>\n",
       "    <tr>\n",
       "      <th>2</th>\n",
       "      <td>Totaal wegvoertuigen</td>\n",
       "      <td>Full elektric (BEV)</td>\n",
       "      <td>2007 maart</td>\n",
       "      <td>123</td>\n",
       "    </tr>\n",
       "    <tr>\n",
       "      <th>3</th>\n",
       "      <td>Totaal wegvoertuigen</td>\n",
       "      <td>Full elektric (BEV)</td>\n",
       "      <td>2007 april</td>\n",
       "      <td>62</td>\n",
       "    </tr>\n",
       "    <tr>\n",
       "      <th>4</th>\n",
       "      <td>Totaal wegvoertuigen</td>\n",
       "      <td>Full elektric (BEV)</td>\n",
       "      <td>2007 mei</td>\n",
       "      <td>84</td>\n",
       "    </tr>\n",
       "    <tr>\n",
       "      <th>...</th>\n",
       "      <td>...</td>\n",
       "      <td>...</td>\n",
       "      <td>...</td>\n",
       "      <td>...</td>\n",
       "    </tr>\n",
       "    <tr>\n",
       "      <th>214</th>\n",
       "      <td>Totaal wegvoertuigen</td>\n",
       "      <td>Full elektric (BEV)</td>\n",
       "      <td>2024 november*</td>\n",
       "      <td>32623</td>\n",
       "    </tr>\n",
       "    <tr>\n",
       "      <th>215</th>\n",
       "      <td>Totaal wegvoertuigen</td>\n",
       "      <td>Full elektric (BEV)</td>\n",
       "      <td>2024 december*</td>\n",
       "      <td>39594</td>\n",
       "    </tr>\n",
       "    <tr>\n",
       "      <th>216</th>\n",
       "      <td>Totaal wegvoertuigen</td>\n",
       "      <td>Full elektric (BEV)</td>\n",
       "      <td>2025 januari*</td>\n",
       "      <td>33680</td>\n",
       "    </tr>\n",
       "    <tr>\n",
       "      <th>217</th>\n",
       "      <td>Totaal wegvoertuigen</td>\n",
       "      <td>Full elektric (BEV)</td>\n",
       "      <td>2025 februari*</td>\n",
       "      <td>29071</td>\n",
       "    </tr>\n",
       "    <tr>\n",
       "      <th>218</th>\n",
       "      <td>Totaal wegvoertuigen</td>\n",
       "      <td>Full elektric (BEV)</td>\n",
       "      <td>2025 maart*</td>\n",
       "      <td>31118</td>\n",
       "    </tr>\n",
       "  </tbody>\n",
       "</table>\n",
       "<p>219 rows × 4 columns</p>\n",
       "</div>"
      ],
      "text/plain": [
       "            Wegvoertuigen Brandstofsoort voertuig        Perioden  \\\n",
       "0    Totaal wegvoertuigen     Full elektric (BEV)    2007 januari   \n",
       "1    Totaal wegvoertuigen     Full elektric (BEV)   2007 februari   \n",
       "2    Totaal wegvoertuigen     Full elektric (BEV)      2007 maart   \n",
       "3    Totaal wegvoertuigen     Full elektric (BEV)      2007 april   \n",
       "4    Totaal wegvoertuigen     Full elektric (BEV)        2007 mei   \n",
       "..                    ...                     ...             ...   \n",
       "214  Totaal wegvoertuigen     Full elektric (BEV)  2024 november*   \n",
       "215  Totaal wegvoertuigen     Full elektric (BEV)  2024 december*   \n",
       "216  Totaal wegvoertuigen     Full elektric (BEV)   2025 januari*   \n",
       "217  Totaal wegvoertuigen     Full elektric (BEV)  2025 februari*   \n",
       "218  Totaal wegvoertuigen     Full elektric (BEV)     2025 maart*   \n",
       "\n",
       "     Totaal verkochte wegvoertuigen (aantal)  \n",
       "0                                         31  \n",
       "1                                         39  \n",
       "2                                        123  \n",
       "3                                         62  \n",
       "4                                         84  \n",
       "..                                       ...  \n",
       "214                                    32623  \n",
       "215                                    39594  \n",
       "216                                    33680  \n",
       "217                                    29071  \n",
       "218                                    31118  \n",
       "\n",
       "[219 rows x 4 columns]"
      ]
     },
     "metadata": {},
     "output_type": "display_data"
    }
   ],
   "source": [
    "# Autoverkoop inladen\n",
    "df_wegvoertuigenRaw = pd.read_csv(\n",
    "    r\"E:\\Nieuw dataset\\Verkochte wegvoertuigen\\Verkochte_wegvoertuigen_Full elektric.csv\",\n",
    "    sep=\";\"\n",
    ")\n",
    "\n",
    "display(df_wegvoertuigenRaw)"
   ]
  },
  {
   "cell_type": "markdown",
   "id": "22edaa80",
   "metadata": {},
   "source": [
    ">Data opschonen en transformeren: Nederlandse naar Engelse maanden, periode-format, filtering, Mapping van Nederlandse naar Engelse maandnamen"
   ]
  },
  {
   "cell_type": "code",
   "execution_count": 4,
   "id": "5c70f41d",
   "metadata": {},
   "outputs": [
    {
     "data": {
      "application/vnd.microsoft.datawrangler.viewer.v0+json": {
       "columns": [
        {
         "name": "index",
         "rawType": "int64",
         "type": "integer"
        },
        {
         "name": "Periode",
         "rawType": "object",
         "type": "string"
        },
        {
         "name": "Totaal_verkochte_wegvoertuigen",
         "rawType": "int64",
         "type": "integer"
        }
       ],
       "conversionMethod": "pd.DataFrame",
       "ref": "b5d63136-5179-4e64-b48b-46e87742a75a",
       "rows": [
        [
         "0",
         "2007/01",
         "31"
        ],
        [
         "1",
         "2007/02",
         "39"
        ],
        [
         "2",
         "2007/03",
         "123"
        ],
        [
         "3",
         "2007/04",
         "62"
        ],
        [
         "4",
         "2007/05",
         "84"
        ],
        [
         "5",
         "2007/06",
         "112"
        ],
        [
         "6",
         "2007/07",
         "124"
        ],
        [
         "7",
         "2007/08",
         "96"
        ],
        [
         "8",
         "2007/09",
         "120"
        ],
        [
         "9",
         "2007/10",
         "77"
        ],
        [
         "10",
         "2007/11",
         "170"
        ],
        [
         "11",
         "2007/12",
         "79"
        ],
        [
         "12",
         "2008/01",
         "100"
        ],
        [
         "13",
         "2008/02",
         "111"
        ],
        [
         "14",
         "2008/03",
         "174"
        ],
        [
         "15",
         "2008/04",
         "192"
        ],
        [
         "16",
         "2008/05",
         "287"
        ],
        [
         "17",
         "2008/06",
         "364"
        ],
        [
         "18",
         "2008/07",
         "365"
        ],
        [
         "19",
         "2008/08",
         "263"
        ],
        [
         "20",
         "2008/09",
         "298"
        ],
        [
         "21",
         "2008/10",
         "366"
        ],
        [
         "22",
         "2008/11",
         "250"
        ],
        [
         "23",
         "2008/12",
         "202"
        ],
        [
         "24",
         "2009/01",
         "168"
        ],
        [
         "25",
         "2009/02",
         "246"
        ],
        [
         "26",
         "2009/03",
         "287"
        ],
        [
         "27",
         "2009/04",
         "434"
        ],
        [
         "28",
         "2009/05",
         "433"
        ],
        [
         "29",
         "2009/06",
         "522"
        ],
        [
         "30",
         "2009/07",
         "575"
        ],
        [
         "31",
         "2009/08",
         "515"
        ],
        [
         "32",
         "2009/09",
         "474"
        ],
        [
         "33",
         "2009/10",
         "457"
        ],
        [
         "34",
         "2009/11",
         "398"
        ],
        [
         "35",
         "2009/12",
         "287"
        ],
        [
         "36",
         "2010/01",
         "248"
        ],
        [
         "37",
         "2010/02",
         "318"
        ],
        [
         "38",
         "2010/03",
         "518"
        ],
        [
         "39",
         "2010/04",
         "774"
        ],
        [
         "40",
         "2010/05",
         "663"
        ],
        [
         "41",
         "2010/06",
         "774"
        ],
        [
         "42",
         "2010/07",
         "986"
        ],
        [
         "43",
         "2010/08",
         "616"
        ],
        [
         "44",
         "2010/09",
         "530"
        ],
        [
         "45",
         "2010/10",
         "411"
        ],
        [
         "46",
         "2010/11",
         "402"
        ],
        [
         "47",
         "2010/12",
         "224"
        ],
        [
         "48",
         "2011/01",
         "365"
        ],
        [
         "49",
         "2011/02",
         "427"
        ]
       ],
       "shape": {
        "columns": 2,
        "rows": 219
       }
      },
      "text/html": [
       "<div>\n",
       "<style scoped>\n",
       "    .dataframe tbody tr th:only-of-type {\n",
       "        vertical-align: middle;\n",
       "    }\n",
       "\n",
       "    .dataframe tbody tr th {\n",
       "        vertical-align: top;\n",
       "    }\n",
       "\n",
       "    .dataframe thead th {\n",
       "        text-align: right;\n",
       "    }\n",
       "</style>\n",
       "<table border=\"1\" class=\"dataframe\">\n",
       "  <thead>\n",
       "    <tr style=\"text-align: right;\">\n",
       "      <th></th>\n",
       "      <th>Periode</th>\n",
       "      <th>Totaal_verkochte_wegvoertuigen</th>\n",
       "    </tr>\n",
       "  </thead>\n",
       "  <tbody>\n",
       "    <tr>\n",
       "      <th>0</th>\n",
       "      <td>2007/01</td>\n",
       "      <td>31</td>\n",
       "    </tr>\n",
       "    <tr>\n",
       "      <th>1</th>\n",
       "      <td>2007/02</td>\n",
       "      <td>39</td>\n",
       "    </tr>\n",
       "    <tr>\n",
       "      <th>2</th>\n",
       "      <td>2007/03</td>\n",
       "      <td>123</td>\n",
       "    </tr>\n",
       "    <tr>\n",
       "      <th>3</th>\n",
       "      <td>2007/04</td>\n",
       "      <td>62</td>\n",
       "    </tr>\n",
       "    <tr>\n",
       "      <th>4</th>\n",
       "      <td>2007/05</td>\n",
       "      <td>84</td>\n",
       "    </tr>\n",
       "    <tr>\n",
       "      <th>...</th>\n",
       "      <td>...</td>\n",
       "      <td>...</td>\n",
       "    </tr>\n",
       "    <tr>\n",
       "      <th>214</th>\n",
       "      <td>2024/11</td>\n",
       "      <td>32623</td>\n",
       "    </tr>\n",
       "    <tr>\n",
       "      <th>215</th>\n",
       "      <td>2024/12</td>\n",
       "      <td>39594</td>\n",
       "    </tr>\n",
       "    <tr>\n",
       "      <th>216</th>\n",
       "      <td>2025/01</td>\n",
       "      <td>33680</td>\n",
       "    </tr>\n",
       "    <tr>\n",
       "      <th>217</th>\n",
       "      <td>2025/02</td>\n",
       "      <td>29071</td>\n",
       "    </tr>\n",
       "    <tr>\n",
       "      <th>218</th>\n",
       "      <td>2025/03</td>\n",
       "      <td>31118</td>\n",
       "    </tr>\n",
       "  </tbody>\n",
       "</table>\n",
       "<p>219 rows × 2 columns</p>\n",
       "</div>"
      ],
      "text/plain": [
       "     Periode  Totaal_verkochte_wegvoertuigen\n",
       "0    2007/01                              31\n",
       "1    2007/02                              39\n",
       "2    2007/03                             123\n",
       "3    2007/04                              62\n",
       "4    2007/05                              84\n",
       "..       ...                             ...\n",
       "214  2024/11                           32623\n",
       "215  2024/12                           39594\n",
       "216  2025/01                           33680\n",
       "217  2025/02                           29071\n",
       "218  2025/03                           31118\n",
       "\n",
       "[219 rows x 2 columns]"
      ]
     },
     "metadata": {},
     "output_type": "display_data"
    }
   ],
   "source": [
    "maand_mapping = {\n",
    "    'januari': 'January',\n",
    "    'februari': 'February',\n",
    "    'maart': 'March',\n",
    "    'april': 'April',\n",
    "    'mei': 'May',\n",
    "    'juni': 'June',\n",
    "    'juli': 'July',\n",
    "    'augustus': 'August',\n",
    "    'september': 'September',\n",
    "    'oktober': 'October',\n",
    "    'november': 'November',\n",
    "    'december': 'December'\n",
    "}\n",
    "\n",
    "# 1. Sterretjes verwijderen\n",
    "df_wegvoertuigenRaw['Perioden'] = df_wegvoertuigenRaw['Perioden'].str.replace('*', '', regex=False).str.strip()\n",
    "\n",
    "# 2. Nederlandse maandnamen vervangen door Engelse\n",
    "for nl, eng in maand_mapping.items():\n",
    "    df_wegvoertuigenRaw['Perioden'] = df_wegvoertuigenRaw['Perioden'].str.replace(nl, eng, regex=False)\n",
    "\n",
    "# 3. Periode omzetten naar datetime\n",
    "df_wegvoertuigenRaw['Periode'] = pd.to_datetime(df_wegvoertuigenRaw['Perioden'], format='%Y %B', errors='coerce')\n",
    "\n",
    "# 4. Omzetten naar YYYY/MM string\n",
    "df_wegvoertuigenRaw['Periode'] = df_wegvoertuigenRaw['Periode'].dt.strftime('%Y/%m')\n",
    "\n",
    "# 5. Alleen relevante kolommen behouden\n",
    "df_wegvoertuigen = df_wegvoertuigenRaw[['Periode', 'Totaal verkochte wegvoertuigen (aantal)']]\n",
    "\n",
    "# 5b. Filter op periode 2015/01 t/m 2025/03\n",
    "df_wegvoertuigen = df_wegvoertuigen[\n",
    "    (df_wegvoertuigen['Periode'] >= '2007/01') & \n",
    "    (df_wegvoertuigen['Periode'] <= '2025/03')\n",
    "]\n",
    "\n",
    "# 6. Kolom hernoemen\n",
    "df_wegvoertuigen.rename(columns={'Totaal verkochte wegvoertuigen (aantal)': 'Totaal_verkochte_wegvoertuigen'}, inplace=True)\n",
    "\n",
    "# 7. Resultaat bekijken\n",
    "display(df_wegvoertuigen)\n"
   ]
  },
  {
   "cell_type": "markdown",
   "id": "ef7c7eaf",
   "metadata": {},
   "source": [
    "> Opslaan als CSV"
   ]
  },
  {
   "cell_type": "code",
   "execution_count": 42,
   "id": "c67223f4",
   "metadata": {},
   "outputs": [
    {
     "name": "stdout",
     "output_type": "stream",
     "text": [
      "CSV opgeslagen op: E:\\Nieuw dataset\\Verkochte wegvoertuigen\\df_wegvoertuigen_2007.csv\n"
     ]
    }
   ],
   "source": [
    "# Opslaan als CSV\n",
    "output_path = r\"E:\\Nieuw dataset\\Verkochte wegvoertuigen\\df_wegvoertuigen_2007.csv\"\n",
    "df_wegvoertuigen.to_csv(output_path, index=False)\n",
    "\n",
    "# Pad van de nieuwe CSV printen\n",
    "print(f\"CSV opgeslagen op: {output_path}\")"
   ]
  },
  {
   "cell_type": "markdown",
   "id": "bb4e2b4b",
   "metadata": {},
   "source": [
    "## Google trends:"
   ]
  },
  {
   "cell_type": "markdown",
   "id": "447b546a",
   "metadata": {},
   "source": [
    "extracted from https://trends.google.com/trends/explore?cat=47&date=all&geo=NL&q=EV,subsidie%20elektrische%20auto,elektrische%20auto,elektrisch%20rijden"
   ]
  },
  {
   "cell_type": "code",
   "execution_count": 75,
   "id": "fe7eae87",
   "metadata": {},
   "outputs": [
    {
     "data": {
      "application/vnd.microsoft.datawrangler.viewer.v0+json": {
       "columns": [
        {
         "name": "index",
         "rawType": "int64",
         "type": "integer"
        },
        {
         "name": "Maand",
         "rawType": "object",
         "type": "string"
        },
        {
         "name": "EV: (Nederland)",
         "rawType": "int64",
         "type": "integer"
        },
        {
         "name": "subsidie elektrische auto: (Nederland)",
         "rawType": "int64",
         "type": "integer"
        },
        {
         "name": "elektrische auto: (Nederland)",
         "rawType": "int64",
         "type": "integer"
        },
        {
         "name": "elektrisch rijden: (Nederland)",
         "rawType": "int64",
         "type": "integer"
        }
       ],
       "conversionMethod": "pd.DataFrame",
       "ref": "49be93a0-5102-4dd7-8dfb-087c6e162a80",
       "rows": [
        [
         "0",
         "2004-01",
         "0",
         "0",
         "0",
         "0"
        ],
        [
         "1",
         "2004-02",
         "0",
         "0",
         "0",
         "0"
        ],
        [
         "2",
         "2004-03",
         "0",
         "0",
         "0",
         "0"
        ],
        [
         "3",
         "2004-04",
         "0",
         "0",
         "0",
         "0"
        ],
        [
         "4",
         "2004-05",
         "0",
         "0",
         "0",
         "0"
        ],
        [
         "5",
         "2004-06",
         "0",
         "0",
         "0",
         "0"
        ],
        [
         "6",
         "2004-07",
         "0",
         "0",
         "0",
         "0"
        ],
        [
         "7",
         "2004-08",
         "0",
         "0",
         "0",
         "0"
        ],
        [
         "8",
         "2004-09",
         "0",
         "0",
         "0",
         "0"
        ],
        [
         "9",
         "2004-10",
         "0",
         "0",
         "0",
         "0"
        ],
        [
         "10",
         "2004-11",
         "0",
         "0",
         "0",
         "0"
        ],
        [
         "11",
         "2004-12",
         "0",
         "0",
         "0",
         "0"
        ],
        [
         "12",
         "2005-01",
         "0",
         "0",
         "0",
         "0"
        ],
        [
         "13",
         "2005-02",
         "0",
         "0",
         "0",
         "0"
        ],
        [
         "14",
         "2005-03",
         "0",
         "0",
         "0",
         "0"
        ],
        [
         "15",
         "2005-04",
         "0",
         "0",
         "0",
         "0"
        ],
        [
         "16",
         "2005-05",
         "0",
         "0",
         "0",
         "0"
        ],
        [
         "17",
         "2005-06",
         "0",
         "0",
         "0",
         "0"
        ],
        [
         "18",
         "2005-07",
         "0",
         "0",
         "0",
         "0"
        ],
        [
         "19",
         "2005-08",
         "0",
         "0",
         "0",
         "0"
        ],
        [
         "20",
         "2005-09",
         "0",
         "0",
         "0",
         "0"
        ],
        [
         "21",
         "2005-10",
         "0",
         "0",
         "0",
         "0"
        ],
        [
         "22",
         "2005-11",
         "0",
         "0",
         "0",
         "0"
        ],
        [
         "23",
         "2005-12",
         "0",
         "0",
         "0",
         "0"
        ],
        [
         "24",
         "2006-01",
         "0",
         "0",
         "0",
         "0"
        ],
        [
         "25",
         "2006-02",
         "0",
         "0",
         "0",
         "0"
        ],
        [
         "26",
         "2006-03",
         "0",
         "0",
         "0",
         "0"
        ],
        [
         "27",
         "2006-04",
         "0",
         "0",
         "0",
         "0"
        ],
        [
         "28",
         "2006-05",
         "0",
         "0",
         "0",
         "0"
        ],
        [
         "29",
         "2006-06",
         "0",
         "0",
         "0",
         "0"
        ],
        [
         "30",
         "2006-07",
         "0",
         "0",
         "0",
         "0"
        ],
        [
         "31",
         "2006-08",
         "0",
         "0",
         "0",
         "0"
        ],
        [
         "32",
         "2006-09",
         "0",
         "0",
         "0",
         "0"
        ],
        [
         "33",
         "2006-10",
         "0",
         "0",
         "0",
         "0"
        ],
        [
         "34",
         "2006-11",
         "0",
         "0",
         "0",
         "0"
        ],
        [
         "35",
         "2006-12",
         "0",
         "0",
         "0",
         "0"
        ],
        [
         "36",
         "2007-01",
         "0",
         "0",
         "0",
         "0"
        ],
        [
         "37",
         "2007-02",
         "0",
         "0",
         "0",
         "0"
        ],
        [
         "38",
         "2007-03",
         "0",
         "0",
         "0",
         "0"
        ],
        [
         "39",
         "2007-04",
         "0",
         "0",
         "0",
         "0"
        ],
        [
         "40",
         "2007-05",
         "0",
         "0",
         "0",
         "0"
        ],
        [
         "41",
         "2007-06",
         "0",
         "0",
         "0",
         "0"
        ],
        [
         "42",
         "2007-07",
         "0",
         "0",
         "0",
         "0"
        ],
        [
         "43",
         "2007-08",
         "0",
         "0",
         "0",
         "0"
        ],
        [
         "44",
         "2007-09",
         "3",
         "0",
         "0",
         "0"
        ],
        [
         "45",
         "2007-10",
         "0",
         "0",
         "0",
         "0"
        ],
        [
         "46",
         "2007-11",
         "0",
         "0",
         "0",
         "0"
        ],
        [
         "47",
         "2007-12",
         "0",
         "0",
         "0",
         "0"
        ],
        [
         "48",
         "2008-01",
         "2",
         "0",
         "0",
         "0"
        ],
        [
         "49",
         "2008-02",
         "0",
         "0",
         "0",
         "0"
        ]
       ],
       "shape": {
        "columns": 5,
        "rows": 257
       }
      },
      "text/html": [
       "<div>\n",
       "<style scoped>\n",
       "    .dataframe tbody tr th:only-of-type {\n",
       "        vertical-align: middle;\n",
       "    }\n",
       "\n",
       "    .dataframe tbody tr th {\n",
       "        vertical-align: top;\n",
       "    }\n",
       "\n",
       "    .dataframe thead th {\n",
       "        text-align: right;\n",
       "    }\n",
       "</style>\n",
       "<table border=\"1\" class=\"dataframe\">\n",
       "  <thead>\n",
       "    <tr style=\"text-align: right;\">\n",
       "      <th></th>\n",
       "      <th>Maand</th>\n",
       "      <th>EV: (Nederland)</th>\n",
       "      <th>subsidie elektrische auto: (Nederland)</th>\n",
       "      <th>elektrische auto: (Nederland)</th>\n",
       "      <th>elektrisch rijden: (Nederland)</th>\n",
       "    </tr>\n",
       "  </thead>\n",
       "  <tbody>\n",
       "    <tr>\n",
       "      <th>0</th>\n",
       "      <td>2004-01</td>\n",
       "      <td>0</td>\n",
       "      <td>0</td>\n",
       "      <td>0</td>\n",
       "      <td>0</td>\n",
       "    </tr>\n",
       "    <tr>\n",
       "      <th>1</th>\n",
       "      <td>2004-02</td>\n",
       "      <td>0</td>\n",
       "      <td>0</td>\n",
       "      <td>0</td>\n",
       "      <td>0</td>\n",
       "    </tr>\n",
       "    <tr>\n",
       "      <th>2</th>\n",
       "      <td>2004-03</td>\n",
       "      <td>0</td>\n",
       "      <td>0</td>\n",
       "      <td>0</td>\n",
       "      <td>0</td>\n",
       "    </tr>\n",
       "    <tr>\n",
       "      <th>3</th>\n",
       "      <td>2004-04</td>\n",
       "      <td>0</td>\n",
       "      <td>0</td>\n",
       "      <td>0</td>\n",
       "      <td>0</td>\n",
       "    </tr>\n",
       "    <tr>\n",
       "      <th>4</th>\n",
       "      <td>2004-05</td>\n",
       "      <td>0</td>\n",
       "      <td>0</td>\n",
       "      <td>0</td>\n",
       "      <td>0</td>\n",
       "    </tr>\n",
       "    <tr>\n",
       "      <th>...</th>\n",
       "      <td>...</td>\n",
       "      <td>...</td>\n",
       "      <td>...</td>\n",
       "      <td>...</td>\n",
       "      <td>...</td>\n",
       "    </tr>\n",
       "    <tr>\n",
       "      <th>252</th>\n",
       "      <td>2025-01</td>\n",
       "      <td>45</td>\n",
       "      <td>4</td>\n",
       "      <td>47</td>\n",
       "      <td>4</td>\n",
       "    </tr>\n",
       "    <tr>\n",
       "      <th>253</th>\n",
       "      <td>2025-02</td>\n",
       "      <td>45</td>\n",
       "      <td>2</td>\n",
       "      <td>42</td>\n",
       "      <td>4</td>\n",
       "    </tr>\n",
       "    <tr>\n",
       "      <th>254</th>\n",
       "      <td>2025-03</td>\n",
       "      <td>44</td>\n",
       "      <td>2</td>\n",
       "      <td>41</td>\n",
       "      <td>4</td>\n",
       "    </tr>\n",
       "    <tr>\n",
       "      <th>255</th>\n",
       "      <td>2025-04</td>\n",
       "      <td>41</td>\n",
       "      <td>3</td>\n",
       "      <td>43</td>\n",
       "      <td>7</td>\n",
       "    </tr>\n",
       "    <tr>\n",
       "      <th>256</th>\n",
       "      <td>2025-05</td>\n",
       "      <td>43</td>\n",
       "      <td>2</td>\n",
       "      <td>40</td>\n",
       "      <td>3</td>\n",
       "    </tr>\n",
       "  </tbody>\n",
       "</table>\n",
       "<p>257 rows × 5 columns</p>\n",
       "</div>"
      ],
      "text/plain": [
       "       Maand  EV: (Nederland)  subsidie elektrische auto: (Nederland)  \\\n",
       "0    2004-01                0                                       0   \n",
       "1    2004-02                0                                       0   \n",
       "2    2004-03                0                                       0   \n",
       "3    2004-04                0                                       0   \n",
       "4    2004-05                0                                       0   \n",
       "..       ...              ...                                     ...   \n",
       "252  2025-01               45                                       4   \n",
       "253  2025-02               45                                       2   \n",
       "254  2025-03               44                                       2   \n",
       "255  2025-04               41                                       3   \n",
       "256  2025-05               43                                       2   \n",
       "\n",
       "     elektrische auto: (Nederland)  elektrisch rijden: (Nederland)  \n",
       "0                                0                               0  \n",
       "1                                0                               0  \n",
       "2                                0                               0  \n",
       "3                                0                               0  \n",
       "4                                0                               0  \n",
       "..                             ...                             ...  \n",
       "252                             47                               4  \n",
       "253                             42                               4  \n",
       "254                             41                               4  \n",
       "255                             43                               7  \n",
       "256                             40                               3  \n",
       "\n",
       "[257 rows x 5 columns]"
      ]
     },
     "metadata": {},
     "output_type": "display_data"
    }
   ],
   "source": [
    "# Autoverkoop inladen\n",
    "df_trends_Raw = pd.read_csv(\n",
    "    r\"E:\\Nieuw dataset\\Google trends\\GoogleTrends_EV_Zoektermen_NL_2004heden.csv.\",\n",
    "    sep=\",\"\n",
    ")\n",
    "\n",
    "display(df_trends_Raw)"
   ]
  },
  {
   "cell_type": "code",
   "execution_count": 43,
   "id": "e686f1d2",
   "metadata": {},
   "outputs": [
    {
     "name": "stdout",
     "output_type": "stream",
     "text": [
      "Index(['Periode', 'EV: (Nederland)', 'subsidie elektrische auto: (Nederland)',\n",
      "       'elektrische auto: (Nederland)', 'elektrisch rijden: (Nederland)'],\n",
      "      dtype='object')\n"
     ]
    }
   ],
   "source": [
    "print(df_trends_Raw.columns)"
   ]
  },
  {
   "cell_type": "code",
   "execution_count": 76,
   "id": "31fe856f",
   "metadata": {},
   "outputs": [
    {
     "data": {
      "application/vnd.microsoft.datawrangler.viewer.v0+json": {
       "columns": [
        {
         "name": "index",
         "rawType": "int64",
         "type": "integer"
        },
        {
         "name": "Periode",
         "rawType": "object",
         "type": "string"
        },
        {
         "name": "EV: (Nederland)",
         "rawType": "int64",
         "type": "integer"
        },
        {
         "name": "subsidie elektrische auto: (Nederland)",
         "rawType": "int64",
         "type": "integer"
        },
        {
         "name": "elektrische auto: (Nederland)",
         "rawType": "int64",
         "type": "integer"
        },
        {
         "name": "elektrisch rijden: (Nederland)",
         "rawType": "int64",
         "type": "integer"
        }
       ],
       "conversionMethod": "pd.DataFrame",
       "ref": "c968d7b2-66e1-4358-b92b-33ef7552a560",
       "rows": [
        [
         "36",
         "2007/01",
         "0",
         "0",
         "0",
         "0"
        ],
        [
         "37",
         "2007/02",
         "0",
         "0",
         "0",
         "0"
        ],
        [
         "38",
         "2007/03",
         "0",
         "0",
         "0",
         "0"
        ],
        [
         "39",
         "2007/04",
         "0",
         "0",
         "0",
         "0"
        ],
        [
         "40",
         "2007/05",
         "0",
         "0",
         "0",
         "0"
        ],
        [
         "41",
         "2007/06",
         "0",
         "0",
         "0",
         "0"
        ],
        [
         "42",
         "2007/07",
         "0",
         "0",
         "0",
         "0"
        ],
        [
         "43",
         "2007/08",
         "0",
         "0",
         "0",
         "0"
        ],
        [
         "44",
         "2007/09",
         "3",
         "0",
         "0",
         "0"
        ],
        [
         "45",
         "2007/10",
         "0",
         "0",
         "0",
         "0"
        ],
        [
         "46",
         "2007/11",
         "0",
         "0",
         "0",
         "0"
        ],
        [
         "47",
         "2007/12",
         "0",
         "0",
         "0",
         "0"
        ],
        [
         "48",
         "2008/01",
         "2",
         "0",
         "0",
         "0"
        ],
        [
         "49",
         "2008/02",
         "0",
         "0",
         "0",
         "0"
        ],
        [
         "50",
         "2008/03",
         "0",
         "0",
         "2",
         "0"
        ],
        [
         "51",
         "2008/04",
         "0",
         "0",
         "0",
         "0"
        ],
        [
         "52",
         "2008/05",
         "0",
         "0",
         "3",
         "0"
        ],
        [
         "53",
         "2008/06",
         "0",
         "0",
         "4",
         "0"
        ],
        [
         "54",
         "2008/07",
         "0",
         "0",
         "3",
         "0"
        ],
        [
         "55",
         "2008/08",
         "0",
         "0",
         "3",
         "0"
        ],
        [
         "56",
         "2008/09",
         "0",
         "0",
         "3",
         "0"
        ],
        [
         "57",
         "2008/10",
         "3",
         "0",
         "4",
         "0"
        ],
        [
         "58",
         "2008/11",
         "3",
         "0",
         "5",
         "0"
        ],
        [
         "59",
         "2008/12",
         "0",
         "0",
         "0",
         "0"
        ],
        [
         "60",
         "2009/01",
         "3",
         "0",
         "3",
         "0"
        ],
        [
         "61",
         "2009/02",
         "3",
         "0",
         "4",
         "0"
        ],
        [
         "62",
         "2009/03",
         "2",
         "0",
         "4",
         "0"
        ],
        [
         "63",
         "2009/04",
         "3",
         "0",
         "6",
         "0"
        ],
        [
         "64",
         "2009/05",
         "0",
         "0",
         "5",
         "0"
        ],
        [
         "65",
         "2009/06",
         "2",
         "0",
         "3",
         "0"
        ],
        [
         "66",
         "2009/07",
         "3",
         "0",
         "6",
         "0"
        ],
        [
         "67",
         "2009/08",
         "3",
         "0",
         "4",
         "0"
        ],
        [
         "68",
         "2009/09",
         "3",
         "0",
         "8",
         "0"
        ],
        [
         "69",
         "2009/10",
         "2",
         "0",
         "7",
         "0"
        ],
        [
         "70",
         "2009/11",
         "2",
         "0",
         "7",
         "0"
        ],
        [
         "71",
         "2009/12",
         "2",
         "0",
         "6",
         "0"
        ],
        [
         "72",
         "2010/01",
         "3",
         "0",
         "8",
         "0"
        ],
        [
         "73",
         "2010/02",
         "3",
         "0",
         "4",
         "0"
        ],
        [
         "74",
         "2010/03",
         "3",
         "0",
         "6",
         "0"
        ],
        [
         "75",
         "2010/04",
         "2",
         "0",
         "9",
         "0"
        ],
        [
         "76",
         "2010/05",
         "3",
         "0",
         "5",
         "0"
        ],
        [
         "77",
         "2010/06",
         "2",
         "0",
         "5",
         "0"
        ],
        [
         "78",
         "2010/07",
         "3",
         "0",
         "4",
         "0"
        ],
        [
         "79",
         "2010/08",
         "3",
         "0",
         "6",
         "0"
        ],
        [
         "80",
         "2010/09",
         "2",
         "0",
         "4",
         "0"
        ],
        [
         "81",
         "2010/10",
         "2",
         "0",
         "5",
         "0"
        ],
        [
         "82",
         "2010/11",
         "2",
         "1",
         "6",
         "0"
        ],
        [
         "83",
         "2010/12",
         "2",
         "0",
         "6",
         "0"
        ],
        [
         "84",
         "2011/01",
         "2",
         "0",
         "8",
         "2"
        ],
        [
         "85",
         "2011/02",
         "2",
         "0",
         "8",
         "0"
        ]
       ],
       "shape": {
        "columns": 5,
        "rows": 219
       }
      },
      "text/html": [
       "<div>\n",
       "<style scoped>\n",
       "    .dataframe tbody tr th:only-of-type {\n",
       "        vertical-align: middle;\n",
       "    }\n",
       "\n",
       "    .dataframe tbody tr th {\n",
       "        vertical-align: top;\n",
       "    }\n",
       "\n",
       "    .dataframe thead th {\n",
       "        text-align: right;\n",
       "    }\n",
       "</style>\n",
       "<table border=\"1\" class=\"dataframe\">\n",
       "  <thead>\n",
       "    <tr style=\"text-align: right;\">\n",
       "      <th></th>\n",
       "      <th>Periode</th>\n",
       "      <th>EV: (Nederland)</th>\n",
       "      <th>subsidie elektrische auto: (Nederland)</th>\n",
       "      <th>elektrische auto: (Nederland)</th>\n",
       "      <th>elektrisch rijden: (Nederland)</th>\n",
       "    </tr>\n",
       "  </thead>\n",
       "  <tbody>\n",
       "    <tr>\n",
       "      <th>36</th>\n",
       "      <td>2007/01</td>\n",
       "      <td>0</td>\n",
       "      <td>0</td>\n",
       "      <td>0</td>\n",
       "      <td>0</td>\n",
       "    </tr>\n",
       "    <tr>\n",
       "      <th>37</th>\n",
       "      <td>2007/02</td>\n",
       "      <td>0</td>\n",
       "      <td>0</td>\n",
       "      <td>0</td>\n",
       "      <td>0</td>\n",
       "    </tr>\n",
       "    <tr>\n",
       "      <th>38</th>\n",
       "      <td>2007/03</td>\n",
       "      <td>0</td>\n",
       "      <td>0</td>\n",
       "      <td>0</td>\n",
       "      <td>0</td>\n",
       "    </tr>\n",
       "    <tr>\n",
       "      <th>39</th>\n",
       "      <td>2007/04</td>\n",
       "      <td>0</td>\n",
       "      <td>0</td>\n",
       "      <td>0</td>\n",
       "      <td>0</td>\n",
       "    </tr>\n",
       "    <tr>\n",
       "      <th>40</th>\n",
       "      <td>2007/05</td>\n",
       "      <td>0</td>\n",
       "      <td>0</td>\n",
       "      <td>0</td>\n",
       "      <td>0</td>\n",
       "    </tr>\n",
       "    <tr>\n",
       "      <th>...</th>\n",
       "      <td>...</td>\n",
       "      <td>...</td>\n",
       "      <td>...</td>\n",
       "      <td>...</td>\n",
       "      <td>...</td>\n",
       "    </tr>\n",
       "    <tr>\n",
       "      <th>250</th>\n",
       "      <td>2024/11</td>\n",
       "      <td>47</td>\n",
       "      <td>14</td>\n",
       "      <td>58</td>\n",
       "      <td>4</td>\n",
       "    </tr>\n",
       "    <tr>\n",
       "      <th>251</th>\n",
       "      <td>2024/12</td>\n",
       "      <td>42</td>\n",
       "      <td>11</td>\n",
       "      <td>57</td>\n",
       "      <td>6</td>\n",
       "    </tr>\n",
       "    <tr>\n",
       "      <th>252</th>\n",
       "      <td>2025/01</td>\n",
       "      <td>45</td>\n",
       "      <td>4</td>\n",
       "      <td>47</td>\n",
       "      <td>4</td>\n",
       "    </tr>\n",
       "    <tr>\n",
       "      <th>253</th>\n",
       "      <td>2025/02</td>\n",
       "      <td>45</td>\n",
       "      <td>2</td>\n",
       "      <td>42</td>\n",
       "      <td>4</td>\n",
       "    </tr>\n",
       "    <tr>\n",
       "      <th>254</th>\n",
       "      <td>2025/03</td>\n",
       "      <td>44</td>\n",
       "      <td>2</td>\n",
       "      <td>41</td>\n",
       "      <td>4</td>\n",
       "    </tr>\n",
       "  </tbody>\n",
       "</table>\n",
       "<p>219 rows × 5 columns</p>\n",
       "</div>"
      ],
      "text/plain": [
       "     Periode  EV: (Nederland)  subsidie elektrische auto: (Nederland)  \\\n",
       "36   2007/01                0                                       0   \n",
       "37   2007/02                0                                       0   \n",
       "38   2007/03                0                                       0   \n",
       "39   2007/04                0                                       0   \n",
       "40   2007/05                0                                       0   \n",
       "..       ...              ...                                     ...   \n",
       "250  2024/11               47                                      14   \n",
       "251  2024/12               42                                      11   \n",
       "252  2025/01               45                                       4   \n",
       "253  2025/02               45                                       2   \n",
       "254  2025/03               44                                       2   \n",
       "\n",
       "     elektrische auto: (Nederland)  elektrisch rijden: (Nederland)  \n",
       "36                               0                               0  \n",
       "37                               0                               0  \n",
       "38                               0                               0  \n",
       "39                               0                               0  \n",
       "40                               0                               0  \n",
       "..                             ...                             ...  \n",
       "250                             58                               4  \n",
       "251                             57                               6  \n",
       "252                             47                               4  \n",
       "253                             42                               4  \n",
       "254                             41                               4  \n",
       "\n",
       "[219 rows x 5 columns]"
      ]
     },
     "metadata": {},
     "output_type": "display_data"
    }
   ],
   "source": [
    "\n",
    "\n",
    "# 6. Kolom hernoemen\n",
    "df_trends_Raw.rename(columns={'Maand': 'Periode'}, inplace=True)\n",
    "\n",
    "\n",
    "df_trends_Raw['Periode'] = pd.to_datetime(df_trends_Raw['Periode'], format='%Y-%m', errors='coerce')\n",
    "df_trends_Raw['Periode'] = df_trends_Raw['Periode'].dt.strftime('%Y/%m')\n",
    "\n",
    "\n",
    "\n",
    "# 5b. Filter op periode 2007/01 t/m 2025/03\n",
    "df_trends_Raw = df_trends_Raw[\n",
    "    (df_trends_Raw['Periode'] >= '2007/01') & \n",
    "    (df_trends_Raw['Periode'] <= '2025/03') \n",
    "\n",
    "]\n",
    "df_trends = df_trends_Raw[['Periode', 'EV: (Nederland)', 'subsidie elektrische auto: (Nederland)',\n",
    "       'elektrische auto: (Nederland)', 'elektrisch rijden: (Nederland)']] \n",
    "\n",
    "\n",
    "# 7. Resultaat bekijken\n",
    "display(df_trends)"
   ]
  },
  {
   "cell_type": "code",
   "execution_count": 49,
   "id": "173faa0d",
   "metadata": {},
   "outputs": [
    {
     "name": "stdout",
     "output_type": "stream",
     "text": [
      "CSV opgeslagen op: E:\\Nieuw dataset\\Google trends\\Trends_EV_Zoektermen_NL_2007heden.csv\n"
     ]
    }
   ],
   "source": [
    "# Opslaan als CSV\n",
    "output_path = r\"E:\\Nieuw dataset\\Google trends\\Trends_EV_Zoektermen_NL_2007heden.csv\"\n",
    "df_trends_Raw.to_csv(output_path, index=False)\n",
    "\n",
    "# Pad van de nieuwe CSV printen\n",
    "print(f\"CSV opgeslagen op: {output_path}\")"
   ]
  },
  {
   "cell_type": "code",
   "execution_count": 77,
   "id": "743787e4",
   "metadata": {},
   "outputs": [
    {
     "data": {
      "application/vnd.microsoft.datawrangler.viewer.v0+json": {
       "columns": [
        {
         "name": "index",
         "rawType": "int64",
         "type": "integer"
        },
        {
         "name": "Periode",
         "rawType": "object",
         "type": "string"
        },
        {
         "name": "EV: (Nederland)",
         "rawType": "int64",
         "type": "integer"
        },
        {
         "name": "subsidie elektrische auto: (Nederland)",
         "rawType": "int64",
         "type": "integer"
        },
        {
         "name": "elektrische auto: (Nederland)",
         "rawType": "int64",
         "type": "integer"
        },
        {
         "name": "elektrisch rijden: (Nederland)",
         "rawType": "int64",
         "type": "integer"
        }
       ],
       "conversionMethod": "pd.DataFrame",
       "ref": "33e8a7b4-30f7-4b20-bdae-032c52d1c41b",
       "rows": [
        [
         "0",
         "2007/01",
         "0",
         "0",
         "0",
         "0"
        ],
        [
         "1",
         "2007/02",
         "0",
         "0",
         "0",
         "0"
        ],
        [
         "2",
         "2007/03",
         "0",
         "0",
         "0",
         "0"
        ],
        [
         "3",
         "2007/04",
         "0",
         "0",
         "0",
         "0"
        ],
        [
         "4",
         "2007/05",
         "0",
         "0",
         "0",
         "0"
        ],
        [
         "5",
         "2007/06",
         "0",
         "0",
         "0",
         "0"
        ],
        [
         "6",
         "2007/07",
         "0",
         "0",
         "0",
         "0"
        ],
        [
         "7",
         "2007/08",
         "0",
         "0",
         "0",
         "0"
        ],
        [
         "8",
         "2007/09",
         "3",
         "0",
         "0",
         "0"
        ],
        [
         "9",
         "2007/10",
         "0",
         "0",
         "0",
         "0"
        ],
        [
         "10",
         "2007/11",
         "0",
         "0",
         "0",
         "0"
        ],
        [
         "11",
         "2007/12",
         "0",
         "0",
         "0",
         "0"
        ],
        [
         "12",
         "2008/01",
         "2",
         "0",
         "0",
         "0"
        ],
        [
         "13",
         "2008/02",
         "0",
         "0",
         "0",
         "0"
        ],
        [
         "14",
         "2008/03",
         "0",
         "0",
         "2",
         "0"
        ],
        [
         "15",
         "2008/04",
         "0",
         "0",
         "0",
         "0"
        ],
        [
         "16",
         "2008/05",
         "0",
         "0",
         "3",
         "0"
        ],
        [
         "17",
         "2008/06",
         "0",
         "0",
         "4",
         "0"
        ],
        [
         "18",
         "2008/07",
         "0",
         "0",
         "3",
         "0"
        ],
        [
         "19",
         "2008/08",
         "0",
         "0",
         "3",
         "0"
        ],
        [
         "20",
         "2008/09",
         "0",
         "0",
         "3",
         "0"
        ],
        [
         "21",
         "2008/10",
         "3",
         "0",
         "4",
         "0"
        ],
        [
         "22",
         "2008/11",
         "3",
         "0",
         "5",
         "0"
        ],
        [
         "23",
         "2008/12",
         "0",
         "0",
         "0",
         "0"
        ],
        [
         "24",
         "2009/01",
         "3",
         "0",
         "3",
         "0"
        ],
        [
         "25",
         "2009/02",
         "3",
         "0",
         "4",
         "0"
        ],
        [
         "26",
         "2009/03",
         "2",
         "0",
         "4",
         "0"
        ],
        [
         "27",
         "2009/04",
         "3",
         "0",
         "6",
         "0"
        ],
        [
         "28",
         "2009/05",
         "0",
         "0",
         "5",
         "0"
        ],
        [
         "29",
         "2009/06",
         "2",
         "0",
         "3",
         "0"
        ],
        [
         "30",
         "2009/07",
         "3",
         "0",
         "6",
         "0"
        ],
        [
         "31",
         "2009/08",
         "3",
         "0",
         "4",
         "0"
        ],
        [
         "32",
         "2009/09",
         "3",
         "0",
         "8",
         "0"
        ],
        [
         "33",
         "2009/10",
         "2",
         "0",
         "7",
         "0"
        ],
        [
         "34",
         "2009/11",
         "2",
         "0",
         "7",
         "0"
        ],
        [
         "35",
         "2009/12",
         "2",
         "0",
         "6",
         "0"
        ],
        [
         "36",
         "2010/01",
         "3",
         "0",
         "8",
         "0"
        ],
        [
         "37",
         "2010/02",
         "3",
         "0",
         "4",
         "0"
        ],
        [
         "38",
         "2010/03",
         "3",
         "0",
         "6",
         "0"
        ],
        [
         "39",
         "2010/04",
         "2",
         "0",
         "9",
         "0"
        ],
        [
         "40",
         "2010/05",
         "3",
         "0",
         "5",
         "0"
        ],
        [
         "41",
         "2010/06",
         "2",
         "0",
         "5",
         "0"
        ],
        [
         "42",
         "2010/07",
         "3",
         "0",
         "4",
         "0"
        ],
        [
         "43",
         "2010/08",
         "3",
         "0",
         "6",
         "0"
        ],
        [
         "44",
         "2010/09",
         "2",
         "0",
         "4",
         "0"
        ],
        [
         "45",
         "2010/10",
         "2",
         "0",
         "5",
         "0"
        ],
        [
         "46",
         "2010/11",
         "2",
         "1",
         "6",
         "0"
        ],
        [
         "47",
         "2010/12",
         "2",
         "0",
         "6",
         "0"
        ],
        [
         "48",
         "2011/01",
         "2",
         "0",
         "8",
         "2"
        ],
        [
         "49",
         "2011/02",
         "2",
         "0",
         "8",
         "0"
        ]
       ],
       "shape": {
        "columns": 5,
        "rows": 219
       }
      },
      "text/html": [
       "<div>\n",
       "<style scoped>\n",
       "    .dataframe tbody tr th:only-of-type {\n",
       "        vertical-align: middle;\n",
       "    }\n",
       "\n",
       "    .dataframe tbody tr th {\n",
       "        vertical-align: top;\n",
       "    }\n",
       "\n",
       "    .dataframe thead th {\n",
       "        text-align: right;\n",
       "    }\n",
       "</style>\n",
       "<table border=\"1\" class=\"dataframe\">\n",
       "  <thead>\n",
       "    <tr style=\"text-align: right;\">\n",
       "      <th></th>\n",
       "      <th>Periode</th>\n",
       "      <th>EV: (Nederland)</th>\n",
       "      <th>subsidie elektrische auto: (Nederland)</th>\n",
       "      <th>elektrische auto: (Nederland)</th>\n",
       "      <th>elektrisch rijden: (Nederland)</th>\n",
       "    </tr>\n",
       "  </thead>\n",
       "  <tbody>\n",
       "    <tr>\n",
       "      <th>0</th>\n",
       "      <td>2007/01</td>\n",
       "      <td>0</td>\n",
       "      <td>0</td>\n",
       "      <td>0</td>\n",
       "      <td>0</td>\n",
       "    </tr>\n",
       "    <tr>\n",
       "      <th>1</th>\n",
       "      <td>2007/02</td>\n",
       "      <td>0</td>\n",
       "      <td>0</td>\n",
       "      <td>0</td>\n",
       "      <td>0</td>\n",
       "    </tr>\n",
       "    <tr>\n",
       "      <th>2</th>\n",
       "      <td>2007/03</td>\n",
       "      <td>0</td>\n",
       "      <td>0</td>\n",
       "      <td>0</td>\n",
       "      <td>0</td>\n",
       "    </tr>\n",
       "    <tr>\n",
       "      <th>3</th>\n",
       "      <td>2007/04</td>\n",
       "      <td>0</td>\n",
       "      <td>0</td>\n",
       "      <td>0</td>\n",
       "      <td>0</td>\n",
       "    </tr>\n",
       "    <tr>\n",
       "      <th>4</th>\n",
       "      <td>2007/05</td>\n",
       "      <td>0</td>\n",
       "      <td>0</td>\n",
       "      <td>0</td>\n",
       "      <td>0</td>\n",
       "    </tr>\n",
       "    <tr>\n",
       "      <th>...</th>\n",
       "      <td>...</td>\n",
       "      <td>...</td>\n",
       "      <td>...</td>\n",
       "      <td>...</td>\n",
       "      <td>...</td>\n",
       "    </tr>\n",
       "    <tr>\n",
       "      <th>214</th>\n",
       "      <td>2024/11</td>\n",
       "      <td>47</td>\n",
       "      <td>14</td>\n",
       "      <td>58</td>\n",
       "      <td>4</td>\n",
       "    </tr>\n",
       "    <tr>\n",
       "      <th>215</th>\n",
       "      <td>2024/12</td>\n",
       "      <td>42</td>\n",
       "      <td>11</td>\n",
       "      <td>57</td>\n",
       "      <td>6</td>\n",
       "    </tr>\n",
       "    <tr>\n",
       "      <th>216</th>\n",
       "      <td>2025/01</td>\n",
       "      <td>45</td>\n",
       "      <td>4</td>\n",
       "      <td>47</td>\n",
       "      <td>4</td>\n",
       "    </tr>\n",
       "    <tr>\n",
       "      <th>217</th>\n",
       "      <td>2025/02</td>\n",
       "      <td>45</td>\n",
       "      <td>2</td>\n",
       "      <td>42</td>\n",
       "      <td>4</td>\n",
       "    </tr>\n",
       "    <tr>\n",
       "      <th>218</th>\n",
       "      <td>2025/03</td>\n",
       "      <td>44</td>\n",
       "      <td>2</td>\n",
       "      <td>41</td>\n",
       "      <td>4</td>\n",
       "    </tr>\n",
       "  </tbody>\n",
       "</table>\n",
       "<p>219 rows × 5 columns</p>\n",
       "</div>"
      ],
      "text/plain": [
       "     Periode  EV: (Nederland)  subsidie elektrische auto: (Nederland)  \\\n",
       "0    2007/01                0                                       0   \n",
       "1    2007/02                0                                       0   \n",
       "2    2007/03                0                                       0   \n",
       "3    2007/04                0                                       0   \n",
       "4    2007/05                0                                       0   \n",
       "..       ...              ...                                     ...   \n",
       "214  2024/11               47                                      14   \n",
       "215  2024/12               42                                      11   \n",
       "216  2025/01               45                                       4   \n",
       "217  2025/02               45                                       2   \n",
       "218  2025/03               44                                       2   \n",
       "\n",
       "     elektrische auto: (Nederland)  elektrisch rijden: (Nederland)  \n",
       "0                                0                               0  \n",
       "1                                0                               0  \n",
       "2                                0                               0  \n",
       "3                                0                               0  \n",
       "4                                0                               0  \n",
       "..                             ...                             ...  \n",
       "214                             58                               4  \n",
       "215                             57                               6  \n",
       "216                             47                               4  \n",
       "217                             42                               4  \n",
       "218                             41                               4  \n",
       "\n",
       "[219 rows x 5 columns]"
      ]
     },
     "metadata": {},
     "output_type": "display_data"
    }
   ],
   "source": [
    "df_trends_ev = pd.read_csv(r\"E:\\Nieuw dataset\\Google trends\\Trends_EV_Zoektermen_NL_2007heden.csv\", sep=\",\")\n",
    "display(df_trends_ev)"
   ]
  },
  {
   "cell_type": "markdown",
   "id": "fe15748b",
   "metadata": {},
   "source": [
    "# 1. Consumentenvertrouwen, economisch klimaat en koopbereidheid"
   ]
  },
  {
   "cell_type": "markdown",
   "id": "c04e3e14",
   "metadata": {},
   "source": [
    "Extracted from: https://opendata.cbs.nl/#/CBS/nl/dataset/83694NED/table?searchKeywords=%E2%80%93%20consumentenvertrouwen,%20economisch%20klimaat%20en%20koopbereidheid"
   ]
  },
  {
   "cell_type": "markdown",
   "id": "81a1dc55",
   "metadata": {},
   "source": [
    " > Data inladen/inzien\n",
    " \n",
    "De indicatoren kunnen een waarde aannemen van -100 (iedereen antwoordt negatief) tot +100 (iedereen antwoordt positief). Bij een waarde van 0 is het aandeel pessimisten gelijk aan het aandeel optimisten.\n"
   ]
  },
  {
   "cell_type": "code",
   "execution_count": 49,
   "id": "9854aa6a",
   "metadata": {},
   "outputs": [
    {
     "data": {
      "application/vnd.microsoft.datawrangler.viewer.v0+json": {
       "columns": [
        {
         "name": "index",
         "rawType": "int64",
         "type": "integer"
        },
        {
         "name": "Perioden",
         "rawType": "object",
         "type": "string"
        },
        {
         "name": "Consumentenvertrouwen (gemiddelde saldo van de deelvragen)",
         "rawType": "int64",
         "type": "integer"
        },
        {
         "name": "Economisch klimaat (gemiddelde saldo van de deelvragen)",
         "rawType": "int64",
         "type": "integer"
        },
        {
         "name": "Koopbereidheid (gemiddelde saldo van de deelvragen)",
         "rawType": "int64",
         "type": "integer"
        },
        {
         "name": "Gunstige tijd voor grote aankopen (saldo positieve en negatieve antwoorden)",
         "rawType": "int64",
         "type": "integer"
        }
       ],
       "conversionMethod": "pd.DataFrame",
       "ref": "ab9c8172-193a-4b0b-8351-65cc59206a62",
       "rows": [
        [
         "0",
         "1986 april",
         "2",
         "6",
         "0",
         "-1"
        ],
        [
         "1",
         "1986 mei",
         "8",
         "17",
         "1",
         "-2"
        ],
        [
         "2",
         "1986 juni",
         "15",
         "33",
         "3",
         "-5"
        ],
        [
         "3",
         "1986 juli",
         "20",
         "45",
         "4",
         "-6"
        ],
        [
         "4",
         "1986 augustus",
         "21",
         "47",
         "4",
         "-7"
        ],
        [
         "5",
         "1986 september",
         "21",
         "45",
         "5",
         "-8"
        ],
        [
         "6",
         "1986 oktober",
         "21",
         "45",
         "6",
         "-8"
        ],
        [
         "7",
         "1986 november",
         "21",
         "44",
         "5",
         "-10"
        ],
        [
         "8",
         "1986 december",
         "20",
         "43",
         "5",
         "-12"
        ],
        [
         "9",
         "1987 januari",
         "22",
         "45",
         "6",
         "-10"
        ],
        [
         "10",
         "1987 februari",
         "23",
         "45",
         "8",
         "-8"
        ],
        [
         "11",
         "1987 maart",
         "22",
         "43",
         "8",
         "-9"
        ],
        [
         "12",
         "1987 april",
         "10",
         "15",
         "7",
         "-3"
        ],
        [
         "13",
         "1987 mei",
         "1",
         "-2",
         "4",
         "-7"
        ],
        [
         "14",
         "1987 juni",
         "-2",
         "-10",
         "3",
         "-6"
        ],
        [
         "15",
         "1987 juli",
         "-3",
         "-13",
         "4",
         "-4"
        ],
        [
         "16",
         "1987 augustus",
         "2",
         "-3",
         "5",
         "-4"
        ],
        [
         "17",
         "1987 september",
         "11",
         "19",
         "6",
         "-6"
        ],
        [
         "18",
         "1987 oktober",
         "6",
         "9",
         "4",
         "-10"
        ],
        [
         "19",
         "1987 november",
         "4",
         "4",
         "3",
         "-10"
        ],
        [
         "20",
         "1987 december",
         "1",
         "-2",
         "3",
         "-11"
        ],
        [
         "21",
         "1988 januari",
         "-3",
         "-13",
         "4",
         "-9"
        ],
        [
         "22",
         "1988 februari",
         "-3",
         "-14",
         "5",
         "-7"
        ],
        [
         "23",
         "1988 maart",
         "1",
         "-8",
         "7",
         "-4"
        ],
        [
         "24",
         "1988 april",
         "5",
         "2",
         "7",
         "-5"
        ],
        [
         "25",
         "1988 mei",
         "6",
         "4",
         "7",
         "-5"
        ],
        [
         "26",
         "1988 juni",
         "6",
         "4",
         "7",
         "-5"
        ],
        [
         "27",
         "1988 juli",
         "9",
         "10",
         "9",
         "-3"
        ],
        [
         "28",
         "1988 augustus",
         "15",
         "20",
         "11",
         "-1"
        ],
        [
         "29",
         "1988 september",
         "13",
         "16",
         "10",
         "-1"
        ],
        [
         "30",
         "1988 oktober",
         "14",
         "22",
         "9",
         "-3"
        ],
        [
         "31",
         "1988 november",
         "18",
         "29",
         "11",
         "-2"
        ],
        [
         "32",
         "1988 december",
         "18",
         "32",
         "8",
         "-6"
        ],
        [
         "33",
         "1989 januari",
         "20",
         "34",
         "10",
         "-3"
        ],
        [
         "34",
         "1989 februari",
         "18",
         "31",
         "9",
         "-4"
        ],
        [
         "35",
         "1989 maart",
         "20",
         "33",
         "12",
         "0"
        ],
        [
         "36",
         "1989 april",
         "20",
         "32",
         "11",
         "-1"
        ],
        [
         "37",
         "1989 mei",
         "17",
         "26",
         "11",
         "0"
        ],
        [
         "38",
         "1989 juni",
         "19",
         "28",
         "14",
         "3"
        ],
        [
         "39",
         "1989 juli",
         "23",
         "35",
         "15",
         "4"
        ],
        [
         "40",
         "1989 augustus",
         "23",
         "34",
         "16",
         "4"
        ],
        [
         "41",
         "1989 september",
         "23",
         "34",
         "16",
         "4"
        ],
        [
         "42",
         "1989 oktober",
         "24",
         "35",
         "17",
         "5"
        ],
        [
         "43",
         "1989 november",
         "25",
         "36",
         "17",
         "3"
        ],
        [
         "44",
         "1989 december",
         "24",
         "34",
         "17",
         "3"
        ],
        [
         "45",
         "1990 januari",
         "23",
         "34",
         "16",
         "2"
        ],
        [
         "46",
         "1990 februari",
         "19",
         "26",
         "14",
         "0"
        ],
        [
         "47",
         "1990 maart",
         "19",
         "26",
         "14",
         "-3"
        ],
        [
         "48",
         "1990 april",
         "18",
         "22",
         "15",
         "-3"
        ],
        [
         "49",
         "1990 mei",
         "16",
         "17",
         "15",
         "-2"
        ]
       ],
       "shape": {
        "columns": 5,
        "rows": 469
       }
      },
      "text/html": [
       "<div>\n",
       "<style scoped>\n",
       "    .dataframe tbody tr th:only-of-type {\n",
       "        vertical-align: middle;\n",
       "    }\n",
       "\n",
       "    .dataframe tbody tr th {\n",
       "        vertical-align: top;\n",
       "    }\n",
       "\n",
       "    .dataframe thead th {\n",
       "        text-align: right;\n",
       "    }\n",
       "</style>\n",
       "<table border=\"1\" class=\"dataframe\">\n",
       "  <thead>\n",
       "    <tr style=\"text-align: right;\">\n",
       "      <th></th>\n",
       "      <th>Perioden</th>\n",
       "      <th>Consumentenvertrouwen (gemiddelde saldo van de deelvragen)</th>\n",
       "      <th>Economisch klimaat (gemiddelde saldo van de deelvragen)</th>\n",
       "      <th>Koopbereidheid (gemiddelde saldo van de deelvragen)</th>\n",
       "      <th>Gunstige tijd voor grote aankopen (saldo positieve en negatieve antwoorden)</th>\n",
       "    </tr>\n",
       "  </thead>\n",
       "  <tbody>\n",
       "    <tr>\n",
       "      <th>0</th>\n",
       "      <td>1986 april</td>\n",
       "      <td>2</td>\n",
       "      <td>6</td>\n",
       "      <td>0</td>\n",
       "      <td>-1</td>\n",
       "    </tr>\n",
       "    <tr>\n",
       "      <th>1</th>\n",
       "      <td>1986 mei</td>\n",
       "      <td>8</td>\n",
       "      <td>17</td>\n",
       "      <td>1</td>\n",
       "      <td>-2</td>\n",
       "    </tr>\n",
       "    <tr>\n",
       "      <th>2</th>\n",
       "      <td>1986 juni</td>\n",
       "      <td>15</td>\n",
       "      <td>33</td>\n",
       "      <td>3</td>\n",
       "      <td>-5</td>\n",
       "    </tr>\n",
       "    <tr>\n",
       "      <th>3</th>\n",
       "      <td>1986 juli</td>\n",
       "      <td>20</td>\n",
       "      <td>45</td>\n",
       "      <td>4</td>\n",
       "      <td>-6</td>\n",
       "    </tr>\n",
       "    <tr>\n",
       "      <th>4</th>\n",
       "      <td>1986 augustus</td>\n",
       "      <td>21</td>\n",
       "      <td>47</td>\n",
       "      <td>4</td>\n",
       "      <td>-7</td>\n",
       "    </tr>\n",
       "    <tr>\n",
       "      <th>...</th>\n",
       "      <td>...</td>\n",
       "      <td>...</td>\n",
       "      <td>...</td>\n",
       "      <td>...</td>\n",
       "      <td>...</td>\n",
       "    </tr>\n",
       "    <tr>\n",
       "      <th>464</th>\n",
       "      <td>2024 december</td>\n",
       "      <td>-26</td>\n",
       "      <td>-45</td>\n",
       "      <td>-13</td>\n",
       "      <td>-27</td>\n",
       "    </tr>\n",
       "    <tr>\n",
       "      <th>465</th>\n",
       "      <td>2025 januari</td>\n",
       "      <td>-28</td>\n",
       "      <td>-50</td>\n",
       "      <td>-14</td>\n",
       "      <td>-28</td>\n",
       "    </tr>\n",
       "    <tr>\n",
       "      <th>466</th>\n",
       "      <td>2025 februari</td>\n",
       "      <td>-32</td>\n",
       "      <td>-54</td>\n",
       "      <td>-17</td>\n",
       "      <td>-32</td>\n",
       "    </tr>\n",
       "    <tr>\n",
       "      <th>467</th>\n",
       "      <td>2025 maart</td>\n",
       "      <td>-34</td>\n",
       "      <td>-57</td>\n",
       "      <td>-18</td>\n",
       "      <td>-34</td>\n",
       "    </tr>\n",
       "    <tr>\n",
       "      <th>468</th>\n",
       "      <td>2025 april</td>\n",
       "      <td>-37</td>\n",
       "      <td>-61</td>\n",
       "      <td>-20</td>\n",
       "      <td>-34</td>\n",
       "    </tr>\n",
       "  </tbody>\n",
       "</table>\n",
       "<p>469 rows × 5 columns</p>\n",
       "</div>"
      ],
      "text/plain": [
       "          Perioden  \\\n",
       "0       1986 april   \n",
       "1         1986 mei   \n",
       "2        1986 juni   \n",
       "3        1986 juli   \n",
       "4    1986 augustus   \n",
       "..             ...   \n",
       "464  2024 december   \n",
       "465   2025 januari   \n",
       "466  2025 februari   \n",
       "467     2025 maart   \n",
       "468     2025 april   \n",
       "\n",
       "     Consumentenvertrouwen (gemiddelde saldo van de deelvragen)  \\\n",
       "0                                                    2            \n",
       "1                                                    8            \n",
       "2                                                   15            \n",
       "3                                                   20            \n",
       "4                                                   21            \n",
       "..                                                 ...            \n",
       "464                                                -26            \n",
       "465                                                -28            \n",
       "466                                                -32            \n",
       "467                                                -34            \n",
       "468                                                -37            \n",
       "\n",
       "     Economisch klimaat (gemiddelde saldo van de deelvragen)  \\\n",
       "0                                                    6         \n",
       "1                                                   17         \n",
       "2                                                   33         \n",
       "3                                                   45         \n",
       "4                                                   47         \n",
       "..                                                 ...         \n",
       "464                                                -45         \n",
       "465                                                -50         \n",
       "466                                                -54         \n",
       "467                                                -57         \n",
       "468                                                -61         \n",
       "\n",
       "     Koopbereidheid (gemiddelde saldo van de deelvragen)  \\\n",
       "0                                                    0     \n",
       "1                                                    1     \n",
       "2                                                    3     \n",
       "3                                                    4     \n",
       "4                                                    4     \n",
       "..                                                 ...     \n",
       "464                                                -13     \n",
       "465                                                -14     \n",
       "466                                                -17     \n",
       "467                                                -18     \n",
       "468                                                -20     \n",
       "\n",
       "     Gunstige tijd voor grote aankopen (saldo positieve en negatieve antwoorden)  \n",
       "0                                                   -1                            \n",
       "1                                                   -2                            \n",
       "2                                                   -5                            \n",
       "3                                                   -6                            \n",
       "4                                                   -7                            \n",
       "..                                                 ...                            \n",
       "464                                                -27                            \n",
       "465                                                -28                            \n",
       "466                                                -32                            \n",
       "467                                                -34                            \n",
       "468                                                -34                            \n",
       "\n",
       "[469 rows x 5 columns]"
      ]
     },
     "metadata": {},
     "output_type": "display_data"
    }
   ],
   "source": [
    "\n",
    "# 1. Data opnieuw inlezen en kolommen hernoemen\n",
    "df_raw = pd.read_csv(r\"E:\\Nieuw dataset\\Consumentenvertrouwen, economisch klimaat en koopbereidheid ongecorrigeerd\\Consumentenvertrouwen_12052025_161612.csv\", sep=\";\")\n",
    "\n",
    "display(df_raw)"
   ]
  },
  {
   "cell_type": "code",
   "execution_count": 50,
   "id": "4ad73fda",
   "metadata": {},
   "outputs": [
    {
     "name": "stderr",
     "output_type": "stream",
     "text": [
      "C:\\Users\\dylan\\AppData\\Local\\Temp\\ipykernel_19000\\3878508282.py:38: FutureWarning: DataFrame.fillna with 'method' is deprecated and will raise in a future version. Use obj.ffill() or obj.bfill() instead.\n",
      "  df_consumenten_merged[interpoleer_kolommen] = df_consumenten_merged[interpoleer_kolommen].fillna(method='bfill')\n"
     ]
    },
    {
     "data": {
      "application/vnd.microsoft.datawrangler.viewer.v0+json": {
       "columns": [
        {
         "name": "index",
         "rawType": "int64",
         "type": "integer"
        },
        {
         "name": "Periode",
         "rawType": "object",
         "type": "string"
        },
        {
         "name": "Consumentenvertrouwen",
         "rawType": "float64",
         "type": "float"
        },
        {
         "name": "Economisch klimaat",
         "rawType": "float64",
         "type": "float"
        },
        {
         "name": "Koopbereidheid",
         "rawType": "float64",
         "type": "float"
        },
        {
         "name": "Grote aankopen",
         "rawType": "float64",
         "type": "float"
        }
       ],
       "conversionMethod": "pd.DataFrame",
       "ref": "4d28c215-fb6c-4202-a251-5086dad89515",
       "rows": [
        [
         "0",
         "2007/01",
         "20.0",
         "37.0",
         "9.0",
         "8.0"
        ],
        [
         "1",
         "2007/02",
         "20.0",
         "37.0",
         "9.0",
         "8.0"
        ],
        [
         "2",
         "2007/03",
         "20.0",
         "37.0",
         "9.0",
         "8.0"
        ],
        [
         "3",
         "2007/04",
         "20.0",
         "37.0",
         "9.0",
         "8.0"
        ],
        [
         "4",
         "2007/05",
         "18.0",
         "32.0",
         "9.0",
         "7.4"
        ],
        [
         "5",
         "2007/06",
         "16.0",
         "27.0",
         "9.0",
         "6.8"
        ],
        [
         "6",
         "2007/07",
         "14.0",
         "22.0",
         "9.0",
         "6.2"
        ],
        [
         "7",
         "2007/08",
         "12.0",
         "17.0",
         "9.0",
         "5.6"
        ],
        [
         "8",
         "2007/09",
         "10.0",
         "12.0",
         "9.0",
         "5.0"
        ],
        [
         "9",
         "2007/10",
         "5.5",
         "5.0",
         "6.0",
         "1.5"
        ],
        [
         "10",
         "2007/11",
         "1.0",
         "-2.0",
         "3.0",
         "-2.0"
        ],
        [
         "11",
         "2007/12",
         "2.0",
         "1.0",
         "2.0",
         "-2.0"
        ],
        [
         "12",
         "2008/01",
         "-0.25",
         "-3.75",
         "1.5",
         "-2.5"
        ],
        [
         "13",
         "2008/02",
         "-2.5",
         "-8.5",
         "1.0",
         "-3.0"
        ],
        [
         "14",
         "2008/03",
         "-4.75",
         "-13.25",
         "0.5",
         "-3.5"
        ],
        [
         "15",
         "2008/04",
         "-7.0",
         "-18.0",
         "0.0",
         "-4.0"
        ],
        [
         "16",
         "2008/05",
         "-10.6",
         "-23.8",
         "-2.0",
         "-7.4"
        ],
        [
         "17",
         "2008/06",
         "-14.2",
         "-29.6",
         "-4.0",
         "-10.8"
        ],
        [
         "18",
         "2008/07",
         "-17.8",
         "-35.4",
         "-6.0",
         "-14.2"
        ],
        [
         "19",
         "2008/08",
         "-21.4",
         "-41.2",
         "-8.0",
         "-17.6"
        ],
        [
         "20",
         "2008/09",
         "-25.0",
         "-47.0",
         "-10.0",
         "-21.0"
        ],
        [
         "21",
         "2008/10",
         "-25.5",
         "-48.5",
         "-10.5",
         "-23.5"
        ],
        [
         "22",
         "2008/11",
         "-26.0",
         "-50.0",
         "-11.0",
         "-26.0"
        ],
        [
         "23",
         "2008/12",
         "-26.0",
         "-53.0",
         "-8.0",
         "-21.0"
        ],
        [
         "24",
         "2009/01",
         "-26.0",
         "-53.5",
         "-7.75",
         "-19.75"
        ],
        [
         "25",
         "2009/02",
         "-26.0",
         "-54.0",
         "-7.5",
         "-18.5"
        ],
        [
         "26",
         "2009/03",
         "-26.0",
         "-54.5",
         "-7.25",
         "-17.25"
        ],
        [
         "27",
         "2009/04",
         "-26.0",
         "-55.0",
         "-7.0",
         "-16.0"
        ],
        [
         "28",
         "2009/05",
         "-23.2",
         "-48.4",
         "-6.6",
         "-14.4"
        ],
        [
         "29",
         "2009/06",
         "-20.4",
         "-41.8",
         "-6.2",
         "-12.8"
        ],
        [
         "30",
         "2009/07",
         "-17.6",
         "-35.2",
         "-5.8",
         "-11.2"
        ],
        [
         "31",
         "2009/08",
         "-14.8",
         "-28.6",
         "-5.4",
         "-9.6"
        ],
        [
         "32",
         "2009/09",
         "-12.0",
         "-22.0",
         "-5.0",
         "-8.0"
        ],
        [
         "33",
         "2009/10",
         "-11.5",
         "-21.5",
         "-5.0",
         "-7.5"
        ],
        [
         "34",
         "2009/11",
         "-11.0",
         "-21.0",
         "-5.0",
         "-7.0"
        ],
        [
         "35",
         "2009/12",
         "-7.0",
         "-10.0",
         "-4.0",
         "-6.0"
        ],
        [
         "36",
         "2010/01",
         "-7.0",
         "-9.25",
         "-4.5",
         "-8.0"
        ],
        [
         "37",
         "2010/02",
         "-7.0",
         "-8.5",
         "-5.0",
         "-10.0"
        ],
        [
         "38",
         "2010/03",
         "-7.0",
         "-7.75",
         "-5.5",
         "-12.0"
        ],
        [
         "39",
         "2010/04",
         "-7.0",
         "-7.0",
         "-6.0",
         "-14.0"
        ],
        [
         "40",
         "2010/05",
         "-7.2",
         "-7.0",
         "-6.6",
         "-14.6"
        ],
        [
         "41",
         "2010/06",
         "-7.4",
         "-7.0",
         "-7.2",
         "-15.2"
        ],
        [
         "42",
         "2010/07",
         "-7.6",
         "-7.0",
         "-7.8",
         "-15.8"
        ],
        [
         "43",
         "2010/08",
         "-7.8",
         "-7.0",
         "-8.4",
         "-16.4"
        ],
        [
         "44",
         "2010/09",
         "-8.0",
         "-7.0",
         "-9.0",
         "-17.0"
        ],
        [
         "45",
         "2010/10",
         "-5.5",
         "-1.5",
         "-8.0",
         "-14.5"
        ],
        [
         "46",
         "2010/11",
         "-3.0",
         "4.0",
         "-7.0",
         "-12.0"
        ],
        [
         "47",
         "2010/12",
         "-7.0",
         "-4.0",
         "-9.0",
         "-12.0"
        ],
        [
         "48",
         "2011/01",
         "-5.75",
         "-0.75",
         "-9.0",
         "-13.0"
        ],
        [
         "49",
         "2011/02",
         "-4.5",
         "2.5",
         "-9.0",
         "-14.0"
        ]
       ],
       "shape": {
        "columns": 5,
        "rows": 220
       }
      },
      "text/html": [
       "<div>\n",
       "<style scoped>\n",
       "    .dataframe tbody tr th:only-of-type {\n",
       "        vertical-align: middle;\n",
       "    }\n",
       "\n",
       "    .dataframe tbody tr th {\n",
       "        vertical-align: top;\n",
       "    }\n",
       "\n",
       "    .dataframe thead th {\n",
       "        text-align: right;\n",
       "    }\n",
       "</style>\n",
       "<table border=\"1\" class=\"dataframe\">\n",
       "  <thead>\n",
       "    <tr style=\"text-align: right;\">\n",
       "      <th></th>\n",
       "      <th>Periode</th>\n",
       "      <th>Consumentenvertrouwen</th>\n",
       "      <th>Economisch klimaat</th>\n",
       "      <th>Koopbereidheid</th>\n",
       "      <th>Grote aankopen</th>\n",
       "    </tr>\n",
       "  </thead>\n",
       "  <tbody>\n",
       "    <tr>\n",
       "      <th>0</th>\n",
       "      <td>2007/01</td>\n",
       "      <td>20.00</td>\n",
       "      <td>37.0</td>\n",
       "      <td>9.00</td>\n",
       "      <td>8.00</td>\n",
       "    </tr>\n",
       "    <tr>\n",
       "      <th>1</th>\n",
       "      <td>2007/02</td>\n",
       "      <td>20.00</td>\n",
       "      <td>37.0</td>\n",
       "      <td>9.00</td>\n",
       "      <td>8.00</td>\n",
       "    </tr>\n",
       "    <tr>\n",
       "      <th>2</th>\n",
       "      <td>2007/03</td>\n",
       "      <td>20.00</td>\n",
       "      <td>37.0</td>\n",
       "      <td>9.00</td>\n",
       "      <td>8.00</td>\n",
       "    </tr>\n",
       "    <tr>\n",
       "      <th>3</th>\n",
       "      <td>2007/04</td>\n",
       "      <td>20.00</td>\n",
       "      <td>37.0</td>\n",
       "      <td>9.00</td>\n",
       "      <td>8.00</td>\n",
       "    </tr>\n",
       "    <tr>\n",
       "      <th>4</th>\n",
       "      <td>2007/05</td>\n",
       "      <td>18.00</td>\n",
       "      <td>32.0</td>\n",
       "      <td>9.00</td>\n",
       "      <td>7.40</td>\n",
       "    </tr>\n",
       "    <tr>\n",
       "      <th>...</th>\n",
       "      <td>...</td>\n",
       "      <td>...</td>\n",
       "      <td>...</td>\n",
       "      <td>...</td>\n",
       "      <td>...</td>\n",
       "    </tr>\n",
       "    <tr>\n",
       "      <th>215</th>\n",
       "      <td>2024/12</td>\n",
       "      <td>-26.00</td>\n",
       "      <td>-45.0</td>\n",
       "      <td>-13.00</td>\n",
       "      <td>-27.00</td>\n",
       "    </tr>\n",
       "    <tr>\n",
       "      <th>216</th>\n",
       "      <td>2025/01</td>\n",
       "      <td>-28.75</td>\n",
       "      <td>-49.0</td>\n",
       "      <td>-14.75</td>\n",
       "      <td>-28.75</td>\n",
       "    </tr>\n",
       "    <tr>\n",
       "      <th>217</th>\n",
       "      <td>2025/02</td>\n",
       "      <td>-31.50</td>\n",
       "      <td>-53.0</td>\n",
       "      <td>-16.50</td>\n",
       "      <td>-30.50</td>\n",
       "    </tr>\n",
       "    <tr>\n",
       "      <th>218</th>\n",
       "      <td>2025/03</td>\n",
       "      <td>-34.25</td>\n",
       "      <td>-57.0</td>\n",
       "      <td>-18.25</td>\n",
       "      <td>-32.25</td>\n",
       "    </tr>\n",
       "    <tr>\n",
       "      <th>219</th>\n",
       "      <td>2025/04</td>\n",
       "      <td>-37.00</td>\n",
       "      <td>-61.0</td>\n",
       "      <td>-20.00</td>\n",
       "      <td>-34.00</td>\n",
       "    </tr>\n",
       "  </tbody>\n",
       "</table>\n",
       "<p>220 rows × 5 columns</p>\n",
       "</div>"
      ],
      "text/plain": [
       "     Periode  Consumentenvertrouwen  Economisch klimaat  Koopbereidheid  \\\n",
       "0    2007/01                  20.00                37.0            9.00   \n",
       "1    2007/02                  20.00                37.0            9.00   \n",
       "2    2007/03                  20.00                37.0            9.00   \n",
       "3    2007/04                  20.00                37.0            9.00   \n",
       "4    2007/05                  18.00                32.0            9.00   \n",
       "..       ...                    ...                 ...             ...   \n",
       "215  2024/12                 -26.00               -45.0          -13.00   \n",
       "216  2025/01                 -28.75               -49.0          -14.75   \n",
       "217  2025/02                 -31.50               -53.0          -16.50   \n",
       "218  2025/03                 -34.25               -57.0          -18.25   \n",
       "219  2025/04                 -37.00               -61.0          -20.00   \n",
       "\n",
       "     Grote aankopen  \n",
       "0              8.00  \n",
       "1              8.00  \n",
       "2              8.00  \n",
       "3              8.00  \n",
       "4              7.40  \n",
       "..              ...  \n",
       "215          -27.00  \n",
       "216          -28.75  \n",
       "217          -30.50  \n",
       "218          -32.25  \n",
       "219          -34.00  \n",
       "\n",
       "[220 rows x 5 columns]"
      ]
     },
     "metadata": {},
     "output_type": "display_data"
    }
   ],
   "source": [
    "# Voeg ook 'Consumentenvertrouwen' toe\n",
    "# Opnieuw laden en verwerken met die kolom erbij\n",
    "df_raw = pd.read_csv(r\"E:\\Nieuw dataset\\Consumentenvertrouwen, economisch klimaat en koopbereidheid ongecorrigeerd\\Consumentenvertrouwen_12052025_161612.csv\", sep=\";\")\n",
    "# 1. Data opnieuw inlezen en kolommen hernoemen\n",
    "# Kolommen hernoemen voor eenvoud\n",
    "df_raw = df_raw.rename(columns={\n",
    "    'Perioden': 'Periode',\n",
    "    'Consumentenvertrouwen (gemiddelde saldo van de deelvragen)': 'Consumentenvertrouwen',\n",
    "    'Economisch klimaat (gemiddelde saldo van de deelvragen)': 'Economisch klimaat',\n",
    "    'Koopbereidheid (gemiddelde saldo van de deelvragen)': 'Koopbereidheid',\n",
    "    'Gunstige tijd voor grote aankopen (saldo positieve en negatieve antwoorden)': 'Grote aankopen'\n",
    "})\n",
    "\n",
    "# Periode naar datetime\n",
    "df_raw['Periode'] = pd.to_datetime(df_raw['Periode'], format='%Y %B', errors='coerce')\n",
    "\n",
    "# Filter op 2007 t/m 2025\n",
    "df_raw = df_raw[(df_raw['Periode'] >= '2007-01-01') & (df_raw['Periode'] <= '2025-04-01')]\n",
    "\n",
    "# Waarden numeriek maken\n",
    "for col in ['Consumentenvertrouwen', 'Economisch klimaat', 'Koopbereidheid', 'Grote aankopen']:\n",
    "    df_raw[col] = pd.to_numeric(df_raw[col], errors='coerce')\n",
    "\n",
    "# Periode naar string (YYYY/MM)\n",
    "df_raw['Periode'] = df_raw['Periode'].dt.strftime('%Y/%m')\n",
    "\n",
    "# Relevante kolommen selecteren\n",
    "df_clean = df_raw[['Periode', 'Consumentenvertrouwen', 'Economisch klimaat', 'Koopbereidheid', 'Grote aankopen']].copy()\n",
    "\n",
    "# Maandlijst genereren\n",
    "maanden_volledig = pd.date_range(start='2007-01-01', end='2025-04-01', freq='MS').strftime('%Y/%m')\n",
    "df_maanden = pd.DataFrame({'Periode': maanden_volledig})\n",
    "\n",
    "# Merge en interpolatie\n",
    "df_consumenten_merged = df_maanden.merge(df_clean, on='Periode', how='left')\n",
    "interpoleer_kolommen = ['Consumentenvertrouwen', 'Economisch klimaat', 'Koopbereidheid', 'Grote aankopen']\n",
    "df_consumenten_merged[interpoleer_kolommen] = df_consumenten_merged[interpoleer_kolommen].interpolate(method='linear')\n",
    "df_consumenten_merged[interpoleer_kolommen] = df_consumenten_merged[interpoleer_kolommen].fillna(method='bfill')\n",
    "\n",
    "# Resultaat tonen\n",
    "display(df_consumenten_merged)\n",
    "\n"
   ]
  },
  {
   "cell_type": "markdown",
   "id": "cbe23c8c",
   "metadata": {},
   "source": [
    "Check if no missing months/values"
   ]
  },
  {
   "cell_type": "code",
   "execution_count": 51,
   "id": "b89ea1e8",
   "metadata": {},
   "outputs": [
    {
     "data": {
      "text/plain": [
       "(set(),\n",
       " Periode                  0\n",
       " Consumentenvertrouwen    0\n",
       " Economisch klimaat       0\n",
       " Koopbereidheid           0\n",
       " Grote aankopen           0\n",
       " dtype: int64)"
      ]
     },
     "execution_count": 51,
     "metadata": {},
     "output_type": "execute_result"
    }
   ],
   "source": [
    "# Controleer of alle maanden tussen 2015/01 en 2025/04 aanwezig zijn\n",
    "verwachte_maanden = pd.date_range(start='2007-01-01', end='2025-01-31', freq='MS').strftime('%Y/%m')\n",
    "ontbrekende_maanden = set(verwachte_maanden) - set(df_consumenten_merged['Periode'])\n",
    "\n",
    "# Controleer op ontbrekende waarden (NaN's)\n",
    "ontbrekende_waarden = df_consumenten_merged.isna().sum()\n",
    "\n",
    "ontbrekende_maanden, ontbrekende_waarden\n"
   ]
  },
  {
   "cell_type": "markdown",
   "id": "16d80289",
   "metadata": {},
   "source": [
    ">CSV Opslaan"
   ]
  },
  {
   "cell_type": "code",
   "execution_count": 52,
   "id": "e83cb16d",
   "metadata": {},
   "outputs": [
    {
     "data": {
      "application/vnd.microsoft.datawrangler.viewer.v0+json": {
       "columns": [
        {
         "name": "index",
         "rawType": "int64",
         "type": "integer"
        },
        {
         "name": "Periode",
         "rawType": "object",
         "type": "string"
        },
        {
         "name": "Consumentenvertrouwen",
         "rawType": "float64",
         "type": "float"
        },
        {
         "name": "Economisch klimaat",
         "rawType": "float64",
         "type": "float"
        },
        {
         "name": "Koopbereidheid",
         "rawType": "float64",
         "type": "float"
        },
        {
         "name": "Grote aankopen",
         "rawType": "float64",
         "type": "float"
        }
       ],
       "conversionMethod": "pd.DataFrame",
       "ref": "e3f7fd58-fbe9-41a9-88cf-a1f944e4f000",
       "rows": [
        [
         "0",
         "2007/01",
         "20.0",
         "37.0",
         "9.0",
         "8.0"
        ],
        [
         "1",
         "2007/02",
         "20.0",
         "37.0",
         "9.0",
         "8.0"
        ],
        [
         "2",
         "2007/03",
         "20.0",
         "37.0",
         "9.0",
         "8.0"
        ],
        [
         "3",
         "2007/04",
         "20.0",
         "37.0",
         "9.0",
         "8.0"
        ],
        [
         "4",
         "2007/05",
         "18.0",
         "32.0",
         "9.0",
         "7.4"
        ],
        [
         "5",
         "2007/06",
         "16.0",
         "27.0",
         "9.0",
         "6.8"
        ],
        [
         "6",
         "2007/07",
         "14.0",
         "22.0",
         "9.0",
         "6.2"
        ],
        [
         "7",
         "2007/08",
         "12.0",
         "17.0",
         "9.0",
         "5.6"
        ],
        [
         "8",
         "2007/09",
         "10.0",
         "12.0",
         "9.0",
         "5.0"
        ],
        [
         "9",
         "2007/10",
         "5.5",
         "5.0",
         "6.0",
         "1.5"
        ],
        [
         "10",
         "2007/11",
         "1.0",
         "-2.0",
         "3.0",
         "-2.0"
        ],
        [
         "11",
         "2007/12",
         "2.0",
         "1.0",
         "2.0",
         "-2.0"
        ],
        [
         "12",
         "2008/01",
         "-0.25",
         "-3.75",
         "1.5",
         "-2.5"
        ],
        [
         "13",
         "2008/02",
         "-2.5",
         "-8.5",
         "1.0",
         "-3.0"
        ],
        [
         "14",
         "2008/03",
         "-4.75",
         "-13.25",
         "0.5",
         "-3.5"
        ],
        [
         "15",
         "2008/04",
         "-7.0",
         "-18.0",
         "0.0",
         "-4.0"
        ],
        [
         "16",
         "2008/05",
         "-10.6",
         "-23.8",
         "-2.0",
         "-7.4"
        ],
        [
         "17",
         "2008/06",
         "-14.2",
         "-29.6",
         "-4.0",
         "-10.8"
        ],
        [
         "18",
         "2008/07",
         "-17.8",
         "-35.4",
         "-6.0",
         "-14.2"
        ],
        [
         "19",
         "2008/08",
         "-21.4",
         "-41.2",
         "-8.0",
         "-17.6"
        ],
        [
         "20",
         "2008/09",
         "-25.0",
         "-47.0",
         "-10.0",
         "-21.0"
        ],
        [
         "21",
         "2008/10",
         "-25.5",
         "-48.5",
         "-10.5",
         "-23.5"
        ],
        [
         "22",
         "2008/11",
         "-26.0",
         "-50.0",
         "-11.0",
         "-26.0"
        ],
        [
         "23",
         "2008/12",
         "-26.0",
         "-53.0",
         "-8.0",
         "-21.0"
        ],
        [
         "24",
         "2009/01",
         "-26.0",
         "-53.5",
         "-7.75",
         "-19.75"
        ],
        [
         "25",
         "2009/02",
         "-26.0",
         "-54.0",
         "-7.5",
         "-18.5"
        ],
        [
         "26",
         "2009/03",
         "-26.0",
         "-54.5",
         "-7.25",
         "-17.25"
        ],
        [
         "27",
         "2009/04",
         "-26.0",
         "-55.0",
         "-7.0",
         "-16.0"
        ],
        [
         "28",
         "2009/05",
         "-23.2",
         "-48.4",
         "-6.6",
         "-14.4"
        ],
        [
         "29",
         "2009/06",
         "-20.4",
         "-41.8",
         "-6.2",
         "-12.8"
        ],
        [
         "30",
         "2009/07",
         "-17.6",
         "-35.2",
         "-5.8",
         "-11.2"
        ],
        [
         "31",
         "2009/08",
         "-14.8",
         "-28.6",
         "-5.4",
         "-9.6"
        ],
        [
         "32",
         "2009/09",
         "-12.0",
         "-22.0",
         "-5.0",
         "-8.0"
        ],
        [
         "33",
         "2009/10",
         "-11.5",
         "-21.5",
         "-5.0",
         "-7.5"
        ],
        [
         "34",
         "2009/11",
         "-11.0",
         "-21.0",
         "-5.0",
         "-7.0"
        ],
        [
         "35",
         "2009/12",
         "-7.0",
         "-10.0",
         "-4.0",
         "-6.0"
        ],
        [
         "36",
         "2010/01",
         "-7.0",
         "-9.25",
         "-4.5",
         "-8.0"
        ],
        [
         "37",
         "2010/02",
         "-7.0",
         "-8.5",
         "-5.0",
         "-10.0"
        ],
        [
         "38",
         "2010/03",
         "-7.0",
         "-7.75",
         "-5.5",
         "-12.0"
        ],
        [
         "39",
         "2010/04",
         "-7.0",
         "-7.0",
         "-6.0",
         "-14.0"
        ],
        [
         "40",
         "2010/05",
         "-7.2",
         "-7.0",
         "-6.6",
         "-14.6"
        ],
        [
         "41",
         "2010/06",
         "-7.4",
         "-7.0",
         "-7.2",
         "-15.2"
        ],
        [
         "42",
         "2010/07",
         "-7.6",
         "-7.0",
         "-7.8",
         "-15.8"
        ],
        [
         "43",
         "2010/08",
         "-7.8",
         "-7.0",
         "-8.4",
         "-16.4"
        ],
        [
         "44",
         "2010/09",
         "-8.0",
         "-7.0",
         "-9.0",
         "-17.0"
        ],
        [
         "45",
         "2010/10",
         "-5.5",
         "-1.5",
         "-8.0",
         "-14.5"
        ],
        [
         "46",
         "2010/11",
         "-3.0",
         "4.0",
         "-7.0",
         "-12.0"
        ],
        [
         "47",
         "2010/12",
         "-7.0",
         "-4.0",
         "-9.0",
         "-12.0"
        ],
        [
         "48",
         "2011/01",
         "-5.75",
         "-0.75",
         "-9.0",
         "-13.0"
        ],
        [
         "49",
         "2011/02",
         "-4.5",
         "2.5",
         "-9.0",
         "-14.0"
        ]
       ],
       "shape": {
        "columns": 5,
        "rows": 220
       }
      },
      "text/html": [
       "<div>\n",
       "<style scoped>\n",
       "    .dataframe tbody tr th:only-of-type {\n",
       "        vertical-align: middle;\n",
       "    }\n",
       "\n",
       "    .dataframe tbody tr th {\n",
       "        vertical-align: top;\n",
       "    }\n",
       "\n",
       "    .dataframe thead th {\n",
       "        text-align: right;\n",
       "    }\n",
       "</style>\n",
       "<table border=\"1\" class=\"dataframe\">\n",
       "  <thead>\n",
       "    <tr style=\"text-align: right;\">\n",
       "      <th></th>\n",
       "      <th>Periode</th>\n",
       "      <th>Consumentenvertrouwen</th>\n",
       "      <th>Economisch klimaat</th>\n",
       "      <th>Koopbereidheid</th>\n",
       "      <th>Grote aankopen</th>\n",
       "    </tr>\n",
       "  </thead>\n",
       "  <tbody>\n",
       "    <tr>\n",
       "      <th>0</th>\n",
       "      <td>2007/01</td>\n",
       "      <td>20.00</td>\n",
       "      <td>37.0</td>\n",
       "      <td>9.00</td>\n",
       "      <td>8.00</td>\n",
       "    </tr>\n",
       "    <tr>\n",
       "      <th>1</th>\n",
       "      <td>2007/02</td>\n",
       "      <td>20.00</td>\n",
       "      <td>37.0</td>\n",
       "      <td>9.00</td>\n",
       "      <td>8.00</td>\n",
       "    </tr>\n",
       "    <tr>\n",
       "      <th>2</th>\n",
       "      <td>2007/03</td>\n",
       "      <td>20.00</td>\n",
       "      <td>37.0</td>\n",
       "      <td>9.00</td>\n",
       "      <td>8.00</td>\n",
       "    </tr>\n",
       "    <tr>\n",
       "      <th>3</th>\n",
       "      <td>2007/04</td>\n",
       "      <td>20.00</td>\n",
       "      <td>37.0</td>\n",
       "      <td>9.00</td>\n",
       "      <td>8.00</td>\n",
       "    </tr>\n",
       "    <tr>\n",
       "      <th>4</th>\n",
       "      <td>2007/05</td>\n",
       "      <td>18.00</td>\n",
       "      <td>32.0</td>\n",
       "      <td>9.00</td>\n",
       "      <td>7.40</td>\n",
       "    </tr>\n",
       "    <tr>\n",
       "      <th>...</th>\n",
       "      <td>...</td>\n",
       "      <td>...</td>\n",
       "      <td>...</td>\n",
       "      <td>...</td>\n",
       "      <td>...</td>\n",
       "    </tr>\n",
       "    <tr>\n",
       "      <th>215</th>\n",
       "      <td>2024/12</td>\n",
       "      <td>-26.00</td>\n",
       "      <td>-45.0</td>\n",
       "      <td>-13.00</td>\n",
       "      <td>-27.00</td>\n",
       "    </tr>\n",
       "    <tr>\n",
       "      <th>216</th>\n",
       "      <td>2025/01</td>\n",
       "      <td>-28.75</td>\n",
       "      <td>-49.0</td>\n",
       "      <td>-14.75</td>\n",
       "      <td>-28.75</td>\n",
       "    </tr>\n",
       "    <tr>\n",
       "      <th>217</th>\n",
       "      <td>2025/02</td>\n",
       "      <td>-31.50</td>\n",
       "      <td>-53.0</td>\n",
       "      <td>-16.50</td>\n",
       "      <td>-30.50</td>\n",
       "    </tr>\n",
       "    <tr>\n",
       "      <th>218</th>\n",
       "      <td>2025/03</td>\n",
       "      <td>-34.25</td>\n",
       "      <td>-57.0</td>\n",
       "      <td>-18.25</td>\n",
       "      <td>-32.25</td>\n",
       "    </tr>\n",
       "    <tr>\n",
       "      <th>219</th>\n",
       "      <td>2025/04</td>\n",
       "      <td>-37.00</td>\n",
       "      <td>-61.0</td>\n",
       "      <td>-20.00</td>\n",
       "      <td>-34.00</td>\n",
       "    </tr>\n",
       "  </tbody>\n",
       "</table>\n",
       "<p>220 rows × 5 columns</p>\n",
       "</div>"
      ],
      "text/plain": [
       "     Periode  Consumentenvertrouwen  Economisch klimaat  Koopbereidheid  \\\n",
       "0    2007/01                  20.00                37.0            9.00   \n",
       "1    2007/02                  20.00                37.0            9.00   \n",
       "2    2007/03                  20.00                37.0            9.00   \n",
       "3    2007/04                  20.00                37.0            9.00   \n",
       "4    2007/05                  18.00                32.0            9.00   \n",
       "..       ...                    ...                 ...             ...   \n",
       "215  2024/12                 -26.00               -45.0          -13.00   \n",
       "216  2025/01                 -28.75               -49.0          -14.75   \n",
       "217  2025/02                 -31.50               -53.0          -16.50   \n",
       "218  2025/03                 -34.25               -57.0          -18.25   \n",
       "219  2025/04                 -37.00               -61.0          -20.00   \n",
       "\n",
       "     Grote aankopen  \n",
       "0              8.00  \n",
       "1              8.00  \n",
       "2              8.00  \n",
       "3              8.00  \n",
       "4              7.40  \n",
       "..              ...  \n",
       "215          -27.00  \n",
       "216          -28.75  \n",
       "217          -30.50  \n",
       "218          -32.25  \n",
       "219          -34.00  \n",
       "\n",
       "[220 rows x 5 columns]"
      ]
     },
     "metadata": {},
     "output_type": "display_data"
    },
    {
     "name": "stdout",
     "output_type": "stream",
     "text": [
      "CSV opgeslagen op: E:\\Nieuw dataset\\Consumentenvertrouwen, economisch klimaat en koopbereidheid ongecorrigeerd\\consumentenvertrouwen_2007_Merged.csv\n"
     ]
    }
   ],
   "source": [
    "display(df_consumenten_merged)\n",
    "\n",
    "# Opslaan als CSV\n",
    "output_path = r\"E:\\Nieuw dataset\\Consumentenvertrouwen, economisch klimaat en koopbereidheid ongecorrigeerd\\consumentenvertrouwen_2007_Merged.csv\"\n",
    "df_consumenten_merged.to_csv(output_path, index=False)\n",
    "\n",
    "# Pad van de nieuwe CSV printen\n",
    "print(f\"CSV opgeslagen op: {output_path}\")\n"
   ]
  },
  {
   "cell_type": "markdown",
   "id": "ca0476e3",
   "metadata": {},
   "source": [
    ">  Data opschonen \n"
   ]
  },
  {
   "cell_type": "markdown",
   "id": "bf911c2b",
   "metadata": {},
   "source": [
    "-  perioden wijzigen naar yy/mm \n",
    "- datum selecteren 2015-1 t/m 2025-01"
   ]
  },
  {
   "cell_type": "markdown",
   "id": "f5c7652a",
   "metadata": {},
   "source": [
    "> Data wordt weergeven in kwartalen, ga ervoor kiezen om Interpolatie toe te voegen "
   ]
  },
  {
   "cell_type": "markdown",
   "id": "1b0a20da",
   "metadata": {},
   "source": [
    "> Data exporteren naar csv"
   ]
  },
  {
   "cell_type": "markdown",
   "id": "341fb444",
   "metadata": {},
   "source": [
    "# Pompprijzen motorbrandstoffen\n",
    "\n",
    "Extracted from: https://opendata.cbs.nl/#/CBS/nl/dataset/80416ned/table?ts=1745763454832 "
   ]
  },
  {
   "cell_type": "code",
   "execution_count": 112,
   "id": "db4849b5",
   "metadata": {},
   "outputs": [
    {
     "data": {
      "application/vnd.microsoft.datawrangler.viewer.v0+json": {
       "columns": [
        {
         "name": "index",
         "rawType": "int64",
         "type": "integer"
        },
        {
         "name": "ID",
         "rawType": "int64",
         "type": "integer"
        },
        {
         "name": "Perioden",
         "rawType": "int64",
         "type": "integer"
        },
        {
         "name": "BenzineEuro95_1",
         "rawType": "float64",
         "type": "float"
        },
        {
         "name": "Diesel_2",
         "rawType": "float64",
         "type": "float"
        }
       ],
       "conversionMethod": "pd.DataFrame",
       "ref": "3d6a8695-6077-41da-bdd6-467307f01863",
       "rows": [
        [
         "0",
         "0",
         "20060101",
         "1.325",
         "1.003"
        ],
        [
         "1",
         "1",
         "20060102",
         "1.328",
         "1.007"
        ],
        [
         "2",
         "2",
         "20060103",
         "1.332",
         "1.007"
        ],
        [
         "3",
         "3",
         "20060104",
         "1.348",
         "1.02"
        ],
        [
         "4",
         "4",
         "20060105",
         "1.347",
         "1.021"
        ],
        [
         "5",
         "5",
         "20060106",
         "1.353",
         "1.023"
        ],
        [
         "6",
         "6",
         "20060107",
         "1.361",
         "1.022"
        ],
        [
         "7",
         "7",
         "20060108",
         "1.36",
         "1.022"
        ],
        [
         "8",
         "8",
         "20060109",
         "1.362",
         "1.024"
        ],
        [
         "9",
         "9",
         "20060110",
         "1.368",
         "1.022"
        ],
        [
         "10",
         "10",
         "20060111",
         "1.369",
         "1.018"
        ],
        [
         "11",
         "11",
         "20060112",
         "1.363",
         "1.011"
        ],
        [
         "12",
         "12",
         "20060113",
         "1.361",
         "1.009"
        ],
        [
         "13",
         "13",
         "20060114",
         "1.355",
         "1.006"
        ],
        [
         "14",
         "14",
         "20060115",
         "1.356",
         "1.005"
        ],
        [
         "15",
         "15",
         "20060116",
         "1.354",
         "1.005"
        ],
        [
         "16",
         "16",
         "20060117",
         "1.355",
         "1.007"
        ],
        [
         "17",
         "17",
         "20060118",
         "1.36",
         "1.013"
        ],
        [
         "18",
         "18",
         "20060119",
         "1.363",
         "1.016"
        ],
        [
         "19",
         "19",
         "20060120",
         "1.368",
         "1.016"
        ],
        [
         "20",
         "20",
         "20060121",
         "1.37",
         "1.021"
        ],
        [
         "21",
         "21",
         "20060122",
         "1.369",
         "1.02"
        ],
        [
         "22",
         "22",
         "20060123",
         "1.369",
         "1.021"
        ],
        [
         "23",
         "23",
         "20060124",
         "1.368",
         "1.031"
        ],
        [
         "24",
         "24",
         "20060125",
         "1.369",
         "1.031"
        ],
        [
         "25",
         "25",
         "20060126",
         "1.356",
         "1.025"
        ],
        [
         "26",
         "26",
         "20060127",
         "1.351",
         "1.023"
        ],
        [
         "27",
         "27",
         "20060128",
         "1.351",
         "1.025"
        ],
        [
         "28",
         "28",
         "20060129",
         "1.351",
         "1.025"
        ],
        [
         "29",
         "29",
         "20060130",
         "1.351",
         "1.025"
        ],
        [
         "30",
         "30",
         "20060131",
         "1.361",
         "1.032"
        ],
        [
         "31",
         "31",
         "20060201",
         "1.36",
         "1.032"
        ],
        [
         "32",
         "32",
         "20060202",
         "1.36",
         "1.031"
        ],
        [
         "33",
         "33",
         "20060203",
         "1.353",
         "1.028"
        ],
        [
         "34",
         "34",
         "20060204",
         "1.344",
         "1.024"
        ],
        [
         "35",
         "35",
         "20060205",
         "1.344",
         "1.024"
        ],
        [
         "36",
         "36",
         "20060206",
         "1.342",
         "1.024"
        ],
        [
         "37",
         "37",
         "20060207",
         "1.341",
         "1.026"
        ],
        [
         "38",
         "38",
         "20060208",
         "1.341",
         "1.026"
        ],
        [
         "39",
         "39",
         "20060209",
         "1.336",
         "1.02"
        ],
        [
         "40",
         "40",
         "20060210",
         "1.331",
         "1.018"
        ],
        [
         "41",
         "41",
         "20060211",
         "1.323",
         "1.013"
        ],
        [
         "42",
         "42",
         "20060212",
         "1.323",
         "1.013"
        ],
        [
         "43",
         "43",
         "20060213",
         "1.322",
         "1.014"
        ],
        [
         "44",
         "44",
         "20060214",
         "1.321",
         "1.014"
        ],
        [
         "45",
         "45",
         "20060215",
         "1.314",
         "1.011"
        ],
        [
         "46",
         "46",
         "20060216",
         "1.31",
         "1.007"
        ],
        [
         "47",
         "47",
         "20060217",
         "1.311",
         "1.007"
        ],
        [
         "48",
         "48",
         "20060218",
         "1.315",
         "1.009"
        ],
        [
         "49",
         "49",
         "20060219",
         "1.316",
         "1.008"
        ]
       ],
       "shape": {
        "columns": 4,
        "rows": 7065
       }
      },
      "text/html": [
       "<div>\n",
       "<style scoped>\n",
       "    .dataframe tbody tr th:only-of-type {\n",
       "        vertical-align: middle;\n",
       "    }\n",
       "\n",
       "    .dataframe tbody tr th {\n",
       "        vertical-align: top;\n",
       "    }\n",
       "\n",
       "    .dataframe thead th {\n",
       "        text-align: right;\n",
       "    }\n",
       "</style>\n",
       "<table border=\"1\" class=\"dataframe\">\n",
       "  <thead>\n",
       "    <tr style=\"text-align: right;\">\n",
       "      <th></th>\n",
       "      <th>ID</th>\n",
       "      <th>Perioden</th>\n",
       "      <th>BenzineEuro95_1</th>\n",
       "      <th>Diesel_2</th>\n",
       "    </tr>\n",
       "  </thead>\n",
       "  <tbody>\n",
       "    <tr>\n",
       "      <th>0</th>\n",
       "      <td>0</td>\n",
       "      <td>20060101</td>\n",
       "      <td>1.325</td>\n",
       "      <td>1.003</td>\n",
       "    </tr>\n",
       "    <tr>\n",
       "      <th>1</th>\n",
       "      <td>1</td>\n",
       "      <td>20060102</td>\n",
       "      <td>1.328</td>\n",
       "      <td>1.007</td>\n",
       "    </tr>\n",
       "    <tr>\n",
       "      <th>2</th>\n",
       "      <td>2</td>\n",
       "      <td>20060103</td>\n",
       "      <td>1.332</td>\n",
       "      <td>1.007</td>\n",
       "    </tr>\n",
       "    <tr>\n",
       "      <th>3</th>\n",
       "      <td>3</td>\n",
       "      <td>20060104</td>\n",
       "      <td>1.348</td>\n",
       "      <td>1.020</td>\n",
       "    </tr>\n",
       "    <tr>\n",
       "      <th>4</th>\n",
       "      <td>4</td>\n",
       "      <td>20060105</td>\n",
       "      <td>1.347</td>\n",
       "      <td>1.021</td>\n",
       "    </tr>\n",
       "    <tr>\n",
       "      <th>...</th>\n",
       "      <td>...</td>\n",
       "      <td>...</td>\n",
       "      <td>...</td>\n",
       "      <td>...</td>\n",
       "    </tr>\n",
       "    <tr>\n",
       "      <th>7060</th>\n",
       "      <td>7060</td>\n",
       "      <td>20250501</td>\n",
       "      <td>1.871</td>\n",
       "      <td>1.599</td>\n",
       "    </tr>\n",
       "    <tr>\n",
       "      <th>7061</th>\n",
       "      <td>7061</td>\n",
       "      <td>20250502</td>\n",
       "      <td>1.868</td>\n",
       "      <td>1.594</td>\n",
       "    </tr>\n",
       "    <tr>\n",
       "      <th>7062</th>\n",
       "      <td>7062</td>\n",
       "      <td>20250503</td>\n",
       "      <td>1.858</td>\n",
       "      <td>1.585</td>\n",
       "    </tr>\n",
       "    <tr>\n",
       "      <th>7063</th>\n",
       "      <td>7063</td>\n",
       "      <td>20250504</td>\n",
       "      <td>1.859</td>\n",
       "      <td>1.583</td>\n",
       "    </tr>\n",
       "    <tr>\n",
       "      <th>7064</th>\n",
       "      <td>7064</td>\n",
       "      <td>20250505</td>\n",
       "      <td>1.862</td>\n",
       "      <td>1.588</td>\n",
       "    </tr>\n",
       "  </tbody>\n",
       "</table>\n",
       "<p>7065 rows × 4 columns</p>\n",
       "</div>"
      ],
      "text/plain": [
       "        ID  Perioden  BenzineEuro95_1  Diesel_2\n",
       "0        0  20060101            1.325     1.003\n",
       "1        1  20060102            1.328     1.007\n",
       "2        2  20060103            1.332     1.007\n",
       "3        3  20060104            1.348     1.020\n",
       "4        4  20060105            1.347     1.021\n",
       "...    ...       ...              ...       ...\n",
       "7060  7060  20250501            1.871     1.599\n",
       "7061  7061  20250502            1.868     1.594\n",
       "7062  7062  20250503            1.858     1.585\n",
       "7063  7063  20250504            1.859     1.583\n",
       "7064  7064  20250505            1.862     1.588\n",
       "\n",
       "[7065 rows x 4 columns]"
      ]
     },
     "metadata": {},
     "output_type": "display_data"
    }
   ],
   "source": [
    "# Dataset 2 inladen\n",
    "df_pompprijzen = pd.read_csv(\n",
    "    r\"E:\\Nieuw dataset\\CBS POMPPRIJZEN\\nEWPompprijzen_motorbrandstoffen__brandstofsoort__per_dag_12052025_154757.csv\",\n",
    "    sep=\";\",\n",
    "   \n",
    ")\n",
    "display(df_pompprijzen)\n"
   ]
  },
  {
   "cell_type": "markdown",
   "id": "239e3899",
   "metadata": {},
   "source": [
    "> Data inladen/inzien"
   ]
  },
  {
   "cell_type": "code",
   "execution_count": 126,
   "id": "7d89a56b",
   "metadata": {},
   "outputs": [
    {
     "data": {
      "application/vnd.microsoft.datawrangler.viewer.v0+json": {
       "columns": [
        {
         "name": "index",
         "rawType": "int64",
         "type": "integer"
        },
        {
         "name": "ID",
         "rawType": "int64",
         "type": "integer"
        },
        {
         "name": "Perioden",
         "rawType": "datetime64[ns]",
         "type": "datetime"
        },
        {
         "name": "BenzineEuro95_1",
         "rawType": "float64",
         "type": "float"
        },
        {
         "name": "Diesel_2",
         "rawType": "float64",
         "type": "float"
        },
        {
         "name": "Periode",
         "rawType": "object",
         "type": "string"
        }
       ],
       "conversionMethod": "pd.DataFrame",
       "ref": "db652e6d-f772-4c5e-9d1e-86f6212f5672",
       "rows": [
        [
         "365",
         "365",
         "2007-01-01 00:00:00",
         "1.318",
         "0.992",
         "2007/01"
        ],
        [
         "366",
         "366",
         "2007-01-02 00:00:00",
         "1.319",
         "0.993",
         "2007/01"
        ],
        [
         "367",
         "367",
         "2007-01-03 00:00:00",
         "1.324",
         "0.993",
         "2007/01"
        ],
        [
         "368",
         "368",
         "2007-01-04 00:00:00",
         "1.326",
         "0.992",
         "2007/01"
        ],
        [
         "369",
         "369",
         "2007-01-05 00:00:00",
         "1.322",
         "0.988",
         "2007/01"
        ],
        [
         "370",
         "370",
         "2007-01-06 00:00:00",
         "1.314",
         "0.974",
         "2007/01"
        ],
        [
         "371",
         "371",
         "2007-01-07 00:00:00",
         "1.313",
         "0.972",
         "2007/01"
        ],
        [
         "372",
         "372",
         "2007-01-08 00:00:00",
         "1.313",
         "0.973",
         "2007/01"
        ],
        [
         "373",
         "373",
         "2007-01-09 00:00:00",
         "1.314",
         "0.973",
         "2007/01"
        ],
        [
         "374",
         "374",
         "2007-01-10 00:00:00",
         "1.314",
         "0.972",
         "2007/01"
        ],
        [
         "375",
         "375",
         "2007-01-11 00:00:00",
         "1.312",
         "0.971",
         "2007/01"
        ],
        [
         "376",
         "376",
         "2007-01-12 00:00:00",
         "1.308",
         "0.969",
         "2007/01"
        ],
        [
         "377",
         "377",
         "2007-01-13 00:00:00",
         "1.299",
         "0.964",
         "2007/01"
        ],
        [
         "378",
         "378",
         "2007-01-14 00:00:00",
         "1.298",
         "0.964",
         "2007/01"
        ],
        [
         "379",
         "379",
         "2007-01-15 00:00:00",
         "1.298",
         "0.964",
         "2007/01"
        ],
        [
         "380",
         "380",
         "2007-01-16 00:00:00",
         "1.297",
         "0.961",
         "2007/01"
        ],
        [
         "381",
         "381",
         "2007-01-17 00:00:00",
         "1.295",
         "0.961",
         "2007/01"
        ],
        [
         "382",
         "382",
         "2007-01-18 00:00:00",
         "1.288",
         "0.958",
         "2007/01"
        ],
        [
         "383",
         "383",
         "2007-01-19 00:00:00",
         "1.286",
         "0.957",
         "2007/01"
        ],
        [
         "384",
         "384",
         "2007-01-20 00:00:00",
         "1.284",
         "0.957",
         "2007/01"
        ],
        [
         "385",
         "385",
         "2007-01-21 00:00:00",
         "1.283",
         "0.955",
         "2007/01"
        ],
        [
         "386",
         "386",
         "2007-01-22 00:00:00",
         "1.284",
         "0.956",
         "2007/01"
        ],
        [
         "387",
         "387",
         "2007-01-23 00:00:00",
         "1.286",
         "0.959",
         "2007/01"
        ],
        [
         "388",
         "388",
         "2007-01-24 00:00:00",
         "1.291",
         "0.964",
         "2007/01"
        ],
        [
         "389",
         "389",
         "2007-01-25 00:00:00",
         "1.297",
         "0.968",
         "2007/01"
        ],
        [
         "390",
         "390",
         "2007-01-26 00:00:00",
         "1.303",
         "0.97",
         "2007/01"
        ],
        [
         "391",
         "391",
         "2007-01-27 00:00:00",
         "1.302",
         "0.97",
         "2007/01"
        ],
        [
         "392",
         "392",
         "2007-01-28 00:00:00",
         "1.301",
         "0.97",
         "2007/01"
        ],
        [
         "393",
         "393",
         "2007-01-29 00:00:00",
         "1.302",
         "0.97",
         "2007/01"
        ],
        [
         "394",
         "394",
         "2007-01-30 00:00:00",
         "1.302",
         "0.971",
         "2007/01"
        ],
        [
         "395",
         "395",
         "2007-01-31 00:00:00",
         "1.301",
         "0.969",
         "2007/01"
        ],
        [
         "396",
         "396",
         "2007-02-01 00:00:00",
         "1.307",
         "0.977",
         "2007/02"
        ],
        [
         "397",
         "397",
         "2007-02-02 00:00:00",
         "1.308",
         "0.98",
         "2007/02"
        ],
        [
         "398",
         "398",
         "2007-02-03 00:00:00",
         "1.31",
         "0.983",
         "2007/02"
        ],
        [
         "399",
         "399",
         "2007-02-04 00:00:00",
         "1.31",
         "0.984",
         "2007/02"
        ],
        [
         "400",
         "400",
         "2007-02-05 00:00:00",
         "1.312",
         "0.984",
         "2007/02"
        ],
        [
         "401",
         "401",
         "2007-02-06 00:00:00",
         "1.316",
         "0.99",
         "2007/02"
        ],
        [
         "402",
         "402",
         "2007-02-07 00:00:00",
         "1.321",
         "0.998",
         "2007/02"
        ],
        [
         "403",
         "403",
         "2007-02-08 00:00:00",
         "1.322",
         "0.998",
         "2007/02"
        ],
        [
         "404",
         "404",
         "2007-02-09 00:00:00",
         "1.322",
         "0.996",
         "2007/02"
        ],
        [
         "405",
         "405",
         "2007-02-10 00:00:00",
         "1.322",
         "0.996",
         "2007/02"
        ],
        [
         "406",
         "406",
         "2007-02-11 00:00:00",
         "1.321",
         "0.995",
         "2007/02"
        ],
        [
         "407",
         "407",
         "2007-02-12 00:00:00",
         "1.322",
         "0.996",
         "2007/02"
        ],
        [
         "408",
         "408",
         "2007-02-13 00:00:00",
         "1.323",
         "0.997",
         "2007/02"
        ],
        [
         "409",
         "409",
         "2007-02-14 00:00:00",
         "1.321",
         "0.992",
         "2007/02"
        ],
        [
         "410",
         "410",
         "2007-02-15 00:00:00",
         "1.32",
         "0.989",
         "2007/02"
        ],
        [
         "411",
         "411",
         "2007-02-16 00:00:00",
         "1.32",
         "0.988",
         "2007/02"
        ],
        [
         "412",
         "412",
         "2007-02-17 00:00:00",
         "1.319",
         "0.982",
         "2007/02"
        ],
        [
         "413",
         "413",
         "2007-02-18 00:00:00",
         "1.318",
         "0.981",
         "2007/02"
        ],
        [
         "414",
         "414",
         "2007-02-19 00:00:00",
         "1.318",
         "0.981",
         "2007/02"
        ]
       ],
       "shape": {
        "columns": 5,
        "rows": 6665
       }
      },
      "text/html": [
       "<div>\n",
       "<style scoped>\n",
       "    .dataframe tbody tr th:only-of-type {\n",
       "        vertical-align: middle;\n",
       "    }\n",
       "\n",
       "    .dataframe tbody tr th {\n",
       "        vertical-align: top;\n",
       "    }\n",
       "\n",
       "    .dataframe thead th {\n",
       "        text-align: right;\n",
       "    }\n",
       "</style>\n",
       "<table border=\"1\" class=\"dataframe\">\n",
       "  <thead>\n",
       "    <tr style=\"text-align: right;\">\n",
       "      <th></th>\n",
       "      <th>ID</th>\n",
       "      <th>Perioden</th>\n",
       "      <th>BenzineEuro95_1</th>\n",
       "      <th>Diesel_2</th>\n",
       "      <th>Periode</th>\n",
       "    </tr>\n",
       "  </thead>\n",
       "  <tbody>\n",
       "    <tr>\n",
       "      <th>365</th>\n",
       "      <td>365</td>\n",
       "      <td>2007-01-01</td>\n",
       "      <td>1.318</td>\n",
       "      <td>0.992</td>\n",
       "      <td>2007/01</td>\n",
       "    </tr>\n",
       "    <tr>\n",
       "      <th>366</th>\n",
       "      <td>366</td>\n",
       "      <td>2007-01-02</td>\n",
       "      <td>1.319</td>\n",
       "      <td>0.993</td>\n",
       "      <td>2007/01</td>\n",
       "    </tr>\n",
       "    <tr>\n",
       "      <th>367</th>\n",
       "      <td>367</td>\n",
       "      <td>2007-01-03</td>\n",
       "      <td>1.324</td>\n",
       "      <td>0.993</td>\n",
       "      <td>2007/01</td>\n",
       "    </tr>\n",
       "    <tr>\n",
       "      <th>368</th>\n",
       "      <td>368</td>\n",
       "      <td>2007-01-04</td>\n",
       "      <td>1.326</td>\n",
       "      <td>0.992</td>\n",
       "      <td>2007/01</td>\n",
       "    </tr>\n",
       "    <tr>\n",
       "      <th>369</th>\n",
       "      <td>369</td>\n",
       "      <td>2007-01-05</td>\n",
       "      <td>1.322</td>\n",
       "      <td>0.988</td>\n",
       "      <td>2007/01</td>\n",
       "    </tr>\n",
       "    <tr>\n",
       "      <th>...</th>\n",
       "      <td>...</td>\n",
       "      <td>...</td>\n",
       "      <td>...</td>\n",
       "      <td>...</td>\n",
       "      <td>...</td>\n",
       "    </tr>\n",
       "    <tr>\n",
       "      <th>7025</th>\n",
       "      <td>7025</td>\n",
       "      <td>2025-03-27</td>\n",
       "      <td>1.895</td>\n",
       "      <td>1.658</td>\n",
       "      <td>2025/03</td>\n",
       "    </tr>\n",
       "    <tr>\n",
       "      <th>7026</th>\n",
       "      <td>7026</td>\n",
       "      <td>2025-03-28</td>\n",
       "      <td>1.903</td>\n",
       "      <td>1.660</td>\n",
       "      <td>2025/03</td>\n",
       "    </tr>\n",
       "    <tr>\n",
       "      <th>7027</th>\n",
       "      <td>7027</td>\n",
       "      <td>2025-03-29</td>\n",
       "      <td>1.910</td>\n",
       "      <td>1.662</td>\n",
       "      <td>2025/03</td>\n",
       "    </tr>\n",
       "    <tr>\n",
       "      <th>7028</th>\n",
       "      <td>7028</td>\n",
       "      <td>2025-03-30</td>\n",
       "      <td>1.913</td>\n",
       "      <td>1.664</td>\n",
       "      <td>2025/03</td>\n",
       "    </tr>\n",
       "    <tr>\n",
       "      <th>7029</th>\n",
       "      <td>7029</td>\n",
       "      <td>2025-03-31</td>\n",
       "      <td>1.918</td>\n",
       "      <td>1.671</td>\n",
       "      <td>2025/03</td>\n",
       "    </tr>\n",
       "  </tbody>\n",
       "</table>\n",
       "<p>6665 rows × 5 columns</p>\n",
       "</div>"
      ],
      "text/plain": [
       "        ID   Perioden  BenzineEuro95_1  Diesel_2  Periode\n",
       "365    365 2007-01-01            1.318     0.992  2007/01\n",
       "366    366 2007-01-02            1.319     0.993  2007/01\n",
       "367    367 2007-01-03            1.324     0.993  2007/01\n",
       "368    368 2007-01-04            1.326     0.992  2007/01\n",
       "369    369 2007-01-05            1.322     0.988  2007/01\n",
       "...    ...        ...              ...       ...      ...\n",
       "7025  7025 2025-03-27            1.895     1.658  2025/03\n",
       "7026  7026 2025-03-28            1.903     1.660  2025/03\n",
       "7027  7027 2025-03-29            1.910     1.662  2025/03\n",
       "7028  7028 2025-03-30            1.913     1.664  2025/03\n",
       "7029  7029 2025-03-31            1.918     1.671  2025/03\n",
       "\n",
       "[6665 rows x 5 columns]"
      ]
     },
     "metadata": {},
     "output_type": "display_data"
    }
   ],
   "source": [
    "# Stap 1: Zet 'Perioden' om naar datetime met expliciet format\n",
    "df_pompprijzen['Perioden'] = pd.to_datetime(df_pompprijzen['Perioden'], format='%Y%m%d', errors='coerce')\n",
    "\n",
    "# Stap 2: Filter op gewenste periode\n",
    "df_pompprijzen = df_pompprijzen[\n",
    "    (df_pompprijzen['Perioden'] >= '2007-01-01') &\n",
    "    (df_pompprijzen['Perioden'] <= '2025-03-31')\n",
    "]\n",
    "\n",
    "# Stap 3: Zet datum om naar maandformaat YYYY/MM (direct goed)\n",
    "df_pompprijzen['Periode'] = df_pompprijzen['Perioden'].dt.strftime('%Y/%m')\n",
    "\n",
    "display(df_pompprijzen)"
   ]
  },
  {
   "cell_type": "code",
   "execution_count": 128,
   "id": "cbd20863",
   "metadata": {},
   "outputs": [
    {
     "data": {
      "application/vnd.microsoft.datawrangler.viewer.v0+json": {
       "columns": [
        {
         "name": "index",
         "rawType": "int64",
         "type": "integer"
        },
        {
         "name": "Periode",
         "rawType": "object",
         "type": "string"
        },
        {
         "name": "BenzineEuro95_1_mean",
         "rawType": "float64",
         "type": "float"
        },
        {
         "name": "Diesel_2_mean",
         "rawType": "float64",
         "type": "float"
        }
       ],
       "conversionMethod": "pd.DataFrame",
       "ref": "2d77714d-1249-4b2e-8594-7410225afa7e",
       "rows": [
        [
         "0",
         "2007/01",
         "1.3030322580645162",
         "0.97"
        ],
        [
         "1",
         "2007/02",
         "1.325357142857143",
         "0.99"
        ],
        [
         "2",
         "2007/03",
         "1.3790322580645162",
         "1.0063225806451612"
        ],
        [
         "3",
         "2007/04",
         "1.4265",
         "1.0306"
        ],
        [
         "4",
         "2007/05",
         "1.4665161290322581",
         "1.0323225806451612"
        ],
        [
         "5",
         "2007/06",
         "1.4546",
         "1.0534333333333334"
        ],
        [
         "6",
         "2007/07",
         "1.4439032258064517",
         "1.063483870967742"
        ],
        [
         "7",
         "2007/08",
         "1.4081612903225806",
         "1.0523870967741937"
        ],
        [
         "8",
         "2007/09",
         "1.4240333333333333",
         "1.0811333333333333"
        ],
        [
         "9",
         "2007/10",
         "1.417",
         "1.0952580645161292"
        ],
        [
         "10",
         "2007/11",
         "1.4683666666666668",
         "1.1859333333333335"
        ],
        [
         "11",
         "2007/12",
         "1.4485483870967741",
         "1.1526451612903226"
        ],
        [
         "12",
         "2008/01",
         "1.4643548387096774",
         "1.1459032258064514"
        ],
        [
         "13",
         "2008/02",
         "1.4743103448275863",
         "1.1692758620689654"
        ],
        [
         "14",
         "2008/03",
         "1.4785483870967742",
         "1.232032258064516"
        ],
        [
         "15",
         "2008/04",
         "1.5168333333333335",
         "1.2604"
        ],
        [
         "16",
         "2008/05",
         "1.574774193548387",
         "1.3724838709677418"
        ],
        [
         "17",
         "2008/06",
         "1.6275333333333333",
         "1.399"
        ],
        [
         "18",
         "2008/07",
         "1.612967741935484",
         "1.423451612903226"
        ],
        [
         "19",
         "2008/08",
         "1.557774193548387",
         "1.3223548387096775"
        ],
        [
         "20",
         "2008/09",
         "1.5451333333333332",
         "1.2918666666666667"
        ],
        [
         "21",
         "2008/10",
         "1.4062903225806451",
         "1.1958387096774192"
        ],
        [
         "22",
         "2008/11",
         "1.269",
         "1.1026666666666667"
        ],
        [
         "23",
         "2008/12",
         "1.190774193548387",
         "0.9787096774193549"
        ],
        [
         "24",
         "2009/01",
         "1.2310967741935483",
         "0.9777741935483871"
        ],
        [
         "25",
         "2009/02",
         "1.276",
         "0.9732142857142857"
        ],
        [
         "26",
         "2009/03",
         "1.2811612903225806",
         "0.96"
        ],
        [
         "27",
         "2009/04",
         "1.3124",
         "0.9781666666666666"
        ],
        [
         "28",
         "2009/05",
         "1.3627741935483872",
         "0.9848064516129033"
        ],
        [
         "29",
         "2009/06",
         "1.4190333333333334",
         "1.0345666666666666"
        ],
        [
         "30",
         "2009/07",
         "1.3740645161290324",
         "1.0150967741935484"
        ],
        [
         "31",
         "2009/08",
         "1.422",
         "1.049741935483871"
        ],
        [
         "32",
         "2009/09",
         "1.3782999999999999",
         "1.0224"
        ],
        [
         "33",
         "2009/10",
         "1.3801935483870968",
         "1.042258064516129"
        ],
        [
         "34",
         "2009/11",
         "1.4088999999999998",
         "1.0583666666666667"
        ],
        [
         "35",
         "2009/12",
         "1.3979677419354837",
         "1.056258064516129"
        ],
        [
         "36",
         "2010/01",
         "1.4445806451612901",
         "1.098032258064516"
        ],
        [
         "37",
         "2010/02",
         "1.4521071428571428",
         "1.0970714285714285"
        ],
        [
         "38",
         "2010/03",
         "1.5057096774193548",
         "1.139483870967742"
        ],
        [
         "39",
         "2010/04",
         "1.5314",
         "1.1821666666666668"
        ],
        [
         "40",
         "2010/05",
         "1.5242258064516128",
         "1.1892258064516128"
        ],
        [
         "41",
         "2010/06",
         "1.5202",
         "1.1911666666666667"
        ],
        [
         "42",
         "2010/07",
         "1.4992258064516129",
         "1.1682258064516131"
        ],
        [
         "43",
         "2010/08",
         "1.4913225806451613",
         "1.1679032258064515"
        ],
        [
         "44",
         "2010/09",
         "1.4959666666666667",
         "1.1767666666666665"
        ],
        [
         "45",
         "2010/10",
         "1.4934193548387096",
         "1.1836774193548387"
        ],
        [
         "46",
         "2010/11",
         "1.5072333333333332",
         "1.2002666666666668"
        ],
        [
         "47",
         "2010/12",
         "1.569258064516129",
         "1.2510967741935484"
        ],
        [
         "48",
         "2011/01",
         "1.5931290322580645",
         "1.2875161290322579"
        ],
        [
         "49",
         "2011/02",
         "1.597392857142857",
         "1.3132857142857142"
        ]
       ],
       "shape": {
        "columns": 3,
        "rows": 219
       }
      },
      "text/html": [
       "<div>\n",
       "<style scoped>\n",
       "    .dataframe tbody tr th:only-of-type {\n",
       "        vertical-align: middle;\n",
       "    }\n",
       "\n",
       "    .dataframe tbody tr th {\n",
       "        vertical-align: top;\n",
       "    }\n",
       "\n",
       "    .dataframe thead th {\n",
       "        text-align: right;\n",
       "    }\n",
       "</style>\n",
       "<table border=\"1\" class=\"dataframe\">\n",
       "  <thead>\n",
       "    <tr style=\"text-align: right;\">\n",
       "      <th></th>\n",
       "      <th>Periode</th>\n",
       "      <th>BenzineEuro95_1_mean</th>\n",
       "      <th>Diesel_2_mean</th>\n",
       "    </tr>\n",
       "  </thead>\n",
       "  <tbody>\n",
       "    <tr>\n",
       "      <th>0</th>\n",
       "      <td>2007/01</td>\n",
       "      <td>1.303032</td>\n",
       "      <td>0.970000</td>\n",
       "    </tr>\n",
       "    <tr>\n",
       "      <th>1</th>\n",
       "      <td>2007/02</td>\n",
       "      <td>1.325357</td>\n",
       "      <td>0.990000</td>\n",
       "    </tr>\n",
       "    <tr>\n",
       "      <th>2</th>\n",
       "      <td>2007/03</td>\n",
       "      <td>1.379032</td>\n",
       "      <td>1.006323</td>\n",
       "    </tr>\n",
       "    <tr>\n",
       "      <th>3</th>\n",
       "      <td>2007/04</td>\n",
       "      <td>1.426500</td>\n",
       "      <td>1.030600</td>\n",
       "    </tr>\n",
       "    <tr>\n",
       "      <th>4</th>\n",
       "      <td>2007/05</td>\n",
       "      <td>1.466516</td>\n",
       "      <td>1.032323</td>\n",
       "    </tr>\n",
       "    <tr>\n",
       "      <th>...</th>\n",
       "      <td>...</td>\n",
       "      <td>...</td>\n",
       "      <td>...</td>\n",
       "    </tr>\n",
       "    <tr>\n",
       "      <th>214</th>\n",
       "      <td>2024/11</td>\n",
       "      <td>1.947800</td>\n",
       "      <td>1.716167</td>\n",
       "    </tr>\n",
       "    <tr>\n",
       "      <th>215</th>\n",
       "      <td>2024/12</td>\n",
       "      <td>1.947871</td>\n",
       "      <td>1.725774</td>\n",
       "    </tr>\n",
       "    <tr>\n",
       "      <th>216</th>\n",
       "      <td>2025/01</td>\n",
       "      <td>1.960935</td>\n",
       "      <td>1.753516</td>\n",
       "    </tr>\n",
       "    <tr>\n",
       "      <th>217</th>\n",
       "      <td>2025/02</td>\n",
       "      <td>1.967714</td>\n",
       "      <td>1.742036</td>\n",
       "    </tr>\n",
       "    <tr>\n",
       "      <th>218</th>\n",
       "      <td>2025/03</td>\n",
       "      <td>1.905581</td>\n",
       "      <td>1.678645</td>\n",
       "    </tr>\n",
       "  </tbody>\n",
       "</table>\n",
       "<p>219 rows × 3 columns</p>\n",
       "</div>"
      ],
      "text/plain": [
       "     Periode  BenzineEuro95_1_mean  Diesel_2_mean\n",
       "0    2007/01              1.303032       0.970000\n",
       "1    2007/02              1.325357       0.990000\n",
       "2    2007/03              1.379032       1.006323\n",
       "3    2007/04              1.426500       1.030600\n",
       "4    2007/05              1.466516       1.032323\n",
       "..       ...                   ...            ...\n",
       "214  2024/11              1.947800       1.716167\n",
       "215  2024/12              1.947871       1.725774\n",
       "216  2025/01              1.960935       1.753516\n",
       "217  2025/02              1.967714       1.742036\n",
       "218  2025/03              1.905581       1.678645\n",
       "\n",
       "[219 rows x 3 columns]"
      ]
     },
     "metadata": {},
     "output_type": "display_data"
    }
   ],
   "source": [
    "\n",
    "\n",
    "# Stap 4: Maandgemiddelde berekenen\n",
    "df_maandelijks = df_pompprijzen.groupby('Periode')[\n",
    "    ['BenzineEuro95_1', 'Diesel_2']\n",
    "].mean().reset_index()\n",
    "\n",
    "# Alleen het maandgemiddelde per brandstofsoort per maand\n",
    "df_pompprijzen_aggregatie = df_maandelijks.copy()\n",
    "\n",
    "# Stap 6: Kolomnamen netjes maken\n",
    "df_pompprijzen_aggregatie.columns = ['Periode', 'BenzineEuro95_1_mean', 'Diesel_2_mean']\n",
    "\n",
    "# Stap 3: Zet datum om naar maandformaat YYYY/MM\n",
    "df_pompprijzen['Periode'] = df_pompprijzen['Perioden'].dt.strftime('%Y/%m')\n",
    "\n",
    "display(df_pompprijzen_aggregatie)\n",
    "\n"
   ]
  },
  {
   "cell_type": "code",
   "execution_count": null,
   "id": "bce6fa47",
   "metadata": {},
   "outputs": [
    {
     "data": {
      "application/vnd.microsoft.datawrangler.viewer.v0+json": {
       "columns": [
        {
         "name": "index",
         "rawType": "int64",
         "type": "integer"
        },
        {
         "name": "Periode",
         "rawType": "object",
         "type": "string"
        },
        {
         "name": "BenzineEuro95_1_first",
         "rawType": "float64",
         "type": "float"
        },
        {
         "name": "BenzineEuro95_1_last",
         "rawType": "float64",
         "type": "float"
        },
        {
         "name": "BenzineEuro95_1_min",
         "rawType": "float64",
         "type": "float"
        },
        {
         "name": "BenzineEuro95_1_max",
         "rawType": "float64",
         "type": "float"
        },
        {
         "name": "BenzineEuro95_1_mean",
         "rawType": "float64",
         "type": "float"
        },
        {
         "name": "Diesel_2_first",
         "rawType": "float64",
         "type": "float"
        },
        {
         "name": "Diesel_2_last",
         "rawType": "float64",
         "type": "float"
        },
        {
         "name": "Diesel_2_min",
         "rawType": "float64",
         "type": "float"
        },
        {
         "name": "Diesel_2_max",
         "rawType": "float64",
         "type": "float"
        },
        {
         "name": "Diesel_2_mean",
         "rawType": "float64",
         "type": "float"
        }
       ],
       "conversionMethod": "pd.DataFrame",
       "ref": "ac2e9a0a-2d15-4d36-84c1-cb76f8ca8fec",
       "rows": [
        [
         "0",
         "2007/01",
         "1.318",
         "1.301",
         "1.283",
         "1.326",
         "1.3030322580645162",
         "0.992",
         "0.969",
         "0.955",
         "0.993",
         "0.97"
        ],
        [
         "1",
         "2007/02",
         "1.307",
         "1.362",
         "1.307",
         "1.362",
         "1.325357142857143",
         "0.977",
         "1.003",
         "0.977",
         "1.003",
         "0.99"
        ],
        [
         "2",
         "2007/03",
         "1.365",
         "1.416",
         "1.361",
         "1.416",
         "1.3790322580645162",
         "1.003",
         "1.038",
         "0.995",
         "1.038",
         "1.0063225806451612"
        ],
        [
         "3",
         "2007/04",
         "1.414",
         "1.45",
         "1.41",
         "1.451",
         "1.4265",
         "1.036",
         "1.026",
         "1.019",
         "1.039",
         "1.0306"
        ],
        [
         "4",
         "2007/05",
         "1.452",
         "1.463",
         "1.449",
         "1.483",
         "1.4665161290322581",
         "1.028",
         "1.037",
         "1.021",
         "1.047",
         "1.0323225806451612"
        ],
        [
         "5",
         "2007/06",
         "1.458",
         "1.45",
         "1.445",
         "1.461",
         "1.4546",
         "1.035",
         "1.057",
         "1.035",
         "1.066",
         "1.0534333333333334"
        ],
        [
         "6",
         "2007/07",
         "1.451",
         "1.414",
         "1.414",
         "1.469",
         "1.4439032258064517",
         "1.057",
         "1.064",
         "1.057",
         "1.069",
         "1.063483870967742"
        ],
        [
         "7",
         "2007/08",
         "1.415",
         "1.421",
         "1.399",
         "1.421",
         "1.4081612903225806",
         "1.066",
         "1.055",
         "1.045",
         "1.068",
         "1.0523870967741937"
        ],
        [
         "8",
         "2007/09",
         "1.422",
         "1.413",
         "1.412",
         "1.434",
         "1.4240333333333333",
         "1.056",
         "1.09",
         "1.056",
         "1.094",
         "1.0811333333333333"
        ],
        [
         "9",
         "2007/10",
         "1.413",
         "1.452",
         "1.395",
         "1.452",
         "1.417",
         "1.09",
         "1.128",
         "1.079",
         "1.128",
         "1.0952580645161292"
        ],
        [
         "10",
         "2007/11",
         "1.456",
         "1.451",
         "1.451",
         "1.479",
         "1.4683666666666668",
         "1.133",
         "1.188",
         "1.133",
         "1.206",
         "1.1859333333333335"
        ],
        [
         "11",
         "2007/12",
         "1.441",
         "1.471",
         "1.43",
         "1.471",
         "1.4485483870967741",
         "1.177",
         "1.161",
         "1.127",
         "1.177",
         "1.1526451612903226"
        ],
        [
         "12",
         "2008/01",
         "1.48",
         "1.449",
         "1.437",
         "1.5",
         "1.4643548387096774",
         "1.165",
         "1.137",
         "1.124",
         "1.173",
         "1.1459032258064514"
        ],
        [
         "13",
         "2008/02",
         "1.45",
         "1.498",
         "1.436",
         "1.506",
         "1.4743103448275863",
         "1.138",
         "1.202",
         "1.126",
         "1.205",
         "1.1692758620689654"
        ],
        [
         "14",
         "2008/03",
         "1.492",
         "1.491",
         "1.454",
         "1.492",
         "1.4785483870967742",
         "1.204",
         "1.227",
         "1.203",
         "1.258",
         "1.232032258064516"
        ],
        [
         "15",
         "2008/04",
         "1.493",
         "1.544",
         "1.49",
         "1.547",
         "1.5168333333333335",
         "1.228",
         "1.314",
         "1.214",
         "1.314",
         "1.2604"
        ],
        [
         "16",
         "2008/05",
         "1.543",
         "1.611",
         "1.53",
         "1.611",
         "1.574774193548387",
         "1.314",
         "1.405",
         "1.298",
         "1.437",
         "1.3724838709677418"
        ],
        [
         "17",
         "2008/06",
         "1.611",
         "1.63",
         "1.602",
         "1.644",
         "1.6275333333333333",
         "1.402",
         "1.396",
         "1.372",
         "1.42",
         "1.399"
        ],
        [
         "18",
         "2008/07",
         "1.633",
         "1.555",
         "1.555",
         "1.644",
         "1.612967741935484",
         "1.428",
         "1.363",
         "1.363",
         "1.461",
         "1.423451612903226"
        ],
        [
         "19",
         "2008/08",
         "1.556",
         "1.58",
         "1.546",
         "1.583",
         "1.557774193548387",
         "1.363",
         "1.33",
         "1.302",
         "1.363",
         "1.3223548387096775"
        ],
        [
         "20",
         "2008/09",
         "1.581",
         "1.519",
         "1.51",
         "1.582",
         "1.5451333333333332",
         "1.33",
         "1.286",
         "1.267",
         "1.33",
         "1.2918666666666667"
        ],
        [
         "21",
         "2008/10",
         "1.505",
         "1.328",
         "1.328",
         "1.509",
         "1.4062903225806451",
         "1.283",
         "1.144",
         "1.14",
         "1.287",
         "1.1958387096774192"
        ],
        [
         "22",
         "2008/11",
         "1.316",
         "1.239",
         "1.22",
         "1.316",
         "1.269",
         "1.138",
         "1.057",
         "1.056",
         "1.151",
         "1.1026666666666667"
        ],
        [
         "23",
         "2008/12",
         "1.241",
         "1.152",
         "1.151",
         "1.245",
         "1.190774193548387",
         "1.058",
         "0.93",
         "0.93",
         "1.058",
         "0.9787096774193549"
        ],
        [
         "24",
         "2009/01",
         "1.161",
         "1.265",
         "1.161",
         "1.265",
         "1.2310967741935483",
         "0.935",
         "0.986",
         "0.935",
         "1.017",
         "0.9777741935483871"
        ],
        [
         "25",
         "2009/02",
         "1.264",
         "1.274",
         "1.258",
         "1.297",
         "1.276",
         "0.985",
         "0.963",
         "0.956",
         "0.988",
         "0.9732142857142857"
        ],
        [
         "26",
         "2009/03",
         "1.274",
         "1.305",
         "1.264",
         "1.305",
         "1.2811612903225806",
         "0.963",
         "0.986",
         "0.939",
         "0.986",
         "0.96"
        ],
        [
         "27",
         "2009/04",
         "1.301",
         "1.31",
         "1.301",
         "1.323",
         "1.3124",
         "0.982",
         "0.959",
         "0.959",
         "0.985",
         "0.9781666666666666"
        ],
        [
         "28",
         "2009/05",
         "1.311",
         "1.386",
         "1.311",
         "1.397",
         "1.3627741935483872",
         "0.96",
         "0.995",
         "0.959",
         "0.997",
         "0.9848064516129033"
        ],
        [
         "29",
         "2009/06",
         "1.387",
         "1.398",
         "1.387",
         "1.448",
         "1.4190333333333334",
         "0.996",
         "1.037",
         "0.996",
         "1.051",
         "1.0345666666666666"
        ],
        [
         "30",
         "2009/07",
         "1.4",
         "1.398",
         "1.354",
         "1.401",
         "1.3740645161290324",
         "1.038",
         "1.032",
         "0.996",
         "1.038",
         "1.0150967741935484"
        ],
        [
         "31",
         "2009/08",
         "1.402",
         "1.411",
         "1.402",
         "1.446",
         "1.422",
         "1.031",
         "1.049",
         "1.031",
         "1.062",
         "1.049741935483871"
        ],
        [
         "32",
         "2009/09",
         "1.409",
         "1.344",
         "1.344",
         "1.409",
         "1.3782999999999999",
         "1.048",
         "1.004",
         "1.004",
         "1.048",
         "1.0224"
        ],
        [
         "33",
         "2009/10",
         "1.341",
         "1.415",
         "1.341",
         "1.415",
         "1.3801935483870968",
         "1.004",
         "1.067",
         "1.004",
         "1.068",
         "1.042258064516129"
        ],
        [
         "34",
         "2009/11",
         "1.414",
         "1.401",
         "1.401",
         "1.416",
         "1.4088999999999998",
         "1.067",
         "1.047",
         "1.046",
         "1.07",
         "1.0583666666666667"
        ],
        [
         "35",
         "2009/12",
         "1.399",
         "1.418",
         "1.384",
         "1.418",
         "1.3979677419354837",
         "1.047",
         "1.083",
         "1.044",
         "1.083",
         "1.056258064516129"
        ],
        [
         "36",
         "2010/01",
         "1.431",
         "1.437",
         "1.431",
         "1.456",
         "1.4445806451612901",
         "1.091",
         "1.079",
         "1.079",
         "1.116",
         "1.098032258064516"
        ],
        [
         "37",
         "2010/02",
         "1.439",
         "1.475",
         "1.439",
         "1.476",
         "1.4521071428571428",
         "1.08",
         "1.124",
         "1.077",
         "1.126",
         "1.0970714285714285"
        ],
        [
         "38",
         "2010/03",
         "1.476",
         "1.521",
         "1.476",
         "1.521",
         "1.5057096774193548",
         "1.125",
         "1.156",
         "1.125",
         "1.156",
         "1.139483870967742"
        ],
        [
         "39",
         "2010/04",
         "1.524",
         "1.538",
         "1.521",
         "1.539",
         "1.5314",
         "1.159",
         "1.195",
         "1.159",
         "1.195",
         "1.1821666666666668"
        ],
        [
         "40",
         "2010/05",
         "1.537",
         "1.505",
         "1.497",
         "1.548",
         "1.5242258064516128",
         "1.194",
         "1.174",
         "1.165",
         "1.213",
         "1.1892258064516128"
        ],
        [
         "41",
         "2010/06",
         "1.508",
         "1.525",
         "1.508",
         "1.528",
         "1.5202",
         "1.176",
         "1.197",
         "1.176",
         "1.206",
         "1.1911666666666667"
        ],
        [
         "42",
         "2010/07",
         "1.522",
         "1.498",
         "1.489",
         "1.522",
         "1.4992258064516129",
         "1.196",
         "1.163",
         "1.157",
         "1.196",
         "1.1682258064516131"
        ],
        [
         "43",
         "2010/08",
         "1.498",
         "1.479",
         "1.478",
         "1.5",
         "1.4913225806451613",
         "1.163",
         "1.164",
         "1.16",
         "1.177",
         "1.1679032258064515"
        ],
        [
         "44",
         "2010/09",
         "1.483",
         "1.479",
         "1.479",
         "1.508",
         "1.4959666666666667",
         "1.168",
         "1.167",
         "1.166",
         "1.186",
         "1.1767666666666665"
        ],
        [
         "45",
         "2010/10",
         "1.479",
         "1.494",
         "1.479",
         "1.502",
         "1.4934193548387096",
         "1.168",
         "1.184",
         "1.168",
         "1.186",
         "1.1836774193548387"
        ],
        [
         "46",
         "2010/11",
         "1.496",
         "1.525",
         "1.49",
         "1.525",
         "1.5072333333333332",
         "1.185",
         "1.214",
         "1.185",
         "1.214",
         "1.2002666666666668"
        ],
        [
         "47",
         "2010/12",
         "1.534",
         "1.584",
         "1.534",
         "1.584",
         "1.569258064516129",
         "1.224",
         "1.269",
         "1.224",
         "1.269",
         "1.2510967741935484"
        ],
        [
         "48",
         "2011/01",
         "1.583",
         "1.573",
         "1.572",
         "1.611",
         "1.5931290322580645",
         "1.268",
         "1.285",
         "1.268",
         "1.302",
         "1.2875161290322579"
        ],
        [
         "49",
         "2011/02",
         "1.573",
         "1.633",
         "1.573",
         "1.633",
         "1.597392857142857",
         "1.284",
         "1.344",
         "1.284",
         "1.344",
         "1.3132857142857142"
        ]
       ],
       "shape": {
        "columns": 11,
        "rows": 219
       }
      },
      "text/html": [
       "<div>\n",
       "<style scoped>\n",
       "    .dataframe tbody tr th:only-of-type {\n",
       "        vertical-align: middle;\n",
       "    }\n",
       "\n",
       "    .dataframe tbody tr th {\n",
       "        vertical-align: top;\n",
       "    }\n",
       "\n",
       "    .dataframe thead th {\n",
       "        text-align: right;\n",
       "    }\n",
       "</style>\n",
       "<table border=\"1\" class=\"dataframe\">\n",
       "  <thead>\n",
       "    <tr style=\"text-align: right;\">\n",
       "      <th></th>\n",
       "      <th>Periode</th>\n",
       "      <th>BenzineEuro95_1_first</th>\n",
       "      <th>BenzineEuro95_1_last</th>\n",
       "      <th>BenzineEuro95_1_min</th>\n",
       "      <th>BenzineEuro95_1_max</th>\n",
       "      <th>BenzineEuro95_1_mean</th>\n",
       "      <th>Diesel_2_first</th>\n",
       "      <th>Diesel_2_last</th>\n",
       "      <th>Diesel_2_min</th>\n",
       "      <th>Diesel_2_max</th>\n",
       "      <th>Diesel_2_mean</th>\n",
       "    </tr>\n",
       "  </thead>\n",
       "  <tbody>\n",
       "    <tr>\n",
       "      <th>0</th>\n",
       "      <td>2007/01</td>\n",
       "      <td>1.318</td>\n",
       "      <td>1.301</td>\n",
       "      <td>1.283</td>\n",
       "      <td>1.326</td>\n",
       "      <td>1.303032</td>\n",
       "      <td>0.992</td>\n",
       "      <td>0.969</td>\n",
       "      <td>0.955</td>\n",
       "      <td>0.993</td>\n",
       "      <td>0.970000</td>\n",
       "    </tr>\n",
       "    <tr>\n",
       "      <th>1</th>\n",
       "      <td>2007/02</td>\n",
       "      <td>1.307</td>\n",
       "      <td>1.362</td>\n",
       "      <td>1.307</td>\n",
       "      <td>1.362</td>\n",
       "      <td>1.325357</td>\n",
       "      <td>0.977</td>\n",
       "      <td>1.003</td>\n",
       "      <td>0.977</td>\n",
       "      <td>1.003</td>\n",
       "      <td>0.990000</td>\n",
       "    </tr>\n",
       "    <tr>\n",
       "      <th>2</th>\n",
       "      <td>2007/03</td>\n",
       "      <td>1.365</td>\n",
       "      <td>1.416</td>\n",
       "      <td>1.361</td>\n",
       "      <td>1.416</td>\n",
       "      <td>1.379032</td>\n",
       "      <td>1.003</td>\n",
       "      <td>1.038</td>\n",
       "      <td>0.995</td>\n",
       "      <td>1.038</td>\n",
       "      <td>1.006323</td>\n",
       "    </tr>\n",
       "    <tr>\n",
       "      <th>3</th>\n",
       "      <td>2007/04</td>\n",
       "      <td>1.414</td>\n",
       "      <td>1.450</td>\n",
       "      <td>1.410</td>\n",
       "      <td>1.451</td>\n",
       "      <td>1.426500</td>\n",
       "      <td>1.036</td>\n",
       "      <td>1.026</td>\n",
       "      <td>1.019</td>\n",
       "      <td>1.039</td>\n",
       "      <td>1.030600</td>\n",
       "    </tr>\n",
       "    <tr>\n",
       "      <th>4</th>\n",
       "      <td>2007/05</td>\n",
       "      <td>1.452</td>\n",
       "      <td>1.463</td>\n",
       "      <td>1.449</td>\n",
       "      <td>1.483</td>\n",
       "      <td>1.466516</td>\n",
       "      <td>1.028</td>\n",
       "      <td>1.037</td>\n",
       "      <td>1.021</td>\n",
       "      <td>1.047</td>\n",
       "      <td>1.032323</td>\n",
       "    </tr>\n",
       "    <tr>\n",
       "      <th>...</th>\n",
       "      <td>...</td>\n",
       "      <td>...</td>\n",
       "      <td>...</td>\n",
       "      <td>...</td>\n",
       "      <td>...</td>\n",
       "      <td>...</td>\n",
       "      <td>...</td>\n",
       "      <td>...</td>\n",
       "      <td>...</td>\n",
       "      <td>...</td>\n",
       "      <td>...</td>\n",
       "    </tr>\n",
       "    <tr>\n",
       "      <th>214</th>\n",
       "      <td>2024/11</td>\n",
       "      <td>1.914</td>\n",
       "      <td>1.955</td>\n",
       "      <td>1.912</td>\n",
       "      <td>1.986</td>\n",
       "      <td>1.947800</td>\n",
       "      <td>1.652</td>\n",
       "      <td>1.744</td>\n",
       "      <td>1.648</td>\n",
       "      <td>1.774</td>\n",
       "      <td>1.716167</td>\n",
       "    </tr>\n",
       "    <tr>\n",
       "      <th>215</th>\n",
       "      <td>2024/12</td>\n",
       "      <td>1.953</td>\n",
       "      <td>1.942</td>\n",
       "      <td>1.940</td>\n",
       "      <td>1.958</td>\n",
       "      <td>1.947871</td>\n",
       "      <td>1.740</td>\n",
       "      <td>1.720</td>\n",
       "      <td>1.716</td>\n",
       "      <td>1.748</td>\n",
       "      <td>1.725774</td>\n",
       "    </tr>\n",
       "    <tr>\n",
       "      <th>216</th>\n",
       "      <td>2025/01</td>\n",
       "      <td>1.942</td>\n",
       "      <td>1.960</td>\n",
       "      <td>1.942</td>\n",
       "      <td>1.979</td>\n",
       "      <td>1.960935</td>\n",
       "      <td>1.719</td>\n",
       "      <td>1.752</td>\n",
       "      <td>1.719</td>\n",
       "      <td>1.785</td>\n",
       "      <td>1.753516</td>\n",
       "    </tr>\n",
       "    <tr>\n",
       "      <th>217</th>\n",
       "      <td>2025/02</td>\n",
       "      <td>1.959</td>\n",
       "      <td>1.953</td>\n",
       "      <td>1.953</td>\n",
       "      <td>1.978</td>\n",
       "      <td>1.967714</td>\n",
       "      <td>1.744</td>\n",
       "      <td>1.730</td>\n",
       "      <td>1.730</td>\n",
       "      <td>1.750</td>\n",
       "      <td>1.742036</td>\n",
       "    </tr>\n",
       "    <tr>\n",
       "      <th>218</th>\n",
       "      <td>2025/03</td>\n",
       "      <td>1.950</td>\n",
       "      <td>1.918</td>\n",
       "      <td>1.871</td>\n",
       "      <td>1.953</td>\n",
       "      <td>1.905581</td>\n",
       "      <td>1.724</td>\n",
       "      <td>1.671</td>\n",
       "      <td>1.642</td>\n",
       "      <td>1.731</td>\n",
       "      <td>1.678645</td>\n",
       "    </tr>\n",
       "  </tbody>\n",
       "</table>\n",
       "<p>219 rows × 11 columns</p>\n",
       "</div>"
      ],
      "text/plain": [
       "     Periode  BenzineEuro95_1_first  BenzineEuro95_1_last  \\\n",
       "0    2007/01                  1.318                 1.301   \n",
       "1    2007/02                  1.307                 1.362   \n",
       "2    2007/03                  1.365                 1.416   \n",
       "3    2007/04                  1.414                 1.450   \n",
       "4    2007/05                  1.452                 1.463   \n",
       "..       ...                    ...                   ...   \n",
       "214  2024/11                  1.914                 1.955   \n",
       "215  2024/12                  1.953                 1.942   \n",
       "216  2025/01                  1.942                 1.960   \n",
       "217  2025/02                  1.959                 1.953   \n",
       "218  2025/03                  1.950                 1.918   \n",
       "\n",
       "     BenzineEuro95_1_min  BenzineEuro95_1_max  BenzineEuro95_1_mean  \\\n",
       "0                  1.283                1.326              1.303032   \n",
       "1                  1.307                1.362              1.325357   \n",
       "2                  1.361                1.416              1.379032   \n",
       "3                  1.410                1.451              1.426500   \n",
       "4                  1.449                1.483              1.466516   \n",
       "..                   ...                  ...                   ...   \n",
       "214                1.912                1.986              1.947800   \n",
       "215                1.940                1.958              1.947871   \n",
       "216                1.942                1.979              1.960935   \n",
       "217                1.953                1.978              1.967714   \n",
       "218                1.871                1.953              1.905581   \n",
       "\n",
       "     Diesel_2_first  Diesel_2_last  Diesel_2_min  Diesel_2_max  Diesel_2_mean  \n",
       "0             0.992          0.969         0.955         0.993       0.970000  \n",
       "1             0.977          1.003         0.977         1.003       0.990000  \n",
       "2             1.003          1.038         0.995         1.038       1.006323  \n",
       "3             1.036          1.026         1.019         1.039       1.030600  \n",
       "4             1.028          1.037         1.021         1.047       1.032323  \n",
       "..              ...            ...           ...           ...            ...  \n",
       "214           1.652          1.744         1.648         1.774       1.716167  \n",
       "215           1.740          1.720         1.716         1.748       1.725774  \n",
       "216           1.719          1.752         1.719         1.785       1.753516  \n",
       "217           1.744          1.730         1.730         1.750       1.742036  \n",
       "218           1.724          1.671         1.642         1.731       1.678645  \n",
       "\n",
       "[219 rows x 11 columns]"
      ]
     },
     "metadata": {},
     "output_type": "display_data"
    }
   ],
   "source": [
    "\n",
    "\n",
    "# # Stap 4: Maandgemiddelde berekenen\n",
    "# df_maandelijks = df_pompprijzen.groupby('Periode')[\n",
    "#     ['BenzineEuro95_1', 'Diesel_2']\n",
    "# ].mean().reset_index()\n",
    "\n",
    "# # Stap 5: Extra statistieken per maand\n",
    "# df_pompprijzen_aggregatie = df_pompprijzen.groupby('Periode').agg({\n",
    "#     'BenzineEuro95_1': ['first', 'last', 'min', 'max', 'mean'],\n",
    "#     'Diesel_2': ['first', 'last', 'min', 'max', 'mean']\n",
    "# }).reset_index()\n",
    "\n",
    "# # Stap 6: Kolomnamen netjes maken\n",
    "# df_pompprijzen_aggregatie.columns = ['Periode'] + [\n",
    "#     f'{brandstof}_{stat}' for brandstof, stat in df_pompprijzen_aggregatie.columns.tolist()[1:]\n",
    "# ]\n",
    "\n",
    "# # Stap 3: Zet datum om naar maandformaat YYYY/MM\n",
    "# df_pompprijzen['Periode'] = df_pompprijzen['Perioden'].dt.strftime('%Y/%m')\n",
    "\n",
    "# display(df_pompprijzen_aggregatie)\n",
    "\n"
   ]
  },
  {
   "cell_type": "code",
   "execution_count": 129,
   "id": "5bee75d3",
   "metadata": {},
   "outputs": [
    {
     "data": {
      "image/png": "[encoded data removed]",
      "text/plain": [
       "<Figure size 1400x600 with 1 Axes>"
      ]
     },
     "metadata": {},
     "output_type": "display_data"
    }
   ],
   "source": [
    "# Plot the monthly aggregated fuel prices for Benzine and Diesel\n",
    "plt.figure(figsize=(14, 6))\n",
    "plt.plot(df_pompprijzen_aggregatie['Periode'], df_pompprijzen_aggregatie['BenzineEuro95_1_mean'], label='BenzineEuro95 (mean)')\n",
    "plt.plot(df_pompprijzen_aggregatie['Periode'], df_pompprijzen_aggregatie['Diesel_2_mean'], label='Diesel (mean)')\n",
    "plt.xlabel('Periode')\n",
    "plt.ylabel('Prijs (€)')\n",
    "plt.title('Gemiddelde maandelijkse pompprijzen (Benzine & Diesel)')\n",
    "plt.xticks(rotation=45)\n",
    "plt.legend()\n",
    "plt.tight_layout()\n",
    "plt.show()"
   ]
  },
  {
   "cell_type": "code",
   "execution_count": 130,
   "id": "9da2bf4c",
   "metadata": {},
   "outputs": [
    {
     "name": "stdout",
     "output_type": "stream",
     "text": [
      "Ontbrekende maanden: set()\n",
      "Ontbrekende waarden per kolom:\n",
      " Periode                  0\n",
      "Consumentenvertrouwen    0\n",
      "Economisch klimaat       0\n",
      "Koopbereidheid           0\n",
      "Grote aankopen           0\n",
      "dtype: int64\n"
     ]
    }
   ],
   "source": [
    "# Controleer of alle maanden tussen 2007/01 en 2025/04 aanwezig zijn in df_consumenten_merged\n",
    "verwachte_maanden = pd.date_range(start='2007-01-01', end='2025-04-01', freq='MS').strftime('%Y/%m')\n",
    "ontbrekende_maanden = set(verwachte_maanden) - set(df_consumenten_merged['Periode'])\n",
    "\n",
    "# Controleer op ontbrekende waarden (NaN's)\n",
    "ontbrekende_waarden = df_consumenten_merged.isna().sum()\n",
    "\n",
    "print(\"Ontbrekende maanden:\", ontbrekende_maanden)\n",
    "print(\"Ontbrekende waarden per kolom:\\n\", ontbrekende_waarden)"
   ]
  },
  {
   "cell_type": "markdown",
   "id": "a12091cf",
   "metadata": {},
   "source": [
    " >Data opschonen \n",
    "\n",
    "-  perioden wijzigen naar yy/mm \n",
    "- datum selecteren 2015-1 t/m 2025-01"
   ]
  },
  {
   "cell_type": "markdown",
   "id": "c99de4ca",
   "metadata": {},
   "source": [
    "> - Perioden omzetten naar per maand (first, last, min, mean, avg voor benzine en diesel)"
   ]
  },
  {
   "cell_type": "markdown",
   "id": "9e118c8c",
   "metadata": {},
   "source": [
    "> Export CSV"
   ]
  },
  {
   "cell_type": "code",
   "execution_count": 131,
   "id": "31411101",
   "metadata": {},
   "outputs": [
    {
     "name": "stdout",
     "output_type": "stream",
     "text": [
      "CSV opgeslagen op: E:\\Nieuw dataset\\CBS POMPPRIJZEN\\df_pomprijzen_Nieuwaggregatie.csv\n"
     ]
    }
   ],
   "source": [
    "# Opslaan als CSV\n",
    "output_path = r\"E:\\Nieuw dataset\\CBS POMPPRIJZEN\\df_pomprijzen_Nieuwaggregatie.csv\"\n",
    "df_pompprijzen_aggregatie.to_csv(output_path, index=False)\n",
    "\n",
    "# Pad van de nieuwe CSV printen\n",
    "print(f\"CSV opgeslagen op: {output_path}\")"
   ]
  },
  {
   "cell_type": "markdown",
   "id": "08a8608d",
   "metadata": {},
   "source": [
    "> # BPM!"
   ]
  },
  {
   "cell_type": "code",
   "execution_count": 139,
   "id": "6b3ca8e8",
   "metadata": {},
   "outputs": [
    {
     "data": {
      "application/vnd.microsoft.datawrangler.viewer.v0+json": {
       "columns": [
        {
         "name": "index",
         "rawType": "int64",
         "type": "integer"
        },
        {
         "name": "Datum",
         "rawType": "object",
         "type": "string"
        },
        {
         "name": "Jaar",
         "rawType": "int64",
         "type": "integer"
        },
        {
         "name": "Maand",
         "rawType": "int64",
         "type": "integer"
        },
        {
         "name": "Bijtellingspercentage",
         "rawType": "int64",
         "type": "integer"
        }
       ],
       "conversionMethod": "pd.DataFrame",
       "ref": "d13fdbd3-6254-41f5-bf57-59e2b1e65811",
       "rows": [
        [
         "0",
         "2007-01-01",
         "2007",
         "1",
         "0"
        ],
        [
         "1",
         "2007-02-01",
         "2007",
         "2",
         "0"
        ],
        [
         "2",
         "2007-03-01",
         "2007",
         "3",
         "0"
        ],
        [
         "3",
         "2007-04-01",
         "2007",
         "4",
         "0"
        ],
        [
         "4",
         "2007-05-01",
         "2007",
         "5",
         "0"
        ],
        [
         "5",
         "2007-06-01",
         "2007",
         "6",
         "0"
        ],
        [
         "6",
         "2007-07-01",
         "2007",
         "7",
         "0"
        ],
        [
         "7",
         "2007-08-01",
         "2007",
         "8",
         "0"
        ],
        [
         "8",
         "2007-09-01",
         "2007",
         "9",
         "0"
        ],
        [
         "9",
         "2007-10-01",
         "2007",
         "10",
         "0"
        ],
        [
         "10",
         "2007-11-01",
         "2007",
         "11",
         "0"
        ],
        [
         "11",
         "2007-12-01",
         "2007",
         "12",
         "0"
        ],
        [
         "12",
         "2008-01-01",
         "2008",
         "1",
         "0"
        ],
        [
         "13",
         "2008-02-01",
         "2008",
         "2",
         "0"
        ],
        [
         "14",
         "2008-03-01",
         "2008",
         "3",
         "0"
        ],
        [
         "15",
         "2008-04-01",
         "2008",
         "4",
         "0"
        ],
        [
         "16",
         "2008-05-01",
         "2008",
         "5",
         "0"
        ],
        [
         "17",
         "2008-06-01",
         "2008",
         "6",
         "0"
        ],
        [
         "18",
         "2008-07-01",
         "2008",
         "7",
         "0"
        ],
        [
         "19",
         "2008-08-01",
         "2008",
         "8",
         "0"
        ],
        [
         "20",
         "2008-09-01",
         "2008",
         "9",
         "0"
        ],
        [
         "21",
         "2008-10-01",
         "2008",
         "10",
         "0"
        ],
        [
         "22",
         "2008-11-01",
         "2008",
         "11",
         "0"
        ],
        [
         "23",
         "2008-12-01",
         "2008",
         "12",
         "0"
        ],
        [
         "24",
         "2009-01-01",
         "2009",
         "1",
         "0"
        ],
        [
         "25",
         "2009-02-01",
         "2009",
         "2",
         "0"
        ],
        [
         "26",
         "2009-03-01",
         "2009",
         "3",
         "0"
        ],
        [
         "27",
         "2009-04-01",
         "2009",
         "4",
         "0"
        ],
        [
         "28",
         "2009-05-01",
         "2009",
         "5",
         "0"
        ],
        [
         "29",
         "2009-06-01",
         "2009",
         "6",
         "0"
        ],
        [
         "30",
         "2009-07-01",
         "2009",
         "7",
         "0"
        ],
        [
         "31",
         "2009-08-01",
         "2009",
         "8",
         "0"
        ],
        [
         "32",
         "2009-09-01",
         "2009",
         "9",
         "0"
        ],
        [
         "33",
         "2009-10-01",
         "2009",
         "10",
         "0"
        ],
        [
         "34",
         "2009-11-01",
         "2009",
         "11",
         "0"
        ],
        [
         "35",
         "2009-12-01",
         "2009",
         "12",
         "0"
        ],
        [
         "36",
         "2010-01-01",
         "2010",
         "1",
         "0"
        ],
        [
         "37",
         "2010-02-01",
         "2010",
         "2",
         "0"
        ],
        [
         "38",
         "2010-03-01",
         "2010",
         "3",
         "0"
        ],
        [
         "39",
         "2010-04-01",
         "2010",
         "4",
         "0"
        ],
        [
         "40",
         "2010-05-01",
         "2010",
         "5",
         "0"
        ],
        [
         "41",
         "2010-06-01",
         "2010",
         "6",
         "0"
        ],
        [
         "42",
         "2010-07-01",
         "2010",
         "7",
         "0"
        ],
        [
         "43",
         "2010-08-01",
         "2010",
         "8",
         "0"
        ],
        [
         "44",
         "2010-09-01",
         "2010",
         "9",
         "0"
        ],
        [
         "45",
         "2010-10-01",
         "2010",
         "10",
         "0"
        ],
        [
         "46",
         "2010-11-01",
         "2010",
         "11",
         "0"
        ],
        [
         "47",
         "2010-12-01",
         "2010",
         "12",
         "0"
        ],
        [
         "48",
         "2011-01-01",
         "2011",
         "1",
         "0"
        ],
        [
         "49",
         "2011-02-01",
         "2011",
         "2",
         "0"
        ]
       ],
       "shape": {
        "columns": 4,
        "rows": 228
       }
      },
      "text/html": [
       "<div>\n",
       "<style scoped>\n",
       "    .dataframe tbody tr th:only-of-type {\n",
       "        vertical-align: middle;\n",
       "    }\n",
       "\n",
       "    .dataframe tbody tr th {\n",
       "        vertical-align: top;\n",
       "    }\n",
       "\n",
       "    .dataframe thead th {\n",
       "        text-align: right;\n",
       "    }\n",
       "</style>\n",
       "<table border=\"1\" class=\"dataframe\">\n",
       "  <thead>\n",
       "    <tr style=\"text-align: right;\">\n",
       "      <th></th>\n",
       "      <th>Datum</th>\n",
       "      <th>Jaar</th>\n",
       "      <th>Maand</th>\n",
       "      <th>Bijtellingspercentage</th>\n",
       "    </tr>\n",
       "  </thead>\n",
       "  <tbody>\n",
       "    <tr>\n",
       "      <th>0</th>\n",
       "      <td>2007-01-01</td>\n",
       "      <td>2007</td>\n",
       "      <td>1</td>\n",
       "      <td>0</td>\n",
       "    </tr>\n",
       "    <tr>\n",
       "      <th>1</th>\n",
       "      <td>2007-02-01</td>\n",
       "      <td>2007</td>\n",
       "      <td>2</td>\n",
       "      <td>0</td>\n",
       "    </tr>\n",
       "    <tr>\n",
       "      <th>2</th>\n",
       "      <td>2007-03-01</td>\n",
       "      <td>2007</td>\n",
       "      <td>3</td>\n",
       "      <td>0</td>\n",
       "    </tr>\n",
       "    <tr>\n",
       "      <th>3</th>\n",
       "      <td>2007-04-01</td>\n",
       "      <td>2007</td>\n",
       "      <td>4</td>\n",
       "      <td>0</td>\n",
       "    </tr>\n",
       "    <tr>\n",
       "      <th>4</th>\n",
       "      <td>2007-05-01</td>\n",
       "      <td>2007</td>\n",
       "      <td>5</td>\n",
       "      <td>0</td>\n",
       "    </tr>\n",
       "    <tr>\n",
       "      <th>...</th>\n",
       "      <td>...</td>\n",
       "      <td>...</td>\n",
       "      <td>...</td>\n",
       "      <td>...</td>\n",
       "    </tr>\n",
       "    <tr>\n",
       "      <th>223</th>\n",
       "      <td>2025-08-01</td>\n",
       "      <td>2025</td>\n",
       "      <td>8</td>\n",
       "      <td>17</td>\n",
       "    </tr>\n",
       "    <tr>\n",
       "      <th>224</th>\n",
       "      <td>2025-09-01</td>\n",
       "      <td>2025</td>\n",
       "      <td>9</td>\n",
       "      <td>17</td>\n",
       "    </tr>\n",
       "    <tr>\n",
       "      <th>225</th>\n",
       "      <td>2025-10-01</td>\n",
       "      <td>2025</td>\n",
       "      <td>10</td>\n",
       "      <td>17</td>\n",
       "    </tr>\n",
       "    <tr>\n",
       "      <th>226</th>\n",
       "      <td>2025-11-01</td>\n",
       "      <td>2025</td>\n",
       "      <td>11</td>\n",
       "      <td>17</td>\n",
       "    </tr>\n",
       "    <tr>\n",
       "      <th>227</th>\n",
       "      <td>2025-12-01</td>\n",
       "      <td>2025</td>\n",
       "      <td>12</td>\n",
       "      <td>17</td>\n",
       "    </tr>\n",
       "  </tbody>\n",
       "</table>\n",
       "<p>228 rows × 4 columns</p>\n",
       "</div>"
      ],
      "text/plain": [
       "          Datum  Jaar  Maand  Bijtellingspercentage\n",
       "0    2007-01-01  2007      1                      0\n",
       "1    2007-02-01  2007      2                      0\n",
       "2    2007-03-01  2007      3                      0\n",
       "3    2007-04-01  2007      4                      0\n",
       "4    2007-05-01  2007      5                      0\n",
       "..          ...   ...    ...                    ...\n",
       "223  2025-08-01  2025      8                     17\n",
       "224  2025-09-01  2025      9                     17\n",
       "225  2025-10-01  2025     10                     17\n",
       "226  2025-11-01  2025     11                     17\n",
       "227  2025-12-01  2025     12                     17\n",
       "\n",
       "[228 rows x 4 columns]"
      ]
     },
     "metadata": {},
     "output_type": "display_data"
    }
   ],
   "source": [
    "# Dataset 2 inladen\n",
    "df_bijtelling_Raw = pd.read_csv(\n",
    "    r\"C:\\Users\\dylan\\OneDrive - HvA\\AAI Master\\BLOK 3 afstuderen\\Thesis\\Usefull\\Overheid\\bijtelling_per_maand_2007_2025.csv\"\n",
    "    \n",
    "   \n",
    ")\n",
    "display(df_bijtelling_Raw)"
   ]
  },
  {
   "cell_type": "code",
   "execution_count": 140,
   "id": "04c5e41d",
   "metadata": {},
   "outputs": [
    {
     "data": {
      "application/vnd.microsoft.datawrangler.viewer.v0+json": {
       "columns": [
        {
         "name": "index",
         "rawType": "int64",
         "type": "integer"
        },
        {
         "name": "Datum",
         "rawType": "object",
         "type": "string"
        },
        {
         "name": "Bijtellingspercentage",
         "rawType": "int64",
         "type": "integer"
        },
        {
         "name": "Periode",
         "rawType": "object",
         "type": "string"
        }
       ],
       "conversionMethod": "pd.DataFrame",
       "ref": "8fd2c71c-1d4f-4e51-9dba-ea844870d7d3",
       "rows": [
        [
         "0",
         "2007-01-01",
         "0",
         "2007/01"
        ],
        [
         "1",
         "2007-02-01",
         "0",
         "2007/02"
        ],
        [
         "2",
         "2007-03-01",
         "0",
         "2007/03"
        ],
        [
         "3",
         "2007-04-01",
         "0",
         "2007/04"
        ],
        [
         "4",
         "2007-05-01",
         "0",
         "2007/05"
        ]
       ],
       "shape": {
        "columns": 3,
        "rows": 5
       }
      },
      "text/html": [
       "<div>\n",
       "<style scoped>\n",
       "    .dataframe tbody tr th:only-of-type {\n",
       "        vertical-align: middle;\n",
       "    }\n",
       "\n",
       "    .dataframe tbody tr th {\n",
       "        vertical-align: top;\n",
       "    }\n",
       "\n",
       "    .dataframe thead th {\n",
       "        text-align: right;\n",
       "    }\n",
       "</style>\n",
       "<table border=\"1\" class=\"dataframe\">\n",
       "  <thead>\n",
       "    <tr style=\"text-align: right;\">\n",
       "      <th></th>\n",
       "      <th>Datum</th>\n",
       "      <th>Bijtellingspercentage</th>\n",
       "      <th>Periode</th>\n",
       "    </tr>\n",
       "  </thead>\n",
       "  <tbody>\n",
       "    <tr>\n",
       "      <th>0</th>\n",
       "      <td>2007-01-01</td>\n",
       "      <td>0</td>\n",
       "      <td>2007/01</td>\n",
       "    </tr>\n",
       "    <tr>\n",
       "      <th>1</th>\n",
       "      <td>2007-02-01</td>\n",
       "      <td>0</td>\n",
       "      <td>2007/02</td>\n",
       "    </tr>\n",
       "    <tr>\n",
       "      <th>2</th>\n",
       "      <td>2007-03-01</td>\n",
       "      <td>0</td>\n",
       "      <td>2007/03</td>\n",
       "    </tr>\n",
       "    <tr>\n",
       "      <th>3</th>\n",
       "      <td>2007-04-01</td>\n",
       "      <td>0</td>\n",
       "      <td>2007/04</td>\n",
       "    </tr>\n",
       "    <tr>\n",
       "      <th>4</th>\n",
       "      <td>2007-05-01</td>\n",
       "      <td>0</td>\n",
       "      <td>2007/05</td>\n",
       "    </tr>\n",
       "  </tbody>\n",
       "</table>\n",
       "</div>"
      ],
      "text/plain": [
       "        Datum  Bijtellingspercentage  Periode\n",
       "0  2007-01-01                      0  2007/01\n",
       "1  2007-02-01                      0  2007/02\n",
       "2  2007-03-01                      0  2007/03\n",
       "3  2007-04-01                      0  2007/04\n",
       "4  2007-05-01                      0  2007/05"
      ]
     },
     "metadata": {},
     "output_type": "display_data"
    }
   ],
   "source": [
    "# Zet 'Datum' om naar YYYY/MM formaat\n",
    "df_bijtelling_Raw['Periode'] = pd.to_datetime(df_bijtelling_Raw['Datum']).dt.strftime('%Y/%m')\n",
    "\n",
    "# Verwijder de kolommen 'Jaar' en 'Maand'\n",
    "df_bijtelling_Raw.drop(['Jaar', 'Maand'], axis=1, inplace=True)\n",
    "\n",
    "# Resultaat tonen\n",
    "display(df_bijtelling_Raw.head())"
   ]
  },
  {
   "cell_type": "code",
   "execution_count": 141,
   "id": "c010839b",
   "metadata": {},
   "outputs": [
    {
     "name": "stdout",
     "output_type": "stream",
     "text": [
      "CSV opgeslagen op: E:\\Nieuw dataset\\Bijtelling\\bijtelling_periode_percentage.csv\n"
     ]
    }
   ],
   "source": [
    "# Sla alleen 'Periode' en 'Bijtellingspercentage' op als nieuwe CSV\n",
    "bijtelling_output_path = r\"E:\\Nieuw dataset\\Bijtelling\\bijtelling_periode_percentage.csv\"\n",
    "df_bijtelling_Raw[['Periode', 'Bijtellingspercentage']].to_csv(bijtelling_output_path, index=False)\n",
    "print(f\"CSV opgeslagen op: {bijtelling_output_path}\")"
   ]
  },
  {
   "cell_type": "markdown",
   "id": "6512ffc7",
   "metadata": {},
   "source": [
    "### Join both datasets on periode "
   ]
  },
  {
   "cell_type": "code",
   "execution_count": 144,
   "id": "a4d7621e",
   "metadata": {},
   "outputs": [
    {
     "data": {
      "application/vnd.microsoft.datawrangler.viewer.v0+json": {
       "columns": [
        {
         "name": "index",
         "rawType": "int64",
         "type": "integer"
        },
        {
         "name": "Periode",
         "rawType": "object",
         "type": "string"
        },
        {
         "name": "EV: (Nederland)",
         "rawType": "int64",
         "type": "integer"
        },
        {
         "name": "subsidie elektrische auto: (Nederland)",
         "rawType": "int64",
         "type": "integer"
        },
        {
         "name": "elektrische auto: (Nederland)",
         "rawType": "int64",
         "type": "integer"
        },
        {
         "name": "elektrisch rijden: (Nederland)",
         "rawType": "int64",
         "type": "integer"
        },
        {
         "name": "Bijtellingspercentage",
         "rawType": "int64",
         "type": "integer"
        },
        {
         "name": "Consumentenvertrouwen",
         "rawType": "float64",
         "type": "float"
        },
        {
         "name": "Economisch klimaat",
         "rawType": "float64",
         "type": "float"
        },
        {
         "name": "Koopbereidheid",
         "rawType": "float64",
         "type": "float"
        },
        {
         "name": "Grote aankopen",
         "rawType": "float64",
         "type": "float"
        },
        {
         "name": "BenzineEuro95_1_mean",
         "rawType": "float64",
         "type": "float"
        },
        {
         "name": "Diesel_2_mean",
         "rawType": "float64",
         "type": "float"
        },
        {
         "name": "Totaal_verkochte_wegvoertuigen",
         "rawType": "int64",
         "type": "integer"
        }
       ],
       "conversionMethod": "pd.DataFrame",
       "ref": "15ea0c06-f726-4490-8094-f0dc000ba391",
       "rows": [
        [
         "0",
         "2007/01",
         "0",
         "0",
         "0",
         "0",
         "0",
         "20.0",
         "37.0",
         "9.0",
         "8.0",
         "1.3030322580645162",
         "0.97",
         "31"
        ],
        [
         "1",
         "2007/02",
         "0",
         "0",
         "0",
         "0",
         "0",
         "20.0",
         "37.0",
         "9.0",
         "8.0",
         "1.325357142857143",
         "0.99",
         "39"
        ],
        [
         "2",
         "2007/03",
         "0",
         "0",
         "0",
         "0",
         "0",
         "20.0",
         "37.0",
         "9.0",
         "8.0",
         "1.3790322580645162",
         "1.0063225806451612",
         "123"
        ],
        [
         "3",
         "2007/04",
         "0",
         "0",
         "0",
         "0",
         "0",
         "20.0",
         "37.0",
         "9.0",
         "8.0",
         "1.4265",
         "1.0306",
         "62"
        ],
        [
         "4",
         "2007/05",
         "0",
         "0",
         "0",
         "0",
         "0",
         "18.0",
         "32.0",
         "9.0",
         "7.4",
         "1.4665161290322581",
         "1.0323225806451612",
         "84"
        ],
        [
         "5",
         "2007/06",
         "0",
         "0",
         "0",
         "0",
         "0",
         "16.0",
         "27.0",
         "9.0",
         "6.8",
         "1.4546",
         "1.0534333333333334",
         "112"
        ],
        [
         "6",
         "2007/07",
         "0",
         "0",
         "0",
         "0",
         "0",
         "14.0",
         "22.0",
         "9.0",
         "6.2",
         "1.4439032258064517",
         "1.063483870967742",
         "124"
        ],
        [
         "7",
         "2007/08",
         "0",
         "0",
         "0",
         "0",
         "0",
         "12.0",
         "17.0",
         "9.0",
         "5.6",
         "1.4081612903225806",
         "1.0523870967741937",
         "96"
        ],
        [
         "8",
         "2007/09",
         "3",
         "0",
         "0",
         "0",
         "0",
         "10.0",
         "12.0",
         "9.0",
         "5.0",
         "1.4240333333333333",
         "1.0811333333333333",
         "120"
        ],
        [
         "9",
         "2007/10",
         "0",
         "0",
         "0",
         "0",
         "0",
         "5.5",
         "5.0",
         "6.0",
         "1.5",
         "1.417",
         "1.0952580645161292",
         "77"
        ],
        [
         "10",
         "2007/11",
         "0",
         "0",
         "0",
         "0",
         "0",
         "1.0",
         "-2.0",
         "3.0",
         "-2.0",
         "1.4683666666666668",
         "1.1859333333333335",
         "170"
        ],
        [
         "11",
         "2007/12",
         "0",
         "0",
         "0",
         "0",
         "0",
         "2.0",
         "1.0",
         "2.0",
         "-2.0",
         "1.4485483870967741",
         "1.1526451612903226",
         "79"
        ],
        [
         "12",
         "2008/01",
         "2",
         "0",
         "0",
         "0",
         "0",
         "-0.25",
         "-3.75",
         "1.5",
         "-2.5",
         "1.4643548387096774",
         "1.1459032258064514",
         "100"
        ],
        [
         "13",
         "2008/02",
         "0",
         "0",
         "0",
         "0",
         "0",
         "-2.5",
         "-8.5",
         "1.0",
         "-3.0",
         "1.4743103448275863",
         "1.1692758620689654",
         "111"
        ],
        [
         "14",
         "2008/03",
         "0",
         "0",
         "2",
         "0",
         "0",
         "-4.75",
         "-13.25",
         "0.5",
         "-3.5",
         "1.4785483870967742",
         "1.232032258064516",
         "174"
        ],
        [
         "15",
         "2008/04",
         "0",
         "0",
         "0",
         "0",
         "0",
         "-7.0",
         "-18.0",
         "0.0",
         "-4.0",
         "1.5168333333333335",
         "1.2604",
         "192"
        ],
        [
         "16",
         "2008/05",
         "0",
         "0",
         "3",
         "0",
         "0",
         "-10.6",
         "-23.8",
         "-2.0",
         "-7.4",
         "1.574774193548387",
         "1.3724838709677418",
         "287"
        ],
        [
         "17",
         "2008/06",
         "0",
         "0",
         "4",
         "0",
         "0",
         "-14.2",
         "-29.6",
         "-4.0",
         "-10.8",
         "1.6275333333333333",
         "1.399",
         "364"
        ],
        [
         "18",
         "2008/07",
         "0",
         "0",
         "3",
         "0",
         "0",
         "-17.8",
         "-35.4",
         "-6.0",
         "-14.2",
         "1.612967741935484",
         "1.423451612903226",
         "365"
        ],
        [
         "19",
         "2008/08",
         "0",
         "0",
         "3",
         "0",
         "0",
         "-21.4",
         "-41.2",
         "-8.0",
         "-17.6",
         "1.557774193548387",
         "1.3223548387096775",
         "263"
        ],
        [
         "20",
         "2008/09",
         "0",
         "0",
         "3",
         "0",
         "0",
         "-25.0",
         "-47.0",
         "-10.0",
         "-21.0",
         "1.5451333333333332",
         "1.2918666666666667",
         "298"
        ],
        [
         "21",
         "2008/10",
         "3",
         "0",
         "4",
         "0",
         "0",
         "-25.5",
         "-48.5",
         "-10.5",
         "-23.5",
         "1.4062903225806451",
         "1.1958387096774192",
         "366"
        ],
        [
         "22",
         "2008/11",
         "3",
         "0",
         "5",
         "0",
         "0",
         "-26.0",
         "-50.0",
         "-11.0",
         "-26.0",
         "1.269",
         "1.1026666666666667",
         "250"
        ],
        [
         "23",
         "2008/12",
         "0",
         "0",
         "0",
         "0",
         "0",
         "-26.0",
         "-53.0",
         "-8.0",
         "-21.0",
         "1.190774193548387",
         "0.9787096774193549",
         "202"
        ],
        [
         "24",
         "2009/01",
         "3",
         "0",
         "3",
         "0",
         "0",
         "-26.0",
         "-53.5",
         "-7.75",
         "-19.75",
         "1.2310967741935483",
         "0.9777741935483871",
         "168"
        ],
        [
         "25",
         "2009/02",
         "3",
         "0",
         "4",
         "0",
         "0",
         "-26.0",
         "-54.0",
         "-7.5",
         "-18.5",
         "1.276",
         "0.9732142857142857",
         "246"
        ],
        [
         "26",
         "2009/03",
         "2",
         "0",
         "4",
         "0",
         "0",
         "-26.0",
         "-54.5",
         "-7.25",
         "-17.25",
         "1.2811612903225806",
         "0.96",
         "287"
        ],
        [
         "27",
         "2009/04",
         "3",
         "0",
         "6",
         "0",
         "0",
         "-26.0",
         "-55.0",
         "-7.0",
         "-16.0",
         "1.3124",
         "0.9781666666666666",
         "434"
        ],
        [
         "28",
         "2009/05",
         "0",
         "0",
         "5",
         "0",
         "0",
         "-23.2",
         "-48.4",
         "-6.6",
         "-14.4",
         "1.3627741935483872",
         "0.9848064516129033",
         "433"
        ],
        [
         "29",
         "2009/06",
         "2",
         "0",
         "3",
         "0",
         "0",
         "-20.4",
         "-41.8",
         "-6.2",
         "-12.8",
         "1.4190333333333334",
         "1.0345666666666666",
         "522"
        ],
        [
         "30",
         "2009/07",
         "3",
         "0",
         "6",
         "0",
         "0",
         "-17.6",
         "-35.2",
         "-5.8",
         "-11.2",
         "1.3740645161290324",
         "1.0150967741935484",
         "575"
        ],
        [
         "31",
         "2009/08",
         "3",
         "0",
         "4",
         "0",
         "0",
         "-14.8",
         "-28.6",
         "-5.4",
         "-9.6",
         "1.422",
         "1.049741935483871",
         "515"
        ],
        [
         "32",
         "2009/09",
         "3",
         "0",
         "8",
         "0",
         "0",
         "-12.0",
         "-22.0",
         "-5.0",
         "-8.0",
         "1.3782999999999999",
         "1.0224",
         "474"
        ],
        [
         "33",
         "2009/10",
         "2",
         "0",
         "7",
         "0",
         "0",
         "-11.5",
         "-21.5",
         "-5.0",
         "-7.5",
         "1.3801935483870968",
         "1.042258064516129",
         "457"
        ],
        [
         "34",
         "2009/11",
         "2",
         "0",
         "7",
         "0",
         "0",
         "-11.0",
         "-21.0",
         "-5.0",
         "-7.0",
         "1.4088999999999998",
         "1.0583666666666667",
         "398"
        ],
        [
         "35",
         "2009/12",
         "2",
         "0",
         "6",
         "0",
         "0",
         "-7.0",
         "-10.0",
         "-4.0",
         "-6.0",
         "1.3979677419354837",
         "1.056258064516129",
         "287"
        ],
        [
         "36",
         "2010/01",
         "3",
         "0",
         "8",
         "0",
         "0",
         "-7.0",
         "-9.25",
         "-4.5",
         "-8.0",
         "1.4445806451612901",
         "1.098032258064516",
         "248"
        ],
        [
         "37",
         "2010/02",
         "3",
         "0",
         "4",
         "0",
         "0",
         "-7.0",
         "-8.5",
         "-5.0",
         "-10.0",
         "1.4521071428571428",
         "1.0970714285714285",
         "318"
        ],
        [
         "38",
         "2010/03",
         "3",
         "0",
         "6",
         "0",
         "0",
         "-7.0",
         "-7.75",
         "-5.5",
         "-12.0",
         "1.5057096774193548",
         "1.139483870967742",
         "518"
        ],
        [
         "39",
         "2010/04",
         "2",
         "0",
         "9",
         "0",
         "0",
         "-7.0",
         "-7.0",
         "-6.0",
         "-14.0",
         "1.5314",
         "1.1821666666666668",
         "774"
        ],
        [
         "40",
         "2010/05",
         "3",
         "0",
         "5",
         "0",
         "0",
         "-7.2",
         "-7.0",
         "-6.6",
         "-14.6",
         "1.5242258064516128",
         "1.1892258064516128",
         "663"
        ],
        [
         "41",
         "2010/06",
         "2",
         "0",
         "5",
         "0",
         "0",
         "-7.4",
         "-7.0",
         "-7.2",
         "-15.2",
         "1.5202",
         "1.1911666666666667",
         "774"
        ],
        [
         "42",
         "2010/07",
         "3",
         "0",
         "4",
         "0",
         "0",
         "-7.6",
         "-7.0",
         "-7.8",
         "-15.8",
         "1.4992258064516129",
         "1.1682258064516131",
         "986"
        ],
        [
         "43",
         "2010/08",
         "3",
         "0",
         "6",
         "0",
         "0",
         "-7.8",
         "-7.0",
         "-8.4",
         "-16.4",
         "1.4913225806451613",
         "1.1679032258064515",
         "616"
        ],
        [
         "44",
         "2010/09",
         "2",
         "0",
         "4",
         "0",
         "0",
         "-8.0",
         "-7.0",
         "-9.0",
         "-17.0",
         "1.4959666666666667",
         "1.1767666666666665",
         "530"
        ],
        [
         "45",
         "2010/10",
         "2",
         "0",
         "5",
         "0",
         "0",
         "-5.5",
         "-1.5",
         "-8.0",
         "-14.5",
         "1.4934193548387096",
         "1.1836774193548387",
         "411"
        ],
        [
         "46",
         "2010/11",
         "2",
         "1",
         "6",
         "0",
         "0",
         "-3.0",
         "4.0",
         "-7.0",
         "-12.0",
         "1.5072333333333332",
         "1.2002666666666668",
         "402"
        ],
        [
         "47",
         "2010/12",
         "2",
         "0",
         "6",
         "0",
         "0",
         "-7.0",
         "-4.0",
         "-9.0",
         "-12.0",
         "1.569258064516129",
         "1.2510967741935484",
         "224"
        ],
        [
         "48",
         "2011/01",
         "2",
         "0",
         "8",
         "2",
         "0",
         "-5.75",
         "-0.75",
         "-9.0",
         "-13.0",
         "1.5931290322580645",
         "1.2875161290322579",
         "365"
        ],
        [
         "49",
         "2011/02",
         "2",
         "0",
         "8",
         "0",
         "0",
         "-4.5",
         "2.5",
         "-9.0",
         "-14.0",
         "1.597392857142857",
         "1.3132857142857142",
         "427"
        ]
       ],
       "shape": {
        "columns": 13,
        "rows": 219
       }
      },
      "text/html": [
       "<div>\n",
       "<style scoped>\n",
       "    .dataframe tbody tr th:only-of-type {\n",
       "        vertical-align: middle;\n",
       "    }\n",
       "\n",
       "    .dataframe tbody tr th {\n",
       "        vertical-align: top;\n",
       "    }\n",
       "\n",
       "    .dataframe thead th {\n",
       "        text-align: right;\n",
       "    }\n",
       "</style>\n",
       "<table border=\"1\" class=\"dataframe\">\n",
       "  <thead>\n",
       "    <tr style=\"text-align: right;\">\n",
       "      <th></th>\n",
       "      <th>Periode</th>\n",
       "      <th>EV: (Nederland)</th>\n",
       "      <th>subsidie elektrische auto: (Nederland)</th>\n",
       "      <th>elektrische auto: (Nederland)</th>\n",
       "      <th>elektrisch rijden: (Nederland)</th>\n",
       "      <th>Bijtellingspercentage</th>\n",
       "      <th>Consumentenvertrouwen</th>\n",
       "      <th>Economisch klimaat</th>\n",
       "      <th>Koopbereidheid</th>\n",
       "      <th>Grote aankopen</th>\n",
       "      <th>BenzineEuro95_1_mean</th>\n",
       "      <th>Diesel_2_mean</th>\n",
       "      <th>Totaal_verkochte_wegvoertuigen</th>\n",
       "    </tr>\n",
       "  </thead>\n",
       "  <tbody>\n",
       "    <tr>\n",
       "      <th>0</th>\n",
       "      <td>2007/01</td>\n",
       "      <td>0</td>\n",
       "      <td>0</td>\n",
       "      <td>0</td>\n",
       "      <td>0</td>\n",
       "      <td>0</td>\n",
       "      <td>20.00</td>\n",
       "      <td>37.0</td>\n",
       "      <td>9.00</td>\n",
       "      <td>8.00</td>\n",
       "      <td>1.303032</td>\n",
       "      <td>0.970000</td>\n",
       "      <td>31</td>\n",
       "    </tr>\n",
       "    <tr>\n",
       "      <th>1</th>\n",
       "      <td>2007/02</td>\n",
       "      <td>0</td>\n",
       "      <td>0</td>\n",
       "      <td>0</td>\n",
       "      <td>0</td>\n",
       "      <td>0</td>\n",
       "      <td>20.00</td>\n",
       "      <td>37.0</td>\n",
       "      <td>9.00</td>\n",
       "      <td>8.00</td>\n",
       "      <td>1.325357</td>\n",
       "      <td>0.990000</td>\n",
       "      <td>39</td>\n",
       "    </tr>\n",
       "    <tr>\n",
       "      <th>2</th>\n",
       "      <td>2007/03</td>\n",
       "      <td>0</td>\n",
       "      <td>0</td>\n",
       "      <td>0</td>\n",
       "      <td>0</td>\n",
       "      <td>0</td>\n",
       "      <td>20.00</td>\n",
       "      <td>37.0</td>\n",
       "      <td>9.00</td>\n",
       "      <td>8.00</td>\n",
       "      <td>1.379032</td>\n",
       "      <td>1.006323</td>\n",
       "      <td>123</td>\n",
       "    </tr>\n",
       "    <tr>\n",
       "      <th>3</th>\n",
       "      <td>2007/04</td>\n",
       "      <td>0</td>\n",
       "      <td>0</td>\n",
       "      <td>0</td>\n",
       "      <td>0</td>\n",
       "      <td>0</td>\n",
       "      <td>20.00</td>\n",
       "      <td>37.0</td>\n",
       "      <td>9.00</td>\n",
       "      <td>8.00</td>\n",
       "      <td>1.426500</td>\n",
       "      <td>1.030600</td>\n",
       "      <td>62</td>\n",
       "    </tr>\n",
       "    <tr>\n",
       "      <th>4</th>\n",
       "      <td>2007/05</td>\n",
       "      <td>0</td>\n",
       "      <td>0</td>\n",
       "      <td>0</td>\n",
       "      <td>0</td>\n",
       "      <td>0</td>\n",
       "      <td>18.00</td>\n",
       "      <td>32.0</td>\n",
       "      <td>9.00</td>\n",
       "      <td>7.40</td>\n",
       "      <td>1.466516</td>\n",
       "      <td>1.032323</td>\n",
       "      <td>84</td>\n",
       "    </tr>\n",
       "    <tr>\n",
       "      <th>...</th>\n",
       "      <td>...</td>\n",
       "      <td>...</td>\n",
       "      <td>...</td>\n",
       "      <td>...</td>\n",
       "      <td>...</td>\n",
       "      <td>...</td>\n",
       "      <td>...</td>\n",
       "      <td>...</td>\n",
       "      <td>...</td>\n",
       "      <td>...</td>\n",
       "      <td>...</td>\n",
       "      <td>...</td>\n",
       "      <td>...</td>\n",
       "    </tr>\n",
       "    <tr>\n",
       "      <th>214</th>\n",
       "      <td>2024/11</td>\n",
       "      <td>47</td>\n",
       "      <td>14</td>\n",
       "      <td>58</td>\n",
       "      <td>4</td>\n",
       "      <td>16</td>\n",
       "      <td>-25.00</td>\n",
       "      <td>-43.0</td>\n",
       "      <td>-12.00</td>\n",
       "      <td>-28.00</td>\n",
       "      <td>1.947800</td>\n",
       "      <td>1.716167</td>\n",
       "      <td>32623</td>\n",
       "    </tr>\n",
       "    <tr>\n",
       "      <th>215</th>\n",
       "      <td>2024/12</td>\n",
       "      <td>42</td>\n",
       "      <td>11</td>\n",
       "      <td>57</td>\n",
       "      <td>6</td>\n",
       "      <td>16</td>\n",
       "      <td>-26.00</td>\n",
       "      <td>-45.0</td>\n",
       "      <td>-13.00</td>\n",
       "      <td>-27.00</td>\n",
       "      <td>1.947871</td>\n",
       "      <td>1.725774</td>\n",
       "      <td>39594</td>\n",
       "    </tr>\n",
       "    <tr>\n",
       "      <th>216</th>\n",
       "      <td>2025/01</td>\n",
       "      <td>45</td>\n",
       "      <td>4</td>\n",
       "      <td>47</td>\n",
       "      <td>4</td>\n",
       "      <td>17</td>\n",
       "      <td>-28.75</td>\n",
       "      <td>-49.0</td>\n",
       "      <td>-14.75</td>\n",
       "      <td>-28.75</td>\n",
       "      <td>1.960935</td>\n",
       "      <td>1.753516</td>\n",
       "      <td>33680</td>\n",
       "    </tr>\n",
       "    <tr>\n",
       "      <th>217</th>\n",
       "      <td>2025/02</td>\n",
       "      <td>45</td>\n",
       "      <td>2</td>\n",
       "      <td>42</td>\n",
       "      <td>4</td>\n",
       "      <td>17</td>\n",
       "      <td>-31.50</td>\n",
       "      <td>-53.0</td>\n",
       "      <td>-16.50</td>\n",
       "      <td>-30.50</td>\n",
       "      <td>1.967714</td>\n",
       "      <td>1.742036</td>\n",
       "      <td>29071</td>\n",
       "    </tr>\n",
       "    <tr>\n",
       "      <th>218</th>\n",
       "      <td>2025/03</td>\n",
       "      <td>44</td>\n",
       "      <td>2</td>\n",
       "      <td>41</td>\n",
       "      <td>4</td>\n",
       "      <td>17</td>\n",
       "      <td>-34.25</td>\n",
       "      <td>-57.0</td>\n",
       "      <td>-18.25</td>\n",
       "      <td>-32.25</td>\n",
       "      <td>1.905581</td>\n",
       "      <td>1.678645</td>\n",
       "      <td>31118</td>\n",
       "    </tr>\n",
       "  </tbody>\n",
       "</table>\n",
       "<p>219 rows × 13 columns</p>\n",
       "</div>"
      ],
      "text/plain": [
       "     Periode  EV: (Nederland)  subsidie elektrische auto: (Nederland)  \\\n",
       "0    2007/01                0                                       0   \n",
       "1    2007/02                0                                       0   \n",
       "2    2007/03                0                                       0   \n",
       "3    2007/04                0                                       0   \n",
       "4    2007/05                0                                       0   \n",
       "..       ...              ...                                     ...   \n",
       "214  2024/11               47                                      14   \n",
       "215  2024/12               42                                      11   \n",
       "216  2025/01               45                                       4   \n",
       "217  2025/02               45                                       2   \n",
       "218  2025/03               44                                       2   \n",
       "\n",
       "     elektrische auto: (Nederland)  elektrisch rijden: (Nederland)  \\\n",
       "0                                0                               0   \n",
       "1                                0                               0   \n",
       "2                                0                               0   \n",
       "3                                0                               0   \n",
       "4                                0                               0   \n",
       "..                             ...                             ...   \n",
       "214                             58                               4   \n",
       "215                             57                               6   \n",
       "216                             47                               4   \n",
       "217                             42                               4   \n",
       "218                             41                               4   \n",
       "\n",
       "     Bijtellingspercentage  Consumentenvertrouwen  Economisch klimaat  \\\n",
       "0                        0                  20.00                37.0   \n",
       "1                        0                  20.00                37.0   \n",
       "2                        0                  20.00                37.0   \n",
       "3                        0                  20.00                37.0   \n",
       "4                        0                  18.00                32.0   \n",
       "..                     ...                    ...                 ...   \n",
       "214                     16                 -25.00               -43.0   \n",
       "215                     16                 -26.00               -45.0   \n",
       "216                     17                 -28.75               -49.0   \n",
       "217                     17                 -31.50               -53.0   \n",
       "218                     17                 -34.25               -57.0   \n",
       "\n",
       "     Koopbereidheid  Grote aankopen  BenzineEuro95_1_mean  Diesel_2_mean  \\\n",
       "0              9.00            8.00              1.303032       0.970000   \n",
       "1              9.00            8.00              1.325357       0.990000   \n",
       "2              9.00            8.00              1.379032       1.006323   \n",
       "3              9.00            8.00              1.426500       1.030600   \n",
       "4              9.00            7.40              1.466516       1.032323   \n",
       "..              ...             ...                   ...            ...   \n",
       "214          -12.00          -28.00              1.947800       1.716167   \n",
       "215          -13.00          -27.00              1.947871       1.725774   \n",
       "216          -14.75          -28.75              1.960935       1.753516   \n",
       "217          -16.50          -30.50              1.967714       1.742036   \n",
       "218          -18.25          -32.25              1.905581       1.678645   \n",
       "\n",
       "     Totaal_verkochte_wegvoertuigen  \n",
       "0                                31  \n",
       "1                                39  \n",
       "2                               123  \n",
       "3                                62  \n",
       "4                                84  \n",
       "..                              ...  \n",
       "214                           32623  \n",
       "215                           39594  \n",
       "216                           33680  \n",
       "217                           29071  \n",
       "218                           31118  \n",
       "\n",
       "[219 rows x 13 columns]"
      ]
     },
     "metadata": {},
     "output_type": "display_data"
    },
    {
     "name": "stdout",
     "output_type": "stream",
     "text": [
      "Ontbrekende waarden per kolom:\n",
      " Periode                                   0\n",
      "EV: (Nederland)                           0\n",
      "subsidie elektrische auto: (Nederland)    0\n",
      "elektrische auto: (Nederland)             0\n",
      "elektrisch rijden: (Nederland)            0\n",
      "Bijtellingspercentage                     0\n",
      "Consumentenvertrouwen                     0\n",
      "Economisch klimaat                        0\n",
      "Koopbereidheid                            0\n",
      "Grote aankopen                            0\n",
      "BenzineEuro95_1_mean                      0\n",
      "Diesel_2_mean                             0\n",
      "Totaal_verkochte_wegvoertuigen            0\n",
      "dtype: int64\n"
     ]
    }
   ],
   "source": [
    "# Join Google Trends, Wegvoertuigen, Bijtelling, Consumentenvertrouwen en Pompprijzen op 'Periode'\n",
    "df_trends_wegvoertuigen = pd.merge(df_trends, df_wegvoertuigen, on='Periode', how='left')\n",
    "df_trends_wegvoertuigen = pd.merge(df_trends_wegvoertuigen, df_bijtelling_Raw[['Periode', 'Bijtellingspercentage']], on='Periode', how='left')\n",
    "df_trends_wegvoertuigen = pd.merge(df_trends_wegvoertuigen, df_consumenten_merged, on='Periode', how='left')\n",
    "df_trends_wegvoertuigen = pd.merge(df_trends_wegvoertuigen, df_pompprijzen_aggregatie, on='Periode', how='left')\n",
    "\n",
    "# Zet 'Totaal_verkochte_wegvoertuigen' als laatste kolom\n",
    "kolommen = [col for col in df_trends_wegvoertuigen.columns if col != 'Totaal_verkochte_wegvoertuigen'] + ['Totaal_verkochte_wegvoertuigen']\n",
    "df_trends_wegvoertuigen = df_trends_wegvoertuigen[kolommen]\n",
    "\n",
    "# Resultaat bekijken\n",
    "display(df_trends_wegvoertuigen)\n",
    "\n",
    "# Controleer op ontbrekende waarden in de samengevoegde dataset\n",
    "missing_values = df_trends_wegvoertuigen.isnull().sum()\n",
    "print(\"Ontbrekende waarden per kolom:\\n\", missing_values)\n"
   ]
  },
  {
   "cell_type": "code",
   "execution_count": 145,
   "id": "1572f5d8",
   "metadata": {},
   "outputs": [
    {
     "name": "stdout",
     "output_type": "stream",
     "text": [
      "CSV opgeslagen op: E:\\Nieuw dataset\\Joined trends\\joined_trend_sales_All.csv\n"
     ]
    }
   ],
   "source": [
    "# Opslaan van df_trends_wegvoertuigen als CSV\n",
    "output_joined_path = r\"E:\\Nieuw dataset\\Joined trends\\joined_trend_sales_All.csv\"\n",
    "df_trends_wegvoertuigen.to_csv(output_joined_path, index=False)\n",
    "print(f\"CSV opgeslagen op: {output_joined_path}\")"
   ]
  },
  {
   "cell_type": "code",
   "execution_count": 146,
   "id": "8a3dc000",
   "metadata": {},
   "outputs": [
    {
     "data": {
      "image/png": "[encoded data removed]",
      "text/plain": [
       "<Figure size 1200x800 with 2 Axes>"
      ]
     },
     "metadata": {},
     "output_type": "display_data"
    },
    {
     "data": {
      "image/png": "[encoded data removed]",
      "text/plain": [
       "<Figure size 800x600 with 1 Axes>"
      ]
     },
     "metadata": {},
     "output_type": "display_data"
    }
   ],
   "source": [
    "# Correlation matrix plot (exclude non-numeric columns)\n",
    "plt.figure(figsize=(12, 8))\n",
    "corr = df_trends_wegvoertuigen.select_dtypes(include=[np.number]).corr()\n",
    "sns.heatmap(corr, annot=True, cmap='coolwarm', fmt=\".2f\")\n",
    "plt.title('Correlation Matrix - Google Trends & Car Sales')\n",
    "plt.show()\n",
    "\n",
    "# Scatter plot: EV search interest vs. car sales\n",
    "plt.figure(figsize=(8, 6))\n",
    "sns.scatterplot(\n",
    "    data=df_trends_wegvoertuigen,\n",
    "    x='EV: (Nederland)',\n",
    "    y='Totaal_verkochte_wegvoertuigen'\n",
    ")\n",
    "plt.xlabel('Google Trends: EV (Nederland)')\n",
    "plt.ylabel('Totaal verkochte wegvoertuigen')\n",
    "plt.title('EV Search Interest vs. Car Sales')\n",
    "plt.show()"
   ]
  },
  {
   "cell_type": "code",
   "execution_count": 123,
   "id": "d3a420e9",
   "metadata": {},
   "outputs": [
    {
     "data": {
      "image/png": "[encoded data removed]",
      "text/plain": [
       "<Figure size 1400x600 with 1 Axes>"
      ]
     },
     "metadata": {},
     "output_type": "display_data"
    }
   ],
   "source": [
    "from scipy.signal import find_peaks  # Import the find_peaks function for peak detection\n",
    "\n",
    "plt.figure(figsize=(14, 6))  # Create a new figure with a specific size\n",
    "plt.plot(df_wegvoertuigen['Periode'], df_wegvoertuigen['Totaal_verkochte_wegvoertuigen'], marker='o')  # Plot sales per period\n",
    "plt.xlabel('Periode')  # Set x-axis label\n",
    "plt.ylabel('Totaal verkochte elektrische wegvoertuigen')  # Set y-axis label\n",
    "plt.title('Verkoop van elektrische auto\\'s per maand')  # Set plot title\n",
    "plt.xticks(rotation=45)  # Rotate x-axis labels for readability\n",
    "\n",
    "# Pieken bepalen (lokaal maximum)\n",
    "peaks, _ = find_peaks(df_wegvoertuigen['Totaal_verkochte_wegvoertuigen'])  # Find indices of local maxima (peaks)\n",
    "\n",
    "# Top 5 spikes (op basis van hoogte)\n",
    "top5_idx = np.argsort(df_wegvoertuigen['Totaal_verkochte_wegvoertuigen'].iloc[peaks])[-6:]  # Get indices of 6 highest peaks\n",
    "top5_peaks = peaks[top5_idx]  # Get the actual peak positions for the top 6\n",
    "\n",
    "for peak in top5_peaks:  # Loop over each top peak\n",
    "    plt.annotate(\n",
    "        df_wegvoertuigen['Periode'].iloc[peak],  # Annotate with the period (month/year)\n",
    "        (df_wegvoertuigen['Periode'].iloc[peak], df_wegvoertuigen['Totaal_verkochte_wegvoertuigen'].iloc[peak]),  # At the peak's coordinates\n",
    "        textcoords=\"offset points\",  # Offset the text from the point\n",
    "        xytext=(0,10),  # Offset by 10 points above\n",
    "        ha='center',  # Center the annotation horizontally\n",
    "        fontsize=8,  # Set font size\n",
    "        color='red'  # Set annotation color to red\n",
    "    )\n",
    "plt.tight_layout()  # Adjust layout to prevent overlap\n",
    "plt.show()  # Display the plot"
   ]
  }
 ],
 "metadata": {
  "kernelspec": {
   "display_name": "base",
   "language": "python",
   "name": "python3"
  },
  "language_info": {
   "codemirror_mode": {
    "name": "ipython",
    "version": 3
   },
   "file_extension": ".py",
   "mimetype": "text/x-python",
   "name": "python",
   "nbconvert_exporter": "python",
   "pygments_lexer": "ipython3",
   "version": "3.12.4"
  }
 },
 "nbformat": 4,
 "nbformat_minor": 5
}
