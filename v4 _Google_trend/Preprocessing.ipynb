{
 "cells": [
  {
   "cell_type": "markdown",
   "id": "52749e9a",
   "metadata": {},
   "source": [
    "Imports"
   ]
  },
  {
   "cell_type": "code",
   "execution_count": 1,
   "id": "aed1fe93",
   "metadata": {},
   "outputs": [],
   "source": [
    "# Standard library imports\n",
    "import os\n",
    "import re\n",
    "import unicodedata\n",
    "import warnings\n",
    "\n",
    "# Third-party library imports\n",
    "import numpy as np\n",
    "import pandas as pd\n",
    "import matplotlib.pyplot as plt\n",
    "import matplotlib.ticker as mtick\n",
    "from matplotlib.ticker import PercentFormatter\n",
    "import seaborn as sns\n",
    "import textstat\n",
    "from textblob import TextBlob\n",
    "from textblob_nl import PatternAnalyzer\n",
    "from tqdm.notebook import tqdm\n",
    "import requests\n"
   ]
  },
  {
   "cell_type": "markdown",
   "id": "48cd107d",
   "metadata": {},
   "source": [
    "### Carsales"
   ]
  },
  {
   "cell_type": "markdown",
   "id": "fa5c5125",
   "metadata": {},
   "source": [
    "extracted from https://opendata.cbs.nl/#/CBS/nl/dataset/85898NED/table?ts=1745764299955"
   ]
  },
  {
   "cell_type": "markdown",
   "id": "15111359",
   "metadata": {},
   "source": [
    ">Dataset inladen "
   ]
  },
  {
   "cell_type": "code",
   "execution_count": 40,
   "id": "49eb296b",
   "metadata": {},
   "outputs": [
    {
     "data": {
      "application/vnd.microsoft.datawrangler.viewer.v0+json": {
       "columns": [
        {
         "name": "index",
         "rawType": "int64",
         "type": "integer"
        },
        {
         "name": "Wegvoertuigen",
         "rawType": "object",
         "type": "string"
        },
        {
         "name": "Brandstofsoort voertuig",
         "rawType": "object",
         "type": "string"
        },
        {
         "name": "Perioden",
         "rawType": "object",
         "type": "string"
        },
        {
         "name": "Totaal verkochte wegvoertuigen (aantal)",
         "rawType": "int64",
         "type": "integer"
        }
       ],
       "conversionMethod": "pd.DataFrame",
       "ref": "be7cc393-8674-4e03-a522-6a92d39ffd40",
       "rows": [
        [
         "0",
         "Totaal wegvoertuigen",
         "Full elektric (BEV)",
         "2007 januari",
         "31"
        ],
        [
         "1",
         "Totaal wegvoertuigen",
         "Full elektric (BEV)",
         "2007 februari",
         "39"
        ],
        [
         "2",
         "Totaal wegvoertuigen",
         "Full elektric (BEV)",
         "2007 maart",
         "123"
        ],
        [
         "3",
         "Totaal wegvoertuigen",
         "Full elektric (BEV)",
         "2007 april",
         "62"
        ],
        [
         "4",
         "Totaal wegvoertuigen",
         "Full elektric (BEV)",
         "2007 mei",
         "84"
        ],
        [
         "5",
         "Totaal wegvoertuigen",
         "Full elektric (BEV)",
         "2007 juni",
         "112"
        ],
        [
         "6",
         "Totaal wegvoertuigen",
         "Full elektric (BEV)",
         "2007 juli",
         "124"
        ],
        [
         "7",
         "Totaal wegvoertuigen",
         "Full elektric (BEV)",
         "2007 augustus",
         "96"
        ],
        [
         "8",
         "Totaal wegvoertuigen",
         "Full elektric (BEV)",
         "2007 september",
         "120"
        ],
        [
         "9",
         "Totaal wegvoertuigen",
         "Full elektric (BEV)",
         "2007 oktober",
         "77"
        ],
        [
         "10",
         "Totaal wegvoertuigen",
         "Full elektric (BEV)",
         "2007 november",
         "170"
        ],
        [
         "11",
         "Totaal wegvoertuigen",
         "Full elektric (BEV)",
         "2007 december",
         "79"
        ],
        [
         "12",
         "Totaal wegvoertuigen",
         "Full elektric (BEV)",
         "2008 januari",
         "100"
        ],
        [
         "13",
         "Totaal wegvoertuigen",
         "Full elektric (BEV)",
         "2008 februari",
         "111"
        ],
        [
         "14",
         "Totaal wegvoertuigen",
         "Full elektric (BEV)",
         "2008 maart",
         "174"
        ],
        [
         "15",
         "Totaal wegvoertuigen",
         "Full elektric (BEV)",
         "2008 april",
         "192"
        ],
        [
         "16",
         "Totaal wegvoertuigen",
         "Full elektric (BEV)",
         "2008 mei",
         "287"
        ],
        [
         "17",
         "Totaal wegvoertuigen",
         "Full elektric (BEV)",
         "2008 juni",
         "364"
        ],
        [
         "18",
         "Totaal wegvoertuigen",
         "Full elektric (BEV)",
         "2008 juli",
         "365"
        ],
        [
         "19",
         "Totaal wegvoertuigen",
         "Full elektric (BEV)",
         "2008 augustus",
         "263"
        ],
        [
         "20",
         "Totaal wegvoertuigen",
         "Full elektric (BEV)",
         "2008 september",
         "298"
        ],
        [
         "21",
         "Totaal wegvoertuigen",
         "Full elektric (BEV)",
         "2008 oktober",
         "366"
        ],
        [
         "22",
         "Totaal wegvoertuigen",
         "Full elektric (BEV)",
         "2008 november",
         "250"
        ],
        [
         "23",
         "Totaal wegvoertuigen",
         "Full elektric (BEV)",
         "2008 december",
         "202"
        ],
        [
         "24",
         "Totaal wegvoertuigen",
         "Full elektric (BEV)",
         "2009 januari",
         "168"
        ],
        [
         "25",
         "Totaal wegvoertuigen",
         "Full elektric (BEV)",
         "2009 februari",
         "246"
        ],
        [
         "26",
         "Totaal wegvoertuigen",
         "Full elektric (BEV)",
         "2009 maart",
         "287"
        ],
        [
         "27",
         "Totaal wegvoertuigen",
         "Full elektric (BEV)",
         "2009 april",
         "434"
        ],
        [
         "28",
         "Totaal wegvoertuigen",
         "Full elektric (BEV)",
         "2009 mei",
         "433"
        ],
        [
         "29",
         "Totaal wegvoertuigen",
         "Full elektric (BEV)",
         "2009 juni",
         "522"
        ],
        [
         "30",
         "Totaal wegvoertuigen",
         "Full elektric (BEV)",
         "2009 juli",
         "575"
        ],
        [
         "31",
         "Totaal wegvoertuigen",
         "Full elektric (BEV)",
         "2009 augustus",
         "515"
        ],
        [
         "32",
         "Totaal wegvoertuigen",
         "Full elektric (BEV)",
         "2009 september",
         "474"
        ],
        [
         "33",
         "Totaal wegvoertuigen",
         "Full elektric (BEV)",
         "2009 oktober",
         "457"
        ],
        [
         "34",
         "Totaal wegvoertuigen",
         "Full elektric (BEV)",
         "2009 november",
         "398"
        ],
        [
         "35",
         "Totaal wegvoertuigen",
         "Full elektric (BEV)",
         "2009 december",
         "287"
        ],
        [
         "36",
         "Totaal wegvoertuigen",
         "Full elektric (BEV)",
         "2010 januari",
         "248"
        ],
        [
         "37",
         "Totaal wegvoertuigen",
         "Full elektric (BEV)",
         "2010 februari",
         "318"
        ],
        [
         "38",
         "Totaal wegvoertuigen",
         "Full elektric (BEV)",
         "2010 maart",
         "518"
        ],
        [
         "39",
         "Totaal wegvoertuigen",
         "Full elektric (BEV)",
         "2010 april",
         "774"
        ],
        [
         "40",
         "Totaal wegvoertuigen",
         "Full elektric (BEV)",
         "2010 mei",
         "663"
        ],
        [
         "41",
         "Totaal wegvoertuigen",
         "Full elektric (BEV)",
         "2010 juni",
         "774"
        ],
        [
         "42",
         "Totaal wegvoertuigen",
         "Full elektric (BEV)",
         "2010 juli",
         "986"
        ],
        [
         "43",
         "Totaal wegvoertuigen",
         "Full elektric (BEV)",
         "2010 augustus",
         "616"
        ],
        [
         "44",
         "Totaal wegvoertuigen",
         "Full elektric (BEV)",
         "2010 september",
         "530"
        ],
        [
         "45",
         "Totaal wegvoertuigen",
         "Full elektric (BEV)",
         "2010 oktober",
         "411"
        ],
        [
         "46",
         "Totaal wegvoertuigen",
         "Full elektric (BEV)",
         "2010 november",
         "402"
        ],
        [
         "47",
         "Totaal wegvoertuigen",
         "Full elektric (BEV)",
         "2010 december",
         "224"
        ],
        [
         "48",
         "Totaal wegvoertuigen",
         "Full elektric (BEV)",
         "2011 januari",
         "365"
        ],
        [
         "49",
         "Totaal wegvoertuigen",
         "Full elektric (BEV)",
         "2011 februari",
         "427"
        ]
       ],
       "shape": {
        "columns": 4,
        "rows": 219
       }
      },
      "text/html": [
       "<div>\n",
       "<style scoped>\n",
       "    .dataframe tbody tr th:only-of-type {\n",
       "        vertical-align: middle;\n",
       "    }\n",
       "\n",
       "    .dataframe tbody tr th {\n",
       "        vertical-align: top;\n",
       "    }\n",
       "\n",
       "    .dataframe thead th {\n",
       "        text-align: right;\n",
       "    }\n",
       "</style>\n",
       "<table border=\"1\" class=\"dataframe\">\n",
       "  <thead>\n",
       "    <tr style=\"text-align: right;\">\n",
       "      <th></th>\n",
       "      <th>Wegvoertuigen</th>\n",
       "      <th>Brandstofsoort voertuig</th>\n",
       "      <th>Perioden</th>\n",
       "      <th>Totaal verkochte wegvoertuigen (aantal)</th>\n",
       "    </tr>\n",
       "  </thead>\n",
       "  <tbody>\n",
       "    <tr>\n",
       "      <th>0</th>\n",
       "      <td>Totaal wegvoertuigen</td>\n",
       "      <td>Full elektric (BEV)</td>\n",
       "      <td>2007 januari</td>\n",
       "      <td>31</td>\n",
       "    </tr>\n",
       "    <tr>\n",
       "      <th>1</th>\n",
       "      <td>Totaal wegvoertuigen</td>\n",
       "      <td>Full elektric (BEV)</td>\n",
       "      <td>2007 februari</td>\n",
       "      <td>39</td>\n",
       "    </tr>\n",
       "    <tr>\n",
       "      <th>2</th>\n",
       "      <td>Totaal wegvoertuigen</td>\n",
       "      <td>Full elektric (BEV)</td>\n",
       "      <td>2007 maart</td>\n",
       "      <td>123</td>\n",
       "    </tr>\n",
       "    <tr>\n",
       "      <th>3</th>\n",
       "      <td>Totaal wegvoertuigen</td>\n",
       "      <td>Full elektric (BEV)</td>\n",
       "      <td>2007 april</td>\n",
       "      <td>62</td>\n",
       "    </tr>\n",
       "    <tr>\n",
       "      <th>4</th>\n",
       "      <td>Totaal wegvoertuigen</td>\n",
       "      <td>Full elektric (BEV)</td>\n",
       "      <td>2007 mei</td>\n",
       "      <td>84</td>\n",
       "    </tr>\n",
       "    <tr>\n",
       "      <th>...</th>\n",
       "      <td>...</td>\n",
       "      <td>...</td>\n",
       "      <td>...</td>\n",
       "      <td>...</td>\n",
       "    </tr>\n",
       "    <tr>\n",
       "      <th>214</th>\n",
       "      <td>Totaal wegvoertuigen</td>\n",
       "      <td>Full elektric (BEV)</td>\n",
       "      <td>2024 november*</td>\n",
       "      <td>32623</td>\n",
       "    </tr>\n",
       "    <tr>\n",
       "      <th>215</th>\n",
       "      <td>Totaal wegvoertuigen</td>\n",
       "      <td>Full elektric (BEV)</td>\n",
       "      <td>2024 december*</td>\n",
       "      <td>39594</td>\n",
       "    </tr>\n",
       "    <tr>\n",
       "      <th>216</th>\n",
       "      <td>Totaal wegvoertuigen</td>\n",
       "      <td>Full elektric (BEV)</td>\n",
       "      <td>2025 januari*</td>\n",
       "      <td>33680</td>\n",
       "    </tr>\n",
       "    <tr>\n",
       "      <th>217</th>\n",
       "      <td>Totaal wegvoertuigen</td>\n",
       "      <td>Full elektric (BEV)</td>\n",
       "      <td>2025 februari*</td>\n",
       "      <td>29071</td>\n",
       "    </tr>\n",
       "    <tr>\n",
       "      <th>218</th>\n",
       "      <td>Totaal wegvoertuigen</td>\n",
       "      <td>Full elektric (BEV)</td>\n",
       "      <td>2025 maart*</td>\n",
       "      <td>31118</td>\n",
       "    </tr>\n",
       "  </tbody>\n",
       "</table>\n",
       "<p>219 rows × 4 columns</p>\n",
       "</div>"
      ],
      "text/plain": [
       "            Wegvoertuigen Brandstofsoort voertuig        Perioden  \\\n",
       "0    Totaal wegvoertuigen     Full elektric (BEV)    2007 januari   \n",
       "1    Totaal wegvoertuigen     Full elektric (BEV)   2007 februari   \n",
       "2    Totaal wegvoertuigen     Full elektric (BEV)      2007 maart   \n",
       "3    Totaal wegvoertuigen     Full elektric (BEV)      2007 april   \n",
       "4    Totaal wegvoertuigen     Full elektric (BEV)        2007 mei   \n",
       "..                    ...                     ...             ...   \n",
       "214  Totaal wegvoertuigen     Full elektric (BEV)  2024 november*   \n",
       "215  Totaal wegvoertuigen     Full elektric (BEV)  2024 december*   \n",
       "216  Totaal wegvoertuigen     Full elektric (BEV)   2025 januari*   \n",
       "217  Totaal wegvoertuigen     Full elektric (BEV)  2025 februari*   \n",
       "218  Totaal wegvoertuigen     Full elektric (BEV)     2025 maart*   \n",
       "\n",
       "     Totaal verkochte wegvoertuigen (aantal)  \n",
       "0                                         31  \n",
       "1                                         39  \n",
       "2                                        123  \n",
       "3                                         62  \n",
       "4                                         84  \n",
       "..                                       ...  \n",
       "214                                    32623  \n",
       "215                                    39594  \n",
       "216                                    33680  \n",
       "217                                    29071  \n",
       "218                                    31118  \n",
       "\n",
       "[219 rows x 4 columns]"
      ]
     },
     "metadata": {},
     "output_type": "display_data"
    }
   ],
   "source": [
    "# Autoverkoop inladen\n",
    "df_wegvoertuigenRaw = pd.read_csv(\n",
    "    r\"E:\\Nieuw dataset\\Verkochte wegvoertuigen\\Verkochte_wegvoertuigen_Full elektric.csv\",\n",
    "    sep=\";\"\n",
    ")\n",
    "\n",
    "display(df_wegvoertuigenRaw)"
   ]
  },
  {
   "cell_type": "markdown",
   "id": "22edaa80",
   "metadata": {},
   "source": [
    ">Data opschonen en transformeren: Nederlandse naar Engelse maanden, periode-format, filtering, Mapping van Nederlandse naar Engelse maandnamen"
   ]
  },
  {
   "cell_type": "code",
   "execution_count": 41,
   "id": "5c70f41d",
   "metadata": {},
   "outputs": [
    {
     "data": {
      "application/vnd.microsoft.datawrangler.viewer.v0+json": {
       "columns": [
        {
         "name": "index",
         "rawType": "int64",
         "type": "integer"
        },
        {
         "name": "Periode",
         "rawType": "object",
         "type": "string"
        },
        {
         "name": "Totaal_verkochte_wegvoertuigen",
         "rawType": "int64",
         "type": "integer"
        }
       ],
       "conversionMethod": "pd.DataFrame",
       "ref": "714c5c87-683a-43ce-b03e-821bc6b9d1cf",
       "rows": [
        [
         "0",
         "2007/01",
         "31"
        ],
        [
         "1",
         "2007/02",
         "39"
        ],
        [
         "2",
         "2007/03",
         "123"
        ],
        [
         "3",
         "2007/04",
         "62"
        ],
        [
         "4",
         "2007/05",
         "84"
        ],
        [
         "5",
         "2007/06",
         "112"
        ],
        [
         "6",
         "2007/07",
         "124"
        ],
        [
         "7",
         "2007/08",
         "96"
        ],
        [
         "8",
         "2007/09",
         "120"
        ],
        [
         "9",
         "2007/10",
         "77"
        ],
        [
         "10",
         "2007/11",
         "170"
        ],
        [
         "11",
         "2007/12",
         "79"
        ],
        [
         "12",
         "2008/01",
         "100"
        ],
        [
         "13",
         "2008/02",
         "111"
        ],
        [
         "14",
         "2008/03",
         "174"
        ],
        [
         "15",
         "2008/04",
         "192"
        ],
        [
         "16",
         "2008/05",
         "287"
        ],
        [
         "17",
         "2008/06",
         "364"
        ],
        [
         "18",
         "2008/07",
         "365"
        ],
        [
         "19",
         "2008/08",
         "263"
        ],
        [
         "20",
         "2008/09",
         "298"
        ],
        [
         "21",
         "2008/10",
         "366"
        ],
        [
         "22",
         "2008/11",
         "250"
        ],
        [
         "23",
         "2008/12",
         "202"
        ],
        [
         "24",
         "2009/01",
         "168"
        ],
        [
         "25",
         "2009/02",
         "246"
        ],
        [
         "26",
         "2009/03",
         "287"
        ],
        [
         "27",
         "2009/04",
         "434"
        ],
        [
         "28",
         "2009/05",
         "433"
        ],
        [
         "29",
         "2009/06",
         "522"
        ],
        [
         "30",
         "2009/07",
         "575"
        ],
        [
         "31",
         "2009/08",
         "515"
        ],
        [
         "32",
         "2009/09",
         "474"
        ],
        [
         "33",
         "2009/10",
         "457"
        ],
        [
         "34",
         "2009/11",
         "398"
        ],
        [
         "35",
         "2009/12",
         "287"
        ],
        [
         "36",
         "2010/01",
         "248"
        ],
        [
         "37",
         "2010/02",
         "318"
        ],
        [
         "38",
         "2010/03",
         "518"
        ],
        [
         "39",
         "2010/04",
         "774"
        ],
        [
         "40",
         "2010/05",
         "663"
        ],
        [
         "41",
         "2010/06",
         "774"
        ],
        [
         "42",
         "2010/07",
         "986"
        ],
        [
         "43",
         "2010/08",
         "616"
        ],
        [
         "44",
         "2010/09",
         "530"
        ],
        [
         "45",
         "2010/10",
         "411"
        ],
        [
         "46",
         "2010/11",
         "402"
        ],
        [
         "47",
         "2010/12",
         "224"
        ],
        [
         "48",
         "2011/01",
         "365"
        ],
        [
         "49",
         "2011/02",
         "427"
        ]
       ],
       "shape": {
        "columns": 2,
        "rows": 219
       }
      },
      "text/html": [
       "<div>\n",
       "<style scoped>\n",
       "    .dataframe tbody tr th:only-of-type {\n",
       "        vertical-align: middle;\n",
       "    }\n",
       "\n",
       "    .dataframe tbody tr th {\n",
       "        vertical-align: top;\n",
       "    }\n",
       "\n",
       "    .dataframe thead th {\n",
       "        text-align: right;\n",
       "    }\n",
       "</style>\n",
       "<table border=\"1\" class=\"dataframe\">\n",
       "  <thead>\n",
       "    <tr style=\"text-align: right;\">\n",
       "      <th></th>\n",
       "      <th>Periode</th>\n",
       "      <th>Totaal_verkochte_wegvoertuigen</th>\n",
       "    </tr>\n",
       "  </thead>\n",
       "  <tbody>\n",
       "    <tr>\n",
       "      <th>0</th>\n",
       "      <td>2007/01</td>\n",
       "      <td>31</td>\n",
       "    </tr>\n",
       "    <tr>\n",
       "      <th>1</th>\n",
       "      <td>2007/02</td>\n",
       "      <td>39</td>\n",
       "    </tr>\n",
       "    <tr>\n",
       "      <th>2</th>\n",
       "      <td>2007/03</td>\n",
       "      <td>123</td>\n",
       "    </tr>\n",
       "    <tr>\n",
       "      <th>3</th>\n",
       "      <td>2007/04</td>\n",
       "      <td>62</td>\n",
       "    </tr>\n",
       "    <tr>\n",
       "      <th>4</th>\n",
       "      <td>2007/05</td>\n",
       "      <td>84</td>\n",
       "    </tr>\n",
       "    <tr>\n",
       "      <th>...</th>\n",
       "      <td>...</td>\n",
       "      <td>...</td>\n",
       "    </tr>\n",
       "    <tr>\n",
       "      <th>214</th>\n",
       "      <td>2024/11</td>\n",
       "      <td>32623</td>\n",
       "    </tr>\n",
       "    <tr>\n",
       "      <th>215</th>\n",
       "      <td>2024/12</td>\n",
       "      <td>39594</td>\n",
       "    </tr>\n",
       "    <tr>\n",
       "      <th>216</th>\n",
       "      <td>2025/01</td>\n",
       "      <td>33680</td>\n",
       "    </tr>\n",
       "    <tr>\n",
       "      <th>217</th>\n",
       "      <td>2025/02</td>\n",
       "      <td>29071</td>\n",
       "    </tr>\n",
       "    <tr>\n",
       "      <th>218</th>\n",
       "      <td>2025/03</td>\n",
       "      <td>31118</td>\n",
       "    </tr>\n",
       "  </tbody>\n",
       "</table>\n",
       "<p>219 rows × 2 columns</p>\n",
       "</div>"
      ],
      "text/plain": [
       "     Periode  Totaal_verkochte_wegvoertuigen\n",
       "0    2007/01                              31\n",
       "1    2007/02                              39\n",
       "2    2007/03                             123\n",
       "3    2007/04                              62\n",
       "4    2007/05                              84\n",
       "..       ...                             ...\n",
       "214  2024/11                           32623\n",
       "215  2024/12                           39594\n",
       "216  2025/01                           33680\n",
       "217  2025/02                           29071\n",
       "218  2025/03                           31118\n",
       "\n",
       "[219 rows x 2 columns]"
      ]
     },
     "metadata": {},
     "output_type": "display_data"
    }
   ],
   "source": [
    "maand_mapping = {\n",
    "    'januari': 'January',\n",
    "    'februari': 'February',\n",
    "    'maart': 'March',\n",
    "    'april': 'April',\n",
    "    'mei': 'May',\n",
    "    'juni': 'June',\n",
    "    'juli': 'July',\n",
    "    'augustus': 'August',\n",
    "    'september': 'September',\n",
    "    'oktober': 'October',\n",
    "    'november': 'November',\n",
    "    'december': 'December'\n",
    "}\n",
    "\n",
    "# 1. Sterretjes verwijderen\n",
    "df_wegvoertuigenRaw['Perioden'] = df_wegvoertuigenRaw['Perioden'].str.replace('*', '', regex=False).str.strip()\n",
    "\n",
    "# 2. Nederlandse maandnamen vervangen door Engelse\n",
    "for nl, eng in maand_mapping.items():\n",
    "    df_wegvoertuigenRaw['Perioden'] = df_wegvoertuigenRaw['Perioden'].str.replace(nl, eng, regex=False)\n",
    "\n",
    "# 3. Periode omzetten naar datetime\n",
    "df_wegvoertuigenRaw['Periode'] = pd.to_datetime(df_wegvoertuigenRaw['Perioden'], format='%Y %B', errors='coerce')\n",
    "\n",
    "# 4. Omzetten naar YYYY/MM string\n",
    "df_wegvoertuigenRaw['Periode'] = df_wegvoertuigenRaw['Periode'].dt.strftime('%Y/%m')\n",
    "\n",
    "# 5. Alleen relevante kolommen behouden\n",
    "df_wegvoertuigen = df_wegvoertuigenRaw[['Periode', 'Totaal verkochte wegvoertuigen (aantal)']]\n",
    "\n",
    "# 5b. Filter op periode 2015/01 t/m 2025/03\n",
    "df_wegvoertuigen = df_wegvoertuigen[\n",
    "    (df_wegvoertuigen['Periode'] >= '2007/01') & \n",
    "    (df_wegvoertuigen['Periode'] <= '2025/03')\n",
    "]\n",
    "\n",
    "# 6. Kolom hernoemen\n",
    "df_wegvoertuigen.rename(columns={'Totaal verkochte wegvoertuigen (aantal)': 'Totaal_verkochte_wegvoertuigen'}, inplace=True)\n",
    "\n",
    "# 7. Resultaat bekijken\n",
    "display(df_wegvoertuigen)\n"
   ]
  },
  {
   "cell_type": "markdown",
   "id": "ef7c7eaf",
   "metadata": {},
   "source": [
    "> Opslaan als CSV"
   ]
  },
  {
   "cell_type": "code",
   "execution_count": 42,
   "id": "c67223f4",
   "metadata": {},
   "outputs": [
    {
     "name": "stdout",
     "output_type": "stream",
     "text": [
      "CSV opgeslagen op: E:\\Nieuw dataset\\Verkochte wegvoertuigen\\df_wegvoertuigen_2007.csv\n"
     ]
    }
   ],
   "source": [
    "# Opslaan als CSV\n",
    "output_path = r\"E:\\Nieuw dataset\\Verkochte wegvoertuigen\\df_wegvoertuigen_2007.csv\"\n",
    "df_wegvoertuigen.to_csv(output_path, index=False)\n",
    "\n",
    "# Pad van de nieuwe CSV printen\n",
    "print(f\"CSV opgeslagen op: {output_path}\")"
   ]
  },
  {
   "cell_type": "markdown",
   "id": "bb4e2b4b",
   "metadata": {},
   "source": [
    "## Google trends:"
   ]
  },
  {
   "cell_type": "markdown",
   "id": "447b546a",
   "metadata": {},
   "source": [
    "extracted from https://trends.google.com/trends/explore?cat=47&date=all&geo=NL&q=EV,subsidie%20elektrische%20auto,elektrische%20auto,elektrisch%20rijden"
   ]
  },
  {
   "cell_type": "code",
   "execution_count": 47,
   "id": "fe7eae87",
   "metadata": {},
   "outputs": [
    {
     "data": {
      "application/vnd.microsoft.datawrangler.viewer.v0+json": {
       "columns": [
        {
         "name": "index",
         "rawType": "int64",
         "type": "integer"
        },
        {
         "name": "Maand",
         "rawType": "object",
         "type": "string"
        },
        {
         "name": "EV: (Nederland)",
         "rawType": "int64",
         "type": "integer"
        },
        {
         "name": "subsidie elektrische auto: (Nederland)",
         "rawType": "int64",
         "type": "integer"
        },
        {
         "name": "elektrische auto: (Nederland)",
         "rawType": "int64",
         "type": "integer"
        },
        {
         "name": "elektrisch rijden: (Nederland)",
         "rawType": "int64",
         "type": "integer"
        }
       ],
       "conversionMethod": "pd.DataFrame",
       "ref": "f00322cd-94e8-4f90-8001-e3e0640d6666",
       "rows": [
        [
         "0",
         "2004-01",
         "0",
         "0",
         "0",
         "0"
        ],
        [
         "1",
         "2004-02",
         "0",
         "0",
         "0",
         "0"
        ],
        [
         "2",
         "2004-03",
         "0",
         "0",
         "0",
         "0"
        ],
        [
         "3",
         "2004-04",
         "0",
         "0",
         "0",
         "0"
        ],
        [
         "4",
         "2004-05",
         "0",
         "0",
         "0",
         "0"
        ],
        [
         "5",
         "2004-06",
         "0",
         "0",
         "0",
         "0"
        ],
        [
         "6",
         "2004-07",
         "0",
         "0",
         "0",
         "0"
        ],
        [
         "7",
         "2004-08",
         "0",
         "0",
         "0",
         "0"
        ],
        [
         "8",
         "2004-09",
         "0",
         "0",
         "0",
         "0"
        ],
        [
         "9",
         "2004-10",
         "0",
         "0",
         "0",
         "0"
        ],
        [
         "10",
         "2004-11",
         "0",
         "0",
         "0",
         "0"
        ],
        [
         "11",
         "2004-12",
         "0",
         "0",
         "0",
         "0"
        ],
        [
         "12",
         "2005-01",
         "0",
         "0",
         "0",
         "0"
        ],
        [
         "13",
         "2005-02",
         "0",
         "0",
         "0",
         "0"
        ],
        [
         "14",
         "2005-03",
         "0",
         "0",
         "0",
         "0"
        ],
        [
         "15",
         "2005-04",
         "0",
         "0",
         "0",
         "0"
        ],
        [
         "16",
         "2005-05",
         "0",
         "0",
         "0",
         "0"
        ],
        [
         "17",
         "2005-06",
         "0",
         "0",
         "0",
         "0"
        ],
        [
         "18",
         "2005-07",
         "0",
         "0",
         "0",
         "0"
        ],
        [
         "19",
         "2005-08",
         "0",
         "0",
         "0",
         "0"
        ],
        [
         "20",
         "2005-09",
         "0",
         "0",
         "0",
         "0"
        ],
        [
         "21",
         "2005-10",
         "0",
         "0",
         "0",
         "0"
        ],
        [
         "22",
         "2005-11",
         "0",
         "0",
         "0",
         "0"
        ],
        [
         "23",
         "2005-12",
         "0",
         "0",
         "0",
         "0"
        ],
        [
         "24",
         "2006-01",
         "0",
         "0",
         "0",
         "0"
        ],
        [
         "25",
         "2006-02",
         "0",
         "0",
         "0",
         "0"
        ],
        [
         "26",
         "2006-03",
         "0",
         "0",
         "0",
         "0"
        ],
        [
         "27",
         "2006-04",
         "0",
         "0",
         "0",
         "0"
        ],
        [
         "28",
         "2006-05",
         "0",
         "0",
         "0",
         "0"
        ],
        [
         "29",
         "2006-06",
         "0",
         "0",
         "0",
         "0"
        ],
        [
         "30",
         "2006-07",
         "0",
         "0",
         "0",
         "0"
        ],
        [
         "31",
         "2006-08",
         "0",
         "0",
         "0",
         "0"
        ],
        [
         "32",
         "2006-09",
         "0",
         "0",
         "0",
         "0"
        ],
        [
         "33",
         "2006-10",
         "0",
         "0",
         "0",
         "0"
        ],
        [
         "34",
         "2006-11",
         "0",
         "0",
         "0",
         "0"
        ],
        [
         "35",
         "2006-12",
         "0",
         "0",
         "0",
         "0"
        ],
        [
         "36",
         "2007-01",
         "0",
         "0",
         "0",
         "0"
        ],
        [
         "37",
         "2007-02",
         "0",
         "0",
         "0",
         "0"
        ],
        [
         "38",
         "2007-03",
         "0",
         "0",
         "0",
         "0"
        ],
        [
         "39",
         "2007-04",
         "0",
         "0",
         "0",
         "0"
        ],
        [
         "40",
         "2007-05",
         "0",
         "0",
         "0",
         "0"
        ],
        [
         "41",
         "2007-06",
         "0",
         "0",
         "0",
         "0"
        ],
        [
         "42",
         "2007-07",
         "0",
         "0",
         "0",
         "0"
        ],
        [
         "43",
         "2007-08",
         "0",
         "0",
         "0",
         "0"
        ],
        [
         "44",
         "2007-09",
         "3",
         "0",
         "0",
         "0"
        ],
        [
         "45",
         "2007-10",
         "0",
         "0",
         "0",
         "0"
        ],
        [
         "46",
         "2007-11",
         "0",
         "0",
         "0",
         "0"
        ],
        [
         "47",
         "2007-12",
         "0",
         "0",
         "0",
         "0"
        ],
        [
         "48",
         "2008-01",
         "2",
         "0",
         "0",
         "0"
        ],
        [
         "49",
         "2008-02",
         "0",
         "0",
         "0",
         "0"
        ]
       ],
       "shape": {
        "columns": 5,
        "rows": 257
       }
      },
      "text/html": [
       "<div>\n",
       "<style scoped>\n",
       "    .dataframe tbody tr th:only-of-type {\n",
       "        vertical-align: middle;\n",
       "    }\n",
       "\n",
       "    .dataframe tbody tr th {\n",
       "        vertical-align: top;\n",
       "    }\n",
       "\n",
       "    .dataframe thead th {\n",
       "        text-align: right;\n",
       "    }\n",
       "</style>\n",
       "<table border=\"1\" class=\"dataframe\">\n",
       "  <thead>\n",
       "    <tr style=\"text-align: right;\">\n",
       "      <th></th>\n",
       "      <th>Maand</th>\n",
       "      <th>EV: (Nederland)</th>\n",
       "      <th>subsidie elektrische auto: (Nederland)</th>\n",
       "      <th>elektrische auto: (Nederland)</th>\n",
       "      <th>elektrisch rijden: (Nederland)</th>\n",
       "    </tr>\n",
       "  </thead>\n",
       "  <tbody>\n",
       "    <tr>\n",
       "      <th>0</th>\n",
       "      <td>2004-01</td>\n",
       "      <td>0</td>\n",
       "      <td>0</td>\n",
       "      <td>0</td>\n",
       "      <td>0</td>\n",
       "    </tr>\n",
       "    <tr>\n",
       "      <th>1</th>\n",
       "      <td>2004-02</td>\n",
       "      <td>0</td>\n",
       "      <td>0</td>\n",
       "      <td>0</td>\n",
       "      <td>0</td>\n",
       "    </tr>\n",
       "    <tr>\n",
       "      <th>2</th>\n",
       "      <td>2004-03</td>\n",
       "      <td>0</td>\n",
       "      <td>0</td>\n",
       "      <td>0</td>\n",
       "      <td>0</td>\n",
       "    </tr>\n",
       "    <tr>\n",
       "      <th>3</th>\n",
       "      <td>2004-04</td>\n",
       "      <td>0</td>\n",
       "      <td>0</td>\n",
       "      <td>0</td>\n",
       "      <td>0</td>\n",
       "    </tr>\n",
       "    <tr>\n",
       "      <th>4</th>\n",
       "      <td>2004-05</td>\n",
       "      <td>0</td>\n",
       "      <td>0</td>\n",
       "      <td>0</td>\n",
       "      <td>0</td>\n",
       "    </tr>\n",
       "    <tr>\n",
       "      <th>...</th>\n",
       "      <td>...</td>\n",
       "      <td>...</td>\n",
       "      <td>...</td>\n",
       "      <td>...</td>\n",
       "      <td>...</td>\n",
       "    </tr>\n",
       "    <tr>\n",
       "      <th>252</th>\n",
       "      <td>2025-01</td>\n",
       "      <td>45</td>\n",
       "      <td>4</td>\n",
       "      <td>47</td>\n",
       "      <td>4</td>\n",
       "    </tr>\n",
       "    <tr>\n",
       "      <th>253</th>\n",
       "      <td>2025-02</td>\n",
       "      <td>45</td>\n",
       "      <td>2</td>\n",
       "      <td>42</td>\n",
       "      <td>4</td>\n",
       "    </tr>\n",
       "    <tr>\n",
       "      <th>254</th>\n",
       "      <td>2025-03</td>\n",
       "      <td>44</td>\n",
       "      <td>2</td>\n",
       "      <td>41</td>\n",
       "      <td>4</td>\n",
       "    </tr>\n",
       "    <tr>\n",
       "      <th>255</th>\n",
       "      <td>2025-04</td>\n",
       "      <td>41</td>\n",
       "      <td>3</td>\n",
       "      <td>43</td>\n",
       "      <td>7</td>\n",
       "    </tr>\n",
       "    <tr>\n",
       "      <th>256</th>\n",
       "      <td>2025-05</td>\n",
       "      <td>43</td>\n",
       "      <td>2</td>\n",
       "      <td>40</td>\n",
       "      <td>3</td>\n",
       "    </tr>\n",
       "  </tbody>\n",
       "</table>\n",
       "<p>257 rows × 5 columns</p>\n",
       "</div>"
      ],
      "text/plain": [
       "       Maand  EV: (Nederland)  subsidie elektrische auto: (Nederland)  \\\n",
       "0    2004-01                0                                       0   \n",
       "1    2004-02                0                                       0   \n",
       "2    2004-03                0                                       0   \n",
       "3    2004-04                0                                       0   \n",
       "4    2004-05                0                                       0   \n",
       "..       ...              ...                                     ...   \n",
       "252  2025-01               45                                       4   \n",
       "253  2025-02               45                                       2   \n",
       "254  2025-03               44                                       2   \n",
       "255  2025-04               41                                       3   \n",
       "256  2025-05               43                                       2   \n",
       "\n",
       "     elektrische auto: (Nederland)  elektrisch rijden: (Nederland)  \n",
       "0                                0                               0  \n",
       "1                                0                               0  \n",
       "2                                0                               0  \n",
       "3                                0                               0  \n",
       "4                                0                               0  \n",
       "..                             ...                             ...  \n",
       "252                             47                               4  \n",
       "253                             42                               4  \n",
       "254                             41                               4  \n",
       "255                             43                               7  \n",
       "256                             40                               3  \n",
       "\n",
       "[257 rows x 5 columns]"
      ]
     },
     "metadata": {},
     "output_type": "display_data"
    }
   ],
   "source": [
    "# Autoverkoop inladen\n",
    "df_trends_Raw = pd.read_csv(\n",
    "    r\"E:\\Nieuw dataset\\Google trends\\GoogleTrends_EV_Zoektermen_NL_2004heden.csv.\",\n",
    "    sep=\",\"\n",
    ")\n",
    "\n",
    "display(df_trends_Raw)"
   ]
  },
  {
   "cell_type": "code",
   "execution_count": 43,
   "id": "e686f1d2",
   "metadata": {},
   "outputs": [
    {
     "name": "stdout",
     "output_type": "stream",
     "text": [
      "Index(['Periode', 'EV: (Nederland)', 'subsidie elektrische auto: (Nederland)',\n",
      "       'elektrische auto: (Nederland)', 'elektrisch rijden: (Nederland)'],\n",
      "      dtype='object')\n"
     ]
    }
   ],
   "source": [
    "print(df_trends_Raw.columns)"
   ]
  },
  {
   "cell_type": "code",
   "execution_count": 48,
   "id": "31fe856f",
   "metadata": {},
   "outputs": [
    {
     "data": {
      "application/vnd.microsoft.datawrangler.viewer.v0+json": {
       "columns": [
        {
         "name": "index",
         "rawType": "int64",
         "type": "integer"
        },
        {
         "name": "Periode",
         "rawType": "object",
         "type": "string"
        },
        {
         "name": "EV: (Nederland)",
         "rawType": "int64",
         "type": "integer"
        },
        {
         "name": "subsidie elektrische auto: (Nederland)",
         "rawType": "int64",
         "type": "integer"
        },
        {
         "name": "elektrische auto: (Nederland)",
         "rawType": "int64",
         "type": "integer"
        },
        {
         "name": "elektrisch rijden: (Nederland)",
         "rawType": "int64",
         "type": "integer"
        }
       ],
       "conversionMethod": "pd.DataFrame",
       "ref": "ddcf87c3-73fc-4489-b662-82ed79ccfc95",
       "rows": [
        [
         "36",
         "2007/01",
         "0",
         "0",
         "0",
         "0"
        ],
        [
         "37",
         "2007/02",
         "0",
         "0",
         "0",
         "0"
        ],
        [
         "38",
         "2007/03",
         "0",
         "0",
         "0",
         "0"
        ],
        [
         "39",
         "2007/04",
         "0",
         "0",
         "0",
         "0"
        ],
        [
         "40",
         "2007/05",
         "0",
         "0",
         "0",
         "0"
        ],
        [
         "41",
         "2007/06",
         "0",
         "0",
         "0",
         "0"
        ],
        [
         "42",
         "2007/07",
         "0",
         "0",
         "0",
         "0"
        ],
        [
         "43",
         "2007/08",
         "0",
         "0",
         "0",
         "0"
        ],
        [
         "44",
         "2007/09",
         "3",
         "0",
         "0",
         "0"
        ],
        [
         "45",
         "2007/10",
         "0",
         "0",
         "0",
         "0"
        ],
        [
         "46",
         "2007/11",
         "0",
         "0",
         "0",
         "0"
        ],
        [
         "47",
         "2007/12",
         "0",
         "0",
         "0",
         "0"
        ],
        [
         "48",
         "2008/01",
         "2",
         "0",
         "0",
         "0"
        ],
        [
         "49",
         "2008/02",
         "0",
         "0",
         "0",
         "0"
        ],
        [
         "50",
         "2008/03",
         "0",
         "0",
         "2",
         "0"
        ],
        [
         "51",
         "2008/04",
         "0",
         "0",
         "0",
         "0"
        ],
        [
         "52",
         "2008/05",
         "0",
         "0",
         "3",
         "0"
        ],
        [
         "53",
         "2008/06",
         "0",
         "0",
         "4",
         "0"
        ],
        [
         "54",
         "2008/07",
         "0",
         "0",
         "3",
         "0"
        ],
        [
         "55",
         "2008/08",
         "0",
         "0",
         "3",
         "0"
        ],
        [
         "56",
         "2008/09",
         "0",
         "0",
         "3",
         "0"
        ],
        [
         "57",
         "2008/10",
         "3",
         "0",
         "4",
         "0"
        ],
        [
         "58",
         "2008/11",
         "3",
         "0",
         "5",
         "0"
        ],
        [
         "59",
         "2008/12",
         "0",
         "0",
         "0",
         "0"
        ],
        [
         "60",
         "2009/01",
         "3",
         "0",
         "3",
         "0"
        ],
        [
         "61",
         "2009/02",
         "3",
         "0",
         "4",
         "0"
        ],
        [
         "62",
         "2009/03",
         "2",
         "0",
         "4",
         "0"
        ],
        [
         "63",
         "2009/04",
         "3",
         "0",
         "6",
         "0"
        ],
        [
         "64",
         "2009/05",
         "0",
         "0",
         "5",
         "0"
        ],
        [
         "65",
         "2009/06",
         "2",
         "0",
         "3",
         "0"
        ],
        [
         "66",
         "2009/07",
         "3",
         "0",
         "6",
         "0"
        ],
        [
         "67",
         "2009/08",
         "3",
         "0",
         "4",
         "0"
        ],
        [
         "68",
         "2009/09",
         "3",
         "0",
         "8",
         "0"
        ],
        [
         "69",
         "2009/10",
         "2",
         "0",
         "7",
         "0"
        ],
        [
         "70",
         "2009/11",
         "2",
         "0",
         "7",
         "0"
        ],
        [
         "71",
         "2009/12",
         "2",
         "0",
         "6",
         "0"
        ],
        [
         "72",
         "2010/01",
         "3",
         "0",
         "8",
         "0"
        ],
        [
         "73",
         "2010/02",
         "3",
         "0",
         "4",
         "0"
        ],
        [
         "74",
         "2010/03",
         "3",
         "0",
         "6",
         "0"
        ],
        [
         "75",
         "2010/04",
         "2",
         "0",
         "9",
         "0"
        ],
        [
         "76",
         "2010/05",
         "3",
         "0",
         "5",
         "0"
        ],
        [
         "77",
         "2010/06",
         "2",
         "0",
         "5",
         "0"
        ],
        [
         "78",
         "2010/07",
         "3",
         "0",
         "4",
         "0"
        ],
        [
         "79",
         "2010/08",
         "3",
         "0",
         "6",
         "0"
        ],
        [
         "80",
         "2010/09",
         "2",
         "0",
         "4",
         "0"
        ],
        [
         "81",
         "2010/10",
         "2",
         "0",
         "5",
         "0"
        ],
        [
         "82",
         "2010/11",
         "2",
         "1",
         "6",
         "0"
        ],
        [
         "83",
         "2010/12",
         "2",
         "0",
         "6",
         "0"
        ],
        [
         "84",
         "2011/01",
         "2",
         "0",
         "8",
         "2"
        ],
        [
         "85",
         "2011/02",
         "2",
         "0",
         "8",
         "0"
        ]
       ],
       "shape": {
        "columns": 5,
        "rows": 219
       }
      },
      "text/html": [
       "<div>\n",
       "<style scoped>\n",
       "    .dataframe tbody tr th:only-of-type {\n",
       "        vertical-align: middle;\n",
       "    }\n",
       "\n",
       "    .dataframe tbody tr th {\n",
       "        vertical-align: top;\n",
       "    }\n",
       "\n",
       "    .dataframe thead th {\n",
       "        text-align: right;\n",
       "    }\n",
       "</style>\n",
       "<table border=\"1\" class=\"dataframe\">\n",
       "  <thead>\n",
       "    <tr style=\"text-align: right;\">\n",
       "      <th></th>\n",
       "      <th>Periode</th>\n",
       "      <th>EV: (Nederland)</th>\n",
       "      <th>subsidie elektrische auto: (Nederland)</th>\n",
       "      <th>elektrische auto: (Nederland)</th>\n",
       "      <th>elektrisch rijden: (Nederland)</th>\n",
       "    </tr>\n",
       "  </thead>\n",
       "  <tbody>\n",
       "    <tr>\n",
       "      <th>36</th>\n",
       "      <td>2007/01</td>\n",
       "      <td>0</td>\n",
       "      <td>0</td>\n",
       "      <td>0</td>\n",
       "      <td>0</td>\n",
       "    </tr>\n",
       "    <tr>\n",
       "      <th>37</th>\n",
       "      <td>2007/02</td>\n",
       "      <td>0</td>\n",
       "      <td>0</td>\n",
       "      <td>0</td>\n",
       "      <td>0</td>\n",
       "    </tr>\n",
       "    <tr>\n",
       "      <th>38</th>\n",
       "      <td>2007/03</td>\n",
       "      <td>0</td>\n",
       "      <td>0</td>\n",
       "      <td>0</td>\n",
       "      <td>0</td>\n",
       "    </tr>\n",
       "    <tr>\n",
       "      <th>39</th>\n",
       "      <td>2007/04</td>\n",
       "      <td>0</td>\n",
       "      <td>0</td>\n",
       "      <td>0</td>\n",
       "      <td>0</td>\n",
       "    </tr>\n",
       "    <tr>\n",
       "      <th>40</th>\n",
       "      <td>2007/05</td>\n",
       "      <td>0</td>\n",
       "      <td>0</td>\n",
       "      <td>0</td>\n",
       "      <td>0</td>\n",
       "    </tr>\n",
       "    <tr>\n",
       "      <th>...</th>\n",
       "      <td>...</td>\n",
       "      <td>...</td>\n",
       "      <td>...</td>\n",
       "      <td>...</td>\n",
       "      <td>...</td>\n",
       "    </tr>\n",
       "    <tr>\n",
       "      <th>250</th>\n",
       "      <td>2024/11</td>\n",
       "      <td>47</td>\n",
       "      <td>14</td>\n",
       "      <td>58</td>\n",
       "      <td>4</td>\n",
       "    </tr>\n",
       "    <tr>\n",
       "      <th>251</th>\n",
       "      <td>2024/12</td>\n",
       "      <td>42</td>\n",
       "      <td>11</td>\n",
       "      <td>57</td>\n",
       "      <td>6</td>\n",
       "    </tr>\n",
       "    <tr>\n",
       "      <th>252</th>\n",
       "      <td>2025/01</td>\n",
       "      <td>45</td>\n",
       "      <td>4</td>\n",
       "      <td>47</td>\n",
       "      <td>4</td>\n",
       "    </tr>\n",
       "    <tr>\n",
       "      <th>253</th>\n",
       "      <td>2025/02</td>\n",
       "      <td>45</td>\n",
       "      <td>2</td>\n",
       "      <td>42</td>\n",
       "      <td>4</td>\n",
       "    </tr>\n",
       "    <tr>\n",
       "      <th>254</th>\n",
       "      <td>2025/03</td>\n",
       "      <td>44</td>\n",
       "      <td>2</td>\n",
       "      <td>41</td>\n",
       "      <td>4</td>\n",
       "    </tr>\n",
       "  </tbody>\n",
       "</table>\n",
       "<p>219 rows × 5 columns</p>\n",
       "</div>"
      ],
      "text/plain": [
       "     Periode  EV: (Nederland)  subsidie elektrische auto: (Nederland)  \\\n",
       "36   2007/01                0                                       0   \n",
       "37   2007/02                0                                       0   \n",
       "38   2007/03                0                                       0   \n",
       "39   2007/04                0                                       0   \n",
       "40   2007/05                0                                       0   \n",
       "..       ...              ...                                     ...   \n",
       "250  2024/11               47                                      14   \n",
       "251  2024/12               42                                      11   \n",
       "252  2025/01               45                                       4   \n",
       "253  2025/02               45                                       2   \n",
       "254  2025/03               44                                       2   \n",
       "\n",
       "     elektrische auto: (Nederland)  elektrisch rijden: (Nederland)  \n",
       "36                               0                               0  \n",
       "37                               0                               0  \n",
       "38                               0                               0  \n",
       "39                               0                               0  \n",
       "40                               0                               0  \n",
       "..                             ...                             ...  \n",
       "250                             58                               4  \n",
       "251                             57                               6  \n",
       "252                             47                               4  \n",
       "253                             42                               4  \n",
       "254                             41                               4  \n",
       "\n",
       "[219 rows x 5 columns]"
      ]
     },
     "metadata": {},
     "output_type": "display_data"
    }
   ],
   "source": [
    "\n",
    "\n",
    "# 6. Kolom hernoemen\n",
    "df_trends_Raw.rename(columns={'Maand': 'Periode'}, inplace=True)\n",
    "\n",
    "\n",
    "df_trends_Raw['Periode'] = pd.to_datetime(df_trends_Raw['Periode'], format='%Y-%m', errors='coerce')\n",
    "df_trends_Raw['Periode'] = df_trends_Raw['Periode'].dt.strftime('%Y/%m')\n",
    "\n",
    "\n",
    "\n",
    "# 5b. Filter op periode 2007/01 t/m 2025/03\n",
    "df_trends_Raw = df_trends_Raw[\n",
    "    (df_trends_Raw['Periode'] >= '2007/01') & \n",
    "    (df_trends_Raw['Periode'] <= '2025/03') \n",
    "\n",
    "]\n",
    "df_trends = df_trends_Raw[['Periode', 'EV: (Nederland)', 'subsidie elektrische auto: (Nederland)',\n",
    "       'elektrische auto: (Nederland)', 'elektrisch rijden: (Nederland)']] \n",
    "\n",
    "\n",
    "# 7. Resultaat bekijken\n",
    "display(df_trends)"
   ]
  },
  {
   "cell_type": "code",
   "execution_count": 49,
   "id": "173faa0d",
   "metadata": {},
   "outputs": [
    {
     "name": "stdout",
     "output_type": "stream",
     "text": [
      "CSV opgeslagen op: E:\\Nieuw dataset\\Google trends\\Trends_EV_Zoektermen_NL_2007heden.csv\n"
     ]
    }
   ],
   "source": [
    "# Opslaan als CSV\n",
    "output_path = r\"E:\\Nieuw dataset\\Google trends\\Trends_EV_Zoektermen_NL_2007heden.csv\"\n",
    "df_trends_Raw.to_csv(output_path, index=False)\n",
    "\n",
    "# Pad van de nieuwe CSV printen\n",
    "print(f\"CSV opgeslagen op: {output_path}\")"
   ]
  },
  {
   "cell_type": "markdown",
   "id": "6512ffc7",
   "metadata": {},
   "source": [
    "### Join both datasets on periode "
   ]
  },
  {
   "cell_type": "code",
   "execution_count": 52,
   "id": "6509e6d9",
   "metadata": {},
   "outputs": [
    {
     "data": {
      "application/vnd.microsoft.datawrangler.viewer.v0+json": {
       "columns": [
        {
         "name": "index",
         "rawType": "int64",
         "type": "integer"
        },
        {
         "name": "Periode",
         "rawType": "object",
         "type": "string"
        },
        {
         "name": "EV: (Nederland)",
         "rawType": "int64",
         "type": "integer"
        },
        {
         "name": "subsidie elektrische auto: (Nederland)",
         "rawType": "int64",
         "type": "integer"
        },
        {
         "name": "elektrische auto: (Nederland)",
         "rawType": "int64",
         "type": "integer"
        },
        {
         "name": "elektrisch rijden: (Nederland)",
         "rawType": "int64",
         "type": "integer"
        },
        {
         "name": "Totaal_verkochte_wegvoertuigen",
         "rawType": "int64",
         "type": "integer"
        }
       ],
       "conversionMethod": "pd.DataFrame",
       "ref": "789d2ef7-ff27-4a84-b14a-84e3be99e0f3",
       "rows": [
        [
         "0",
         "2007/01",
         "0",
         "0",
         "0",
         "0",
         "31"
        ],
        [
         "1",
         "2007/02",
         "0",
         "0",
         "0",
         "0",
         "39"
        ],
        [
         "2",
         "2007/03",
         "0",
         "0",
         "0",
         "0",
         "123"
        ],
        [
         "3",
         "2007/04",
         "0",
         "0",
         "0",
         "0",
         "62"
        ],
        [
         "4",
         "2007/05",
         "0",
         "0",
         "0",
         "0",
         "84"
        ],
        [
         "5",
         "2007/06",
         "0",
         "0",
         "0",
         "0",
         "112"
        ],
        [
         "6",
         "2007/07",
         "0",
         "0",
         "0",
         "0",
         "124"
        ],
        [
         "7",
         "2007/08",
         "0",
         "0",
         "0",
         "0",
         "96"
        ],
        [
         "8",
         "2007/09",
         "3",
         "0",
         "0",
         "0",
         "120"
        ],
        [
         "9",
         "2007/10",
         "0",
         "0",
         "0",
         "0",
         "77"
        ],
        [
         "10",
         "2007/11",
         "0",
         "0",
         "0",
         "0",
         "170"
        ],
        [
         "11",
         "2007/12",
         "0",
         "0",
         "0",
         "0",
         "79"
        ],
        [
         "12",
         "2008/01",
         "2",
         "0",
         "0",
         "0",
         "100"
        ],
        [
         "13",
         "2008/02",
         "0",
         "0",
         "0",
         "0",
         "111"
        ],
        [
         "14",
         "2008/03",
         "0",
         "0",
         "2",
         "0",
         "174"
        ],
        [
         "15",
         "2008/04",
         "0",
         "0",
         "0",
         "0",
         "192"
        ],
        [
         "16",
         "2008/05",
         "0",
         "0",
         "3",
         "0",
         "287"
        ],
        [
         "17",
         "2008/06",
         "0",
         "0",
         "4",
         "0",
         "364"
        ],
        [
         "18",
         "2008/07",
         "0",
         "0",
         "3",
         "0",
         "365"
        ],
        [
         "19",
         "2008/08",
         "0",
         "0",
         "3",
         "0",
         "263"
        ],
        [
         "20",
         "2008/09",
         "0",
         "0",
         "3",
         "0",
         "298"
        ],
        [
         "21",
         "2008/10",
         "3",
         "0",
         "4",
         "0",
         "366"
        ],
        [
         "22",
         "2008/11",
         "3",
         "0",
         "5",
         "0",
         "250"
        ],
        [
         "23",
         "2008/12",
         "0",
         "0",
         "0",
         "0",
         "202"
        ],
        [
         "24",
         "2009/01",
         "3",
         "0",
         "3",
         "0",
         "168"
        ],
        [
         "25",
         "2009/02",
         "3",
         "0",
         "4",
         "0",
         "246"
        ],
        [
         "26",
         "2009/03",
         "2",
         "0",
         "4",
         "0",
         "287"
        ],
        [
         "27",
         "2009/04",
         "3",
         "0",
         "6",
         "0",
         "434"
        ],
        [
         "28",
         "2009/05",
         "0",
         "0",
         "5",
         "0",
         "433"
        ],
        [
         "29",
         "2009/06",
         "2",
         "0",
         "3",
         "0",
         "522"
        ],
        [
         "30",
         "2009/07",
         "3",
         "0",
         "6",
         "0",
         "575"
        ],
        [
         "31",
         "2009/08",
         "3",
         "0",
         "4",
         "0",
         "515"
        ],
        [
         "32",
         "2009/09",
         "3",
         "0",
         "8",
         "0",
         "474"
        ],
        [
         "33",
         "2009/10",
         "2",
         "0",
         "7",
         "0",
         "457"
        ],
        [
         "34",
         "2009/11",
         "2",
         "0",
         "7",
         "0",
         "398"
        ],
        [
         "35",
         "2009/12",
         "2",
         "0",
         "6",
         "0",
         "287"
        ],
        [
         "36",
         "2010/01",
         "3",
         "0",
         "8",
         "0",
         "248"
        ],
        [
         "37",
         "2010/02",
         "3",
         "0",
         "4",
         "0",
         "318"
        ],
        [
         "38",
         "2010/03",
         "3",
         "0",
         "6",
         "0",
         "518"
        ],
        [
         "39",
         "2010/04",
         "2",
         "0",
         "9",
         "0",
         "774"
        ],
        [
         "40",
         "2010/05",
         "3",
         "0",
         "5",
         "0",
         "663"
        ],
        [
         "41",
         "2010/06",
         "2",
         "0",
         "5",
         "0",
         "774"
        ],
        [
         "42",
         "2010/07",
         "3",
         "0",
         "4",
         "0",
         "986"
        ],
        [
         "43",
         "2010/08",
         "3",
         "0",
         "6",
         "0",
         "616"
        ],
        [
         "44",
         "2010/09",
         "2",
         "0",
         "4",
         "0",
         "530"
        ],
        [
         "45",
         "2010/10",
         "2",
         "0",
         "5",
         "0",
         "411"
        ],
        [
         "46",
         "2010/11",
         "2",
         "1",
         "6",
         "0",
         "402"
        ],
        [
         "47",
         "2010/12",
         "2",
         "0",
         "6",
         "0",
         "224"
        ],
        [
         "48",
         "2011/01",
         "2",
         "0",
         "8",
         "2",
         "365"
        ],
        [
         "49",
         "2011/02",
         "2",
         "0",
         "8",
         "0",
         "427"
        ]
       ],
       "shape": {
        "columns": 6,
        "rows": 219
       }
      },
      "text/html": [
       "<div>\n",
       "<style scoped>\n",
       "    .dataframe tbody tr th:only-of-type {\n",
       "        vertical-align: middle;\n",
       "    }\n",
       "\n",
       "    .dataframe tbody tr th {\n",
       "        vertical-align: top;\n",
       "    }\n",
       "\n",
       "    .dataframe thead th {\n",
       "        text-align: right;\n",
       "    }\n",
       "</style>\n",
       "<table border=\"1\" class=\"dataframe\">\n",
       "  <thead>\n",
       "    <tr style=\"text-align: right;\">\n",
       "      <th></th>\n",
       "      <th>Periode</th>\n",
       "      <th>EV: (Nederland)</th>\n",
       "      <th>subsidie elektrische auto: (Nederland)</th>\n",
       "      <th>elektrische auto: (Nederland)</th>\n",
       "      <th>elektrisch rijden: (Nederland)</th>\n",
       "      <th>Totaal_verkochte_wegvoertuigen</th>\n",
       "    </tr>\n",
       "  </thead>\n",
       "  <tbody>\n",
       "    <tr>\n",
       "      <th>0</th>\n",
       "      <td>2007/01</td>\n",
       "      <td>0</td>\n",
       "      <td>0</td>\n",
       "      <td>0</td>\n",
       "      <td>0</td>\n",
       "      <td>31</td>\n",
       "    </tr>\n",
       "    <tr>\n",
       "      <th>1</th>\n",
       "      <td>2007/02</td>\n",
       "      <td>0</td>\n",
       "      <td>0</td>\n",
       "      <td>0</td>\n",
       "      <td>0</td>\n",
       "      <td>39</td>\n",
       "    </tr>\n",
       "    <tr>\n",
       "      <th>2</th>\n",
       "      <td>2007/03</td>\n",
       "      <td>0</td>\n",
       "      <td>0</td>\n",
       "      <td>0</td>\n",
       "      <td>0</td>\n",
       "      <td>123</td>\n",
       "    </tr>\n",
       "    <tr>\n",
       "      <th>3</th>\n",
       "      <td>2007/04</td>\n",
       "      <td>0</td>\n",
       "      <td>0</td>\n",
       "      <td>0</td>\n",
       "      <td>0</td>\n",
       "      <td>62</td>\n",
       "    </tr>\n",
       "    <tr>\n",
       "      <th>4</th>\n",
       "      <td>2007/05</td>\n",
       "      <td>0</td>\n",
       "      <td>0</td>\n",
       "      <td>0</td>\n",
       "      <td>0</td>\n",
       "      <td>84</td>\n",
       "    </tr>\n",
       "    <tr>\n",
       "      <th>...</th>\n",
       "      <td>...</td>\n",
       "      <td>...</td>\n",
       "      <td>...</td>\n",
       "      <td>...</td>\n",
       "      <td>...</td>\n",
       "      <td>...</td>\n",
       "    </tr>\n",
       "    <tr>\n",
       "      <th>214</th>\n",
       "      <td>2024/11</td>\n",
       "      <td>47</td>\n",
       "      <td>14</td>\n",
       "      <td>58</td>\n",
       "      <td>4</td>\n",
       "      <td>32623</td>\n",
       "    </tr>\n",
       "    <tr>\n",
       "      <th>215</th>\n",
       "      <td>2024/12</td>\n",
       "      <td>42</td>\n",
       "      <td>11</td>\n",
       "      <td>57</td>\n",
       "      <td>6</td>\n",
       "      <td>39594</td>\n",
       "    </tr>\n",
       "    <tr>\n",
       "      <th>216</th>\n",
       "      <td>2025/01</td>\n",
       "      <td>45</td>\n",
       "      <td>4</td>\n",
       "      <td>47</td>\n",
       "      <td>4</td>\n",
       "      <td>33680</td>\n",
       "    </tr>\n",
       "    <tr>\n",
       "      <th>217</th>\n",
       "      <td>2025/02</td>\n",
       "      <td>45</td>\n",
       "      <td>2</td>\n",
       "      <td>42</td>\n",
       "      <td>4</td>\n",
       "      <td>29071</td>\n",
       "    </tr>\n",
       "    <tr>\n",
       "      <th>218</th>\n",
       "      <td>2025/03</td>\n",
       "      <td>44</td>\n",
       "      <td>2</td>\n",
       "      <td>41</td>\n",
       "      <td>4</td>\n",
       "      <td>31118</td>\n",
       "    </tr>\n",
       "  </tbody>\n",
       "</table>\n",
       "<p>219 rows × 6 columns</p>\n",
       "</div>"
      ],
      "text/plain": [
       "     Periode  EV: (Nederland)  subsidie elektrische auto: (Nederland)  \\\n",
       "0    2007/01                0                                       0   \n",
       "1    2007/02                0                                       0   \n",
       "2    2007/03                0                                       0   \n",
       "3    2007/04                0                                       0   \n",
       "4    2007/05                0                                       0   \n",
       "..       ...              ...                                     ...   \n",
       "214  2024/11               47                                      14   \n",
       "215  2024/12               42                                      11   \n",
       "216  2025/01               45                                       4   \n",
       "217  2025/02               45                                       2   \n",
       "218  2025/03               44                                       2   \n",
       "\n",
       "     elektrische auto: (Nederland)  elektrisch rijden: (Nederland)  \\\n",
       "0                                0                               0   \n",
       "1                                0                               0   \n",
       "2                                0                               0   \n",
       "3                                0                               0   \n",
       "4                                0                               0   \n",
       "..                             ...                             ...   \n",
       "214                             58                               4   \n",
       "215                             57                               6   \n",
       "216                             47                               4   \n",
       "217                             42                               4   \n",
       "218                             41                               4   \n",
       "\n",
       "     Totaal_verkochte_wegvoertuigen  \n",
       "0                                31  \n",
       "1                                39  \n",
       "2                               123  \n",
       "3                                62  \n",
       "4                                84  \n",
       "..                              ...  \n",
       "214                           32623  \n",
       "215                           39594  \n",
       "216                           33680  \n",
       "217                           29071  \n",
       "218                           31118  \n",
       "\n",
       "[219 rows x 6 columns]"
      ]
     },
     "metadata": {},
     "output_type": "display_data"
    },
    {
     "name": "stdout",
     "output_type": "stream",
     "text": [
      "Ontbrekende waarden per kolom:\n",
      " Periode                                   0\n",
      "EV: (Nederland)                           0\n",
      "subsidie elektrische auto: (Nederland)    0\n",
      "elektrische auto: (Nederland)             0\n",
      "elektrisch rijden: (Nederland)            0\n",
      "Totaal_verkochte_wegvoertuigen            0\n",
      "dtype: int64\n"
     ]
    }
   ],
   "source": [
    "# CSV's inladen\n",
    "# Join Google Trends en Wegvoertuigen op 'Periode'\n",
    "df_trends_wegvoertuigen = pd.merge(df_trends, df_wegvoertuigen, on='Periode', how='left')\n",
    "\n",
    "# Resultaat bekijken\n",
    "display(df_trends_wegvoertuigen)\n",
    "\n",
    "# Controleer op ontbrekende waarden in de samengevoegde dataset\n",
    "missing_values = df_trends_wegvoertuigen.isnull().sum()\n",
    "print(\"Ontbrekende waarden per kolom:\\n\", missing_values)\n",
    "\n"
   ]
  },
  {
   "cell_type": "code",
   "execution_count": 53,
   "id": "1572f5d8",
   "metadata": {},
   "outputs": [
    {
     "name": "stdout",
     "output_type": "stream",
     "text": [
      "CSV opgeslagen op: E:\\Nieuw dataset\\Joined trends\\joined_trend_sales.csv\n"
     ]
    }
   ],
   "source": [
    "# Opslaan van df_trends_wegvoertuigen als CSV\n",
    "output_joined_path = r\"E:\\Nieuw dataset\\Joined trends\\joined_trend_sales.csv\"\n",
    "df_trends_wegvoertuigen.to_csv(output_joined_path, index=False)\n",
    "print(f\"CSV opgeslagen op: {output_joined_path}\")"
   ]
  },
  {
   "cell_type": "code",
   "execution_count": 55,
   "id": "8a3dc000",
   "metadata": {},
   "outputs": [
    {
     "data": {
      "image/png": "[encoded data removed]",
      "text/plain": [
       "<Figure size 1200x800 with 2 Axes>"
      ]
     },
     "metadata": {},
     "output_type": "display_data"
    },
    {
     "data": {
      "image/png": "[encoded data removed]",
      "text/plain": [
       "<Figure size 800x600 with 1 Axes>"
      ]
     },
     "metadata": {},
     "output_type": "display_data"
    }
   ],
   "source": [
    "# Correlation matrix plot (exclude non-numeric columns)\n",
    "plt.figure(figsize=(12, 8))\n",
    "corr = df_trends_wegvoertuigen.select_dtypes(include=[np.number]).corr()\n",
    "sns.heatmap(corr, annot=True, cmap='coolwarm', fmt=\".2f\")\n",
    "plt.title('Correlation Matrix - Google Trends & Car Sales')\n",
    "plt.show()\n",
    "\n",
    "# Scatter plot: EV search interest vs. car sales\n",
    "plt.figure(figsize=(8, 6))\n",
    "sns.scatterplot(\n",
    "    data=df_trends_wegvoertuigen,\n",
    "    x='EV: (Nederland)',\n",
    "    y='Totaal_verkochte_wegvoertuigen'\n",
    ")\n",
    "plt.xlabel('Google Trends: EV (Nederland)')\n",
    "plt.ylabel('Totaal verkochte wegvoertuigen')\n",
    "plt.title('EV Search Interest vs. Car Sales')\n",
    "plt.show()"
   ]
  },
  {
   "cell_type": "code",
   "execution_count": null,
   "id": "d3a420e9",
   "metadata": {},
   "outputs": [
    {
     "data": {
      "image/png": "[encoded data removed]",
      "text/plain": [
       "<Figure size 1400x600 with 1 Axes>"
      ]
     },
     "metadata": {},
     "output_type": "display_data"
    }
   ],
   "source": [
    "from scipy.signal import find_peaks  # Import the find_peaks function for peak detection\n",
    "\n",
    "plt.figure(figsize=(14, 6))  # Create a new figure with a specific size\n",
    "plt.plot(df_wegvoertuigen['Periode'], df_wegvoertuigen['Totaal_verkochte_wegvoertuigen'], marker='o')  # Plot sales per period\n",
    "plt.xlabel('Periode')  # Set x-axis label\n",
    "plt.ylabel('Totaal verkochte elektrische wegvoertuigen')  # Set y-axis label\n",
    "plt.title('Verkoop van elektrische auto\\'s per maand')  # Set plot title\n",
    "plt.xticks(rotation=45)  # Rotate x-axis labels for readability\n",
    "\n",
    "# Pieken bepalen (lokaal maximum)\n",
    "peaks, _ = find_peaks(df_wegvoertuigen['Totaal_verkochte_wegvoertuigen'])  # Find indices of local maxima (peaks)\n",
    "\n",
    "# Top 5 spikes (op basis van hoogte)\n",
    "top5_idx = np.argsort(df_wegvoertuigen['Totaal_verkochte_wegvoertuigen'].iloc[peaks])[-6:]  # Get indices of 6 highest peaks\n",
    "top5_peaks = peaks[top5_idx]  # Get the actual peak positions for the top 6\n",
    "\n",
    "for peak in top5_peaks:  # Loop over each top peak\n",
    "    plt.annotate(\n",
    "        df_wegvoertuigen['Periode'].iloc[peak],  # Annotate with the period (month/year)\n",
    "        (df_wegvoertuigen['Periode'].iloc[peak], df_wegvoertuigen['Totaal_verkochte_wegvoertuigen'].iloc[peak]),  # At the peak's coordinates\n",
    "        textcoords=\"offset points\",  # Offset the text from the point\n",
    "        xytext=(0,10),  # Offset by 10 points above\n",
    "        ha='center',  # Center the annotation horizontally\n",
    "        fontsize=8,  # Set font size\n",
    "        color='red'  # Set annotation color to red\n",
    "    )\n",
    "plt.tight_layout()  # Adjust layout to prevent overlap\n",
    "plt.show()  # Display the plot"
   ]
  }
 ],
 "metadata": {
  "kernelspec": {
   "display_name": "base",
   "language": "python",
   "name": "python3"
  },
  "language_info": {
   "codemirror_mode": {
    "name": "ipython",
    "version": 3
   },
   "file_extension": ".py",
   "mimetype": "text/x-python",
   "name": "python",
   "nbconvert_exporter": "python",
   "pygments_lexer": "ipython3",
   "version": "3.12.4"
  }
 },
 "nbformat": 4,
 "nbformat_minor": 5
}
