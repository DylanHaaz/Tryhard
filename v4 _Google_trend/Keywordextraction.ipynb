{
 "cells": [
  {
   "cell_type": "code",
   "execution_count": 2,
   "id": "4a233517",
   "metadata": {},
   "outputs": [
    {
     "name": "stdout",
     "output_type": "stream",
     "text": [
      "Collecting yake\n",
      "  Downloading yake-0.4.8-py2.py3-none-any.whl.metadata (4.0 kB)\n",
      "Collecting PyPDF2\n",
      "  Using cached pypdf2-3.0.1-py3-none-any.whl.metadata (6.8 kB)\n",
      "Requirement already satisfied: tabulate in c:\\users\\dylan\\anaconda3\\lib\\site-packages (from yake) (0.9.0)\n",
      "Requirement already satisfied: click>=6.0 in c:\\users\\dylan\\anaconda3\\lib\\site-packages (from yake) (8.1.7)\n",
      "Requirement already satisfied: numpy in c:\\users\\dylan\\anaconda3\\lib\\site-packages (from yake) (1.26.4)\n",
      "Collecting segtok (from yake)\n",
      "  Downloading segtok-1.5.11-py3-none-any.whl.metadata (9.0 kB)\n",
      "Requirement already satisfied: networkx in c:\\users\\dylan\\anaconda3\\lib\\site-packages (from yake) (3.2.1)\n",
      "Requirement already satisfied: jellyfish in c:\\users\\dylan\\anaconda3\\lib\\site-packages (from yake) (1.0.1)\n",
      "Requirement already satisfied: colorama in c:\\users\\dylan\\anaconda3\\lib\\site-packages (from click>=6.0->yake) (0.4.6)\n",
      "Requirement already satisfied: regex in c:\\users\\dylan\\anaconda3\\lib\\site-packages (from segtok->yake) (2023.10.3)\n",
      "Downloading yake-0.4.8-py2.py3-none-any.whl (60 kB)\n",
      "   ---------------------------------------- 0.0/60.2 kB ? eta -:--:--\n",
      "   ------------- -------------------------- 20.5/60.2 kB ? eta -:--:--\n",
      "   --------------------------- ------------ 41.0/60.2 kB 487.6 kB/s eta 0:00:01\n",
      "   ---------------------------------------- 60.2/60.2 kB 453.8 kB/s eta 0:00:00\n",
      "Using cached pypdf2-3.0.1-py3-none-any.whl (232 kB)\n",
      "Downloading segtok-1.5.11-py3-none-any.whl (24 kB)\n",
      "Installing collected packages: segtok, PyPDF2, yake\n",
      "Successfully installed PyPDF2-3.0.1 segtok-1.5.11 yake-0.4.8\n"
     ]
    }
   ],
   "source": [
    "!pip install yake PyPDF2\n"
   ]
  },
  {
   "cell_type": "code",
   "execution_count": 5,
   "id": "147af927",
   "metadata": {},
   "outputs": [
    {
     "name": "stdout",
     "output_type": "stream",
     "text": [
      "Rapport economische betekenis (score: 0.0001)\n",
      "economische betekenis sector (score: 0.0001)\n",
      "betekenis sector elektrisch (score: 0.0001)\n",
      "sector elektrisch vervoer (score: 0.0002)\n",
      "economische betekenis (score: 0.0003)\n",
      "Rapport economische (score: 0.0003)\n",
      "elektrische lichte bedrijfsauto (score: 0.0003)\n",
      "BEV personenauto (score: 0.0004)\n",
      "elektrische (score: 0.0005)\n",
      "Ontwikkeling economische betekenis (score: 0.0005)\n",
      "nieuwe BEV personenauto (score: 0.0005)\n",
      "sector elektrisch (score: 0.0006)\n",
      "elektrisch vervoer (score: 0.0006)\n",
      "elektrische lichte (score: 0.0007)\n",
      "Nederland (score: 0.0007)\n",
      "betekenis sector (score: 0.0008)\n",
      "economische (score: 0.0010)\n",
      "toegevoegde waarde (score: 0.0011)\n",
      "BEV (score: 0.0012)\n",
      "elektrisch vervoer Nederland (score: 0.0013)\n"
     ]
    }
   ],
   "source": [
    "import yake\n",
    "from PyPDF2 import PdfReader\n",
    "\n",
    "# Extract text from a PDF\n",
    "def extract_text_from_pdf(pdf_path):\n",
    "    reader = PdfReader(pdf_path)\n",
    "    text = \"\"\n",
    "    for page in reader.pages:\n",
    "        page_text = page.extract_text()\n",
    "        if page_text:\n",
    "            text += page_text + \"\\n\"\n",
    "    return text\n",
    "\n",
    "# Extract keywords using YAKE\n",
    "def extract_keywords_yake(text, language=\"nl\", max_keywords=20):\n",
    "    kw_extractor = yake.KeywordExtractor(lan=language, n=3, top=max_keywords)\n",
    "    keywords = kw_extractor.extract_keywords(text)\n",
    "    return keywords\n",
    "\n",
    "# Example usage\n",
    "pdf_path = r\"C:\\Users\\dylan\\OneDrive - HvA\\AAI Master\\BLOK 3 afstuderen\\Thesis\\Usefull\\Overheid\\Rapport Economische betekenis sector EV Nederland 2020-2022_2.pdf\"\n",
    "text = extract_text_from_pdf(pdf_path)\n",
    "keywords = extract_keywords_yake(text)\n",
    "\n",
    "# Display results\n",
    "for kw, score in keywords:\n",
    "    print(f\"{kw} (score: {score:.4f})\")\n"
   ]
  }
 ],
 "metadata": {
  "kernelspec": {
   "display_name": "base",
   "language": "python",
   "name": "python3"
  },
  "language_info": {
   "codemirror_mode": {
    "name": "ipython",
    "version": 3
   },
   "file_extension": ".py",
   "mimetype": "text/x-python",
   "name": "python",
   "nbconvert_exporter": "python",
   "pygments_lexer": "ipython3",
   "version": "3.12.4"
  }
 },
 "nbformat": 4,
 "nbformat_minor": 5
}
