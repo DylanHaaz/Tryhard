{
 "cells": [
  {
   "cell_type": "markdown",
   "id": "1a1023b7",
   "metadata": {},
   "source": [
    "## Imports"
   ]
  },
  {
   "cell_type": "code",
   "execution_count": 7,
   "id": "d6bbcef6",
   "metadata": {},
   "outputs": [],
   "source": [
    "import numpy as np\n",
    "import pandas as pd\n",
    "import matplotlib.pyplot as plt\n",
    "import matplotlib.colors as mcolors\n",
    "from sklearn.model_selection import TimeSeriesSplit\n",
    "from sklearn.preprocessing import MinMaxScaler\n",
    "from sklearn.metrics import mean_squared_error, mean_absolute_error, r2_score\n",
    "from statsmodels.tsa.arima.model import ARIMA\n",
    "from statsmodels.tsa.statespace.sarimax import SARIMAX\n",
    "from tensorflow.keras.models import Sequential\n",
    "from tensorflow.keras.layers import LSTM, Dense\n",
    "import xgboost as xgb\n",
    "import itertools\n",
    "import warnings\n",
    "from matplotlib.lines import Line2D\n",
    "from sklearn.linear_model import LinearRegression\n"
   ]
  },
  {
   "cell_type": "markdown",
   "id": "b25a68ca",
   "metadata": {},
   "source": [
    "## Loading Dataset"
   ]
  },
  {
   "cell_type": "code",
   "execution_count": 28,
   "id": "22ca78e5",
   "metadata": {},
   "outputs": [
    {
     "data": {
      "application/vnd.microsoft.datawrangler.viewer.v0+json": {
       "columns": [
        {
         "name": "index",
         "rawType": "int64",
         "type": "integer"
        },
        {
         "name": "Periode",
         "rawType": "object",
         "type": "string"
        },
        {
         "name": "thuis opladen",
         "rawType": "int64",
         "type": "integer"
        },
        {
         "name": "elektrische auto",
         "rawType": "int64",
         "type": "integer"
        },
        {
         "name": "hybride elektrisch",
         "rawType": "int64",
         "type": "integer"
        },
        {
         "name": "Bijtelling (%)",
         "rawType": "int64",
         "type": "integer"
        },
        {
         "name": "Consumentenvertrouwen",
         "rawType": "float64",
         "type": "float"
        },
        {
         "name": "Economisch klimaat",
         "rawType": "float64",
         "type": "float"
        },
        {
         "name": "Koopbereidheid",
         "rawType": "float64",
         "type": "float"
        },
        {
         "name": "Grote aankopen",
         "rawType": "float64",
         "type": "float"
        },
        {
         "name": "BenzineEuro95_1_first",
         "rawType": "float64",
         "type": "float"
        },
        {
         "name": "BenzineEuro95_1_last",
         "rawType": "float64",
         "type": "float"
        },
        {
         "name": "BenzineEuro95_1_min",
         "rawType": "float64",
         "type": "float"
        },
        {
         "name": "BenzineEuro95_1_max",
         "rawType": "float64",
         "type": "float"
        },
        {
         "name": "BenzineEuro95_1_mean",
         "rawType": "float64",
         "type": "float"
        },
        {
         "name": "Diesel_2_first",
         "rawType": "float64",
         "type": "float"
        },
        {
         "name": "Diesel_2_last",
         "rawType": "float64",
         "type": "float"
        },
        {
         "name": "Diesel_2_min",
         "rawType": "float64",
         "type": "float"
        },
        {
         "name": "Diesel_2_max",
         "rawType": "float64",
         "type": "float"
        },
        {
         "name": "Diesel_2_mean",
         "rawType": "float64",
         "type": "float"
        },
        {
         "name": "TVV_Lag1",
         "rawType": "float64",
         "type": "float"
        },
        {
         "name": "TVV_Lag2",
         "rawType": "float64",
         "type": "float"
        },
        {
         "name": "TVV_Lag3",
         "rawType": "float64",
         "type": "float"
        },
        {
         "name": "TVV_Lag4",
         "rawType": "float64",
         "type": "float"
        },
        {
         "name": "TVV_Lag5",
         "rawType": "float64",
         "type": "float"
        },
        {
         "name": "TVV_Lag6",
         "rawType": "float64",
         "type": "float"
        },
        {
         "name": "year",
         "rawType": "int64",
         "type": "integer"
        },
        {
         "name": "month",
         "rawType": "int64",
         "type": "integer"
        },
        {
         "name": "quarter",
         "rawType": "int64",
         "type": "integer"
        },
        {
         "name": "Totaal_verkochte_wegvoertuigen",
         "rawType": "int64",
         "type": "integer"
        }
       ],
       "ref": "79b5314c-105a-4f88-9cf4-dfe9550343ed",
       "rows": [
        [
         "0",
         "2007-07-01",
         "0",
         "1",
         "0",
         "22",
         "14.0",
         "22.0",
         "9.0",
         "6.2",
         "1.451",
         "1.414",
         "1.414",
         "1.469",
         "1.4439032258064517",
         "1.057",
         "1.064",
         "1.057",
         "1.069",
         "1.063483870967742",
         "112.0",
         "84.0",
         "62.0",
         "123.0",
         "39.0",
         "31.0",
         "2007",
         "7",
         "3",
         "124"
        ],
        [
         "1",
         "2007-08-01",
         "0",
         "1",
         "0",
         "22",
         "12.0",
         "17.0",
         "9.0",
         "5.6",
         "1.415",
         "1.421",
         "1.399",
         "1.421",
         "1.4081612903225806",
         "1.066",
         "1.055",
         "1.045",
         "1.068",
         "1.0523870967741935",
         "124.0",
         "112.0",
         "84.0",
         "62.0",
         "123.0",
         "39.0",
         "2007",
         "8",
         "3",
         "96"
        ],
        [
         "2",
         "2007-09-01",
         "0",
         "1",
         "0",
         "22",
         "10.0",
         "12.0",
         "9.0",
         "5.0",
         "1.422",
         "1.413",
         "1.412",
         "1.434",
         "1.4240333333333333",
         "1.056",
         "1.09",
         "1.056",
         "1.094",
         "1.0811333333333333",
         "96.0",
         "124.0",
         "112.0",
         "84.0",
         "62.0",
         "123.0",
         "2007",
         "9",
         "3",
         "120"
        ]
       ],
       "shape": {
        "columns": 29,
        "rows": 3
       }
      },
      "text/html": [
       "<div>\n",
       "<style scoped>\n",
       "    .dataframe tbody tr th:only-of-type {\n",
       "        vertical-align: middle;\n",
       "    }\n",
       "\n",
       "    .dataframe tbody tr th {\n",
       "        vertical-align: top;\n",
       "    }\n",
       "\n",
       "    .dataframe thead th {\n",
       "        text-align: right;\n",
       "    }\n",
       "</style>\n",
       "<table border=\"1\" class=\"dataframe\">\n",
       "  <thead>\n",
       "    <tr style=\"text-align: right;\">\n",
       "      <th></th>\n",
       "      <th>Periode</th>\n",
       "      <th>thuis opladen</th>\n",
       "      <th>elektrische auto</th>\n",
       "      <th>hybride elektrisch</th>\n",
       "      <th>Bijtelling (%)</th>\n",
       "      <th>Consumentenvertrouwen</th>\n",
       "      <th>Economisch klimaat</th>\n",
       "      <th>Koopbereidheid</th>\n",
       "      <th>Grote aankopen</th>\n",
       "      <th>BenzineEuro95_1_first</th>\n",
       "      <th>...</th>\n",
       "      <th>TVV_Lag1</th>\n",
       "      <th>TVV_Lag2</th>\n",
       "      <th>TVV_Lag3</th>\n",
       "      <th>TVV_Lag4</th>\n",
       "      <th>TVV_Lag5</th>\n",
       "      <th>TVV_Lag6</th>\n",
       "      <th>year</th>\n",
       "      <th>month</th>\n",
       "      <th>quarter</th>\n",
       "      <th>Totaal_verkochte_wegvoertuigen</th>\n",
       "    </tr>\n",
       "  </thead>\n",
       "  <tbody>\n",
       "    <tr>\n",
       "      <th>0</th>\n",
       "      <td>2007-07-01</td>\n",
       "      <td>0</td>\n",
       "      <td>1</td>\n",
       "      <td>0</td>\n",
       "      <td>22</td>\n",
       "      <td>14.0</td>\n",
       "      <td>22.0</td>\n",
       "      <td>9.0</td>\n",
       "      <td>6.2</td>\n",
       "      <td>1.451</td>\n",
       "      <td>...</td>\n",
       "      <td>112.0</td>\n",
       "      <td>84.0</td>\n",
       "      <td>62.0</td>\n",
       "      <td>123.0</td>\n",
       "      <td>39.0</td>\n",
       "      <td>31.0</td>\n",
       "      <td>2007</td>\n",
       "      <td>7</td>\n",
       "      <td>3</td>\n",
       "      <td>124</td>\n",
       "    </tr>\n",
       "    <tr>\n",
       "      <th>1</th>\n",
       "      <td>2007-08-01</td>\n",
       "      <td>0</td>\n",
       "      <td>1</td>\n",
       "      <td>0</td>\n",
       "      <td>22</td>\n",
       "      <td>12.0</td>\n",
       "      <td>17.0</td>\n",
       "      <td>9.0</td>\n",
       "      <td>5.6</td>\n",
       "      <td>1.415</td>\n",
       "      <td>...</td>\n",
       "      <td>124.0</td>\n",
       "      <td>112.0</td>\n",
       "      <td>84.0</td>\n",
       "      <td>62.0</td>\n",
       "      <td>123.0</td>\n",
       "      <td>39.0</td>\n",
       "      <td>2007</td>\n",
       "      <td>8</td>\n",
       "      <td>3</td>\n",
       "      <td>96</td>\n",
       "    </tr>\n",
       "    <tr>\n",
       "      <th>2</th>\n",
       "      <td>2007-09-01</td>\n",
       "      <td>0</td>\n",
       "      <td>1</td>\n",
       "      <td>0</td>\n",
       "      <td>22</td>\n",
       "      <td>10.0</td>\n",
       "      <td>12.0</td>\n",
       "      <td>9.0</td>\n",
       "      <td>5.0</td>\n",
       "      <td>1.422</td>\n",
       "      <td>...</td>\n",
       "      <td>96.0</td>\n",
       "      <td>124.0</td>\n",
       "      <td>112.0</td>\n",
       "      <td>84.0</td>\n",
       "      <td>62.0</td>\n",
       "      <td>123.0</td>\n",
       "      <td>2007</td>\n",
       "      <td>9</td>\n",
       "      <td>3</td>\n",
       "      <td>120</td>\n",
       "    </tr>\n",
       "  </tbody>\n",
       "</table>\n",
       "<p>3 rows × 29 columns</p>\n",
       "</div>"
      ],
      "text/plain": [
       "      Periode  thuis opladen  elektrische auto  hybride elektrisch  \\\n",
       "0  2007-07-01              0                 1                   0   \n",
       "1  2007-08-01              0                 1                   0   \n",
       "2  2007-09-01              0                 1                   0   \n",
       "\n",
       "   Bijtelling (%)  Consumentenvertrouwen  Economisch klimaat  Koopbereidheid  \\\n",
       "0              22                   14.0                22.0             9.0   \n",
       "1              22                   12.0                17.0             9.0   \n",
       "2              22                   10.0                12.0             9.0   \n",
       "\n",
       "   Grote aankopen  BenzineEuro95_1_first  ...  TVV_Lag1  TVV_Lag2  TVV_Lag3  \\\n",
       "0             6.2                  1.451  ...     112.0      84.0      62.0   \n",
       "1             5.6                  1.415  ...     124.0     112.0      84.0   \n",
       "2             5.0                  1.422  ...      96.0     124.0     112.0   \n",
       "\n",
       "   TVV_Lag4  TVV_Lag5  TVV_Lag6  year  month  quarter  \\\n",
       "0     123.0      39.0      31.0  2007      7        3   \n",
       "1      62.0     123.0      39.0  2007      8        3   \n",
       "2      84.0      62.0     123.0  2007      9        3   \n",
       "\n",
       "   Totaal_verkochte_wegvoertuigen  \n",
       "0                             124  \n",
       "1                              96  \n",
       "2                             120  \n",
       "\n",
       "[3 rows x 29 columns]"
      ]
     },
     "metadata": {},
     "output_type": "display_data"
    }
   ],
   "source": [
    "\n",
    "df_lagged = pd.read_csv(r\"C:\\Users\\dylan\\OneDrive - HvA\\AAI Master\\BLOK 3 afstuderen\\Thesis\\Eigenwerk\\DATASET\\df_lagged.csv\")\n",
    "display(df_lagged.head(3))"
   ]
  },
  {
   "cell_type": "markdown",
   "id": "0b13bc8b",
   "metadata": {},
   "source": [
    "## Data prrocessing"
   ]
  },
  {
   "cell_type": "markdown",
   "id": "7a9084f9",
   "metadata": {},
   "source": [
    "### datasplit"
   ]
  },
  {
   "cell_type": "code",
   "execution_count": 29,
   "id": "f8bf3ab8",
   "metadata": {},
   "outputs": [
    {
     "name": "stdout",
     "output_type": "stream",
     "text": [
      "Total walk-forward steps: 43\n"
     ]
    },
    {
     "data": {
      "image/png": "[encoded data removed]",
      "text/plain": [
       "<Figure size 1200x600 with 2 Axes>"
      ]
     },
     "metadata": {},
     "output_type": "display_data"
    }
   ],
   "source": [
    "# Walk-forward split: start with 80% as initial train, then identify test points\n",
    "drop_cols = ['Periode', 'Totaal_verkochte_wegvoertuigen']\n",
    "target_col = 'Totaal_verkochte_wegvoertuigen'\n",
    "feature_cols = [col for col in df_lagged.columns if col not in drop_cols]\n",
    "\n",
    "initial_train_size = int(len(df_lagged) * 0.8)\n",
    "walkforward_train_sizes = []\n",
    "walkforward_test_points = []\n",
    "\n",
    "X = df_lagged[feature_cols].values\n",
    "y = df_lagged[target_col].values\n",
    "\n",
    "for i in range(initial_train_size, len(df_lagged)):\n",
    "    X_train, y_train = X[:i], y[:i]\n",
    "    X_test, y_test = X[i], y[i]\n",
    "    \n",
    "    walkforward_train_sizes.append(len(X_train))\n",
    "    walkforward_test_points.append(y_test)  # Optional: you can skip storing this\n",
    "\n",
    "print(f\"Total walk-forward steps: {len(walkforward_test_points)}\")\n",
    "\n",
    "# Visualize each walk-forward loop as a matrix (like a CV split matrix)\n",
    "n_samples = len(df_lagged)\n",
    "n_steps = len(walkforward_test_points)\n",
    "visual_matrix = np.zeros((n_steps, n_samples))\n",
    "\n",
    "for i in range(n_steps):\n",
    "    train_end = walkforward_train_sizes[i]\n",
    "    visual_matrix[i, :train_end] = 1  # Train = 1\n",
    "    visual_matrix[i, train_end] = 0.5  # Test point = 0.5\n",
    "\n",
    "plt.figure(figsize=(12, 6))\n",
    "plt.imshow(visual_matrix, aspect='auto', cmap='coolwarm', interpolation='nearest')\n",
    "plt.title(\"Walk-Forward Validation Visualization (Each Loop)\")\n",
    "plt.xlabel(\"Time Index\")\n",
    "plt.ylabel(\"Step\")\n",
    "plt.colorbar(label=\"Data Role (Train=1, Test=0.5)\")\n",
    "plt.tight_layout()\n",
    "plt.show()"
   ]
  },
  {
   "cell_type": "code",
   "execution_count": 34,
   "id": "1dbf8811",
   "metadata": {},
   "outputs": [],
   "source": [
    "# Define lag and time features to add to all subsets\n",
    "lag_time_features = ['TVV_Lag1', 'TVV_Lag2', 'TVV_Lag3', 'TVV_Lag4', 'TVV_Lag5', 'TVV_Lag6', 'year', 'month', 'quarter']\n",
    "\n",
    "# Redefine feature sets with those always included\n",
    "feature_sets = {\n",
    "    ' (Lag Only)': lag_time_features,\n",
    "    'Keywords + Lag': lag_time_features + ['thuis opladen', 'elektrische auto', 'hybride elektrisch'],\n",
    "    'Bijtelling + Lag': lag_time_features + ['Bijtelling (%)'],\n",
    "    'Confidence + Lag': lag_time_features + ['Consumentenvertrouwen', 'Economisch klimaat', 'Koopbereidheid', 'Grote aankopen'],\n",
    "    'Fuel + Lag': lag_time_features + [\n",
    "        'BenzineEuro95_1_first', 'BenzineEuro95_1_last', 'BenzineEuro95_1_min',\n",
    "        'BenzineEuro95_1_max', 'BenzineEuro95_1_mean',\n",
    "        'Diesel_2_first', 'Diesel_2_last', 'Diesel_2_min', 'Diesel_2_max', 'Diesel_2_mean'\n",
    "    ]\n",
    "}\n",
    "\n",
    "# Add full feature set: everything except target and 'Periode'\n",
    "all_features = [\n",
    "    'thuis opladen', 'elektrische auto', 'hybride elektrisch',\n",
    "    'Bijtelling (%)', 'Consumentenvertrouwen', 'Economisch klimaat',\n",
    "    'Koopbereidheid', 'Grote aankopen',\n",
    "    'BenzineEuro95_1_first', 'BenzineEuro95_1_last', 'BenzineEuro95_1_min',\n",
    "    'BenzineEuro95_1_max', 'BenzineEuro95_1_mean',\n",
    "    'Diesel_2_first', 'Diesel_2_last', 'Diesel_2_min', 'Diesel_2_max', 'Diesel_2_mean'\n",
    "] + lag_time_features\n",
    "\n",
    "feature_sets['All Features'] = all_features"
   ]
  },
  {
   "cell_type": "markdown",
   "id": "bfdb85da",
   "metadata": {},
   "source": [
    "### Def"
   ]
  },
  {
   "cell_type": "code",
   "execution_count": 24,
   "id": "b3ff387a",
   "metadata": {},
   "outputs": [],
   "source": [
    "# Define lag and time features to add to all subsets\n",
    "lag_time_features = ['TVV_Lag1', 'TVV_Lag2', 'TVV_Lag3', 'TVV_Lag4', 'TVV_Lag5', 'TVV_Lag6', 'year', 'month', 'quarter']\n",
    "\n",
    "# Redefine feature sets with those always included\n",
    "feature_sets = {\n",
    "    ' (Lag Only)': lag_time_features,\n",
    "    'Keywords + Lag': lag_time_features + ['thuis opladen', 'elektrische auto', 'hybride elektrisch'],\n",
    "    'Bijtelling + Lag': lag_time_features + ['Bijtelling (%)'],\n",
    "    'Confidence + Lag': lag_time_features + ['Consumentenvertrouwen', 'Economisch klimaat', 'Koopbereidheid', 'Grote aankopen'],\n",
    "    'Fuel + Lag': lag_time_features + [\n",
    "        'BenzineEuro95_1_first', 'BenzineEuro95_1_last', 'BenzineEuro95_1_min',\n",
    "        'BenzineEuro95_1_max', 'BenzineEuro95_1_mean',\n",
    "        'Diesel_2_first', 'Diesel_2_last', 'Diesel_2_min', 'Diesel_2_max', 'Diesel_2_mean'\n",
    "    ]\n",
    "}\n",
    "\n",
    "# Add full feature set: everything except target and 'Periode'\n",
    "all_features = [\n",
    "    'thuis opladen', 'elektrische auto', 'hybride elektrisch',\n",
    "    'Bijtelling (%)', 'Consumentenvertrouwen', 'Economisch klimaat',\n",
    "    'Koopbereidheid', 'Grote aankopen',\n",
    "    'BenzineEuro95_1_first', 'BenzineEuro95_1_last', 'BenzineEuro95_1_min',\n",
    "    'BenzineEuro95_1_max', 'BenzineEuro95_1_mean',\n",
    "    'Diesel_2_first', 'Diesel_2_last', 'Diesel_2_min', 'Diesel_2_max', 'Diesel_2_mean'\n",
    "] + lag_time_features\n",
    "\n",
    "feature_sets['All Features'] = all_features"
   ]
  },
  {
   "cell_type": "markdown",
   "id": "3ffe9883",
   "metadata": {},
   "source": [
    "## Baseline\n",
    "Baseline Performance Across Models (Default Hyperparameters)"
   ]
  },
  {
   "cell_type": "markdown",
   "id": "54a7b928",
   "metadata": {},
   "source": [
    "### Linear Regression"
   ]
  },
  {
   "cell_type": "code",
   "execution_count": 33,
   "id": "b8b06261",
   "metadata": {},
   "outputs": [
    {
     "ename": "ValueError",
     "evalue": "too many values to unpack (expected 4)",
     "output_type": "error",
     "traceback": [
      "\u001b[1;31m---------------------------------------------------------------------------\u001b[0m",
      "\u001b[1;31mValueError\u001b[0m                                Traceback (most recent call last)",
      "Cell \u001b[1;32mIn[33], line 32\u001b[0m\n\u001b[0;32m     29\u001b[0m     \u001b[38;5;28;01mreturn\u001b[39;00m mae, rmse, r2, mape, actuals, predictions\n\u001b[0;32m     31\u001b[0m \u001b[38;5;66;03m# Evaluate walk-forward validation using only lagged features\u001b[39;00m\n\u001b[1;32m---> 32\u001b[0m mae, rmse, r2, mape \u001b[38;5;241m=\u001b[39m walk_forward_validation(df_lagged, lagged_features, \u001b[38;5;124m'\u001b[39m\u001b[38;5;124mTotaal_verkochte_wegvoertuigen\u001b[39m\u001b[38;5;124m'\u001b[39m)\n\u001b[0;32m     34\u001b[0m \u001b[38;5;28mprint\u001b[39m(\u001b[38;5;124mf\u001b[39m\u001b[38;5;124m\"\u001b[39m\u001b[38;5;124mLinear Regression Walk-Forward (Lagged Features Only):\u001b[39m\u001b[38;5;124m\"\u001b[39m)\n\u001b[0;32m     35\u001b[0m \u001b[38;5;28mprint\u001b[39m(\u001b[38;5;124mf\u001b[39m\u001b[38;5;124m\"\u001b[39m\u001b[38;5;124mMAPE: \u001b[39m\u001b[38;5;132;01m{\u001b[39;00mmape\u001b[38;5;132;01m:\u001b[39;00m\u001b[38;5;124m.2f\u001b[39m\u001b[38;5;132;01m}\u001b[39;00m\u001b[38;5;124m%\u001b[39m\u001b[38;5;124m\"\u001b[39m)\n",
      "\u001b[1;31mValueError\u001b[0m: too many values to unpack (expected 4)"
     ]
    }
   ],
   "source": [
    "\n",
    "\n",
    "# Only use lagged features for linear regression\n",
    "lagged_features = ['TVV_Lag1', 'TVV_Lag2', 'TVV_Lag3', 'TVV_Lag4', 'TVV_Lag5', 'TVV_Lag6']\n",
    "\n",
    "def walk_forward_validation(df, features, target_col):\n",
    "    \"\"\"\n",
    "    Perform walk-forward validation using Linear Regression on the given dataframe.\n",
    "    Returns MAE, RMSE, R2, and MAPE.\n",
    "    \"\"\"\n",
    "    X = df[features].values\n",
    "    y = df[target_col].values\n",
    "    initial_train_size = int(len(df) * 0.8)\n",
    "    predictions = []\n",
    "    actuals = []\n",
    "    for i in range(initial_train_size, len(df)):\n",
    "        X_train, y_train = X[:i], y[:i]\n",
    "        X_test, y_test = X[i], y[i]\n",
    "        model = LinearRegression()\n",
    "        model.fit(X_train, y_train)\n",
    "        y_pred = model.predict(X_test.reshape(1, -1))[0]\n",
    "        predictions.append(y_pred)\n",
    "        actuals.append(y_test)\n",
    "    predictions = np.array(predictions)\n",
    "    actuals = np.array(actuals)\n",
    "    mae = mean_absolute_error(actuals, predictions)\n",
    "    mse = mean_squared_error(actuals, predictions)\n",
    "    rmse = np.sqrt(mse)\n",
    "    r2 = r2_score(actuals, predictions)\n",
    "    mape = np.mean(np.abs((actuals - predictions) / actuals)) * 100\n",
    "    return mae, rmse, r2, mape, actuals, predictions\n",
    "\n",
    "# Evaluate walk-forward validation using only lagged features\n",
    "mae, rmse, r2, mape = walk_forward_validation(df_lagged, lagged_features, 'Totaal_verkochte_wegvoertuigen')\n",
    "\n",
    "print(f\"Linear Regression Walk-Forward (Lagged Features Only):\")\n",
    "print(f\"MAPE: {mape:.2f}%\")\n",
    "\n",
    "print(f\"MAE: {mae:.2f}\")\n",
    "print(f\"RMSE: {rmse:.2f}\")\n",
    "print(f\"R²: {r2:.4f}\")\n",
    "\n",
    "# Plot actual vs predicted values for the walk-forward validation (Lagged Features Only)\n",
    "plt.figure(figsize=(12, 6))\n",
    "plt.plot(actuals, label='Actual', marker='o')\n",
    "plt.plot(predictions, label='Predicted (Linear Regression)', marker='x')\n",
    "plt.title('Actual vs Predicted (Walk-Forward Validation, Lagged Features Only)')\n",
    "plt.xlabel('Test Sample Index')\n",
    "plt.ylabel('Totaal_verkochte_wegvoertuigen')\n",
    "plt.legend()\n",
    "plt.tight_layout()\n",
    "plt.show()\n"
   ]
  },
  {
   "cell_type": "markdown",
   "id": "6a3ac69f",
   "metadata": {},
   "source": [
    "#### Lag only"
   ]
  },
  {
   "cell_type": "code",
   "execution_count": 31,
   "id": "61c0db22",
   "metadata": {},
   "outputs": [
    {
     "name": "stdout",
     "output_type": "stream",
     "text": [
      "Linear Regression Walk-Forward (All Features):\n",
      "MAPE: 15.48%\n",
      "MAE: 3386.96\n",
      "RMSE: 4441.61\n",
      "R²: 0.4925\n"
     ]
    },
    {
     "data": {
      "image/png": "[encoded data removed]",
      "text/plain": [
       "<Figure size 1200x600 with 1 Axes>"
      ]
     },
     "metadata": {},
     "output_type": "display_data"
    }
   ],
   "source": [
    "from sklearn.linear_model import LinearRegression\n",
    "\n",
    "def walk_forward_validation(df, features, target_col):\n",
    "    \"\"\"\n",
    "    Perform walk-forward validation using Linear Regression on the given dataframe.\n",
    "    Returns MAE, RMSE, R2, and MAPE.\n",
    "    \"\"\"\n",
    "    X = df[features].values\n",
    "    y = df[target_col].values\n",
    "    initial_train_size = int(len(df) * 0.8)\n",
    "    predictions = []\n",
    "    actuals = []\n",
    "    for i in range(initial_train_size, len(df)):\n",
    "        X_train, y_train = X[:i], y[:i]\n",
    "        X_test, y_test = X[i], y[i]\n",
    "        model = LinearRegression()\n",
    "        model.fit(X_train, y_train)\n",
    "        y_pred = model.predict(X_test.reshape(1, -1))[0]\n",
    "        predictions.append(y_pred)\n",
    "        actuals.append(y_test)\n",
    "    predictions = np.array(predictions)\n",
    "    actuals = np.array(actuals)\n",
    "    mae = mean_absolute_error(actuals, predictions)\n",
    "    mse = mean_squared_error(actuals, predictions)\n",
    "    rmse = np.sqrt(mse)\n",
    "    r2 = r2_score(actuals, predictions)\n",
    "    mape = np.mean(np.abs((actuals - predictions) / actuals)) * 100\n",
    "    return mae, rmse, r2, mape\n",
    "\n",
    "# Evaluate walk-forward validation using all features (feature_cols)\n",
    "mae, rmse, r2, mape = walk_forward_validation(df_lagged, feature_cols, 'Totaal_verkochte_wegvoertuigen')\n",
    "\n",
    "print(f\"Linear Regression Walk-Forward (All Features):\")\n",
    "print(f\"MAPE: {mape:.2f}%\")\n",
    "print(f\"MAE: {mae:.2f}\")\n",
    "print(f\"RMSE: {rmse:.2f}\")\n",
    "print(f\"R²: {r2:.4f}\")\n",
    "\n",
    "# Plot actual vs predicted values for the walk-forward validation (All Features)\n",
    "plt.figure(figsize=(12, 6))\n",
    "plt.plot(actuals, label='Actual', marker='o')\n",
    "plt.plot(predictions, label='Predicted (Linear Regression)', marker='x')\n",
    "plt.title('Actual vs Predicted (Walk-Forward Validation, All Features)')\n",
    "plt.xlabel('Test Sample Index')\n",
    "plt.ylabel('Totaal_verkochte_wegvoertuigen')\n",
    "plt.legend()\n",
    "plt.tight_layout()\n",
    "plt.show()\n",
    "\n"
   ]
  }
 ],
 "metadata": {
  "kernelspec": {
   "display_name": "base",
   "language": "python",
   "name": "python3"
  },
  "language_info": {
   "codemirror_mode": {
    "name": "ipython",
    "version": 3
   },
   "file_extension": ".py",
   "mimetype": "text/x-python",
   "name": "python",
   "nbconvert_exporter": "python",
   "pygments_lexer": "ipython3",
   "version": "3.12.4"
  }
 },
 "nbformat": 4,
 "nbformat_minor": 5
}
