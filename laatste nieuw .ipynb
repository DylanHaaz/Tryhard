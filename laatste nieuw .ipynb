{
 "cells": [
  {
   "cell_type": "code",
   "execution_count": 1,
   "id": "78cc4443",
   "metadata": {},
   "outputs": [],
   "source": [
    "import numpy as np\n",
    "import pandas as pd\n",
    "import matplotlib.pyplot as plt\n",
    "import matplotlib.colors as mcolors\n",
    "from sklearn.model_selection import TimeSeriesSplit\n",
    "from sklearn.preprocessing import MinMaxScaler\n",
    "from sklearn.metrics import mean_squared_error, mean_absolute_error, r2_score\n",
    "from statsmodels.tsa.arima.model import ARIMA\n",
    "from statsmodels.tsa.statespace.sarimax import SARIMAX\n",
    "from tensorflow.keras.models import Sequential\n",
    "from tensorflow.keras.layers import LSTM, Dense\n",
    "import xgboost as xgb\n",
    "import itertools\n",
    "import warnings\n",
    "from matplotlib.lines import Line2D\n",
    "from sklearn.linear_model import LinearRegression\n",
    "from sklearn.linear_model import ElasticNet"
   ]
  },
  {
   "cell_type": "code",
   "execution_count": 2,
   "id": "04bef024",
   "metadata": {},
   "outputs": [
    {
     "data": {
      "application/vnd.microsoft.datawrangler.viewer.v0+json": {
       "columns": [
        {
         "name": "index",
         "rawType": "int64",
         "type": "integer"
        },
        {
         "name": "Periode",
         "rawType": "object",
         "type": "string"
        },
        {
         "name": "thuis opladen",
         "rawType": "int64",
         "type": "integer"
        },
        {
         "name": "elektrische auto",
         "rawType": "int64",
         "type": "integer"
        },
        {
         "name": "hybride elektrisch",
         "rawType": "int64",
         "type": "integer"
        },
        {
         "name": "Bijtelling (%)",
         "rawType": "int64",
         "type": "integer"
        },
        {
         "name": "Consumentenvertrouwen",
         "rawType": "float64",
         "type": "float"
        },
        {
         "name": "Economisch klimaat",
         "rawType": "float64",
         "type": "float"
        },
        {
         "name": "Koopbereidheid",
         "rawType": "float64",
         "type": "float"
        },
        {
         "name": "Grote aankopen",
         "rawType": "float64",
         "type": "float"
        },
        {
         "name": "BenzineEuro95_1_first",
         "rawType": "float64",
         "type": "float"
        },
        {
         "name": "BenzineEuro95_1_last",
         "rawType": "float64",
         "type": "float"
        },
        {
         "name": "BenzineEuro95_1_min",
         "rawType": "float64",
         "type": "float"
        },
        {
         "name": "BenzineEuro95_1_max",
         "rawType": "float64",
         "type": "float"
        },
        {
         "name": "BenzineEuro95_1_mean",
         "rawType": "float64",
         "type": "float"
        },
        {
         "name": "Diesel_2_first",
         "rawType": "float64",
         "type": "float"
        },
        {
         "name": "Diesel_2_last",
         "rawType": "float64",
         "type": "float"
        },
        {
         "name": "Diesel_2_min",
         "rawType": "float64",
         "type": "float"
        },
        {
         "name": "Diesel_2_max",
         "rawType": "float64",
         "type": "float"
        },
        {
         "name": "Diesel_2_mean",
         "rawType": "float64",
         "type": "float"
        },
        {
         "name": "TVV_Lag1",
         "rawType": "float64",
         "type": "float"
        },
        {
         "name": "TVV_Lag2",
         "rawType": "float64",
         "type": "float"
        },
        {
         "name": "TVV_Lag3",
         "rawType": "float64",
         "type": "float"
        },
        {
         "name": "TVV_Lag4",
         "rawType": "float64",
         "type": "float"
        },
        {
         "name": "TVV_Lag5",
         "rawType": "float64",
         "type": "float"
        },
        {
         "name": "TVV_Lag6",
         "rawType": "float64",
         "type": "float"
        },
        {
         "name": "year",
         "rawType": "int64",
         "type": "integer"
        },
        {
         "name": "month",
         "rawType": "int64",
         "type": "integer"
        },
        {
         "name": "quarter",
         "rawType": "int64",
         "type": "integer"
        },
        {
         "name": "Totaal_verkochte_wegvoertuigen",
         "rawType": "int64",
         "type": "integer"
        }
       ],
       "ref": "ee0dd445-ea56-4a35-987e-3a3dcf19f474",
       "rows": [
        [
         "0",
         "2007-07-01",
         "0",
         "1",
         "0",
         "22",
         "14.0",
         "22.0",
         "9.0",
         "6.2",
         "1.451",
         "1.414",
         "1.414",
         "1.469",
         "1.4439032258064517",
         "1.057",
         "1.064",
         "1.057",
         "1.069",
         "1.063483870967742",
         "112.0",
         "84.0",
         "62.0",
         "123.0",
         "39.0",
         "31.0",
         "2007",
         "7",
         "3",
         "124"
        ],
        [
         "1",
         "2007-08-01",
         "0",
         "1",
         "0",
         "22",
         "12.0",
         "17.0",
         "9.0",
         "5.6",
         "1.415",
         "1.421",
         "1.399",
         "1.421",
         "1.4081612903225806",
         "1.066",
         "1.055",
         "1.045",
         "1.068",
         "1.0523870967741935",
         "124.0",
         "112.0",
         "84.0",
         "62.0",
         "123.0",
         "39.0",
         "2007",
         "8",
         "3",
         "96"
        ],
        [
         "2",
         "2007-09-01",
         "0",
         "1",
         "0",
         "22",
         "10.0",
         "12.0",
         "9.0",
         "5.0",
         "1.422",
         "1.413",
         "1.412",
         "1.434",
         "1.4240333333333333",
         "1.056",
         "1.09",
         "1.056",
         "1.094",
         "1.0811333333333333",
         "96.0",
         "124.0",
         "112.0",
         "84.0",
         "62.0",
         "123.0",
         "2007",
         "9",
         "3",
         "120"
        ]
       ],
       "shape": {
        "columns": 29,
        "rows": 3
       }
      },
      "text/html": [
       "<div>\n",
       "<style scoped>\n",
       "    .dataframe tbody tr th:only-of-type {\n",
       "        vertical-align: middle;\n",
       "    }\n",
       "\n",
       "    .dataframe tbody tr th {\n",
       "        vertical-align: top;\n",
       "    }\n",
       "\n",
       "    .dataframe thead th {\n",
       "        text-align: right;\n",
       "    }\n",
       "</style>\n",
       "<table border=\"1\" class=\"dataframe\">\n",
       "  <thead>\n",
       "    <tr style=\"text-align: right;\">\n",
       "      <th></th>\n",
       "      <th>Periode</th>\n",
       "      <th>thuis opladen</th>\n",
       "      <th>elektrische auto</th>\n",
       "      <th>hybride elektrisch</th>\n",
       "      <th>Bijtelling (%)</th>\n",
       "      <th>Consumentenvertrouwen</th>\n",
       "      <th>Economisch klimaat</th>\n",
       "      <th>Koopbereidheid</th>\n",
       "      <th>Grote aankopen</th>\n",
       "      <th>BenzineEuro95_1_first</th>\n",
       "      <th>...</th>\n",
       "      <th>TVV_Lag1</th>\n",
       "      <th>TVV_Lag2</th>\n",
       "      <th>TVV_Lag3</th>\n",
       "      <th>TVV_Lag4</th>\n",
       "      <th>TVV_Lag5</th>\n",
       "      <th>TVV_Lag6</th>\n",
       "      <th>year</th>\n",
       "      <th>month</th>\n",
       "      <th>quarter</th>\n",
       "      <th>Totaal_verkochte_wegvoertuigen</th>\n",
       "    </tr>\n",
       "  </thead>\n",
       "  <tbody>\n",
       "    <tr>\n",
       "      <th>0</th>\n",
       "      <td>2007-07-01</td>\n",
       "      <td>0</td>\n",
       "      <td>1</td>\n",
       "      <td>0</td>\n",
       "      <td>22</td>\n",
       "      <td>14.0</td>\n",
       "      <td>22.0</td>\n",
       "      <td>9.0</td>\n",
       "      <td>6.2</td>\n",
       "      <td>1.451</td>\n",
       "      <td>...</td>\n",
       "      <td>112.0</td>\n",
       "      <td>84.0</td>\n",
       "      <td>62.0</td>\n",
       "      <td>123.0</td>\n",
       "      <td>39.0</td>\n",
       "      <td>31.0</td>\n",
       "      <td>2007</td>\n",
       "      <td>7</td>\n",
       "      <td>3</td>\n",
       "      <td>124</td>\n",
       "    </tr>\n",
       "    <tr>\n",
       "      <th>1</th>\n",
       "      <td>2007-08-01</td>\n",
       "      <td>0</td>\n",
       "      <td>1</td>\n",
       "      <td>0</td>\n",
       "      <td>22</td>\n",
       "      <td>12.0</td>\n",
       "      <td>17.0</td>\n",
       "      <td>9.0</td>\n",
       "      <td>5.6</td>\n",
       "      <td>1.415</td>\n",
       "      <td>...</td>\n",
       "      <td>124.0</td>\n",
       "      <td>112.0</td>\n",
       "      <td>84.0</td>\n",
       "      <td>62.0</td>\n",
       "      <td>123.0</td>\n",
       "      <td>39.0</td>\n",
       "      <td>2007</td>\n",
       "      <td>8</td>\n",
       "      <td>3</td>\n",
       "      <td>96</td>\n",
       "    </tr>\n",
       "    <tr>\n",
       "      <th>2</th>\n",
       "      <td>2007-09-01</td>\n",
       "      <td>0</td>\n",
       "      <td>1</td>\n",
       "      <td>0</td>\n",
       "      <td>22</td>\n",
       "      <td>10.0</td>\n",
       "      <td>12.0</td>\n",
       "      <td>9.0</td>\n",
       "      <td>5.0</td>\n",
       "      <td>1.422</td>\n",
       "      <td>...</td>\n",
       "      <td>96.0</td>\n",
       "      <td>124.0</td>\n",
       "      <td>112.0</td>\n",
       "      <td>84.0</td>\n",
       "      <td>62.0</td>\n",
       "      <td>123.0</td>\n",
       "      <td>2007</td>\n",
       "      <td>9</td>\n",
       "      <td>3</td>\n",
       "      <td>120</td>\n",
       "    </tr>\n",
       "  </tbody>\n",
       "</table>\n",
       "<p>3 rows × 29 columns</p>\n",
       "</div>"
      ],
      "text/plain": [
       "      Periode  thuis opladen  elektrische auto  hybride elektrisch  \\\n",
       "0  2007-07-01              0                 1                   0   \n",
       "1  2007-08-01              0                 1                   0   \n",
       "2  2007-09-01              0                 1                   0   \n",
       "\n",
       "   Bijtelling (%)  Consumentenvertrouwen  Economisch klimaat  Koopbereidheid  \\\n",
       "0              22                   14.0                22.0             9.0   \n",
       "1              22                   12.0                17.0             9.0   \n",
       "2              22                   10.0                12.0             9.0   \n",
       "\n",
       "   Grote aankopen  BenzineEuro95_1_first  ...  TVV_Lag1  TVV_Lag2  TVV_Lag3  \\\n",
       "0             6.2                  1.451  ...     112.0      84.0      62.0   \n",
       "1             5.6                  1.415  ...     124.0     112.0      84.0   \n",
       "2             5.0                  1.422  ...      96.0     124.0     112.0   \n",
       "\n",
       "   TVV_Lag4  TVV_Lag5  TVV_Lag6  year  month  quarter  \\\n",
       "0     123.0      39.0      31.0  2007      7        3   \n",
       "1      62.0     123.0      39.0  2007      8        3   \n",
       "2      84.0      62.0     123.0  2007      9        3   \n",
       "\n",
       "   Totaal_verkochte_wegvoertuigen  \n",
       "0                             124  \n",
       "1                              96  \n",
       "2                             120  \n",
       "\n",
       "[3 rows x 29 columns]"
      ]
     },
     "metadata": {},
     "output_type": "display_data"
    }
   ],
   "source": [
    "\n",
    "df_lagged = pd.read_csv(r\"C:\\Users\\dylan\\OneDrive - HvA\\AAI Master\\BLOK 3 afstuderen\\Thesis\\Eigenwerk\\DATASET\\df_lagged.csv\")\n",
    "display(df_lagged.head(3))"
   ]
  },
  {
   "cell_type": "code",
   "execution_count": 16,
   "id": "6575beb7",
   "metadata": {},
   "outputs": [],
   "source": [
    "# Define lag and time features to add to all subsets\n",
    "lag_time_features = ['TVV_Lag1', 'TVV_Lag2', 'TVV_Lag3', 'TVV_Lag4', 'TVV_Lag5', 'TVV_Lag6', 'year', 'month', 'quarter']\n",
    "\n",
    "# Redefine feature sets with those always included\n",
    "feature_sets = {\n",
    "    ' (Lag Only)': lag_time_features,\n",
    "    'Keywords + Lag': lag_time_features + ['thuis opladen', 'elektrische auto', 'hybride elektrisch'],\n",
    "    'Bijtelling + Lag': lag_time_features + ['Bijtelling (%)'],\n",
    "    'Confidence + Lag': lag_time_features + ['Consumentenvertrouwen', 'Economisch klimaat', 'Koopbereidheid', 'Grote aankopen'],\n",
    "    'Fuel + Lag': lag_time_features + [\n",
    "        'BenzineEuro95_1_first', 'BenzineEuro95_1_last', 'BenzineEuro95_1_min',\n",
    "        'BenzineEuro95_1_max', 'BenzineEuro95_1_mean',\n",
    "        'Diesel_2_first', 'Diesel_2_last', 'Diesel_2_min', 'Diesel_2_max', 'Diesel_2_mean'\n",
    "    ]\n",
    "}\n",
    "\n",
    "# Add full feature set: everything except target and 'Periode'\n",
    "all_features = [\n",
    "    'thuis opladen', 'elektrische auto', 'hybride elektrisch',\n",
    "    'Bijtelling (%)', 'Consumentenvertrouwen', 'Economisch klimaat',\n",
    "    'Koopbereidheid', 'Grote aankopen',\n",
    "    'BenzineEuro95_1_first', 'BenzineEuro95_1_last', 'BenzineEuro95_1_min',\n",
    "    'BenzineEuro95_1_max', 'BenzineEuro95_1_mean',\n",
    "    'Diesel_2_first', 'Diesel_2_last', 'Diesel_2_min', 'Diesel_2_max', 'Diesel_2_mean'\n",
    "] + lag_time_features\n",
    "\n",
    "feature_sets['All Features'] = all_features"
   ]
  },
  {
   "cell_type": "markdown",
   "id": "3ad0e686",
   "metadata": {},
   "source": [
    "## split"
   ]
  },
  {
   "cell_type": "code",
   "execution_count": 49,
   "id": "2e089657",
   "metadata": {},
   "outputs": [
    {
     "name": "stdout",
     "output_type": "stream",
     "text": [
      "Rolling Forecast Linear Regression (horizon=3):\n",
      "MAE:  2889.19\n",
      "RMSE: 3766.25\n",
      "R²:   0.5909\n",
      "MAPE: 13.05%\n"
     ]
    },
    {
     "data": {
      "image/png": "[encoded data removed]",
      "text/plain": [
       "<Figure size 1200x500 with 1 Axes>"
      ]
     },
     "metadata": {},
     "output_type": "display_data"
    }
   ],
   "source": [
    "from sklearn.linear_model import LinearRegression\n",
    "\n",
    "lr_result = rolling_forecast_with_val(\n",
    "    df=df_lagged,\n",
    "    features=baseline_features,\n",
    "    target_col='Totaal_verkochte_wegvoertuigen',\n",
    "    model_fn=lambda: LinearRegression(),\n",
    "    horizon=3\n",
    ")\n",
    "\n",
    "\n"
   ]
  },
  {
   "cell_type": "markdown",
   "id": "e5517c31",
   "metadata": {},
   "source": [
    "XGBoost baseline (zelfde lagged features)"
   ]
  },
  {
   "cell_type": "code",
   "execution_count": 50,
   "id": "3760cd96",
   "metadata": {},
   "outputs": [],
   "source": [
    "from xgboost import XGBRegressor\n",
    "\n",
    "xgb_result = rolling_forecast_with_val(\n",
    "    df=df_lagged,\n",
    "    features=baseline_features,\n",
    "    target_col='Totaal_verkochte_wegvoertuigen',\n",
    "    model_fn=lambda: XGBRegressor(\n",
    "        objective='reg:squarederror',\n",
    "        n_estimators=100,\n",
    "        learning_rate=0.1,\n",
    "        max_depth=3,\n",
    "        random_state=42,\n",
    "        verbosity=0\n",
    "    ),\n",
    "    horizon=3\n",
    ")\n"
   ]
  },
  {
   "cell_type": "markdown",
   "id": "e0e7d591",
   "metadata": {},
   "source": [
    "Arima baseline (met rolling forecast)"
   ]
  },
  {
   "cell_type": "code",
   "execution_count": 51,
   "id": "198bda2a",
   "metadata": {},
   "outputs": [],
   "source": [
    "import statsmodels.api as sm\n",
    "\n",
    "def walkforward_arima(df, target_col, horizon=3, train_fraction=0.8):\n",
    "    y = df[target_col].values\n",
    "    n = len(y)\n",
    "    train_size = int(n * train_fraction)\n",
    "\n",
    "    predictions = []\n",
    "    actuals = []\n",
    "    indices = []\n",
    "\n",
    "    for i in range(train_size, n - horizon + 1):\n",
    "        train_series = y[:i]\n",
    "        model = sm.tsa.ARIMA(train_series, order=(3, 1, 0))  # pas (p,d,q) aan indien nodig\n",
    "        model_fit = model.fit()\n",
    "        forecast = model_fit.forecast(steps=horizon)\n",
    "        \n",
    "        y_true = y[i:i + horizon]\n",
    "        predictions.extend(forecast)\n",
    "        actuals.extend(y_true)\n",
    "        indices.extend(range(i, i + horizon))\n",
    "\n",
    "    predictions = np.array(predictions)\n",
    "    actuals = np.array(actuals)\n",
    "\n",
    "    mae = mean_absolute_error(actuals, predictions)\n",
    "    rmse = np.sqrt(mean_squared_error(actuals, predictions))\n",
    "    r2 = r2_score(actuals, predictions)\n",
    "    mape = np.mean(np.abs((actuals - predictions) / actuals)) * 100\n",
    "\n",
    "    return {\n",
    "        'mae': mae,\n",
    "        'rmse': rmse,\n",
    "        'r2': r2,\n",
    "        'mape': mape,\n",
    "        'predictions': predictions,\n",
    "        'actuals': actuals,\n",
    "        'indices': indices\n",
    "    }\n"
   ]
  },
  {
   "cell_type": "code",
   "execution_count": 52,
   "id": "f17c3e19",
   "metadata": {},
   "outputs": [],
   "source": [
    "arima_result = walkforward_arima(\n",
    "    df=df_lagged,\n",
    "    target_col='Totaal_verkochte_wegvoertuigen',\n",
    "    horizon=3\n",
    ")\n"
   ]
  },
  {
   "cell_type": "code",
   "execution_count": 53,
   "id": "f29fe7bc",
   "metadata": {},
   "outputs": [
    {
     "name": "stdout",
     "output_type": "stream",
     "text": [
      "\n",
      "Linear Regression:\n",
      "MAE:  2889.19\n",
      "RMSE: 3766.25\n",
      "R²:   0.5909\n",
      "MAPE: 13.05%\n",
      "\n",
      "XGBoost:\n",
      "MAE:  7659.54\n",
      "RMSE: 8968.86\n",
      "R²:   -1.3202\n",
      "MAPE: 33.19%\n",
      "\n",
      "ARIMA:\n",
      "MAE:  2946.30\n",
      "RMSE: 4198.87\n",
      "R²:   0.4915\n",
      "MAPE: 12.82%\n"
     ]
    }
   ],
   "source": [
    "for name, result in {\n",
    "    'Linear Regression': lr_result,\n",
    "    'XGBoost': xgb_result,\n",
    "    'ARIMA': arima_result\n",
    "}.items():\n",
    "    print(f\"\\n{name}:\")\n",
    "    print(f\"MAE:  {result['mae']:.2f}\")\n",
    "    print(f\"RMSE: {result['rmse']:.2f}\")\n",
    "    print(f\"R²:   {result['r2']:.4f}\")\n",
    "    print(f\"MAPE: {result['mape']:.2f}%\")\n"
   ]
  },
  {
   "cell_type": "markdown",
   "id": "d4aa57fc",
   "metadata": {},
   "source": [
    "#### Full features"
   ]
  },
  {
   "cell_type": "code",
   "execution_count": 54,
   "id": "fd582e86",
   "metadata": {},
   "outputs": [],
   "source": [
    "full_features = feature_sets['All Features']\n"
   ]
  },
  {
   "cell_type": "markdown",
   "id": "461cbfd9",
   "metadata": {},
   "source": [
    "Linear Regression met alle features"
   ]
  },
  {
   "cell_type": "code",
   "execution_count": 55,
   "id": "83343a32",
   "metadata": {},
   "outputs": [],
   "source": [
    "lr_full = rolling_forecast_with_val(\n",
    "    df=df_lagged,\n",
    "    features=full_features,\n",
    "    target_col='Totaal_verkochte_wegvoertuigen',\n",
    "    model_fn=lambda: LinearRegression(),\n",
    "    horizon=3\n",
    ")\n"
   ]
  },
  {
   "cell_type": "markdown",
   "id": "4e8daab1",
   "metadata": {},
   "source": [
    " XGBoost met alle feature"
   ]
  },
  {
   "cell_type": "code",
   "execution_count": 56,
   "id": "0b8e1088",
   "metadata": {},
   "outputs": [],
   "source": [
    "xgb_full = rolling_forecast_with_val(\n",
    "    df=df_lagged,\n",
    "    features=full_features,\n",
    "    target_col='Totaal_verkochte_wegvoertuigen',\n",
    "    model_fn=lambda: XGBRegressor(\n",
    "        objective='reg:squarederror',\n",
    "        n_estimators=100,\n",
    "        learning_rate=0.1,\n",
    "        max_depth=3,\n",
    "        random_state=42,\n",
    "        verbosity=0\n",
    "    ),\n",
    "    horizon=3\n",
    ")\n"
   ]
  },
  {
   "cell_type": "markdown",
   "id": "7c957374",
   "metadata": {},
   "source": [
    "Arimax"
   ]
  },
  {
   "cell_type": "code",
   "execution_count": 57,
   "id": "c7ce55c9",
   "metadata": {},
   "outputs": [],
   "source": [
    "def walkforward_arimax(df, exog_features, target_col, horizon=3, train_fraction=0.8):\n",
    "    y = df[target_col].values\n",
    "    X = df[exog_features].values\n",
    "    n = len(df)\n",
    "    train_size = int(n * train_fraction)\n",
    "\n",
    "    predictions = []\n",
    "    actuals = []\n",
    "    indices = []\n",
    "\n",
    "    for i in range(train_size, n - horizon + 1):\n",
    "        y_train = y[:i]\n",
    "        X_train = X[:i]\n",
    "        X_forecast = X[i:i+horizon]\n",
    "\n",
    "        model = sm.tsa.SARIMAX(endog=y_train, exog=X_train, order=(3,1,0), enforce_stationarity=False, enforce_invertibility=False)\n",
    "        model_fit = model.fit(disp=False)\n",
    "        forecast = model_fit.forecast(steps=horizon, exog=X_forecast)\n",
    "\n",
    "        y_true = y[i:i+horizon]\n",
    "        predictions.extend(forecast)\n",
    "        actuals.extend(y_true)\n",
    "        indices.extend(range(i, i+horizon))\n",
    "\n",
    "    predictions = np.array(predictions)\n",
    "    actuals = np.array(actuals)\n",
    "\n",
    "    mae = mean_absolute_error(actuals, predictions)\n",
    "    rmse = np.sqrt(mean_squared_error(actuals, predictions))\n",
    "    r2 = r2_score(actuals, predictions)\n",
    "    mape = np.mean(np.abs((actuals - predictions) / actuals)) * 100\n",
    "\n",
    "    return {\n",
    "        'mae': mae,\n",
    "        'rmse': rmse,\n",
    "        'r2': r2,\n",
    "        'mape': mape,\n",
    "        'predictions': predictions,\n",
    "        'actuals': actuals,\n",
    "        'indices': indices\n",
    "    }\n"
   ]
  },
  {
   "cell_type": "code",
   "execution_count": 58,
   "id": "a6190b4b",
   "metadata": {},
   "outputs": [
    {
     "name": "stderr",
     "output_type": "stream",
     "text": [
      "c:\\Users\\dylan\\anaconda3\\Lib\\site-packages\\statsmodels\\base\\model.py:607: ConvergenceWarning: Maximum Likelihood optimization failed to converge. Check mle_retvals\n",
      "  warnings.warn(\"Maximum Likelihood optimization failed to \"\n",
      "c:\\Users\\dylan\\anaconda3\\Lib\\site-packages\\statsmodels\\base\\model.py:607: ConvergenceWarning: Maximum Likelihood optimization failed to converge. Check mle_retvals\n",
      "  warnings.warn(\"Maximum Likelihood optimization failed to \"\n",
      "c:\\Users\\dylan\\anaconda3\\Lib\\site-packages\\statsmodels\\base\\model.py:607: ConvergenceWarning: Maximum Likelihood optimization failed to converge. Check mle_retvals\n",
      "  warnings.warn(\"Maximum Likelihood optimization failed to \"\n",
      "c:\\Users\\dylan\\anaconda3\\Lib\\site-packages\\statsmodels\\base\\model.py:607: ConvergenceWarning: Maximum Likelihood optimization failed to converge. Check mle_retvals\n",
      "  warnings.warn(\"Maximum Likelihood optimization failed to \"\n",
      "c:\\Users\\dylan\\anaconda3\\Lib\\site-packages\\statsmodels\\base\\model.py:607: ConvergenceWarning: Maximum Likelihood optimization failed to converge. Check mle_retvals\n",
      "  warnings.warn(\"Maximum Likelihood optimization failed to \"\n",
      "c:\\Users\\dylan\\anaconda3\\Lib\\site-packages\\statsmodels\\base\\model.py:607: ConvergenceWarning: Maximum Likelihood optimization failed to converge. Check mle_retvals\n",
      "  warnings.warn(\"Maximum Likelihood optimization failed to \"\n",
      "c:\\Users\\dylan\\anaconda3\\Lib\\site-packages\\statsmodels\\base\\model.py:607: ConvergenceWarning: Maximum Likelihood optimization failed to converge. Check mle_retvals\n",
      "  warnings.warn(\"Maximum Likelihood optimization failed to \"\n",
      "c:\\Users\\dylan\\anaconda3\\Lib\\site-packages\\statsmodels\\base\\model.py:607: ConvergenceWarning: Maximum Likelihood optimization failed to converge. Check mle_retvals\n",
      "  warnings.warn(\"Maximum Likelihood optimization failed to \"\n",
      "c:\\Users\\dylan\\anaconda3\\Lib\\site-packages\\statsmodels\\base\\model.py:607: ConvergenceWarning: Maximum Likelihood optimization failed to converge. Check mle_retvals\n",
      "  warnings.warn(\"Maximum Likelihood optimization failed to \"\n",
      "c:\\Users\\dylan\\anaconda3\\Lib\\site-packages\\statsmodels\\base\\model.py:607: ConvergenceWarning: Maximum Likelihood optimization failed to converge. Check mle_retvals\n",
      "  warnings.warn(\"Maximum Likelihood optimization failed to \"\n",
      "c:\\Users\\dylan\\anaconda3\\Lib\\site-packages\\statsmodels\\base\\model.py:607: ConvergenceWarning: Maximum Likelihood optimization failed to converge. Check mle_retvals\n",
      "  warnings.warn(\"Maximum Likelihood optimization failed to \"\n",
      "c:\\Users\\dylan\\anaconda3\\Lib\\site-packages\\statsmodels\\base\\model.py:607: ConvergenceWarning: Maximum Likelihood optimization failed to converge. Check mle_retvals\n",
      "  warnings.warn(\"Maximum Likelihood optimization failed to \"\n",
      "c:\\Users\\dylan\\anaconda3\\Lib\\site-packages\\statsmodels\\base\\model.py:607: ConvergenceWarning: Maximum Likelihood optimization failed to converge. Check mle_retvals\n",
      "  warnings.warn(\"Maximum Likelihood optimization failed to \"\n",
      "c:\\Users\\dylan\\anaconda3\\Lib\\site-packages\\statsmodels\\base\\model.py:607: ConvergenceWarning: Maximum Likelihood optimization failed to converge. Check mle_retvals\n",
      "  warnings.warn(\"Maximum Likelihood optimization failed to \"\n"
     ]
    }
   ],
   "source": [
    "arimax_full = walkforward_arimax(\n",
    "    df=df_lagged,\n",
    "    exog_features=full_features,\n",
    "    target_col='Totaal_verkochte_wegvoertuigen',\n",
    "    horizon=3\n",
    ")\n"
   ]
  },
  {
   "cell_type": "code",
   "execution_count": 59,
   "id": "e5a2d7a4",
   "metadata": {},
   "outputs": [
    {
     "name": "stdout",
     "output_type": "stream",
     "text": [
      "\n",
      "Linear Regression (All):\n",
      "MAE:  5818.11\n",
      "RMSE: 6977.35\n",
      "R²:   -0.4042\n",
      "MAPE: 25.78%\n",
      "\n",
      "XGBoost (All):\n",
      "MAE:  7644.33\n",
      "RMSE: 8911.97\n",
      "R²:   -1.2909\n",
      "MAPE: 33.22%\n",
      "\n",
      "ARIMAX (All):\n",
      "MAE:  3522.40\n",
      "RMSE: 5195.38\n",
      "R²:   0.2214\n",
      "MAPE: 15.72%\n"
     ]
    }
   ],
   "source": [
    "for name, result in {\n",
    "    'Linear Regression (All)': lr_full,\n",
    "    'XGBoost (All)': xgb_full,\n",
    "    'ARIMAX (All)': arimax_full\n",
    "}.items():\n",
    "    print(f\"\\n{name}:\")\n",
    "    print(f\"MAE:  {result['mae']:.2f}\")\n",
    "    print(f\"RMSE: {result['rmse']:.2f}\")\n",
    "    print(f\"R²:   {result['r2']:.4f}\")\n",
    "    print(f\"MAPE: {result['mape']:.2f}%\")\n"
   ]
  },
  {
   "cell_type": "code",
   "execution_count": null,
   "id": "65b4f334",
   "metadata": {},
   "outputs": [],
   "source": []
  }
 ],
 "metadata": {
  "kernelspec": {
   "display_name": "base",
   "language": "python",
   "name": "python3"
  },
  "language_info": {
   "codemirror_mode": {
    "name": "ipython",
    "version": 3
   },
   "file_extension": ".py",
   "mimetype": "text/x-python",
   "name": "python",
   "nbconvert_exporter": "python",
   "pygments_lexer": "ipython3",
   "version": "3.12.4"
  }
 },
 "nbformat": 4,
 "nbformat_minor": 5
}
