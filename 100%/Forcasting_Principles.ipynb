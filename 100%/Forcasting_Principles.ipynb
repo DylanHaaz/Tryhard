{
 "cells": [
  {
   "cell_type": "code",
   "execution_count": 1,
   "id": "28baf2a4",
   "metadata": {},
   "outputs": [
    {
     "name": "stdout",
     "output_type": "stream",
     "text": [
      "Requirement already satisfied: pdfkit in c:\\users\\dylan\\anaconda3\\lib\\site-packages (1.0.0)\n"
     ]
    }
   ],
   "source": [
    "!pip install pdfkit\n"
   ]
  },
  {
   "cell_type": "code",
   "execution_count": 3,
   "id": "ba1f0ee7",
   "metadata": {},
   "outputs": [
    {
     "name": "stdout",
     "output_type": "stream",
     "text": [
      "Saving https://otexts.com/fpppy/nbs/01-intro.html → chapters/01-01-intro.pdf\n",
      "Saving https://otexts.com/fpppy/nbs/02-graphics.html → chapters/02-02-graphics.pdf\n",
      "Saving https://otexts.com/fpppy/nbs/03-decomposition.html → chapters/03-03-decomposition.pdf\n",
      "Saving https://otexts.com/fpppy/nbs/04-features.html → chapters/04-04-features.pdf\n",
      "Saving https://otexts.com/fpppy/nbs/05-toolbox.html → chapters/05-05-toolbox.pdf\n",
      "Saving https://otexts.com/fpppy/nbs/06-judgmental.html → chapters/06-06-judgmental.pdf\n",
      "Saving https://otexts.com/fpppy/nbs/07-regression.html → chapters/07-07-regression.pdf\n",
      "Saving https://otexts.com/fpppy/nbs/08-exponential-smoothing.html → chapters/08-08-exponential-smoothing.pdf\n",
      "Saving https://otexts.com/fpppy/nbs/09-arima.html → chapters/09-09-arima.pdf\n",
      "Saving https://otexts.com/fpppy/nbs/10-dynamic-regression.html → chapters/10-10-dynamic-regression.pdf\n",
      "Saving https://otexts.com/fpppy/nbs/11-hierarchical-forecasting.html → chapters/11-11-hierarchical-forecasting.pdf\n",
      "Saving https://otexts.com/fpppy/nbs/12-advanced.html → chapters/12-12-advanced.pdf\n",
      "Saving https://otexts.com/fpppy/nbs/13-practical.html → chapters/13-13-practical.pdf\n",
      "Saving https://otexts.com/fpppy/nbs/14-neural-networks.html → chapters/14-14-neural-networks.pdf\n",
      "Saving https://otexts.com/fpppy/nbs/15-foundation-models.html → chapters/15-15-foundation-models.pdf\n",
      "Saving https://otexts.com/fpppy/UsingPython.html → chapters/16-appendix-using-python.pdf\n",
      "Saving https://otexts.com/fpppy/references.html → chapters/17-references.pdf\n",
      "✅ All chapters saved as individual PDFs in the 'chapters' folder.\n"
     ]
    }
   ],
   "source": [
    "import pdfkit\n",
    "import os\n",
    "\n",
    "# Path to wkhtmltopdf executable\n",
    "config = pdfkit.configuration(wkhtmltopdf=r\"C:\\Program Files\\wkhtmltopdf\\bin\\wkhtmltopdf.exe\")\n",
    "\n",
    "# Updated chapter URLs and names\n",
    "chapters = [\n",
    "    (\"01-intro\", \"https://otexts.com/fpppy/nbs/01-intro.html\"),\n",
    "    (\"02-graphics\", \"https://otexts.com/fpppy/nbs/02-graphics.html\"),\n",
    "    (\"03-decomposition\", \"https://otexts.com/fpppy/nbs/03-decomposition.html\"),\n",
    "    (\"04-features\", \"https://otexts.com/fpppy/nbs/04-features.html\"),\n",
    "    (\"05-toolbox\", \"https://otexts.com/fpppy/nbs/05-toolbox.html\"),\n",
    "    (\"06-judgmental\", \"https://otexts.com/fpppy/nbs/06-judgmental.html\"),\n",
    "    (\"07-regression\", \"https://otexts.com/fpppy/nbs/07-regression.html\"),\n",
    "    (\"08-exponential-smoothing\", \"https://otexts.com/fpppy/nbs/08-exponential-smoothing.html\"),\n",
    "    (\"09-arima\", \"https://otexts.com/fpppy/nbs/09-arima.html\"),\n",
    "    (\"10-dynamic-regression\", \"https://otexts.com/fpppy/nbs/10-dynamic-regression.html\"),\n",
    "    (\"11-hierarchical-forecasting\", \"https://otexts.com/fpppy/nbs/11-hierarchical-forecasting.html\"),\n",
    "    (\"12-advanced\", \"https://otexts.com/fpppy/nbs/12-advanced.html\"),\n",
    "    (\"13-practical\", \"https://otexts.com/fpppy/nbs/13-practical.html\"),\n",
    "    (\"14-neural-networks\", \"https://otexts.com/fpppy/nbs/14-neural-networks.html\"),\n",
    "    (\"15-foundation-models\", \"https://otexts.com/fpppy/nbs/15-foundation-models.html\"),\n",
    "    (\"appendix-using-python\", \"https://otexts.com/fpppy/UsingPython.html\"),\n",
    "    (\"references\", \"https://otexts.com/fpppy/references.html\")\n",
    "]\n",
    "\n",
    "# Output folder\n",
    "os.makedirs(\"chapters\", exist_ok=True)\n",
    "\n",
    "# Generate PDFs\n",
    "for i, (slug, url) in enumerate(chapters, start=1):\n",
    "    filename = f\"chapters/{i:02d}-{slug}.pdf\"\n",
    "    print(f\"Saving {url} → {filename}\")\n",
    "    pdfkit.from_url(url, filename, configuration=config)\n",
    "\n",
    "print(\"✅ All chapters saved as individual PDFs in the 'chapters' folder.\")\n",
    "\n"
   ]
  },
  {
   "cell_type": "code",
   "execution_count": 4,
   "id": "b51d53b1",
   "metadata": {},
   "outputs": [
    {
     "name": "stdout",
     "output_type": "stream",
     "text": [
      "Output map: c:\\Users\\dylan\\Trying hard\\Tryhard\\100%\\chapters\n"
     ]
    }
   ],
   "source": [
    "print(\"Output map:\", os.path.abspath(\"chapters\"))\n"
   ]
  }
 ],
 "metadata": {
  "kernelspec": {
   "display_name": "base",
   "language": "python",
   "name": "python3"
  },
  "language_info": {
   "codemirror_mode": {
    "name": "ipython",
    "version": 3
   },
   "file_extension": ".py",
   "mimetype": "text/x-python",
   "name": "python",
   "nbconvert_exporter": "python",
   "pygments_lexer": "ipython3",
   "version": "3.12.4"
  }
 },
 "nbformat": 4,
 "nbformat_minor": 5
}
