{
 "cells": [
  {
   "cell_type": "markdown",
   "id": "dad60c4f",
   "metadata": {},
   "source": [
    "# Jina Embeddings v3"
   ]
  },
  {
   "cell_type": "markdown",
   "id": "8a677f49",
   "metadata": {},
   "source": [
    "###  Stap 1: Data inladen en previewen"
   ]
  },
  {
   "cell_type": "code",
   "execution_count": 1,
   "id": "fde7f4c5",
   "metadata": {},
   "outputs": [
    {
     "name": "stdout",
     "output_type": "stream",
     "text": [
      "Index(['channel', 'url', 'type', 'title', 'keywords', 'section', 'description',\n",
      "       'published_time', 'modified_time', 'image', 'content'],\n",
      "      dtype='object')\n"
     ]
    },
    {
     "data": {
      "application/vnd.microsoft.datawrangler.viewer.v0+json": {
       "columns": [
        {
         "name": "index",
         "rawType": "int64",
         "type": "integer"
        },
        {
         "name": "channel",
         "rawType": "object",
         "type": "string"
        },
        {
         "name": "url",
         "rawType": "object",
         "type": "string"
        },
        {
         "name": "type",
         "rawType": "object",
         "type": "string"
        },
        {
         "name": "title",
         "rawType": "object",
         "type": "string"
        },
        {
         "name": "keywords",
         "rawType": "object",
         "type": "string"
        },
        {
         "name": "section",
         "rawType": "object",
         "type": "string"
        },
        {
         "name": "description",
         "rawType": "object",
         "type": "string"
        },
        {
         "name": "published_time",
         "rawType": "datetime64[ns]",
         "type": "datetime"
        },
        {
         "name": "modified_time",
         "rawType": "object",
         "type": "string"
        },
        {
         "name": "image",
         "rawType": "object",
         "type": "string"
        },
        {
         "name": "content",
         "rawType": "object",
         "type": "string"
        }
       ],
       "conversionMethod": "pd.DataFrame",
       "ref": "81d3237c-83f7-4761-8bab-6287b9047731",
       "rows": [
        [
         "0",
         "nos",
         "https://nos.nl/artikel/2011341-euro-nu-ook-in-litouwen",
         "article",
         "Euro nu ook in Litouwen",
         "eurozone",
         "Economie",
         "Vanaf vandaag betalen ze in Litouwen met de euro. Alle Baltische landen hebben nu de Europese munt.",
         "2015-01-01 00:32:52",
         "2015-01-01 00:32:52",
         "https://cdn.nos.nl/image/2015/01/01/48809/1200x675.jpg",
         "<h1>Euro nu ook in Litouwen</h1><p>In Litouwen wordt vanaf vandaag betaald met de euro in plaats van met de litas. Hiermee is Litouwen het 19e land dat toetreedt tot de eurozone en de laatste Baltische staat die zich bij de munteenheid voegt. Estland en Letland traden al eerder toe, in 2011 en 2014.</p><p>President Dalia Grybauskaite zei gisteren: \"We zijn trots dat we aan alle voorwaarden van het Verdrag van Maastricht voldoen; dat onze economie sterk genoeg is.\" Het land, dat zich de laatste jaren economisch sterk ontwikkelde, heeft geleden onder de krimp van de Russische economie. De hoop is dat de toetreding tot de euro de handel goed zal doen.</p><h2>Politiek gevoelig</h2><p>Daarnaast refereerde de president aan de politieke betekenis van de stap: \"Behalve financiële zekerheid biedt de toetreding ook politieke zekerheid. Met de euro kunnen we populisme vermijden. Het is het sluitstuk van de terugkeer naar onze Europese familie.\" </p><p>De Baltische staten liggen in een politiek gevoelige regio, grenzend aan Polen en Wit-Rusland. Ze zijn daarmee volop betrokken bij de spanningen rond Oekraïne.</p><h2>Onrust</h2><p>Maar in Litouwen heerst ook onrust over de toetreding. Veel mensen zijn bang dat de euro tot hogere prijzen zal leiden.</p><p>Litouwen is het grootste land van de drie Baltische staten, met een bevolking van 3,5 miljoen mensen. Sinds 2004 is het lid van de Europese Unie.</p><aside><h3>Eurozonelanden(per toetredingsjaar)</h3><h3>2002</h3><p>België Duitsland Frankrijk Finland Griekenland Ierland Italië Luxemburg Nederland Oostenrijk Portugal  Spanje</p><h3>2007</h3><p>Slovenië</p><h3>2008</h3><p>Cyprus Malta</p><h3>2009</h3><p>Slowakije</p><h3>2011</h3><p>Estland</p><h3>2014</h3><p>Letland</p><h3>2015</h3></aside>"
        ],
        [
         "1",
         "nos",
         "https://nos.nl/artikel/2011343-start-2015-vol-vreugde-maar-ook-met-gewonden-en-inzet-me",
         "article",
         "Start 2015 vol vreugde maar ook met gewonden en inzet ME",
         "oud en nieuw",
         "Binnenland",
         "Nederland is met oliebollen en vuurwerk het nieuwe jaar ingegaan, maar niet overal was de jaarwisseling een feest.",
         "2015-01-01 01:05:57",
         "2015-01-01 07:18:23",
         "https://cdn.nos.nl/image/2015/01/01/48853/1200x675.jpg",
         "<h1>Start 2015 vol vreugde maar ook met gewonden en inzet ME</h1><p>Nederland is met vuurwerk en oliebollen het nieuwe jaar ingegaan. Bij het Nationale Aftelmoment bij het Scheepvaartmuseum in Amsterdam waren tienduizenden mensen aanwezig. In Rotterdam keken 40.000 mensen naar het vuurwerk dat bij de Erasmusbrug werd afgestoken.</p><p>De ME is in Nijmegen twee keer in actie gekomen omdat omstanders bij vreugdevuren de brandweer bekogelden. In Utrecht trad de ME op tegen jongeren die agenten bekogelden in de wijk Hoograven.</p><p>De ME trad ook op in Culemborg, waar iemand is aangehouden. Ook daar werden de hulpdiensten gehinderd bij het blussen van een brand.</p><h2>Baby uit brandend huis </h2><p>In Tilburg hebben buurtbewoners een baby en twee volwassenen uit een brandend huis gehaald. De brand was ontstaan in de meterkast. De baby en vier andere mensen zijn voor controle naar het ziekenhuis gebracht.</p><p>In Veen is de jaarwisseling relatief rustig verlopen. Vorig jaar werden er 100 jongeren opgepakt, omdat er auto's in brand werden gestoken. Er was wederom veel politie op de been. Die kon niet voorkomen dat er weer een auto in lichterlaaie werd gezet.</p><p>In Enschede is een man neergestoken, waarschijnlijk door een buurman. De twee zouden ruzie hebben gekregen.</p><p>In Zutphen reed iemand in op brandweermensen. De automobilist zou het er niet mee eens zijn geweest dat een straat was afgesloten. Niemand raakte gewond.</p><h2>Gasbrand Sint-Oedenrode</h2><p>Een gasbrand in Sint-Oedenrode bezorgt de brandweer veel werk. De hoofdkraan wordt dichtgedraaid en dat betekent dat ongeveer 350 huishoudens zeker een deel van de ochtend zonder gas komen te zitten. De politie sluit niet uit dat er al sprake was van een gaslek en dat er door vuurwerk brand is ontstaan.</p><p>In Rotterdam en omgeving zijn tijdens de jaarwisseling verschillende gewonden gevallen bij het afsteken van vuurwerk. Zo raakte een jongen van dertien ernstig gewond aan zijn hand toen vuurwerk ontplofte dat hij net had opgeraapt.</p><p>In Nieuwkoop (Zuid-Holland) raakte een meisje van 4 gewond toen vuurwerk werd afgestoken. Ze is naar het ziekenhuis gebracht.</p><p>In Dirksland woedt brand in een loods van 1000 vierkante meter groot. Acht woningen werden ontruimd; de bewoners zijn opgevangen in een nabijgelegen café.</p>"
        ],
        [
         "2",
         "nos",
         "https://nos.nl/artikel/2011346-letland-nieuwe-voorzitter-van-de-europese-unie",
         "article",
         "Letland nieuwe voorzitter van de Europese Unie",
         "EU-voorzitter, Italië, EU, Letland",
         "Buitenland",
         "Vanaf vandaag neemt Letland het stokje over van Italië.",
         "2015-01-01 02:32:34",
         "2015-01-01 02:32:34",
         "https://cdn.nos.nl/image/2015/01/01/48818/1200x675.jpg",
         "<h1>Letland nieuwe voorzitter van de Europese Unie</h1><p>Letland is vanaf vandaag voorzitter van de Europese Unie. Tot 1 juli zal het land de vergaderingen van de Raad van de Europese Unie leiden.</p><p>Het afgelopen half jaar was Italië voorzitter. Vanaf 1 juli 2015 neemt Luxemburg het stokje over. Daarna, vanaf 1 januari 2016, is Nederland aan de beurt.</p><h2>\"Concurrerend Europa\"</h2><p>De voorzitter van de EU heeft een sturende rol bij het maken van wetten en politiek beleid. Riga moet zich vooral gaan ontfermen over het groeiplan van de voorzitter van de Europese Commissie, Jean-Claude Juncker. Letland zegt zich te willen inzetten voor een \"concurrerend, digitaal en toegewijd Europa\".</p><p>Letland trad op 1 januari 2014 toe tot de eurozone.</p>"
        ],
        [
         "3",
         "nos",
         "https://nos.nl/artikel/2011348-noord-korea-wil-praten-met-zuid-korea",
         "article",
         "Noord-Korea wil praten met Zuid-Korea",
         "kim jong un, Noord-Korea, Zuid-Korea",
         "Buitenland",
         "De Noord-Koreaanse leider Kim Jong-un zei in zijn nieuwjaarsboodschap dat hij geen reden ziet niet te praten met het buurland.",
         "2015-01-01 03:34:25",
         "2015-01-01 03:34:25",
         "https://cdn.nos.nl/image/2014/12/24/42888/1200x675.jpg",
         "<h1>Noord-Korea wil praten met Zuid-Korea</h1><p>De Noord-Koreaanse leider Kim Jong-un wil ingaan op de uitnodiging van buurland Zuid-Korea om om de tafel te gaan zitten. In zijn nieuwjaarstoespraak zei hij dat hij geen reden ziet om geen ontmoeting te houden.</p><p>\"Als de Zuid-Koreaanse autoriteiten oprecht de relatie tussen onze landen willen verbeteren door te gaan praten, dan kunnen we de vastgelopen gesprekken hervatten\", zei hij.</p><p>Zuid-Korea zei maandag dat het met Noord-Korea wil praten, bijvoorbeeld over de hereniging van families. Bij de scheiding van Noord- en Zuid-Korea zijn veel families elkaar kwijtgeraakt.</p>"
        ],
        [
         "4",
         "nos",
         "https://nos.nl/artikel/2011351-feest-in-londen-parijs-en-berlijn",
         "article",
         "Feest in Londen, Parijs en Berlijn",
         "jaarwisseling",
         "Buitenland",
         "In Londen en Berlijn waren muziekfestivals. Parijs vierde de jaarwisseling voor het eerst zonder vuurwerkshow.",
         "2015-01-01 04:34:20",
         "2015-01-01 04:34:20",
         "https://cdn.nos.nl/image/2015/01/01/48846/1200x675.jpg",
         "<h1>Feest in Londen, Parijs en Berlijn</h1><p>In Europa is de jaarwisseling uitbundig gevierd.</p><p>In Berlijn was traditiegetrouw een van de grootste openluchtfeesten ter wereld, met veel artiesten uit binnen- en buitenland. David Hasselhoff zong er, gekleed in een zwart jack en een t-shirt met een beeltenis van zichzelf, het nummer I've been looking for Freedom. Hij verwees daarmee naar het jubileum van de val van de Muur.</p><p>Parijs luidde het jaar in met een grote licht- en videoshow bij de Arc de Triomphe. Voor het eerst werd er geen vuurwerk afgestoken. Bij de Champs-Élysées proostten duizenden mensen op het nieuwe jaar. De boulevard was speciaal autovrij gemaakt.</p><p>In de binnenstad van Londen telden zo'n half miljoen mensen af met de Big Ben. Aan de oever van de Theems was een groot openluchtconcert met een vuurwerkshow. Voor de show moest een toegangskaart worden gekocht, om te voorkomen dat het te druk zou worden. Er kwamen ruim 100.000 mensen op af.</p><p>Tara MacGowran:</p><blockquote id=\"tweet\"><p>@TaraMacG</p><p>Great fireworks London. Nice work! #littletownthatcould #2015 #LondonNYE http://t.co/hdCSFKsPOK</p><p>1:32</p><p>1 januari 2015</p></blockquote>"
        ]
       ],
       "shape": {
        "columns": 11,
        "rows": 5
       }
      },
      "text/html": [
       "<div>\n",
       "<style scoped>\n",
       "    .dataframe tbody tr th:only-of-type {\n",
       "        vertical-align: middle;\n",
       "    }\n",
       "\n",
       "    .dataframe tbody tr th {\n",
       "        vertical-align: top;\n",
       "    }\n",
       "\n",
       "    .dataframe thead th {\n",
       "        text-align: right;\n",
       "    }\n",
       "</style>\n",
       "<table border=\"1\" class=\"dataframe\">\n",
       "  <thead>\n",
       "    <tr style=\"text-align: right;\">\n",
       "      <th></th>\n",
       "      <th>channel</th>\n",
       "      <th>url</th>\n",
       "      <th>type</th>\n",
       "      <th>title</th>\n",
       "      <th>keywords</th>\n",
       "      <th>section</th>\n",
       "      <th>description</th>\n",
       "      <th>published_time</th>\n",
       "      <th>modified_time</th>\n",
       "      <th>image</th>\n",
       "      <th>content</th>\n",
       "    </tr>\n",
       "  </thead>\n",
       "  <tbody>\n",
       "    <tr>\n",
       "      <th>0</th>\n",
       "      <td>nos</td>\n",
       "      <td>https://nos.nl/artikel/2011341-euro-nu-ook-in-...</td>\n",
       "      <td>article</td>\n",
       "      <td>Euro nu ook in Litouwen</td>\n",
       "      <td>eurozone</td>\n",
       "      <td>Economie</td>\n",
       "      <td>Vanaf vandaag betalen ze in Litouwen met de eu...</td>\n",
       "      <td>2015-01-01 00:32:52</td>\n",
       "      <td>2015-01-01 00:32:52</td>\n",
       "      <td>https://cdn.nos.nl/image/2015/01/01/48809/1200...</td>\n",
       "      <td>&lt;h1&gt;Euro nu ook in Litouwen&lt;/h1&gt;&lt;p&gt;In Litouwen...</td>\n",
       "    </tr>\n",
       "    <tr>\n",
       "      <th>1</th>\n",
       "      <td>nos</td>\n",
       "      <td>https://nos.nl/artikel/2011343-start-2015-vol-...</td>\n",
       "      <td>article</td>\n",
       "      <td>Start 2015 vol vreugde maar ook met gewonden e...</td>\n",
       "      <td>oud en nieuw</td>\n",
       "      <td>Binnenland</td>\n",
       "      <td>Nederland is met oliebollen en vuurwerk het ni...</td>\n",
       "      <td>2015-01-01 01:05:57</td>\n",
       "      <td>2015-01-01 07:18:23</td>\n",
       "      <td>https://cdn.nos.nl/image/2015/01/01/48853/1200...</td>\n",
       "      <td>&lt;h1&gt;Start 2015 vol vreugde maar ook met gewond...</td>\n",
       "    </tr>\n",
       "    <tr>\n",
       "      <th>2</th>\n",
       "      <td>nos</td>\n",
       "      <td>https://nos.nl/artikel/2011346-letland-nieuwe-...</td>\n",
       "      <td>article</td>\n",
       "      <td>Letland nieuwe voorzitter van de Europese Unie</td>\n",
       "      <td>EU-voorzitter, Italië, EU, Letland</td>\n",
       "      <td>Buitenland</td>\n",
       "      <td>Vanaf vandaag neemt Letland het stokje over va...</td>\n",
       "      <td>2015-01-01 02:32:34</td>\n",
       "      <td>2015-01-01 02:32:34</td>\n",
       "      <td>https://cdn.nos.nl/image/2015/01/01/48818/1200...</td>\n",
       "      <td>&lt;h1&gt;Letland nieuwe voorzitter van de Europese ...</td>\n",
       "    </tr>\n",
       "    <tr>\n",
       "      <th>3</th>\n",
       "      <td>nos</td>\n",
       "      <td>https://nos.nl/artikel/2011348-noord-korea-wil...</td>\n",
       "      <td>article</td>\n",
       "      <td>Noord-Korea wil praten met Zuid-Korea</td>\n",
       "      <td>kim jong un, Noord-Korea, Zuid-Korea</td>\n",
       "      <td>Buitenland</td>\n",
       "      <td>De Noord-Koreaanse leider Kim Jong-un zei in z...</td>\n",
       "      <td>2015-01-01 03:34:25</td>\n",
       "      <td>2015-01-01 03:34:25</td>\n",
       "      <td>https://cdn.nos.nl/image/2014/12/24/42888/1200...</td>\n",
       "      <td>&lt;h1&gt;Noord-Korea wil praten met Zuid-Korea&lt;/h1&gt;...</td>\n",
       "    </tr>\n",
       "    <tr>\n",
       "      <th>4</th>\n",
       "      <td>nos</td>\n",
       "      <td>https://nos.nl/artikel/2011351-feest-in-londen...</td>\n",
       "      <td>article</td>\n",
       "      <td>Feest in Londen, Parijs en Berlijn</td>\n",
       "      <td>jaarwisseling</td>\n",
       "      <td>Buitenland</td>\n",
       "      <td>In Londen en Berlijn waren muziekfestivals. Pa...</td>\n",
       "      <td>2015-01-01 04:34:20</td>\n",
       "      <td>2015-01-01 04:34:20</td>\n",
       "      <td>https://cdn.nos.nl/image/2015/01/01/48846/1200...</td>\n",
       "      <td>&lt;h1&gt;Feest in Londen, Parijs en Berlijn&lt;/h1&gt;&lt;p&gt;...</td>\n",
       "    </tr>\n",
       "  </tbody>\n",
       "</table>\n",
       "</div>"
      ],
      "text/plain": [
       "  channel                                                url     type  \\\n",
       "0     nos  https://nos.nl/artikel/2011341-euro-nu-ook-in-...  article   \n",
       "1     nos  https://nos.nl/artikel/2011343-start-2015-vol-...  article   \n",
       "2     nos  https://nos.nl/artikel/2011346-letland-nieuwe-...  article   \n",
       "3     nos  https://nos.nl/artikel/2011348-noord-korea-wil...  article   \n",
       "4     nos  https://nos.nl/artikel/2011351-feest-in-londen...  article   \n",
       "\n",
       "                                               title  \\\n",
       "0                            Euro nu ook in Litouwen   \n",
       "1  Start 2015 vol vreugde maar ook met gewonden e...   \n",
       "2     Letland nieuwe voorzitter van de Europese Unie   \n",
       "3              Noord-Korea wil praten met Zuid-Korea   \n",
       "4                 Feest in Londen, Parijs en Berlijn   \n",
       "\n",
       "                               keywords     section  \\\n",
       "0                              eurozone    Economie   \n",
       "1                          oud en nieuw  Binnenland   \n",
       "2    EU-voorzitter, Italië, EU, Letland  Buitenland   \n",
       "3  kim jong un, Noord-Korea, Zuid-Korea  Buitenland   \n",
       "4                         jaarwisseling  Buitenland   \n",
       "\n",
       "                                         description      published_time  \\\n",
       "0  Vanaf vandaag betalen ze in Litouwen met de eu... 2015-01-01 00:32:52   \n",
       "1  Nederland is met oliebollen en vuurwerk het ni... 2015-01-01 01:05:57   \n",
       "2  Vanaf vandaag neemt Letland het stokje over va... 2015-01-01 02:32:34   \n",
       "3  De Noord-Koreaanse leider Kim Jong-un zei in z... 2015-01-01 03:34:25   \n",
       "4  In Londen en Berlijn waren muziekfestivals. Pa... 2015-01-01 04:34:20   \n",
       "\n",
       "         modified_time                                              image  \\\n",
       "0  2015-01-01 00:32:52  https://cdn.nos.nl/image/2015/01/01/48809/1200...   \n",
       "1  2015-01-01 07:18:23  https://cdn.nos.nl/image/2015/01/01/48853/1200...   \n",
       "2  2015-01-01 02:32:34  https://cdn.nos.nl/image/2015/01/01/48818/1200...   \n",
       "3  2015-01-01 03:34:25  https://cdn.nos.nl/image/2014/12/24/42888/1200...   \n",
       "4  2015-01-01 04:34:20  https://cdn.nos.nl/image/2015/01/01/48846/1200...   \n",
       "\n",
       "                                             content  \n",
       "0  <h1>Euro nu ook in Litouwen</h1><p>In Litouwen...  \n",
       "1  <h1>Start 2015 vol vreugde maar ook met gewond...  \n",
       "2  <h1>Letland nieuwe voorzitter van de Europese ...  \n",
       "3  <h1>Noord-Korea wil praten met Zuid-Korea</h1>...  \n",
       "4  <h1>Feest in Londen, Parijs en Berlijn</h1><p>...  "
      ]
     },
     "execution_count": 1,
     "metadata": {},
     "output_type": "execute_result"
    }
   ],
   "source": [
    "import pandas as pd\n",
    "\n",
    "\n",
    "# NOS EV Artikel Clustering met Jina Embeddings v3\n",
    "\n",
    "\n",
    "\n",
    "## 📥 1. Data inladen\n",
    "\n",
    "\n",
    "import pandas as pd\n",
    "\n",
    "# Pad naar lokale dataset\n",
    "df = pd.read_feather(r\"C:\\\\Users\\\\dylan\\\\Thesis\\\\GIT\\\\Datasets\\\\NOS_NL_articles_2015_feb_2025.feather\")\n",
    "df.reset_index(drop=True, inplace=True)\n",
    "\n",
    "print(df.columns)\n",
    "df.head()\n"
   ]
  },
  {
   "cell_type": "code",
   "execution_count": 36,
   "id": "b51e94e2",
   "metadata": {},
   "outputs": [
    {
     "data": {
      "image/png": "[encoded data removed]",
      "text/plain": [
       "<Figure size 1000x500 with 1 Axes>"
      ]
     },
     "metadata": {},
     "output_type": "display_data"
    },
    {
     "name": "stdout",
     "output_type": "stream",
     "text": [
      "jaar\n",
      "2015    42667\n",
      "2016    41781\n",
      "2017    34818\n",
      "2018    30877\n",
      "2019    27034\n",
      "2020    23736\n",
      "2021    24064\n",
      "2022    21756\n",
      "2023    21155\n",
      "2024    21816\n",
      "2025     3622\n",
      "Name: count, dtype: int64\n",
      "\n",
      "Totaal aantal artikelen: 293,326\n"
     ]
    }
   ],
   "source": [
    "# Zet de publicatiedatum om naar datetime\n",
    "df['published_time'] = pd.to_datetime(df['published_time'], errors='coerce')\n",
    "\n",
    "# Extract jaartal en tel per jaar\n",
    "df['jaar'] = df['published_time'].dt.year\n",
    "df['jaar'].value_counts().sort_index()\n",
    "\n",
    "aantal_per_jaar = df['jaar'].value_counts().sort_index()\n",
    "\n",
    "plt.figure(figsize=(10, 5))\n",
    "aantal_per_jaar.plot(kind='bar')\n",
    "plt.title('Aantal NOS-artikelen per jaar')\n",
    "plt.xlabel('Jaar')\n",
    "plt.ylabel('Aantal artikelen')\n",
    "plt.grid(axis='y')\n",
    "plt.tight_layout()\n",
    "plt.show()\n",
    "# Tellen per jaar\n",
    "aantal_per_jaar = df['jaar'].value_counts().sort_index()\n",
    "\n",
    "# Print aantallen per jaar\n",
    "print(aantal_per_jaar)\n",
    "\n",
    "# Print totaal\n",
    "print(f\"\\nTotaal aantal artikelen: {aantal_per_jaar.sum():,}\")"
   ]
  },
  {
   "cell_type": "markdown",
   "id": "291f938e",
   "metadata": {},
   "source": [
    " ### Stap 2: Jina embedded bestand laden (uitgevoerd in Collab)"
   ]
  },
  {
   "cell_type": "code",
   "execution_count": 22,
   "id": "11fe3b69",
   "metadata": {},
   "outputs": [
    {
     "name": "stdout",
     "output_type": "stream",
     "text": [
      "(293, 1024)\n"
     ]
    }
   ],
   "source": [
    "from sentence_transformers import SentenceTransformer\n",
    "\n",
    "# Laad het model\n",
    "model = SentenceTransformer(\"jinaai/jina-embeddings-v3\", trust_remote_code=True)\n",
    "\n",
    "import numpy as np\n",
    "\n",
    "# Pad naar het bestand\n",
    "file_path = r\"C:\\Users\\dylan\\Downloads\\jina_embeddings (1).npy\"\n",
    "\n",
    "# Laad de embeddings\n",
    "embeddings = np.load(file_path)\n",
    "\n",
    "# Check de vorm\n",
    "print(embeddings.shape)\n",
    "\n",
    "\n"
   ]
  },
  {
   "cell_type": "markdown",
   "id": "3d582831",
   "metadata": {},
   "source": [
    "###  Stap 3: Clustering toepassen op embeddings"
   ]
  },
  {
   "cell_type": "code",
   "execution_count": null,
   "id": "d4f7d1ef",
   "metadata": {},
   "outputs": [
    {
     "name": "stdout",
     "output_type": "stream",
     "text": [
      "Requirement already satisfied: torch in c:\\users\\dylan\\anaconda3\\lib\\site-packages (2.6.0)\n",
      "Requirement already satisfied: torchvision in c:\\users\\dylan\\anaconda3\\lib\\site-packages (0.21.0)\n",
      "Requirement already satisfied: filelock in c:\\users\\dylan\\anaconda3\\lib\\site-packages (from torch) (3.13.1)\n",
      "Requirement already satisfied: typing-extensions>=4.10.0 in c:\\users\\dylan\\anaconda3\\lib\\site-packages (from torch) (4.12.2)\n",
      "Requirement already satisfied: networkx in c:\\users\\dylan\\anaconda3\\lib\\site-packages (from torch) (3.2.1)\n",
      "Requirement already satisfied: jinja2 in c:\\users\\dylan\\anaconda3\\lib\\site-packages (from torch) (3.1.4)\n",
      "Requirement already satisfied: fsspec in c:\\users\\dylan\\anaconda3\\lib\\site-packages (from torch) (2024.3.1)\n",
      "Requirement already satisfied: setuptools in c:\\users\\dylan\\anaconda3\\lib\\site-packages (from torch) (69.5.1)\n",
      "Requirement already satisfied: sympy==1.13.1 in c:\\users\\dylan\\anaconda3\\lib\\site-packages (from torch) (1.13.1)\n",
      "Requirement already satisfied: mpmath<1.4,>=1.1.0 in c:\\users\\dylan\\anaconda3\\lib\\site-packages (from sympy==1.13.1->torch) (1.3.0)\n",
      "Requirement already satisfied: numpy in c:\\users\\dylan\\anaconda3\\lib\\site-packages (from torchvision) (1.26.4)\n",
      "Requirement already satisfied: pillow!=8.3.*,>=5.3.0 in c:\\users\\dylan\\anaconda3\\lib\\site-packages (from torchvision) (11.0.0)\n",
      "Requirement already satisfied: MarkupSafe>=2.0 in c:\\users\\dylan\\anaconda3\\lib\\site-packages (from jinja2->torch) (2.1.3)\n",
      "Collecting flash-attn\n",
      "  Using cached flash_attn-2.7.4.post1.tar.gz (6.0 MB)\n"
     ]
    },
    {
     "name": "stderr",
     "output_type": "stream",
     "text": [
      "ERROR: Could not install packages due to an OSError: [Errno 2] No such file or directory: 'C:\\\\Users\\\\dylan\\\\AppData\\\\Local\\\\Temp\\\\pip-install-rmwp8dal\\\\flash-attn_43debb00ed2d4321b59070e9c9022322\\\\csrc/composable_kernel/library/include/ck/library/tensor_operation_instance/gpu/grouped_conv_bwd_weight/device_grouped_conv_bwd_weight_two_stage_xdl_instance.hpp'\n",
      "\n",
      "c:\\Users\\dylan\\anaconda3\\Lib\\site-packages\\torch\\utils\\_pytree.py:185: FutureWarning: optree is installed but the version is too old to support PyTorch Dynamo in C++ pytree. C++ pytree support is disabled. Please consider upgrading optree using `python3 -m pip install --upgrade 'optree>=0.13.0'`.\n",
      "  warnings.warn(\n"
     ]
    },
    {
     "name": "stdout",
     "output_type": "stream",
     "text": [
      "WARNING:tensorflow:From c:\\Users\\dylan\\anaconda3\\Lib\\site-packages\\tf_keras\\src\\losses.py:2976: The name tf.losses.sparse_softmax_cross_entropy is deprecated. Please use tf.compat.v1.losses.sparse_softmax_cross_entropy instead.\n",
      "\n"
     ]
    }
   ],
   "source": [
    "# Optioneel: upgrade PyTorch als je oude versie hebt\n",
    "!pip install --upgrade torch torchvision\n",
    "\n",
    "# Herinstalleer Flash Attention\n",
    "!pip install flash-attn --no-build-isolation\n",
    "from sentence_transformers import SentenceTransformer\n",
    "\n",
    "from sklearn.cluster import KMeans\n",
    "!pip install umap-learn"
   ]
  },
  {
   "cell_type": "code",
   "execution_count": 28,
   "id": "10ef1f33",
   "metadata": {},
   "outputs": [
    {
     "name": "stdout",
     "output_type": "stream",
     "text": [
      "Collecting umap-learn\n",
      "  Downloading umap_learn-0.5.7-py3-none-any.whl.metadata (21 kB)\n",
      "Requirement already satisfied: numpy>=1.17 in c:\\users\\dylan\\anaconda3\\lib\\site-packages (from umap-learn) (1.26.4)\n",
      "Requirement already satisfied: scipy>=1.3.1 in c:\\users\\dylan\\anaconda3\\lib\\site-packages (from umap-learn) (1.13.1)\n",
      "Requirement already satisfied: scikit-learn>=0.22 in c:\\users\\dylan\\anaconda3\\lib\\site-packages (from umap-learn) (1.6.1)\n",
      "Requirement already satisfied: numba>=0.51.2 in c:\\users\\dylan\\anaconda3\\lib\\site-packages (from umap-learn) (0.59.1)\n",
      "Collecting pynndescent>=0.5 (from umap-learn)\n",
      "  Downloading pynndescent-0.5.13-py3-none-any.whl.metadata (6.8 kB)\n",
      "Requirement already satisfied: tqdm in c:\\users\\dylan\\anaconda3\\lib\\site-packages (from umap-learn) (4.66.4)\n",
      "Requirement already satisfied: llvmlite<0.43,>=0.42.0dev0 in c:\\users\\dylan\\anaconda3\\lib\\site-packages (from numba>=0.51.2->umap-learn) (0.42.0)\n",
      "Requirement already satisfied: joblib>=0.11 in c:\\users\\dylan\\anaconda3\\lib\\site-packages (from pynndescent>=0.5->umap-learn) (1.4.2)\n",
      "Requirement already satisfied: threadpoolctl>=3.1.0 in c:\\users\\dylan\\anaconda3\\lib\\site-packages (from scikit-learn>=0.22->umap-learn) (3.5.0)\n",
      "Requirement already satisfied: colorama in c:\\users\\dylan\\anaconda3\\lib\\site-packages (from tqdm->umap-learn) (0.4.6)\n",
      "Downloading umap_learn-0.5.7-py3-none-any.whl (88 kB)\n",
      "   ---------------------------------------- 0.0/88.8 kB ? eta -:--:--\n",
      "   ------------- -------------------------- 30.7/88.8 kB 1.3 MB/s eta 0:00:01\n",
      "   ---------------------------------------- 88.8/88.8 kB 1.2 MB/s eta 0:00:00\n",
      "Downloading pynndescent-0.5.13-py3-none-any.whl (56 kB)\n",
      "   ---------------------------------------- 0.0/56.9 kB ? eta -:--:--\n",
      "   ---------------------------------------- 56.9/56.9 kB 3.1 MB/s eta 0:00:00\n",
      "Installing collected packages: pynndescent, umap-learn\n",
      "Successfully installed pynndescent-0.5.13 umap-learn-0.5.7\n"
     ]
    },
    {
     "name": "stderr",
     "output_type": "stream",
     "text": [
      "c:\\Users\\dylan\\anaconda3\\Lib\\site-packages\\sklearn\\utils\\deprecation.py:151: FutureWarning:\n",
      "\n",
      "'force_all_finite' was renamed to 'ensure_all_finite' in 1.6 and will be removed in 1.8.\n",
      "\n",
      "c:\\Users\\dylan\\anaconda3\\Lib\\site-packages\\umap\\umap_.py:1952: UserWarning:\n",
      "\n",
      "n_jobs value 1 overridden to 1 by setting random_state. Use no seed for parallelism.\n",
      "\n"
     ]
    },
    {
     "data": {
      "image/png": "[encoded data removed]",
      "text/plain": [
       "<Figure size 1000x800 with 2 Axes>"
      ]
     },
     "metadata": {},
     "output_type": "display_data"
    }
   ],
   "source": [
    "\n",
    "import umap\n",
    "import matplotlib.pyplot as plt\n",
    "\n",
    "# Zorg dat je dit installeert als je het nog niet hebt:\n",
    "# pip install umap-learn\n",
    "\n",
    "# Reduceer naar 2D\n",
    "reducer = umap.UMAP(n_neighbors=15, min_dist=0.1, metric='cosine', random_state=42)\n",
    "embedding_2d = reducer.fit_transform(artikel_embeddings)\n",
    "\n",
    "# Voeg 2D-coördinaten toe aan je DataFrame\n",
    "df_sample[\"x\"] = embedding_2d[:, 0]\n",
    "df_sample[\"y\"] = embedding_2d[:, 1]\n",
    "\n",
    "# Plot met kleuring op basis van of het een EV-artikel is\n",
    "plt.figure(figsize=(10, 8))\n",
    "plt.scatter(\n",
    "    df_sample[\"x\"],\n",
    "    df_sample[\"y\"],\n",
    "    c=df_sample[\"is_ev_final\"].astype(int),\n",
    "    cmap=\"coolwarm\",\n",
    "    alpha=0.6\n",
    ")\n",
    "plt.title(\"Clusterwolk van NOS-artikelen (Jina embeddings, UMAP)\", fontsize=14)\n",
    "plt.xlabel(\"Component 1\")\n",
    "plt.ylabel(\"Component 2\")\n",
    "plt.grid(True, linestyle=\"--\", alpha=0.3)\n",
    "plt.colorbar(label=\"EV-artikel (0 = nee, 1 = ja)\")\n",
    "plt.tight_layout()\n",
    "plt.show()\n"
   ]
  },
  {
   "cell_type": "markdown",
   "id": "463dbeb7",
   "metadata": {},
   "source": [
    "Rood (1) = herkend als EV-gerelateerd artikel (is_ev_final = True)\n",
    "\n",
    "Blauw (0) = geen EV-artikel volgens jouw semantische of keyword-filter"
   ]
  },
  {
   "cell_type": "code",
   "execution_count": 29,
   "id": "6ebbe6c1",
   "metadata": {},
   "outputs": [
    {
     "data": {
      "application/vnd.microsoft.datawrangler.viewer.v0+json": {
       "columns": [
        {
         "name": "index",
         "rawType": "int64",
         "type": "integer"
        },
        {
         "name": "channel",
         "rawType": "object",
         "type": "string"
        },
        {
         "name": "url",
         "rawType": "object",
         "type": "string"
        },
        {
         "name": "type",
         "rawType": "object",
         "type": "string"
        },
        {
         "name": "title",
         "rawType": "object",
         "type": "string"
        },
        {
         "name": "keywords",
         "rawType": "object",
         "type": "unknown"
        },
        {
         "name": "section",
         "rawType": "object",
         "type": "unknown"
        },
        {
         "name": "description",
         "rawType": "object",
         "type": "string"
        },
        {
         "name": "published_time",
         "rawType": "datetime64[ns]",
         "type": "datetime"
        },
        {
         "name": "modified_time",
         "rawType": "object",
         "type": "string"
        },
        {
         "name": "image",
         "rawType": "object",
         "type": "string"
        },
        {
         "name": "content",
         "rawType": "object",
         "type": "string"
        },
        {
         "name": "jaar",
         "rawType": "int32",
         "type": "integer"
        },
        {
         "name": "ev_score",
         "rawType": "float32",
         "type": "float"
        },
        {
         "name": "is_ev_semantisch",
         "rawType": "bool",
         "type": "boolean"
        },
        {
         "name": "is_ev_keyword",
         "rawType": "bool",
         "type": "boolean"
        },
        {
         "name": "is_ev_final",
         "rawType": "bool",
         "type": "boolean"
        },
        {
         "name": "sentiment_label",
         "rawType": "object",
         "type": "string"
        },
        {
         "name": "sentiment_score",
         "rawType": "float64",
         "type": "float"
        },
        {
         "name": "sentiment_category",
         "rawType": "object",
         "type": "string"
        },
        {
         "name": "date",
         "rawType": "datetime64[ns]",
         "type": "datetime"
        },
        {
         "name": "month",
         "rawType": "object",
         "type": "string"
        },
        {
         "name": "x",
         "rawType": "float32",
         "type": "float"
        },
        {
         "name": "y",
         "rawType": "float32",
         "type": "float"
        }
       ],
       "conversionMethod": "pd.DataFrame",
       "ref": "dc221f50-64c3-4519-a5c6-65d371f5ab28",
       "rows": [
        [
         "0",
         "nos",
         "https://nos.nl/artikel/2218677-uitgesproken-omstreden-en-vandaag-deels-vrijgepleit-wethouder-palmen",
         "article",
         "Uitgesproken, omstreden en vandaag (deels) vrijgepleit: wethouder Palmen",
         "Jo Palmen",
         "Binnenland",
         "De kwestie rond de Brunssumse politicus begint in 1976 met de aankoop van een perceel.",
         "2018-02-21 19:10:02",
         "2018-02-21 19:44:05",
         "https://cdn.nos.nl/image/2018/02/21/453817/1200x675.jpg",
         "<h1>Uitgesproken, omstreden en vandaag (deels) vrijgepleit: wethouder Palmen</h1><p>Het begint met een een stuk grond. Jo Palmen koopt het perceel in 1976 van de gemeente Brunssum. Maar er ontstaat discussie over de grenzen van het perceel. Er volgt jarenlang juridisch getouwtrek, en als Palmen in 2006 voor het eerst wethouder is, wijst de gemeenteraad de grond aan hem toe.</p><p>Kort daarna komt er een ander college van burgemeester en wethouders, en dat college komt terug op het besluit. Na enig geharrewar zou Palmen (inmiddels raadslid voor BBB/Lijst Palmen) een schadeclaim hebben ingediend bij de gemeente van naar verluidt 1,5 miljoen euro.</p><blockquote id=\"quote\"><p>Voor jurist hoef je niets te kunnen. - Jo Palmen, jurist</p></blockquote><p>Voordat Palmen de politiek in gaat, is hij metselaar en aannemer. Hij schoolt zich later om tot jurist. \"Voor jurist hoef je niets te kunnen\", zegt hij daar zelf over in een interview met een lokale zender. \"Je moet je gezonde verstand gebruiken, wat iedereen heeft.\" </p><p>Dat gezonde verstand gebruikt hij ook om zijn populariteit te vergroten in Brunssum, een plaats in Zuid-Limburg met zo'n 30.000 inwoners. Op maandag kunnen alle Brunssummers bij hem terecht voor gratis advies over allerhande kwesties.</p><p>Mensen lopen met hem weg of haten hem. Dat komt mede door zijn uitgesproken gedrag: hij neemt geen blad voor de mond. Zo maakte hij een mede-raadslid uit voor 'varkenskop' en burgemeester Winants noemde hij 'achterlijke Heinie'.</p><p>Voormalig burgemeester Fons Jacobs liet hem zelfs een keer door de politie uit de raadszaal verwijderen vanwege opruiend taalgebruik en veelvuldig interrumperen. Hij had Jacobs 'een circusdirecteur' genoemd.</p><p>Zelf vindt Palmen dat hij gewoon duidelijk is. \"Zo kunnen er geen misverstanden ontstaan. Vele wegen leiden naar Rome en ik neem altijd de kortste.\" Dat hij mensen uitscheldt, ontkent hij. \"Ik laat mensen altijd in hun waarde en respecteer hen, maar ik heb ook weleens een slechte dag.\"</p><p>Palmen kan op voor zijn tweede termijn als wethouder als de de Brunssumse coalitie afgelopen september uiteenvalt. Maar er is een horde: een half jaar ervoor heeft de raad een reglement van orde aangenomen waarin staat dat kandidaat-wethouders een integriteitsonderzoek moeten ondergaan voordat ze worden geïnstalleerd.</p><p>Die horde wordt genomen zonder hem echt te nemen. De lokale partijen in Brunssum, die een krappe meerderheid hebben, wachten het integriteitsonderzoek niet af. Tegen de zin van burgemeester Winants en de oppositiepartijen, wordt Palmen gewoon geïnstalleerd.</p><p>Het integriteitsonderzoek wordt alsnog uitgevoerd en Palmen wordt daarin \"een hoog risico\" voor de lokale politiek genoemd.</p><p>Uit het rapport: \"De wethouder is als burger verwikkeld in een langjarige juridische procedure. Daarin kan hij informatie gebruiken die hij eerst als raadslid- en nu als wethouder krijgt. Ook heeft zijn fractie tijdens een besloten raadsvergadering geprobeerd het conflict met de gemeente op de politieke agenda te krijgen. Dat is belangenverstrengeling.\"</p><h2>'Bullshit, smaad en laster'</h2><p>Palmen noemt de aantijgingen \"bullshit, smaad en laster\" en een aantasting van zijn privacy en integriteit. De oppositie en de burgemeester willen dat hij vertrekt, maar Palmen weigert. En de kwestie trekt hogerop ook de aandacht: minister van Binnenlandse Zaken Ollongren \"onderzoekt de opties\".</p><p>\"Het is lastig\", zegt ze begin december. \"Want het gaat om een wethouder die gesteund wordt door de gemeenteraad en tegelijkertijd lijkt er een integriteitsrisico te spelen.\"</p><blockquote id=\"quote\"><p>Zeker, dat is mijn doel. - Minister Ollongren over aftreden van Palmen</p></blockquote><p>Begin december kondigt CDA-burgemeester Luc Winants aan dat hij opstapt, vanwege de \"aanhoudende bestuurlijke crises in Brunssum\". Hij zegt geen deel uit te willen maken van een gemeentebestuur dat \"zo nadrukkelijk de regels van integer bestuur aan de laars lapt\".</p><p>Ollongren zegt naar aanleiding van het vertrek van Winants dat Palmen moet opstappen. \"Zeker, dat is mijn doel.\" Maar zover komt het niet.</p><p>Een paar weken later stellen de coalitiepartijen in de gemeenteraad voor dat er een tweede integriteitsonderzoek komt naar Palmen, om zijn naam te zuiveren. Het voorstel wordt aangenomen, met alleen de stemmen van de coalitiepartijen voor.</p><h2>'Geen klare wijn'</h2><p>Voor de stemming loopt de oppositie boos de zaal uit. Ze zijn verrast door de motie. En omdat ze zich er niet op hebben kunnen voorbereiden, verlaten CDA, PvdA, SP en VVD de zaal.</p><p>Het onderzoek kwam er dus toch en vandaag werd de uitkomst bekend. Twee hoogleraren die het onderzoek hebben gedaan, pleiten Palmen grotendeels vrij. Ze vinden dat de wethouder kan aanblijven. Maar ze vinden ook dat Palmen zich \"onvoorzichtig gedroeg door over het geschil geen klare wijn te schenken\".</p><p>Zo blijkt de grond waar het allemaal om begon niet meer in het bezit te zijn van Palmen. En van een schadeclaim van 1,5 miljoen euro is geen sprake. \"Palmen liet dit achterwege en bewees daarmee zichzelf en de gemeente Brunssum geen goede dienst.\" </p><p>Lees hier meer uit het rapport dat vandaag is uitgekomen.</p>",
         "2018",
         "0.38587093",
         "False",
         "True",
         "True",
         "negatief",
         "-0.999994158744812",
         "Zeer negatief",
         "2018-02-21 19:10:02",
         "2018-02",
         "10.768126",
         "1.3077793"
        ],
        [
         "1",
         "nos",
         "https://nos.nl/artikel/2079353-utrecht-breidt-vluchtelingenopvang-uit",
         "article",
         "Utrecht breidt vluchtelingenopvang uit",
         "PCB, azc",
         "Binnenland",
         "Er komen verspreid in de stad extra opvanglocaties en een tweede azc, waarschijnlijk in het pand van het Pieter Baan Centrum.",
         "2016-01-08 16:46:23",
         "2016-01-08 16:46:23",
         "https://cdn.nos.nl/image/2014/11/20/27043/1200x675.jpg",
         "<h1>Utrecht breidt vluchtelingenopvang uit</h1><p>Utrecht gaat in op het verzoek van het COA om extra opvanglocaties in de stad te creëren voor vluchtelingen. Er komt onder meer een extra asielzoekerscentrum in het oosten van de stad.</p><p>Verder wordt het azc in de westelijke wijk Oog in Al uitgebreid, krijgt dat azc even verderop een tijdelijke dependance en komt er een noodopvanglocatie in de wijk Overvecht.</p><p>De omwonenden krijgen een uitnodiging voor informatiebijeenkomsten die vanaf volgende week zijn gepland.</p><p>Wethouder Diepeveen zegt in een persbericht dat Utrecht ook de komende jaren een evenredige bijdrage levert aan de opvang van vluchtelingen. Hij wijst erop dat in Oog er in Al al 25 jaar een asielzoekerscentrum is dat \"goed is ingebed in de wijk, mede door vele vrijwilligers uit de wijk\".</p><h2>Pieter Baan Centrum</h2><p>Het tweede azc in Oost-Utrecht komt waarschijnlijk in het pand waar nu het Pieter Baan Centrum is gevestigd. Dat pand komt in 2019 vrij, wanneer de psychiatrische kliniek naar Almere verhuist.</p><p>\"Met een tweede azc in de stad kunnen we vluchtelingen een menswaardige opvang bieden, een plek waar zij langere tijd kunnen wonen en rust hebben om hun leven weer op orde te krijgen\", zegt wethouder Diepeveen.</p>",
         "2016",
         "0.3882203",
         "False",
         "True",
         "True",
         "negatief",
         "-0.9999957084655762",
         "Zeer negatief",
         "2016-01-08 16:46:23",
         "2016-01",
         "11.668189",
         "1.1491897"
        ],
        [
         "2",
         "nos",
         "https://nos.nl/artikel/2041755-tsipras-haalt-uit-naar-schuldeisers",
         "article",
         "Tsipras haalt uit naar schuldeisers",
         null,
         "Buitenland",
         "Zij zouden erop uit zijn om niet alleen zijn regering, maar het hele Griekse volk te vernederen.",
         "2015-06-16 17:09:57",
         "2015-06-16 17:09:57",
         "https://cdn.nos.nl/image/2015/06/16/167314/1200x675.jpg",
         "<h1>Tsipras haalt uit naar schuldeisers</h1><p>De Griekse premier Tsipras heeft in het Griekse parlement hard uitgehaald naar de schuldeisers van het land. Die zijn erop uit \"niet alleen de Griekse regering te vernederen, maar een heel volk\", zei hij in een toespraak die rechtstreeks op televisie werd uitgezonden.</p><p>\"Ik ben er zeker van dat toekomstige historici zullen erkennen dat het kleine Griekenland niet alleen voor zichzelf vecht, maar voor de bevolking van heel Europa\", zei Tsipras. Zijn woorden werden met een luid applaus beantwoord.</p><h2>Juncker</h2><p>De voorzitter van de Europese Commissie, Jean-Claude Juncker, zegt dat de Griekse regering de bevolking misleidt over de voorstellen die hij heeft gedaan. \"Het debat zou in en buiten Griekenland een stuk makkelijker zijn als de Griekse regering exact zou vertellen wat de Commissie echt wil\", zei hij.</p><p>De Griekse regering zegt dat de Commissie de btw op geneesmiddelen en energie met 10 procent wil verhogen. Volens Juncker is de Commissie daar geen voorstander van is. In plaats daarvan zouden de Grieken onder meer op defensie kunnen bezuinigen. Griekenland geeft naar NAVO-maatstaven veel geld uit aan defensie.</p><p>Juncker heeft sinds zondag geen contact meer met Tsipras gehad. Toen brak hij een gesprek met de Griekse premier af, omdat de twee geen stap dichter bij een oplossing kwamen.</p><h2>Niets te bieden</h2><p>Tsipras zei vandaag dat hij bereid is om opnieuw met schuldeisers van Griekenland om de tafel te gaan zitten, maar wil niet verder bezuinigen. Ook sprak hij zich opnieuw uit tegen het aantasten van de Griekse pensioenen en voor het kwijtschelden van een deel van de Griekse schuldenlast.</p><p>Tsipras verwijt de Europese Centrale Bank, het IMF en de Europese Commissie dat ze in de onderhandelingen over het afwenden van een Grieks faillissement steeds hardere eisen hebben gesteld. Hij vindt dat hij de schuldeisers al genoeg is tegemoetgekomen en zegt dat hij niet nog meer verkiezingsbeloften wil breken.</p><p>Weinig goeds</p><p>Zijn uitspraken beloven weinig goeds voor de vergadering van de ministers van Financiën van de eurogroep, aanstaande donderdag in Luxemburg.</p><p>Dat is opnieuw een bijeenkomst die 'cruciaal' wordt genoemd voor de toekomst van Griekenland en de eurozone. Toch wordt het volgens veel waarnemers dit keer menens. Als er op 30 juni geen akkoord over nieuwe bezuinigingsmaatregelen ligt, loopt Griekenland een EU-lening van 7,2 miljard euro mis. Het kan dan een schuld van ruim 1,5 miljard euro aan het IMF niet aflossen en is dan bankroet.</p><p>De parlementen van de Eurogroep-landen moeten zo'n akkoord ook nog goedkeuren. Verder uitstel zou daarom niet mogelijk zijn, maar het is niet uit te sluiten dat er toch nog een oplossing gevonden wordt, om Griekenland meer tijd te geven.</p>",
         "2015",
         "0.28702235",
         "False",
         "True",
         "True",
         "negatief",
         "-0.9999691247940063",
         "Zeer negatief",
         "2015-06-16 17:09:57",
         "2015-06",
         "12.819712",
         "0.23395512"
        ],
        [
         "3",
         "nos",
         "https://nos.nl/artikel/2019577-spektakel-in-all-star-game-met-westbrook-als-mvp",
         "article",
         "Spektakel in All-Star Game met Westbrook als MVP",
         "Russell Westbrook, Basketbal",
         "Basketbal",
         "De NBA-sterren van het westen verslaan de sterren van het oosten met 163-158. Het totaal van 321 punten is een record.",
         "2015-02-16 07:15:05",
         "2015-02-16 07:15:05",
         "https://cdn.nos.nl/image/2015/02/16/132849/1200x675.jpg",
         "<h1>Spektakel in All-Star Game met Westbrook als MVP</h1><p>De 64ste editie van de NBA All-Star Game is een spektakelstuk geweest. De sterren van het westen versloegen in Madison Square Garden in New York de sterren van het oosten met 163-158. In totaal werden er dus 321 punten gemaakt en dat is een record.</p><p>Russell Westbrook was de grote uitblinker voor het westen met 41 punten. De guard van Oklahoma City Thunder zette een serie indrukwekkende dunks neer, soms zelfs met zijn hoofd nog boven de basket.</p><h3>Russell Westbrook Named All-Star MVP with 41-Point Performance</h3><h2>Westbrook meest waardevolle speler</h2><p>Westbrook werd dan ook gekozen tot MVP, de meest waardevolle speler van het duel. Als hij één punt meer had gemaakt had hij het All-Star-record van Wilt Chamberlain uit 1962 geëvenaard. Westbrook deed het wel één punt beter dan Michael Jordan in 1988.</p><p>\"Het is absoluut een eer om tussen die twee grootheden te staan\", zei Westbrook. \"We probeerden alleen maar de wedstrijd te winnen en die zo snel mogelijk te beslissen.\" Dat was in het eerste kwart wel duidelijk, toen hij 27 punten in 11 minuten maakte.</p><p>LeBron James voerde het team van het oosten aan met 30 punten. De forward van Cleveland Cavaliers prees Westbrook. \"Hij is ongelooflijk. Wat een talent. Alles is goed aan hem en dat is goed voor onze sport.\"</p><h2>Unicum broers Gasol</h2><p>Direct vanaf de start van de All-Star Game werd er al geschiedenis geschreven. De broers Pau en Marc Gasol verzorgden de tip-off. Het was de eerste keer dat er twee broers actief zijn in een All-Star Game.</p><p>Pau Gasol van Chicago Bulls won de tip-off van zijn jongere broer, die bij Memphis Grizzlies speelt, en daarmee werd een show gelanceerd vol dunks, achteloze maar precieze passes en spelers die plezier maakten.</p><h3>Gasol Brothers Tip-Off the 2015 NBA All-Star Game</h3>",
         "2015",
         "0.35074103",
         "False",
         "True",
         "True",
         "negatief",
         "-0.999996542930603",
         "Zeer negatief",
         "2015-02-16 07:15:05",
         "2015-02",
         "7.71324",
         "0.8292278"
        ],
        [
         "4",
         "nos",
         "https://nos.nl/artikel/2253443-oppositie-slijpt-de-messen-over-dividendbelasting-na-unilever-besluit",
         "article",
         "Oppositie slijpt de messen over dividendbelasting na Unilever-besluit",
         "Tweede Kamer",
         "Politiek, Economie",
         "De discussie over de afschaffing laait opnieuw op door het niet doorgaan van de verhuizing van Unilever van Londen naar Rotterdam.",
         "2018-10-05 09:23:39",
         "2018-10-05 14:00:21",
         "https://cdn.nos.nl/image/2018/08/30/496565/1200x675.jpg",
         "<h1>Oppositie slijpt de messen over dividendbelasting na Unilever-besluit</h1><p>De oppositie in de Tweede Kamer grijpt het niet doorgaan van de verhuizing van Unilever aan om nog eens te pleiten voor het handhaven van de dividendbelasting. Bijna de hele oppositie was altijd al tegen de afschaffing, en de partijen zien nu een extra argument om te protesteren.</p><p>PVV-leider Wilders spreekt van de grootste afgang in de politieke carrière van premier Rutte. Volgens hem is Rutte vernederd door zijn oude werkgever Unilever. Wilders spreekt van een blamage en wil dat de premier opstapt. GroenLinks-leider Klaver vindt de gang van zaken pijnlijk. Volgens hem valt nu het \"aller- aller- allerlaatste\" argument voor afschaffing weg.</p><p>SP-leider Marijnisssen reageert op een soortgelijke manier: \"Het enige argument om de belasting af te schaffen, is nu verdwenen. Dit onzalige plan moet van tafel.\"</p><p>Volgens PvdA-voorman Asscher is de beslissing van Unilever genant voor het kabinet. Hij vindt dat de premier in zijn hemd staat. Volgens hem moet het kabinet de afschaffing vandaag nog schrappen. De oppositie wil snel een Kamerdebat met het kabinet.</p><h2>Kabinet praat erover</h2><p>Minister Dekker voor Rechtsbescherming zei voor de ministerraad dat het hem lijkt dat de afschaffing van de dividendbelasting gewoon doorgaat. \"We deden dit niet alleen voor Unilever. Dat zou ook wel een beetje gek zijn.\"</p><p>Andere bewindslieden hielden zich meer op de vlakte. Verantwoordelijk staatssecretaris Snel van Financiën wilde niet veel meer kwijt dan dat hij het besluit van Unilever graag anders had gezien en dat hij er in het kabinet over gaat praten.</p><p>Regeringspartij VVD heeft al laten weten dat het standpunt over de dividendbelasting niet verandert. Vooral in de achterban van CDA en D66 ligt de maatregel zeer gevoelig. Morgen houdt D66 een congres. Daar komen verschillende moties van leden aan de orde om de afschaffing terug te draaien.</p><p>Premier Rutte verdedigde de afschaffing steeds vooral door te zeggen dat de maatregel een rol speelt voor bedrijven die zich in Nederland willen vestigen of daar willen blijven.</p><p>Toen de tekenen steeds sterker werden dat de verplaatsing van Unilever naar Nederland niet zou doorgaan, benadrukte hij dat het niet alleen om een mogelijke verhuizing van Shell en Unilever ging, maar dat dat alleen de aanleiding was voor de maatregel.</p>",
         "2018",
         "0.28569156",
         "False",
         "True",
         "True",
         "negatief",
         "-0.9999806880950928",
         "Zeer negatief",
         "2018-10-05 09:23:39",
         "2018-10",
         "12.490316",
         "1.9245027"
        ],
        [
         "5",
         "nos",
         "https://nos.nl/artikel/2426235-we-dachten-dat-bij-de-eerste-doodkisten-mensen-vragen-zouden-gaan-stellen",
         "article",
         "'We dachten dat bij de eerste doodkisten mensen vragen zouden gaan stellen'",
         "Rusland, Oekraïne",
         "Buitenland",
         "De Russische militairen die omkomen in Oekraïne behoren vaak tot etnische minderheden en komen uit armere regio's zoals Boerjatië. Maar ook daar lijkt de steun voor de oorlog alleen maar te zijn toegenomen. ",
         "2022-04-23 18:50:08",
         "2022-04-23 18:50:08",
         "https://cdn.nos.nl/image/2022/04/23/854340/1024x576a.jpg",
         "<h1>'We dachten dat bij de eerste doodkisten mensen vragen zouden gaan stellen'</h1><p>Sergeant Artjom Dambajev vocht met de 5de tankdivisie in de buurt van Kiev. De in 1997 geboren militair was Boerjat, een overwegend boeddhistische minderheid in Rusland die woont aan de grens met Mongolië. Eind maart werd hij met zijn eenheid in een hinderlaag gelokt toen ze probeerden terug te trekken, is te lezen op een herdenkingsbericht op Russische sociale media. Onder het bericht staan tientallen steunbetuigingen. Een held wordt hij genoemd, die postuum de hoogste militaire onderscheiding verdient.</p><p>Dambajev is een van de tientallen gesneuvelde Russische militairen die terug te vinden zijn op een herdenkingspagina voor militairen uit Boerjatië. Aan het begin van de invasie verwachtten experts dat het protest in Rusland zou toenemen naar mate er meer soldaten zouden omkomen. Maar ook in Boerjatië lijkt het tegenovergestelde het geval.</p><p>\"We dachten dat als er doodskisten terug zouden komen, mensen vragen zouden gaan stellen\", zegt journalist Olga Moetovina tegen de NOS. \"Dat mensen verontwaardigd zouden zijn. Maar we zien nu dat iedereen zwijgt.\" Moetovina woont in Irkoetsk en werkt voor Ljoedi Bajkala - een onafhankelijke nieuwssite over de regio. Ze durft openlijk te spreken over de ontwikkelingen in Rusland, omdat ze dit met haar collega's al doet op hun site.</p><p>Daar houden ze ook bij hoeveel militairen uit de regio zijn omgekomen - door met families te spreken, informatie van websites te verzamelen en begrafenissen te bezoeken. Zover bekend waren dat er tot een week geleden zo'n honderd uit Boerjatië en twintig uit Irkoetsk, inmiddels is de site in Rusland geblokkeerd.</p><p>Bekijk deze video over militairen uit Boerjatië die vechten in Oekraïne, de tekst gaat daarna verder:</p><p>\"Tot een paar maanden geleden schreven we nog verhalen over docenten en artsen in dorpen\", zegt Moetovina. \"Over goede, talentvolle individuen. En nu zien we dat deze mensen de oorlog steunen. Deze tegenstrijdigheid is niet te begrijpen.\"</p><p>Een vrouw uit Boerjatië met een familielid vechtend in Oekraïne ziet deze ontwikkeling ook binnen haar familie. \"Bijna iedereen steunt de oorlog\", bevestigt ze tegenover de NOS. Zij wil wel anoniem blijven uit veiligheidsredenen.</p><p>Voor het begin van de invasie spraken ze binnen de familie nooit over Oekraïne, en ook eigenlijk niet over ontwikkelingen in Moskou. \"Nu heeft iedereen het ook in onze groeps-chat over de NAVO en dat de Oekraïners vernietigd hadden moeten worden in 2014. Dat er fascisten zitten. Het is niet voor te stellen hoe effectief en snel de propaganda heeft gewerkt.\" Ook haar familielid in het leger was er alleen maar meer van overtuigd dat de Russen tegen nazi's en fascisten vechten.</p><p>Rusland zegt sinds het begin van de oorlog weinig over verliezen. Volgens een laatste Russische telling een maand geleden waren het er ruim 1300, Oekraïne zegt dat al zo'n 20.000 Russen zijn omgekomen. Wat wel blijkt, ook na onderzoek van de NOS, is dat veel gesneuvelde militairen uit armere regio's in Rusland komen, zoals Dagestan en Boerjatië. Ook behoren ze vaak tot een etnische minderheid. Het leger is populair onder mannen die anders geen werk kunnen vinden.</p><blockquote id=\"quote\"><p>Het is fijner om te denken dat je zoon niet voor niets is omgekomen. - Olga Moetovina, journalist in Irkoetsk</p></blockquote><p>Gesneuvelde militairen worden begraven als helden - vaak met postuum onderscheidingen. \"Mensen denken dat ze zijn omgekomen voor een goede zaak, voor vrede en om de Oekraïners te redden\", concludeert Moetovina. Die overtuiging wordt gevoed door wat ze zien op staatstelevisie. Maar voor families speelt ook iets anders mee. \"Het is fijner om te denken dat je zoon niet voor niets is omgekomen\", zegt de journalist.</p><p>Aan het begin van de oorlog werd een filmpje verspreid uit Oelan-Oede - de hoofdstad van Boerjatië - met een protesterende moeder die wilde dat haar zoon terugkomt uit Oekraïne. Maar verder bleef het protest vrijwel uit, en duidelijk is dat ook in Boerjatië weinig mensen zich nog durven uit te spreken. \"De repressie is geen grap meer\", zegt de vrouw die anoniem wil blijven. \"Ik zou graag willen zeggen wat ik denk, maar ik ben niet van plan een held te worden.\"</p><aside><p>Alle beelden in de video zijn verzameld en geverifieerd door Yorrick de Vries en Ben Meindertsma van het NOS-Osint-team. De grafische vormgeving is gedaan door Harm Kersten.</p></aside>",
         "2022",
         "0.3496383",
         "False",
         "True",
         "True",
         "negatief",
         "-0.9999473094940186",
         "Zeer negatief",
         "2022-04-23 18:50:08",
         "2022-04",
         "11.085332",
         "-0.31794327"
        ],
        [
         "6",
         "nos",
         "https://nos.nl/artikel/2029428-bootvluchtelingen-bij-haiti-omgekomen",
         "article",
         "Bootvluchtelingen bij Haïti omgekomen",
         "Turks- en Caicoseilanden, Haïti",
         "Buitenland",
         "De vluchtelingen waren waarschijnlijk op weg naar de Turks- en Caicoseilanden, een Brits overzees gebiedsdeel. ",
         "2015-04-09 22:57:30",
         "2015-04-09 22:57:30",
         "https://cdn.nos.nl/image/2015/04/09/147919/1200x675.jpg",
         "<h1>Bootvluchtelingen bij Haïti omgekomen</h1><p>Ten noorden van Haïti zijn in zwaar weer 21 bootvluchtelingen om het leven gekomen. Het Franse persbureau AFP meldt op basis van een overheidsfunctionaris op Haïti dat ze op weg waren naar de Turks- en Caicoseilanden.</p><p>De eilanden maken deel uit van de Antillen en zijn een Brits overzees gebiedsdeel. Haïtianen die de armoede willen ontvluchten, proberen vaker de eilanden te bereiken.</p><p>De boot kwam naar verluidt terecht in een storm. De vluchtelingen keerden nog om, maar voor de kust van Haïti zonk de boot.</p>",
         "2015",
         "0.43528444",
         "False",
         "True",
         "True",
         "negatief",
         "-0.9977720379829407",
         "Zeer negatief",
         "2015-04-09 22:57:30",
         "2015-04",
         "11.576269",
         "-0.34230122"
        ],
        [
         "7",
         "nos",
         "https://nos.nl/op3/artikel/2024128-google-opent-eerste-fysieke-winkel-in-londen",
         "article",
         "Google opent eerste fysieke winkel in Londen ",
         "openingen, winkel",
         "Buitenland, Tech",
         "In het hartje van Londen heeft Google z'n eerste winkel geopend.",
         "2015-03-11 16:31:42",
         "2015-03-11 16:31:42",
         "https://cdn.nos.nl/image/2015/03/11/139809/14.jpg",
         "<h1>Google opent eerste fysieke winkel in Londen </h1><p>In het centrum van Londen heeft Google z'n eerste eigen winkel geopend: de Google Shop. Op Tottenham Court Road kunnen mensen nu alle apparaten en gadgets van Google onder één dak vinden.</p><p>Saabira Chaudhuri:</p><blockquote id=\"tweet\"><p>@SaabiraC</p><p>Google's new store in London http://t.co/2euDPJiHuw</p><p>12:42</p><p>11 maart 2015</p></blockquote><p>Het is de eerste keer dat Google onder eigen naam een winkel opent. De winkel is gevestigd in een groot warenhuis dat gespecialiseerd is in huishoudelijke elektronica en apparaten. Google noemt de winkel een \"shop in shop\".</p><p>Naast smartphones, tablets en laptops zijn er ook technische snufjes waar mensen mee kunnen experimenteren. Zo is er een grote simulator waarmee gebruikers via Google Earth over de wereld kunnen vliegen. Ook is er een Doodle Wall waar mensen met digitale sprays tekeningen kunnen maken.</p><p>\"Met de Google Shop willen we mensen een plek bieden waar ze kunnen spelen, experimenteren en leren\", zegt James Elias, de Britse marketingdirecteur van Google. Zo zal de winkel ook workshops en evenementen gaan verzorgen, zoals lessen over online beveiliging.</p><h3>Google Shop opens in London as search giant takes next step towards retail stores</h3><p>Sara Sjölin:</p><blockquote id=\"tweet\"><p>@sarasjolin</p><p>A giant Pacman game? Google taking me back to my childhood at its new London shop http://t.co/xdEpgeP87R</p><p>13:15</p><p>11 maart 2015</p></blockquote><p>Volgens The Telegraph is Google zeker niet het laatste online bedrijf met een fysieke shop. Zo overweegt Amazon op dit moment een winkel te openen in New York. Volgens een woordvoerder is het nog niet bekend of Google ook in Nederland winkels gaat openen.</p>",
         "2015",
         "0.45014495",
         "False",
         "True",
         "True",
         "negatief",
         "-0.9999181032180786",
         "Zeer negatief",
         "2015-03-11 16:31:42",
         "2015-03",
         "10.900098",
         "0.44820172"
        ],
        [
         "8",
         "nos",
         "https://nos.nl/artikel/2513282-nottingham-forest-gestraft-voor-overtreden-financiele-regels-vier-minpunten",
         "article",
         "Nottingham Forest gestraft voor overtreden financiële regels: vier minpunten",
         "voetbal",
         "Voetbal",
         "Premier League-club Nottingham Forest is zakt door de puntenstraf onder de degradatiestreep, maar kan nog in beroep. ",
         "2024-03-18 17:15:54",
         "2024-03-18 17:15:54",
         "https://cdn.nos.nl/image/2024/03/18/1063974/1024x576a.jpg",
         "<h1>Nottingham Forest gestraft voor overtreden financiële regels: vier minpunten</h1><p>Nottingham Forest heeft vier punten aftrek gekregen vanwege het overtreden van de financiële regels, dat meldt de Premier League. De club kan in beroep gaan tegen de straf, maar zakt voorlopig onder de degradatiestreep.</p><p>Forest daalt door de straf van de zeventiende naar de achttiende plek, ten faveure van Luton Town, dat nu plots op een veilige plek staat.</p><p>De regels voor winstgevendheid en duurzaamheid, opgesteld door de Premier League, staan clubs toe in drie jaar tijd een verlies van maximaal 105 miljoen pond (zo'n 120 miljoen euro) te maken, of 35 miljoen pond (zo'n 41 miljoen euro) per seizoen. Forest speelt pas sinds 2022 weer op het hoogste niveau, waardoor de limiet lager ligt voor de tweevoudig Europa Cup I-winnaar.</p><p>Uit het statement van de Premier League blijkt dat Forest de limiet van 61 miljoen pond met meer dan 34 miljoen pond heeft overschreden.</p><p>Britse media verwachten dat de club in beroep gaat. Dat kan strafvermindering opleveren, bewees Everton eerder dit seizoen. Die club kreeg voor het overtreden van dezelfde regels oorspronkelijk tien minpunten, na beroep werd dat teruggebracht tot zes.</p>",
         "2024",
         "0.3140729",
         "False",
         "True",
         "True",
         "negatief",
         "-0.9987020492553711",
         "Zeer negatief",
         "2024-03-18 17:15:54",
         "2024-03",
         "8.615159",
         "2.1116967"
        ],
        [
         "9",
         "nos",
         "https://nos.nl/artikel/2241555-premier-haiti-weg-na-rellen-over-brandstofprijzen",
         "article",
         "Premier Haïti weg na rellen over brandstofprijzen",
         "premier, Lafontant, rellen, Haïti",
         "Buitenland",
         "Premier Lafontant trok zijn plannen in, maar de roep om zijn vertrek werd alleen maar groter. ",
         "2018-07-14 23:35:48",
         "2018-07-14 23:35:48",
         "https://cdn.nos.nl/image/2018/07/14/486839/1200x675.jpg",
         "<h1>Premier Haïti weg na rellen over brandstofprijzen</h1><p>De Haïtiaanse premier Jack Guy Lafontant is opgestapt. Parlementsleden wilden hem aan de tand voelen over de rellen van vorige week, waarbij zeven doden vielen en tientallen winkels en bedrijven werden geplunderd. Lafontant vertelde de parlementsleden dat hij zijn ontslagbrief al naar de president had gestuurd.</p><p>De rellen braken uit na de aankondiging van de regering dat de brandstofprijzen met 38 tot 51 procent zouden worden verhoogd. Dat was in lijn met de wensen van het Internationaal Monetair Fonds (IMF). In ruil voor financiële steun van het IMF moet de Haïtiaanse regering zijn inkomsten en uitgaven met elkaar in evenwicht brengen.</p><p>Ook nadat Lafontant de plannen had geschrapt, bleef het onrustig en de roep om zijn aftreden nam toe. Zijn kabinet wilde ook bezuinigen op sociale voorzieningen en de uitgaven voor de infrastructuur. Ook zou de belastinginning worden verbeterd.</p><p>Veel betogers zijn blij dat de premier is opgestapt maar de onrust is nog niet voorbij.</p>",
         "2018",
         "0.37209457",
         "False",
         "True",
         "True",
         "negatief",
         "-0.9999167919158936",
         "Zeer negatief",
         "2018-07-14 23:35:48",
         "2018-07",
         "12.233402",
         "-0.2130462"
        ],
        [
         "10",
         "nos",
         "https://nos.nl/artikel/2060778-dader-oregon-had-het-gemunt-op-christenen",
         "article",
         "'Dader Oregon had het gemunt op christenen'",
         null,
         "Buitenland",
         "Wat is er inmiddels bekend over de 26-jarige schutter Chris Harper Mercer en de dodelijke schietpartij in Oregon?",
         "2015-10-02 08:59:45",
         "2015-10-02 08:59:45",
         "https://cdn.nos.nl/image/2015/10/02/197142/1200x675.jpg",
         "<h1>'Dader Oregon had het gemunt op christenen'</h1><p>Chris Harper Mercer, de 26-jarige man die gisteren in Oregon zeker negen mensen doodschoot op een school voor volwassenenonderwijs, zou het hebben gemunt op christenen. Dat zegt een vader van een gewond geraakte student volgens Amerikaanse media.</p><p>Het 18-jarige slachtoffer sprak haar vader en broer kort voordat ze geopereerd werd. Volgens de vader zou Mercer al schietend het klaslokaal zijn binnengelopen. De docent werd direct doodgeschoten, anderen raakten gewond. Iedereen dook na de schoten op de grond.</p><blockquote id=\"quote\"><p>Wie zei christelijk te zijn, schoot hij dood. - Ooggetuige</p></blockquote><p>Terwijl Mercer zijn geweer aan het herladen was, zei hij dat iedereen die christelijk was, moest opstaan, aldus de vader tegenover CNN. \"Er stonden toen mensen op. De schutter zei tegen hen: 'Goed, omdat jullie christelijk zijn, gaan jullie God over één seconde zien'.\"</p><p>Op Twitter vertelt iemand een soortgelijk verhaal. \"De schutter zette iedereen op een rij en vroeg of ze christelijk waren. Als iemand bevestigend antwoordde, schoot hij ze in hun hoofd. Als iemand nee antwoordde of niet reageerde, schoot hij in de benen.\"</p><p>De 26-jarige Mercer woonde samen met zijn moeder op een paar kilometer afstand van de school. The Guardian meldt dat Mercer mogelijk sympathieën had voor de IRA, het Iers Republikeins Leger.</p><p>De krant schrijft dat Mercer drie dagen voor de schietpartij in Oregon de BBC-documentaire Surviving Sandy Hook heeft geüpload op een website. Die film gaat over de school shooting in Newtown in 2012. Daar werden 26 mensen doodgeschoten, onder wie 20 kinderen.</p><blockquote id=\"quote\"><p>Ik maakte me zorgen over welke kleren ik aan had, terwijl ik er niet bij stilstond of ik nou gelukkig was. - Mercer in een mogelijke blogpost</p></blockquote><p>Op diezelfde website staat ook een blogpost, vermoedelijk van de hand van Mercer. Hij zou daarin stellen dat de \"materiële wereld een leugen is\".</p><h2>Wachten op iPhone</h2><p>\"De meeste mensen staan uren in de rij voor een nieuwe iPhone. Ik was ook zo. Ik maakte me zorgen over welke kleren ik aanhad, terwijl ik er niet bij stilstond of ik nou gelukkig was. Dat doe ik nu niet meer.\"</p><p>\"Ik heb geleerd dat zulke dingen alleen maar ellende brengen. Dit is mijn eerste blogpost. Er zullen er meer volgen.\" Andere blogs gaan over de uploadgewoontes van anderen op de zogenoemde bittorentsite. Ook staat hij stil bij de dood van regisseur Wes Craven.</p><p>De politie onderzoekt berichten van Harper op een Amerikaans forum. Volgens verschillende media heeft hij zijn daad daar aangekondigd. \"Sommigen van jullie zijn best oké. Ga niet naar school morgen als je in het noordwesten bent.\"</p>",
         "2015",
         "0.29029167",
         "False",
         "True",
         "True",
         "negatief",
         "-0.7308458685874939",
         "Zeer negatief",
         "2015-10-02 08:59:45",
         "2015-10",
         "10.305808",
         "-0.5603827"
        ],
        [
         "11",
         "nos",
         "https://nos.nl/artikel/2388931-afghanen-vechten-tegen-taliban-anders-zullen-ze-ons-een-voor-een-vermoorden",
         "article",
         "Afghanen vechten tegen Taliban: 'Anders zullen ze ons één voor één vermoorden'",
         "Afghanistan, vechten",
         "Buitenland",
         "Nu buitenlandse troepen uit Afghanistan vertrekken, pakken inwoners zelf de wapens op om te vechten tegen de Taliban. Maar het is de vraag of deze gewapende burgers succesvol zullen zijn.",
         "2021-07-11 18:40:25",
         "2021-07-11 18:40:25",
         "https://cdn.nos.nl/image/2021/07/11/762393/1024x576a.jpg",
         "<h1>Afghanen vechten tegen Taliban: 'Anders zullen ze ons één voor één vermoorden'</h1><p>In Afghanistan rukken de Taliban in rap tempo op. Buitenlandse troepen verlaten het land na twintig jaar en het regeringsleger blijkt te zwak om de terreurgroep tegen te houden. Steeds meer burgers zien dan ook geen andere optie dan zelf de wapens op te pakken om te voorkomen dat hun steden en dorpen worden veroverd door de terreurbeweging.</p><p>\"Als wij onszelf niet verdedigen, vallen de Taliban de stad binnen en zullen ze ons één voor één vermoorden\", vertelt de 28-jarige Raouf Aliyar. Hij woont in de stad Mazar-i-Sharif in de noordelijke provincie Balch en vecht daar sinds kort mee met een burgermilitie. \"Het zou voor mij heel moeilijk zijn om onder de Taliban te leven. Ze geloven niet in mensenrechten en democratie. Daarom moeten we alle verdiensten van de laatste jaren nu beschermen.\"</p><p>Cameravrouw Jordan Bryon en journaliste Charlie Faulkner bezochten Raouf Aliyar in Mazar-i-Sharif, waar hij samen met andere burgers vecht tegen de Taliban:</p><p>De groep waar Aliyar voor vecht, geleid door parlementslid Abbas Ibrahimzada, is geen uitzondering. In heel Afghanistan komen dit soort burgermilities voor. \"Het zijn vaak een soort privélegers van lokale machthebbers, politieke leiders en andere invloedrijke personen die op deze manier meer macht proberen te krijgen\", vertelt correspondent Aletta André. Behalve parlementslid is Ibrahimzada ook een van de rijkste zakenmannen van Afghanistan.</p><p>André: \"Veel van dit soort privélegers ontstonden in de jaren 80 en 90. Ze vochten eerst vooral tegen elkaar om de macht, wat leidde tot een burgeroorlog. Maar toen de Taliban aan de macht probeerden te komen, sloegen de milities de handen ineen en vochten samen tegen hun gezamenlijke vijand. Dat zie je nu weer gebeuren.\"</p><h2>Machtsvacuüm vullen</h2><p>In de stad Mazar-i-Sharif wapperde tot voor kort nog de Nederlandse missievlag op kamp Marmal. Nederlandse militairen namen deel aan de NAVO-missie Resolute Support. Maar die missie loopt ten einde en de Taliban grepen eind juni hun kans. Ze stonden aan de poorten van de stad, klaar om het gebied in te nemen. Toen strijders van de terreurgroep foto's plaatsten op Facebook, greep Ibrahimzada direct in en stuurde zijn eigen mannen erop af. Met succes wist de militie de Taliban buiten de deur te houden.</p><p>Deze gebieden zijn in handen van de Taliban:</p><p>Terwijl het regeringsleger zich in het noorden van Afghanistan de laatste weken massaal overgaf, zijn het dus vooral dit soort burgermilities die de Taliban nu afzwakken. Zij vullen het machtsvacuüm dat ontstaat nu de internationale troepenmacht heeft besloten na twintig jaar Afghanistan te verlaten.</p><p>Toch lijken de Taliban zich weinig zorgen te maken. \"Publiekelijk zal de terreurbeweging nooit toegeven dat ze bang zijn en zullen ze altijd blijven roepen de sterkere partij te zijn\", vertelt André. \"Bovendien zijn veel burgermilities niet goed getraind en zijn ze vooral bezig met verdedigen. Hun doel is om de Taliban tegen te houden, maar ze zijn niet in de positie om ze ook echt aan te vallen.\"</p><p>Het is dus maar de vraag hoe succesvol de gewapende burgergroepen zijn om de macht van de Taliban in te dammen. In de jaren 90 is dat soortgelijke milities ook niet gelukt. Toen kwamen de Taliban in 1996 aan de macht nadat ze de hoofdstad Kabul veroverden. Die macht werd pas in 2001 teruggedrongen, toen Amerika binnenviel als gevolg van de aanslagen op 11 september.</p><p>Toch is de regering blij met de privélegers van de lokale krijgsheren. \"Het nationale leger blijkt niet sterk genoeg te zijn om de Taliban onder de duim te houden\", vertelt André. \"Daarom worden de burgermilities verwelkomd door de overheid. Alle beetjes helpen, denken ze.\"</p><p>Dat staat sterk in contrast met de afgelopen twintig jaar, toen de regering samen met de NAVO dit soort milities juist probeerde te ontwapenen. \"Veel van deze groepen lopen langs regionale en daarmee ook etnische lijnen. De angst is dat de rivaliteit onderling opnieuw tot een burgeroorlog zal leiden. Bovendien waren de milities destijds vaak ook corrupt en buitten ze de bevolking uit.\"</p><p>Maar voorlopig worden de burgermilities verwelkomd door zowel de regering als de Afghanen zelf. Het terugdringen van de Taliban is nu de prioriteit. Daarmee blijkt een oud gezegde in Afghanistan weer hartstikke actueel: de vijand van mijn vijand is mijn vriend.</p>",
         "2021",
         "0.3001317",
         "False",
         "True",
         "True",
         "negatief",
         "-0.9995089769363403",
         "Zeer negatief",
         "2021-07-11 18:40:25",
         "2021-07",
         "11.070982",
         "-0.11266414"
        ],
        [
         "12",
         "nos",
         "https://nos.nl/artikel/2232575-na-vijfsterrenbeweging-stemt-lega-over-regeerakkoord-italie",
         "article",
         "Na Vijfsterrenbeweging stemt Lega over regeerakkoord Italië",
         "Vijfsterrenbeweging, Lega",
         "Buitenland",
         "De partijen zijn het deze week eens geworden over een conceptregeerakkoord. De verwachting is dat de achterban van beide instemt. ",
         "2018-05-19 11:01:57",
         "2018-05-19 11:01:57",
         "https://cdn.nos.nl/image/2018/05/19/473828/1200x675.jpg",
         "<h1>Na Vijfsterrenbeweging stemt Lega over regeerakkoord Italië</h1><p>In Italië is het de beurt aan Lega om te peilen of zijn aanhang de regeerplannen ziet zitten. De rechts-populistische partij organiseert daarvoor bijeenkomsten op pleinen overal in Italië. Gisteravond ging het leeuwendeel van de Vijfsterrenbeweging, de beoogde coalitiepartij, al akkoord met de plannen.</p><p>De Vijfsterrenbeweging (M5S) had een online stemming georganiseerd. Na een dag van stemmen, meldde politiek leider Luigi Di Maio gisteravond dat 94 procent ingestemd had. Volgens Di Maio hadden zo'n 45.000 mensen hun stem uitgebracht, op een totaal van 140.000 leden.</p><p>Dat de leden van M5S akkoord gingen, was geen verrassing en de verwachting is ook dat Lega-aanhangers instemmen. Als dat inderdaad het geval is, zullen de partijen maandag hun regeerakkoord en de naam van hun kandidaat-premier voorleggen aan president Sergio Mattarella.</p><p>In het conceptregeerakkoord wordt de Italianen onder meer belastingverlagingen, een lagere pensioenleeftijd en een soort basisinkomen in het vooruitzicht gesteld. Ook willen de partijen dat de strenge Europese begrotingsregels worden herzien. Er waren ook berichten dat ze mogelijk een referendum over de euro zouden organiseren, maar daar hebben ze al eerder in de week van afgezien.</p><p>Niettemin maken Brussel en de financiële markten zich zorgen. Op de Italiaanse beurzen kleurden de cijfers rood op de borden, lenen wordt voor Italië duurder, en ook de euro verloor meer terrein op de dollar.</p>",
         "2018",
         "0.32818416",
         "False",
         "True",
         "True",
         "negatief",
         "-0.9965961575508118",
         "Zeer negatief",
         "2018-05-19 11:01:57",
         "2018-05",
         "12.509053",
         "0.237937"
        ],
        [
         "13",
         "nos",
         "https://nos.nl/l/2545397",
         "article",
         "'Ik hoop dat serie De Toeslagenaffaire laat zien: het kon ook je zus zijn'",
         "toeslagenaffaire",
         "Binnenland",
         "Vanavond is het eerste deel van de dramaserie op tv. 'Reken maar dat de ouders alles wat in de serie gebeurt echt hebben meegemaakt', zegt gedupeerde Roger Derikx.",
         "2024-11-21 19:06:21",
         "2024-11-21 19:06:21",
         "https://cdn.nos.nl/image/2024/11/21/1160302/1024x576a.jpg",
         "<h1>'Ik hoop dat serie De Toeslagenaffaire laat zien: het kon ook je zus zijn'</h1><p>\"Het is een dramaserie, maar reken er maar op dat de ouders alles wat er in de serie gebeurt echt hebben meegemaakt\", vertelt gedupeerde Roger Derikx over De Toeslagenaffaire. Vanavond is het eerste deel van de dramaserie van BNNVARA op tv. In drie afleveringen komen de perspectieven van belastingambtenaren, klokkenluiders, onderzoeksjournalisten, maar vooral van de gedupeerden van de toeslagenaffaire voorbij.</p><p>De serie beslaat een periode van zeven jaar. In de intro zijn fragmenten uit de Tweede Kamer te zien, waarin politici over elkaar heen buitelen om in de scherpste bewoordingen duidelijk te maken hoe hard de zogenoemde 'Bulgarenfraude' moet worden aangepakt.</p><p>Het leidde tot de oprichting van het Combiteam Aanpak Facilitators (CAF) binnen de Belastingdienst, in de serie 'de cowboys' genoemd. Zij kregen de opdracht om miljoenen terug te halen bij de fraudeurs.</p><p>Binnen het onderbemande team is weinig ruimte voor de menselijke maat. Meerdere medewerkers uiten hun zorgen, maar daar wordt niets mee gedaan. De gevolgen zijn bekend: duizenden ouders werden onterecht als fraudeurs bestempeld, moesten soms torenhoge boetes betalen en kwamen daardoor diep in de schulden terecht, zo is te zien in de serie.</p><p>In werkelijkheid is de toeslagenaffaire ontzettend complex en zijn de stofwolken nog lang niet opgetrokken. In de serie wordt één gezin opgevoerd. Ze krijgen een brief in de bus waarin staat dat ze tienduizenden euro's moeten terugbetalen aan de Belastingdienst. Een ambtenaar - een van die cowboys - komt net bij het gezin in de straat wonen.</p><h2>Acteurs om tafel met gedupeerden</h2><p>Om de beleving van de slachtoffers invoelbaar te maken, maakte regisseur Joram Lürsen gebruik van wat hij verhaaltrucjes noemt. \"We weten niet of er echt ambtenaren bij gedupeerden in de straat woonden. Om zo'n groot verhaal klein te maken moet je de karakters met elkaar in contact brengen\", vertelt Lürsen.</p><p>Tijdens het maakproces werd uitvoerig met gedupeerden gesproken, om dicht bij de realiteit te blijven. Ook de acteurs namen deel aan die gesprekken. \"Dat was heel indrukwekkend\", vindt Lürsen. \"Mensen vertelden verhalen over hun kinderen die uit huis waren geplaatst. Er was iemand die heel ziek was geworden van de stress.\" In de serie gaat het gedupeerde gezin langzaamaan kapot aan de gevolgen.</p><h2>'Mijn leven is naar de klote'</h2><p>Dat heeft het gewenste effect, vindt Roger Derikx, die eind 2019 in het nieuws kwam toen hij zich in de Tweede Kamer uitsprak over het onrecht dat hem was aangedaan. \"Mijn leven is naar de klote\", riep hij vanaf de publieke tribune.</p><p>Hij was destijds al veertien jaar lang verwikkeld in een strijd met de Belastingdienst, die 75.000 euro van hem vorderde. Het leidde tot zijn scheiding, hij raakte zijn werk kwijt en zijn auto werd meermaals in beslag genomen.</p><p>Na het debat in de Tweede Kamer deed Derikx zijn verhaal:</p>Vader loopt weg bij debat, wordt even te veel<p>Derikx schoof zelf niet aan bij die gesprekken met de makers van de serie, maar zijn zaak werd wel gebruikt als bron. In een extra serie die BNNVARA na iedere uitzending op YouTube plaatst, reageert hij - samen met andere gedupeerden - op fragmenten uit de serie.</p><blockquote id=\"quote\"><p>Veel mensen onderschatten wat de toeslagenaffaire heeft aangericht. Ik hoop dat de serie laat zien dat het ook hun buurman, collega, broer of zus had kunnen zijn.</p><footer>Roger Derikx</footer></blockquote><p>Wat Derikx aan fragmenten te zien kreeg, omschrijft hij als \"heftig\". \"In de serie krijgt het gezin een brief in de bus waarin staat dat zij tienduizenden euro's moeten terugbetalen. In mijn geval stond er ineens een belastingdeurwaarder voor de deur, die 33.000 euro kwam ophalen. Dan stort je hele wereld in. Die emoties zijn heel goed in beeld gebracht.\"</p><p>Derikx hoopt dan ook vooral dat de serie zal leiden tot begrip voor de gedupeerden. \"Veel mensen onderschatten wat de toeslagenaffaire heeft aangericht. Ik hoop dat de serie laat zien dat het ook hun buurman, collega, broer of zus had kunnen zijn.\"</p><h2>'Herstelschandaal'</h2><p>De serie eindigt met beelden van de parlementaire enquête. \"Zowel kabinet als het parlement heeft gefaald, uitvoerende diensten hebben onrechtmatig gehandeld en de rechtspraak is tekortgeschoten\", klonk het harde oordeel van de enquêtecommissie Fraudebeleid destijds.</p><p>In werkelijkheid eindigde het verhaal van de betrokken ouders daar niet. De hersteloperatie sleept nog altijd voort en veel gedupeerden gaan gebukt onder de gevolgen - zo ook Derikx. Sommige slachtoffers spreken inmiddels van een \"herstelschandaal\".</p><p>Naast begrip hoopt Derikx ook op hernieuwde aandacht voor de hersteloperatie. \"Als ik mensen vertel hoe het ervoor staat, zeggen ze: 'Goh, ik dacht dat het allemaal al was opgelost'. Dat terwijl wij er nog middenin zitten. Het is belangrijk dat dit continu in het nieuws blijft.\"</p>",
         "2024",
         "0.30606997",
         "False",
         "True",
         "True",
         "negatief",
         "-0.9999963045120239",
         "Zeer negatief",
         "2024-11-21 19:06:21",
         "2024-11",
         "10.817727",
         "1.923187"
        ],
        [
         "14",
         "nos",
         "https://nos.nl/artikel/2194741-obama-gaf-zuckerberg-wake-upcall-over-nepnieuws",
         "article",
         "'Obama gaf Zuckerberg wake-upcall over nepnieuws'",
         "Barack Obama, nepnieuws, Amerikaanse verkiezingen",
         "Economie, Tech",
         "Dat schrijft The Washington Post. De krant reconstrueerde hoe Facebook al maanden worstelt met het vinden van bewijs voor Russische inmenging.",
         "2017-09-25 11:09:21",
         "2017-09-25 16:05:27",
         "https://cdn.nos.nl/image/2017/09/25/419790/1200x675.jpg",
         "<h1>'Obama gaf Zuckerberg wake-upcall over nepnieuws'</h1><p>President Obama heeft elf dagen na de Amerikaanse presidentsverkiezingen Facebook-topman Mark Zuckerberg gewezen op het probleem van nepnieuws, schrijft The Washington Post op basis van bronnen. De president drukte Zuckerberg tijdens een besloten ontmoeting op het hart om het gevaar van nepnieuws en politieke desinformatie serieus te nemen.</p><p>Facebook worstelt al maanden met het vinden van bewijs voor Russische inmenging bij de Amerikaanse verkiezingen. Obama zei tegen Zuckerberg dat hij vreest dat de gevolgen voor de verkiezingen van 2020 nog groter zullen zijn. Zuckerberg erkende volgens de Post het probleem van nepnieuws, maar zei daarnaast dat de berichten niet wijdverspreid waren en dat er geen simpele oplossing voorhanden was.</p><h2>Russische elementen </h2><p>The Washington Post sprak de afgelopen tijd met betrokkenen en schetst op basis daarvan een beeld van wat er de afgelopen maanden is gebeurd. Volgens de krant detecteerde Facebook in juni 2016 al \"elementen\" van een Russische operatie. Het platform stelde de FBI daarvan toen op de hoogte.</p><p>Beveiligingsonderzoekers van Facebook volgden op dat moment een hackersgroep, Fancy Bear, die volgens Amerikaanse inlichtingendiensten onderdeel is van de Russische militaire inlichtingendienst GRU. De onderzoekers lichtten vervolgens de FBI in over hun bevindingen, met de gedachte dat er waarschijnlijk sprake was van spionage, en niet een grote desinformatiecampagne.</p><p>De hackers van Fancy Bear zetten daarna zelfs nog een aantal mysterieuze Facebookaccounts op, waaronder die voor een persoon die door het leven gaat als Guccifer 2.0 en een Facebookpagina 'DCLeaks'. Onderzoekers van Facebook gaven ook dit door aan de FBI.</p><blockquote id=\"quote\"><p>De geavanceerde tactieken verrasten Facebook. - The Washington Post</p></blockquote><p>Maar het lukte Facebook een tijd lang niet om deze activiteiten te linken aan Russische manipulatie, schrijft The Washington Post. \"De geavanceerde tactieken verrasten Facebook. Het beveiligingsteam van het platform was goed voorbereid op traditionele cyberaanvallen, maar voorzag niet dat gebruikers goed bedachte propaganda via het netwerk zouden verspreiden zonder dat er alarmbellen afgingen.\" </p><p>De krant reconstrueert de situatie en schrijft dat het lang duurde voordat Facebook doorhad wat er aan de hand was. Wel realiseerde het platform zich dat er iets moest veranderen, met het oog op verkiezingen in Europa.</p><p>In 2017 zouden namelijk de Fransen, Nederlanders, Britten én Duitsers naar de stembus gaan. Het platform ging gebruikmaken van kunstmatige intelligentie. Speciaal geprogrammeerde computers moesten het platform afstruinen naar verkeerde berichten. Ook ging het platform samenwerken met journalistieke organisaties om nepnieuws op te sporen en te labelen.</p><h2> Topje van de ijsberg </h2><p>Facebook bleef wel onderzoek doen en vroeg ook aan Amerikaanse inlichtingendiensten om informatie, schrijft The Washington Post, maar er is nog altijd niets gedeeld. Inmiddels heeft Facebook ontdekt dat er meer dan 3000 advertenties zijn geweest die in verband worden gebracht met een Russische organisatie, het Internet Research Agency. Er zijn sterke aanwijzingen dat er meer aan de hand is.</p><p>Informatie over de accounts zijn in handen van speciaal aanklager Robert Mueller, die onderzoek doet naar Russische inmenging rond de verkiezingen, en het Amerikaanse Congres. Een betrokkene daar noemt de ontdekking van Facebook \"het topje van de ijsberg\".</p>",
         "2017",
         "0.37940234",
         "False",
         "True",
         "True",
         "negatief",
         "-0.9999347925186157",
         "Zeer negatief",
         "2017-09-25 11:09:21",
         "2017-09",
         "9.552046",
         "-0.041328765"
        ],
        [
         "15",
         "nos",
         "https://nos.nl/artikel/2195288-de-sport-van-vrijdag-bij-de-nos",
         "article",
         "De sport van vrijdag bij de NOS",
         "FC Twente, Dick Advocaat, heracles",
         "Sport algemeen",
         "Bondscoach Dick Advocaat maakt zijn definitieve selectie bekend voor de laatste twee WK-kwalificatieduels en speelronde zeven van de eredivisie begint met de Twentse derby.",
         "2017-09-29 06:32:16",
         "2017-09-29 06:32:16",
         "https://cdn.nos.nl/image/2017/09/29/420584/1200x675.jpg",
         "<h1>De sport van vrijdag bij de NOS</h1><p>Bondscoach Dick Advocaat maakt rond het middaguur de definitieve selectie bekend voor de laatste twee WK-kwalificatieduels van het Nederlands elftal. Zitten de geroutineerde spitsen Robin van Persie en Klaas-Jan Huntelaar erbij? We weten het na de persconferentie, die vanaf 12.00 uur live te volgen is via NOS.nl en onze Facebook-pagina.</p><p>Oranje speelt op zaterdag 7 oktober een uitwedstrijd tegen Wit-Rusland en ontvangt drie dagen later Zweden in Amsterdam. Nederland moet beide wedstrijden winnen om uitzicht te houden op het WK in Rusland, dus de term 'cruciaal' is dit keer zeker op zijn plaats.</p><h2>Twentse derby</h2><p>Maar voor het zover is, krijgen we de komende dagen de zevende speelronde van de eredivisie voor onze kiezen. Vanavond wordt er afgetrapt met de Twentse derby tussen FC Twente en Heracles Almelo. De wedstrijd in Enschede leverde de afgelopen jaren vaak een zege voor Twente op, maar dit seizoen wil het nog niet zo vlotten met de ploeg van René Hake.</p><p>Vanaf 22.25 uur is in Eredivisie op Vrijdag op NPO 1 een samenvatting te zien van het altijd beladen streekduel, inclusief reacties, analyses en een vooruitblik op de wedstrijden van komend weekeinde. In Langs de Lijn En Omstreken zijn 's avonds flitsen te horen van Twente-Heracles.</p><h2>Meer dan voetbal</h2><p>Maar er is natuurlijk meer dan voetbal. Zo is er vandaag ook onder meer aandacht voor de eerste wereldbekerwedstrijden van de shorttrackers in Boedapest, de WK roeien in Florida en de vrije trainingen van Max Verstappen en zijn collega-coureurs voor de Grote Prijs van Maleisië.</p><h2>Uitzendingen vrijdag 29 september</h2><table><thead><tr><td></td><td></td><td></td></tr></thead><tbody><tr><td>12.00 uur</td><td>Persconferentie Dick Advocaat</td><td>NOS.nl</td></tr><tr><td>13.10 uur</td><td>Lunchjournaal</td><td>NPO 1</td></tr><tr><td>18.45 uur</td><td>Sportjournaal</td><td>NPO 1 en NOS.nl</td></tr><tr><td>20.30 uur</td><td>Langs de Lijn En Omstreken</td><td>NPO Radio 1</td></tr><tr><td>22.25 uur</td><td>Eredivisie op Vrijdag</td><td>NPO 1 en NOS.nl</td></tr><tr><td>22.40 uur</td><td>Nieuwsuur</td><td>NPO 2</td></tr></tbody></table>",
         "2017",
         "0.37639943",
         "False",
         "True",
         "True",
         "negatief",
         "-0.999900221824646",
         "Zeer negatief",
         "2017-09-29 06:32:16",
         "2017-09",
         "7.403168",
         "1.3117715"
        ],
        [
         "16",
         "nos",
         "https://nos.nl/artikel/2382438-resten-van-oerbos-en-nederzetting-gevonden-bij-tricht",
         "article",
         "Resten van oerbos en nederzetting gevonden bij Tricht",
         "oerbos, nederzetting, Betuwe, tricht",
         "Regionaal nieuws",
         "De onderzoekers vonden ook eeuwenoude resten van palen, een huisplattegrond en een bijl.",
         "2021-05-26 19:42:16",
         "2021-05-26 19:42:16",
         "https://cdn.nos.nl/image/2021/05/26/746572/1024x576a.jpg",
         "<h1>Resten van oerbos en nederzetting gevonden bij Tricht</h1><p>Archeologen hebben bij het Gelderse Tricht enkele bijzondere vondsten gedaan: ze stuitten op resten van een oerbos en een zeldzaam nederzettingsterrein uit 2850-2000 voor Christus.</p><p>De vondsten werden gedaan tijdens de aanleg van een nieuwe weg. De onderzoekers vonden ook eeuwenoude resten van palen, een huisplattegrond en een geslepen natuurstenen bijl, schrijft Omroep Gelderland.</p><p>Of bewoners er in die tijd vast woonden, is niet duidelijk. De nederzetting kan ook tijdelijk gebruikt zijn door rondtrekkende volkeren. \"Wel weten we dat men er vuurstenen bewerkte, haardkuilen gebruikte en er runderen hield. Ook vonden we afvalkuilen\", zegt onderzoeker Jantien Verduin in een verklaring.</p><h2>Oerbos</h2><p>Onder de nederzetting vonden archeologen ook nog boomstronken en een overstroomd elzenbroekbos. Het stamhout en wortelhout uit het moerassige bos waren erg goed geconserveerd omdat de plek later werd bedekt door een overstroming met rivierklei uit de Linge. De onderzoekers hebben vast kunnen stellen dat het gaat om een oerbos uit de periode 4200-2850 voor Christus.</p><p>De vondsten zijn volgens de gemeente West Betuwe zeldzaam. \"Vindplaatsen uit deze tijd zijn moeilijk op te sporen, omdat er maar korte tijd bewoning is geweest. De bewoners lieten daardoor niet veel sporen achter', schrijft de gemeente.</p>",
         "2021",
         "0.4324416",
         "False",
         "True",
         "True",
         "negatief",
         "-0.9999855756759644",
         "Zeer negatief",
         "2021-05-26 19:42:16",
         "2021-05",
         "10.384821",
         "0.8294563"
        ],
        [
         "17",
         "nos",
         "https://nos.nl/artikel/2337494-d66-en-christenunie-geven-kabinet-meer-tijd-voor-afbouw-biomassa",
         "article",
         "D66 en ChristenUnie geven kabinet meer tijd voor afbouw biomassa",
         "subsidie, ChristenUnie, biomasssa",
         "Politiek",
         "De regeringspartijen zeiden vorige week nog dat er per direct geen subsidie meer moest gaan naar initiatieven om met het verbranden van hout energie op te wekken.",
         "2020-06-16 20:47:09",
         "2020-06-16 20:47:09",
         "https://cdn.nos.nl/image/2020/06/09/654899/1024x576a.jpg",
         "<h1>D66 en ChristenUnie geven kabinet meer tijd voor afbouw biomassa</h1><p>D66 en ChristenUnie geven het kabinet meer tijd om te stoppen met subsidies voor biomassacentrales. Vorige week pleitten de regeringspartijen nog voor het direct ophouden met het ondersteunen van het verbranden van hout voor het opwekken van elektriciteit. Maar volgens het kabinet zijn de klimaatdoelen voorlopig niet haalbaar zonder biomassa.</p><p>Met het pleidooi van D66 en ChristenUnie was er vorige week een meerderheid in de Tweede Kamer voor het stoppen met het toekennen van nieuwe subsidies. Maar in het debat in de Tweede Kamer zei minister Wiebes dat hij voorlopig wil vasthouden aan biomassa. Overleg in de coalitie heeft de partijen ertoe bewogen hun motie voorlopig aan te houden en dus niet in stemming te brengen.</p><h2>'Slappe knieën'</h2><p>Volgens linkse oppositiepartijen hebben D66 en ChristenUnie last van slappe knieën. Kamerlid Tom van der Lee van GroenLinks diende een vergelijkbare motie in, maar die werd afgewezen door de twee regeringspartijen. \"Het lijkt vooral een actie voor de bühne te zijn geweest. Het leek alsof D66 en ChristenUnie het aandurfden. Maar als het puntje bij paaltje komt, durven ze het niet aan\", aldus Van der Lee.</p><p>Er is veel discussie over biomassa. Critici vinden die manier van energieopwekking niet duurzaam. Door het kappen van bossen gaat er biodiversiteit verloren en verarmt de bodem. Ook komt er stikstof vrij en dat is slecht voor de natuur. Kamerlid Carla Dik-Faber van de ChristenUnie sprak vorige week van \"een subsidie op vuurtje stoken.\"</p><p>Nu zegt ze: \"Soms is het effectiever om een motie nog even boven de markt te laten hangen, dan hem in stemming te brengen. De minister weet heel goed wat wij willen: nieuwe subsidies voor biomassa zo snel mogelijk afbouwen naar 0. De minister heeft aangegeven daarmee aan de slag te willen gaan en op heel korte termijn met ons te overleggen over de uitvoering. Het gesprek met hem daarover ga ik graag aan.\"</p><p>Er zijn plannen voor het realiseren van honderden nieuwe biomassacentrales. Een deel daarvan kan nog gebouwd worden, omdat de subsidie al is toegekend.</p><h2>Actie van de minister</h2><p>D66'er Mattijs Sienot zegt nog altijd zo snel mogelijk te willen stoppen met biomassa voor elektriciteit. \"We verwachten actie van de minister. Hij moet zo spoedig mogelijk komen met een plan voor een subsidiestop op biomassa. Dus houden we onze motie nu even aan. Dan hebben we straks niet alleen een aangenomen motie, maar ook echt een plan om zo snel mogelijk te stoppen met nieuwe subsidies voor biomassa.\"</p><p>Maar GroenLinkser Van der Lee noemt dat een excuus om te verhullen dat ze zijn teruggefloten door CDA en VVD. \"Ik vind het heel teleurstellend.\"</p>",
         "2020",
         "0.36214995",
         "False",
         "True",
         "True",
         "negatief",
         "-0.9583357572555542",
         "Zeer negatief",
         "2020-06-16 20:47:09",
         "2020-06",
         "12.419356",
         "2.1358898"
        ],
        [
         "18",
         "nos",
         "https://nos.nl/l/2549665",
         "article",
         "Zeearend na 250 jaar officieel nationale vogel van de Verenigde Staten",
         "zeearend, vogel, symbool, VS, Verenigde Staten",
         "Buitenland",
         "Het nationale symbool was nooit bij wet vastgelegd.",
         "2024-12-26 13:13:06",
         "2024-12-26 13:13:06",
         "https://cdn.nos.nl/image/2024/12/26/1173280/1024x576a.jpg",
         "<h1>Zeearend na 250 jaar officieel nationale vogel van de Verenigde Staten</h1><p>De Amerikaanse zeerarend is nu ook officieel de nationale vogel van de Verenigde Staten. President Biden heeft daarvoor deze kerst een wet ondertekend.</p><p>De vogel was al 250 jaar het symbool voor The land of the free and the home of the brave, maar dat was al die tijd niet officieel vastgelegd.</p><p>Na de Onafhankelijkheidsoorlog van 1776 verscheen de Amerikaanse arend (of adelaar) op de koperen en zilveren munten van de Verenigde Staten. Het kersverse Congres deed er vervolgens zes jaar over om het eens te worden over de arend als wapenembleem. Founding Father Benjamin Franklin zag er niks in: \"Het is een vogel met een slecht karakter\". Franklin gaf de voorkeur aan een voor hem respectabeler vogel: de wilde kalkoen.</p><p>Het werd toch de zeearend die verscheen op het presidentiële zegel, met een olijftak in de ene klauw en pijlen in de andere. Arenden symboliseren al eeuwenlang kracht, vrijheid en moed en zijn in tal van landen terug te vinden als wapenembleem.</p><p>Jack Davis, de vicevoorzitter van het National Eagle Center: \"Voor bijna 250 jaar hebben we de zeearend een nationale vogel genoemd, terwijl hij dat niet was. Maar nu is de titel officieel. De vogel verdient niets minder\".</p><p>Het nationale symbool werd in de vorige eeuw bedreigd met uitsterven doordat boeren, vissers en jagers de vogel geregeld afschoten. Ze gebruikten toen bestrijdingsmiddelen die de eieren van de arend onvruchtbaar maakten. Daarop werd in 1940 The National Emblem Act van kracht. De zeearend werd een beschermde diersoort en het werd verboden om het dier te verkopen of af te schieten.</p><p>Waren er in de jaren zestig nog 400 zeearendkoppels (de dieren blijven net als de zwaan hun leven lang samen), tegenwoordig zijn er 71.000 stellen, en ruim 300.000 individuele zeearenden in Noord-Amerika.</p><h2>Andere wetten</h2><p>President Biden ondertekende vlak voor het eind van het jaar en zijn termijn als president nog tientallen wetten. Zo is er nu een federale Anti-ontgroeningswet. Daarmee is het voor studentenverenigingen in de VS verplicht om misstanden, zoals geweld of misbruik, bij een ontgroening te melden.</p>",
         "2024",
         "0.3608427",
         "False",
         "True",
         "True",
         "negatief",
         "-0.9661155343055725",
         "Zeer negatief",
         "2024-12-26 13:13:06",
         "2024-12",
         "10.372919",
         "0.32957792"
        ],
        [
         "19",
         "nos",
         "https://nos.nl/artikel/2498077-israel-ziet-sporen-van-hamas-bij-uitkammen-ziekenhuis-wat-bewijzen-de-beelden",
         "article",
         "Israël ziet sporen van Hamas bij uitkammen ziekenhuis, wat bewijzen de beelden? ",
         "ziekenhuis, Israël, Gaza, Al-Shifa",
         "Buitenland",
         "Volgens het Israëlisch leger bewijzen de vondsten \"zonder twijfel\" dat Hamas de ziekenhuizen gebruikt, maar volgens experts en Israëlische media is het bewijs nog wat mager.",
         "2023-11-16 19:55:40",
         "2023-11-16 19:55:40",
         "https://cdn.nos.nl/image/2023/11/16/1026654/1024x576a.jpg",
         "<h1>Israël ziet sporen van Hamas bij uitkammen ziekenhuis, wat bewijzen de beelden? </h1><p>Het is de afgelopen weken in het middelpunt komen te staan van de oorlog tussen Israël en Hamas: het al-Shifa-ziekenhuis in Gaza-Stad. Volgens Israël fungeert het als een belangrijk commandocentrum en is het misschien wel het \"kloppend hart\" van de terreurgroep. Gisterochtend viel het leger het ziekenhuis binnen en gaf het beelden vrij van wat volgens Israël een Hamas-commandocentrum is. Wat zeggen de tot nu toe vrijgegeven beelden, welke conclusies zijn eraan te verbinden en welke niet?</p><p>\"Enkele dingen die we gevonden hebben, bewijzen volledig en zonder twijfel dat Hamas systematisch ziekenhuizen gebruikt voor zijn militaire operaties\", zegt een legerwoordvoerder vanuit de kelder van het al-Shifa-ziekenhuis in een video die verspreid werd op X. Wat hij laat zien zijn afgerukte of afgeplakte camera's, vijftien wapens en patroonhouders, handgranaten, uniformstukken, telefoons en wat computers.</p><p>דובר צה״ל דניאל הגרי - Daniel Hagari:</p><blockquote id=\"tweet\"><p>@IDFSpokesperson</p><p>האמצעים הטכנולוגיים והמידע המודיעיני הרב שאותר הועברו לבדיקה ומיצוי של הגורמים הרלוונטים. צה״ל ממשיך לפעול במרחב בית החולים תוך מיצוי מידע מודיעיני, והמנעות מפגיעה בצוותים הרפואים והחוסים. דובר צה\"ל לתקשורת הבינלאומית, סא\"ל (מיל') יהונתן קונריקוס בתיעוד מתוך בית החולים: https://t.co/siaSmHMr5X</p><p>19:26</p><p>15 november 2023</p></blockquote><p>Het Israëlische leger benadrukt dat de doorzoeking van het ziekenhuis nog in volle gang is en dat de gevonden ruimtes en het gevonden materieel \"slechts het topje van de ijsberg\" vormen. Eerder vandaag meldde het Israëlische leger meer bevindingen te hebben gedaan die zouden wijzen op \"significante infrastructuur\" onder het ziekenhuis, zonder concrete bewijzen te publiceren.</p><p>De VS zei eerder al te beschikken over eigen inlichtingen die bewijzen dat Hamas het ziekenhuis gebruikt als basis. En vandaag herhaalde Witte Huis-woordvoerder John Kirby die claim.</p><p>Voor Israël was de claim dat Hamas vanuit het ziekenhuis opereert de voorbije weken het argument om aanvallen in het gebied rond het ziekenhuis te rechtvaardigen. De duizenden patiënten en het ziekenhuispersoneel, zo klonk het, werden door Hamas als menselijk schild ingezet.</p><p>Hamas ontkent en bleef daarbij, ook nadat Israël de eerste beelden had verspreid. Israël zou verhalen verzinnen om de werkelijkheid te verdraaien. Ook de Palestijnse Autoriteit op de Westelijke Jordaanoever schreef in een verklaring \"dat het Israëlische leger in het ziekenhuis is en niemand weet wat ze doen of welke wapens ze hebben meegenomen om te kunnen beweren dat ze die in het complex hebben gevonden\".</p><h2>Israëlische media</h2><p>Ook in Israël zijn er voorzichtige reacties. De krant The Jerusalem Post is niet overtuigd door de beelden. Volgens het artikel toonde het leger een veel zwakker bewijs voor de aanwezigheid van Hamas dan verwacht. Die verwachtingen waren hooggespannen, omdat de legertop al sinds 2014 beweert dat Hamas zich in tunnels onder het al-Shifa-ziekenhuis verschuilt.</p><p>De krant vraagt zich af waar die Hamas-strijders dan zijn gebleven en waarom er geen spoor van de gijzelaars is gevonden of van zwaardere wapens, die Hamas ook heeft. Of is Hamas het leger te slim af geweest door de boel schoon te vegen voordat het zich terugtrok, vraagt de auteur zich af. En zo ja, waarom heeft het leger dat niet voorkomen? Soortgelijke beelden uit het al-Rantisi-kinderziekenhuis eerder deze week zijn volgens de krant evenmin overtuigend.</p><p>The Jerusalem Post wijst er tegelijkertijd op dat het leger mogelijk nog niet tot in de diepst gelegen delen van het ziekenhuis is doorgedrongen, \"waar zich naar wordt aangenomen het hoofdcommandocentrum van Hamas bevindt\".</p><p>Datzelfde wordt ook benadrukt door het Israëlische leger. Tegen de BBC zegt een woordvoerder dat het \"nog weken\" kan duren voordat is blootgelegd wat Hamas allemaal schuilhoudt in het grootschalige complex. \"We hebben nog lang niet alles doorzocht, bij lange na niet.\"</p><h2>Computerhok</h2><p>Oud-Commandant Landstrijdkrachten Mart de Kruif is voorzichtig met een oordeel over de beelden die het Israëlische leger heeft vrijgegeven. \"Wat we op de beelden zien lijkt op een commandocentrum, maar wat we zien kan niet onafhankelijk geverifieerd worden. Alle informatie komt uit één bron, dus daar moet je voorzichtig mee zijn.\"</p><p>\"Een commandocentrum hoeft in principe niet uit meer te bestaan dan computers, beeldschermen en kabeltjes\", zegt hij. Dat er voor zover bekend nog geen zwaardere wapens of duidelijke sporen van gijzelaars gevonden zijn, betekent volgens de voormalig commandant dus niet dat het niet om een commandocentrum gaat. \"Zo'n centrum kan er gewoon uitzien als een gemiddeld computerhok.\"</p><h2>'Bewijs wat mager'</h2><p>De Zweedse terrorismedeskundige en Hamas-expert Magnus Ranstorp vindt het bewijs in de video nog wat mager. \"We moeten meer zien om alle twijfel weg te nemen. Als het echt zo'n belangrijke commandopost is, verwacht je dat er meer bewijs naar buiten komt.\"</p><p>\"Het leger liet alleen een klein aantal wapens en rugtassen zien. Je verwacht toch dat er wapenopslagen of meer communicatiemateriaal is\", stelt Ranstorp. Volgens hem zou het voor Israël het beste zijn als ze tunnels zouden vinden. \"Die graaf je niet zomaar in een dag of twee. Dat neemt de achterdocht dat ze de wapens zelf hebben geplaatst weg.\"</p><p>Als er niet meer bewijs zou komen, is dat volgens Ranstorp geen goed nieuws voor Israël. \"Dan kunnen tegenstanders blijven zeggen dat ze de wapens zelf geplaatst hebben.\" Tegelijk wijst Ranstorp er, net als Israël, op dat het leger nog maar een klein deel van het ziekenhuis onderzocht heeft. \"Over een paar dagen wordt het hele plaatje pas duidelijk.\"</p><h2>Mensenrechtenorganisaties</h2><p>Human Rights Watch reageerde vanmiddag op de beelden. Volgens de mensenrechtenorganisatie heeft het Israëlische leger tot zover niet genoeg bewijs geleverd \"om de beschermde status van het ziekenhuis op te heffen\". Volgens internationaal oorlogsrecht zijn ziekenhuizen beschermd, maar kan die status vervallen als ziekenhuizen voor militaire doeleinden worden gebruikt.</p><p>Dat Hamas eerder in het al-Shifa-ziekenhuis actief is geweest staat overigens vast, ook volgens verschillende mensenrechtenorganisaties. In 2014 schreef Amnesty International een beschuldigend rapport , waarin staat dat Hamas vermeende collaborateurs vasthield, martelde en vermoordde in afgelegen kamers van het ziekenhuis.</p>",
         "2023",
         "0.36082947",
         "False",
         "True",
         "True",
         "negatief",
         "-0.99998939037323",
         "Zeer negatief",
         "2023-11-16 19:55:40",
         "2023-11",
         "11.205482",
         "-0.32543388"
        ],
        [
         "20",
         "nos",
         "https://nos.nl/collectie/13906/artikel/2435205-zorgen-om-oranjevrouwen-vlak-voor-start-ek-wordt-een-race-tegen-de-klok",
         "article",
         "Zorgen om Oranjevrouwen vlak voor start EK: 'Wordt een race tegen de klok'",
         "Oranje Leeuwinnen, vrouwenvoetbal, voetbal, Leonne Stentler",
         "Voetbal",
         "Nederland is titelverdediger bij het EK voetbal dat woensdag begint, maar presenteert zichzelf als underdog. De topvorm is dan ook nog ver weg, ziet analyticus Leonne Stentler.",
         "2022-07-04 06:21:30",
         "2022-07-04 06:21:30",
         "https://cdn.nos.nl/image/2022/07/04/875282/1024x576a.jpg",
         "<h1>Zorgen om Oranjevrouwen vlak voor start EK: 'Wordt een race tegen de klok'</h1><p>De Oranjevrouwen hebben \"nog niet de juiste flow en het ontbreekt aan vertrouwen en patronen\". Dat is de zorgelijke conclusie van NOS-voetbalanalyticus Leonne Stentler, een week voor de eerste wedstrijd van Nederland op het EK voetbal tegen Zweden.</p><p>Nederland is titelverdediger, maar lijkt zichzelf voor de wedstrijd van zaterdag tegen Zweden in de underdogrol te manoeuvreren. Dat is opmerkelijk, omdat de basiself nog vrijwel hetzelfde is als bij de Olympische Spelen, waar Nederland goed partij bood tegen topland VS.</p><p>Volgens Stentler zoeken de speelsters bewust de underdogrol: \"Ik zie al lange tijd dat speelsters weifelend zijn in interviews. Ze gebruiken vaak het woord proces.\" Het lijkt nog niet helemaal te lopen onder de nieuwe bondscoach Mark Parsons. \"Toen ze hem een cijfer moesten geven een tijdje terug, kreeg hij vaak een zesje. Heel typerend.\"</p><p>Dat de Oranjespeelsters zichzelf niet als favoriet bestempelen, is wel te begrijpen, zegt Stentler. \"Het is stroef. De nieuwe speelstijl gaat nog niet altijd zoals het moet, de selectie is vernieuwd. Dus het wordt een race tegen de klok.\" Stentler zegt dat andere landen duidelijk verder zijn in hun ontwikkeling.</p><p>Het EK voetbal voor vrouwen wordt van 6 juli tot en met 31 juli gespeeld in Engeland. Alle wedstrijden worden door de NOS live uitgezonden op tv en online.</p><p>Toch is er ook hoop. Nieuwelingen als Damaris Egurrola en Victoria Pelova blijken echte aanwinsten en de topspeelsters zijn fit. Danielle van de Donk speelt weer en ook Vivianne Miedema is weer wedstrijdfit. Die laatste nam Oranje afgelopen zaterdag bij de hand in de 'uitzwaaiwedstrijd' tegen Finland. Ze scoorde twee keer en staat nu op 94 interlandgoals.</p><p>Het is belangrijk dat ze mee kan doen. \"Miedema heeft zo veel records verbroken en is nog zo jong. Ik ben het er wel mee eens dat ze de beste spits van de wereld is\", zegt Stentler.</p><h2>Groepswinst</h2><p>Stentler hoopt dan ook dat de topspeelsters het team op sleeptouw kunnen nemen. Ze denkt overigens wel dat Nederland de tijd krijgt om in het toernooi te groeien. Zweden is een sterke tegenstander, die net als Nederland voor groepswinst gaat. Maar de andere landen in de poule, Zwitserland en Portugal, mogen geen probleem zijn.</p><p>De Zweedse recordinternational Caroline Seger blikt vooruit op het EK voetbal in Engeland.</p><p>Zweden was finalist bij de Olympische Spelen in Tokio en is dus een van de sterke landen. Maar topfavoriet is, gesteund door het thuispubliek, Engeland. Die ploeg staat onder leiding van Sarina Wiegman, de vorige bondscoach van Nederland.</p><p>\"Ze zijn de thuisploeg en hebben een brede selectie met veel klasse. En een bondscoach die weet hoe het moet\", zegt Stentler. Wel zal de Engelse ploeg om moeten gaan met enorme druk. De stadions in Engeland zijn uitverkocht en de verwachtingen hoog.</p><p>Engeland speelt woensdag de openingswedstrijd van het EK tegen Oostenrijk.</p><p>Favoriet Engeland staat onder leiding van de Nederlandse coach Sarina Wiegman. Ze geeft een inkijkje bij de thuisfavoriet.</p><p>EK voetbal</p>",
         "2022",
         "0.30333057",
         "False",
         "True",
         "True",
         "negatief",
         "-0.9999281167984009",
         "Zeer negatief",
         "2022-07-04 06:21:30",
         "2022-07",
         "6.7803693",
         "0.5551018"
        ],
        [
         "21",
         "nos",
         "https://nos.nl/artikel/2122905-de-morgen-over-racisme-de-grens-is-overschreden",
         "article",
         "De Morgen over racisme: de grens is overschreden",
         "De Morgen, Ramzi Mohammed Kaddouri, racisme, België",
         "Buitenland",
         "Op de zwarte voorpagina van het Vlaamse dagblad staan reacties geprint op de dood van een Belgisch Marokkaanse tiener die afgelopen weekend verongelukte met een quad. ",
         "2016-08-03 13:07:28",
         "2016-08-03 13:07:28",
         "https://cdn.nos.nl/image/2016/08/03/304578/1200x675.jpg",
         "<h1>De Morgen over racisme: de grens is overschreden</h1><p>De dood van de 15-jarige Ramzi Mohammad Kaddouri is het gesprek van de dag in België. De Vlaming van Marokkaanse afkomst kwam afgelopen weekend om het leven bij een ongeluk met een quad terwijl hij op vakantie was in Marokko.</p><p>Een extreemrechtse groepering (de Vlaamse Verdedigings Liga) deelde een nieuwsbericht over zijn dood op Facebook en niet veel later regende het extreem haatdragende en racistische reacties.</p><p>In de Belgische politiek is met afschuw gereageerd op de uitlatingen op de sociale media. \"Deze mensen moeten geholpen worden, maar kunnen of willen dat wellicht niet\", zegt mediaminister Sven Gatz. De Vlaamse minister-president Geert Bourgeois laat weten dat er nog hard moet worden gewerkt om de verdeeldheid in de samenleving tegen te gaan. De staatssecretaris voor Asiel en Migratie noemt de mensen die de racistische reacties hebben achtergelaten, mongolen.</p><p>Het dagblad De Morgen vond ontzetting en verontwaardiging niet ver genoeg gaan en besloot zijn hele voorpagina te besteden aan het haatdragende commentaar. \"Racisme zonder schaamte\", valt te lezen.</p><h2>Bijzonder grof</h2><p>Onder de kop staan enkele reacties op de dood van Ramzi die op sociale media werden gepost. Chef nieuws Koen Vidal legt de keuze voor de opmerkelijke voorpagina uit. \"Deze jongen is onder dramatische omstandigheden verongelukt. De reacties daarop waren toch wel bijzonder grof. We hadden het gevoel dat er een rode lijn was overschreden.\"</p><p>Vervolgens dacht de redactie na over hoe ze het nieuws ging brengen. De Morgen wilde op een korte en feitelijke manier brengen wat er aan de hand was en dus aangeven dat er een grens was overschreden. \"Het centrum voor gelijke kansen, Unia, kwam gisteren met een verklaring dat er nog nooit zoveel haatpraat circuleerde als de laatste maanden. Die uitspraak heeft meegespeeld in de overweging voor deze voorpagina.\"</p><p>De Morgen:</p><blockquote id=\"tweet\"><p>@demorgen</p><p>Racisme zonder schaamte: morgen op de #voorpagina https://t.co/uqYkpJxyKb</p><p>22:58</p><p>2 augustus 2016</p></blockquote><blockquote id=\"quote\"><p>Je voelt dat de gepolariseerde sfeer toeneemt. - Koen Vidal, chef nieuws De Morgen</p></blockquote><p>De citaten op de voorpagina moesten niet op krantenkoppen lijken, legt Vidal uit. \"Het moest duidelijk maken dat het geen standpunten van de krant zijn. We hebben met de citaten willen illustreren wat er gezegd is.\"</p><h2>Positieve reacties</h2><p>De krant heeft veel positieve reacties op de voorpagina gekregen en hoopt met deze voorpagina een steentje bij te dragen aan het debat. \"Je voelt dat de gepolariseerde sfeer toeneemt. Niet alleen in België trouwens.\" </p><p>De chef nieuws merkt dat steeds meer mensen vinden dat woorden niet afdoende zijn. \"Wat betreft Ramzi zitten we nu op dag twee. Vandaag is het de dag na de verontwaardiging over de racistische reacties. Sommige mensen zeggen nu, verontwaardiging is niet genoeg. Er moet concreet beleid komen om een einde aan de polarisatie te maken. Het haatproza is ongezond voor een samenleving. Dus wat doen we eraan?\"</p>",
         "2016",
         "0.382696",
         "False",
         "True",
         "True",
         "negatief",
         "-0.9997579455375671",
         "Zeer negatief",
         "2016-08-03 13:07:28",
         "2016-08",
         "10.727089",
         "-0.47835138"
        ],
        [
         "22",
         "nos",
         "https://nos.nl/artikel/2032911-thuiszorgers-bezorgd-over-kwart-loonverlaging",
         "article",
         "Thuiszorgers bezorgd over kwart loonverlaging",
         null,
         "Binnenland, Economie",
         "Vakbond FNV zegt overspoeld te worden met reacties van bezorgde werknemers van TSN Thuiszorg.",
         "2015-04-28 18:00:02",
         "2015-04-28 18:00:02",
         "https://cdn.nos.nl/image/2015/03/16/141421/14.jpg",
         "<h1>Thuiszorgers bezorgd over kwart loonverlaging</h1><p>Werknemers van TSN Thuiszorg maken zich zorgen over salarisverlagingen die kunnen oplopen tot meer dan 25 procent.</p><p>De afgelopen dagen zijn medewerkers geïnformeerd over de ontslagen en loonverlagingen die TSN vorige week aankondigde. Vakbond FNV zegt overspoeld te worden door reacties van bezorgde personeelsleden.</p><h2>4300 werknemers</h2><p>Een woordvoerder van TSN zegt dat van de 4300 medewerkers van wie het salaris omlaag gaat, inderdaad een klein deel er meer dan 25 procent op achteruitgaat. Van 300 mensen gaat het loon 20 procent of meer achteruit. Van hen gaan 130 er 25 procent of meer op achteruit.</p><p>De FNV zegt niet uit te sluiten juridische stappen tegen de loonverlaging te ondernemen. Onlangs wonnen de vakbonden een zaak tegen een loonverlaging bij V&D.</p><h2>Verschillende uurlonen</h2><p>De situatie bij TSN is wel iets anders. In de thuiszorg zijn verschillende niveau's van huishoudelijke hulp: HH1 (schoonmaakwerk) en HH2 (meer verantwoordelijkheid, zoals controleren of de gezondheidssituatie van een klant verandert).</p><p>Voor HH1 geldt een lager uurloon dan voor HH2, maar werknemers die uren maakten op beide niveau's kregen altijd op HH2-niveau uitbetaald. TSN gaat dat nu veranderen. Voor de uren die iemand op HH1-niveau werkt, krijgt diegene voortaan het lagere HH1-uurloon.</p><p>TSN zegt dat de lonen conform de cao zijn. Volgens de FNV is de loonverlaging tijdelijk, omdat in de cao is afgesproken dat in 2016 het loon voor HH1-werk wordt gelijkgetrokken met HH2.</p>",
         "2015",
         "0.2639026",
         "False",
         "False",
         "False",
         "nan",
         null,
         "Onbekend",
         "2015-04-28 18:00:02",
         "2015-04",
         "11.905446",
         "2.4167397"
        ],
        [
         "23",
         "nos",
         "https://nos.nl/artikel/2467473-vier-vragen-en-antwoorden-over-mogelijke-strafhof-zaak-tegen-russen",
         "article",
         "Vier vragen (en antwoorden) over mogelijke strafhof-zaak tegen Russen",
         "Strafhof, Rusland, oorlogsmisdrijven",
         "Buitenland",
         "Het Internationaal Strafhof maakt zich op voor twee strafzaken, voor het eerst sinds de grootschalige invasie van Oekraïne vorig jaar. Maar Poetin zal niet snel voor een rechter verschijnen, concluderen experts.",
         "2023-03-14 20:52:08",
         "2023-03-14 20:52:08",
         "https://cdn.nos.nl/image/2023/03/14/951726/1024x576a.jpg",
         "<h1>Vier vragen (en antwoorden) over mogelijke strafhof-zaak tegen Russen</h1><p>Het Internationaal Strafhof (ICC) lijkt zich op te maken voor twee strafzaken tegen Russische verdachten. Volgens The New York Times en persbureau Reuters onderzoekt de in Den Haag gevestigde instantie de aanvallen op Oekraïense infrastructuur en de deportatie van kinderen die in Russische kampen worden heropgevoed.</p><p>Het zou voor het eerst zijn dat er strafzaken worden geopend vanwege de grootschalige invasie, al wil een woordvoerder nog niet ingaan op het nieuws. Het Kremlin heeft vandaag nogmaals duidelijk gemaakt het Internationaal Strafhof niet te erkennen.</p><p>Een jaar geleden maakte openbaar aanklager Karim Khan bekend onderzoek te doen naar internationale misdrijven in Oekraïne. Waarover het strafhof zich zou buigen was niet direct duidelijk, maar de afgelopen maanden kwamen er signalen dat het onderzoek zich onder meer richtte op de deportatie van duizenden Oekraïense kinderen. \"Kinderen kunnen niet behandeld worden als oorlogsbuit\", zei Khan deze maand bij een bezoek aan Oekraïne.</p><h2>Waar gaan de aanklachten van het ICC over?</h2><p>Onafhankelijke onderzoekers stelden onlangs vast dat minstens 6000 kinderen zijn beland in heropvoedingskampen verspreid door Rusland. Hoeveel van die kinderen daar nog zitten, is niet duidelijk. \"Het zou voor het eerst zijn dat het strafhof een zaak begint vanwege het kidnappen van kinderen\", zegt Iva Vukusic van de Universiteit Utrecht. Zij doet onderzoek naar genocide en oorlogsmisdaden, en werkte eerder voor het Joegoslavië-tribunaal.</p><p>\"De grote vraag zal zijn of de aanklager dit ziet als een vorm van genocide\", aldus Vukusic. \"Deze kinderen worden namelijk meegenomen en heropgevoed, met een andere taal en cultuur.\" Moskou zegt zelf kinderen op te vangen die vanwege de oorlog hun huis moeten ontvluchten.</p><p>Ook zou het strafhof kijken naar de aanvallen op kritieke infrastructuur. Rusland ontkent dat burgers beschoten worden, maar erkent wel dat het Oekraïense energienetwerk een doelwit is. Volgens Human Rights Watch heeft Rusland willekeurig en disproportioneel bewoond gebied gebombardeerd.</p><h2>Hoe pakt het Internationaal Strafhof dit soort aanklachten aan?</h2><p>Het strafhof vervolgt personen die verdacht worden van genocide, misdrijven tegen de menselijkheid, oorlogsmisdrijven of agressie. Het gaat vooral om mensen die een leidinggevende functie hadden, dus politieke leiders of commandanten. Sinds de oprichting in 2002 zijn er 43 arrestatiebevelen uitgevaardigd, slechts vijf daarvan leidden tot een veroordeling. Het betrof in 40 gevallen aanklachten over misdrijven tijdens conflicten in Afrika.</p><p>Als de openbaar aanklager vindt dat er genoeg bewijs is, dan wordt dit eerst voorgelegd aan rechters. Zij moeten dan overgaan tot arrestatiebevelen voor de verdachten, omdat het strafhof niet bij verstek een oordeel uitspreekt. De persoon moet wel belangrijk genoeg zijn - een zaak kost veel geld en is tijdrovend.</p><p>\"Maar het strafhof heeft geen politiediensten om mensen op te sporen en te arresteren\", zegt NIOD-onderzoeker Thijs Bouwknegt. \"Daarom zijn ze afhankelijk van de samenwerking van staten. Dus als het gaat om Russische verdachten, zal Rusland verdachten moeten overdragen.\"</p><h2>Wat gebeurt er verder om misdrijven in Oekraïne vast te leggen?</h2><p>Oekraïne zegt al 70.000 oorlogsmisdrijven te hebben vastgelegd. Dat maakt de rol van het strafhof ook ingewikkelder, stelt Bouwknegt. \"Het ICC is er voor wanneer landen zelf niets willen of kunnen doen. De rechter kan zeggen: waarom moeten we een arrestatiebevel uitvaardigen als Oekraïne er zelf al mee bezig is?\" Dat het hof zich erover buigt, heeft ook te maken met de druk van een vijftigtal landen, waaronder Nederland. Die hebben aangedrongen op onderzoek.</p><p>Tegelijkertijd is het onduidelijk of het strafhof rechtsmacht heeft rond het vraagstuk over het misdrijf van agressie, oftewel dat Rusland Oekraïne zonder gegronde reden is binnengevallen. Dit komt doordat Rusland - en ook veel andere landen zoals de VS - geen lid zijn van het ICC. Daarom is er onder juristen veel discussie of er een apart tribunaal moet komen die deze rechtsmacht wel heeft, zegt Bouwknegt. Dat zou vanuit de VN moeten komen en dan naast het strafhof moeten bestaan. Zo'n tribunaal zou het mandaat kunnen krijgen om bij verstek mensen te veroordelen - wat het ICC nu niet kan.</p><p>Zo werd eerder het Joegoslaviëtribunaal opgericht. Dat boog zich onder meer over de massamoord in Srebrenica. Dit tribunaal kreeg een mandaat van de Veiligheidsraad van de VN. Dat is voor Oekraïne geen optie, omdat Rusland ook lid is van de Veiligheidsraad. Wel zou de Algemene Vergadering van de VN een tribunaal kunnen aanstellen, wat nog niet eerder is gebeurd. De vraag is hoeveel zo'n initiatief zonder steun van de Veiligheidsraad kan bereiken.</p><h2>Gaat Poetin ooit terechtstaan, of andere Russische leiders?</h2><p>Die kans lijkt voorlopig bij het Internationaal Strafhof klein. Aanklachten tegen Russische figuren vanwege de aanval op Oekraïne lijkt vooralsnog een symbolische stap. \"Ze kunnen niemand laten arresteren. Maar ze kunnen een boodschap uitdragen naar de hele wereld\", zegt Vukusic van de Universiteit Utrecht.</p><p>En ook al lijkt een arrestatie van hooggeplaatste Russen nu uitgesloten, dit kan in de toekomst veranderen. Dit bleek eerder ook bij het Joegoslaviëtribunaal. Radovan Karadzic en Ratko Mladic waren vijftien jaar op de vlucht. Niemand dacht dat ze ooit opgepakt zouden worden, maar dat gebeurde uiteindelijk wel. \"Politieke omstandigheden kunnen veranderen\", concludeert Vukusic. \"Het is een lang proces, dat niet een paar maanden, maar vijf of tien jaar, of zelfs langer kan duren.\"</p>",
         "2023",
         "0.2814991",
         "False",
         "True",
         "True",
         "negatief",
         "-0.9586334228515625",
         "Zeer negatief",
         "2023-03-14 20:52:08",
         "2023-03",
         "10.93364",
         "-0.29647598"
        ],
        [
         "24",
         "nos",
         "https://nos.nl/artikel/2090641-grootste-krant-turkije-onder-staatstoezicht-gesteld",
         "article",
         "Grootste krant Turkije onder staatstoezicht gesteld",
         "Zaman, Turkije",
         "Buitenland",
         "Zaman wordt deels gefinancierd door de beweging van de grote rivaal van president Erdogan: Fethullah Gülen. ",
         "2016-03-04 15:51:28",
         "2016-03-04 15:51:28",
         "https://cdn.nos.nl/image/2016/03/04/261802/1200x675.jpg",
         "<h1>Grootste krant Turkije onder staatstoezicht gesteld</h1><p>De rechtbank in Istanbul heeft een bewindvoerder aangesteld bij het Turkse mediaconcern Zaman. Dat komt daardoor de facto onder staatstoezicht te staan.</p><p>Het concern geeft de grootste krant van het land uit, het gelijknamige Zaman. Die krant schrijft geregeld kritisch over de regering.</p><h2>Persbreidel</h2><p>Zaman wordt deels gefinancierd door de beweging van de grote rivaal van president Erdogan, de geestelijke Fethullah Gülen. De Turkse regering zegt dat de Gülen-beweging een terreurorganisatie is. Dat wordt ook als legitimatie gebruikt voor de stappen tegen organisaties die verbonden zijn aan de beweging, zoals Zaman.</p><p>\"De top van de regerende AK-partij voert echt een oorlog tegen de Gülen-beweging\", zegt correspondent Lucas Waagmeester. \"Alle bedrijven en organisaties die eraan gelieerd zijn, moeten het ontgelden.\"</p><p>De Turkse regering spreekt tegen dat er sprake is van een persbreidel. Volgens Ankara hebben de journalisten strafbare feiten gepleegd en moet er daarom worden ingegrepen.</p><p>Lucas Waagmeester:</p><blockquote id=\"tweet\"><p>@NOSWaagmeester</p><p>Daarmee staat de grootste krant van Turkije op het punt de nek om te worden gedraaid. Net als bij andere media gebeurde #Zaman #Turkije</p><p>14:31</p><p>4 maart 2016</p></blockquote><p>In oktober kwam de krant Bugün ook onder staatstoezicht te staan. Officiële reden daarvoor was het financiële beleid van het concern, maar in de praktijk veranderde de inhoudelijke koers van de krant volledig. Bugün was altijd zeer kritisch, maar veranderde binnen 24 uur naar een regeringsgezinde krant. \"Het was een bizarre make-over, de koers wijzigde volledig\", zegt Waagmeester. Intussen bestaat Bugün niet meer.</p><p>De toekomst ziet er volgens Waagmeester dan ook somber uit voor Zaman. \"Het is echt een klap voor het media-landschap in Turkije.\"</p>",
         "2016",
         "0.39194787",
         "False",
         "False",
         "False",
         "nan",
         null,
         "Onbekend",
         "2016-03-04 15:51:28",
         "2016-03",
         "11.121714",
         "0.36088997"
        ],
        [
         "25",
         "nos",
         "https://nos.nl/artikel/2244481-de-voorbereiding-van-feyenoord-is-vooral-de-voorbereiding-van-van-persie",
         "article",
         "De voorbereiding van Feyenoord is vooral de voorbereiding van Van Persie",
         "Jan de Jong",
         "Voetbal",
         "Met zijn enthousiasme op en buiten het veld is de routinier publiekslieveling nummer één. Tot tevredenheid van algemeen directeur Jan de Jong. \"Hij is een voetbalmagneet.\"",
         "2018-08-04 08:19:43",
         "2018-08-04 08:19:43",
         "https://cdn.nos.nl/image/2018/07/20/488006/1200x675.jpg",
         "<h1>De voorbereiding van Feyenoord is vooral de voorbereiding van Van Persie</h1><p>Met voor het eerst de aanvoerdersband van Feyenoord om zijn arm betreedt Robin van Persie vanavond (18.00 uur) het veld in Eindhoven, waar de Rotterdammers met PSV strijden om de Johan Cruijff Schaal.</p><p>De keuze voor Van Persie als aanvoerder is niet meer dan logisch. Eigenlijk is de voorbereiding van Feyenoord dit seizoen vooral de voorbereiding van Robin van Persie geworden...</p><h2>Grote ogen</h2><p>\"Hé jongens, boks?\" Hij genoot misschien nog wel meer dan de allerjongste fans die tijdens de Open Dag voor het eerst in De Kuip waren. De man die een WK-finale speelde en Manchester United naar de landstitel schoot, stond als een pas overgehevelde jeugdspeler met grote ogen alles in zich op te nemen.</p><p>De voorbereidingsweken van Feyenoord wijzen vooral uit dat de club hartstikke blij moet zijn dat Van Persie er nog een jaar aan vast heeft geplakt. Zijn meerwaarde op het veld, maar ook zeker daarbuiten is enorm.</p><p>\"Robin is natuurlijk een geweldig uithangbord\", vertelt algemeen directeur Jan de Jong. \"Het is een mooie jongen met goede teksten, een voetbalmagneet. Dat merken we aan de shirtverkoop, maar ook aan de sponsors.\"</p><blockquote id=\"quote\"><p>Robin heeft alles bereikt wat hij als voetballer wilde bereiken. Dat maakt hem nu zo ontspannen. - Algemeen directeur Jan de Jong over Robin van Persie</p></blockquote><p>Dankzij de inbreng van Van Persie kon Feyenoord bijvoorbeeld het lucratieve oefenduel met Fenerbahçe (3-3) spelen. En of het nou in Istanbul is, op Sportpark Putter Eng in Putten of in de eigen Kuip, overal zie je fans met het rugnummer 32 en de naam van Van Persie achterop.</p><p>Het moeten is er inmiddels wel af bij de 34-jarige topscorer aller tijden van Oranje. Plezier maken, daar draait het nu om bij Van Persie. \"Ik geniet van de kleine dingen. Vrolijke gezichten, daar ben ik altijd wel gevoelig voor. Die positiviteit, dat vind ik leuk\", zei hij tijdens de Open Dag.</p><p>Robin van Persie:</p><blockquote id=\"tweet\"><p>@Persie_Official</p><p>#opendagfeyenoord 👌🏻 https://t.co/vel8buKAqK</p><p>17:59</p><p>19 juli 2018</p></blockquote><p>En als iemand dat is, dan is het wel Van Persie. Sinds zijn terugkeer valt zijn enthousiasme, zijn vrolijkheid en zijn ontspannenheid op. Niets of niemand lijkt hem nog van zijn stuk te kunnen brengen.</p><p>De Jong heeft er wel een verklaring voor. \"Robin heeft alles bereikt wat hij als voetballer wilde bereiken. Hij zegt tegen me dat het nu tijd is om te geven. Dat maakt hem zo ontspannen. En als hij ontspannen is, is het team dat ook.\"</p><p>Van Persie maakte veel minuten in de voorbereiding en oogt fitter dan toen hij een halfjaar geleden terugkeerde in Rotterdam. In de laatste oefenwedstrijd tegen Levante in De Kuip (2-1 winst) blonk hij uit door zijn energie slim te verdelen en zo ongeveer alles wat hij deed, goed te doen.</p><p>Na 77 minuten verliet hij onder luid applaus en gezang het veld voor Dylan Vente. Zijn optredens in de oefencampagne beloven veel, al wil de publiekslieveling zelf daar tijdens de voorbereiding nog weinig van weten.</p><p>\"Ik heb door de jaren heen wel geleerd dat je niet te ver vooruit kunt kijken. Ik wil vooral mensen blij maken\", aldus Van Persie.</p><h2>Mentor</h2><p>De Jong, die sinds november aan het roer staat in de Maasstad, is onder de indruk van de rol van de routinier binnen de spelersgroep. \"Hij is een mentor\", zegt de algemeen directeur.</p><p>\"Wat mij raakte, is dat Robin zei dat de medische staf van Feyenoord de beste is. En hij heeft toch niet bij de minste clubs gespeeld. En daarbij geeft hij de jonge spelers advies en vertelt hij hen dat er geen betere opleiding is dan bij Feyenoord. Dat is voor ons natuurlijk geweldig.\"</p><h2>Uitslagen oefenduels Feyenoord</h2><table> <thead> <tr> <td>Duel</td> <td>Uitslag</td> </tr> </thead> <tbody> <tr> <td>SDC Putten-Feyenoord</td> <td>1-8</td> </tr> <tr> <td>Zeeuws Elftal-Feyenoord</td> <td>0-2</td> </tr> <tr> <td>BSC Young Boys-Feyenoord</td> <td>3-0</td> </tr> <tr> <td>FC Basel-Feyenoord</td> <td>0-5</td> </tr> <tr> <td>Fenerbahçe-Feyenoord </td> <td>3-3</td> </tr> <tr> <td>Feyenoord-Levante</td> <td>2-1</td> </tr> </tbody> </table><aside><p>PSV-Feyenoord is zaterdag vanaf 18.00 uur te volgen via een liveblog op NOS.nl en via een verslag bij Langs de Lijn op Radio NPO 1. Een samenvatting van de wedstrijd is om 23.20 uur te zien in Studio Sport op NPO 1.</p></aside>",
         "2018",
         "0.30495504",
         "False",
         "True",
         "True",
         "negatief",
         "-0.9999451637268066",
         "Zeer negatief",
         "2018-08-04 08:19:43",
         "2018-08",
         "7.208354",
         "2.2615175"
        ],
        [
         "26",
         "nos",
         "https://nos.nl/artikel/2481198-luiten-geeft-ook-bij-britse-masters-in-slotronde-koppositie-uit-handen",
         "article",
         "Luiten geeft ook bij Britse Masters in slotronde koppositie uit handen",
         "Joost Luiten, Britse Masters, Sutton Coldfield",
         "Golf",
         "In Sutton Coldfield eindigt de Nederlandse golfer als achtste. Hij ging als (gedeeld) koploper de laatste ronde in, maar evenals vorige week in München ging het mis.",
         "2023-07-02 20:17:07",
         "2023-07-02 20:17:07",
         "https://cdn.nos.nl/image/2023/07/02/983402/1024x576a.jpg",
         "<h1>Luiten geeft ook bij Britse Masters in slotronde koppositie uit handen</h1><p>Golfer Joost Luiten is bij de Britse Masters in Sutton Coldfield als achtste geëindigd. Hij was na een uitstekende derde ronde als een van de zes leiders aan de afsluitende ronde begonnen. Evenals vorige week in München ging het mis.</p><p>Door drie bogeys (een slag boven het baangemiddelde) tegenover een birdie (een slag onder het gemiddelde) kwam Luiten uit op een totaalscore van +2 en gedeelde achtste plaats.</p><p>Afgelopen weekend in München ging hij als enige koploper de slotdag in, stond hij met enkele holes te gaan nog bovenaan, maar werd hij uiteindelijk tweede.</p><h2>Nieuw-Zeelander wint</h2><p>Luiten was niet de enige die de zege in Sutton Coldfield in rook zag opgaan. Geen van de zes koplopers na drie rondes ging bij de Britse Masters met de eer strijken, al kwam Oliver Wilson nog dichtbij. De Engelsman kwam met -1 uit op -8.</p><p>De score van -8 was twee slagen meer dan Daniel Hillier nodig had. De Nieuw-Zeelander, als nummer 64 aan de slotdag begonnen, maakte het verschil mede door eagles op de vijftiende en de zeventiende hole.</p><p>DP World Tour:</p><blockquote id=\"tweet\"><p>@DPWorldTour</p><p>Welcome to the winner's circle, @_danielhillier 🏆 #BetfredBritishMasters https://t.co/hD0TZxMVsA</p><p>18:45</p><p>2 juli 2023</p></blockquote>",
         "2023",
         "0.26019326",
         "False",
         "True",
         "True",
         "negatief",
         "-0.9989383816719055",
         "Zeer negatief",
         "2023-07-02 20:17:07",
         "2023-07",
         "7.7568874",
         "-0.13830306"
        ],
        [
         "27",
         "nos",
         "https://nos.nl/artikel/2140389-rotterdamse-agent-overreden-en-meegesleurd",
         "article",
         "Rotterdamse agent overreden en meegesleurd",
         "agent, meegesleurd",
         "Binnenland",
         "De bestuurder van een gestolen auto ging ervandoor toen de agent hem wilde aanhouden voor heling.",
         "2016-10-30 01:14:36",
         "2016-10-30 01:14:36",
         "https://cdn.nos.nl/image/2016/10/30/329062/1200x675.jpg",
         "<h1>Rotterdamse agent overreden en meegesleurd</h1><p>In Rotterdam is gisteravond een politieagent gewond geraakt toen hij de bestuurder van een gestolen auto wilde aanhouden. Agenten zagen de auto bij verkeerslichten staan en zetten hun auto ervoor.</p><p>Een van de agenten stapte uit en zei tegen de man dat hij op verdenking van heling was aangehouden. De bestuurder reed daarna enkele meters achteruit. Toen de agent zijn arm door het raam stak om de deur van binnenuit van het slot te halen, reed de man opnieuw achteruit waarbij de agent werd meegesleurd. Zijn voeten kwamen daarbij onder een voorwiel terecht.</p><p>Daarna reed de bestuurder hard vooruit, waardoor de agent opnieuw werd meegesleurd. Tientallen meters verder wist hij zich los te rukken. Hij liep schaafwonden, blauwe plekken en mogelijk gescheurde armspieren op.</p><p>Honderden meters verder ging de bestuurder van de auto er te voet vandoor. Een voorbijganger greep hem vast en droeg hem over aan de politie. De bestuurder wordt nu ook van poging tot doodslag verdacht.</p>",
         "2016",
         "0.30493325",
         "False",
         "False",
         "False",
         "nan",
         null,
         "Onbekend",
         "2016-10-30 01:14:36",
         "2016-10",
         "10.819989",
         "-0.19076508"
        ],
        [
         "28",
         "nos",
         "https://nos.nl/artikel/2233366-akzonobel-neemt-de-leiding-in-nieuw-24-uursrecord",
         "article",
         "AkzoNobel neemt de leiding in nieuw 24-uursrecord",
         "Zeilen",
         "Zeilen",
         "De Nederlandse boot komt in een etmaal tot een afstand van 588,1 zeemijl, omgerekend 1.089 kilometer. Team Brunel is ook sneller dan het oude record en is momenteel tweede.",
         "2018-05-24 18:03:52",
         "2018-05-25 21:17:36",
         "https://cdn.nos.nl/image/2018/05/25/475108/1200x675.jpg",
         "<h1>AkzoNobel neemt de leiding in nieuw 24-uursrecord</h1><p>In de negende etappe van de Volvo Ocean Race heeft Team AkzoNobel de leiding genomen in een nieuw 24-uursrecord. De boot van schipper Simeon Tienpont kwam in een etmaal tot een afstand van ruim 600 zeemijl, omgerekend 1.111 kilometer.</p><p>De omstandigheden om snelheid te maken in de negende etappe, die voert van Newport naar Cardiff, zijn momenteel zo goed dat liefst vijf van de zeven deelnemers sneller zijn geweest dan het oude 24-uursrecord. Dat lag op 550,8 zeemijl en werd in maart 2015 gevestigd door Abu Dhabi Ocean Racing.</p><p>Achter AkzoNobel ligt het Nederlandse Team Brunel momenteel tweede. Ook deze boot was met 582,78 zeemijl sneller dan het oude record.</p><h2>Schade</h2><p>Team Brunel kreeg tijdens de negende etappe te kampen met schade aan het roer. Voor de reparatie moest een bemanningslid tot onder het schuin hangende zeiljacht kruipen. De schade heeft de boot kennelijk niet gehinderd.</p>",
         "2018",
         "0.40499365",
         "False",
         "True",
         "True",
         "negatief",
         "-0.9994974136352539",
         "Zeer negatief",
         "2018-05-24 18:03:52",
         "2018-05",
         "7.3041797",
         "-0.6685836"
        ],
        [
         "29",
         "nos",
         "https://nos.nl/artikel/2185150-supermarkt-in-steenbergen-dagen-dicht-wegens-muizenplaag",
         "article",
         "Supermarkt in Steenbergen dagen dicht wegens muizenplaag",
         "muizenplaag, plaag, muizen",
         "Regionaal nieuws",
         "De winkel wordt leeggehaald zodat een gespecialiseerd bedrijf de muizen kan bestrijden. Waarschijnlijk kan de supermarkt pas maandag weer open.",
         "2017-07-26 18:32:24",
         "2017-07-26 18:32:24",
         "https://cdn.nos.nl/image/2017/07/26/405792/1200x675.jpg",
         "<h1>Supermarkt in Steenbergen dagen dicht wegens muizenplaag</h1><p>Een supermarkt in het Brabantse Steenbergen kampt met een muizenplaag. De Nederlandse Voedsel- en Warenautoriteit (NVWA) heeft het filiaal tijdelijk laten sluiten.</p><p>De winkel wordt nu leeggehaald zodat een gespecialiseerd bedrijf vanavond nog kan beginnen met de bestrijding van de muizen. Producten die door de muizen zijn aangevreten of waarvan het vermoeden bestaat dat ze zijn besmet, worden vernietigd. Naar verwachting kunnen de deuren van het filiaal pas maandag weer open.</p><h2>Gaten en scheuren</h2><p>De Jumbo in Steenbergen heeft al langer last van muizen. Volgens medewerker Donny van der Zwart komen ze via kieren en gaten in de muren naar binnen. \"Die scheuren worden nu allemaal dichtgemaakt\", zegt hij tegen Omroep Brabant.</p><p>De supermarkt heeft zelf al geprobeerd de muizen te bestrijden, maar dat is mislukt. \"Op een gegeven moment hadden we er wel vijftig met een muizenklem gevangen. Daarmee dachten we de plaag onder controle te hebben. Maar dat was dus niet het geval.\" </p><p>Birgit Verhoeven:</p><blockquote id=\"tweet\"><p>@BirgitVerhoeven</p><p>Een container vol spullen die niet meer verkocht gaan worden. 'Hier hebben muizen aan gezeten' https://t.co/74KKA4lAii</p><p>15:34</p><p>26 juli 2017</p></blockquote><p>Gisteren stond de NVWA bij de supermarkt op de stoep. Een klant had de toezichthouder gewaarschuwd. Achter een schap met producten kwamen opnieuw muizen tevoorschijn. Daarop werden zo veel mogelijk medewerkers opgetrommeld om de supermarkt leeg te halen.</p><p>De bestrijding van de dieren gaat de komende dagen door. Pas als er geen muis meer te bekennen is, wordt de supermarkt weer ingericht met nieuwe en verse producten.</p><p>Birgit Verhoeven:</p><blockquote id=\"tweet\"><p>@BirgitVerhoeven</p><p>Muizenplaag! De jumbo in Steenbergen is er dagen zoet mee https://t.co/KRRwCeeEAp</p><p>15:08</p><p>26 juli 2017</p></blockquote>",
         "2017",
         "0.30667084",
         "False",
         "True",
         "True",
         "negatief",
         "-0.9961374402046204",
         "Zeer negatief",
         "2017-07-26 18:32:24",
         "2017-07",
         "11.159683",
         "1.071081"
        ],
        [
         "30",
         "nos",
         "https://nos.nl/artikel/2167354-bruns-kiest-voor-vitesse-en-zegt-utrecht-af",
         "article",
         "Bruns kiest voor Vitesse en zegt Utrecht af",
         "Thomas Bruns",
         "Voetbal",
         "De middenvelder van Heracles Almelo tekent een contract voor vier jaar in Arnhem.",
         "2017-04-09 13:38:37",
         "2017-04-09 14:33:53",
         "https://cdn.nos.nl/image/2017/04/09/368180/1200x675.jpg",
         "<h1>Bruns kiest voor Vitesse en zegt Utrecht af</h1><p>Thomas Bruns verruilt na het seizoen Heracles Almelo voor Vitesse. Hij tekent in Arnhem een vierjarig contract en komt transfervrij over.</p><p>De 25-jarige aanvoerder van de Almeloërs kon ook naar FC Utrecht, maar besloot voor Arnhem te kiezen. \"Vitesse speelt altijd tussen plek vier en zeven. Er staat een goed team dat zo goed als overeind blijft\", laat hij weten aan dagblad Tubantia.</p><h2> Gevoel</h2><p>Afgelopen woensdag speelde Bruns nog met Heracles tegen zijn nieuwe club. Toen zei hij de knoop nog niet te hebben doorgehakt. \"Ik ben er nog niet uit. Ik laat mijn gevoel spreken, dat heb ik de laatste jaren altijd gedaan en dat vind ik het belangrijkste.\"</p><p>Bruns maakte in het seizoen 2010/2011 zijn eredivisiedebuut bij Heracles. \"Ik ben hier zes en een half jaar geweest. Het is een fantastische club, maar ik denk dat het voor mijn ontwikkeling goed is als ik een keer ergens anders naartoe ga.\"</p><p>Bekijk hieronder het hele interview met Bruns, waarin hij vanaf 1.50 ingaat op zijn toekomst.</p>",
         "2017",
         "0.2549696",
         "False",
         "True",
         "True",
         "negatief",
         "-0.9999960660934448",
         "Zeer negatief",
         "2017-04-09 13:38:37",
         "2017-04",
         "7.4949923",
         "1.7357731"
        ],
        [
         "31",
         "nos",
         "https://nos.nl/artikel/2119038-granaat-en-vuurwapens-gevonden-in-woning-satudarah-lid",
         "article",
         "Granaat en vuurwapens gevonden in woning Satudarah-lid",
         "satudarah, Den Bosch",
         "Binnenland",
         "Naast de wapens zijn een halve kilo cocaïne en een aantal drugspillen gevonden.",
         "2016-07-22 11:15:53",
         "2016-07-22 11:15:53",
         "https://cdn.nos.nl/image/2016/07/22/301872/1200x675.jpg",
         "<h1>Granaat en vuurwapens gevonden in woning Satudarah-lid</h1><p>In de woning van een clublid van Satudarah in Den Bosch heeft de politie een handgranaat en twee vuurwapens gevonden. De woning werd doorzocht vanwege een aangifte van mishandeling.</p><p>De 21-jarige bewoner is opgepakt. De man wordt ervan verdacht dat hij afgelopen februari in Tilburg een man in het gezicht heeft geslagen. Hij is bij Satudarah verantwoordelijk voor de veiligheid rond feesten en toertochten.</p><p>Naast de wapens zijn een halve kilo cocaïne en een aantal drugspillen gevonden. Ook de vriendin van de man is aangehouden in verband met de gevonden drugs.</p>",
         "2016",
         "0.35059592",
         "False",
         "True",
         "True",
         "negatief",
         "-0.9960300326347351",
         "Zeer negatief",
         "2016-07-22 11:15:53",
         "2016-07",
         "10.15157",
         "-0.55856216"
        ],
        [
         "32",
         "nos",
         "https://nos.nl/artikel/2284449-brein-achter-aanslag-turkse-grensplaats-in-2013-krijgt-53-keer-levenslang",
         "article",
         "Brein achter aanslag Turkse grensplaats in 2013 krijgt 53 keer levenslang",
         "Turkije",
         "Buitenland",
         "Bij een dubbele bomaanslag in Reyhanli kwamen destijds meer dan vijftig mensen om. De veroordeelde werd in september door de Turkse geheime dienst in Syrië opgepakt. ",
         "2019-05-13 17:22:28",
         "2019-05-13 17:22:28",
         "https://cdn.nos.nl/image/2016/06/19/291966/1200x675.jpg",
         "<h1>Brein achter aanslag Turkse grensplaats in 2013 krijgt 53 keer levenslang</h1><p>Het brein achter de aanslagen in de Turkse grensplaats Reyhanli in 2013 is door een Turkse rechtbank veroordeeld tot 53 keer levenslang. De 34-jarige Turk was verantwoordelijk voor het regelen en transporteren van de explosieven.</p><p>Op 11 mei 2013 ontploften kort na elkaar twee autobommen in Reyhanli, dat ligt in de provincie Hatay aan de Syrische grens. De aanslagen kostten aan 52 mensen het leven. Honderden slachtoffers raakten gewond.</p><p>De 34-jarige Turk werd afgelopen september bij een operatie in Syrië gevangengenomen door de Turkse inlichtingendienst MIT. Hij is nu eenmaal tot levenslang veroordeeld vanwege staatsondermijning en 52 keer voor het doden van 52 mensen.</p><h2>Syrische betrokkenheid</h2><p>De Turkse autoriteiten beschuldigden destijds de Syrische regering van betrokkenheid bij de aanslagen, mogelijk als vergelding voor de steun die Turkije de opstandelingen gaf in de Syrische burgeroorlog. Damascus ontkende dat echter. Volgens het Turkse staatspersbureau Anadolu heeft de veroordeelde echter bekend dat hij opdracht heeft gekregen van de Syrische regering om de aanslag te plegen.</p><p>De dubbele bomaanslag in 2013 in Reyhanli was een van de zwaarste terreurdaden in de Turkse geschiedenis. 22 anderen zijn eerder veroordeeld tot celstraffen voor betrokkenheid.</p>",
         "2019",
         "0.30614686",
         "False",
         "True",
         "True",
         "negatief",
         "-0.9999910593032837",
         "Zeer negatief",
         "2019-05-13 17:22:28",
         "2019-05",
         "10.431807",
         "-0.38503122"
        ],
        [
         "33",
         "nos",
         "https://nos.nl/collectie/13847/artikel/2349101-etappe-21-sprinters-krijgen-kans-voor-fraai-slotakkoord-op-champs-elysees",
         "article",
         "Etappe 21: sprinters krijgen kans voor fraai slotakkoord op Champs-Élysées",
         null,
         "Wielrennen",
         "Traditiegetrouw eindigt de Tour de France op de wereldberoemde boulevard in Parijs. De finish wordt tegen 19.00 uur verwacht.",
         "2020-09-20 08:05:05",
         "2020-09-20 08:05:05",
         "https://cdn.nos.nl/image/2020/09/20/677106/1024x576a.jpg",
         "<h1>Etappe 21: sprinters krijgen kans voor fraai slotakkoord op Champs-Élysées</h1><p>Cees Bol, Sam Bennett en Caleb Ewan. Ze hebben er de Alpen en een klimtijdrit in de Vogezen voor moeten overleven, maar staan op de slotdag van de Ronde van Frankrijk weer in de schijnwerpers.</p><p>Natuurlijk zijn ook alle ogen gericht op aanstaand Tourwinnaar Tadej Pogacar. Maar de Tour van 2020, een editie waarin door de coronacrisis zo veel dingen anders gingen dan normaal, zal gewoon eindigen op de Champs-Élysées. En dus komt het hoogstwaarschijnlijk tot een massasprint.</p><p>Daar gaat Bol voor de eerste ritzege in zijn carrière in de Tour, Bennett voor zijn tweede en Ewan hoopt zijn overwinning op de slotfag van de Tour van vorig jaar te prolongeren. Of kan Wout van Aert zorgen voor een pleister op de wonde bij Jumbo-Visma?</p><p>Bekijk hier de zege van Ewan in 2019 in Parijs:</p><aside><h3>Vanaf 15.45 uur op de site en op tv</h3><p>De slotdag van de Tour is vanaf 15.45 uur te volgen op NPO 1, NOS.nl en in de NOS-app. De rit naar de Champs-Élysées begint om 16.00 uur, de finish wordt tegen 19.00 uur verwacht. Dione de Graaff maakt een extra lange Avondetappe, tot 19.55 uur. Gasten: Danny Nelissen, Theo Bos en Stef Clement.</p><p>Op NOS.nl en in de NOS-app kun je de etappe ook via een liveblog volgen. Om 14.00 uur klinkt op NPO Radio 1 de openingstune van Radio Tour de France, dat tot 20.00 uur duurt.</p></aside><p>De renners stappen tegen 16.00 uur in Mantes-la-Jolie, ten westen van Parijs, op de fiets en rijden dan richting het centrum van de stad. Pogacar en zijn ploeggenoten van UEA-Emirates zullen ongetwijfeld van een glaasje champagne genieten voordat de Champs-Élysées bereikt wordt.</p><p>Het peloton draait rond half zes de wereldberoemde boulevard op om acht ronden later te finishen. Dan zit de Tour de France van 2020 er na 3.470 kilometer op en worden de winnaars gehuldigd op het podium, met de Arc de Triomphe op de achtergrond.</p><p>Bekijk hieronder de laatste vooruitblik van Herman van der Zandt:</p><p>Tour de France</p>",
         "2020",
         "0.3970484",
         "False",
         "True",
         "True",
         "negatief",
         "-0.9999938011169434",
         "Zeer negatief",
         "2020-09-20 08:05:05",
         "2020-09",
         "7.136064",
         "-0.45046332"
        ],
        [
         "34",
         "nos",
         "https://nos.nl/artikel/2166990-steeds-meer-kinderen-naar-de-opvang-nu-boven-de-700-000",
         "article",
         "Steeds meer kinderen naar de opvang: nu boven de 700.000",
         null,
         "Politiek, Economie",
         "Het aantal mensen dat gebruikmaakt van kinderopvang neemt toe. ",
         "2017-04-07 07:00:03",
         "2017-04-07 14:41:54",
         "https://cdn.nos.nl/image/2017/04/07/367268/1200x675.jpg",
         "<h1>Steeds meer kinderen naar de opvang: nu boven de 700.000</h1><p>Steeds meer kinderen maken gebruik van opvang. Volgens cijfers van het ministerie van Sociale Zaken en de Belastingdienst gingen in het vierde kwartaal van vorig jaar 702.000 kinderen naar de kinderopvang. In 2015 waren dat er 639.000 en in 2014 620.000.</p><p>Het overgrote deel bezocht de dag- of buitenschoolse opvang, maar ook gingen kinderen naar een gastouder. Sommige ouders van kinderen maakten gebruik van verschillende vormen van opvang. Kinderen gaan wel minder uren naar de opvang.</p><p>Over het hele jaar gingen er gemiddeld 682.000 kinderen naar de opvang. Dat steeds meer gebruik wordt gemaakt van kinderopvang komt volgens minister Asscher door het aantrekken van de economie en de hogere toeslag.</p><h2>Arbeidsparticipatie </h2><p>Volgens het ministerie werken steeds meer vrouwen en mannen met kinderen. Uit de cijfers over de laatste vijf jaar van het CBS blijkt echter dat de arbeidsparticipatie van ouders vrij constant is.</p><p>In 2016 waren er in totaal een kleine 7500 locaties voor dagopvang en ruim 6600 voor buitenschoolse opvang.</p>",
         "2017",
         "0.37340304",
         "False",
         "False",
         "False",
         "nan",
         null,
         "Onbekend",
         "2017-04-07 07:00:03",
         "2017-04",
         "11.843094",
         "1.5047486"
        ],
        [
         "35",
         "nos",
         "https://nos.nl/artikel/2019418-video-mensen-ontvluchten-in-paniek-metrostation",
         "article",
         "Video: mensen ontvluchten in paniek metrostation",
         "Nørreport",
         "Buitenland",
         "Het moment waarop reizigers ervandoor gaan als de politie de dader van de aanslagen in Kopenhagen op het spoor is.",
         "2015-02-15 11:11:54",
         "2015-02-15 11:11:54",
         "https://cdn.nos.nl/image/2015/02/15/132590/1200x675.jpg",
         "<h1>Video: mensen ontvluchten in paniek metrostation</h1><p>Een reiziger heeft vastgelegd hoe mensen het station van Nørreport ontvluchten, nadat de politie de dader van de aanslagen in Kopenhagen daar op het spoor is gekomen. Even later komt de man door politiekogels om het leven.</p><p>De man zou verantwoordelijk zijn voor een schietpartij op een bijeenkomst over godslastering, gistermiddag. Daarbij viel een dode. Ook zou hij vannacht het vuur hebben geopend op een synagoge. Daarbij kwam een persoon om het leven.</p><p>Bekijk de hele versie van de video.</p>",
         "2015",
         "0.36728454",
         "False",
         "True",
         "True",
         "negatief",
         "-0.9999831914901733",
         "Zeer negatief",
         "2015-02-15 11:11:54",
         "2015-02",
         "10.698748",
         "-0.5977469"
        ],
        [
         "36",
         "nos",
         "https://nos.nl/artikel/2137420-redding-energiebedrijf-delta-weer-stapje-dichterbij",
         "article",
         "Redding energiebedrijf Delta weer stapje dichterbij",
         "borssele",
         "Binnenland, Politiek",
         "De overheid zal garant staan zodat honderden banen behouden blijven en er geld is om kerncentrale Borssele in 2033 te ontmantelen.",
         "2016-10-12 21:47:52",
         "2016-10-12 21:47:52",
         "https://cdn.nos.nl/image/2016/03/05/262017/1200x675.jpg",
         "<h1>Redding energiebedrijf Delta weer stapje dichterbij</h1><p>De redding van het Zeeuwse energiebedrijf Delta, de eigenaar van de kerncentrale in Borssele, lijkt weer een stapje dichterbij. De ministers Dijsselbloem van Financiën en Kamp van Economische Zaken hebben bekendgemaakt dat de overheid verwacht een garantie te kunnen geven aan het bedrijf.</p><p>Hierdoor zouden honderden banen in Zeeland behouden kunnen blijven en is er in 2033 waarschijnlijk voldoende geld om de verouderde kerncentrale te ontmantelen. \"Dat is belangrijk voor ons\", zegt minister Dijsselbloem.</p><h2>Financieel gat</h2><p>De provincie Zeeland en negentien gemeenten in Zeeland en Noord-Brabant zijn de eigenaren van Delta, en daarmee van de kerncentrale. Door de lage stroomprijzen is het bedrijf in problemen gekomen. Ze willen eigenlijk zo snel mogelijk van de kerncentrale af maar verkopen is geen optie.</p><p>In Nederland wil niemand de centrale hebben en verkopen aan een buitenlands bedrijf mag niet, omdat de wet voorschrijft dat de kerncentrale in Nederlandse handen moet blijven. De provincie en gemeenten zijn bang met een financieel gat te blijven zitten.</p>",
         "2016",
         "0.3757105",
         "False",
         "True",
         "True",
         "negatief",
         "-0.999901294708252",
         "Zeer negatief",
         "2016-10-12 21:47:52",
         "2016-10",
         "10.252644",
         "2.377166"
        ],
        [
         "37",
         "nos",
         "https://nos.nl/l/2536334",
         "article",
         "Binnen een dag drie vliegtuigongelukken in Duitsland, drie doden",
         "vliegtuig, crash",
         "Buitenland",
         "De dodelijke slachtoffers vielen bij twee crashes. Bij het derde ongeluk raakten alleen mensen gewond. ",
         "2024-09-08 01:13:26",
         "2024-09-08 07:45:14",
         "https://cdn.nos.nl/image/2024/09/08/1133571/1024x576a.jpg",
         "<h1>Binnen een dag drie vliegtuigongelukken in Duitsland, drie doden</h1><p>In Duitsland zijn gisteren drie mensen om het leven gekomen toen op verschillende plekken drie kleine vliegtuigen neerstortten. Twee vliegtuigjes crashten in de deelstaat Noordrijn-Westfalen, een in Hessen.</p><p>In de buurt van Soest, in Noordrijn-Westfalen, kwamen 's middags twee mensen om toen hun vliegtuigje neerstortte in een weiland. Ooggetuigen verleenden nog eerste hulp, maar dat mocht niet meer baten. Volgens de politie waren de twee slachtoffers bij een pilotenbijeenkomst op het vliegveld geweest.</p><p>Eerder op de dag stortte in de buurt van Bielefeld een propellervliegtuig neer. De 67-jarige piloot overleefde dat niet. Hij was de enige inzittende. Over de oorzaak van het ongeluk is nog niets bekendgemaakt.</p><p>In de deelstaat Hessen raakten in de ochtend twee mensen gewond bij een vliegtuigcrash. Hun toestel kwam niet goed op hoogte en stortte vervolgens neer vlak bij vliegveld Korbach. De twee zijn naar het ziekenhuis gebracht.</p>",
         "2024",
         "0.4162807",
         "False",
         "True",
         "True",
         "negatief",
         "-0.9994567036628723",
         "Zeer negatief",
         "2024-09-08 01:13:26",
         "2024-09",
         "11.083832",
         "-1.0534856"
        ],
        [
         "38",
         "nos",
         "https://nos.nl/artikel/2458457-fc-groningen-staakt-zoektocht-naar-nieuwe-trainer-en-gaat-verder-met-van-der-ree",
         "article",
         "FC Groningen staakt zoektocht naar nieuwe trainer en gaat verder met Van der Ree",
         "voetbal",
         "Voetbal",
         "De 43-jarige coach staat sinds het ontslag van trainer Frank Wormuth in november al voor de groep. ",
         "2023-01-02 12:51:08",
         "2023-01-02 12:51:08",
         "https://cdn.nos.nl/image/2023/01/02/930697/1024x576a.jpg",
         "<h1>FC Groningen staakt zoektocht naar nieuwe trainer en gaat verder met Van der Ree</h1><p>Dennis van der Ree blijft de rest van het seizoen trainer van FC Groningen. De 43-jarige coach stond sinds het ontslag van trainer Frank Wormuth in november al voor de groep.</p><p>Van der Ree is bezig aan zijn eerste seizoen bij de huidige nummer vijftien van de eredivisie. Eerder was de oud-verdediger van onder meer AGOVV assistent bij SC Cambuur en FC Twente.</p><p>Technisch directeur Mark-Jan Fledderus zoekt voorlopig niet verder naar een nieuwe trainer. \"Dennis heeft op ons, de spelersgroep en staf, een uitstekende indruk gemaakt. Wij hebben er daarom voor gekozen hem de rest van dit seizoen het vertrouwen te geven.\"</p>",
         "2023",
         "0.258887",
         "False",
         "True",
         "True",
         "negatief",
         "-0.9944261312484741",
         "Zeer negatief",
         "2023-01-02 12:51:08",
         "2023-01",
         "7.943123",
         "2.0978057"
        ],
        [
         "39",
         "nos",
         "https://nos.nl/artikel/2077460-deel-flatgebouw-drachten-ingestort-na-grote-explosie",
         "article",
         "Deel flatgebouw Drachten ingestort na grote explosie",
         "explosie, omwonenden, flat",
         "Binnenland",
         "Zes van de 37 appartementen in de flat zijn ingestort. Ook in de rest van het gebouw is sprake van instortingsgevaar.",
         "2015-12-28 05:00:24",
         "2015-12-28 05:30:10",
         "https://cdn.nos.nl/image/2015/12/28/243923/1200x675.jpg",
         "<h1>Deel flatgebouw Drachten ingestort na grote explosie</h1><p>In de flat in Drachten waar zondagavond een grote explosie was, zijn zes appartementen ingestort. Ook in de rest van het gebouw is er sprake van instortingsgevaar, zegt de gemeente Smallingerland. De bewoners van het flatgebouw waren vannacht, voor de instorting, al elders ondergebracht.</p><p>Bij de ontploffing werden de voor- en achtergevel van het gebouw weggeblazen. De flat bestaat uit 37 appartementen. Volgens een gemeentewoordvoerder lagen de ingestorte woningen rond het appartement waar de ontploffing was. De straat bij de flat is afgezet en ligt bezaaid met puin en spullen uit de appartementen.</p><p>Het is niet duidelijk hoeveel mensen er precies in de flat wonen. De gemeente zegt dat er negen mensen zijn ondergebracht in een hotel. De overige bewoners overnachten bij familie of vrienden.</p><h2>Oorzaak</h2><p>De flat, die dicht bij het uitgaanscentrum van Drachten ligt, is vier verdiepingen hoog. De ontploffing was in een woning op de begane grond. Na de explosie brak er brand uit in het gebouw. Er werd een slachtoffer met brandwonden naar het ziekenhuis gebracht.</p><p>Over de oorzaak van de explosie is nog niets bekend.</p>",
         "2015",
         "0.27332687",
         "False",
         "True",
         "True",
         "negatief",
         "-0.9998787641525269",
         "Zeer negatief",
         "2015-12-28 05:00:24",
         "2015-12",
         "11.546065",
         "-1.1833901"
        ],
        [
         "40",
         "nos",
         "https://nos.nl/artikel/2169675-franse-overzeese-gebiedsdelen-trappen-verkiezingen-af",
         "article",
         "Franse overzeese gebiedsdelen trappen verkiezingen af ",
         "Frankrijk, presidentsverkiezingen",
         "Buitenland",
         "In Frankrijk zelf worden strenge veiligheidsmaatregelen getroffen voor de stembusgang van morgen.",
         "2017-04-22 21:21:30",
         "2017-04-22 21:21:30",
         "https://cdn.nos.nl/image/2017/04/22/373474/1200x675.jpg",
         "<h1>Franse overzeese gebiedsdelen trappen verkiezingen af </h1><p>Stemgerechtigden in de Franse overzeese gebiedsdelen hebben de aftrap gegeven voor de spannendste presidentsverkiezingen in Frankrijk in lange tijd. Op de eilandengroep St-Pierre et Miquelon voor de Canadese oostkust gingen om 12.00 uur Nederlandse tijd de stemlokalen open, maar in Frans-Polynesië in de Stille Oceaan hadden de kiezers toen allang hun stem uitgebracht.</p><p>In de Caribische regio, onder meer in Frans-Guyana, Guadeloupe en Martinique, kunnen de bewoners de komende uren nog hun keuze maken uit de elf presidentskandidaten. Ook de Franse expats in Noord-, Midden- en Zuid-Amerika komen naar ambassades en consulaten om hun stem uit te brengen.</p><p>Voor het consulaat in het Canadese Montreal stond een twee kilometer lange rij kiezers, die zo'n drie uur moesten wachten voordat ze de kandidaat van hun keuze konden aanstrepen.</p><p>Van de 47 miljoen geregistreerde Franse kiezers wonen er iets minder dan een miljoen in de overzeese gebiedsdelen. Zij moesten vandaag naar de stembus, zodat ze niet beïnvloed zouden worden door de Franse exitpolls, die morgenavond om 20.00 uur bekend worden gemaakt.</p><h2>Waakzaam</h2><p>In Frankrijk zelf werd vandaag geen campagne meer gevoerd. De dag voor de verkiezingen stond volledig in het teken van de strenge veiligheidsmaatregelen die de stembusgang in goede banen moeten leiden. Na de aanslag van donderdag op de Champs-Élysées, waarbij een aanslagpleger een agent doodschoot en twee anderen verwondde, is de waakzaamheid maximaal opgeschroefd.</p><p>Op het Parijse treinstation Gare du Nord brak vanmiddag kortstondig paniek uit, toen een man met een mes de stationshal binnenkwam. Hij werd direct overmeesterd en afgevoerd door agenten, niemand raakte gewond.</p><p>Meer dan 50.000 politieagenten en gendarmes zijn gemobiliseerd om de 70.000 stembureaus te beschermen tegen aanslagen. Verspreid over het hele land patrouilleren nog eens 7000 militairen.</p>",
         "2017",
         "0.3320795",
         "False",
         "True",
         "True",
         "negatief",
         "-0.9981073141098022",
         "Zeer negatief",
         "2017-04-22 21:21:30",
         "2017-04",
         "11.988671",
         "-0.21721284"
        ],
        [
         "41",
         "nos",
         "https://nos.nl/l/2546900",
         "article",
         "Flitspalen nu ook inzetbaar op wegen waar 30 kilometer per uur geldt",
         "flitspalen, maximumsnelheid, Amsterdam, 30 km/u",
         "Binnenland",
         "Na een proef van een half jaar heeft het Openbaar Ministerie (OM) bepaald dat flitspalen vanaf nu ook ingezet kunnen worden op wegen waar 30 kilometer per uur geldt.",
         "2024-12-03 12:56:44",
         "2024-12-03 12:56:44",
         "https://cdn.nos.nl/image/2024/12/03/1164893/1024x576a.jpg",
         "<h1>Flitspalen nu ook inzetbaar op wegen waar 30 kilometer per uur geldt</h1><p>Flitspalen kunnen vanaf nu ook worden ingezet op wegen waar een maximumsnelheid van 30 kilometer uur geldt. Na een proef van een half jaar heeft het Openbaar Ministerie (OM) bepaald dat de flitspalen landelijk kunnen worden gebruikt.</p><p>Tijdens de proef werden in Amsterdam verplaatsbare flitsers ingezet en een aantal vaste flitsers werd ingesteld op 30 kilometer per uur. Volgens het OM heeft dat ertoe geleid dat er minder hard wordt gereden.</p><p>In grote delen van Amsterdam geldt sinds eind vorig jaar een maximumsnelheid van 30 kilometer per uur. Bij zo'n 80 procent van de wegen in de hoofdstad werd de snelheid verlaagd. Na een half jaar bleek uit een analyse dat de gemiddelde snelheid op die wegen was gedaald met vijf procent. Op rechte stukken daalde de snelheid met tien procent.</p><h2>320 boetes per dag</h2><p>Dat de flitspalen hun werk goed deden bleek wel uit cijfers van het Centraal Justitieel Incassobureau. Tijdens de proef werden in drie maanden tijd bijna 40.000 boetes uitgedeeld op 30 kilometerwegen.</p><p>Het aantal snelheidsboetes in Amsterdam steeg door de flitspalenpilot flink. In de eerste vier maanden van het jaar werden er ongeveer 23.000 boetes uitgedeeld. Nadat de proef was begonnen, steeg dit naar bijna 60.000 boetes.</p><p>Het effect op het aantal verkeersongelukken is nog niet bekend, volgend jaar komt daar een evaluatie van.</p><h2>Steeds meer steden</h2><p>Niet alleen in de hoofdstad zullen de flitspalen op 30 kilometer per uur worden ingesteld. Andere steden volgen en verlagen ook op hun wegen de maximumsnelheid.</p><p>Zo kondigde Den Haag vandaag aan de snelheid op 110 wegen in de stad vóór 2030 te willen verlagen naar 30 kilometer per uur. In mei dit jaar volgde Rotterdam al het voorbeeld van de hoofdstad, daar zal de snelheid vanaf 2025 in 115 straten worden verlaagd naar 30 kilometer per uur.</p>",
         "2024",
         "0.3215754",
         "False",
         "True",
         "True",
         "negatief",
         "-0.9999960660934448",
         "Zeer negatief",
         "2024-12-03 12:56:44",
         "2024-12",
         "10.899374",
         "1.5843108"
        ],
        [
         "42",
         "nieuwsuur",
         "https://nos.nl/nieuwsuur/artikel/2102164-wonen-in-amsterdam-straks-alleen-voor-de-rijken",
         "article",
         "Wonen in Amsterdam: straks alleen voor de rijken? ",
         "sociale huur, rijken, gentrification, verhipping",
         "Binnenland",
         "Steeds meer jonge, draagkrachtige huizenkopers vestigen zich in de populaire Amsterdamse stadsdelen. De keerzijde is dat veel huurwoningen worden verkocht en huurders de stad moeten verlaten.",
         "2016-04-29 14:34:46",
         "2016-04-29 14:34:46",
         "https://cdn.nos.nl/image/2016/03/18/265972/1200x675.jpg",
         "<h1>Wonen in Amsterdam: straks alleen voor de rijken? </h1><p>Amsterdam veryupt. Vooral in de oude stadsdelen Oost, Centrum en Oud-West komen steeds meer jonge draagkrachtige huizenkopers.</p><p>Wijken als de Pijp en de Kinkerbuurt, die er twintig jaar geleden vervallen bij lagen, krijgen weer een fleurig aanzien. De middenstand bloeit, restaurants en koffietentjes schieten als paddenstoelen uit de grond.</p><h2>Keerzijde</h2><p>Maar er is ook een keerzijde. Sociale huurwoningen worden door corporaties verkocht en huurders worden gedwongen te verhuizen naar buitenwijken, of steden als Almere, Purmerend en Hoofddorp.</p><p>Ook stijgen de prijzen van koopwoningen enorm. Begin deze maand meldde het NIVM nog dat de overspannen woningmarkt in Amsterdam aan het 'droogkoken' is.</p><p>Sociaal-geografen duiden het sjieker worden van oude stadswijken aan als 'gentrification', letterlijk veradellijking. Grote wereldsteden als New York en Londen kregen er eerder mee te maken.</p><p>In de Britse hoofdstad zijn de huren van woningen in het centrum en omliggende wijken gestegen naar enkele duizenden ponden per maand. Voor de middengroepen zijn ze onbetaalbaar.</p><h2>Gentrification</h2><p>Cody Hochstenbach, sociaal geograaf aan de Universiteit van Amsterdam, onderzocht de ontwikkelingen in Amsterdam en Rotterdam.</p><p>\"De nadelige gevolgen komen disproportioneel terecht bij lage inkomensgroepen. Als je ergens woont en je zit goed, gaat gentrification langs je heen\", vertelt hij. \"Maar mensen die moeten verhuizen omdat ze bijvoorbeeld kinderen krijgen, komen in de knel. Het is lastig om een nieuwe woning te vinden.\"</p><p>Maar niet alle groepen lage inkomens trekken weg. Hochstenbach maakt onderscheid tussen werklozen en werkenden met en zonder perspectief. Voor werkenden met lage inkomens in de dienstensector is de gentrificatie niet ongunstig.</p><p>Een Turkse groenteboer in Amsterdam-Oost krijgt er bijvoorbeeld klanten bij. \"Eerst verkochten wij alleen nog broodnodige spullen, maar ik merk dat onze klantenkring steeds meer uit het hoge segment komt, en meer producten wil\". vertelt hij.</p><blockquote id=\"quote\"><p>Het zorgt voor menging van welvaartsniveaus en etnische afkomst. - Tracy Metz</p></blockquote><p>Publiciste Tracy Metz wijst erop dat Amsterdam nog steeds heel veel sociale huurwoningen telt. Van alle woningen in Amsterdam behoort 57 procent tot de sociale huursector. In de oude wijken West, Zuid, Oost en het centrum is dit aandeel nu wel tot een derde gedaald.</p><p>Maar ze ziet ook de voordelen van de veryupping. \"Het zorgt voor menging van welvaartsniveaus en etnische afkomst. Voorwaarde is wel dat er een overheid is die goed let op de groepen aan de onderkant.\" Belangrijk daarbij is dat er voldoende sociale woningen blijven, benadrukt Metz.</p><aside><p>Amsterdam: huizenprijzen stijgen steeds verder</p></aside><aside><h3>Op bezoek bij de nieuwe buren </h3><p>Journalist Maartje Duin kocht een huis in de verhipte Spaarndammerbuurt. Ze merkte dat veel van haar nieuwe buren niet op haar zaten te wachten, en maakte daar een radiodocumentaire over: De moord-en-brand-buurt.</p></aside>",
         "2016",
         "0.4006766",
         "False",
         "True",
         "True",
         "negatief",
         "-0.9999964237213135",
         "Zeer negatief",
         "2016-04-29 14:34:46",
         "2016-04",
         "11.363314",
         "1.4366696"
        ],
        [
         "43",
         "nos",
         "https://nos.nl/artikel/2173829-arrestaties-na-zwarte-doos-aanvallen-op-pinautomaten",
         "article",
         "Arrestaties na 'zwarte doos-aanvallen' op pinautomaten",
         null,
         "Binnenland, Buitenland",
         "In verschillende landen zijn 27 mensen opgepakt, meldt Europol. Twee arrestaties waren in Nederland.",
         "2017-05-18 15:54:31",
         "2017-05-18 15:54:31",
         "https://cdn.nos.nl/image/2017/05/18/383673/1200x675.jpg",
         "<h1>Arrestaties na 'zwarte doos-aanvallen' op pinautomaten</h1><p>In verschillende Europese landen zijn bij elkaar 27 mensen opgepakt voor het hacken van pinautomaten. Twee arrestaties waren in Nederland, maakte Europol bekend.</p><p>Volgens de Europese politieorganisatie waren de verdachten betrokken bij zogenoemde 'zwarte doos-aanvallen' op pinautomaten. Ze boren of smelten dan een gat in de voorkant van de automaat waarna ze een apparaat (de zwarte doos) aansluiten op de computer van de pinautomaat.</p><p>Met dat apparaat kunnen ze automaten instrueren om alle aanwezige biljetten vrij te geven. Het fenomeen dook voor het eerst op in West-Europa in 2015. Volgens Europol loopt de schade voor banken in de honderdduizenden euro's.</p><p>Naast de twee arrestaties in Nederland zijn er ook mensen opgepakt in Frankrijk, Tsjechië, Estland, Roemenië, Spanje en Noorwegen. Het is niet bekendgemaakt of de verdachten samen een bende vormen of dat ze onafhankelijk van elkaar opereerden.</p>",
         "2017",
         "0.38179988",
         "False",
         "True",
         "True",
         "negatief",
         "-0.9971941709518433",
         "Zeer negatief",
         "2017-05-18 15:54:31",
         "2017-05",
         "10.430837",
         "1.6187679"
        ],
        [
         "44",
         "nos",
         "https://nos.nl/artikel/2223684-overlast-door-jongeren-stembureau-eerder-dicht",
         "article",
         "Overlast door jongeren: stembureau eerder dicht",
         "stembureau",
         "Regionaal nieuws, Binnenland",
         "Groepen jongeren veroorzaakten bij het stembureau op station Heerhugowaard overlast. De gemeente besloot om 18.00 uur het stembureau op slot te doen.",
         "2018-03-21 18:53:20",
         "2018-03-21 20:10:16",
         "https://cdn.nos.nl/image/2018/03/21/461025/1200x675.jpg",
         "<h1>Overlast door jongeren: stembureau eerder dicht</h1><p>Het stembureau bij het treinstation in Heerhugowaard is voortijdig dicht gegaan omdat groepen jongeren overlast veroorzaakten.</p><p>Ze hadden volgens de gemeente op het perron een woordenwisseling gekregen met een man. Toen die het stembureau op het station in vluchtte, werd hij gevolgd door een aantal jongeren. Die gooiden met lege stembiljetten en stemkaarten. De voorzitter van het stembureau wist de jongeren naar buiten te krijgen en deed het stembureau op slot.</p><p>In overleg met de burgemeester is besloten om het stembureau om 18.00 uur definitief te sluiten. Inwoners van Heerhugowaard kunnen hun stem uitbrengen bij een van de 26 andere stembureaus.</p><p>De gemeente zegt tegen NH Nieuws dat de overlast kwam van jongeren die van en naar de Paasvee-festiviteiten in Schagen reisden.</p><p>De politie is na een melding gaan kijken, maar de overlastgevers zijn niet gevonden, zegt een woordvoerder.</p>",
         "2018",
         "0.38432252",
         "False",
         "True",
         "True",
         "negatief",
         "-0.9998893737792969",
         "Zeer negatief",
         "2018-03-21 18:53:20",
         "2018-03",
         "11.403979",
         "0.9343879"
        ],
        [
         "45",
         "nos",
         "https://nos.nl/artikel/2096120-geen-radio-door-brand-in-zendmast-rotterdam",
         "article",
         "Geen radio door brand in zendmast Rotterdam",
         "zendmast, brand",
         "Binnenland",
         "Een man zat vast in de toren, op de 17e verdieping. Hij is inmiddels bevrijd.",
         "2016-03-30 13:42:01",
         "2016-03-30 13:42:01",
         "https://cdn.nos.nl/image/2016/03/30/269714/1200x675.jpg",
         "<h1>Geen radio door brand in zendmast Rotterdam</h1><p>Een groot deel van de radiozenders is in de regio Rotterdam niet te ontvangen vanwege een brand in een zendmast.</p><p>Een inspecteur van Alticom, de eigenaar van de zendmast, was vanochtend naar de toren gegaan omdat er een technische storing was. Terwijl hij hoog in de mast bezig was met onderzoek, brak de brand uit.</p><p>Vanwege de rook vluchtte de man naar een bordes op de 17de verdieping. Hij is uiteindelijk bevrijd door de brandweer, die hem met een zuurstofmasker naar beneden heeft gebracht.</p><p>MediaTV:</p><blockquote id=\"tweet\"><p>@mediatvnl</p><p>Waalhaven: De man in kwestie met brandweer nadat hij veilig uit de toren kwam https://t.co/PseUPvDEg3</p><p>14:43</p><p>30 maart 2016</p></blockquote><p>Alle commerciële radiozenders en enkele publieke zenders zoals Radio 1, RTV Rijnmond en Radio 4 zijn niet te ontvangen door de brand. Ook de digitale televisie van Digitenne is erdoor getroffen.</p><p>Telecombedrijven die gebruikmaken van de toren ondervinden hinder, doordat de stroom in de toren is uitgeschakeld. De telecomzenders draaien nu op noodstroom, maar wanneer die uitvalt kan dat gevolgen hebben voor het bereik in de omgeving van de zendmast.</p><p>Daarnaast zijn er enkele datacentra gevestigd in de toren, die ook niet meer functioneren.</p><p>NPO Actueel:</p><blockquote id=\"tweet\"><p>@NPO_Actueel</p><p>Ivm een stroomstoring is @NPORadio4 momenteel niet te ontvangen (via FM) in delen van Zuid-Holland. We werken hard aan een oplossing!</p><p>13:31</p><p>30 maart 2016</p></blockquote><p>De brand is waarschijnlijk ontstaan in een transformatoraansluiting op de begane grond van de zendmast. De brandweer kon het vuur in eerste instantie niet blussen, omdat er nog 23.000 volt aan spanning op de aansluiting stond. Het blussen zou te gevaarlijk zijn.</p><p>Nadat de stroom was afgesloten, kon de brandweer het vuur gaan blussen. De afsluiting had volgens netbeheerder Stedin geen gevolgen voor de omgeving: de stroomkabel werd alleen door de zendmast gebruikt.</p><p>De zendmast staat aan de Anthony Fokkerweg in Rotterdam, vlak bij de Waalhaven. De beheerder van de zendmast heeft de schade aan de apparatuur nog niet kunnen opmaken.</p>",
         "2016",
         "0.33225545",
         "False",
         "True",
         "True",
         "negatief",
         "-0.9999258518218994",
         "Zeer negatief",
         "2016-03-30 13:42:01",
         "2016-03",
         "11.374275",
         "-0.5313734"
        ],
        [
         "46",
         "nos",
         "https://nos.nl/artikel/2522997-sabalenka-en-rybakina-zonder-setverlies-naar-laatste-acht-roland-garros",
         "article",
         "Sabalenka en Rybakina zonder setverlies naar laatste acht Roland Garros",
         "Roland Garros",
         "Tennis",
         "Ook de Italiaanse Jasmine Paolini en Russin Mirra Andrejeva bereiken de kwartfinales in Parijs.",
         "2024-06-03 14:14:36",
         "2024-06-03 14:14:36",
         "https://cdn.nos.nl/image/2024/06/03/1090057/1024x576a.jpg",
         "<h1>Sabalenka en Rybakina zonder setverlies naar laatste acht Roland Garros</h1><p>Aryna Sabalenka heeft zich overtuigend voor de kwartfinale van Roland Garros geplaatst. De nummer twee van de wereld was op het Court Philippe Chatrier met 6-2, 6-3 te sterk voor de Amerikaanse Emma Navarro, die als 22ste geplaatst was.</p><p>Sabalenka strandde vorig jaar in Parijs in de halve finales. De Belarussische wist de laatste twee edities van de Australian Open te winnen.</p><p>De pas 17 jaar oude Russin Mirra Andrejeva is Sabalenka's volgende tegenstander, want zij versloeg in haar partij de Franse Varvara Gracheva in twee sets: 7-5, 6-2. Het is de eerste keer in de nog prille carrière van Andrejeva dat zij de kwartfinales van een grandslamtoernooi heeft bereikt.</p><h2>Rybakina</h2><p>Ook de Kazachse Elena Rybakina is doorgedrongen tot de kwartfinales. De Oekraïense Elina Svitolina (die gecoacht wordt door Raemon Sluiter), die vorig jaar nog de laatste acht haalde op het tweede grandslamtoernooi van het jaar, was niet opgewassen tegen de nummer vier van de wereld: 6-4, 6-3.</p><p>Rybakina is net als Sabalenka nog zonder setverlies in Parijs. In de tweede ronde was ze met 6-3, 6-4 te sterk voor de Nederlandse Arantxa Rus.</p><p>Met het bereiken van de laatste acht evenaart Rybakina haar beste prestatie in Parijs.</p><p>Rybakina speelt in de kwartfinales tegen de Italiaanse Jasmine Paolini. De nummer vijftien van de wereld was in drie sets te sterk voor Elina Avanesyan uit Rusland: 4-6, 6-0, 6-1.</p><aside><h3>De kwartfinales op Roland Garros bij de vrouwen:</h3><p>Iga Swiatek - Marketa Vondrousova  Coco Gauff - Ons Jabeur</p><p>Jasmine Paolini - Elena Rybakina  Aryna Sabalenka - Mirra Andrejeva</p></aside>",
         "2024",
         "0.3270492",
         "False",
         "True",
         "True",
         "negatief",
         "-0.9997472167015076",
         "Zeer negatief",
         "2024-06-03 14:14:36",
         "2024-06",
         "7.888613",
         "-0.015670326"
        ],
        [
         "47",
         "nos",
         "https://nos.nl/artikel/2421966-zeiljacht-gezonken-bij-terschelling-vier-duitsers-gered-van-vlot",
         "article",
         "Zeiljacht gezonken bij Terschelling, vier Duitsers gered van vlot",
         "112, KNRM",
         "Regionaal nieuws",
         "Net boven Terschelling is vanochtend vroeg een zeiljacht omgeslagen. Aan boord waren vier Duitsers, die op een reddingsvlot konden klimmen.",
         "2022-03-20 11:12:52",
         "2022-03-20 11:23:58",
         "https://cdn.nos.nl/image/2022/03/20/843870/1024x576a.jpg",
         "<h1>Zeiljacht gezonken bij Terschelling, vier Duitsers gered van vlot</h1><p>Vier Duitse zeilers zijn vanochtend van een reddingsvlot gered in de Noordzee enkele uren nadat hun jacht was gezonken. Dat gebeurde net boven Terschelling.</p><p>Reddingsmaatschappij KNRM was snel op de hoogte van het kapseizen, omdat de boot een noodbaken aan boord had. \"Zodra dat baken het water raakt, gaat het zenden\", zegt een woordvoerder.</p><p>De zeilboot was vastgelopen op een zandbank, ten westen van Terschelling. Daardoor ging het snel mis met de boot, zegt de KNRM-woordvoerder. \"Het water beukte op de boot, waardoor de kiel brak. Niet lang daarna sloeg de boot om.\"</p><p>De reddingsboten van Vlieland en Terschelling gingen naar de plek van het ongeluk. De boot van Terschelling bereikte de drenkelingen als eerste en bracht ze naar het Waddeneiland.</p><p>Daar stond ambulancepersoneel klaar om Duitsers op te vangen, meldt Omrop Fryslân. Een van hen bleek onderkoeld en is daarvoor behandeld.</p>",
         "2022",
         "0.2561375",
         "False",
         "False",
         "False",
         "nan",
         null,
         "Onbekend",
         "2022-03-20 11:12:52",
         "2022-03",
         "10.817895",
         "-1.0860031"
        ],
        [
         "48",
         "nos",
         "https://nos.nl/l/2549305",
         "article",
         "Van Duijvenbode raakt helemaal van slag bij WK darts, ook Nijman naar huis",
         "WK darts",
         "Darts",
         "Dirk van Duijvenbode wordt in zijn eerste partij op het WK darts uitgeschakeld. Hij verliest in de tweede ronde van de Let Madars Razma: 1-3. ",
         "2024-12-22 15:27:37",
         "2024-12-22 17:39:59",
         "https://cdn.nos.nl/image/2024/12/22/1172302/1024x576a.jpg",
         "<h1>Van Duijvenbode raakt helemaal van slag bij WK darts, ook Nijman naar huis</h1><p>Voor Dirk van Duijvenbode zit het WK darts er al na één partij op. De 32-jarige Nederlander, als 25ste geplaatst in Londen, zakte na een uitstekend begin helemaal weg en verloor in de tweede ronde van Madars Razma uit Letland: 1-3. Na zijn nederlaag vocht hij tegen de tranen.</p><p>Ook Wessel Nijman werd zondag uitgeschakeld in de tweede ronde. Hij kwam te laat op gang om het Joe Cullen lastig te maken en verloor met 3-0.</p><h2>Ziek vlak voor WK</h2><p>Van Duijvenbode, in 2021 kwartfinalist, kwakkelde de laatste jaren met een schouderblessure maar maakte vlak voor het WK indruk op het Players Championship, waar hij in de halve finales regerend wereldkampioen Luke Humphries liet ontsnappen.</p><p>Toch was zijn aanloop naar de eerste partij in het Londense Alexandra Palace niet optimaal. Van Duijvenbode was niet fit en zei de hele week op bed te hebben gelegen. Ziek, keelpijn en zijn stem kwijt.</p><aside><h3>Zestien dagen WK darts</h3><p>Het WK darts duurt in totaal zestien dagen. Voor de kerst worden de eerste en tweede ronde afgewerkt. Na drie dagen pauze vinden van 27 tot en met 30 december de derde en vierde ronde plaats. Op 1, 2 en 3 januari zijn de kwart- en halve finales en de eindstrijd.</p><p>De winnaar van het WK keert met 500.000 Britse ponden huiswaarts, omgerekend ruim 600.000 euro. In totaal doen er acht voormalig PDC-wereldkampioenen mee en plaatste een recordaantal van zestien Nederlanders zich.</p></aside><p>Eenmaal op het grote podium pompte Van Duijvenbode zich flink op en leek hij alle twijfels weg te nemen: hij is in vorm. In hoog tempo trok de Westlander de eerste set naar zich toe. Met een knappe 147-finish nam hij met 3-0 in legs de voorsprong.</p><p>Twee gewonnen legs later raakte Van Duijvenbode compleet van slag. Tegenstander Razma meldde zich voor het bord, terwijl de Nederlander aan de de beurt was. Van Duijvenbode reageerde verbaasd en kon na een diepe zucht de triples niet meer raken.</p><h2>'Helemaal kwijt'</h2><p>\"Hij wil beginnen terwijl ik moest beginnen. Ik dacht: wat ben je nou aan het doen, joh? Je weet toch dat ik moet beginnen?\", zei Van Duijvenbode achteraf voor de camera van Viaplay. \"Ik laat mezelf uit mijn spel halen en ben het helemaal kwijt. Dat kan je alleen jezelf kwalijk nemen.\"</p><p>Razma profiteerde, pakte drie legs op een rij en trok zo de stand in sets gelijk. In de derde set zakte het niveau bij de Nederlander nog verder weg. Pas nadat de stoïcijnse Let ook die derde set had gewonnen, won Van Duijvenbode weer eens een leg.</p><p>Veel leverde het niet op, Razma won ook de vierde set en stuurde zo na Christian Kist in de eerste ronde met Van Duijvenbode nog een Nederlander naar huis.</p><p>\"Het is mijn eigen schuld\", concludeerde Van Duijvenbode bij Viaplay. \"Ik zat er lekker in, maar gooi daarna helemaal niks meer. Je doet er alles aan, maar als je ziek wordt, maakt het geen reet uit. Zo onnodig dit. Als je een béétje normaal gooit, win je easy. Nu sta je hier met de gebakken peren.\"</p><h2>Nijman verliest van Cullen</h2><p>De 24-jarige Nijman werd door zijn hoge gemiddeldes op voorgaande grote toernooien bij de schaduwfavorieten geschaard, al vond de darter uit Uitgeest dat zelf \"grote onzin\".</p>Nijman kan leven met nederlaag, Cullen loopt weg bij persconferentie<p>Tegen 'The Rockstar' Cullen lieten zijn hoge scores even op zich wachten. Eenmaal op gang keek hij al tegen een 2-0 achterstand in sets aan. Nijman won geen leg waarin de Engelsman begon en miste in de derde set beslissende dubbels, waardoor een comeback nooit op gang kwam.</p><p>\"Ik kan mezelf niet veel verwijten\", zei Nijman na afloop tegen de NOS. \"Het lag dicht bij elkaar. Ik denk dat ik al met al positief mag terugkijken op dit jaar. Ik ben er ook niet helemaal kapot van. Ik denk dat ik nuchter genoeg ben om me af te sluiten voor de hoge verwachtingen. Het is niet dat ik zonder verwachtingen veel beter had gespeeld vandaag.\"</p><h2>Tweede ronde WK Darts, middagsessie dag 8 </h2><table> <thead> </thead> <tbody> <tr> <td>Ryan Searle (Eng)</td> <td>- Matt Campbell (Can)</td> <td>3-0</td> </tr> <tr> <td>Madars Razma (Let)</td> <td>- Dirk van Duijvenbode</td> <td>3-1</td> </tr> <tr> <td>Joe Cullen (Eng)</td> <td>- Wessel Nijman</td> <td>3-0</td> </tr> <tr> <td>Ritchie Edhouse (Eng)</td> <td>- Ian White (Eng)</td> <td>1-3</td> </tr> </tbody> </table> ",
         "2024",
         "0.33239096",
         "False",
         "True",
         "True",
         "negatief",
         "-0.9999954700469971",
         "Zeer negatief",
         "2024-12-22 15:27:37",
         "2024-12",
         "7.5367794",
         "0.28846344"
        ],
        [
         "49",
         "nos",
         "https://nos.nl/artikel/2090469-samsom-ik-stemde-niet-tegen-eigen-luchtbrugplan",
         "article",
         "Samsom: ik stemde niet tegen eigen luchtbrugplan",
         "Rutte",
         "Politiek",
         "De PvdA-leider vindt dat GroenLinks zijn voorstel voor een luchtbrug voor vluchtelingen uit Turkije niet goed heeft verwoord. ",
         "2016-03-03 20:01:06",
         "2016-03-03 20:01:06",
         "https://cdn.nos.nl/image/2016/03/03/261586/1200x675.jpg",
         "<h1>Samsom: ik stemde niet tegen eigen luchtbrugplan</h1><p>PvdA-leider Samsom zegt dat hij en zijn fractie niet tegen zijn eigen plan stemden voor een luchtbrug voor erkende vluchtelingen. De motie van GroenLinks, die een poging deed het plan van Samsom zo precies mogelijk vast te leggen, was volgens Samsom gewoon niet goed genoeg.</p><p>\"De motie van GroenLinks impliceerde dat je niets deed tegen de overstekende bootjes. GroenLinks gaat voor de halve oplossing en dat is geen echte oplossing\", aldus Samsom.</p><p>Vanmiddag werd in de Tweede Kamer gestemd over twee moties, ofwel oproepen aan het kabinet, die gingen over het idee van Samsom. De ene was van de PvdA, de andere van GroenLinks. Die partij wilde de PvdA tot een uitspraak dwingen, nadat Samsom vanmorgen in de krant zijn plan had ontvouwen.</p><p>In de motie van de PvdA wordt het kabinet opgeroepen een evenwichtig akkoord met Turkije te sluiten waarbij het ook gaat over het terugnemen en verdelen van vluchtingen. In de motie van GroenLinks staat dat er snel moet worden begonnen met het gedurende een maand overvliegen van ten minste 400 legale vluchtelingen per dag.</p><p>Op de vraag welke motie dichter bij zijn eigen pleidooi komt, die van de PvdA of die van GroenLinks, geeft Samsom geen rechtstreeks antwoord. \"Die van GroenLinks haalde bij lange na geen meerderheid, ook de SP en de Partij voor de Dieren stemden er niet voor. En je moet 76 zetels halen.\"</p><p>De motie van de PvdA werd wel aangenomen, die van GroenLinks dus niet.</p><p>Premier Rutte, die in Brussel midden in de onderhandelingen over de vluchtelingencrisis zit, sloot zich aan bij VVD-fractievoorzitter Zijlstra en staatssecretaris Dijkhoff. Die zien het nu niet zitten om vluchtelingen over te laten vliegen. Ze vinden dat de Turkse regering eerst meer moet doen om de migrantenstroom tegen te houden.</p><p>In het programma EenVandaag zegt Rutte: \"U hoort niet dat ik er nou vreselijk enthousiast over ben. Ik denk niet dat de Turken het zouden begrijpen als ik nu midden in de gesprekken met dit voorstel zou komen.\"</p><p>Samsom erkent de politieke verschillen tussen PvdA en VVD in dit dossier. \"Maar we werken aan hetzelfde verhaal, met dezelfde inzet. Een oplossing voor de mensen die langs een hek in Macedonië liggen.\"</p><aside><h3>Motie PvdA:</h3><p>Verzoekt de regering zich in het kader van een evenwichtig akkoord met Turkije, waarvan zowel terugname als hervestiging van vluchtelingen deel uitmaken en zich in Europees verband in te zetten snel te starten met een hervestigingsprogramma.</p></aside><aside><h3>Motie GroenLinks:</h3><p>Verzoekt de regering, bij de EU-top met Turkije van maandag 7 maart draagvlak te creëren voor het starten van de opname van vluchtelingen uit Turkije door middel van het dagelijks opnemen van minstens 400 vluchtelingen uit Turkije voor de duur van een maand, en hiermee op korte termijn met zoveel mogelijk lidstaten te starten, teneinde Turkije te bewegen effectief op te treden tegen mensensmokkel.</p></aside>",
         "2016",
         "0.34596694",
         "False",
         "True",
         "True",
         "negatief",
         "-0.9999125003814697",
         "Zeer negatief",
         "2016-03-03 20:01:06",
         "2016-03",
         "12.361952",
         "1.749417"
        ]
       ],
       "shape": {
        "columns": 23,
        "rows": 293
       }
      },
      "text/html": [
       "<div>\n",
       "<style scoped>\n",
       "    .dataframe tbody tr th:only-of-type {\n",
       "        vertical-align: middle;\n",
       "    }\n",
       "\n",
       "    .dataframe tbody tr th {\n",
       "        vertical-align: top;\n",
       "    }\n",
       "\n",
       "    .dataframe thead th {\n",
       "        text-align: right;\n",
       "    }\n",
       "</style>\n",
       "<table border=\"1\" class=\"dataframe\">\n",
       "  <thead>\n",
       "    <tr style=\"text-align: right;\">\n",
       "      <th></th>\n",
       "      <th>channel</th>\n",
       "      <th>url</th>\n",
       "      <th>type</th>\n",
       "      <th>title</th>\n",
       "      <th>keywords</th>\n",
       "      <th>section</th>\n",
       "      <th>description</th>\n",
       "      <th>published_time</th>\n",
       "      <th>modified_time</th>\n",
       "      <th>image</th>\n",
       "      <th>...</th>\n",
       "      <th>is_ev_semantisch</th>\n",
       "      <th>is_ev_keyword</th>\n",
       "      <th>is_ev_final</th>\n",
       "      <th>sentiment_label</th>\n",
       "      <th>sentiment_score</th>\n",
       "      <th>sentiment_category</th>\n",
       "      <th>date</th>\n",
       "      <th>month</th>\n",
       "      <th>x</th>\n",
       "      <th>y</th>\n",
       "    </tr>\n",
       "  </thead>\n",
       "  <tbody>\n",
       "    <tr>\n",
       "      <th>0</th>\n",
       "      <td>nos</td>\n",
       "      <td>https://nos.nl/artikel/2218677-uitgesproken-om...</td>\n",
       "      <td>article</td>\n",
       "      <td>Uitgesproken, omstreden en vandaag (deels) vri...</td>\n",
       "      <td>Jo Palmen</td>\n",
       "      <td>Binnenland</td>\n",
       "      <td>De kwestie rond de Brunssumse politicus begint...</td>\n",
       "      <td>2018-02-21 19:10:02</td>\n",
       "      <td>2018-02-21 19:44:05</td>\n",
       "      <td>https://cdn.nos.nl/image/2018/02/21/453817/120...</td>\n",
       "      <td>...</td>\n",
       "      <td>False</td>\n",
       "      <td>True</td>\n",
       "      <td>True</td>\n",
       "      <td>negatief</td>\n",
       "      <td>-0.999994</td>\n",
       "      <td>Zeer negatief</td>\n",
       "      <td>2018-02-21 19:10:02</td>\n",
       "      <td>2018-02</td>\n",
       "      <td>10.768126</td>\n",
       "      <td>1.307779</td>\n",
       "    </tr>\n",
       "    <tr>\n",
       "      <th>1</th>\n",
       "      <td>nos</td>\n",
       "      <td>https://nos.nl/artikel/2079353-utrecht-breidt-...</td>\n",
       "      <td>article</td>\n",
       "      <td>Utrecht breidt vluchtelingenopvang uit</td>\n",
       "      <td>PCB, azc</td>\n",
       "      <td>Binnenland</td>\n",
       "      <td>Er komen verspreid in de stad extra opvangloca...</td>\n",
       "      <td>2016-01-08 16:46:23</td>\n",
       "      <td>2016-01-08 16:46:23</td>\n",
       "      <td>https://cdn.nos.nl/image/2014/11/20/27043/1200...</td>\n",
       "      <td>...</td>\n",
       "      <td>False</td>\n",
       "      <td>True</td>\n",
       "      <td>True</td>\n",
       "      <td>negatief</td>\n",
       "      <td>-0.999996</td>\n",
       "      <td>Zeer negatief</td>\n",
       "      <td>2016-01-08 16:46:23</td>\n",
       "      <td>2016-01</td>\n",
       "      <td>11.668189</td>\n",
       "      <td>1.149190</td>\n",
       "    </tr>\n",
       "    <tr>\n",
       "      <th>2</th>\n",
       "      <td>nos</td>\n",
       "      <td>https://nos.nl/artikel/2041755-tsipras-haalt-u...</td>\n",
       "      <td>article</td>\n",
       "      <td>Tsipras haalt uit naar schuldeisers</td>\n",
       "      <td>None</td>\n",
       "      <td>Buitenland</td>\n",
       "      <td>Zij zouden erop uit zijn om niet alleen zijn r...</td>\n",
       "      <td>2015-06-16 17:09:57</td>\n",
       "      <td>2015-06-16 17:09:57</td>\n",
       "      <td>https://cdn.nos.nl/image/2015/06/16/167314/120...</td>\n",
       "      <td>...</td>\n",
       "      <td>False</td>\n",
       "      <td>True</td>\n",
       "      <td>True</td>\n",
       "      <td>negatief</td>\n",
       "      <td>-0.999969</td>\n",
       "      <td>Zeer negatief</td>\n",
       "      <td>2015-06-16 17:09:57</td>\n",
       "      <td>2015-06</td>\n",
       "      <td>12.819712</td>\n",
       "      <td>0.233955</td>\n",
       "    </tr>\n",
       "    <tr>\n",
       "      <th>3</th>\n",
       "      <td>nos</td>\n",
       "      <td>https://nos.nl/artikel/2019577-spektakel-in-al...</td>\n",
       "      <td>article</td>\n",
       "      <td>Spektakel in All-Star Game met Westbrook als MVP</td>\n",
       "      <td>Russell Westbrook, Basketbal</td>\n",
       "      <td>Basketbal</td>\n",
       "      <td>De NBA-sterren van het westen verslaan de ster...</td>\n",
       "      <td>2015-02-16 07:15:05</td>\n",
       "      <td>2015-02-16 07:15:05</td>\n",
       "      <td>https://cdn.nos.nl/image/2015/02/16/132849/120...</td>\n",
       "      <td>...</td>\n",
       "      <td>False</td>\n",
       "      <td>True</td>\n",
       "      <td>True</td>\n",
       "      <td>negatief</td>\n",
       "      <td>-0.999997</td>\n",
       "      <td>Zeer negatief</td>\n",
       "      <td>2015-02-16 07:15:05</td>\n",
       "      <td>2015-02</td>\n",
       "      <td>7.713240</td>\n",
       "      <td>0.829228</td>\n",
       "    </tr>\n",
       "    <tr>\n",
       "      <th>4</th>\n",
       "      <td>nos</td>\n",
       "      <td>https://nos.nl/artikel/2253443-oppositie-slijp...</td>\n",
       "      <td>article</td>\n",
       "      <td>Oppositie slijpt de messen over dividendbelast...</td>\n",
       "      <td>Tweede Kamer</td>\n",
       "      <td>Politiek, Economie</td>\n",
       "      <td>De discussie over de afschaffing laait opnieuw...</td>\n",
       "      <td>2018-10-05 09:23:39</td>\n",
       "      <td>2018-10-05 14:00:21</td>\n",
       "      <td>https://cdn.nos.nl/image/2018/08/30/496565/120...</td>\n",
       "      <td>...</td>\n",
       "      <td>False</td>\n",
       "      <td>True</td>\n",
       "      <td>True</td>\n",
       "      <td>negatief</td>\n",
       "      <td>-0.999981</td>\n",
       "      <td>Zeer negatief</td>\n",
       "      <td>2018-10-05 09:23:39</td>\n",
       "      <td>2018-10</td>\n",
       "      <td>12.490316</td>\n",
       "      <td>1.924503</td>\n",
       "    </tr>\n",
       "    <tr>\n",
       "      <th>...</th>\n",
       "      <td>...</td>\n",
       "      <td>...</td>\n",
       "      <td>...</td>\n",
       "      <td>...</td>\n",
       "      <td>...</td>\n",
       "      <td>...</td>\n",
       "      <td>...</td>\n",
       "      <td>...</td>\n",
       "      <td>...</td>\n",
       "      <td>...</td>\n",
       "      <td>...</td>\n",
       "      <td>...</td>\n",
       "      <td>...</td>\n",
       "      <td>...</td>\n",
       "      <td>...</td>\n",
       "      <td>...</td>\n",
       "      <td>...</td>\n",
       "      <td>...</td>\n",
       "      <td>...</td>\n",
       "      <td>...</td>\n",
       "      <td>...</td>\n",
       "    </tr>\n",
       "    <tr>\n",
       "      <th>288</th>\n",
       "      <td>nos</td>\n",
       "      <td>https://nos.nl/artikel/2119363-andere-tijden-s...</td>\n",
       "      <td>article</td>\n",
       "      <td>Andere Tijden Sport: staatsdoping, verraad en ...</td>\n",
       "      <td>Andere Tijden Sport [programma], Edith Brigitha</td>\n",
       "      <td>Zwemmen</td>\n",
       "      <td>Andere Tijden Sport zendt vanavond de document...</td>\n",
       "      <td>2016-07-24 11:07:11</td>\n",
       "      <td>2016-07-24 22:58:29</td>\n",
       "      <td>https://cdn.nos.nl/image/2016/07/24/302425/120...</td>\n",
       "      <td>...</td>\n",
       "      <td>False</td>\n",
       "      <td>True</td>\n",
       "      <td>True</td>\n",
       "      <td>negatief</td>\n",
       "      <td>-0.999585</td>\n",
       "      <td>Zeer negatief</td>\n",
       "      <td>2016-07-24 11:07:11</td>\n",
       "      <td>2016-07</td>\n",
       "      <td>8.709228</td>\n",
       "      <td>1.034917</td>\n",
       "    </tr>\n",
       "    <tr>\n",
       "      <th>289</th>\n",
       "      <td>nos</td>\n",
       "      <td>https://nos.nl/artikel/2134333-zegereeks-feyen...</td>\n",
       "      <td>article</td>\n",
       "      <td>'Zegereeks Feyenoord niet te vergelijken met d...</td>\n",
       "      <td>Feyenoord [voetbalclub], Hooijdonk, Pierre van...</td>\n",
       "      <td>Voetbal</td>\n",
       "      <td>Pierre van Hooijdonk vergelijkt de twee teams ...</td>\n",
       "      <td>2016-09-25 13:44:10</td>\n",
       "      <td>2016-09-25 13:46:26</td>\n",
       "      <td>https://cdn.nos.nl/image/2016/09/25/320534/120...</td>\n",
       "      <td>...</td>\n",
       "      <td>False</td>\n",
       "      <td>True</td>\n",
       "      <td>True</td>\n",
       "      <td>negatief</td>\n",
       "      <td>-0.988995</td>\n",
       "      <td>Zeer negatief</td>\n",
       "      <td>2016-09-25 13:44:10</td>\n",
       "      <td>2016-09</td>\n",
       "      <td>7.793127</td>\n",
       "      <td>2.413350</td>\n",
       "    </tr>\n",
       "    <tr>\n",
       "      <th>290</th>\n",
       "      <td>nos</td>\n",
       "      <td>https://nos.nl/artikel/2379760-ggd-komt-nog-du...</td>\n",
       "      <td>article</td>\n",
       "      <td>GGD komt nog duizenden werknemers tekort voor ...</td>\n",
       "      <td>vaccinatie, prikken, corona</td>\n",
       "      <td>Binnenland</td>\n",
       "      <td>Van de 13.000 fte, zo'n 30.000 banen, die vana...</td>\n",
       "      <td>2021-05-07 16:29:08</td>\n",
       "      <td>2021-05-07 16:29:08</td>\n",
       "      <td>https://cdn.nos.nl/image/2021/05/07/740101/102...</td>\n",
       "      <td>...</td>\n",
       "      <td>False</td>\n",
       "      <td>True</td>\n",
       "      <td>True</td>\n",
       "      <td>negatief</td>\n",
       "      <td>-0.997193</td>\n",
       "      <td>Zeer negatief</td>\n",
       "      <td>2021-05-07 16:29:08</td>\n",
       "      <td>2021-05</td>\n",
       "      <td>12.333743</td>\n",
       "      <td>1.133237</td>\n",
       "    </tr>\n",
       "    <tr>\n",
       "      <th>291</th>\n",
       "      <td>nos</td>\n",
       "      <td>https://nos.nl/artikel/2169251-hoge-leidinggev...</td>\n",
       "      <td>article</td>\n",
       "      <td>Hoge leidinggevende OM verdacht van ontucht me...</td>\n",
       "      <td>OM, Openbaar Ministerie</td>\n",
       "      <td>Binnenland</td>\n",
       "      <td>Het gaat om de tweede man van het functioneel ...</td>\n",
       "      <td>2017-04-20 15:44:39</td>\n",
       "      <td>2017-04-20 20:03:47</td>\n",
       "      <td>https://cdn.nos.nl/image/2016/03/16/265416/120...</td>\n",
       "      <td>...</td>\n",
       "      <td>False</td>\n",
       "      <td>True</td>\n",
       "      <td>True</td>\n",
       "      <td>negatief</td>\n",
       "      <td>-0.999902</td>\n",
       "      <td>Zeer negatief</td>\n",
       "      <td>2017-04-20 15:44:39</td>\n",
       "      <td>2017-04</td>\n",
       "      <td>10.065824</td>\n",
       "      <td>1.892100</td>\n",
       "    </tr>\n",
       "    <tr>\n",
       "      <th>292</th>\n",
       "      <td>nos</td>\n",
       "      <td>https://nos.nl/artikel/2491640-londense-agente...</td>\n",
       "      <td>article</td>\n",
       "      <td>Londense agenten leveren vuurwapen in na moord...</td>\n",
       "      <td>racisme, politie, Londen, Chris Kaba</td>\n",
       "      <td>Buitenland</td>\n",
       "      <td>Veel bewapende agenten maken zich zorgen over ...</td>\n",
       "      <td>2023-09-24 11:38:24</td>\n",
       "      <td>2023-09-24 12:12:19</td>\n",
       "      <td>https://cdn.nos.nl/image/2023/09/24/1011038/10...</td>\n",
       "      <td>...</td>\n",
       "      <td>False</td>\n",
       "      <td>True</td>\n",
       "      <td>True</td>\n",
       "      <td>negatief</td>\n",
       "      <td>-0.996612</td>\n",
       "      <td>Zeer negatief</td>\n",
       "      <td>2023-09-24 11:38:24</td>\n",
       "      <td>2023-09</td>\n",
       "      <td>10.858238</td>\n",
       "      <td>0.084855</td>\n",
       "    </tr>\n",
       "  </tbody>\n",
       "</table>\n",
       "<p>293 rows × 23 columns</p>\n",
       "</div>"
      ],
      "text/plain": [
       "    channel                                                url     type  \\\n",
       "0       nos  https://nos.nl/artikel/2218677-uitgesproken-om...  article   \n",
       "1       nos  https://nos.nl/artikel/2079353-utrecht-breidt-...  article   \n",
       "2       nos  https://nos.nl/artikel/2041755-tsipras-haalt-u...  article   \n",
       "3       nos  https://nos.nl/artikel/2019577-spektakel-in-al...  article   \n",
       "4       nos  https://nos.nl/artikel/2253443-oppositie-slijp...  article   \n",
       "..      ...                                                ...      ...   \n",
       "288     nos  https://nos.nl/artikel/2119363-andere-tijden-s...  article   \n",
       "289     nos  https://nos.nl/artikel/2134333-zegereeks-feyen...  article   \n",
       "290     nos  https://nos.nl/artikel/2379760-ggd-komt-nog-du...  article   \n",
       "291     nos  https://nos.nl/artikel/2169251-hoge-leidinggev...  article   \n",
       "292     nos  https://nos.nl/artikel/2491640-londense-agente...  article   \n",
       "\n",
       "                                                 title  \\\n",
       "0    Uitgesproken, omstreden en vandaag (deels) vri...   \n",
       "1               Utrecht breidt vluchtelingenopvang uit   \n",
       "2                  Tsipras haalt uit naar schuldeisers   \n",
       "3     Spektakel in All-Star Game met Westbrook als MVP   \n",
       "4    Oppositie slijpt de messen over dividendbelast...   \n",
       "..                                                 ...   \n",
       "288  Andere Tijden Sport: staatsdoping, verraad en ...   \n",
       "289  'Zegereeks Feyenoord niet te vergelijken met d...   \n",
       "290  GGD komt nog duizenden werknemers tekort voor ...   \n",
       "291  Hoge leidinggevende OM verdacht van ontucht me...   \n",
       "292  Londense agenten leveren vuurwapen in na moord...   \n",
       "\n",
       "                                              keywords             section  \\\n",
       "0                                            Jo Palmen          Binnenland   \n",
       "1                                             PCB, azc          Binnenland   \n",
       "2                                                 None          Buitenland   \n",
       "3                         Russell Westbrook, Basketbal           Basketbal   \n",
       "4                                         Tweede Kamer  Politiek, Economie   \n",
       "..                                                 ...                 ...   \n",
       "288    Andere Tijden Sport [programma], Edith Brigitha             Zwemmen   \n",
       "289  Feyenoord [voetbalclub], Hooijdonk, Pierre van...             Voetbal   \n",
       "290                        vaccinatie, prikken, corona          Binnenland   \n",
       "291                            OM, Openbaar Ministerie          Binnenland   \n",
       "292               racisme, politie, Londen, Chris Kaba          Buitenland   \n",
       "\n",
       "                                           description      published_time  \\\n",
       "0    De kwestie rond de Brunssumse politicus begint... 2018-02-21 19:10:02   \n",
       "1    Er komen verspreid in de stad extra opvangloca... 2016-01-08 16:46:23   \n",
       "2    Zij zouden erop uit zijn om niet alleen zijn r... 2015-06-16 17:09:57   \n",
       "3    De NBA-sterren van het westen verslaan de ster... 2015-02-16 07:15:05   \n",
       "4    De discussie over de afschaffing laait opnieuw... 2018-10-05 09:23:39   \n",
       "..                                                 ...                 ...   \n",
       "288  Andere Tijden Sport zendt vanavond de document... 2016-07-24 11:07:11   \n",
       "289  Pierre van Hooijdonk vergelijkt de twee teams ... 2016-09-25 13:44:10   \n",
       "290  Van de 13.000 fte, zo'n 30.000 banen, die vana... 2021-05-07 16:29:08   \n",
       "291  Het gaat om de tweede man van het functioneel ... 2017-04-20 15:44:39   \n",
       "292  Veel bewapende agenten maken zich zorgen over ... 2023-09-24 11:38:24   \n",
       "\n",
       "           modified_time                                              image  \\\n",
       "0    2018-02-21 19:44:05  https://cdn.nos.nl/image/2018/02/21/453817/120...   \n",
       "1    2016-01-08 16:46:23  https://cdn.nos.nl/image/2014/11/20/27043/1200...   \n",
       "2    2015-06-16 17:09:57  https://cdn.nos.nl/image/2015/06/16/167314/120...   \n",
       "3    2015-02-16 07:15:05  https://cdn.nos.nl/image/2015/02/16/132849/120...   \n",
       "4    2018-10-05 14:00:21  https://cdn.nos.nl/image/2018/08/30/496565/120...   \n",
       "..                   ...                                                ...   \n",
       "288  2016-07-24 22:58:29  https://cdn.nos.nl/image/2016/07/24/302425/120...   \n",
       "289  2016-09-25 13:46:26  https://cdn.nos.nl/image/2016/09/25/320534/120...   \n",
       "290  2021-05-07 16:29:08  https://cdn.nos.nl/image/2021/05/07/740101/102...   \n",
       "291  2017-04-20 20:03:47  https://cdn.nos.nl/image/2016/03/16/265416/120...   \n",
       "292  2023-09-24 12:12:19  https://cdn.nos.nl/image/2023/09/24/1011038/10...   \n",
       "\n",
       "     ... is_ev_semantisch  is_ev_keyword  is_ev_final  sentiment_label  \\\n",
       "0    ...            False           True         True         negatief   \n",
       "1    ...            False           True         True         negatief   \n",
       "2    ...            False           True         True         negatief   \n",
       "3    ...            False           True         True         negatief   \n",
       "4    ...            False           True         True         negatief   \n",
       "..   ...              ...            ...          ...              ...   \n",
       "288  ...            False           True         True         negatief   \n",
       "289  ...            False           True         True         negatief   \n",
       "290  ...            False           True         True         negatief   \n",
       "291  ...            False           True         True         negatief   \n",
       "292  ...            False           True         True         negatief   \n",
       "\n",
       "     sentiment_score  sentiment_category                date    month  \\\n",
       "0          -0.999994       Zeer negatief 2018-02-21 19:10:02  2018-02   \n",
       "1          -0.999996       Zeer negatief 2016-01-08 16:46:23  2016-01   \n",
       "2          -0.999969       Zeer negatief 2015-06-16 17:09:57  2015-06   \n",
       "3          -0.999997       Zeer negatief 2015-02-16 07:15:05  2015-02   \n",
       "4          -0.999981       Zeer negatief 2018-10-05 09:23:39  2018-10   \n",
       "..               ...                 ...                 ...      ...   \n",
       "288        -0.999585       Zeer negatief 2016-07-24 11:07:11  2016-07   \n",
       "289        -0.988995       Zeer negatief 2016-09-25 13:44:10  2016-09   \n",
       "290        -0.997193       Zeer negatief 2021-05-07 16:29:08  2021-05   \n",
       "291        -0.999902       Zeer negatief 2017-04-20 15:44:39  2017-04   \n",
       "292        -0.996612       Zeer negatief 2023-09-24 11:38:24  2023-09   \n",
       "\n",
       "             x         y  \n",
       "0    10.768126  1.307779  \n",
       "1    11.668189  1.149190  \n",
       "2    12.819712  0.233955  \n",
       "3     7.713240  0.829228  \n",
       "4    12.490316  1.924503  \n",
       "..         ...       ...  \n",
       "288   8.709228  1.034917  \n",
       "289   7.793127  2.413350  \n",
       "290  12.333743  1.133237  \n",
       "291  10.065824  1.892100  \n",
       "292  10.858238  0.084855  \n",
       "\n",
       "[293 rows x 23 columns]"
      ]
     },
     "metadata": {},
     "output_type": "display_data"
    }
   ],
   "source": [
    "display(df_sample)"
   ]
  },
  {
   "cell_type": "code",
   "execution_count": 23,
   "id": "866c381e",
   "metadata": {},
   "outputs": [
    {
     "data": {
      "application/vnd.microsoft.datawrangler.viewer.v0+json": {
       "columns": [
        {
         "name": "index",
         "rawType": "int64",
         "type": "integer"
        },
        {
         "name": "content",
         "rawType": "object",
         "type": "string"
        },
        {
         "name": "ev_score",
         "rawType": "float32",
         "type": "float"
        },
        {
         "name": "is_ev_semantisch",
         "rawType": "bool",
         "type": "boolean"
        },
        {
         "name": "is_ev_keyword",
         "rawType": "bool",
         "type": "boolean"
        },
        {
         "name": "is_ev_final",
         "rawType": "bool",
         "type": "boolean"
        }
       ],
       "conversionMethod": "pd.DataFrame",
       "ref": "49246459-b91b-4bdb-9f9b-d7dcc0f3183b",
       "rows": [
        [
         "116",
         "<h1>Inval bij kantoren Imtech in Duitsland</h1><p>Duitse autoriteiten hebben invallen gedaan bij kantoren van Imtech en andere technische dienstverleners. Ze doen onderzoek naar belastingfraude en het overtreden van de mededingingsregels bij de bouw van energiecentrales van Essent en RWE.</p><h2>Te hoge prijs</h2><p>Een klokkenluider beschuldigde medewerkers van Imtech en andere bedrijven ervan RWE en Essent voor miljoenen euro's te hebben opgelicht door de prijs kunstmatig op te drijven. RWE kondigde al aan dat er een schadeclaim komt mocht er sprake zijn van fraude.</p><p>Naar aanleiding van de beschuldigingen deed Imtech intern onderzoek. In januari maakte de technische dienstverlener bekend zelf geen misstanden te hebben ontdekt. \"Wij hebben geen enkel bewijs gevonden destijds,\" vertelt een woordvoerder van Imtech. Het technologiebedrijf zegt dat dit de volgende stap is in een grootschalig onderzoek. \"Maar wij wisten niet dat deze inval zou gebeuren.\"</p><p>De justitie is binnengevallen bij vier kantoren van Imtech, in Hamburg, München, Stuttgart en Aalen.</p>",
         "0.5159849",
         "True",
         "True",
         "True"
        ],
        [
         "276",
         "<h1>Veel nieuwe motorrijders in 2019, 'doorbraak elektrische motorfiets'</h1><p>In Nederland hebben vorig jaar ruim 30.000 mensen het motorrijbewijs behaald, het hoogste aantal sinds 2002, meldt de BOVAG.</p><p>De verkoop van motorfietsen bereikte vorig jaar een piek met ruim 14.000 stuks, het hoogste aantal in tien jaar. De verkoop van tweedehands motorfietsen bereikte met bijna 124-duizend een absoluut record. Ook in de eerste maand van dit jaar zijn de verkoopcijfers goed, meldt de BOVAG.</p><h2>Elektrisch</h2><p>Vier procent van de motorfietsen die in januari werden verkocht, was elektrisch. Volgens de BOVAG beleeft de verkoop van elektrische motorfietsen dit jaar een doorbraak, omdat ze een actieradius hebben van honderden kilometers en van goede kwaliteit zijn.</p>",
         "0.5033215",
         "True",
         "False",
         "True"
        ],
        [
         "160",
         "<h1>Extinction Rebellion wil inzet waterkanon op A12 via rechter verbieden</h1><p>Klimaatactiegroep Extinction Rebellion (XR) spant een kort geding aan tegen de Nederlandse staat om de inzet van waterkanonnen te verbieden bij de klimaatdemonstraties op de A12 bij Den Haag.</p><p>De dagvaarding wordt vandaag of morgen verstuurd, zegt een woordvoerder van de groep tegen persbureau ANP. Daarna wordt bepaald wanneer de zaak dient.</p><p>Volgens advocaat Willem Jebbink van XR is de inzet van waterkanonnen \"tegen vreedzame demonstranten volstrekt onnodig en disproportioneel\". \"Demonstranten worden bespoten met een sterke straal, terwijl ze geen bedreiging vormen of gevaar veroorzaken. Waterkanonnen zijn geweldsmiddelen en maken inmiddels slachtoffers\", zegt Jebbink.</p><p>Volgens hem werden demonstranten \"over het wegdek gespoten\" en liepen ze \"blauwe plekken op door de kracht van de straal\".</p><p>Verschillende keren is het waterkanon door de politie tegen demonstranten op de A12 ingezet: </p><p>XR voert sinds 9 september actie op de snelweg A12 bij Den Haag. Met een dagelijkse blokkade wil de groep de overheid dwingen te stoppen met regelingen die de fossiele industrie steunen. Demonstreren op de A12 is verboden. De activisten mogen wel op het Malieveld protesteren.</p><p>Gisteren werden ruim 300 activisten op de A12 aangehouden. De politie zette toen geen waterkanon in. Een dag eerder gebeurde dat nog wel. Volgens Jebbink stond de straal toen zo hard dat demonstranten tassen moesten gebruiken om hun lichaam te beschermen. \"De overheid moet burgers die vreedzaam hun mening uiten beschermen. Niet hen met nodeloos geweld te lijf gaan.\"</p>",
         "0.45341104",
         "False",
         "True",
         "True"
        ],
        [
         "7",
         "<h1>Google opent eerste fysieke winkel in Londen </h1><p>In het centrum van Londen heeft Google z'n eerste eigen winkel geopend: de Google Shop. Op Tottenham Court Road kunnen mensen nu alle apparaten en gadgets van Google onder één dak vinden.</p><p>Saabira Chaudhuri:</p><blockquote id=\"tweet\"><p>@SaabiraC</p><p>Google's new store in London http://t.co/2euDPJiHuw</p><p>12:42</p><p>11 maart 2015</p></blockquote><p>Het is de eerste keer dat Google onder eigen naam een winkel opent. De winkel is gevestigd in een groot warenhuis dat gespecialiseerd is in huishoudelijke elektronica en apparaten. Google noemt de winkel een \"shop in shop\".</p><p>Naast smartphones, tablets en laptops zijn er ook technische snufjes waar mensen mee kunnen experimenteren. Zo is er een grote simulator waarmee gebruikers via Google Earth over de wereld kunnen vliegen. Ook is er een Doodle Wall waar mensen met digitale sprays tekeningen kunnen maken.</p><p>\"Met de Google Shop willen we mensen een plek bieden waar ze kunnen spelen, experimenteren en leren\", zegt James Elias, de Britse marketingdirecteur van Google. Zo zal de winkel ook workshops en evenementen gaan verzorgen, zoals lessen over online beveiliging.</p><h3>Google Shop opens in London as search giant takes next step towards retail stores</h3><p>Sara Sjölin:</p><blockquote id=\"tweet\"><p>@sarasjolin</p><p>A giant Pacman game? Google taking me back to my childhood at its new London shop http://t.co/xdEpgeP87R</p><p>13:15</p><p>11 maart 2015</p></blockquote><p>Volgens The Telegraph is Google zeker niet het laatste online bedrijf met een fysieke shop. Zo overweegt Amazon op dit moment een winkel te openen in New York. Volgens een woordvoerder is het nog niet bekend of Google ook in Nederland winkels gaat openen.</p>",
         "0.45014495",
         "False",
         "True",
         "True"
        ],
        [
         "104",
         "<h1>Welshman wil vuilnisbelt opkopen op zoek naar bitcoinfortuin</h1><p>Een man uit Wales die in 2013 een harde schijf kwijtraakte met daarop een fortuin aan bitcoins, overweegt nu de vuilstortplaats in zijn gemeente op te kopen. De man wil de stortplaats doorzoeken, omdat hij ervan overtuigd is dat zijn harde schijf tussen het afval ligt. Er stonden destijds volgens hem 8000 bitcoins op, wat tegen de huidige waarde zo'n 750 miljoen euro zou zijn.</p><p>De 39-jarige James Howells uit Newport spande een rechtszaak aan om de gemeente te dwingen hem toe te staan de afvalbergen te doorzoeken, maar verloor die onlangs.</p><p>Daarom overweegt hij nu om de stortplaats op te kopen, aangezien de gemeente van plan is om de locatie binnen afzienbare tijd te sluiten. \"Ik heb de optie besproken met investeringspartners en het is zeker iets dat op tafel ligt\", zegt hij tegen The Guardian.</p><h2>Verkeerde schijf weggegooid</h2><p>De man, een IT-specialist, probeert al ruim tien jaar zijn bitcoinfortuin terug te vinden. In 2013 bracht zijn toenmalige vriendin, na het opruimen van hun huis, per ongeluk de verkeerde harde schijf naar de gemeentelijke stortplaats. De 8000 bitcoins die erop stonden, waren destijds al enkele miljoenen waard, maar sindsdien is de koers explosief toegenomen.</p><p>Howells vroeg de gemeente de afgelopen jaren meerdere keren om toestemming om er te gaan graven, maar kreeg die nooit.</p><p>Ook op het voorstel om een kwart van zijn bitcoin-portemonnee aan de gemeente te schenken als ze hem zouden helpen, werd niet ingegaan. De gemeente is van mening dat de harde schijf gemeentelijk eigendom is geworden toen deze op de vuilstortplaats terechtkwam.</p><p>De man is van plan de zaak voor te leggen aan het hooggerechtshof.</p>",
         "0.44461656",
         "False",
         "False",
         "False"
        ],
        [
         "229",
         "<h1>Stormloop op Charlie Hebdo</h1><p>In Parijs en andere Franse steden is een stormloop ontstaan op de nieuwste editie van het weekblad Charlie Hebdo. Op de Champs-Élysées en op de grote stations in Parijs stonden vanochtend vroeg lange rijen voor de kiosken. Soms leidde dat tot irritaties, omdat mensen voordrongen.</p><p>Er worden 5 miljoen exemplaren van Charlie Hebdo gedrukt vandaag. Gisteren werd nog uitgegaan van 3 miljoen. Het blad wordt in etappes gedrukt gedurende de hele dag, omdat de drukpers zo'n oplage niet in één keer aan kan. Normaal gesproken is de oplage van Charlie Hebdo 70.000.</p><h2>In etappes gedrukt</h2><p>Doordat het blad in etappes wordt gedrukt, kregen sommige krantenverkopers minder exemplaren dan gebruikelijk in de ochtend. Dat leidde tot snelle uitverkopen. Een krantenverkoper op station Gare du Nord zei dat de 200 exemplaren die hij had gekregen binnen een kwartier weg waren.</p><p>Het blad is wel dunner dan normaal. Deze editie bestaat uit acht pagina's terwijl het er normaal zestien zijn. Ook is dit nummer voor de komende twéé weken, in plaats van één. En het blad is in zes talen beschikbaar, waaronder Engels, Arabisch en Turks.</p><p>In een rij voor een kiosk zei David Sullo aan persbureau Reuters dat hij Charlie Hebdo eigenlijk nooit koopt. Nu wel. \"Het is bepaald niet mijn politieke kleur, maar het is belangrijk om het vandaag te kopen en zo de vrijheid van meningsuiting te steunen.\"</p><p>Dat zei ook Laurent, in dezelfde rij: \"Het is belangrijk voor me dat ik solidariteit toont door het blad te kopen en niet alleen door te demonstreren.\" Daarmee verwees hij naar de protestmars van afgelopen zondag in Parijs.</p><p>Op de voorpagina van de nieuwe editie staat een cartoon van de profeet Mohammed. Hij huilt en houdt een bordje vast met de tekst 'Je suis Charlie'. De kop is: 'Alles is vergeven'. In het blad staan cartoons over moslimextremisten, maar ook over president Hollande, Front National-leider Marine Le Pen, Jezus en joden. Ook staan er cartoons in die zijn gemaakt door redacteuren voordat zij slachtoffer werden van de aanslag.</p><p>Vorige week kwamen redacteuren en medewerkers van het blad om bij de aanslag door de gebroeders Saïd en Chérif Kouachi. Het aangerichte bloedbad, met in totaal twaalf doden, leidde tot grote verontwaardiging. De aanslag werd beschouwd als een aanval op de vrijheid van meningsuiting.</p><h2>Naakt</h2><p>Verder is er bijvoorbeeld een tekening van vrouwen in boerka die hun gewaad optillen en daaronder hun sexy ondergoed laten zien. En een tekenaar van het blad die gewond raakte bij de aanslag van vorige week woensdag heeft ook nieuwe cartoons gemaakt. Volgens NOS-correspondent Frank Renout heeft de redactie verder een snoeihard, cynisch commentaar geschreven over de afgelopen week.</p><p>Gisteren waarschuwde een belangrijke moslimgeestelijke uit Egypte de redactie dat het publiceren van de cover met de profeet Mohammed geen goed idee is. Hij noemde het een \"niet te verdedigen provocatie\" van miljoenen moslims.</p><p>In Nederland is het weekblad pas morgen te krijgen. Vandaag worden er al wel exemplaren aangeboden op Marktplaats. De prijzen variëren van 2,50 tot 100 euro voor een exemplaar.</p><h2>Witte pagina</h2><p>Ook elders in de wereld leidt de nieuwste editie van het Franse weekblad tot ophef. De Pakistaanse uitgave van de International New York Times heeft een halve pagina wit, omdat de Pakistaanse drukker niet wilde dat er afbeeldingen van Mohammed in de krant zouden verschijnen.</p><p>In Turkije heeft de politie de seculiere krant Cumhurriyet gecontroleerd op afbeeldingen van Mohammed. Dat meldt de Turkse krant. Cumhurriyet besteedt uit solidariteit vier pagina´s aan Charlie Hebdo maar drukt geen gevoelige afbeeldingen af. Na de controle door de politie kon de distributie van de krant doorgaan.</p>",
         "0.4438428",
         "False",
         "True",
         "True"
        ],
        [
         "80",
         "<h1>De fiets beleeft een topjaar, ondanks en dankzij de coronacrisis</h1><p>De bestseller van 2020 is de fiets, met dank aan de coronacrisis. Er werden in totaal 1,1 miljoen nieuwe fietsen verkocht, 9 procent meer dan in 2019. De helft daarvan, 547.000 stuks, is elektrisch. De verkopen leidden tot een recordomzet van 1,65 miljard euro, 31 procent meer dan het jaar ervoor, melden de RAI Vereniging en de Bovag.</p><p>Fietsen is dan wel typisch Nederlands en populair, maar de coronacrisis heeft de fiets wereldwijd in de spotlights gezet. Door het thuiswerken en de lockdowns, de behoefte om meer te bewegen en te sporten, en de noodgedwongen vakantie in eigen land is de fiets in trek.</p><p>De elektrische fiets is massaal in de armen gesloten. In 2020 werden er ruim een half miljoen van verkocht, 125.000 meer dan in 2019. Het ging wel ten koste van de hybride en gewone stadsfietsen, waarvan tienduizenden stuks minder verkocht werden, maar het levert per saldo veel meer op.</p><p>Elektrische fietsen zijn een stuk duurder dan een gewone fiets. De gemiddelde prijs van een nieuwe fiets in 2020 is 1550 euro. Tien jaar geleden werden er 1,2 miljoen fietsen verkocht, 117.000 meer dan vorig jaar, maar toen bedroeg de gemiddelde prijs maar 920 euro.</p><h2>Langere levertijden</h2><p>De fietsenwinkel blijft de populairste plek om een fiets te kopen. Zeven op de tien nieuwe fietsen worden in een gewone fietsenwinkel gekocht, een op de tien wordt online besteld, en de rest wordt gekocht in een warenhuis.</p><p>Fietsfabrikanten en de fietsenhandel in Nederland en daarbuiten hadden aanvankelijk veel last van de eerste lockdown en zagen productie, levering en verkopen teruglopen, maar vanaf mei kwam de fietsverkoop helemaal op gang. Het omzetverlies in de eerste maanden werd ruimschoots goedgemaakt.</p><p>Wie een fiets koopt, moet nu rekening houden met langere levertijden. Fabrikanten kunnen de wereldwijde vraag met moeite bijbenen en voorraden zijn niet groot. De toeleveringsketen van fietsen en fietsonderdelen heeft overal te maken met de sterk gestegen vraag naar fietsen en kampt als gevolg van de coronacrisis met een tekort aan containers en containerschepen.</p>",
         "0.44297802",
         "False",
         "True",
         "True"
        ],
        [
         "67",
         "<h1>Explosie en mogelijke inbraak bij Drents Museum in Assen</h1><p>Bij het Drents Museum in Assen is vannacht een explosie geweest. Mogelijk ging de explosie gepaard met een inbraakpoging bij het museum. Het is niet bekend of er buit is meegenomen.</p><p>De explosie vond rond 03.45 uur plaats. Door de kracht liepen meerdere panden aan de Brink schade op, het gaat onder meer om gesneuvelde ruiten.</p><p>Er is nog niemand aangehouden. Ook is het niet bekend of een of meerdere personen betrokken zijn geweest bij de explosie dan wel inbraakpoging. De politie roept getuigen op zich te melden.</p><p>De politie heeft in de omgeving naar sporen gezocht:</p>Politie onderzoekt de explosie bij het Drents Museum<p>In het Drents Museum is momenteel een grote archeologietentoonstelling over het oude rijk Dacië in het huidige Roemenië, genaamd Dacia - Rijk van goud en zilver. Daarvoor liggen in het museum meer dan vijftig goud- en zilverschatten uit het Roemenië van de 20e eeuw voor Christus tot de 3e eeuw na Christus.</p><p>De tentoonstelling zou dit weekend voor het laatst te zien zijn in het museum in Assen. Het museum blijft het hele weekend gesloten.</p>",
         "0.43986937",
         "False",
         "True",
         "True"
        ],
        [
         "198",
         "<h1>Deel nieuwe parkeergarage Eindhoven Airport ingestort</h1><p>Een deel van een nieuwe parkeergarage bij Eindhoven Airport is ingestort. De garage was nog in aanbouw.</p><p>Volgens een woordvoerder van de marechaussee is er niemand gewond geraakt.</p><p>Door de instorting viel de stroom op de luchthaven uit. Doordat de noodstroom werd ingeschakeld, had dat nauwelijks gevolgen voor de aankomende en vertrekkende vluchten. Na twee uur werd de stroomvoorziening weer hersteld.</p><p>De bouw van de parkeergarage is in handen van bouwbedrijf BAM. Een woordvoerder kan niets zeggen over de oorzaak van de instorting. Het gebouw zou halverwege dit jaar worden opgeleverd.</p>",
         "0.43809733",
         "False",
         "True",
         "True"
        ],
        [
         "6",
         "<h1>Bootvluchtelingen bij Haïti omgekomen</h1><p>Ten noorden van Haïti zijn in zwaar weer 21 bootvluchtelingen om het leven gekomen. Het Franse persbureau AFP meldt op basis van een overheidsfunctionaris op Haïti dat ze op weg waren naar de Turks- en Caicoseilanden.</p><p>De eilanden maken deel uit van de Antillen en zijn een Brits overzees gebiedsdeel. Haïtianen die de armoede willen ontvluchten, proberen vaker de eilanden te bereiken.</p><p>De boot kwam naar verluidt terecht in een storm. De vluchtelingen keerden nog om, maar voor de kust van Haïti zonk de boot.</p>",
         "0.43528444",
         "False",
         "True",
         "True"
        ],
        [
         "16",
         "<h1>Resten van oerbos en nederzetting gevonden bij Tricht</h1><p>Archeologen hebben bij het Gelderse Tricht enkele bijzondere vondsten gedaan: ze stuitten op resten van een oerbos en een zeldzaam nederzettingsterrein uit 2850-2000 voor Christus.</p><p>De vondsten werden gedaan tijdens de aanleg van een nieuwe weg. De onderzoekers vonden ook eeuwenoude resten van palen, een huisplattegrond en een geslepen natuurstenen bijl, schrijft Omroep Gelderland.</p><p>Of bewoners er in die tijd vast woonden, is niet duidelijk. De nederzetting kan ook tijdelijk gebruikt zijn door rondtrekkende volkeren. \"Wel weten we dat men er vuurstenen bewerkte, haardkuilen gebruikte en er runderen hield. Ook vonden we afvalkuilen\", zegt onderzoeker Jantien Verduin in een verklaring.</p><h2>Oerbos</h2><p>Onder de nederzetting vonden archeologen ook nog boomstronken en een overstroomd elzenbroekbos. Het stamhout en wortelhout uit het moerassige bos waren erg goed geconserveerd omdat de plek later werd bedekt door een overstroming met rivierklei uit de Linge. De onderzoekers hebben vast kunnen stellen dat het gaat om een oerbos uit de periode 4200-2850 voor Christus.</p><p>De vondsten zijn volgens de gemeente West Betuwe zeldzaam. \"Vindplaatsen uit deze tijd zijn moeilijk op te sporen, omdat er maar korte tijd bewoning is geweest. De bewoners lieten daardoor niet veel sporen achter', schrijft de gemeente.</p>",
         "0.4324416",
         "False",
         "True",
         "True"
        ],
        [
         "227",
         "<h1>Houthandelaren voor het eerst persoonlijk vervolgd voor fout hout</h1><p>Twee houtimporteurs worden persoonlijk vervolgd voor de import van fout hout uit Myanmar. Ze kunnen een gevangenisstraf van maximaal 6 jaar krijgen.</p><p>Het is voor het eerst dat het Openbaar Ministerie bestuurders van bedrijven persoonlijk vervolgt voor het importeren van verboden hout. Wie het zijn, wordt niet bekendgemaakt. Wel is duidelijk dat het twee mensen van twee verschillende bedrijven zijn.</p><p>De bedrijven zouden hout uit Myanmar hebben geïmporteerd dat illegaal is gekapt. Het gaat om hoogwaardig teakhout, dat voor een hoge prijs wordt verkocht. Het wordt bijvoorbeeld gebruikt voor de betimmering van het dek van luxe jachten.</p><h2>Tien zeecontainers</h2><p>Op de Nederlandse markt mag alleen hout worden verkocht waarvan kan worden aangetoond dat het kappen was toegestaan. Op die manier wordt geprobeerd ontbossing tegen te gaan. Dat is sinds 2013 strafbaar binnen de Europese Unie.</p><p>De Nederlandse Voedsel- en Warenautoriteit legde een van de bedrijven in 2017 al een dwangsom op. Volgens het Openbaar Ministerie heeft het bedrijf daarna via een stroman in Tsjechië de import van het hout doorgezet. In december 2019 is er beslag gelegd op teakhout van het bedrijf, het ging om ongeveer acht tot tien zeecontainers. De juiste documenten ontbraken volgens de inspecteurs.</p><p>Ook de betrokken handelaar in Tsjechië wordt in Nederland vervolgd. Het Openbaar Ministerie denkt de zaken dit jaar voor de rechter te kunnen brengen.</p>",
         "0.43075943",
         "False",
         "True",
         "True"
        ],
        [
         "262",
         "<h1>Duitse minister wil meer regels voor alternatieve genezers </h1><p>De minister van Volksgezondheid van de Duitse deelstaat Noordrijn-Westfalen wil de regels voor alternatieve genezers aanscherpen. Minister Barbara Steffens zegt dat er naar aanleiding van de zaak-Klaus Ross \"een aanzienlijke behoefte is voor hervormingen\".</p><p>Volgens Steffens voldoen de huidige regels, uit 1939, niet meer aan \"de eisen van een modern gezondheidssysteem\". Ook vindt ze het niet kunnen dat iemand zonder opleiding of cursus kan meedoen aan de toets waarmee je een registratie als 'heilpraktiker' kunt verdienen.</p><p>Steffens heeft zich al vaker kritisch uitgelaten over de toelatingseisen voor alternatieve genezers. Vanwege het onderzoek naar overleden patiënten van het Biologisch Kankercentrum in Bracht, net over de grens bij Venlo, heeft ze haar bezwaren opnieuw geuit aan het ministerie van Volksgezondheid in Berlijn.</p><p>In het behandelcentrum van Klaus Ross werden kankerpatiënten onder meer behandeld met glucoseblokkers, die kankercellen zouden doden. Zeker drie mensen zijn na een bezoek aan Ross onder verdachte omstandigheden overleden. De Duitse justitie zou in totaal 70 sterfgevallen onderzoeken.</p><p>De kliniek richtte zich vooral op uitbehandelde patiënten uit Nederland. De alternatieve behandelmethode van Ross is in Duitsland toegestaan, maar in Nederland niet.</p>",
         "0.42986214",
         "False",
         "True",
         "True"
        ],
        [
         "274",
         "<h1>Weer stroom in groot deel getroffen gebied VS</h1><p>Een groot deel van de huizen in de Amerikaanse staten North en South Carolina heeft weer elektriciteit. De lokale energiemaatschappij heeft nu meer dan een miljoen verbindingen hersteld. Zo'n 235.000 huishoudens zijn nog wel verstoken van stroom.</p><p>De elektriciteit was op veel plaatsen uitgevallen door orkaan Matthew. De orkaan, die gepaard ging met zware regenval, veroorzaakte veel schade in de beide Amerikaanse staten. Duizenden mensen zijn tijdelijk dakloos geworden.</p><p>Gisternacht riep president Obama in North Carolina de noodtoestand uit. Nu heeft hij dat ook voor South Carolina gedaan. Door de toestand af te kondigen komt er extra hulpgeld vrij.</p><h2>Dodental gestegen</h2><p>In North Carolina is het dodental opgelopen tot achttien. In totaal zijn nu dertig mensen in de VS om het leven gekomen door de orkaan.</p><p>Haïti is met afstand het zwaarst getroffen door Matthew. Daar kwamen meer dan duizend mensen om het leven.</p>",
         "0.4273534",
         "False",
         "True",
         "True"
        ],
        [
         "143",
         "<h1>Chroom-6 aangetroffen op brug Noord-Hollands Kanaal</h1><p>In de roestwerende verf op de brug over het Noord-Hollands Kanaal in Sint Maartensvlotbrug is chroom-6 aangetroffen. Volgens de provincie Noord-Holland is er geen gevaar voor de volksgezondheid. Wel worden ook de ongeveer vijftig andere provinciale bruggen op de stof onderzocht.</p><p>De aanwezigheid van chroom-6 kwam toevallig aan het licht, toen de provincie een preventief onderzoek deed aan de brug in Sint Maartensvlotbrug. Dat gebeurt standaard voordat onderhoudswerkzaamheden plaatsvinden. In dit geval zat er chroom-6 in een van de achttien monsters.</p><h2>Kleine hoeveelheid</h2><p>\"We weten hoe we hier mee om moeten gaan\", reageert woordvoerder Fabian Paardekooper van de provincie Noord-Holland op NH Nieuws. \"Ook is er maar een heel kleine hoeveelheid ontdekt en is het nog maar de vraag of we chroom-6 gaan aantreffen in andere bruggen.\"</p><p>Chroom-6 werd vroeger vaak toegevoegd aan verf op staal, omdat het een goede bescherming biedt tegen roest. In vaste vorm is er geen risico voor de volksgezondheid, maar komt chroom-6 vrij dan kan het in kleine hoeveelheden kankerverwekkend zijn.</p><h2>Extra maatregelen</h2><p>De provincie kondigt aan extra maatregelen te treffen. De inwoners van Sint Maartensvlotbrug worden geïnformeerd over de werkzaamheden. Om te voorkomen dat de stof zich kan verspreiden worden delen van de brug mogelijk weggehaald en elders gerenoveerd.</p><p>Er is al langer ophef over het gebruik van chroom-6. In Tilburg zijn honderden medewerkers van NS Nedtrain bang dat ze ziek zullen worden. Zij schuurden oude treinen zonder dat ze beschermende kleding droegen.</p><h2>Schadevergoeding</h2><p>In Limburg proberen oud-werknemers van Defensie via de rechter schadevergoeding te krijgen omdat zij jarenlang zijn blootgesteld aan chroom-6. De rechtbank in Maastricht verklaarde die zaak vandaag niet ontvankelijk.</p><p>Volgens de advocaat van de gedupeerden vindt de rechter dat de kwestie bij de bestuursrechter had moeten worden aangekaart, omdat het om ambtenaren gaat. De advocaat onderzoekt hoe hij die zaak kan voortzetten.</p>",
         "0.4240589",
         "False",
         "True",
         "True"
        ],
        [
         "88",
         "<h1>Kwart vrouwen komt terug voor ingevroren eicellen</h1><p>Van alle vrouwen die eitjes laten invriezen komt ruim een kwart terug naar het ziekenhuis om ze te gebruiken. Dat blijkt uit onderzoek van het academisch ziekenhuis in Maastricht.</p><p>Bij de vrouwen die terugkwamen (25,5 procent) werd gemiddeld twee keer een terugplaatsing gedaan. Dit leidde bij bijna de helft tot een positieve zwangerschapstest en bij 34,6 procent werd daadwerkelijk een baby geboren. De eicellen lagen gemiddeld 3,5 jaar in de vriezer.</p><p>Volgens onderzoeker Elena ter Welle-Butalid zijn de cijfers handig voor wie overweegt eitjes in te laten vriezen. \"Het kan vrouwen helpen bij het maken van de vaak moeilijke keuze over het toepassen van deze behandeling. We zien bovendien dat deze vrouwen liever het zekere voor onzekere nemen.\"</p><h2>Veel of weinig?</h2><p>\"Het hangt natuurlijk van het perspectief uit of een kwart veel of weinig is\", legt ze uit. \"Als de kinderwens groot is, zullen vrouwen het zeker genoeg vinden om het te proberen. Aan de andere kant geldt natuurlijk dat vrouwen die twijfelen over een kinderwens het percentage waarschijnlijk laag zullen vinden en het daarom wellicht maar niet doen.\"</p><p>Ter Welle-Butalid bespreekt het invriezen van eicellen ook geregeld met jonge vrouwen die kanker hebben. \"Die zeggen dan: de kans dat ik op mijn leeftijd kanker zou krijgen was ook klein, dus we gaan dit ook proberen.\"</p><h2>Kosten</h2><p>Aan het laten invriezen van eitjes zijn kosten verbonden, die alleen worden vergoed als er een medische reden voor is, zoals bij vrouwen met kanker wier vruchtbaarheid bij behandeling in het geding is. Wie eitjes wil laten invriezen omdat de kinderwens uitgesteld wordt, om welke reden dan ook, moet zelf betalen. Dat loopt vaak in de duizenden euro's.</p><p>Voor het onderzoek in Maastricht werden ruim 1100 vrouwen gevolgd. Twee derde van hen waren vrouwen die een behandeling tegen kanker ondergingen.</p><p>Voor het bewaren van eicellen wordt een standaardtermijn afgesproken, die kan variëren. Pas als een vrouw duidelijk aangeeft ze niet meer te willen gebruiken, worden de eitjes doorgaans vernietigd. \"Of bij overlijden, of als vrouwen duidelijk te oud zijn\", ligt Ter Welle-Butalid toe.</p>",
         "0.42358387",
         "False",
         "True",
         "True"
        ],
        [
         "98",
         "<h1>Wekdienst 3/1: Kabinet praat opnieuw over toeslagenaffaire • Finale WK darts</h1><p>Goedemorgen! Op het Catshuis komt het kabinet bij elkaar om verder te praten over de stappen die worden genomen na de toeslagenaffaire. En de dartswereld heeft na vanavond mogelijk een nieuwe nummer één.</p><p>De dag begint met af en toe zon. Later vanuit het oosten meer bewolking en in de avond regen. Bij een stevige noordoostenwind wordt het 2 tot 5 graden. Morgen is grijs en regenachtig.</p><p>Ga je de weg op? Hier vind je het overzicht van de werkzaamheden. Check hier de dienstregeling voor het spoor.</p><h2>Wat kun je vandaag verwachten?</h2><h2>Wat heb je gemist?</h2><p>In Coevorden heeft de ME vannacht ingegrepen bij een protest tegen de coronamaatregelen. Daarbij zijn enkele mensen opgepakt. Buurtbewoners in de Drentse plaats waren massaal de straat op gegaan. Ook was er een vreugdevuur en werd er zwaar vuurwerk afgestoken. Rond 01.30 uur maakte de ME een einde aan de bijeenkomst. De brandweer heeft het vuur geblust. Het is al een paar dagen onrustig in de wijk Poppenhare.</p><p>Er waren verschillende ontploffingen, onder meer nadat een omstander iets op het vuur gooit. Daarnaast is het ingrijpen van de ME in deze video te zien:</p><h2>Ander nieuws uit de nacht:</h2><h2>En dan nog even dit:</h2><p>Een opmerkelijke Covid-vaccinatie in de Amerikaanse staat South-Dakota, meldt CNN. Verpleegkundige Robbie Vergas-Cortes wist dat hij een coronaprik zou krijgen, en ook dat zijn partner Eric Vanderlee in het team zat dat de vaccinaties toedient. Wat hij niet wist, was dat zijn vriend het moment zou aangrijpen voor een huwelijksaanzoek. In plaats van een prik kreeg Vergas-Cortes een ring op zijn arm geplakt, onder luid gejuich van de rest van het team:</p><p>David Begnaud:</p><blockquote id=\"tweet\"><p>@DavidBegnaud</p><p>WATCH: Robby Vargas-Cortes, an E.M.S. supervisor in South Dakota had a surprise up his sleeve when he went to get his COVID vaccine. His partner, Eric, a nurse, was rolling up Robby’s sleeve to administer the vaccine to him when he saw — an engagement ring https://t.co/wH22U4p5tz https://t.co/zMaKHgNDzd</p><p>3:21</p><p>2 januari 2021</p></blockquote><p>Na het aanzoek kreeg Vergas-Cortes alsnog de vaccinatie.</p>",
         "0.42320222",
         "False",
         "True",
         "True"
        ],
        [
         "144",
         "<h1>Wekdienst van 30 mei: dit gebeurde terwijl je sliep</h1><p>Goedemorgen! De tropische warmte is weg, het is niet meer zo heet als gisteren. Maar het is nog wel aangenaam en rustig, met wolkenvelden, vooral langs de westkust. In het binnenland schijnt de zon ook vrij geregeld. In het oosten is vanmiddag een enkele bui mogelijk, verder blijft het droog.</p><h2>Wat heb je gemist?</h2><p>Duitse minister roept op tot verzet tegen Trump</p><p>De Duitse minister van Buitenlandse Zaken Gabriel roept Europese landen op zich te verzetten tegen de politiek van Trump. \"Wie zich niet keert tegen het Amerikaanse beleid, is medeschuldig\", zei hij in de Duitse krant Rheinische Post. Hij vindt het vooral schandalig dat Trump niet het klimaatakkoord van Parijs wil steunen. Hij bepleit meer Europese samenwerking: \"Alleen dan hebben we de kracht om op het politieke wereldtoneel een geloofwaardige speler te zijn.\" </p><p>Tiger Woods van de weg gehaald, ontkent drankgebruik</p><p>De beroemde golfer Tiger Woods is in de Amerikaanse staat Florida opgepakt voor rijden onder invloed. Dat gebeurde in de nacht van zondag op maandag, maar is nu pas bekend geworden. Een paar uur later werd de golfer van 41 weer vrijgelaten.</p><p>Na zijn vrijlating verklaarde Woods dat hij beslist niet had gedronken. Hij zou een onverwacht sterke lichamelijke reactie hebben gekregen op medicijnen die hij had geslikt.</p><p>Vrachtwagen botst op goederentrein bij Venlo</p><p>In Noord-Limburg is een vrachtwagen op een goederentrein gebotst. Het ongeluk gebeurde bij een spoorwegovergang tussen Sevenum en Venlo. Door de botsing vloog de vrachtwagen in brand. De vrachtwagen noch de trein vervoerde gevaarlijke stoffen.</p><p>May en Corbyn op tv in 'Battle for Number 10'</p><p>De campagne voor de Britse verkiezingen op 8 juni bereikte gisteravond een eerste hoogtepunt. Theresa May (Conservatieven) en Jeremy Corbyn (Labour) verschenen op televisie om zich te laten interviewen door de gerenommeerde en gevreesde presentator Jeremy Paxman. Beide kandidaten werd het vuur aan de schenen gelegd. Een belangrijk thema in de uitzending was, uiteraard, de brexit.</p><h2>Verder vandaag...</h2><p>De reuzenpanda's Wu Wen en Xing Ya zijn voor het eerst te zien in Ouwehands Dierenpark. De beren uit China zaten sinds 12 mei in quarantaine. Voor deze week zijn de kaartjes uitverkocht, maar voor daarna is nog geen sprake van een stormloop.</p><p>De Tweede Kamer praat vanmiddag over het eindverslag van informateur Schippers. Zij is er niet in geslaagd om partijen te vinden die samen een kabinet willen vormen en daarom geeft ze de opdracht terug. Zij wil dat PvdA'er en Minister van Staat Herman Tjeenk Willink nu een poging gaat doen. De Tweede Kamer stemt daar later vandaag over.</p>",
         "0.4219603",
         "False",
         "True",
         "True"
        ],
        [
         "263",
         "<h1>A59 bij Breda dicht na ongelukken</h1><p>De A59 bij Breda is gedeeltelijk afgesloten geweest vanwege twee ongelukken. Vlak na 08.00 uur botste een personenauto op een vrachtwagen. Een kwartier later reed in de file die door dat ongeluk ontstond een andere personenauto tegen een tankwagen.</p><p>De twee automobilisten zijn gewond geraakt. Het is niet bekend hoe ernstig de verwondingen zijn.</p><p>Tussen knooppunt Zonzeel en Terheijden was de snelweg in oostelijke richting afgesloten. Er stond een kilometerslange file. Rijkswaterstaat adviseerde mensen die richting Den Bosch wilden om te rijden via de zuidkant van Breda.</p>",
         "0.420484",
         "False",
         "False",
         "False"
        ],
        [
         "73",
         "<h1>Tienduizenden in Wenen de straat op tegen 12-urige werkdag</h1><p>In Wenen zijn tussen de 80.000 en 100.000 mensen de straat op gegaan om te protesteren tegen de invoering van de 12-urige werkdag, een voorgenomen besluit van de regeringscoalitie van ÖVP en FPÖ.</p><p>De demonstratie was georganiseerd door de Oostenrijkse vakbonden. Vakbondsleider Wolfgang Katzian riep de regering op de kwestie in een referendum aan het volk voor te leggen. Ook partijleider Christian Kern van de sociaaldemocratische oppositiepartij SPÖ was bij de demonstratie aanwezig, meldt de Oostenrijkse krant Kurier.</p><h2>Versoepeling</h2><p>De conservatieve regering onder leiding van bondskanselier Sebastian Kurz (ÖVP) wil de arbeidstijdenwet in het land versoepelen en oprekken naar maximaal 12 uur per dag en 60 uur per week. Op dit moment geldt een maximum van 10 uur per dag. Het wetsvoorstel wordt aanstaande donderdag in het parlement behandeld.</p><p>Bij de demonstraties gingen meerdere sprekers in op mogelijke gezondheidsrisico's en het verlies aan vrije tijd die door de wet zullen ontstaan. De voorzitter van de Oostenrijkse werknemersorganisatie opperde het aantal werkuren juist in te korten.</p>",
         "0.41810244",
         "False",
         "True",
         "True"
        ],
        [
         "37",
         "<h1>Binnen een dag drie vliegtuigongelukken in Duitsland, drie doden</h1><p>In Duitsland zijn gisteren drie mensen om het leven gekomen toen op verschillende plekken drie kleine vliegtuigen neerstortten. Twee vliegtuigjes crashten in de deelstaat Noordrijn-Westfalen, een in Hessen.</p><p>In de buurt van Soest, in Noordrijn-Westfalen, kwamen 's middags twee mensen om toen hun vliegtuigje neerstortte in een weiland. Ooggetuigen verleenden nog eerste hulp, maar dat mocht niet meer baten. Volgens de politie waren de twee slachtoffers bij een pilotenbijeenkomst op het vliegveld geweest.</p><p>Eerder op de dag stortte in de buurt van Bielefeld een propellervliegtuig neer. De 67-jarige piloot overleefde dat niet. Hij was de enige inzittende. Over de oorzaak van het ongeluk is nog niets bekendgemaakt.</p><p>In de deelstaat Hessen raakten in de ochtend twee mensen gewond bij een vliegtuigcrash. Hun toestel kwam niet goed op hoogte en stortte vervolgens neer vlak bij vliegveld Korbach. De twee zijn naar het ziekenhuis gebracht.</p>",
         "0.4162807",
         "False",
         "True",
         "True"
        ],
        [
         "217",
         "<h1>Veiling voorwerpen Olympische Spelen '28 levert 2 ton op</h1><p>De veiling van een verzameling voorwerpen van de Olympische Spelen van 1928 heeft ruim 200.000 euro opgeleverd. De collectie bestond uit bijna duizend objecten, waaronder medailles, programmaboekjes en originele posters.</p><p>Een officieel insigne voor de voorzitters van de internationale sportfederaties bracht 9000 euro op. Een boekje met handtekeningen van de voetballers van Uruguay en Argentinië werd voor 3000 euro verkocht. Voor een klomp met daarop de handtekening van onder meer de Amerikaanse zwemmer Johnny Weissmuller werd 1250 euro betaald.</p><p>Er werden ook drie medailles geveild. De gouden, zilveren en bronzen plak brachten bij elkaar ongeveer 25.000 euro op. De meeste voorwerpen zijn verkocht aan particuliere verzamelaars. Onder de kopers waren ook musea en sportinstanties.</p><h2> Treurniet</h2><p>De collectie was eigendom van verzamelaar Jacco Treurniet. Hij probeerde zijn verzameling eerder te verkopen aan de gemeente Amsterdam en het Olympisch Stadion, maar dat mislukte.</p><p>De Olympische Spelen van 1928 werden in Amsterdam gehouden. Het waren de eerste Spelen waarbij een olympische vlam werd aangestoken.</p>",
         "0.4148155",
         "False",
         "True",
         "True"
        ],
        [
         "89",
         "<h1>Aanklager bestudeert rapport over mogelijke verduistering EU-gelden door Le Pen</h1><p>Het Franse Openbaar Ministerie bestudeert een rapport van het antifraudebureau van de Europese Unie waarin Marine Le Pen wordt beschuldigd van het verduisteren van EU-gelden. Dat heeft het OM bevestigd na berichtgeving in Franse media.</p><p>De aanklagers kregen 11 maart een rapport van het antifraudebureau OLAF. Nieuwssite Mediapart berichtte gisteren voor het eerst over het bestaan van het rapport. Daarin zou staan dat Le Pen in haar tijd als Europarlementariër tussen 2004 en 2017 140.000 euro aan EU-gelden heeft verduisterd en samen met partijgenoten in totaal 617.000 euro oneigenlijk heeft besteed.</p><p>Le Pen en haar partijgenoten worden niet beschuldigd van zelfverrijking, maar van het gebruiken van het geld voor activiteiten die niet direct met Europa te maken hebben, zoals het betalen van eigen personeel en evenementen. Zo zou ze onder meer 23.000 euro hebben uitgegeven aan promotiemateriaal voor haar eigen partij en ruim 4000 euro aan flessen wijn voor een partijbijeenkomst.</p><h2>Le Pen ontkent</h2><p>Le Pen laat via haar advocaat weten dat ze van sommige van de feiten die in het rapport staan niets afweet. De andere activiteiten die in het rapport werden genoemd waren wel degelijk bedoeld voor haar werk als Europarlementariër, zegt haar advocaat.</p><p>De voorzitter van Le Pens partij Rassemblement National, Jordan Bardella, beweert dat er sprake is van Europese inmenging in de Franse verkiezingen. \"De Fransen zullen niet voor de gek worden gehouden door de pogingen van de Europese Unie om de presidentsverkiezingen te beïnvloeden en Marine Le Pen te beschadigen\", zei hij tegen radiozender Europe 1.</p><p>Le Pen en de huidige president Emmanuel Macron zijn verwikkeld in een hevige strijd om het presidentschap. In eerste instantie leek Macron de verkiezingen tamelijk eenvoudig te gaan winnen, maar door zorgen onder de kiezers over de rap dalende koopkracht werd in de eerste verkiezingsronde ook veel op Le Pen gestemd. Op 24 april is de tweede en beslissende stemronde, waarin gekozen moet worden tussen Macron en Le Pen.</p><aside><h3>Correspondent Frank Renout:</h3><p>\"De belangrijkste kritiek van de advocaat van Le Pen en Le Pens partijgenoten is dat dit rapport nu een week voor de tweede ronde van de presidentsverkiezingen uitlekt, terwijl het ruim een maand geleden naar de Franse justitie is gestuurd. Volgens haar partij is er sprake van opzet, om haar vlak voor de verkiezingen in diskrediet te brengen.\"</p></aside>",
         "0.41418096",
         "False",
         "True",
         "True"
        ],
        [
         "60",
         "<h1>Titelverdedigers Van der Poel en Worst klaar voor modderige EK-strijd</h1><p>'Economisch fietsen' luidt deze winter het credo voor Mathieu van der Poel. \"Dat gaat een beetje tegen mijn natuur in, maar het is wel nodig.\"</p><p>Het houdt in dat Van der Poel zondag tijdens de EK veldrijden in het Italiaanse Silvelle, pas zijn tweede veldrit van het seizoen, zich niet helemaal leeg zal rijden als hij een voorsprong pakt. \"Als ik een superdag heb, hoef ik niet altijd met meer dan 20 seconden voorsprong te winnen.\"</p><p>Het Europees kampioenschap is ook geen hoofddoel voor de 24-jarige Nederlander, al wil hij uiteraard wel winnen - dat wil hij altijd. \"Er hangt een trui aan vast, dat is wel leuk. Maar verder is het een wedstrijd als een ander.\"</p><p>Die benadering heeft alles te maken met zijn overvolle programma, waarin hij het wegwielrennen combineert met het veldrijden en mountainbiken. \"Mijn doelen liggen echt wel iets later, met de WK en het voorjaar op de weg en ik heb de Olympische Spelen dan nog.\"</p><p>\"Het zal elkaar allemaal snel opvolgen met weinig rust. Het is wel de bedoeling dat we het voorzichtig aanpakken. Om echt te gaan pieken naar de perioden die voor ons belangrijk zijn\", aldus Van der Poel.</p><p>In zijn eerste cross dit seizoen, vorige week zondag in Ruddervoorde, viel het hem niet mee. \"Het is altijd heel lastig om weer te beginnen aan een veldritseizoen. Qua gevoel ging het nog niet zo heel lekker, maar het is wel fijn als je kan winnen. Over mijn techniek was ik niet zo heel tevreden. Als anderen een versnelling plaatsten, moest ik het in mijn eigen tempo dichtrijden.\"</p><p>Het is voor de uittredend kampioen - Van der Poel pakte vorig jaar de titel in het Nederlandse Rosmalen - even de vraag wie zijn concurrenten zijn. \"Je weet nooit hoe renners naar zo'n kampioenschap toe pieken.\"</p><h2>Van der Poel mist Van Aert</h2><p>België stelt renners op als Toon Aerts, Quinten Hermans, Laurens Sweeck en de man in vorm dit seizoen: Eli Iserbyt. De eeuwige concurrent van Van der Poel, Wout van Aert, ontbreekt dit seizoen. Hij is herstellende van de blessures die hij in de Tour de France opliep.</p><aside><p>Zowel de vrouwen- als de mannenwedstrijd bij de Europese kampioenschappen veldrijden is rechtstreeks te zien in Studio Sport, op NPO 1, via NOS.nl en in de NOS-app. De vrouwen starten om 13.50 uur, de rit van de mannen begint om 15.20 uur.</p><p>Bij de vrouwen rijden naast Worst ook Maud Kapthijns, Yara Kastelijn, Geerte Hoeke en Sophie de Boer het EK.</p><p>Bij de mannen gaan naast Van der Poel ook Lars van der Haar, Corné van Kessel, Joris Nieuwenhuis van start. David van der Poel, broer van Mathieu, zou ook van start gaan, maar hij heeft zich afgemeld met rugklachten.</p></aside><p>\"Of ik hem mis? Ja. Misschien een beetje raar om te zeggen, maar hij was altijd mijn grootste concurrent de afgelopen jaren. Zeker met wat hij nu heeft gepresteerd op de weg, had hij aardig wat volk naar de cross kunnen meebrengen. Jammer dat we niet tegen elkaar kunnen rijden. Ik denk dat we het een beetje aan elkaar te danken hebben dat we op een bepaald niveau rijden nu.\"</p><h2>Worst verdedigt titel bij de vrouwen</h2><p>Ook bij de vrouwen komt de titelverdediger uit Nederland: Annemarie Worst. Zij werd vorig seizoen geflankeerd door twee landgenotes, Marianne Vos en Denise Betsema.</p><p>Hoe is het dit seizoen met Worst? \"Gaat wel goed eigenlijk. Ik heb eindelijk een keer een wereldbekerwedstrijd gewonnen. Eigenlijk wel grappig, want er ligt wat meer modder dan andere jaren, maar ik heb laten zien dat ik dat ook wel kan.\"</p><p>Modder ligt er waarschijnlijk genoeg op het rondje in Silvelle. \"Ja, het was modderig vandaag. Het wordt een zware wedstrijd, ik denk dat het veel rennen wordt. De sterkste wint, denk ik. Of ik dat ben? Ik hoop het wel.\"</p>",
         "0.41359684",
         "False",
         "True",
         "True"
        ],
        [
         "250",
         "<h1>Zeker achttien doden bij brand in India </h1><p>Narendra Modi:</p><blockquote id=\"tweet\"><p>@narendramodi</p><p>Extremely anguished by the fire tragedy in Surat. My thoughts are with bereaved families. May the injured recover quickly. Have asked the Gujarat Government and local authorities to provide all possible assistance to those affected.</p><p>14:24</p><p>24 mei 2019</p></blockquote><p>Bij een brand in de Indiase stad Surat zijn zeker achttien mensen omgekomen. De vermoedelijke oorzaak is kortsluiting. De brand in brak uit op de tweede etage van een bedrijfsgebouw, op het moment dat er net een les was begonnen in een opleidingscentrum die in het pand is gevestigd. De meeste slachtoffers zijn studenten.</p><p>Op beelden is te zien dat mensen naar beneden springen om te ontsnappen aan het vuur. De brand woedde vlak bij het trappenhuis, waardoor het onmogelijk was om binnendoor weg te komen.</p><p>De brandweer rukte uit met negentien wagens. Het blussen van de brand duurde enkele uren. Daarna konden reddingswerkers het gebouw in om te zoeken naar overlevenden. Het dodental kan dus nog oplopen. De miljoenenstad Surat ligt ten noorden van Mumbai.</p><p>Premier Modi heeft op Twitter zijn deelneming betuigd. \"Mijn gedachten zijn bij de nabestaanden en slachtoffers,\" schrijft hij in een tweet.</p>",
         "0.41025954",
         "False",
         "True",
         "True"
        ],
        [
         "52",
         "<h1>Zorgen over nieuwe coronavarianten; wat betekent dit voor werking van vaccins?</h1><p>Het had wat voeten in de aarde, maar inmiddels zijn we in Nederland ruim twee weken aan het vaccineren tegen corona: een voorzichtig flikkerend lampje aan het eind van de tunnel.</p><p>En toen kwamen de virusmutaties. Eerst de Britse, daarna ook de Zuid-Afrikaanse en de Braziliaanse.</p><p>\"We zien een afname van het aantal gevallen, maar tegelijkertijd zien we een donkere wolk hangen\", sprak Jaap van Dissel woensdag in de Tweede Kamer. Blijkt de donkere wolk een regenbui waardoor de tunnel overstroomt? Drie vragen en antwoorden over de mutaties en de vaccinaties.</p><h2>1. Wat weten we over de effectiviteit van de huidige vaccins bij coronamutaties?</h2><p>De Britse variant is anders dan eerdere mutaties omdat hij naar schatting zo'n 30 procent besmettelijker is. Farmaceut Pfizer heeft daarom in het lab gekeken naar antistoffen in het bloed van gevaccineerde personen. Die antistoffen blijken de Britse variant even goed te neutraliseren als de klassieke coronavariant.</p><p>\"Dat is een belangrijke indicatie dat het vaccin ook effectief is tegen de Britse variant\", zegt woordvoerder Jan Willem de Heer van Pfizer.</p><p>Voor de Zuid-Afrikaanse variant ligt het iets anders. Die mutatie lijkt ervoor te zorgen dat het virus zich sneller en sterker hecht aan menselijke cellen.</p><p>Dat doet het net als het oorspronkelijke coronavirus via het zogeheten spike-eiwit aan de buitenkant van het virus. De meeste bestaande vaccins zorgen ervoor dat je immuunsysteem dat spike-eiwit herkent. Omdat het spike-eiwit niet substantieel anders lijkt bij alle bekende varianten, is de theorie dat vaccins ook in die gevallen werken.</p><p>Demissionair minister De Jonge wil de tweede Pfizer-prik uitstellen om sneller meer mensen te vaccineren:</p><p>Maar Zuid-Afrikaanse onderzoekers stelden deze week vast dat de natuurlijke antistoffen van mensen die eerder corona hebben gehad, er waarschijnlijk niet voor zorgen dat je niet met de Zuid-Afrikaanse variant besmet kunt worden. Als ons eigen immuunsysteem niet de juiste antistoffen aanmaakt om de Zuid-Afrikaanse variant te herkennen, is de vraag of de vaccins dat wel doen.</p><p>Pfizer onderzoekt dat nu met bloed van gevaccineerde personen in het lab. Binnenkort gebeurt dat ook met de Braziliaanse variant, zegt Pfizer.</p><h2>2. Wat als een vaccin niet effectief blijkt te zijn?</h2><p>Het kan zijn dat uit onderzoek blijkt dat de vaccins minder goed werken tegen bijvoorbeeld de Zuid-Afrikaanse variant, maar dat betekent nog niet dat ze helemaal niet werken, zegt Jan Willem de Heer: \"Het bestaande vaccin grijpt aan op verschillende plekken op het spike-eiwit.\"</p><p>Mogelijk beschermen de bestaande vaccins niet tegen het krijgen van een infectie met de Zuid-Afrikaanse variant, maar voorkomen ze wel dat je ernstig ziek wordt. Hoogleraar vaccinologie Anke Huckriede van het UMCG: \"Het in vitro labonderzoek kijkt maar naar zo'n 10 procent van alle antilichamen, de zogeheten neutraliserende antilichamen. Andere antistoffen zijn niet op die manier te meten, maar helpen wel bij bescherming tegen het virus.\"</p><p>Als uit het onderzoek van de farmaceuten in het lab zou blijken dat de neutraliserende antilichamen de Zuid-Afrikaanse variant niet helemaal uitschakelen, betekent het nog niet gelijk dat er een aangepast vaccin nodig is. Huckriede: \"Bij griepvaccins weten we hoeveel neutraliserende antistoffen we in vitro moeten meten om te kunnen schatten of een vaccin nog effectief is. Voor het coronavirus weten we dat nog niet.\"</p><h2>3. Hoe snel kan een vaccin worden aangepast?</h2><p>Volgens farmaceuten en deskundigen kan dat relatief snel, zeker in het geval van de mRNA-vaccins waar onder meer Pfizer en Moderna gebruik van maken. \"De reden om te kiezen voor deze techniek is omdat het flexibel is\", zegt Jan Willem de Heer.</p><p>mRNA-vaccins zorgen er met een stukje genetisch materiaal voor dat je lichaam een deel van het spike-eiwit van het coronavirus zelf aanmaakt en vervolgens antistoffen produceert tegen dat spike-eiwit. Een aanpassing in het vaccin vergt daarom slechts een verandering in de genetische code die aanzet tot het maken van het spike-eiwit, zegt Anke Huckriede: \"Dat kan je in theorie in uren voor elkaar hebben.\"</p><p>Vervolgens moet het natuurlijk nog op grote schaal geproduceerd worden, maar voor die tijd komt er ook weer een bureaucratisch proces op gang. Volgens het College ter Beoordeling van Geneesmiddelen (CBG) zal er zeker om nieuwe data van farmaceuten gevraagd worden als er eventueel een vaccin aangepast moet worden. Welke data precies hangt af van de hoeveelheid wijzigingen in het spike-eiwit en \"de mogelijke effecten hiervan op het vaccin\", aldus het CBG.</p><p>Op dit moment gaat men ervan uit dat niet de complete procedure weer opnieuw gedaan moet worden, zegt het CBG op basis van kennis die er is over hoe vaccins werken. Dataverzameling over de werking van de aangepaste vaccins kan \"hoogstwaarschijnlijk in klinische studies gedaan worden die vele male kleiner zijn dan de studies die nodig waren voor goedkeuring.\" Daarmee moet de procedure \"weken duren, geen maanden.\"</p><p>Deze week is ook begonnen met vaccineren in verpleeghuizen:</p>",
         "0.40732732",
         "False",
         "True",
         "True"
        ],
        [
         "139",
         "<h1>Feestganger in de shit na Koningsdag: 'Hallo politie, ik zit in een dixi'</h1><p>Wijkagent Jean Paul Yska:</p><blockquote id=\"tweet\"><p>@WA_Selwerd</p><p>Foto van het plaats delict. Trailer stond vol met dixi's en in een was de melder verstopt. Met gebruikmaking van een heftruck is ruimte gecreëerd om hem te bevrijden. https://t.co/HhljZso09E</p><p>10:04</p><p>28 april 2018</p></blockquote><p>In het Groningse Engelbert is een man bevrijd die tijdens Koningsdag vermoedelijk in een mobiel toilet in slaap was gevallen. 'Zijn' toilet was tijdens zijn slaap in de stad Groningen op een vrachtwagen geladen en was inmiddels omringd door andere wc's. Daardoor kon de man de deur niet meer openen en zat hij vast.</p><p>Daarop belde hij vanochtend vroeg naar de politie. \"Hallo politie. Ik zit in een dixi en om mij heen staan ook allemaal dixi's\", zei hij volgens een wijkagent.</p><p>De politie vond het toilet en de man bij een bedrijf op het industrieterrein van Engelbert. Daar stonden een heleboel vrachtwagens geladen met mobiele toiletten. \"De jongen kon gelokaliseerd worden doordat de politie sirenes gebruikte\", vertelt Folkert Takens van het bedrijf aan RTV Noord.</p><h2>Behoorlijk nuchter en blij</h2><p>Om de man te bevrijden, moesten andere dixi's van de vrachtwagen worden geladen met een vorkheftruck. De man maakt het verder goed. \"Hij was behoorlijk nuchter en blij. Ik kreeg een hand en een lach. Daarna zei hij bedankt\", vertelt Takens.</p><p>\"Als hij geen stroom in zijn mobiel zou hebben gehad, dan had hij wel een probleem.\" De jongen had anders pas maandag bevrijd kunnen worden. De dixi's stonden voor transport klaar op vrachtwagens om maandag in Heerenveen geleegd te worden.</p><h2>Markt</h2><p>De dixi's moesten vanochtend snel worden opgeruimd in Groningen, omdat er vandaag markt is. De chauffeur die de toiletten op de vrachtwagen geladen heeft, had niets in de gaten. \"Met een heftruck voel je niet echt een verschil.\"</p>",
         "0.4067686",
         "False",
         "True",
         "True"
        ],
        [
         "28",
         "<h1>AkzoNobel neemt de leiding in nieuw 24-uursrecord</h1><p>In de negende etappe van de Volvo Ocean Race heeft Team AkzoNobel de leiding genomen in een nieuw 24-uursrecord. De boot van schipper Simeon Tienpont kwam in een etmaal tot een afstand van ruim 600 zeemijl, omgerekend 1.111 kilometer.</p><p>De omstandigheden om snelheid te maken in de negende etappe, die voert van Newport naar Cardiff, zijn momenteel zo goed dat liefst vijf van de zeven deelnemers sneller zijn geweest dan het oude 24-uursrecord. Dat lag op 550,8 zeemijl en werd in maart 2015 gevestigd door Abu Dhabi Ocean Racing.</p><p>Achter AkzoNobel ligt het Nederlandse Team Brunel momenteel tweede. Ook deze boot was met 582,78 zeemijl sneller dan het oude record.</p><h2>Schade</h2><p>Team Brunel kreeg tijdens de negende etappe te kampen met schade aan het roer. Voor de reparatie moest een bemanningslid tot onder het schuin hangende zeiljacht kruipen. De schade heeft de boot kennelijk niet gehinderd.</p>",
         "0.40499365",
         "False",
         "True",
         "True"
        ],
        [
         "55",
         "<h1>Van Dijk wint proloog en pakt eerste leiderstrui Ronde van België</h1><p>Ellen van Dijk is goed begonnen aan de Ronde van België. De wielrenster van Trek-Segafredo was in een regenachtig Chimay de snelste in de proloog over 4,4 kilometer. Haar Britse teamgenote Elynor Bäckstedt werd tweede op drie seconden.</p><p>\"Het was heel erg nat\", zei Van Dijk na afloop. \"Het parcours was niet technisch en had veel rechte stukken. Op de finish twijfelde ik of ik alles uit mijn rit had gehaald, maar gelukkig was het net genoeg voor de leiderstrui.\"</p><p>Van Dijk kampte in april nog met een corona-besmetting, waardoor ze onder andere de Brabantse Pijl en de Amstel Gold Race aan zich voorbij moest laten gaan. Dat ze weer fit en in vorm is, bleek vorige week al op de NK tijdrijden: in Drenthe eindigde ze achter winnares Anna van der Breggen als tweede.</p><p>De Ronde van België gaat woensdag verder met een vlakke etappe van Blankenberge naar Brugge.</p>",
         "0.40204775",
         "False",
         "False",
         "False"
        ],
        [
         "42",
         "<h1>Wonen in Amsterdam: straks alleen voor de rijken? </h1><p>Amsterdam veryupt. Vooral in de oude stadsdelen Oost, Centrum en Oud-West komen steeds meer jonge draagkrachtige huizenkopers.</p><p>Wijken als de Pijp en de Kinkerbuurt, die er twintig jaar geleden vervallen bij lagen, krijgen weer een fleurig aanzien. De middenstand bloeit, restaurants en koffietentjes schieten als paddenstoelen uit de grond.</p><h2>Keerzijde</h2><p>Maar er is ook een keerzijde. Sociale huurwoningen worden door corporaties verkocht en huurders worden gedwongen te verhuizen naar buitenwijken, of steden als Almere, Purmerend en Hoofddorp.</p><p>Ook stijgen de prijzen van koopwoningen enorm. Begin deze maand meldde het NIVM nog dat de overspannen woningmarkt in Amsterdam aan het 'droogkoken' is.</p><p>Sociaal-geografen duiden het sjieker worden van oude stadswijken aan als 'gentrification', letterlijk veradellijking. Grote wereldsteden als New York en Londen kregen er eerder mee te maken.</p><p>In de Britse hoofdstad zijn de huren van woningen in het centrum en omliggende wijken gestegen naar enkele duizenden ponden per maand. Voor de middengroepen zijn ze onbetaalbaar.</p><h2>Gentrification</h2><p>Cody Hochstenbach, sociaal geograaf aan de Universiteit van Amsterdam, onderzocht de ontwikkelingen in Amsterdam en Rotterdam.</p><p>\"De nadelige gevolgen komen disproportioneel terecht bij lage inkomensgroepen. Als je ergens woont en je zit goed, gaat gentrification langs je heen\", vertelt hij. \"Maar mensen die moeten verhuizen omdat ze bijvoorbeeld kinderen krijgen, komen in de knel. Het is lastig om een nieuwe woning te vinden.\"</p><p>Maar niet alle groepen lage inkomens trekken weg. Hochstenbach maakt onderscheid tussen werklozen en werkenden met en zonder perspectief. Voor werkenden met lage inkomens in de dienstensector is de gentrificatie niet ongunstig.</p><p>Een Turkse groenteboer in Amsterdam-Oost krijgt er bijvoorbeeld klanten bij. \"Eerst verkochten wij alleen nog broodnodige spullen, maar ik merk dat onze klantenkring steeds meer uit het hoge segment komt, en meer producten wil\". vertelt hij.</p><blockquote id=\"quote\"><p>Het zorgt voor menging van welvaartsniveaus en etnische afkomst. - Tracy Metz</p></blockquote><p>Publiciste Tracy Metz wijst erop dat Amsterdam nog steeds heel veel sociale huurwoningen telt. Van alle woningen in Amsterdam behoort 57 procent tot de sociale huursector. In de oude wijken West, Zuid, Oost en het centrum is dit aandeel nu wel tot een derde gedaald.</p><p>Maar ze ziet ook de voordelen van de veryupping. \"Het zorgt voor menging van welvaartsniveaus en etnische afkomst. Voorwaarde is wel dat er een overheid is die goed let op de groepen aan de onderkant.\" Belangrijk daarbij is dat er voldoende sociale woningen blijven, benadrukt Metz.</p><aside><p>Amsterdam: huizenprijzen stijgen steeds verder</p></aside><aside><h3>Op bezoek bij de nieuwe buren </h3><p>Journalist Maartje Duin kocht een huis in de verhipte Spaarndammerbuurt. Ze merkte dat veel van haar nieuwe buren niet op haar zaten te wachten, en maakte daar een radiodocumentaire over: De moord-en-brand-buurt.</p></aside>",
         "0.4006766",
         "False",
         "True",
         "True"
        ],
        [
         "192",
         "<h1>Anti-corruptie-activiste Caputová gekozen tot president Slowakije</h1><p>De anti-populistische en pro-Europese advocaat Zuzana Caputová heeft de presidentsverkiezingen in Slowakije gewonnen. Het lijkt erop dat ze ongeveer 60 procent van de stemmers achter zich heeft gekregen. De 45-jarige milieu- en anti-corruptie-activiste wordt de eerste vrouwelijke president van het land.</p><p>\"Ik ben ontzettend blij met dit resultaat. Dit is een extreem sterk mandaat voor mij\", zei Caputová in een eerste reactie op haar overwinning.</p><p>\"Zuzana, Zuzana!\", scandeerden haar aanhangers op de achtergrond:</p><p>De officiële uitslag wordt pas vanmiddag bekendgemaakt, maar Caputová's tegenstander, Eurocommissaris Maros Sefcovic, heeft zijn nederlaag al erkend en haar gefeliciteerd. De politicus van de sociaal-democratische partij Smer had met 95 procent van de stemmen geteld de steun van ruim 40 procent van het electoraat.</p><h2>Moord op onderzoeksjournalist</h2><p>Caputová, tot voor kort de vicevoorzitter van de in 2017 opgerichte partij Progresívne Slovensko, profileerde zich in de campagne nadrukkelijk als anti-corruptiekandidaat en pleitte voor verandering en transparantie. Opvallend zijn ook haar progressieve standpunten over abortus en lhbti-rechten in het behoudende Slowakije.</p><p>Ongeveer een jaar geleden werd Slowakije opgeschrikt door de moord op onderzoeksjournalist Jan Kuciak en zijn vriendin. Zij werden doodgeschoten terwijl hij onderzoek deed naar banden tussen schimmige ondernemers en de regering. Het laatste artikel van Kuciak verscheen postuum en leidde tot massademonstraties en uiteindelijk de val van de regering van premier Fico.</p><p>Eerder zei Caputová al dat de moord op Kuciak een van de belangrijkste redenen was waarom ze mee wilde doen met de verkiezingen. Haar campagne tegen de corruptie die Kuciak aan de kaak wilde stellen, trok volgens peilingen veel jonge hoogopgeleide kiezers naar de stembus.</p><p>Judith vd Hulsbeek:</p><blockquote id=\"tweet\"><p>@juhuls</p><p>Presidentsverkiezingen in Slowakije. Grootste kanshebber is outsider Zuzana Čaputová, 45, burgerrechtenadvocaat en milieu-activist. Ze voerde campagne tegen corruptie. “Na de moord op Jan Kuciak zijn we wakker geworden. We willen verandering”, zegt jongen met bijpassend t-shirt. https://t.co/glcJ1nYB89</p><p>18:25</p><p>30 maart 2019</p></blockquote>",
         "0.4001429",
         "False",
         "True",
         "True"
        ],
        [
         "115",
         "<h1>Zeker negen doden in Italiaanse Alpen door lawines</h1><p>In Noord-Italië zijn gisteren door lawines zeker negen doden gevallen. Dat meldt het Duitse persbureau DPA op basis van de Italiaanse autoriteiten. In de Italiaanse Alpen wordt gewaarschuwd voor nog meer lawines.</p><p>Zeven doden vielen in de Aosta Vallei. De slachtoffers komen onder meer uit Italië en Engeland. Een persoon wordt nog vermist. Het aanhoudende lawinegevaar bemoeilijkt de zoekactie, schrijven Italiaanse media.</p><p>In de provincie Lombardije viel ook een dode en in Bolzano kwam een 18-jarige man om het leven door een lawine. Alle slachtoffers waren volgen Italiaanse media buiten geprepareerde pistes aan het skiën.</p><h2>Waarschuwingen</h2><p>Door de grote hoeveelheid verse sneeuw in delen van de Italiaanse Alpen blijft de lawinedienst waarschuwen. \"Individuele wintersporters kunnen heel makkelijk lawines veroorzaken, ook gevaarlijk grote lawines\", meldt de dienst.</p><p>Sneeuwverschuivingen leidden afgelopen weekend ook tot problemen op de weg. De Brennerpas was urenlang afgesloten en Nederlandse reizigers stonden meer dan tien uur in de file.</p>",
         "0.39998296",
         "False",
         "True",
         "True"
        ],
        [
         "33",
         "<h1>Etappe 21: sprinters krijgen kans voor fraai slotakkoord op Champs-Élysées</h1><p>Cees Bol, Sam Bennett en Caleb Ewan. Ze hebben er de Alpen en een klimtijdrit in de Vogezen voor moeten overleven, maar staan op de slotdag van de Ronde van Frankrijk weer in de schijnwerpers.</p><p>Natuurlijk zijn ook alle ogen gericht op aanstaand Tourwinnaar Tadej Pogacar. Maar de Tour van 2020, een editie waarin door de coronacrisis zo veel dingen anders gingen dan normaal, zal gewoon eindigen op de Champs-Élysées. En dus komt het hoogstwaarschijnlijk tot een massasprint.</p><p>Daar gaat Bol voor de eerste ritzege in zijn carrière in de Tour, Bennett voor zijn tweede en Ewan hoopt zijn overwinning op de slotfag van de Tour van vorig jaar te prolongeren. Of kan Wout van Aert zorgen voor een pleister op de wonde bij Jumbo-Visma?</p><p>Bekijk hier de zege van Ewan in 2019 in Parijs:</p><aside><h3>Vanaf 15.45 uur op de site en op tv</h3><p>De slotdag van de Tour is vanaf 15.45 uur te volgen op NPO 1, NOS.nl en in de NOS-app. De rit naar de Champs-Élysées begint om 16.00 uur, de finish wordt tegen 19.00 uur verwacht. Dione de Graaff maakt een extra lange Avondetappe, tot 19.55 uur. Gasten: Danny Nelissen, Theo Bos en Stef Clement.</p><p>Op NOS.nl en in de NOS-app kun je de etappe ook via een liveblog volgen. Om 14.00 uur klinkt op NPO Radio 1 de openingstune van Radio Tour de France, dat tot 20.00 uur duurt.</p></aside><p>De renners stappen tegen 16.00 uur in Mantes-la-Jolie, ten westen van Parijs, op de fiets en rijden dan richting het centrum van de stad. Pogacar en zijn ploeggenoten van UEA-Emirates zullen ongetwijfeld van een glaasje champagne genieten voordat de Champs-Élysées bereikt wordt.</p><p>Het peloton draait rond half zes de wereldberoemde boulevard op om acht ronden later te finishen. Dan zit de Tour de France van 2020 er na 3.470 kilometer op en worden de winnaars gehuldigd op het podium, met de Arc de Triomphe op de achtergrond.</p><p>Bekijk hieronder de laatste vooruitblik van Herman van der Zandt:</p><p>Tour de France</p>",
         "0.3970484",
         "False",
         "True",
         "True"
        ],
        [
         "122",
         "<h1>OM en marechaussee: nieuw onderzoek naar geweld tegen Afrikaanse migranten</h1><p>Het Openbaar Ministerie en de Koninklijke Marechaussee zijn een nieuw onderzoek gestart naar geweld tegen vluchtelingen uit de Hoorn van Afrika. Volgens beide organisaties krijgen migranten die vanuit het oosten van Afrika op weg zijn naar Europa nog steeds te maken met veel geweld, vooral in Sudan en Libië.</p><p>\"In deze landen worden duizenden mensen opgesloten in kampen\", meldt de marechaussee. \"Ze mogen pas verder reizen als familieleden flink betalen. Niet zelden vindt hierbij grof geweld plaats.\"</p><p>De focus van het onderzoek is gericht op criminele netwerken rond mensensmokkel via de zogeheten Centraal-Mediterrane Route. Vluchtelingen gebruiken die route om bijvoorbeeld vanuit Eritrea naar Europa te gaan. Al jaren persen criminele organisaties migranten af via deze route, stelt het OM, en daarbij worden mensen \"gruwelijk\" mishandeld.</p><h2>Netwerk geïdentificeerd</h2><p>De marechaussee wil migranten die tussen 2016 en 2024 de reis naar Europa hebben gemaakt als getuige horen. Ook worden slachtoffers en andere getuigen gevraagd foto's of video's te delen. De oproep is online in meerdere talen verspreid.</p><p>Eerder identificeerde het Openbaar Ministerie al een van de netwerken in een ander onderzoek.</p><aside><h3>Waarom een Nederlands onderzoek?</h3><p>Het OM en de marechaussee doen onderzoek, omdat de misdrijven zich voor een deel ook in Nederland afspelen. Zo wonen honderden Eritrese slachtoffers nu in Nederland. Ook werden familieleden van de migranten in Nederland door de smokkelaars gebeld om losgeld te betalen.</p><p>Verder bevindt een deel van de mensen die de misdrijven plegen zich ook hier. Mensensmokkelaars werken bijvoorbeeld samen met tussenpersonen in Nederland. De misdrijven vinden dus deels daar en deels in Nederland plaats, legt een woordvoerder van het Landelijk Parket uit.</p></aside><p>Twee jaar geleden werd er al een verdachte door Ethiopië uitgeleverd aan Nederland. Het OM ziet de 40-jarige man uit Eritrea een van de twee leiders van een zeer gewelddadige bende.</p><p>Een andere vermeende leider van de organisatie, ook uit Eritrea, zit vast in de Verenigde Arabische Emiraten. Hij werd \"na een internationale klopjacht\" opgepakt in Sudan. Nederland vroeg dit voorjaar om zijn uitlevering.</p><p>De organisatie zou tussen 2014 en 2020 Eritreeërs naar Nederland hebben laten komen onder levensgevaarlijke omstandigheden. Onderweg werden slachtoffers in Libië mishandeld, gemarteld en verkracht, terwijl ze met honderden anderen zaten opgesloten in kampen. Volgens het OM zijn meerdere slachtoffers daar overleden.</p><p>Nieuwsuur maakte vorig jaar deze video over de martelkampen in Libië:</p><h3>De martelkampen van Bani Walid</h3>",
         "0.39625293",
         "False",
         "True",
         "True"
        ],
        [
         "287",
         "<h1>Justitie: Efteling was nooit concreet doelwit</h1><p>Er is nooit sprake geweest van een concrete terreurdreiging tegen de Efteling. Dat zeggen het OM en minister Van der Steur van Justitie. Vanmorgen meldde BN/De Stem dat een vrouw van 25 jaar uit Werkendam zes weken vast heeft gezeten omdat ze via app-berichtjes had gesuggereerd een aanslag te plegen op het pretpark in Kaatsheuvel.</p><p>Het bericht van vanmorgen leidde volgens het Openbaar Ministerie tot veel verontruste telefoontjes. Mensen vroegen zich af of ze nog wel veilig naar de Efteling konden.</p><p>Maar het OM en minister Van der Steur zeggen dat er nooit echt gevaar is geweest. Van der Steur: \"Als de dreiging concreet zou zijn geweest, zouden er maatregelen zijn genomen. Die zijn niet genomen.\"</p>",
         "0.39527783",
         "False",
         "True",
         "True"
        ],
        [
         "173",
         "<h1>Gemeenten heroverwegen gebruik van omstreden Chinese camera's </h1><p>Een aantal gemeenten, waaronder Den Haag, gaat het gebruik van camera's van de Chinese merken Hikvision en Dahua heroverwegen. Dat zeggen de gemeenten tegen de NOS. De camera's zijn populair, maar er zijn zorgen over spionage en mensenrechtenschendingen door de fabrikanten.</p><p>Hun technologie wordt gebruikt in de Chinese regio Xinjiang, waar de Oeigoerse bevolking wordt onderdrukt. Daarnaast bestaat de vrees dat via de camera's van de twee merken kan worden meegekeken dankzij een mogelijk 'achterdeurtje' in de software. Overigens is zo'n bewust ingebouwd achterdeurtje nooit aangetroffen.</p><p>De gemeente Waalwijk zegt al een tijdje van plan te zijn om de merken in de ban te doen. Zutphen, Vaals, Hilvarenbeek, Helmond en Goeree-Overflakkee overwegen net als Den Haag om de Chinese merken niet langer te gebruiken. Andere gemeenten stoppen met de camera's van Hikvision en Dahua. Het gaat om Borsele, Druten en Scherpenzeel.</p><aside><p>Reactie Hikvision:</p><p>\"Hikvision neemt alle berichten over mensenrechten zeer serieus en neemt zijn verantwoordelijkheid voor het beschermen van mensen en bezittingen. Het bedrijf spreekt met overheden wereldwijd om misverstanden op te helderen en de zorgen te bespreken die er zijn over ons bedrijf en onze bedrijfsvoering.\"</p><p>\"Hikvision zet zich in voor het verdedigen van het recht op privacy en het beschermen van mensen en hun bezittingen. We nemen cybersecurity zeer serieus. Al onze producten worden ontwikkeld en geproduceerd met cybersecurity en privacy in gedachten. We zijn standvastig in onze missie om de veiligheid voor iedereen te vergroten.\"</p></aside><aside><p>Dahua zegt dat het een privaat bedrijf is en geen staatseigendom. Ook zegt het uitgebreid maatregelen te nemen om data van klanten te beschermen. Beschuldigingen dat het bedrijf direct of indirect betrokken is bij mensenrechtenschendingen \"in welk land dan ook\" wijst Dahua van de hand.</p><p>Indirect heeft de Chinese overheid overigens wel degelijk een deel van het bedrijf Dahua in handen, via onder meer China Mobile.</p></aside><h2>Den Haag: goed naar kijken</h2><p>In Den Haag worden 131 Hikvision-camera's gebruikt om verkeerssituaties te monitoren, zegt de gemeente. Wethouder Saskia Bruines wil de camera's niet zomaar laten verwijderen, ook niet die vlakbij de ministeries van Buitenlandse Zaken, Binnenlandse Zaken en Financiën hangen. \"Ik maak me nu geen zorgen over de veiligheid, omdat we de camera's heel beperkt gebruiken. Ik vind wel dat er alle aanleiding is om er heel goed naar te kijken. En als het nodig is om de camera's snel weg te halen, zullen we dat zeker doen\", zegt Bruines.</p><p>Den Haag hoopt snel uitsluitsel te hebben of de camera's kunnen blijven of niet. De gemeente wil naar aanleiding van het nieuws ook camera's van andere merken en leveranciers onderzoeken.</p><p>De wethouder zegt al een plan te hebben om alle sensoren en camera's die in de publieke ruimte gebruikt worden in een register zetten. Ook wil de stad opnieuw kijken naar de voorwaarden voor de inkoop van camera's, samen met de Vereniging van Nederlandse Gemeenten (VNG). \"Het is belangrijk om toezicht te houden in de openbare ruimte, maar wel op een verantwoorde manier\", zegt Bruines.</p>",
         "0.39520514",
         "False",
         "True",
         "True"
        ],
        [
         "207",
         "<h1>WK-kwalificatie: samenvattingen van 1 september</h1><p>In de Europese WK-kwalificatiezone werd er vandaag in de groepen C, E en F gespeeld. De samenvattingen van alle negen wedstrijden in een handig overzicht.</p><p>Groep C</p><p>In groep C leek koploper Duitsland tegen Tsjechië voor het eerst punten te verspelen. Maar in de 88ste minuut ging de ploeg van Joachim Löw toch nog met de winst aan de haal. Noord-Ierland nam door die overwinning afstand van de Tsjechen. Ook de Noren wonnen, maar zij lijken al kansloos voor een WK-ticket.</p><p>Groep E</p><p>In groep E heeft Denemarken alles weer opengegooid. Polen leek ongehinderd op de groepswinst af te gaan, maar in Kopenhagen werd Polen van de mat getikt. Ook Montenegro won, waardoor de nummer twee en drie op slechts drie punten van Polen staan.</p><p>Groep F</p><p>Engeland wint op papier heel eenvoudig van Malta, maar het eerste doelpunt valt pas in de 70ste minuut. De Engelsen blijven ongeslagen. Slowakije wint op de valreep van Slovenië. En dat is maar goed ook, want achtervolger Schotland boekte een ruime zege.</p>",
         "0.39452487",
         "False",
         "False",
         "False"
        ],
        [
         "257",
         "<h1>'Chaos en onveilige cultuur bij Commissariaat voor de Media'</h1><p>Bij het Commissariaat voor de Media heerst chaos en stuurloosheid, schrijft NRC. Ook zou sprake zijn van een onveilige werkcultuur.</p><p>NRC deed maanden onderzoek naar het CvdM na berichten over zorgwekkende ervaringen van voormalig medewerkers. De krant sprak met (ex-)medewerkers en had inzage in vertrouwelijke correspondentie en privébeeldopnames. De bronnen wilden allen anoniem blijven uit vrees dat openbaarheid hun carrière schaadt.</p><aside><p>Het Commissariaat voor de Media houdt toezicht op de naleving van de Mediawet. Het is ingesteld om \"de onafhankelijkheid, pluriformiteit en toegankelijkheid van het media-aanbod\" te waarborgen.</p></aside><p>Onder het personeel, zo'n vijftig mensen, bestaat veel onderling wantrouwen en medewerkers voelen zich onveilig, concludeert NRC. De top zelf zou zich schuldig maken aan roddelen met medewerkers over het functioneren van andere collega's.</p><p>Het personeelsverloop is met gemiddeld 20 procent per jaar opvallend hoog. \"We zijn goed in afscheid nemen\", zou een veelgehoorde grap op de vloer zijn.</p><p>De organisatie zou strikt hiërarchisch zijn georganiseerd en er is sprake van 'micromanagement' omdat de driekoppige leiding geen vertrouwen heeft in zijn personeel. Tegenspraak wordt niet gewaardeerd, zegt een oud-medewerker.</p><p>Tegen de krant zegt het Commissariaat het te betreuren \"dat sommige oud-medewerkers hun tijd bij het Commissariaat zo hebben ervaren\". \"We nemen alle signalen van medewerkers serieus (..). We willen een lerende organisatie zijn en hebben externe hulp ingeschakeld om ons daarbij te helpen.\"</p><h2>Omstreden nevenfuncties</h2><p>De algemeen directeur van het Commissariaat, Suzanne Teijgeler, is vorige week vertrokken. Ook is er nog geen vervanger voor de vorige maand afgezwaaide voorzitter Madeleine de Cock Buning. Verder is een ander collegelid geschorst, waardoor er nog maar één bestuurder over is, Jan Buné. Die verzweeg bij zijn herbenoeming in 2018 voor de minister dat hij een berisping had gehad.</p><p>Verder hebben leidinggevenden van het Commissariaat volgens de krant nevenfuncties die moeilijk te verenigen zijn met hun werk voor de toezichthouder. Buné is bijvoorbeeld voorzitter van de boekhoudcommissie van de Russische Mail.Ru Group. Dat is een internetbedrijf, eigenaar van VKontakte (de Russische variant van Facebook), dat volgens de krant in verband wordt gebracht met censuur.</p><p>Buné werd vorig jaar door de tuchtrechter berispt vanwege \"onzorgvuldig en ondeskundig handelen\" als accountant. Minister Slob werd hiervan nooit op de hoogte gebracht, waardoor hij dit niet kon meewegen bij zijn besluit om Buné te benoemen. Volgens het CvdM had de zaak \"geen raakvlakken met zijn werkzaamheden\" voor het Commissariaat voor de Media.</p><p>Eind april werd collegelid Eric Eljon geschorst door minister Slob. Dat was vanwege een vertrouwensbreuk die was ontstaan na publicatie van een roman van Eljon waarin hij een inkijkje gaf in de Nederlandse televisiewereld.</p><h2>Wachtgeld</h2><p>Ook over vertrokken voorzitter De Cock Buning is ophef. Zij heeft volgens de krant de komende tien jaar recht op 6,5 ton aan wachtgeld, \"terwijl er intern kritiek is op haar functioneren\". Volgens het Commissariaat is het de bedoeling dat ze \"zo kort mogelijk en in ieder geval niet langer dan een jaar\" gebruikmaakt van de regeling.</p>",
         "0.39231914",
         "False",
         "True",
         "True"
        ],
        [
         "24",
         "<h1>Grootste krant Turkije onder staatstoezicht gesteld</h1><p>De rechtbank in Istanbul heeft een bewindvoerder aangesteld bij het Turkse mediaconcern Zaman. Dat komt daardoor de facto onder staatstoezicht te staan.</p><p>Het concern geeft de grootste krant van het land uit, het gelijknamige Zaman. Die krant schrijft geregeld kritisch over de regering.</p><h2>Persbreidel</h2><p>Zaman wordt deels gefinancierd door de beweging van de grote rivaal van president Erdogan, de geestelijke Fethullah Gülen. De Turkse regering zegt dat de Gülen-beweging een terreurorganisatie is. Dat wordt ook als legitimatie gebruikt voor de stappen tegen organisaties die verbonden zijn aan de beweging, zoals Zaman.</p><p>\"De top van de regerende AK-partij voert echt een oorlog tegen de Gülen-beweging\", zegt correspondent Lucas Waagmeester. \"Alle bedrijven en organisaties die eraan gelieerd zijn, moeten het ontgelden.\"</p><p>De Turkse regering spreekt tegen dat er sprake is van een persbreidel. Volgens Ankara hebben de journalisten strafbare feiten gepleegd en moet er daarom worden ingegrepen.</p><p>Lucas Waagmeester:</p><blockquote id=\"tweet\"><p>@NOSWaagmeester</p><p>Daarmee staat de grootste krant van Turkije op het punt de nek om te worden gedraaid. Net als bij andere media gebeurde #Zaman #Turkije</p><p>14:31</p><p>4 maart 2016</p></blockquote><p>In oktober kwam de krant Bugün ook onder staatstoezicht te staan. Officiële reden daarvoor was het financiële beleid van het concern, maar in de praktijk veranderde de inhoudelijke koers van de krant volledig. Bugün was altijd zeer kritisch, maar veranderde binnen 24 uur naar een regeringsgezinde krant. \"Het was een bizarre make-over, de koers wijzigde volledig\", zegt Waagmeester. Intussen bestaat Bugün niet meer.</p><p>De toekomst ziet er volgens Waagmeester dan ook somber uit voor Zaman. \"Het is echt een klap voor het media-landschap in Turkije.\"</p>",
         "0.39194787",
         "False",
         "False",
         "False"
        ],
        [
         "228",
         "<h1>Hijskranengigant Mammoet verstevigt koppositie met overname</h1><p>Het Nederlandse hijskranenbedrijf Mammoet neemt zijn Britse branchegenoot ALE over. Een overnameprijs is niet bekendgemaakt.</p><p>Mammoet is de mondiale marktleider op het gebied van het hijsen en transporteren van zware voorwerpen, ALE de nummer drie. De overname moet nog worden goedgekeurd door mededingingsautoriteiten.</p><p>Paul van Gelder, de hoogste baas van Mammoet, is verguld met de deal. \"We vullen elkaar goed aan, waardoor we op alle continenten vertegenwoordigd zijn.\"</p><p>Het materieel van de bedrijven wordt ingezet in de olie- en gasindustrie, bouw, offshore-industrie en (hernieuwbare) energievoorziening. Mammoet is onderdeel van SHV, het grootste familiebedrijf van Nederland. Het bedrijf zette vorig jaar bijna 1 miljard euro om.</p>",
         "0.38937867",
         "False",
         "True",
         "True"
        ],
        [
         "100",
         "<h1>Amsterdamse deken onderzoekt handelen van advocaten in zaak-Taghi</h1><p>De Amsterdamse deken, toezichthouder op de advocatuur, gaat onderzoek doen naar het handelen van drie advocaten. Twee van hen treden op in de zaak van de criminele organisatie van Ridouan Taghi. De deken begint het onderzoek op verzoek van het Openbaar Ministerie.</p><p>De advocaten Nico Meijering, Christian Flokstra en Leon van Kleef worden door het OM ervan beschuldigd dat ze informatie hebben doorgespeeld aan handlangers van Taghi. Ze zouden dat hebben gedaan terwijl hun cliënten nog onder beperkende maatregelen vastzaten en ze dus niet over de zaak mochten communiceren. De drie advocaten werken voor hetzelfde kantoor, Ficq & Partners.</p><p>Meijering zegt dat hij en zijn kantoorgenoten \"zeer verheugd zijn\" met het onderzoek. Vanwege de geheimhoudingsplicht kunnen de advocaten niet in een openbare zitting reageren op de beschuldigingen. Bij de deken geldt die geheimhoudingsplicht niet en kunnen ze wel openheid van zaken geven. \"Wij hebben de deken zelf ook om dit onderzoek gevraagd om ons van elke blaam te zuiveren.\"</p><p>Ook advocaat Yassine Bouchikhi wordt in de stukken van het OM genoemd, maar zijn kantoor valt onder de deken in Midden-Nederland. Of er ook een onderzoek wordt gestart naar zijn handelen is niet bekend.</p><p>Zo'n twee weken geleden kwamen de beschuldigingen in het nieuws, toen meerdere kranten schreven over het nieuwe proces-verbaal in het Marengo-proces. In die strafzaak staat de crimineel Taghi met zestien andere verdachten terecht voor verschillende moorden en pogingen tot moord. Het OM verwijst in het stuk naar gekraakte versleutelde berichten en verklaringen van kroongetuige Nabil B..</p><p>Eerder onthulde het AD dat justitie ook advocaat Khalid Kasem ervan verdenkt dat hij informatie heeft doorgespeeld over een politie-inval in juli 2015 in Nieuwegein. Daarbij werd in opslagboxen een enorme hoeveelheid wapens gevonden. Een aantal handlangers van Taghi werd daarbij aangehouden.</p><p>Een contact van Taghi zou bij Kasem zijn langsgegaan om te achterhalen hoe de politie deze wapens op het spoor was gekomen. De advocaat ontkent dat hij die informatie aan hem heeft gegeven. De Amsterdamse deken startte al eerder een onderzoek naar het handelen van Kasem. Dat onderzoek loopt nog.</p><h2>Advocaten wissel</h2><p>Omdat de piketadvocaten van andere verdachten in de zaak zouden weigeren informatie door te spelen, zouden ze door handlangers van Taghi zijn vervangen, onder andere door advocaat Flokstra. Uit de berichten waar het OM naar verwijst, zou blijken dat handlangers van Taghi bij deze advocaten informatie hebben ingewonnen uit de dossiers van de verdachten die op dat moment nog in beperkingen zaten.</p><p>Het zou onder andere gaan om informatie over waar hun cliënten van verdacht werden, of er nog personen werden gezocht en wat voor bewijzen er waren. Ook zouden ze in de gaten houden of de naam van Taghi in het onderzoek zou opduiken.</p><h2>Raad van Discipline</h2><p>De advocaten worden daarmee beschuldigd van het schenden van de beperkende maatregelen. Als een verdachte in beperkingen zit mag noch de verdachte, noch de advocaat met derden spreken over de zaak omdat dat het onderzoek zou kunnen schaden.</p><p>De Amsterdamse Deken zal onderzoeken of de advocaten de voor hen geldende gedragsregels hebben overtreden of op een andere manier verwijtbaar hebben gehandeld. Het onderzoek zal zo'n acht weken duren.</p><p>Mocht uit het onderzoek van de toezichthouder blijken dat er niet volgens de regels is gehandeld, dan moeten de advocaten voor de Raad van Discipline verschijnen. Die beslist of een advocaat daadwerkelijk iets te verwijten valt. In dat geval kan de advocaat een waarschuwing krijgen, worden berispt of beboet. In uitzonderlijke gevallen kunnen advocaten worden geschorst.</p>",
         "0.38855362",
         "False",
         "True",
         "True"
        ],
        [
         "56",
         "<h1>Zorgen over flink hogere energierekening, ook bij coalitiepartijen</h1><p>Coalitiepartijen CDA en ChristenUnie zeggen dat Nederlanders niet een te hoge prijs zouden moeten betalen voor de energietransitie. Veel Nederlanders krijgen de komende dagen een mail van hun energieleverancier met de nieuwe, hogere prijzen voor stroom en gas van aankomend jaar. Het gaat al snel om een paar tientjes per maand, zeggen vergelijkingswebsites.</p><p>Dat de energiekosten nu zo fors stijgen, heeft te maken met het feit dat de prijzen van gas en elektra omhoog gaan. Maar ook speelt mee dat het kabinet de belastingen omhoog gooit.</p><p>Het doel van het kabinet is om energieverbruik te ontmoedigen. Daarom gaan huishoudens vanaf 1 januari gemiddeld alleen al aan energiebelasting 130 euro per jaar meer betalen.</p><p>Nu de tarieven van energiebedrijven op de mat vallen, en duidelijk begint te worden om welke bedragen het gaat, beginnen coalitiepartijen op de rem te trappen.</p><h2>Beter klimaat</h2><p>Fractievoorzitter van het CDA, Buma, vreest dat dit ervoor kan zorgen dat mensen juist minder bereid worden om mee te werken aan een beter klimaat.</p><p>\"Het is niet zo makkelijk om te zeggen, ach, we laten mensen wel een hogere rekening voor gas betalen om ze achter de duurzaamheidsopgave te krijgen\", zei hij vandaag. Ook fractievoorzitter Segers van de ChristenUnie vindt dat de burger zoveel mogelijk moet worden ontzien.</p><p>De coalitiepartijen willen dus dat de belastingen omlaag gaan, maar daarvoor moet wel geld gevonden worden en dat is lastig.</p><h2>Honderden euro's per jaar</h2><p>Nog niet iedereen weet hoeveel meer zij moeten gaan betalen, omdat nog maar drie van de tien grote energieleveranciers hun tarieven bekend hebben gemaakt. De zeven andere grote energieleveranciers hebben dat nog niet gedaan. Maar dát de prijzen stijgen, staat vast.</p><p>Pricewise maakte de schatting dat gezinnen gemiddeld 312,73 euro meer kwijt zijn aan gas en elektra dan vorig jaar. Milieu Centraal kwam tot een voorzichtigere schatting: een gemiddelde stijging van 195 euro per jaar.</p><aside><p>Pricewise baseert deze schatting op de drie energieleveranciers die hun tarieven al bekend hebben gemaakt. Als gemiddeld verbruik ging Pricewise uit van 3000 Kwh stroom en 1470 kuub gas.</p><p>Milieu Centraal baseerde zich bij de schatting ook op een gemiddeld verbruik van 3000 Kwh en 1470 kuub gas. Het verschil in de twee berekeningen is dat Milieu Centraal een algemene verwachte prijsstijging van gas en elektra als uitgangspunt nam, en Pricewise de tarieven van de drie energieleveranciers die nu al bekend zijn.</p><p>Staatssecretaris Keijzer van Economische Zaken en Klimaat zegt dat het gemiddelde verbruik lager ligt: 2500 Kwh en 1100 kuub gas. Op basis van dit verbruik zouden de prijzen volgens Pricewise gemiddeld met 257,75 euro stijgen.</p><p>Volgens het CBS lag het gemiddelde energieverbruik in 2017 op 2860 Kwh en 1240 Kuub gas.</p></aside><p>Begin januari worden de prijzen van de andere zeven grote energiebedrijven bekend. \"Dan kunnen we ook precies zeggen wat de energiekosten worden\", zegt een woordvoerder van stichting Milieu Centraal.</p><p>René de Visser uit Breezand kreeg al wel een brief van zijn energieleverancier. \"Ik had eigenlijk minder verbruikt dan voorgaande jaren\", zegt hij. \"Dus ik dacht: dat gaat de goede kant op.\" Toch moet hij volgend jaar zo'n 30 euro per maand meer betalen.</p><p>Voor mensen die veel stroom gebruiken en juist weinig gas, kan de regeling juist wel eens positief uitvallen want belasting op elektriciteit gaat juist omlaag.</p><p>Het kabinet berekende overigens in september dat de meeste Nederlanders er, ondanks deze kostenpostverhoging, qua koopkracht toch op vooruit gaan.</p>",
         "0.38845563",
         "False",
         "True",
         "True"
        ],
        [
         "51",
         "<h1>'Weidevogels ernstig bedreigd door koeienexplosie'</h1><p>Door verslaggever Trudy van Rijswijk</p><p>De grutto, de kievit, de tureluur en tal van andere weidevogels die typisch zijn voor het Nederlandse landschap worden in hun voortbestaan bedreigd. Dat komt door de toename van het aantal koeien, zegt de Vogelbescherming.</p><p>Op 1 april is het melkquotum afgeschaft en dat betekent dat boeren zo veel melk mogen leveren als ze zelf willen. En hoewel er een maximum aan de mestproductie is gesteld om de toename van de veestapel binnen de perken te houden, is het aantal koeien en kalveren het afgelopen jaar al met 100.000 toegenomen.</p><h2>Verschraling</h2><p>\"Al die koeien moeten kort gras eten. Dat gras moet eiwitrijk zijn zodat ze voldoende melk produceren\", zegt Kees de Pater van de Vogelbescherming. \"Dat is de pest voor de weidevogels. Die zijn juist gebaat bij langer gras, en een wat onkruidrijk, ongelijk terrein. Dan kunnen ze goed nesten bouwen en hun jongen veilig grootbrengen.\"</p><p>De Vogelbescherming vreest een toenemende verschraling van het landschap. Want door het kort houden van het gras verdwijnen ook allerlei bloemen en kruiden, omdat ze worden afgemaaid nog voor ze tot wasdom komen. Dat leidt dan weer tot het verdwijnen van vlinders en insecten, die belangrijk voedsel voor jonge kuikens van weidevogels zijn.</p><h2>Nesten markeren</h2><p>Er zijn boeren die wel degelijk rekening houden met de weidevogels. Ze maaien laat in het seizoen, zodat de nesten al uitgebroed zijn en de kruiden hun zaden al hebben verspreid. Kees van 't Klooster uit Nijkerk is zo'n boer. Hij boert op grond van Staatsbosbeheer en heeft een beheersplan moeten maken, met het oog op de weidevogels.</p><p>Hij zoekt hun nesten op en markeert ze met paaltjes. Zo kan hij zien welke plekken hij moet mijden als hij met zijn tractor het land opgaat. Ook eten zijn koeien nu ruwer voer, omdat ze kruiden en dik gras eten. Hun mest wordt daardoor droger, waardoor een andere bodemstructuur ontstaat.</p><h2>Subsidie </h2><p>Dat heeft tot gevolg dat zijn koeien minder melk produceren. Met een beetje subsidie is het bedrijf toch goed draaiend te houden, zegt Van 't Klooster. \"Als je ons vergelijkt met een gangbaar bedrijf van dezelfde omvang, doen we het zeker net zo goed. Wij zijn tevreden.\"</p><p>De Vogelbescherming vindt dat de overheid op korte termijn meer subsidie beschikbaar moet stellen voor boeren zoals Kees van 't Klooster. Want de stand van de weidevogels neemt nu al met zo'n 4 procent per jaar af, en de 'koeienexplosie' zoals de Vogelbescherming het noemt, zal dit proces dramatisch versnellen.</p>",
         "0.38825086",
         "False",
         "True",
         "True"
        ],
        [
         "1",
         "<h1>Utrecht breidt vluchtelingenopvang uit</h1><p>Utrecht gaat in op het verzoek van het COA om extra opvanglocaties in de stad te creëren voor vluchtelingen. Er komt onder meer een extra asielzoekerscentrum in het oosten van de stad.</p><p>Verder wordt het azc in de westelijke wijk Oog in Al uitgebreid, krijgt dat azc even verderop een tijdelijke dependance en komt er een noodopvanglocatie in de wijk Overvecht.</p><p>De omwonenden krijgen een uitnodiging voor informatiebijeenkomsten die vanaf volgende week zijn gepland.</p><p>Wethouder Diepeveen zegt in een persbericht dat Utrecht ook de komende jaren een evenredige bijdrage levert aan de opvang van vluchtelingen. Hij wijst erop dat in Oog er in Al al 25 jaar een asielzoekerscentrum is dat \"goed is ingebed in de wijk, mede door vele vrijwilligers uit de wijk\".</p><h2>Pieter Baan Centrum</h2><p>Het tweede azc in Oost-Utrecht komt waarschijnlijk in het pand waar nu het Pieter Baan Centrum is gevestigd. Dat pand komt in 2019 vrij, wanneer de psychiatrische kliniek naar Almere verhuist.</p><p>\"Met een tweede azc in de stad kunnen we vluchtelingen een menswaardige opvang bieden, een plek waar zij langere tijd kunnen wonen en rust hebben om hun leven weer op orde te krijgen\", zegt wethouder Diepeveen.</p>",
         "0.3882203",
         "False",
         "True",
         "True"
        ],
        [
         "154",
         "<h1>Smeets portretteert: Jillert Anema, schaatscoach</h1><p>Hij foeterde over de muziek in Thialf. Hij wist zeker dat Sven Kramer olympisch goud op de 10.000 meter op zijn buik kon schrijven. En hij maakte korte metten met een Amerikaanse talkshowhost. Jillert Anema. Een man met een gebruiksaanwijzing. Hij liet zich lange tijd volgen door Mart Smeets. Met een microfoontje. En ongecensureerd.</p><p>Op 27 juli bereikt Anema de respectabele leeftijd van 60. Al 20 jaar is hij actief in het schaatsen. Begonnen als fysiotherapeut en sinds 2008 een coach met een eigen schaatsploeg. Hoewel hij tijdens interviews vaak de show steelt, is hij bij wedstrijden de rust zelve. \"Ik blijf altijd rustig. Bij wedstrijden wel. Als ik onrustig ben, dan weet ik dat ik als de sodemieter moet ingrijpen\", zegt hij daarover.</p><h2>Soms is stilte het beste</h2><p>Ook naar zijn eigen schaatsers predikt de geboren Fries die rust. Zo gebeurt het regelmatig dat hij stil blijft na een gereden rit. Geen woord. Geen blik. \"Als ik niets kan toevoegen op dat moment wat de volgende rit beter maakt, dan moet ik op dat moment even helemaal niets doen. Je moet altijd bedenken: doe ik iets of doe ik niets.\" </p><p>\"De efficiëntie wordt stukken beter als je eerst dat besluit neemt. Een probleem heeft een natuurlijke neiging om zichzelf op te lossen. Als je een drol op de stoep hebt liggen, is die een maand later weg. Ook als je er niks aan doet. In een heleboel gevallen is het bijzonder nuttig om even niets te doen.\"</p><p>Toch zullen de meeste mensen hem anders kennen. Anema weet wel hoe dat komt. Hij neemt als voorbeeld het interview over de muziek in Thialf. \"Het interview werd een enorm succes en nu wordt de muziek niet meer zo hard gedraaid. Ik heb mijn zin, maar iedereen denkt nu wel: die man spoort niet.\" Lachend: \"Ik ben heel lief.\"</p><p>In Sotsji kon Nederland voor het eerst die lieve kant van Anema zien. Carien Kleibeuker wilde haar dochter Annemijn nog even spreken voor ze ging beginnen aan de olympische 5.000 meter.</p><blockquote id=\"quote\"><p>Erkenning voelt wel prettig. Hele tijden lang in alle eenzaamheid je eigen weg lopen is ook niet leuk. - Jillert Anema</p></blockquote><p>\"Maar ik zei: dat moet je niet doen. Je gaat daar niet harder van schaatsen. Dat heb je namelijk al in je. Het kan alleen maar minder gaan. Als je dochter verdriet heeft, gaat dat in je zitten en merk je dat in je race. Uiteindelijk hebben we dat dus niet gedaan. Maar ik wist wel: ik haal Annemijn op en dan is ze er als ze klaar is. Ik had al veel gesproken met de bewaking. Af en toe een praatje maken. Het was voorbedacht. En toen ik Annemijn haalde, liet de bewaking dat toe. Ze moesten wel lachen.\"</p><p>Het zorgde voor een mooi plaatje. Krijgt hij mede door dit gedrag erkenning binnen de schaatswereld? \"Erkenning voelt wel prettig. Hele tijden lang in alle eenzaamheid je eigen weg lopen is ook niet leuk. Maar nu is die erkenning er wel, vooral na dat Amerika-interview.\" </p><h2>Het kan altijd beter</h2><p>Anema hielp Jorrit Bergsma aan olympisch goud op de 10.000 meter. Sven Kramer werd verslagen, maar dat was voor de coach geen verrassing. \"Ik wist zeker dat Jorrit ging winnen. Achteraf dacht ik wel: heel Nederland wilde Sven zien winnen. De revanche na Vancouver. Maar ik heb daar nooit aan gedacht.\"</p><p>Nu gaat het Anema ook voor de wind met Team Clafis. Heather Richardson, Jorrit Bergsma en Carlijn Achtereekte presteren uitstekend en ook de marathonploegen Tjolk en A-ware/Fonterra doen het goed. Toch blijft Anema kritisch.</p><p>\"Het kan altijd beter. Een titel erbij is gewoon een streepje. Met je banksaldo is dat hetzelfde. Dat is een getal op een computer en je moet dat zo hoog mogelijk proberen te krijgen. Als ik nu achterover ga leunen, dan is het over. Dan ben ik gepensioneerd. Het is niet zo dat je ergens zit en denkt: wat doen we het goed. Zo werkt het niet.\"</p>",
         "0.3878588",
         "False",
         "True",
         "True"
        ],
        [
         "253",
         "<h1>Oranjevrouwen zetten ook Turkije simpel opzij in EK-kwalificatie </h1><p>De Nederlandse voetbalvrouwen hebben ook hun tweede EK-kwalificatiewedstrijd gewonnen. In het Abe Lenstra Stadion in Heerenveen rekende de ploeg van bondscoach Sarina Wiegman met 3-0 af met Turkije.</p><p>Afgelopen vrijdag boekte Oranje al een monsterzege (0-7) op Estland. Na twee duels staat Nederland op doelsaldo bovenaan in de poule.</p><h2>Stand groep A</h2><table> <thead> </thead> <tbody> <tr> <td>Nederland</td> <td>2-6 (10-0)</td> </tr> <tr> <td>Rusland</td> <td>2-6 (5-0)</td> </tr> <tr> <td>Slovenië</td> <td>2-3 (5-1)</td> </tr> <tr> <td>Kosovo</td> <td>2-3 (2-5)</td> </tr> <tr> <td>Turkije</td> <td>2-0 (0-5)</td> </tr> <tr> <td>Estland</td> <td>2-0 (0-11)</td> </tr> </tbody> </table><p>Wiegman kon in haar vijftigste wedstrijd als bondscoach geen beroep doen op de aan haar dijbeen geblesseerde Vivianne Miedema. Ook zonder de topscorer ging het Nederlands elftal meteen op zoek naar de openingstreffer.</p><h2>Van der Gragt opent score</h2><p>De muur van Turkije, de nummer 62 van de wereld, bleek broos. Oranje creëerde de nodige kansen, maar in de eerste helft vond alleen Stefanie van der Gragt het net. De verdedigster scoorde met het hoofd uit een hoekschop van Sherida Spitse.</p><p>Ook na rust waren de Oranjevrouwen de bovenliggende partij. De tweede treffer van Nederland was er eentje om in te lijsten. Een lange pass van Spitse bereikte Daniëlle van de Donk, die de bal op fraaie wijze over de Turkse doelvrouw volleerde.</p><p>Na twee assists pikte Spitse in de slotfase zelf ook een doelpunt mee. Oranje kreeg na een overtreding op Lineth Beerensteyn een strafschop, die door Spitse werd benut: 3-0.</p><h2>Nu tegen Slovenië</h2><p>Begin oktober vervolgt Nederland de kwalificatiereeks voor het EK van 2021 in Engeland met een uitwedstrijd tegen Slovenië.</p><p>Bekijk hieronder de reacties van bondscoach Sarina Wiegman, Sherida Spitse en Daniëlle van de Donk.</p>",
         "0.38696015",
         "False",
         "True",
         "True"
        ],
        [
         "79",
         "<h1>Dit is het EK van de beslissing in de laatste paar minuten</h1><p>Na Italië bevestigde vanavond ook Tsjechië ons voorgevoel: er wordt dit EK vaker gescoord in de laatste minuten dan op andere toernooien. Maar liefst zeven van de twintig gespeelde wedstrijden op het EK in Frankrijk werden beslist in de laatste vijf minuten. Dat kwam nog nooit eerder voor. Maar hoe kan het dat er zo veel gescoord wordt in de slotfase?</p><p>\"Focus\", zegt sportpsycholoog Rico Schuijers. \"Je ziet vaak dat teams in de verdediging hun concentratie verliezen, zodra de slotfase van een wedstrijd is aangesproken. Dat komt doordat ze aan het aftellen zijn. Ze zien de tijd op de klok en laten zich daardoor afleiden. Je ziet ook veel meer onnodig balverlies en slordig weggegeven van corners in een slotfase.\"</p><aside><h3>Deze landen maakten dit EK een beslissende goal in de 85e minuut of later: </h3><p>Frankrijk - Roemenië (2-1) Engeland - Rusland (1-1) Frankrijk - Albanië (2-0) Spanje - Tsjechië (1-0) Engeland - Wales (2-1) Italië - Zweden (1-0) Tsjechië - Kroatië (2-2)</p></aside><p>Een typisch voorbeeld van hoe het niet moet was de late goal in de wedstrijd Engeland - Rusland. \"De Russen zijn de hele wedstrijd niet in de buurt van het Engelse doel geweest\", zegt Schuijers, \"maar uiteindelijk kopt die Berezutski hem toch goed in.\"</p><blockquote id=\"quote\"><p>Wat doe je bij een 1-0 voorsprong? Doorgaan of proberen de 1-1 te voorkomen? - Sportpsycholoog Rico Schuijers</p></blockquote><p>Het ging volgens Schuijers mis doordat de Engelsen te veel bezig waren met de stand. \"Wat doe je bij een 1-0 voorsprong? Blijf je dan doorvoetballen om de 2-0 te maken, of ga je proberen de 1-1 te voorkomen? De Engelsen waren veruit de betere ploeg, maar je zag ze denken: wat moeten we nou?\" </p><p>Het ligt daarbij natuurlijk niet alleen aan de spelers op het veld, ook de coach speelt volgens de sportpsycholoog een rol. \"Je moet als coach op dat moment met wissels het verschil proberen te maken. De beste tactiek is om rustig te blijven en niet anders te gaan spelen dan je al deed.\"</p><h2>Hoe het wel moet: IJsland</h2><p>Er zijn ook ploegen die juist goed hun focus hielden. Bijvoorbeeld IJsland, dat in een lastige wedstrijd tegen Portugal knap standhield, zegt Schuijers: \"Bij de IJslanders viel mij vooral op hoe gedisciplineerd er gespeeld werd. Ze lieten zich niet van de wijs brengen door die 1-0 achterstand en bleven spelen om de 1-1 te maken.\"</p><p>\"Ook na de gelijkmaker werden er geen grote risico's genomen en bleven ze kalm, zelfs als de scheids ernaast zat. Ik heb echt wel situaties gezien waarbij andere spelers helemaal door het lint zouden gaan.\"</p><p>Schuijers: \"Bovendien bleven ze rustig bij onder het soms irritante spel van de Portugezen. Fenomenaal. Iets waar wij als Nederland in het verleden juist niet mee om konden gaan. Wij lieten ons in 2006 compleet provoceren door de Portugezen, en verloren daardoor.\"</p><p>Sport algemeen</p>",
         "0.38667077",
         "False",
         "True",
         "True"
        ],
        [
         "191",
         "<h1>Veel geruchten in Athene, maar nog geen concreet plan</h1><p>Het Griekse kabinet zit al uren te vergaderen over het nieuwe pakket aan maatregelen. Er is nog geen snipper informatie officieel, maar aan alle kanten gaan er geruchten rond en wordt er gelekt over de voorstellen.</p><p>Het meest opvallend en het meest genoemd in Griekse media is de grootte van het pakket: 12 miljard euro. Zondag nog stemde de bevolking in een referendum tegen een bezuinigingspakket dat 8 miljard euro behelsde, vier miljard minder dus dan de geruchten van vandaag.</p><p>Maar die getallen vallen niet helemaal te vergelijken, omdat het oude pakket over een veel kortere periode ging dan waarover nu wordt overlegd. En de regering moet wel drastischer maatregelen nemen: door de banksluiting die al twee weken duurt is de economie nog verder onder druk komen te staan.</p><h2> Hotels en restaurants</h2><p>Tot in detail wordt er informatie over de plannen naar buiten gebracht. Zo weet de krant Naftemporiki dat de winstbelasting wordt verhoogd, net als de btw op luxeproducten, hotels, restaurants en transport. Maar de belastingvoordelen voor de Griekse eilanden blijven gehandhaafd.</p><p>Premier Tsipras moet zijn plan heel binnenkort aan Brussel presenteren, zodat het doorgerekend kan worden. De deadline daarvoor is morgenochtend om 08.30 uur. Volgens de Griekse minister van Defensie Kammenos worden de voorstellen \"in de komende uren\" ingediend.</p><h2> Franse ambtenaren</h2><p>Om 14.00 uur Nederlandse tijd werd het plan gepresenteerd aan het kabinet, dat sindsdien in overleg is. Het pakket aan noodmaatregelen moet overtuigend zijn voor Brussel, anders kan Griekenland naar extra noodsteun fluiten. Tegelijkertijd moet Tsipras rekening houden met zijn radicalere partijgenoten in Syriza, die geen loon- en pensioenmaatregelen willen.</p><p>De druk vanuit Europa is groot, maar er is ook bereidheid te helpen. Guy Verhofstadt bedoelde het gisteren misschien niet letterlijk dat hij desnoods zelf naar Athene komt om te helpen, maar volgens de Duitse krant Die Welt zijn er wel Franse ambtenaren naar Athene afgereisd om te helpen de begroting sluitend te maken.</p><h2>Beurzen</h2><p>De situatie in Griekenland houdt de beurzen al maanden in zijn greep. De schommelingen zijn groot. Vandaag reageerden beleggers positief op het nieuws dat er een nieuw voorstel ligt. De Duitse beurs eindigde 2,2 procent hoger, net als de beurs in Parijs. De AEX sloot met een winst van 2,4 procent op 469,97 punten.</p><p>Afgelopen dinsdag kelderde de Amsterdamse beurs nog met 2,4 procent naar de laagste stand sinds februari.</p><h2>Demonstratie</h2><p>In Athene staan vanavond opnieuw duizenden mensen op het Syntagmaplein om te demonstreren. Dit keer weer pro-Europa, er wordt \"wij blijven in Europa\" gescandeerd. De menigte eist dat Tsipras een deal sluit met de schuldeisers, zodat Griekenland in de euro kan blijven.</p>",
         "0.38662288",
         "False",
         "True",
         "True"
        ],
        [
         "0",
         "<h1>Uitgesproken, omstreden en vandaag (deels) vrijgepleit: wethouder Palmen</h1><p>Het begint met een een stuk grond. Jo Palmen koopt het perceel in 1976 van de gemeente Brunssum. Maar er ontstaat discussie over de grenzen van het perceel. Er volgt jarenlang juridisch getouwtrek, en als Palmen in 2006 voor het eerst wethouder is, wijst de gemeenteraad de grond aan hem toe.</p><p>Kort daarna komt er een ander college van burgemeester en wethouders, en dat college komt terug op het besluit. Na enig geharrewar zou Palmen (inmiddels raadslid voor BBB/Lijst Palmen) een schadeclaim hebben ingediend bij de gemeente van naar verluidt 1,5 miljoen euro.</p><blockquote id=\"quote\"><p>Voor jurist hoef je niets te kunnen. - Jo Palmen, jurist</p></blockquote><p>Voordat Palmen de politiek in gaat, is hij metselaar en aannemer. Hij schoolt zich later om tot jurist. \"Voor jurist hoef je niets te kunnen\", zegt hij daar zelf over in een interview met een lokale zender. \"Je moet je gezonde verstand gebruiken, wat iedereen heeft.\" </p><p>Dat gezonde verstand gebruikt hij ook om zijn populariteit te vergroten in Brunssum, een plaats in Zuid-Limburg met zo'n 30.000 inwoners. Op maandag kunnen alle Brunssummers bij hem terecht voor gratis advies over allerhande kwesties.</p><p>Mensen lopen met hem weg of haten hem. Dat komt mede door zijn uitgesproken gedrag: hij neemt geen blad voor de mond. Zo maakte hij een mede-raadslid uit voor 'varkenskop' en burgemeester Winants noemde hij 'achterlijke Heinie'.</p><p>Voormalig burgemeester Fons Jacobs liet hem zelfs een keer door de politie uit de raadszaal verwijderen vanwege opruiend taalgebruik en veelvuldig interrumperen. Hij had Jacobs 'een circusdirecteur' genoemd.</p><p>Zelf vindt Palmen dat hij gewoon duidelijk is. \"Zo kunnen er geen misverstanden ontstaan. Vele wegen leiden naar Rome en ik neem altijd de kortste.\" Dat hij mensen uitscheldt, ontkent hij. \"Ik laat mensen altijd in hun waarde en respecteer hen, maar ik heb ook weleens een slechte dag.\"</p><p>Palmen kan op voor zijn tweede termijn als wethouder als de de Brunssumse coalitie afgelopen september uiteenvalt. Maar er is een horde: een half jaar ervoor heeft de raad een reglement van orde aangenomen waarin staat dat kandidaat-wethouders een integriteitsonderzoek moeten ondergaan voordat ze worden geïnstalleerd.</p><p>Die horde wordt genomen zonder hem echt te nemen. De lokale partijen in Brunssum, die een krappe meerderheid hebben, wachten het integriteitsonderzoek niet af. Tegen de zin van burgemeester Winants en de oppositiepartijen, wordt Palmen gewoon geïnstalleerd.</p><p>Het integriteitsonderzoek wordt alsnog uitgevoerd en Palmen wordt daarin \"een hoog risico\" voor de lokale politiek genoemd.</p><p>Uit het rapport: \"De wethouder is als burger verwikkeld in een langjarige juridische procedure. Daarin kan hij informatie gebruiken die hij eerst als raadslid- en nu als wethouder krijgt. Ook heeft zijn fractie tijdens een besloten raadsvergadering geprobeerd het conflict met de gemeente op de politieke agenda te krijgen. Dat is belangenverstrengeling.\"</p><h2>'Bullshit, smaad en laster'</h2><p>Palmen noemt de aantijgingen \"bullshit, smaad en laster\" en een aantasting van zijn privacy en integriteit. De oppositie en de burgemeester willen dat hij vertrekt, maar Palmen weigert. En de kwestie trekt hogerop ook de aandacht: minister van Binnenlandse Zaken Ollongren \"onderzoekt de opties\".</p><p>\"Het is lastig\", zegt ze begin december. \"Want het gaat om een wethouder die gesteund wordt door de gemeenteraad en tegelijkertijd lijkt er een integriteitsrisico te spelen.\"</p><blockquote id=\"quote\"><p>Zeker, dat is mijn doel. - Minister Ollongren over aftreden van Palmen</p></blockquote><p>Begin december kondigt CDA-burgemeester Luc Winants aan dat hij opstapt, vanwege de \"aanhoudende bestuurlijke crises in Brunssum\". Hij zegt geen deel uit te willen maken van een gemeentebestuur dat \"zo nadrukkelijk de regels van integer bestuur aan de laars lapt\".</p><p>Ollongren zegt naar aanleiding van het vertrek van Winants dat Palmen moet opstappen. \"Zeker, dat is mijn doel.\" Maar zover komt het niet.</p><p>Een paar weken later stellen de coalitiepartijen in de gemeenteraad voor dat er een tweede integriteitsonderzoek komt naar Palmen, om zijn naam te zuiveren. Het voorstel wordt aangenomen, met alleen de stemmen van de coalitiepartijen voor.</p><h2>'Geen klare wijn'</h2><p>Voor de stemming loopt de oppositie boos de zaal uit. Ze zijn verrast door de motie. En omdat ze zich er niet op hebben kunnen voorbereiden, verlaten CDA, PvdA, SP en VVD de zaal.</p><p>Het onderzoek kwam er dus toch en vandaag werd de uitkomst bekend. Twee hoogleraren die het onderzoek hebben gedaan, pleiten Palmen grotendeels vrij. Ze vinden dat de wethouder kan aanblijven. Maar ze vinden ook dat Palmen zich \"onvoorzichtig gedroeg door over het geschil geen klare wijn te schenken\".</p><p>Zo blijkt de grond waar het allemaal om begon niet meer in het bezit te zijn van Palmen. En van een schadeclaim van 1,5 miljoen euro is geen sprake. \"Palmen liet dit achterwege en bewees daarmee zichzelf en de gemeente Brunssum geen goede dienst.\" </p><p>Lees hier meer uit het rapport dat vandaag is uitgekomen.</p>",
         "0.38587093",
         "False",
         "True",
         "True"
        ],
        [
         "159",
         "<h1>Vrouw aangehouden na aanrijding in Ede, 'slachtoffer meerdere keren overreden'</h1><p>In het centrum van Ede heeft een vrouw vermoedelijk met opzet een voetganger aangereden. Het slachtoffer is zwaargewond naar een ziekenhuis gebracht. Getuigen zeiden tegen Omroep Gelderland dat de vrouw meerdere keren over het slachtoffer heen is gereden. Over de identiteit van het slachtoffer wil de politie niets kwijt, omdat de familie nog niet is ingelicht.</p><p>Om 17.00 uur verstuurde de politie een oproep op Burgernet om uit te kijken naar een kleine grijze auto die bestuurd werd door een vrouw met lang zwart haar. Veertig minuten later kwam het bericht dat het voertuig was aangetroffen. De bestuurster is aangehouden.</p><p>Het incident speelde zich af in een winkelgebied. Veel mensen hebben gezien wat er gebeurde. Voor hen is slachtofferhulp ingeschakeld.</p>",
         "0.38575014",
         "False",
         "False",
         "False"
        ]
       ],
       "shape": {
        "columns": 5,
        "rows": 293
       }
      },
      "text/html": [
       "<div>\n",
       "<style scoped>\n",
       "    .dataframe tbody tr th:only-of-type {\n",
       "        vertical-align: middle;\n",
       "    }\n",
       "\n",
       "    .dataframe tbody tr th {\n",
       "        vertical-align: top;\n",
       "    }\n",
       "\n",
       "    .dataframe thead th {\n",
       "        text-align: right;\n",
       "    }\n",
       "</style>\n",
       "<table border=\"1\" class=\"dataframe\">\n",
       "  <thead>\n",
       "    <tr style=\"text-align: right;\">\n",
       "      <th></th>\n",
       "      <th>content</th>\n",
       "      <th>ev_score</th>\n",
       "      <th>is_ev_semantisch</th>\n",
       "      <th>is_ev_keyword</th>\n",
       "      <th>is_ev_final</th>\n",
       "    </tr>\n",
       "  </thead>\n",
       "  <tbody>\n",
       "    <tr>\n",
       "      <th>116</th>\n",
       "      <td>&lt;h1&gt;Inval bij kantoren Imtech in Duitsland&lt;/h1...</td>\n",
       "      <td>0.515985</td>\n",
       "      <td>True</td>\n",
       "      <td>True</td>\n",
       "      <td>True</td>\n",
       "    </tr>\n",
       "    <tr>\n",
       "      <th>276</th>\n",
       "      <td>&lt;h1&gt;Veel nieuwe motorrijders in 2019, 'doorbra...</td>\n",
       "      <td>0.503322</td>\n",
       "      <td>True</td>\n",
       "      <td>False</td>\n",
       "      <td>True</td>\n",
       "    </tr>\n",
       "    <tr>\n",
       "      <th>160</th>\n",
       "      <td>&lt;h1&gt;Extinction Rebellion wil inzet waterkanon ...</td>\n",
       "      <td>0.453411</td>\n",
       "      <td>False</td>\n",
       "      <td>True</td>\n",
       "      <td>True</td>\n",
       "    </tr>\n",
       "    <tr>\n",
       "      <th>7</th>\n",
       "      <td>&lt;h1&gt;Google opent eerste fysieke winkel in Lond...</td>\n",
       "      <td>0.450145</td>\n",
       "      <td>False</td>\n",
       "      <td>True</td>\n",
       "      <td>True</td>\n",
       "    </tr>\n",
       "    <tr>\n",
       "      <th>104</th>\n",
       "      <td>&lt;h1&gt;Welshman wil vuilnisbelt opkopen op zoek n...</td>\n",
       "      <td>0.444617</td>\n",
       "      <td>False</td>\n",
       "      <td>False</td>\n",
       "      <td>False</td>\n",
       "    </tr>\n",
       "    <tr>\n",
       "      <th>...</th>\n",
       "      <td>...</td>\n",
       "      <td>...</td>\n",
       "      <td>...</td>\n",
       "      <td>...</td>\n",
       "      <td>...</td>\n",
       "    </tr>\n",
       "    <tr>\n",
       "      <th>70</th>\n",
       "      <td>&lt;h1&gt;Weer studentencafés Nijmegen dicht wegens ...</td>\n",
       "      <td>0.233395</td>\n",
       "      <td>False</td>\n",
       "      <td>True</td>\n",
       "      <td>True</td>\n",
       "    </tr>\n",
       "    <tr>\n",
       "      <th>114</th>\n",
       "      <td>&lt;h1&gt;Champions League ver weg voor Liverpool&lt;/h...</td>\n",
       "      <td>0.229286</td>\n",
       "      <td>False</td>\n",
       "      <td>True</td>\n",
       "      <td>True</td>\n",
       "    </tr>\n",
       "    <tr>\n",
       "      <th>194</th>\n",
       "      <td>&lt;h1&gt;Doelman Stekelenburg zet punt achter inter...</td>\n",
       "      <td>0.221744</td>\n",
       "      <td>False</td>\n",
       "      <td>False</td>\n",
       "      <td>False</td>\n",
       "    </tr>\n",
       "    <tr>\n",
       "      <th>91</th>\n",
       "      <td>&lt;h1&gt;'Dit nog nooit meegemaakt bij RKC'&lt;/h1&gt;&lt;p&gt;...</td>\n",
       "      <td>0.213119</td>\n",
       "      <td>False</td>\n",
       "      <td>True</td>\n",
       "      <td>True</td>\n",
       "    </tr>\n",
       "    <tr>\n",
       "      <th>232</th>\n",
       "      <td>&lt;h1&gt;Steijn durft reputatie bij Sparta wel op s...</td>\n",
       "      <td>0.192707</td>\n",
       "      <td>False</td>\n",
       "      <td>True</td>\n",
       "      <td>True</td>\n",
       "    </tr>\n",
       "  </tbody>\n",
       "</table>\n",
       "<p>293 rows × 5 columns</p>\n",
       "</div>"
      ],
      "text/plain": [
       "                                               content  ev_score  \\\n",
       "116  <h1>Inval bij kantoren Imtech in Duitsland</h1...  0.515985   \n",
       "276  <h1>Veel nieuwe motorrijders in 2019, 'doorbra...  0.503322   \n",
       "160  <h1>Extinction Rebellion wil inzet waterkanon ...  0.453411   \n",
       "7    <h1>Google opent eerste fysieke winkel in Lond...  0.450145   \n",
       "104  <h1>Welshman wil vuilnisbelt opkopen op zoek n...  0.444617   \n",
       "..                                                 ...       ...   \n",
       "70   <h1>Weer studentencafés Nijmegen dicht wegens ...  0.233395   \n",
       "114  <h1>Champions League ver weg voor Liverpool</h...  0.229286   \n",
       "194  <h1>Doelman Stekelenburg zet punt achter inter...  0.221744   \n",
       "91   <h1>'Dit nog nooit meegemaakt bij RKC'</h1><p>...  0.213119   \n",
       "232  <h1>Steijn durft reputatie bij Sparta wel op s...  0.192707   \n",
       "\n",
       "     is_ev_semantisch  is_ev_keyword  is_ev_final  \n",
       "116              True           True         True  \n",
       "276              True          False         True  \n",
       "160             False           True         True  \n",
       "7               False           True         True  \n",
       "104             False          False        False  \n",
       "..                ...            ...          ...  \n",
       "70              False           True         True  \n",
       "114             False           True         True  \n",
       "194             False          False        False  \n",
       "91              False           True         True  \n",
       "232             False           True         True  \n",
       "\n",
       "[293 rows x 5 columns]"
      ]
     },
     "execution_count": 23,
     "metadata": {},
     "output_type": "execute_result"
    }
   ],
   "source": [
    "from sklearn.metrics.pairwise import cosine_similarity\n",
    "import numpy as np\n",
    "\n",
    "df_sample = df.sample(frac=0.1, random_state=42).reset_index(drop=True)\n",
    "\n",
    "\n",
    "# Step 1: Define multiple search phrases (specific and broad)\n",
    "zoekzinnen = [\n",
    "    \"Artikel over elektrische auto's of laadpalen.\",\n",
    "    \"Nieuws over accutechnologie, stekkervoertuigen of EV-beleid.\",\n",
    "    \"EV, elektrische auto, laadpaal, Tesla, batterij — dit artikel gaat hierover.\"\n",
    "]\n",
    "\n",
    "# Step 2: Encode all search phrases into embeddings\n",
    "query_embeddings = model.encode(\n",
    "    zoekzinnen,\n",
    "    prompt_name=\"retrieval.query\",\n",
    "    normalize_embeddings=True\n",
    ")\n",
    "\n",
    "# Step 3: Normalize article embeddings\n",
    "artikel_embeddings = embeddings / np.linalg.norm(embeddings, axis=1, keepdims=True)\n",
    "\n",
    "# Step 4: Compute cosine similarity between queries and articles\n",
    "scores_matrix = cosine_similarity(query_embeddings, artikel_embeddings)\n",
    "\n",
    "# Step 5: Extract the highest similarity score for each article\n",
    "max_scores = scores_matrix.max(axis=0)\n",
    "\n",
    "# Step 6: Add similarity scores to the DataFrame\n",
    "df_sample = df.sample(frac=0.001, random_state=42).reset_index(drop=True)\n",
    "\n",
    "df_sample['ev_score'] = max_scores\n",
    "df_sample['is_ev_semantisch'] = df_sample['ev_score'] > 0.5  # Experiment with this threshold\n",
    "\n",
    "# Step 7: (Optional) Add keyword-based fallback\n",
    "df_sample['is_ev_keyword'] = df_sample['content'].str.contains(\n",
    "    \"elektrische auto|laadpaal|accu|EV|Tesla|opladen|emissievrij\", case=False, na=False\n",
    ")\n",
    "\n",
    "# Step 8: Combine semantic and keyword-based results\n",
    "df_sample['is_ev_final'] = df_sample['is_ev_semantisch'] | df_sample['is_ev_keyword']\n",
    "\n",
    "# Step 9: Inspect the results\n",
    "df_sample[['content', 'ev_score', 'is_ev_semantisch', 'is_ev_keyword', 'is_ev_final']].sort_values(by='ev_score', ascending=False)\n",
    "\n"
   ]
  },
  {
   "cell_type": "code",
   "execution_count": 34,
   "id": "2b8abd1a",
   "metadata": {},
   "outputs": [
    {
     "data": {
      "image/png": "[encoded data removed]",
      "text/plain": [
       "<Figure size 1600x600 with 2 Axes>"
      ]
     },
     "metadata": {},
     "output_type": "display_data"
    }
   ],
   "source": [
    "import matplotlib.pyplot as plt\n",
    "import pandas as pd\n",
    "\n",
    "# Zorg dat published_time een datetime is\n",
    "df_sample[\"published_time\"] = pd.to_datetime(df_sample[\"published_time\"], errors=\"coerce\")\n",
    "\n",
    "# Filter alleen EV-artikelen\n",
    "df_ev = df_sample[df_sample[\"is_ev_final\"] == True].copy()\n",
    "\n",
    "# Zorg dat sentiment_score numeriek is (voor de zekerheid)\n",
    "df_ev[\"sentiment_score\"] = pd.to_numeric(df_ev[\"sentiment_score\"], errors=\"coerce\")\n",
    "\n",
    "# Voeg maand toe\n",
    "df_ev[\"month\"] = df_ev[\"published_time\"].dt.to_period(\"M\").astype(str)\n",
    "\n",
    "# 📊 Aantal artikelen per maand\n",
    "ev_per_month = df_ev.groupby(\"month\").size()\n",
    "\n",
    "# 📈 Gemiddelde sentiment score per maand\n",
    "sentiment_per_month = df_ev.groupby(\"month\")[\"sentiment_score\"].mean()\n",
    "\n",
    "# 🔢 Gemiddeld aantal artikelen voor referentielijn\n",
    "avg_month_count = ev_per_month.mean()\n",
    "\n",
    "# 📉 Plot beide op gedeelde x-as, dubbele y-as\n",
    "fig, ax1 = plt.subplots(figsize=(16, 6))\n",
    "\n",
    "# Barplot voor aantal artikelen\n",
    "bars = ax1.bar(ev_per_month.index, ev_per_month.values, color=\"skyblue\", label=\"Aantal artikelen\")\n",
    "ax1.axhline(avg_month_count, linestyle=\"--\", color=\"black\", linewidth=1.2, label=f\"Gem. aantal ({avg_month_count:.2f})\")\n",
    "ax1.set_ylabel(\"Aantal artikelen\")\n",
    "ax1.set_xlabel(\"Maand\")\n",
    "ax1.tick_params(axis='x', rotation=90)\n",
    "\n",
    "# Tweede as voor sentiment score\n",
    "ax2 = ax1.twinx()\n",
    "ax2.plot(sentiment_per_month.index, sentiment_per_month.values, color=\"crimson\", marker='o', label=\"Gem. sentiment score\")\n",
    "ax2.set_ylabel(\"Gemiddelde sentiment score\")\n",
    "ax2.set_ylim(-1.05, 1.05)\n",
    "\n",
    "# Legenda combineren\n",
    "lines_1, labels_1 = ax1.get_legend_handles_labels()\n",
    "lines_2, labels_2 = ax2.get_legend_handles_labels()\n",
    "ax1.legend(lines_1 + lines_2, labels_1 + labels_2, loc='upper left')\n",
    "\n",
    "plt.title(\"EV-artikelen per maand en gemiddelde sentiment score\")\n",
    "plt.tight_layout()\n",
    "plt.show()\n"
   ]
  },
  {
   "cell_type": "code",
   "execution_count": 30,
   "id": "28edc9c4",
   "metadata": {},
   "outputs": [],
   "source": [
    "from transformers import AutoTokenizer, AutoModelForSequenceClassification, pipeline\n",
    "import torch\n",
    "\n",
    "# Laad het model\n",
    "model_name = \"wietsedv/bert-base-dutch-cased-finetuned-sentiment\"\n",
    "tokenizer = AutoTokenizer.from_pretrained(model_name)\n",
    "model = AutoModelForSequenceClassification.from_pretrained(model_name)\n",
    "sentiment_pipeline = pipeline(\"sentiment-analysis\", model=model, tokenizer=tokenizer, device=0 if torch.cuda.is_available() else -1)\n",
    "\n",
    "\n",
    "teksten = (\n",
    "    df_sample[df_sample['is_ev_final'] == True]['title'].fillna('') + \". \" +\n",
    "    df_sample[df_sample['is_ev_final'] == True]['description'].fillna('') + \". \" +\n",
    "    df_sample[df_sample['is_ev_final'] == True]['content'].fillna('')\n",
    ").str.slice(0, 512).tolist()\n",
    "\n",
    "\n",
    "\n",
    "# Voer sentimentanalyse uit\n",
    "sentimenten = sentiment_pipeline(teksten, truncation=True)\n",
    "\n",
    "# Zet resultaten om naar scores en labels\n",
    "labels = []\n",
    "scores = []\n",
    "for s in sentimenten:\n",
    "    lbl = s[\"label\"]\n",
    "    score = s[\"score\"]\n",
    "    if lbl == \"LABEL_2\":     # positief\n",
    "        labels.append(\"positief\")\n",
    "        scores.append(score)\n",
    "    elif lbl == \"LABEL_1\":   # neutraal\n",
    "        labels.append(\"neutraal\")\n",
    "        scores.append(0)\n",
    "    else:                    # negatief\n",
    "        labels.append(\"negatief\")\n",
    "        scores.append(-score)\n",
    "\n",
    "# Voeg toe aan df_sample op juiste rijen\n",
    "ev_indices = df_sample[df_sample['is_ev_final'] == True].index\n",
    "df_sample.loc[ev_indices, \"sentiment_label\"] = labels\n",
    "df_sample.loc[ev_indices, \"sentiment_score\"] = scores"
   ]
  },
  {
   "cell_type": "code",
   "execution_count": 31,
   "id": "cb606148",
   "metadata": {},
   "outputs": [
    {
     "data": {
      "image/png": "[encoded data removed]",
      "text/plain": [
       "<Figure size 1400x600 with 1 Axes>"
      ]
     },
     "metadata": {},
     "output_type": "display_data"
    },
    {
     "data": {
      "application/vnd.plotly.v1+json": {
       "config": {
        "plotlyServerURL": "https://plot.ly"
       },
       "data": [
        {
         "cells": {
          "values": [
           [
            "2015-01",
            "2015-02",
            "2015-03",
            "2015-04",
            "2015-05",
            "2015-06",
            "2015-07",
            "2015-08",
            "2015-09",
            "2015-10",
            "2015-11",
            "2015-12",
            "2016-01",
            "2016-02",
            "2016-03",
            "2016-04",
            "2016-06",
            "2016-07",
            "2016-08",
            "2016-09",
            "2016-10",
            "2016-11",
            "2016-12",
            "2017-01",
            "2017-02",
            "2017-03",
            "2017-04",
            "2017-05",
            "2017-06",
            "2017-07",
            "2017-09",
            "2017-10",
            "2017-12",
            "2018-01",
            "2018-02",
            "2018-03",
            "2018-04",
            "2018-05",
            "2018-06",
            "2018-07",
            "2018-08",
            "2018-10",
            "2018-11",
            "2018-12",
            "2019-01",
            "2019-02",
            "2019-03",
            "2019-04",
            "2019-05",
            "2019-06",
            "2019-07",
            "2019-08",
            "2019-09",
            "2019-10",
            "2019-11",
            "2019-12",
            "2020-01",
            "2020-02",
            "2020-03",
            "2020-04",
            "2020-06",
            "2020-07",
            "2020-08",
            "2020-09",
            "2020-11",
            "2020-12",
            "2021-01",
            "2021-03",
            "2021-04",
            "2021-05",
            "2021-06",
            "2021-07",
            "2021-08",
            "2021-10",
            "2021-11",
            "2021-12",
            "2022-01",
            "2022-02",
            "2022-04",
            "2022-05",
            "2022-06",
            "2022-07",
            "2022-08",
            "2022-10",
            "2022-11",
            "2022-12",
            "2023-01",
            "2023-02",
            "2023-03",
            "2023-04",
            "2023-05",
            "2023-06",
            "2023-07",
            "2023-08",
            "2023-09",
            "2023-10",
            "2023-11",
            "2024-01",
            "2024-02",
            "2024-03",
            "2024-04",
            "2024-05",
            "2024-06",
            "2024-08",
            "2024-09",
            "2024-10",
            "2024-11",
            "2024-12",
            "2025-01"
           ],
           [
            6,
            6,
            1,
            3,
            3,
            2,
            5,
            1,
            2,
            2,
            1,
            4,
            3,
            6,
            2,
            1,
            4,
            3,
            3,
            3,
            4,
            5,
            1,
            1,
            1,
            2,
            7,
            4,
            3,
            3,
            2,
            1,
            1,
            2,
            4,
            2,
            2,
            4,
            3,
            3,
            1,
            2,
            2,
            1,
            1,
            2,
            3,
            1,
            2,
            4,
            3,
            1,
            2,
            2,
            3,
            2,
            2,
            4,
            2,
            1,
            2,
            2,
            4,
            3,
            2,
            1,
            3,
            2,
            1,
            4,
            2,
            1,
            2,
            2,
            1,
            2,
            3,
            2,
            4,
            1,
            1,
            1,
            3,
            2,
            2,
            2,
            2,
            1,
            4,
            3,
            1,
            1,
            2,
            1,
            3,
            1,
            3,
            4,
            1,
            1,
            1,
            1,
            5,
            2,
            1,
            2,
            1,
            4,
            2
           ]
          ]
         },
         "header": {
          "values": [
           "Maand",
           "Zeer negatief"
          ]
         },
         "type": "table"
        }
       ],
       "layout": {
        "template": {
         "data": {
          "bar": [
           {
            "error_x": {
             "color": "#2a3f5f"
            },
            "error_y": {
             "color": "#2a3f5f"
            },
            "marker": {
             "line": {
              "color": "#E5ECF6",
              "width": 0.5
             },
             "pattern": {
              "fillmode": "overlay",
              "size": 10,
              "solidity": 0.2
             }
            },
            "type": "bar"
           }
          ],
          "barpolar": [
           {
            "marker": {
             "line": {
              "color": "#E5ECF6",
              "width": 0.5
             },
             "pattern": {
              "fillmode": "overlay",
              "size": 10,
              "solidity": 0.2
             }
            },
            "type": "barpolar"
           }
          ],
          "carpet": [
           {
            "aaxis": {
             "endlinecolor": "#2a3f5f",
             "gridcolor": "white",
             "linecolor": "white",
             "minorgridcolor": "white",
             "startlinecolor": "#2a3f5f"
            },
            "baxis": {
             "endlinecolor": "#2a3f5f",
             "gridcolor": "white",
             "linecolor": "white",
             "minorgridcolor": "white",
             "startlinecolor": "#2a3f5f"
            },
            "type": "carpet"
           }
          ],
          "choropleth": [
           {
            "colorbar": {
             "outlinewidth": 0,
             "ticks": ""
            },
            "type": "choropleth"
           }
          ],
          "contour": [
           {
            "colorbar": {
             "outlinewidth": 0,
             "ticks": ""
            },
            "colorscale": [
             [
              0,
              "#0d0887"
             ],
             [
              0.1111111111111111,
              "#46039f"
             ],
             [
              0.2222222222222222,
              "#7201a8"
             ],
             [
              0.3333333333333333,
              "#9c179e"
             ],
             [
              0.4444444444444444,
              "#bd3786"
             ],
             [
              0.5555555555555556,
              "#d8576b"
             ],
             [
              0.6666666666666666,
              "#ed7953"
             ],
             [
              0.7777777777777778,
              "#fb9f3a"
             ],
             [
              0.8888888888888888,
              "#fdca26"
             ],
             [
              1,
              "#f0f921"
             ]
            ],
            "type": "contour"
           }
          ],
          "contourcarpet": [
           {
            "colorbar": {
             "outlinewidth": 0,
             "ticks": ""
            },
            "type": "contourcarpet"
           }
          ],
          "heatmap": [
           {
            "colorbar": {
             "outlinewidth": 0,
             "ticks": ""
            },
            "colorscale": [
             [
              0,
              "#0d0887"
             ],
             [
              0.1111111111111111,
              "#46039f"
             ],
             [
              0.2222222222222222,
              "#7201a8"
             ],
             [
              0.3333333333333333,
              "#9c179e"
             ],
             [
              0.4444444444444444,
              "#bd3786"
             ],
             [
              0.5555555555555556,
              "#d8576b"
             ],
             [
              0.6666666666666666,
              "#ed7953"
             ],
             [
              0.7777777777777778,
              "#fb9f3a"
             ],
             [
              0.8888888888888888,
              "#fdca26"
             ],
             [
              1,
              "#f0f921"
             ]
            ],
            "type": "heatmap"
           }
          ],
          "heatmapgl": [
           {
            "colorbar": {
             "outlinewidth": 0,
             "ticks": ""
            },
            "colorscale": [
             [
              0,
              "#0d0887"
             ],
             [
              0.1111111111111111,
              "#46039f"
             ],
             [
              0.2222222222222222,
              "#7201a8"
             ],
             [
              0.3333333333333333,
              "#9c179e"
             ],
             [
              0.4444444444444444,
              "#bd3786"
             ],
             [
              0.5555555555555556,
              "#d8576b"
             ],
             [
              0.6666666666666666,
              "#ed7953"
             ],
             [
              0.7777777777777778,
              "#fb9f3a"
             ],
             [
              0.8888888888888888,
              "#fdca26"
             ],
             [
              1,
              "#f0f921"
             ]
            ],
            "type": "heatmapgl"
           }
          ],
          "histogram": [
           {
            "marker": {
             "pattern": {
              "fillmode": "overlay",
              "size": 10,
              "solidity": 0.2
             }
            },
            "type": "histogram"
           }
          ],
          "histogram2d": [
           {
            "colorbar": {
             "outlinewidth": 0,
             "ticks": ""
            },
            "colorscale": [
             [
              0,
              "#0d0887"
             ],
             [
              0.1111111111111111,
              "#46039f"
             ],
             [
              0.2222222222222222,
              "#7201a8"
             ],
             [
              0.3333333333333333,
              "#9c179e"
             ],
             [
              0.4444444444444444,
              "#bd3786"
             ],
             [
              0.5555555555555556,
              "#d8576b"
             ],
             [
              0.6666666666666666,
              "#ed7953"
             ],
             [
              0.7777777777777778,
              "#fb9f3a"
             ],
             [
              0.8888888888888888,
              "#fdca26"
             ],
             [
              1,
              "#f0f921"
             ]
            ],
            "type": "histogram2d"
           }
          ],
          "histogram2dcontour": [
           {
            "colorbar": {
             "outlinewidth": 0,
             "ticks": ""
            },
            "colorscale": [
             [
              0,
              "#0d0887"
             ],
             [
              0.1111111111111111,
              "#46039f"
             ],
             [
              0.2222222222222222,
              "#7201a8"
             ],
             [
              0.3333333333333333,
              "#9c179e"
             ],
             [
              0.4444444444444444,
              "#bd3786"
             ],
             [
              0.5555555555555556,
              "#d8576b"
             ],
             [
              0.6666666666666666,
              "#ed7953"
             ],
             [
              0.7777777777777778,
              "#fb9f3a"
             ],
             [
              0.8888888888888888,
              "#fdca26"
             ],
             [
              1,
              "#f0f921"
             ]
            ],
            "type": "histogram2dcontour"
           }
          ],
          "mesh3d": [
           {
            "colorbar": {
             "outlinewidth": 0,
             "ticks": ""
            },
            "type": "mesh3d"
           }
          ],
          "parcoords": [
           {
            "line": {
             "colorbar": {
              "outlinewidth": 0,
              "ticks": ""
             }
            },
            "type": "parcoords"
           }
          ],
          "pie": [
           {
            "automargin": true,
            "type": "pie"
           }
          ],
          "scatter": [
           {
            "fillpattern": {
             "fillmode": "overlay",
             "size": 10,
             "solidity": 0.2
            },
            "type": "scatter"
           }
          ],
          "scatter3d": [
           {
            "line": {
             "colorbar": {
              "outlinewidth": 0,
              "ticks": ""
             }
            },
            "marker": {
             "colorbar": {
              "outlinewidth": 0,
              "ticks": ""
             }
            },
            "type": "scatter3d"
           }
          ],
          "scattercarpet": [
           {
            "marker": {
             "colorbar": {
              "outlinewidth": 0,
              "ticks": ""
             }
            },
            "type": "scattercarpet"
           }
          ],
          "scattergeo": [
           {
            "marker": {
             "colorbar": {
              "outlinewidth": 0,
              "ticks": ""
             }
            },
            "type": "scattergeo"
           }
          ],
          "scattergl": [
           {
            "marker": {
             "colorbar": {
              "outlinewidth": 0,
              "ticks": ""
             }
            },
            "type": "scattergl"
           }
          ],
          "scattermapbox": [
           {
            "marker": {
             "colorbar": {
              "outlinewidth": 0,
              "ticks": ""
             }
            },
            "type": "scattermapbox"
           }
          ],
          "scatterpolar": [
           {
            "marker": {
             "colorbar": {
              "outlinewidth": 0,
              "ticks": ""
             }
            },
            "type": "scatterpolar"
           }
          ],
          "scatterpolargl": [
           {
            "marker": {
             "colorbar": {
              "outlinewidth": 0,
              "ticks": ""
             }
            },
            "type": "scatterpolargl"
           }
          ],
          "scatterternary": [
           {
            "marker": {
             "colorbar": {
              "outlinewidth": 0,
              "ticks": ""
             }
            },
            "type": "scatterternary"
           }
          ],
          "surface": [
           {
            "colorbar": {
             "outlinewidth": 0,
             "ticks": ""
            },
            "colorscale": [
             [
              0,
              "#0d0887"
             ],
             [
              0.1111111111111111,
              "#46039f"
             ],
             [
              0.2222222222222222,
              "#7201a8"
             ],
             [
              0.3333333333333333,
              "#9c179e"
             ],
             [
              0.4444444444444444,
              "#bd3786"
             ],
             [
              0.5555555555555556,
              "#d8576b"
             ],
             [
              0.6666666666666666,
              "#ed7953"
             ],
             [
              0.7777777777777778,
              "#fb9f3a"
             ],
             [
              0.8888888888888888,
              "#fdca26"
             ],
             [
              1,
              "#f0f921"
             ]
            ],
            "type": "surface"
           }
          ],
          "table": [
           {
            "cells": {
             "fill": {
              "color": "#EBF0F8"
             },
             "line": {
              "color": "white"
             }
            },
            "header": {
             "fill": {
              "color": "#C8D4E3"
             },
             "line": {
              "color": "white"
             }
            },
            "type": "table"
           }
          ]
         },
         "layout": {
          "annotationdefaults": {
           "arrowcolor": "#2a3f5f",
           "arrowhead": 0,
           "arrowwidth": 1
          },
          "autotypenumbers": "strict",
          "coloraxis": {
           "colorbar": {
            "outlinewidth": 0,
            "ticks": ""
           }
          },
          "colorscale": {
           "diverging": [
            [
             0,
             "#8e0152"
            ],
            [
             0.1,
             "#c51b7d"
            ],
            [
             0.2,
             "#de77ae"
            ],
            [
             0.3,
             "#f1b6da"
            ],
            [
             0.4,
             "#fde0ef"
            ],
            [
             0.5,
             "#f7f7f7"
            ],
            [
             0.6,
             "#e6f5d0"
            ],
            [
             0.7,
             "#b8e186"
            ],
            [
             0.8,
             "#7fbc41"
            ],
            [
             0.9,
             "#4d9221"
            ],
            [
             1,
             "#276419"
            ]
           ],
           "sequential": [
            [
             0,
             "#0d0887"
            ],
            [
             0.1111111111111111,
             "#46039f"
            ],
            [
             0.2222222222222222,
             "#7201a8"
            ],
            [
             0.3333333333333333,
             "#9c179e"
            ],
            [
             0.4444444444444444,
             "#bd3786"
            ],
            [
             0.5555555555555556,
             "#d8576b"
            ],
            [
             0.6666666666666666,
             "#ed7953"
            ],
            [
             0.7777777777777778,
             "#fb9f3a"
            ],
            [
             0.8888888888888888,
             "#fdca26"
            ],
            [
             1,
             "#f0f921"
            ]
           ],
           "sequentialminus": [
            [
             0,
             "#0d0887"
            ],
            [
             0.1111111111111111,
             "#46039f"
            ],
            [
             0.2222222222222222,
             "#7201a8"
            ],
            [
             0.3333333333333333,
             "#9c179e"
            ],
            [
             0.4444444444444444,
             "#bd3786"
            ],
            [
             0.5555555555555556,
             "#d8576b"
            ],
            [
             0.6666666666666666,
             "#ed7953"
            ],
            [
             0.7777777777777778,
             "#fb9f3a"
            ],
            [
             0.8888888888888888,
             "#fdca26"
            ],
            [
             1,
             "#f0f921"
            ]
           ]
          },
          "colorway": [
           "#636efa",
           "#EF553B",
           "#00cc96",
           "#ab63fa",
           "#FFA15A",
           "#19d3f3",
           "#FF6692",
           "#B6E880",
           "#FF97FF",
           "#FECB52"
          ],
          "font": {
           "color": "#2a3f5f"
          },
          "geo": {
           "bgcolor": "white",
           "lakecolor": "white",
           "landcolor": "#E5ECF6",
           "showlakes": true,
           "showland": true,
           "subunitcolor": "white"
          },
          "hoverlabel": {
           "align": "left"
          },
          "hovermode": "closest",
          "mapbox": {
           "style": "light"
          },
          "paper_bgcolor": "white",
          "plot_bgcolor": "#E5ECF6",
          "polar": {
           "angularaxis": {
            "gridcolor": "white",
            "linecolor": "white",
            "ticks": ""
           },
           "bgcolor": "#E5ECF6",
           "radialaxis": {
            "gridcolor": "white",
            "linecolor": "white",
            "ticks": ""
           }
          },
          "scene": {
           "xaxis": {
            "backgroundcolor": "#E5ECF6",
            "gridcolor": "white",
            "gridwidth": 2,
            "linecolor": "white",
            "showbackground": true,
            "ticks": "",
            "zerolinecolor": "white"
           },
           "yaxis": {
            "backgroundcolor": "#E5ECF6",
            "gridcolor": "white",
            "gridwidth": 2,
            "linecolor": "white",
            "showbackground": true,
            "ticks": "",
            "zerolinecolor": "white"
           },
           "zaxis": {
            "backgroundcolor": "#E5ECF6",
            "gridcolor": "white",
            "gridwidth": 2,
            "linecolor": "white",
            "showbackground": true,
            "ticks": "",
            "zerolinecolor": "white"
           }
          },
          "shapedefaults": {
           "line": {
            "color": "#2a3f5f"
           }
          },
          "ternary": {
           "aaxis": {
            "gridcolor": "white",
            "linecolor": "white",
            "ticks": ""
           },
           "baxis": {
            "gridcolor": "white",
            "linecolor": "white",
            "ticks": ""
           },
           "bgcolor": "#E5ECF6",
           "caxis": {
            "gridcolor": "white",
            "linecolor": "white",
            "ticks": ""
           }
          },
          "title": {
           "x": 0.05
          },
          "xaxis": {
           "automargin": true,
           "gridcolor": "white",
           "linecolor": "white",
           "ticks": "",
           "title": {
            "standoff": 15
           },
           "zerolinecolor": "white",
           "zerolinewidth": 2
          },
          "yaxis": {
           "automargin": true,
           "gridcolor": "white",
           "linecolor": "white",
           "ticks": "",
           "title": {
            "standoff": 15
           },
           "zerolinecolor": "white",
           "zerolinewidth": 2
          }
         }
        },
        "title": {
         "text": "Tabel: aantal EV-artikelen per sentiment per maand"
        }
       }
      }
     },
     "metadata": {},
     "output_type": "display_data"
    }
   ],
   "source": [
    "import pandas as pd\n",
    "import matplotlib.pyplot as plt\n",
    "import plotly.graph_objects as go\n",
    "\n",
    "# 1. Sentimentcategorie toevoegen\n",
    "def label_sentiment(score):\n",
    "    if pd.isna(score):\n",
    "        return \"Onbekend\"\n",
    "    elif score <= -0.3:\n",
    "        return \"Zeer negatief\"\n",
    "    elif score <= -0.1:\n",
    "        return \"Negatief\"\n",
    "    elif score <= 0.1:\n",
    "        return \"Neutraal\"\n",
    "    elif score <= 0.3:\n",
    "        return \"Positief\"\n",
    "    else:\n",
    "        return \"Zeer positief\"\n",
    "\n",
    "df_sample[\"sentiment_category\"] = df_sample[\"sentiment_score\"].apply(label_sentiment)\n",
    "\n",
    "# 2. Zorg dat 'date' een datetime is en haal maand eruit\n",
    "# Gebruik juiste kolom om naar datetime om te zetten\n",
    "df_sample[\"date\"] = pd.to_datetime(df_sample[\"published_time\"], errors=\"coerce\")\n",
    "df_sample[\"month\"] = df_sample[\"date\"].dt.to_period(\"M\").astype(str)\n",
    "\n",
    "\n",
    "# 3. Filter alleen EV-artikelen\n",
    "df_ev = df_sample[df_sample[\"is_ev_final\"] == True].copy()\n",
    "\n",
    "# 4. Aantal artikelen per maand per sentiment\n",
    "sentiment_counts = df_ev.groupby([\"month\", \"sentiment_category\"]).size().unstack(fill_value=0)\n",
    "sentiment_counts = sentiment_counts.sort_index()\n",
    "\n",
    "# 5. Barplot (matplotlib)\n",
    "sentiment_counts.plot(kind='bar', stacked=True, figsize=(14, 6))\n",
    "plt.title(\"Aantal EV-artikelen per sentiment per maand\")\n",
    "plt.xlabel(\"Maand\")\n",
    "plt.ylabel(\"Aantal artikelen\")\n",
    "plt.xticks(rotation=45)\n",
    "plt.legend(title=\"Sentiment\", bbox_to_anchor=(1.05, 1), loc='upper left')\n",
    "plt.tight_layout()\n",
    "plt.show()\n",
    "\n",
    "# 6. Interactieve tabel (plotly)\n",
    "fig = go.Figure(data=[go.Table(\n",
    "    header=dict(values=[\"Maand\"] + list(sentiment_counts.columns)),\n",
    "    cells=dict(values=[sentiment_counts.index] + [sentiment_counts[col] for col in sentiment_counts.columns]))\n",
    "])\n",
    "fig.update_layout(title=\"Tabel: aantal EV-artikelen per sentiment per maand\")\n",
    "fig.show()\n"
   ]
  },
  {
   "cell_type": "code",
   "execution_count": 26,
   "id": "f5936315",
   "metadata": {},
   "outputs": [
    {
     "data": {
      "image/png": "[encoded data removed]",
      "text/plain": [
       "<Figure size 1400x600 with 1 Axes>"
      ]
     },
     "metadata": {},
     "output_type": "display_data"
    }
   ],
   "source": [
    "sentiment_percentages = sentiment_counts.div(sentiment_counts.sum(axis=1), axis=0)\n",
    "sentiment_percentages.plot(kind='bar', stacked=True, figsize=(14, 6), colormap='coolwarm')\n",
    "plt.title(\"Relatief sentiment per maand (EV-artikelen)\")\n",
    "plt.ylabel(\"Proportie\")\n",
    "plt.tight_layout()\n",
    "plt.show()\n"
   ]
  },
  {
   "cell_type": "code",
   "execution_count": 18,
   "id": "41fb67c3",
   "metadata": {},
   "outputs": [
    {
     "name": "stderr",
     "output_type": "stream",
     "text": [
      "c:\\Users\\dylan\\anaconda3\\Lib\\site-packages\\sklearn\\cluster\\_kmeans.py:1419: UserWarning:\n",
      "\n",
      "KMeans is known to have a memory leak on Windows with MKL, when there are less chunks than available threads. You can avoid it by setting the environment variable OMP_NUM_THREADS=2.\n",
      "\n"
     ]
    },
    {
     "ename": "ValueError",
     "evalue": "Length of values (293) does not match length of index (293326)",
     "output_type": "error",
     "traceback": [
      "\u001b[1;31m---------------------------------------------------------------------------\u001b[0m",
      "\u001b[1;31mValueError\u001b[0m                                Traceback (most recent call last)",
      "Cell \u001b[1;32mIn[18], line 5\u001b[0m\n\u001b[0;32m      3\u001b[0m n_clusters \u001b[38;5;241m=\u001b[39m \u001b[38;5;241m10\u001b[39m\n\u001b[0;32m      4\u001b[0m kmeans \u001b[38;5;241m=\u001b[39m KMeans(n_clusters\u001b[38;5;241m=\u001b[39mn_clusters, random_state\u001b[38;5;241m=\u001b[39m\u001b[38;5;241m42\u001b[39m)\n\u001b[1;32m----> 5\u001b[0m df[\u001b[38;5;124m'\u001b[39m\u001b[38;5;124mcluster\u001b[39m\u001b[38;5;124m'\u001b[39m] \u001b[38;5;241m=\u001b[39m kmeans\u001b[38;5;241m.\u001b[39mfit_predict(embeddings)\n",
      "File \u001b[1;32mc:\\Users\\dylan\\anaconda3\\Lib\\site-packages\\pandas\\core\\frame.py:4311\u001b[0m, in \u001b[0;36mDataFrame.__setitem__\u001b[1;34m(self, key, value)\u001b[0m\n\u001b[0;32m   4308\u001b[0m     \u001b[38;5;28mself\u001b[39m\u001b[38;5;241m.\u001b[39m_setitem_array([key], value)\n\u001b[0;32m   4309\u001b[0m \u001b[38;5;28;01melse\u001b[39;00m:\n\u001b[0;32m   4310\u001b[0m     \u001b[38;5;66;03m# set column\u001b[39;00m\n\u001b[1;32m-> 4311\u001b[0m     \u001b[38;5;28mself\u001b[39m\u001b[38;5;241m.\u001b[39m_set_item(key, value)\n",
      "File \u001b[1;32mc:\\Users\\dylan\\anaconda3\\Lib\\site-packages\\pandas\\core\\frame.py:4524\u001b[0m, in \u001b[0;36mDataFrame._set_item\u001b[1;34m(self, key, value)\u001b[0m\n\u001b[0;32m   4514\u001b[0m \u001b[38;5;28;01mdef\u001b[39;00m \u001b[38;5;21m_set_item\u001b[39m(\u001b[38;5;28mself\u001b[39m, key, value) \u001b[38;5;241m-\u001b[39m\u001b[38;5;241m>\u001b[39m \u001b[38;5;28;01mNone\u001b[39;00m:\n\u001b[0;32m   4515\u001b[0m \u001b[38;5;250m    \u001b[39m\u001b[38;5;124;03m\"\"\"\u001b[39;00m\n\u001b[0;32m   4516\u001b[0m \u001b[38;5;124;03m    Add series to DataFrame in specified column.\u001b[39;00m\n\u001b[0;32m   4517\u001b[0m \n\u001b[1;32m   (...)\u001b[0m\n\u001b[0;32m   4522\u001b[0m \u001b[38;5;124;03m    ensure homogeneity.\u001b[39;00m\n\u001b[0;32m   4523\u001b[0m \u001b[38;5;124;03m    \"\"\"\u001b[39;00m\n\u001b[1;32m-> 4524\u001b[0m     value, refs \u001b[38;5;241m=\u001b[39m \u001b[38;5;28mself\u001b[39m\u001b[38;5;241m.\u001b[39m_sanitize_column(value)\n\u001b[0;32m   4526\u001b[0m     \u001b[38;5;28;01mif\u001b[39;00m (\n\u001b[0;32m   4527\u001b[0m         key \u001b[38;5;129;01min\u001b[39;00m \u001b[38;5;28mself\u001b[39m\u001b[38;5;241m.\u001b[39mcolumns\n\u001b[0;32m   4528\u001b[0m         \u001b[38;5;129;01mand\u001b[39;00m value\u001b[38;5;241m.\u001b[39mndim \u001b[38;5;241m==\u001b[39m \u001b[38;5;241m1\u001b[39m\n\u001b[0;32m   4529\u001b[0m         \u001b[38;5;129;01mand\u001b[39;00m \u001b[38;5;129;01mnot\u001b[39;00m \u001b[38;5;28misinstance\u001b[39m(value\u001b[38;5;241m.\u001b[39mdtype, ExtensionDtype)\n\u001b[0;32m   4530\u001b[0m     ):\n\u001b[0;32m   4531\u001b[0m         \u001b[38;5;66;03m# broadcast across multiple columns if necessary\u001b[39;00m\n\u001b[0;32m   4532\u001b[0m         \u001b[38;5;28;01mif\u001b[39;00m \u001b[38;5;129;01mnot\u001b[39;00m \u001b[38;5;28mself\u001b[39m\u001b[38;5;241m.\u001b[39mcolumns\u001b[38;5;241m.\u001b[39mis_unique \u001b[38;5;129;01mor\u001b[39;00m \u001b[38;5;28misinstance\u001b[39m(\u001b[38;5;28mself\u001b[39m\u001b[38;5;241m.\u001b[39mcolumns, MultiIndex):\n",
      "File \u001b[1;32mc:\\Users\\dylan\\anaconda3\\Lib\\site-packages\\pandas\\core\\frame.py:5266\u001b[0m, in \u001b[0;36mDataFrame._sanitize_column\u001b[1;34m(self, value)\u001b[0m\n\u001b[0;32m   5263\u001b[0m     \u001b[38;5;28;01mreturn\u001b[39;00m _reindex_for_setitem(value, \u001b[38;5;28mself\u001b[39m\u001b[38;5;241m.\u001b[39mindex)\n\u001b[0;32m   5265\u001b[0m \u001b[38;5;28;01mif\u001b[39;00m is_list_like(value):\n\u001b[1;32m-> 5266\u001b[0m     com\u001b[38;5;241m.\u001b[39mrequire_length_match(value, \u001b[38;5;28mself\u001b[39m\u001b[38;5;241m.\u001b[39mindex)\n\u001b[0;32m   5267\u001b[0m arr \u001b[38;5;241m=\u001b[39m sanitize_array(value, \u001b[38;5;28mself\u001b[39m\u001b[38;5;241m.\u001b[39mindex, copy\u001b[38;5;241m=\u001b[39m\u001b[38;5;28;01mTrue\u001b[39;00m, allow_2d\u001b[38;5;241m=\u001b[39m\u001b[38;5;28;01mTrue\u001b[39;00m)\n\u001b[0;32m   5268\u001b[0m \u001b[38;5;28;01mif\u001b[39;00m (\n\u001b[0;32m   5269\u001b[0m     \u001b[38;5;28misinstance\u001b[39m(value, Index)\n\u001b[0;32m   5270\u001b[0m     \u001b[38;5;129;01mand\u001b[39;00m value\u001b[38;5;241m.\u001b[39mdtype \u001b[38;5;241m==\u001b[39m \u001b[38;5;124m\"\u001b[39m\u001b[38;5;124mobject\u001b[39m\u001b[38;5;124m\"\u001b[39m\n\u001b[1;32m   (...)\u001b[0m\n\u001b[0;32m   5273\u001b[0m     \u001b[38;5;66;03m# TODO: Remove kludge in sanitize_array for string mode when enforcing\u001b[39;00m\n\u001b[0;32m   5274\u001b[0m     \u001b[38;5;66;03m# this deprecation\u001b[39;00m\n",
      "File \u001b[1;32mc:\\Users\\dylan\\anaconda3\\Lib\\site-packages\\pandas\\core\\common.py:573\u001b[0m, in \u001b[0;36mrequire_length_match\u001b[1;34m(data, index)\u001b[0m\n\u001b[0;32m    569\u001b[0m \u001b[38;5;250m\u001b[39m\u001b[38;5;124;03m\"\"\"\u001b[39;00m\n\u001b[0;32m    570\u001b[0m \u001b[38;5;124;03mCheck the length of data matches the length of the index.\u001b[39;00m\n\u001b[0;32m    571\u001b[0m \u001b[38;5;124;03m\"\"\"\u001b[39;00m\n\u001b[0;32m    572\u001b[0m \u001b[38;5;28;01mif\u001b[39;00m \u001b[38;5;28mlen\u001b[39m(data) \u001b[38;5;241m!=\u001b[39m \u001b[38;5;28mlen\u001b[39m(index):\n\u001b[1;32m--> 573\u001b[0m     \u001b[38;5;28;01mraise\u001b[39;00m \u001b[38;5;167;01mValueError\u001b[39;00m(\n\u001b[0;32m    574\u001b[0m         \u001b[38;5;124m\"\u001b[39m\u001b[38;5;124mLength of values \u001b[39m\u001b[38;5;124m\"\u001b[39m\n\u001b[0;32m    575\u001b[0m         \u001b[38;5;124mf\u001b[39m\u001b[38;5;124m\"\u001b[39m\u001b[38;5;124m(\u001b[39m\u001b[38;5;132;01m{\u001b[39;00m\u001b[38;5;28mlen\u001b[39m(data)\u001b[38;5;132;01m}\u001b[39;00m\u001b[38;5;124m) \u001b[39m\u001b[38;5;124m\"\u001b[39m\n\u001b[0;32m    576\u001b[0m         \u001b[38;5;124m\"\u001b[39m\u001b[38;5;124mdoes not match length of index \u001b[39m\u001b[38;5;124m\"\u001b[39m\n\u001b[0;32m    577\u001b[0m         \u001b[38;5;124mf\u001b[39m\u001b[38;5;124m\"\u001b[39m\u001b[38;5;124m(\u001b[39m\u001b[38;5;132;01m{\u001b[39;00m\u001b[38;5;28mlen\u001b[39m(index)\u001b[38;5;132;01m}\u001b[39;00m\u001b[38;5;124m)\u001b[39m\u001b[38;5;124m\"\u001b[39m\n\u001b[0;32m    578\u001b[0m     )\n",
      "\u001b[1;31mValueError\u001b[0m: Length of values (293) does not match length of index (293326)"
     ]
    }
   ],
   "source": [
    "from sklearn.cluster import KMeans\n",
    "\n",
    "n_clusters = 10\n",
    "kmeans = KMeans(n_clusters=n_clusters, random_state=42)\n",
    "df['cluster'] = kmeans.fit_predict(embeddings)\n"
   ]
  },
  {
   "cell_type": "markdown",
   "id": "342859ed",
   "metadata": {},
   "source": [
    "### Stap 4: EV-artikelen identificeren via sleutelwoorden"
   ]
  },
  {
   "cell_type": "markdown",
   "id": "18032c7c",
   "metadata": {},
   "source": [
    "### Stap 5: Opslaan geclustered data"
   ]
  },
  {
   "cell_type": "code",
   "execution_count": null,
   "id": "798c84bf",
   "metadata": {},
   "outputs": [
    {
     "name": "stdout",
     "output_type": "stream",
     "text": [
      "✅ Bestand succesvol opgeslagen als CSV\n"
     ]
    }
   ],
   "source": [
    "import pandas as pd\n",
    "\n",
    "# Feather-bestand inlezen\n",
    "df = pd.read_feather(r\"C:\\Users\\dylan\\Trying hard\\NOS_NL_articles_2015_feb_2025.feather\")\n",
    "\n",
    "# Opslaan als CSV-bestand\n",
    "df.to_csv(r\"D:\\Thesis\\GIT\\Datasets\\NOS_NL_articles_2015_feb_2025.csv\", index=False)\n",
    "\n",
    "print(\"✅ Bestand succesvol opgeslagen als CSV\")\n"
   ]
  },
  {
   "cell_type": "code",
   "execution_count": null,
   "id": "087a19a3",
   "metadata": {},
   "outputs": [
    {
     "data": {
      "text/plain": [
       "CompletedProcess(args='explorer \"D:\\\\Thesis\\\\GIT\\\\Datasets\"', returncode=1)"
      ]
     },
     "execution_count": 9,
     "metadata": {},
     "output_type": "execute_result"
    }
   ],
   "source": [
    "import os\n",
    "import subprocess\n",
    "\n",
    "folder = os.path.dirname(csv_path)\n",
    "subprocess.run(f'explorer \"{folder}\"')\n"
   ]
  }
 ],
 "metadata": {
  "kernelspec": {
   "display_name": "base",
   "language": "python",
   "name": "python3"
  },
  "language_info": {
   "codemirror_mode": {
    "name": "ipython",
    "version": 3
   },
   "file_extension": ".py",
   "mimetype": "text/x-python",
   "name": "python",
   "nbconvert_exporter": "python",
   "pygments_lexer": "ipython3",
   "version": "3.12.4"
  }
 },
 "nbformat": 4,
 "nbformat_minor": 5
}
