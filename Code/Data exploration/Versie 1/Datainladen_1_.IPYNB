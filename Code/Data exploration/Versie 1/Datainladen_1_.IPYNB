{
 "cells": [
  {
   "cell_type": "markdown",
   "id": "6f908b31",
   "metadata": {},
   "source": [
    "### Imports"
   ]
  },
  {
   "cell_type": "code",
   "execution_count": 1,
   "id": "a13af075",
   "metadata": {},
   "outputs": [],
   "source": [
    "# Standard library imports\n",
    "import os\n",
    "import re\n",
    "import unicodedata\n",
    "import warnings\n",
    "\n",
    "# Third-party library imports\n",
    "import numpy as np\n",
    "import pandas as pd\n",
    "import matplotlib.pyplot as plt\n",
    "import matplotlib.ticker as mtick\n",
    "from matplotlib.ticker import PercentFormatter\n",
    "import seaborn as sns\n",
    "import textstat\n",
    "from textblob import TextBlob\n",
    "from textblob_nl import PatternAnalyzer\n",
    "from tqdm.notebook import tqdm\n",
    "import requests\n"
   ]
  },
  {
   "cell_type": "markdown",
   "id": "850c685f",
   "metadata": {},
   "source": [
    "# 1. Consumentenvertrouwen, economisch klimaat en koopbereidheid: ongecorrigeerd"
   ]
  },
  {
   "cell_type": "markdown",
   "id": "92c0d3aa",
   "metadata": {},
   "source": [
    "https://opendata.cbs.nl/#/CBS/nl/dataset/83694NED/table?searchKeywords=%E2%80%93%20consumentenvertrouwen,%20economisch%20klimaat%20en%20koopbereidheid"
   ]
  },
  {
   "cell_type": "markdown",
   "id": "32113ba5",
   "metadata": {},
   "source": [
    "1.1 Data inladen/inzien\n"
   ]
  },
  {
   "cell_type": "code",
   "execution_count": 12,
   "id": "1a70113f",
   "metadata": {},
   "outputs": [
    {
     "data": {
      "application/vnd.microsoft.datawrangler.viewer.v0+json": {
       "columns": [
        {
         "name": "index",
         "rawType": "int64",
         "type": "integer"
        },
        {
         "name": "Onderwerp",
         "rawType": "object",
         "type": "string"
        },
        {
         "name": "Unnamed: 1",
         "rawType": "float64",
         "type": "float"
        },
        {
         "name": "1986 april",
         "rawType": "int64",
         "type": "integer"
        },
        {
         "name": "1986 mei",
         "rawType": "int64",
         "type": "integer"
        },
        {
         "name": "1986 juni",
         "rawType": "int64",
         "type": "integer"
        },
        {
         "name": "1986 juli",
         "rawType": "int64",
         "type": "integer"
        },
        {
         "name": "1986 augustus",
         "rawType": "int64",
         "type": "integer"
        },
        {
         "name": "1986 september",
         "rawType": "int64",
         "type": "integer"
        },
        {
         "name": "1986 oktober",
         "rawType": "int64",
         "type": "integer"
        },
        {
         "name": "1986 november",
         "rawType": "int64",
         "type": "integer"
        },
        {
         "name": "1986 december",
         "rawType": "int64",
         "type": "integer"
        },
        {
         "name": "1987 januari",
         "rawType": "int64",
         "type": "integer"
        },
        {
         "name": "1987 februari",
         "rawType": "int64",
         "type": "integer"
        },
        {
         "name": "1987 maart",
         "rawType": "int64",
         "type": "integer"
        },
        {
         "name": "1987 april",
         "rawType": "int64",
         "type": "integer"
        },
        {
         "name": "1987 mei",
         "rawType": "int64",
         "type": "integer"
        },
        {
         "name": "1987 juni",
         "rawType": "int64",
         "type": "integer"
        },
        {
         "name": "1987 juli",
         "rawType": "int64",
         "type": "integer"
        },
        {
         "name": "1987 augustus",
         "rawType": "int64",
         "type": "integer"
        },
        {
         "name": "1987 september",
         "rawType": "int64",
         "type": "integer"
        },
        {
         "name": "1987 oktober",
         "rawType": "int64",
         "type": "integer"
        },
        {
         "name": "1987 november",
         "rawType": "int64",
         "type": "integer"
        },
        {
         "name": "1987 december",
         "rawType": "int64",
         "type": "integer"
        },
        {
         "name": "1988 januari",
         "rawType": "int64",
         "type": "integer"
        },
        {
         "name": "1988 februari",
         "rawType": "int64",
         "type": "integer"
        },
        {
         "name": "1988 maart",
         "rawType": "int64",
         "type": "integer"
        },
        {
         "name": "1988 april",
         "rawType": "int64",
         "type": "integer"
        },
        {
         "name": "1988 mei",
         "rawType": "int64",
         "type": "integer"
        },
        {
         "name": "1988 juni",
         "rawType": "int64",
         "type": "integer"
        },
        {
         "name": "1988 juli",
         "rawType": "int64",
         "type": "integer"
        },
        {
         "name": "1988 augustus",
         "rawType": "int64",
         "type": "integer"
        },
        {
         "name": "1988 september",
         "rawType": "int64",
         "type": "integer"
        },
        {
         "name": "1988 oktober",
         "rawType": "int64",
         "type": "integer"
        },
        {
         "name": "1988 november",
         "rawType": "int64",
         "type": "integer"
        },
        {
         "name": "1988 december",
         "rawType": "int64",
         "type": "integer"
        },
        {
         "name": "1989 januari",
         "rawType": "int64",
         "type": "integer"
        },
        {
         "name": "1989 februari",
         "rawType": "int64",
         "type": "integer"
        },
        {
         "name": "1989 maart",
         "rawType": "int64",
         "type": "integer"
        },
        {
         "name": "1989 april",
         "rawType": "int64",
         "type": "integer"
        },
        {
         "name": "1989 mei",
         "rawType": "int64",
         "type": "integer"
        },
        {
         "name": "1989 juni",
         "rawType": "int64",
         "type": "integer"
        },
        {
         "name": "1989 juli",
         "rawType": "int64",
         "type": "integer"
        },
        {
         "name": "1989 augustus",
         "rawType": "int64",
         "type": "integer"
        },
        {
         "name": "1989 september",
         "rawType": "int64",
         "type": "integer"
        },
        {
         "name": "1989 oktober",
         "rawType": "int64",
         "type": "integer"
        },
        {
         "name": "1989 november",
         "rawType": "int64",
         "type": "integer"
        },
        {
         "name": "1989 december",
         "rawType": "int64",
         "type": "integer"
        },
        {
         "name": "1990 januari",
         "rawType": "int64",
         "type": "integer"
        },
        {
         "name": "1990 februari",
         "rawType": "int64",
         "type": "integer"
        },
        {
         "name": "1990 maart",
         "rawType": "int64",
         "type": "integer"
        },
        {
         "name": "1990 april",
         "rawType": "int64",
         "type": "integer"
        },
        {
         "name": "1990 mei",
         "rawType": "int64",
         "type": "integer"
        },
        {
         "name": "1990 juni",
         "rawType": "int64",
         "type": "integer"
        },
        {
         "name": "1990 juli",
         "rawType": "int64",
         "type": "integer"
        },
        {
         "name": "1990 augustus",
         "rawType": "int64",
         "type": "integer"
        },
        {
         "name": "1990 september",
         "rawType": "int64",
         "type": "integer"
        },
        {
         "name": "1990 oktober",
         "rawType": "int64",
         "type": "integer"
        },
        {
         "name": "1990 november",
         "rawType": "int64",
         "type": "integer"
        },
        {
         "name": "1990 december",
         "rawType": "int64",
         "type": "integer"
        },
        {
         "name": "1991 januari",
         "rawType": "int64",
         "type": "integer"
        },
        {
         "name": "1991 februari",
         "rawType": "int64",
         "type": "integer"
        },
        {
         "name": "1991 maart",
         "rawType": "int64",
         "type": "integer"
        },
        {
         "name": "1991 april",
         "rawType": "int64",
         "type": "integer"
        },
        {
         "name": "1991 mei",
         "rawType": "int64",
         "type": "integer"
        },
        {
         "name": "1991 juni",
         "rawType": "int64",
         "type": "integer"
        },
        {
         "name": "1991 juli",
         "rawType": "int64",
         "type": "integer"
        },
        {
         "name": "1991 augustus",
         "rawType": "int64",
         "type": "integer"
        },
        {
         "name": "1991 september",
         "rawType": "int64",
         "type": "integer"
        },
        {
         "name": "1991 oktober",
         "rawType": "int64",
         "type": "integer"
        },
        {
         "name": "1991 november",
         "rawType": "int64",
         "type": "integer"
        },
        {
         "name": "1991 december",
         "rawType": "int64",
         "type": "integer"
        },
        {
         "name": "1992 januari",
         "rawType": "int64",
         "type": "integer"
        },
        {
         "name": "1992 februari",
         "rawType": "int64",
         "type": "integer"
        },
        {
         "name": "1992 maart",
         "rawType": "int64",
         "type": "integer"
        },
        {
         "name": "1992 april",
         "rawType": "int64",
         "type": "integer"
        },
        {
         "name": "1992 mei",
         "rawType": "int64",
         "type": "integer"
        },
        {
         "name": "1992 juni",
         "rawType": "int64",
         "type": "integer"
        },
        {
         "name": "1992 juli",
         "rawType": "int64",
         "type": "integer"
        },
        {
         "name": "1992 augustus",
         "rawType": "int64",
         "type": "integer"
        },
        {
         "name": "1992 september",
         "rawType": "int64",
         "type": "integer"
        },
        {
         "name": "1992 oktober",
         "rawType": "int64",
         "type": "integer"
        },
        {
         "name": "1992 november",
         "rawType": "int64",
         "type": "integer"
        },
        {
         "name": "1992 december",
         "rawType": "int64",
         "type": "integer"
        },
        {
         "name": "1993 januari",
         "rawType": "int64",
         "type": "integer"
        },
        {
         "name": "1993 februari",
         "rawType": "int64",
         "type": "integer"
        },
        {
         "name": "1993 maart",
         "rawType": "int64",
         "type": "integer"
        },
        {
         "name": "1993 april",
         "rawType": "int64",
         "type": "integer"
        },
        {
         "name": "1993 mei",
         "rawType": "int64",
         "type": "integer"
        },
        {
         "name": "1993 juni",
         "rawType": "int64",
         "type": "integer"
        },
        {
         "name": "1993 juli",
         "rawType": "int64",
         "type": "integer"
        },
        {
         "name": "1993 augustus",
         "rawType": "int64",
         "type": "integer"
        },
        {
         "name": "1993 september",
         "rawType": "int64",
         "type": "integer"
        },
        {
         "name": "1993 oktober",
         "rawType": "int64",
         "type": "integer"
        },
        {
         "name": "1993 november",
         "rawType": "int64",
         "type": "integer"
        },
        {
         "name": "1993 december",
         "rawType": "int64",
         "type": "integer"
        },
        {
         "name": "1994 januari",
         "rawType": "int64",
         "type": "integer"
        },
        {
         "name": "1994 februari",
         "rawType": "int64",
         "type": "integer"
        },
        {
         "name": "1994 maart",
         "rawType": "int64",
         "type": "integer"
        },
        {
         "name": "1994 april",
         "rawType": "int64",
         "type": "integer"
        },
        {
         "name": "1994 mei",
         "rawType": "int64",
         "type": "integer"
        },
        {
         "name": "1994 juni",
         "rawType": "int64",
         "type": "integer"
        },
        {
         "name": "1994 juli",
         "rawType": "int64",
         "type": "integer"
        },
        {
         "name": "1994 augustus",
         "rawType": "int64",
         "type": "integer"
        },
        {
         "name": "1994 september",
         "rawType": "int64",
         "type": "integer"
        },
        {
         "name": "1994 oktober",
         "rawType": "int64",
         "type": "integer"
        },
        {
         "name": "1994 november",
         "rawType": "int64",
         "type": "integer"
        },
        {
         "name": "1994 december",
         "rawType": "int64",
         "type": "integer"
        },
        {
         "name": "1995 januari",
         "rawType": "int64",
         "type": "integer"
        },
        {
         "name": "1995 februari",
         "rawType": "int64",
         "type": "integer"
        },
        {
         "name": "1995 maart",
         "rawType": "int64",
         "type": "integer"
        },
        {
         "name": "1995 april",
         "rawType": "int64",
         "type": "integer"
        },
        {
         "name": "1995 mei",
         "rawType": "int64",
         "type": "integer"
        },
        {
         "name": "1995 juni",
         "rawType": "int64",
         "type": "integer"
        },
        {
         "name": "1995 juli",
         "rawType": "int64",
         "type": "integer"
        },
        {
         "name": "1995 augustus",
         "rawType": "int64",
         "type": "integer"
        },
        {
         "name": "1995 september",
         "rawType": "int64",
         "type": "integer"
        },
        {
         "name": "1995 oktober",
         "rawType": "int64",
         "type": "integer"
        },
        {
         "name": "1995 november",
         "rawType": "int64",
         "type": "integer"
        },
        {
         "name": "1995 december",
         "rawType": "int64",
         "type": "integer"
        },
        {
         "name": "1996 januari",
         "rawType": "int64",
         "type": "integer"
        },
        {
         "name": "1996 februari",
         "rawType": "int64",
         "type": "integer"
        },
        {
         "name": "1996 maart",
         "rawType": "int64",
         "type": "integer"
        },
        {
         "name": "1996 april",
         "rawType": "int64",
         "type": "integer"
        },
        {
         "name": "1996 mei",
         "rawType": "int64",
         "type": "integer"
        },
        {
         "name": "1996 juni",
         "rawType": "int64",
         "type": "integer"
        },
        {
         "name": "1996 juli",
         "rawType": "int64",
         "type": "integer"
        },
        {
         "name": "1996 augustus",
         "rawType": "int64",
         "type": "integer"
        },
        {
         "name": "1996 september",
         "rawType": "int64",
         "type": "integer"
        },
        {
         "name": "1996 oktober",
         "rawType": "int64",
         "type": "integer"
        },
        {
         "name": "1996 november",
         "rawType": "int64",
         "type": "integer"
        },
        {
         "name": "1996 december",
         "rawType": "int64",
         "type": "integer"
        },
        {
         "name": "1997 januari",
         "rawType": "int64",
         "type": "integer"
        },
        {
         "name": "1997 februari",
         "rawType": "int64",
         "type": "integer"
        },
        {
         "name": "1997 maart",
         "rawType": "int64",
         "type": "integer"
        },
        {
         "name": "1997 april",
         "rawType": "int64",
         "type": "integer"
        },
        {
         "name": "1997 mei",
         "rawType": "int64",
         "type": "integer"
        },
        {
         "name": "1997 juni",
         "rawType": "int64",
         "type": "integer"
        },
        {
         "name": "1997 juli",
         "rawType": "int64",
         "type": "integer"
        },
        {
         "name": "1997 augustus",
         "rawType": "int64",
         "type": "integer"
        },
        {
         "name": "1997 september",
         "rawType": "int64",
         "type": "integer"
        },
        {
         "name": "1997 oktober",
         "rawType": "int64",
         "type": "integer"
        },
        {
         "name": "1997 november",
         "rawType": "int64",
         "type": "integer"
        },
        {
         "name": "1997 december",
         "rawType": "int64",
         "type": "integer"
        },
        {
         "name": "1998 januari",
         "rawType": "int64",
         "type": "integer"
        },
        {
         "name": "1998 februari",
         "rawType": "int64",
         "type": "integer"
        },
        {
         "name": "1998 maart",
         "rawType": "int64",
         "type": "integer"
        },
        {
         "name": "1998 april",
         "rawType": "int64",
         "type": "integer"
        },
        {
         "name": "1998 mei",
         "rawType": "int64",
         "type": "integer"
        },
        {
         "name": "1998 juni",
         "rawType": "int64",
         "type": "integer"
        },
        {
         "name": "1998 juli",
         "rawType": "int64",
         "type": "integer"
        },
        {
         "name": "1998 augustus",
         "rawType": "int64",
         "type": "integer"
        },
        {
         "name": "1998 september",
         "rawType": "int64",
         "type": "integer"
        },
        {
         "name": "1998 oktober",
         "rawType": "int64",
         "type": "integer"
        },
        {
         "name": "1998 november",
         "rawType": "int64",
         "type": "integer"
        },
        {
         "name": "1998 december",
         "rawType": "int64",
         "type": "integer"
        },
        {
         "name": "1999 januari",
         "rawType": "int64",
         "type": "integer"
        },
        {
         "name": "1999 februari",
         "rawType": "int64",
         "type": "integer"
        },
        {
         "name": "1999 maart",
         "rawType": "int64",
         "type": "integer"
        },
        {
         "name": "1999 april",
         "rawType": "int64",
         "type": "integer"
        },
        {
         "name": "1999 mei",
         "rawType": "int64",
         "type": "integer"
        },
        {
         "name": "1999 juni",
         "rawType": "int64",
         "type": "integer"
        },
        {
         "name": "1999 juli",
         "rawType": "int64",
         "type": "integer"
        },
        {
         "name": "1999 augustus",
         "rawType": "int64",
         "type": "integer"
        },
        {
         "name": "1999 september",
         "rawType": "int64",
         "type": "integer"
        },
        {
         "name": "1999 oktober",
         "rawType": "int64",
         "type": "integer"
        },
        {
         "name": "1999 november",
         "rawType": "int64",
         "type": "integer"
        },
        {
         "name": "1999 december",
         "rawType": "int64",
         "type": "integer"
        },
        {
         "name": "2000 januari",
         "rawType": "int64",
         "type": "integer"
        },
        {
         "name": "2000 februari",
         "rawType": "int64",
         "type": "integer"
        },
        {
         "name": "2000 maart",
         "rawType": "int64",
         "type": "integer"
        },
        {
         "name": "2000 april",
         "rawType": "int64",
         "type": "integer"
        },
        {
         "name": "2000 mei",
         "rawType": "int64",
         "type": "integer"
        },
        {
         "name": "2000 juni",
         "rawType": "int64",
         "type": "integer"
        },
        {
         "name": "2000 juli",
         "rawType": "int64",
         "type": "integer"
        },
        {
         "name": "2000 augustus",
         "rawType": "int64",
         "type": "integer"
        },
        {
         "name": "2000 september",
         "rawType": "int64",
         "type": "integer"
        },
        {
         "name": "2000 oktober",
         "rawType": "int64",
         "type": "integer"
        },
        {
         "name": "2000 november",
         "rawType": "int64",
         "type": "integer"
        },
        {
         "name": "2000 december",
         "rawType": "int64",
         "type": "integer"
        },
        {
         "name": "2001 januari",
         "rawType": "int64",
         "type": "integer"
        },
        {
         "name": "2001 februari",
         "rawType": "int64",
         "type": "integer"
        },
        {
         "name": "2001 maart",
         "rawType": "int64",
         "type": "integer"
        },
        {
         "name": "2001 april",
         "rawType": "int64",
         "type": "integer"
        },
        {
         "name": "2001 mei",
         "rawType": "int64",
         "type": "integer"
        },
        {
         "name": "2001 juni",
         "rawType": "int64",
         "type": "integer"
        },
        {
         "name": "2001 juli",
         "rawType": "int64",
         "type": "integer"
        },
        {
         "name": "2001 augustus",
         "rawType": "int64",
         "type": "integer"
        },
        {
         "name": "2001 september",
         "rawType": "int64",
         "type": "integer"
        },
        {
         "name": "2001 oktober",
         "rawType": "int64",
         "type": "integer"
        },
        {
         "name": "2001 november",
         "rawType": "int64",
         "type": "integer"
        },
        {
         "name": "2001 december",
         "rawType": "int64",
         "type": "integer"
        },
        {
         "name": "2002 januari",
         "rawType": "int64",
         "type": "integer"
        },
        {
         "name": "2002 februari",
         "rawType": "int64",
         "type": "integer"
        },
        {
         "name": "2002 maart",
         "rawType": "int64",
         "type": "integer"
        },
        {
         "name": "2002 april",
         "rawType": "int64",
         "type": "integer"
        },
        {
         "name": "2002 mei",
         "rawType": "int64",
         "type": "integer"
        },
        {
         "name": "2002 juni",
         "rawType": "int64",
         "type": "integer"
        },
        {
         "name": "2002 juli",
         "rawType": "int64",
         "type": "integer"
        },
        {
         "name": "2002 augustus",
         "rawType": "int64",
         "type": "integer"
        },
        {
         "name": "2002 september",
         "rawType": "int64",
         "type": "integer"
        },
        {
         "name": "2002 oktober",
         "rawType": "int64",
         "type": "integer"
        },
        {
         "name": "2002 november",
         "rawType": "int64",
         "type": "integer"
        },
        {
         "name": "2002 december",
         "rawType": "int64",
         "type": "integer"
        },
        {
         "name": "2003 januari",
         "rawType": "int64",
         "type": "integer"
        },
        {
         "name": "2003 februari",
         "rawType": "int64",
         "type": "integer"
        },
        {
         "name": "2003 maart",
         "rawType": "int64",
         "type": "integer"
        },
        {
         "name": "2003 april",
         "rawType": "int64",
         "type": "integer"
        },
        {
         "name": "2003 mei",
         "rawType": "int64",
         "type": "integer"
        },
        {
         "name": "2003 juni",
         "rawType": "int64",
         "type": "integer"
        },
        {
         "name": "2003 juli",
         "rawType": "int64",
         "type": "integer"
        },
        {
         "name": "2003 augustus",
         "rawType": "int64",
         "type": "integer"
        },
        {
         "name": "2003 september",
         "rawType": "int64",
         "type": "integer"
        },
        {
         "name": "2003 oktober",
         "rawType": "int64",
         "type": "integer"
        },
        {
         "name": "2003 november",
         "rawType": "int64",
         "type": "integer"
        },
        {
         "name": "2003 december",
         "rawType": "int64",
         "type": "integer"
        },
        {
         "name": "2004 januari",
         "rawType": "int64",
         "type": "integer"
        },
        {
         "name": "2004 februari",
         "rawType": "int64",
         "type": "integer"
        },
        {
         "name": "2004 maart",
         "rawType": "int64",
         "type": "integer"
        },
        {
         "name": "2004 april",
         "rawType": "int64",
         "type": "integer"
        },
        {
         "name": "2004 mei",
         "rawType": "int64",
         "type": "integer"
        },
        {
         "name": "2004 juni",
         "rawType": "int64",
         "type": "integer"
        },
        {
         "name": "2004 juli",
         "rawType": "int64",
         "type": "integer"
        },
        {
         "name": "2004 augustus",
         "rawType": "int64",
         "type": "integer"
        },
        {
         "name": "2004 september",
         "rawType": "int64",
         "type": "integer"
        },
        {
         "name": "2004 oktober",
         "rawType": "int64",
         "type": "integer"
        },
        {
         "name": "2004 november",
         "rawType": "int64",
         "type": "integer"
        },
        {
         "name": "2004 december",
         "rawType": "int64",
         "type": "integer"
        },
        {
         "name": "2005 januari",
         "rawType": "int64",
         "type": "integer"
        },
        {
         "name": "2005 februari",
         "rawType": "int64",
         "type": "integer"
        },
        {
         "name": "2005 maart",
         "rawType": "int64",
         "type": "integer"
        },
        {
         "name": "2005 april",
         "rawType": "int64",
         "type": "integer"
        },
        {
         "name": "2005 mei",
         "rawType": "int64",
         "type": "integer"
        },
        {
         "name": "2005 juni",
         "rawType": "int64",
         "type": "integer"
        },
        {
         "name": "2005 juli",
         "rawType": "int64",
         "type": "integer"
        },
        {
         "name": "2005 augustus",
         "rawType": "int64",
         "type": "integer"
        },
        {
         "name": "2005 september",
         "rawType": "int64",
         "type": "integer"
        },
        {
         "name": "2005 oktober",
         "rawType": "int64",
         "type": "integer"
        },
        {
         "name": "2005 november",
         "rawType": "int64",
         "type": "integer"
        },
        {
         "name": "2005 december",
         "rawType": "int64",
         "type": "integer"
        },
        {
         "name": "2006 januari",
         "rawType": "int64",
         "type": "integer"
        },
        {
         "name": "2006 februari",
         "rawType": "int64",
         "type": "integer"
        },
        {
         "name": "2006 maart",
         "rawType": "int64",
         "type": "integer"
        },
        {
         "name": "2006 april",
         "rawType": "int64",
         "type": "integer"
        },
        {
         "name": "2006 mei",
         "rawType": "int64",
         "type": "integer"
        },
        {
         "name": "2006 juni",
         "rawType": "int64",
         "type": "integer"
        },
        {
         "name": "2006 juli",
         "rawType": "int64",
         "type": "integer"
        },
        {
         "name": "2006 augustus",
         "rawType": "int64",
         "type": "integer"
        },
        {
         "name": "2006 september",
         "rawType": "int64",
         "type": "integer"
        },
        {
         "name": "2006 oktober",
         "rawType": "int64",
         "type": "integer"
        },
        {
         "name": "2006 november",
         "rawType": "int64",
         "type": "integer"
        },
        {
         "name": "2006 december",
         "rawType": "int64",
         "type": "integer"
        },
        {
         "name": "2007 januari",
         "rawType": "int64",
         "type": "integer"
        },
        {
         "name": "2007 februari",
         "rawType": "int64",
         "type": "integer"
        },
        {
         "name": "2007 maart",
         "rawType": "int64",
         "type": "integer"
        },
        {
         "name": "2007 april",
         "rawType": "int64",
         "type": "integer"
        },
        {
         "name": "2007 mei",
         "rawType": "int64",
         "type": "integer"
        },
        {
         "name": "2007 juni",
         "rawType": "int64",
         "type": "integer"
        },
        {
         "name": "2007 juli",
         "rawType": "int64",
         "type": "integer"
        },
        {
         "name": "2007 augustus",
         "rawType": "int64",
         "type": "integer"
        },
        {
         "name": "2007 september",
         "rawType": "int64",
         "type": "integer"
        },
        {
         "name": "2007 oktober",
         "rawType": "int64",
         "type": "integer"
        },
        {
         "name": "2007 november",
         "rawType": "int64",
         "type": "integer"
        },
        {
         "name": "2007 december",
         "rawType": "int64",
         "type": "integer"
        },
        {
         "name": "2008 januari",
         "rawType": "int64",
         "type": "integer"
        },
        {
         "name": "2008 februari",
         "rawType": "int64",
         "type": "integer"
        },
        {
         "name": "2008 maart",
         "rawType": "int64",
         "type": "integer"
        },
        {
         "name": "2008 april",
         "rawType": "int64",
         "type": "integer"
        },
        {
         "name": "2008 mei",
         "rawType": "int64",
         "type": "integer"
        },
        {
         "name": "2008 juni",
         "rawType": "int64",
         "type": "integer"
        },
        {
         "name": "2008 juli",
         "rawType": "int64",
         "type": "integer"
        },
        {
         "name": "2008 augustus",
         "rawType": "int64",
         "type": "integer"
        },
        {
         "name": "2008 september",
         "rawType": "int64",
         "type": "integer"
        },
        {
         "name": "2008 oktober",
         "rawType": "int64",
         "type": "integer"
        },
        {
         "name": "2008 november",
         "rawType": "int64",
         "type": "integer"
        },
        {
         "name": "2008 december",
         "rawType": "int64",
         "type": "integer"
        },
        {
         "name": "2009 januari",
         "rawType": "int64",
         "type": "integer"
        },
        {
         "name": "2009 februari",
         "rawType": "int64",
         "type": "integer"
        },
        {
         "name": "2009 maart",
         "rawType": "int64",
         "type": "integer"
        },
        {
         "name": "2009 april",
         "rawType": "int64",
         "type": "integer"
        },
        {
         "name": "2009 mei",
         "rawType": "int64",
         "type": "integer"
        },
        {
         "name": "2009 juni",
         "rawType": "int64",
         "type": "integer"
        },
        {
         "name": "2009 juli",
         "rawType": "int64",
         "type": "integer"
        },
        {
         "name": "2009 augustus",
         "rawType": "int64",
         "type": "integer"
        },
        {
         "name": "2009 september",
         "rawType": "int64",
         "type": "integer"
        },
        {
         "name": "2009 oktober",
         "rawType": "int64",
         "type": "integer"
        },
        {
         "name": "2009 november",
         "rawType": "int64",
         "type": "integer"
        },
        {
         "name": "2009 december",
         "rawType": "int64",
         "type": "integer"
        },
        {
         "name": "2010 januari",
         "rawType": "int64",
         "type": "integer"
        },
        {
         "name": "2010 februari",
         "rawType": "int64",
         "type": "integer"
        },
        {
         "name": "2010 maart",
         "rawType": "int64",
         "type": "integer"
        },
        {
         "name": "2010 april",
         "rawType": "int64",
         "type": "integer"
        },
        {
         "name": "2010 mei",
         "rawType": "int64",
         "type": "integer"
        },
        {
         "name": "2010 juni",
         "rawType": "int64",
         "type": "integer"
        },
        {
         "name": "2010 juli",
         "rawType": "int64",
         "type": "integer"
        },
        {
         "name": "2010 augustus",
         "rawType": "int64",
         "type": "integer"
        },
        {
         "name": "2010 september",
         "rawType": "int64",
         "type": "integer"
        },
        {
         "name": "2010 oktober",
         "rawType": "int64",
         "type": "integer"
        },
        {
         "name": "2010 november",
         "rawType": "int64",
         "type": "integer"
        },
        {
         "name": "2010 december",
         "rawType": "int64",
         "type": "integer"
        },
        {
         "name": "2011 januari",
         "rawType": "int64",
         "type": "integer"
        },
        {
         "name": "2011 februari",
         "rawType": "int64",
         "type": "integer"
        },
        {
         "name": "2011 maart",
         "rawType": "int64",
         "type": "integer"
        },
        {
         "name": "2011 april",
         "rawType": "int64",
         "type": "integer"
        },
        {
         "name": "2011 mei",
         "rawType": "int64",
         "type": "integer"
        },
        {
         "name": "2011 juni",
         "rawType": "int64",
         "type": "integer"
        },
        {
         "name": "2011 juli",
         "rawType": "int64",
         "type": "integer"
        },
        {
         "name": "2011 augustus",
         "rawType": "int64",
         "type": "integer"
        },
        {
         "name": "2011 september",
         "rawType": "int64",
         "type": "integer"
        },
        {
         "name": "2011 oktober",
         "rawType": "int64",
         "type": "integer"
        },
        {
         "name": "2011 november",
         "rawType": "int64",
         "type": "integer"
        },
        {
         "name": "2011 december",
         "rawType": "int64",
         "type": "integer"
        },
        {
         "name": "2012 januari",
         "rawType": "int64",
         "type": "integer"
        },
        {
         "name": "2012 februari",
         "rawType": "int64",
         "type": "integer"
        },
        {
         "name": "2012 maart",
         "rawType": "int64",
         "type": "integer"
        },
        {
         "name": "2012 april",
         "rawType": "int64",
         "type": "integer"
        },
        {
         "name": "2012 mei",
         "rawType": "int64",
         "type": "integer"
        },
        {
         "name": "2012 juni",
         "rawType": "int64",
         "type": "integer"
        },
        {
         "name": "2012 juli",
         "rawType": "int64",
         "type": "integer"
        },
        {
         "name": "2012 augustus",
         "rawType": "int64",
         "type": "integer"
        },
        {
         "name": "2012 september",
         "rawType": "int64",
         "type": "integer"
        },
        {
         "name": "2012 oktober",
         "rawType": "int64",
         "type": "integer"
        },
        {
         "name": "2012 november",
         "rawType": "int64",
         "type": "integer"
        },
        {
         "name": "2012 december",
         "rawType": "int64",
         "type": "integer"
        },
        {
         "name": "2013 januari",
         "rawType": "int64",
         "type": "integer"
        },
        {
         "name": "2013 februari",
         "rawType": "int64",
         "type": "integer"
        },
        {
         "name": "2013 maart",
         "rawType": "int64",
         "type": "integer"
        },
        {
         "name": "2013 april",
         "rawType": "int64",
         "type": "integer"
        },
        {
         "name": "2013 mei",
         "rawType": "int64",
         "type": "integer"
        },
        {
         "name": "2013 juni",
         "rawType": "int64",
         "type": "integer"
        },
        {
         "name": "2013 juli",
         "rawType": "int64",
         "type": "integer"
        },
        {
         "name": "2013 augustus",
         "rawType": "int64",
         "type": "integer"
        },
        {
         "name": "2013 september",
         "rawType": "int64",
         "type": "integer"
        },
        {
         "name": "2013 oktober",
         "rawType": "int64",
         "type": "integer"
        },
        {
         "name": "2013 november",
         "rawType": "int64",
         "type": "integer"
        },
        {
         "name": "2013 december",
         "rawType": "int64",
         "type": "integer"
        },
        {
         "name": "2014 januari",
         "rawType": "int64",
         "type": "integer"
        },
        {
         "name": "2014 februari",
         "rawType": "int64",
         "type": "integer"
        },
        {
         "name": "2014 maart",
         "rawType": "int64",
         "type": "integer"
        },
        {
         "name": "2014 april",
         "rawType": "int64",
         "type": "integer"
        },
        {
         "name": "2014 mei",
         "rawType": "int64",
         "type": "integer"
        },
        {
         "name": "2014 juni",
         "rawType": "int64",
         "type": "integer"
        },
        {
         "name": "2014 juli",
         "rawType": "int64",
         "type": "integer"
        },
        {
         "name": "2014 augustus",
         "rawType": "int64",
         "type": "integer"
        },
        {
         "name": "2014 september",
         "rawType": "int64",
         "type": "integer"
        },
        {
         "name": "2014 oktober",
         "rawType": "int64",
         "type": "integer"
        },
        {
         "name": "2014 november",
         "rawType": "int64",
         "type": "integer"
        },
        {
         "name": "2014 december",
         "rawType": "int64",
         "type": "integer"
        },
        {
         "name": "2015 januari",
         "rawType": "int64",
         "type": "integer"
        },
        {
         "name": "2015 februari",
         "rawType": "int64",
         "type": "integer"
        },
        {
         "name": "2015 maart",
         "rawType": "int64",
         "type": "integer"
        },
        {
         "name": "2015 april",
         "rawType": "int64",
         "type": "integer"
        },
        {
         "name": "2015 mei",
         "rawType": "int64",
         "type": "integer"
        },
        {
         "name": "2015 juni",
         "rawType": "int64",
         "type": "integer"
        },
        {
         "name": "2015 juli",
         "rawType": "int64",
         "type": "integer"
        },
        {
         "name": "2015 augustus",
         "rawType": "int64",
         "type": "integer"
        },
        {
         "name": "2015 september",
         "rawType": "int64",
         "type": "integer"
        },
        {
         "name": "2015 oktober",
         "rawType": "int64",
         "type": "integer"
        },
        {
         "name": "2015 november",
         "rawType": "int64",
         "type": "integer"
        },
        {
         "name": "2015 december",
         "rawType": "int64",
         "type": "integer"
        },
        {
         "name": "2016 januari",
         "rawType": "int64",
         "type": "integer"
        },
        {
         "name": "2016 februari",
         "rawType": "int64",
         "type": "integer"
        },
        {
         "name": "2016 maart",
         "rawType": "int64",
         "type": "integer"
        },
        {
         "name": "2016 april",
         "rawType": "int64",
         "type": "integer"
        },
        {
         "name": "2016 mei",
         "rawType": "int64",
         "type": "integer"
        },
        {
         "name": "2016 juni",
         "rawType": "int64",
         "type": "integer"
        },
        {
         "name": "2016 juli",
         "rawType": "int64",
         "type": "integer"
        },
        {
         "name": "2016 augustus",
         "rawType": "int64",
         "type": "integer"
        },
        {
         "name": "2016 september",
         "rawType": "int64",
         "type": "integer"
        },
        {
         "name": "2016 oktober",
         "rawType": "int64",
         "type": "integer"
        },
        {
         "name": "2016 november",
         "rawType": "int64",
         "type": "integer"
        },
        {
         "name": "2016 december",
         "rawType": "int64",
         "type": "integer"
        },
        {
         "name": "2017 januari",
         "rawType": "int64",
         "type": "integer"
        },
        {
         "name": "2017 februari",
         "rawType": "int64",
         "type": "integer"
        },
        {
         "name": "2017 maart",
         "rawType": "int64",
         "type": "integer"
        },
        {
         "name": "2017 april",
         "rawType": "int64",
         "type": "integer"
        },
        {
         "name": "2017 mei",
         "rawType": "int64",
         "type": "integer"
        },
        {
         "name": "2017 juni",
         "rawType": "int64",
         "type": "integer"
        },
        {
         "name": "2017 juli",
         "rawType": "int64",
         "type": "integer"
        },
        {
         "name": "2017 augustus",
         "rawType": "int64",
         "type": "integer"
        },
        {
         "name": "2017 september",
         "rawType": "int64",
         "type": "integer"
        },
        {
         "name": "2017 oktober",
         "rawType": "int64",
         "type": "integer"
        },
        {
         "name": "2017 november",
         "rawType": "int64",
         "type": "integer"
        },
        {
         "name": "2017 december",
         "rawType": "int64",
         "type": "integer"
        },
        {
         "name": "2018 januari",
         "rawType": "int64",
         "type": "integer"
        },
        {
         "name": "2018 februari",
         "rawType": "int64",
         "type": "integer"
        },
        {
         "name": "2018 maart",
         "rawType": "int64",
         "type": "integer"
        },
        {
         "name": "2018 april",
         "rawType": "int64",
         "type": "integer"
        },
        {
         "name": "2018 mei",
         "rawType": "int64",
         "type": "integer"
        },
        {
         "name": "2018 juni",
         "rawType": "int64",
         "type": "integer"
        },
        {
         "name": "2018 juli",
         "rawType": "int64",
         "type": "integer"
        },
        {
         "name": "2018 augustus",
         "rawType": "int64",
         "type": "integer"
        },
        {
         "name": "2018 september",
         "rawType": "int64",
         "type": "integer"
        },
        {
         "name": "2018 oktober",
         "rawType": "int64",
         "type": "integer"
        },
        {
         "name": "2018 november",
         "rawType": "int64",
         "type": "integer"
        },
        {
         "name": "2018 december",
         "rawType": "int64",
         "type": "integer"
        },
        {
         "name": "2019 januari",
         "rawType": "int64",
         "type": "integer"
        },
        {
         "name": "2019 februari",
         "rawType": "int64",
         "type": "integer"
        },
        {
         "name": "2019 maart",
         "rawType": "int64",
         "type": "integer"
        },
        {
         "name": "2019 april",
         "rawType": "int64",
         "type": "integer"
        },
        {
         "name": "2019 mei",
         "rawType": "int64",
         "type": "integer"
        },
        {
         "name": "2019 juni",
         "rawType": "int64",
         "type": "integer"
        },
        {
         "name": "2019 juli",
         "rawType": "int64",
         "type": "integer"
        },
        {
         "name": "2019 augustus",
         "rawType": "int64",
         "type": "integer"
        },
        {
         "name": "2019 september",
         "rawType": "int64",
         "type": "integer"
        },
        {
         "name": "2019 oktober",
         "rawType": "int64",
         "type": "integer"
        },
        {
         "name": "2019 november",
         "rawType": "int64",
         "type": "integer"
        },
        {
         "name": "2019 december",
         "rawType": "int64",
         "type": "integer"
        },
        {
         "name": "2020 januari",
         "rawType": "int64",
         "type": "integer"
        },
        {
         "name": "2020 februari",
         "rawType": "int64",
         "type": "integer"
        },
        {
         "name": "2020 maart",
         "rawType": "int64",
         "type": "integer"
        },
        {
         "name": "2020 april",
         "rawType": "int64",
         "type": "integer"
        },
        {
         "name": "2020 mei",
         "rawType": "int64",
         "type": "integer"
        },
        {
         "name": "2020 juni",
         "rawType": "int64",
         "type": "integer"
        },
        {
         "name": "2020 juli",
         "rawType": "int64",
         "type": "integer"
        },
        {
         "name": "2020 augustus",
         "rawType": "int64",
         "type": "integer"
        },
        {
         "name": "2020 september",
         "rawType": "int64",
         "type": "integer"
        },
        {
         "name": "2020 oktober",
         "rawType": "int64",
         "type": "integer"
        },
        {
         "name": "2020 november",
         "rawType": "int64",
         "type": "integer"
        },
        {
         "name": "2020 december",
         "rawType": "int64",
         "type": "integer"
        },
        {
         "name": "2021 januari",
         "rawType": "int64",
         "type": "integer"
        },
        {
         "name": "2021 februari",
         "rawType": "int64",
         "type": "integer"
        },
        {
         "name": "2021 maart",
         "rawType": "int64",
         "type": "integer"
        },
        {
         "name": "2021 april",
         "rawType": "int64",
         "type": "integer"
        },
        {
         "name": "2021 mei",
         "rawType": "int64",
         "type": "integer"
        },
        {
         "name": "2021 juni",
         "rawType": "int64",
         "type": "integer"
        },
        {
         "name": "2021 juli",
         "rawType": "int64",
         "type": "integer"
        },
        {
         "name": "2021 augustus",
         "rawType": "int64",
         "type": "integer"
        },
        {
         "name": "2021 september",
         "rawType": "int64",
         "type": "integer"
        },
        {
         "name": "2021 oktober",
         "rawType": "int64",
         "type": "integer"
        },
        {
         "name": "2021 november",
         "rawType": "int64",
         "type": "integer"
        },
        {
         "name": "2021 december",
         "rawType": "int64",
         "type": "integer"
        },
        {
         "name": "2022 januari",
         "rawType": "int64",
         "type": "integer"
        },
        {
         "name": "2022 februari",
         "rawType": "int64",
         "type": "integer"
        },
        {
         "name": "2022 maart",
         "rawType": "int64",
         "type": "integer"
        },
        {
         "name": "2022 april",
         "rawType": "int64",
         "type": "integer"
        },
        {
         "name": "2022 mei",
         "rawType": "int64",
         "type": "integer"
        },
        {
         "name": "2022 juni",
         "rawType": "int64",
         "type": "integer"
        },
        {
         "name": "2022 juli",
         "rawType": "int64",
         "type": "integer"
        },
        {
         "name": "2022 augustus",
         "rawType": "int64",
         "type": "integer"
        },
        {
         "name": "2022 september",
         "rawType": "int64",
         "type": "integer"
        },
        {
         "name": "2022 oktober",
         "rawType": "int64",
         "type": "integer"
        },
        {
         "name": "2022 november",
         "rawType": "int64",
         "type": "integer"
        },
        {
         "name": "2022 december",
         "rawType": "int64",
         "type": "integer"
        },
        {
         "name": "2023 januari",
         "rawType": "int64",
         "type": "integer"
        },
        {
         "name": "2023 februari",
         "rawType": "int64",
         "type": "integer"
        },
        {
         "name": "2023 maart",
         "rawType": "int64",
         "type": "integer"
        },
        {
         "name": "2023 april",
         "rawType": "int64",
         "type": "integer"
        },
        {
         "name": "2023 mei",
         "rawType": "int64",
         "type": "integer"
        },
        {
         "name": "2023 juni",
         "rawType": "int64",
         "type": "integer"
        },
        {
         "name": "2023 juli",
         "rawType": "int64",
         "type": "integer"
        },
        {
         "name": "2023 augustus",
         "rawType": "int64",
         "type": "integer"
        },
        {
         "name": "2023 september",
         "rawType": "int64",
         "type": "integer"
        },
        {
         "name": "2023 oktober",
         "rawType": "int64",
         "type": "integer"
        },
        {
         "name": "2023 november",
         "rawType": "int64",
         "type": "integer"
        },
        {
         "name": "2023 december",
         "rawType": "int64",
         "type": "integer"
        },
        {
         "name": "2024 januari",
         "rawType": "int64",
         "type": "integer"
        },
        {
         "name": "2024 februari",
         "rawType": "int64",
         "type": "integer"
        },
        {
         "name": "2024 maart",
         "rawType": "int64",
         "type": "integer"
        },
        {
         "name": "2024 april",
         "rawType": "int64",
         "type": "integer"
        },
        {
         "name": "2024 mei",
         "rawType": "int64",
         "type": "integer"
        },
        {
         "name": "2024 juni",
         "rawType": "int64",
         "type": "integer"
        },
        {
         "name": "2024 juli",
         "rawType": "int64",
         "type": "integer"
        },
        {
         "name": "2024 augustus",
         "rawType": "int64",
         "type": "integer"
        },
        {
         "name": "2024 september",
         "rawType": "int64",
         "type": "integer"
        },
        {
         "name": "2024 oktober",
         "rawType": "int64",
         "type": "integer"
        },
        {
         "name": "2024 november",
         "rawType": "int64",
         "type": "integer"
        },
        {
         "name": "2024 december",
         "rawType": "int64",
         "type": "integer"
        },
        {
         "name": "2025 januari",
         "rawType": "int64",
         "type": "integer"
        },
        {
         "name": "2025 februari",
         "rawType": "int64",
         "type": "integer"
        },
        {
         "name": "2025 maart",
         "rawType": "int64",
         "type": "integer"
        },
        {
         "name": "2025 april",
         "rawType": "int64",
         "type": "integer"
        }
       ],
       "conversionMethod": "pd.DataFrame",
       "ref": "85886fe0-f95d-4da4-aad8-377f5fe88b49",
       "rows": [
        [
         "0",
         "Consumentenvertrouwen",
         null,
         "2",
         "8",
         "15",
         "20",
         "21",
         "21",
         "21",
         "21",
         "20",
         "22",
         "23",
         "22",
         "10",
         "1",
         "-2",
         "-3",
         "2",
         "11",
         "6",
         "4",
         "1",
         "-3",
         "-3",
         "1",
         "5",
         "6",
         "6",
         "9",
         "15",
         "13",
         "14",
         "18",
         "18",
         "20",
         "18",
         "20",
         "20",
         "17",
         "19",
         "23",
         "23",
         "23",
         "24",
         "25",
         "24",
         "23",
         "19",
         "19",
         "18",
         "16",
         "15",
         "15",
         "15",
         "9",
         "2",
         "-5",
         "-6",
         "-7",
         "-11",
         "-7",
         "-8",
         "-5",
         "-4",
         "-7",
         "-9",
         "-11",
         "-15",
         "-14",
         "-12",
         "-12",
         "-14",
         "-14",
         "-14",
         "-12",
         "-7",
         "-3",
         "-2",
         "-3",
         "-5",
         "-10",
         "-16",
         "-17",
         "-20",
         "-24",
         "-24",
         "-23",
         "-22",
         "-22",
         "-17",
         "-13",
         "-17",
         "-14",
         "-16",
         "-17",
         "-14",
         "-9",
         "-5",
         "-4",
         "0",
         "1",
         "6",
         "12",
         "10",
         "9",
         "3",
         "2",
         "8",
         "12",
         "11",
         "12",
         "9",
         "10",
         "14",
         "14",
         "17",
         "17",
         "11",
         "9",
         "4",
         "-2",
         "-4",
         "0",
         "4",
         "9",
         "9",
         "12",
         "17",
         "15",
         "14",
         "17",
         "19",
         "21",
         "22",
         "24",
         "24",
         "25",
         "24",
         "24",
         "25",
         "26",
         "25",
         "26",
         "27",
         "31",
         "31",
         "33",
         "33",
         "33",
         "30",
         "24",
         "14",
         "11",
         "13",
         "13",
         "12",
         "13",
         "15",
         "16",
         "16",
         "20",
         "20",
         "27",
         "33",
         "34",
         "35",
         "36",
         "35",
         "35",
         "36",
         "34",
         "34",
         "32",
         "31",
         "30",
         "32",
         "30",
         "31",
         "26",
         "20",
         "14",
         "6",
         "5",
         "1",
         "0",
         "-3",
         "-4",
         "-3",
         "-4",
         "-1",
         "2",
         "4",
         "1",
         "-4",
         "-9",
         "-15",
         "-20",
         "-25",
         "-30",
         "-31",
         "-28",
         "-25",
         "-29",
         "-32",
         "-34",
         "-35",
         "-34",
         "-34",
         "-36",
         "-33",
         "-33",
         "-32",
         "-27",
         "-25",
         "-27",
         "-20",
         "-19",
         "-20",
         "-22",
         "-22",
         "-18",
         "-16",
         "-17",
         "-20",
         "-21",
         "-25",
         "-24",
         "-19",
         "-15",
         "-11",
         "-14",
         "-20",
         "-22",
         "-25",
         "-26",
         "-22",
         "-15",
         "-10",
         "-7",
         "-6",
         "-3",
         "1",
         "4",
         "11",
         "12",
         "11",
         "13",
         "14",
         "14",
         "16",
         "19",
         "20",
         "20",
         "20",
         "21",
         "25",
         "23",
         "22",
         "10",
         "4",
         "1",
         "2",
         "1",
         "-4",
         "-5",
         "-7",
         "-12",
         "-16",
         "-26",
         "-28",
         "-25",
         "-25",
         "-26",
         "-26",
         "-27",
         "-28",
         "-30",
         "-26",
         "-22",
         "-19",
         "-19",
         "-14",
         "-12",
         "-14",
         "-11",
         "-7",
         "-4",
         "-6",
         "-6",
         "-7",
         "-9",
         "-13",
         "-11",
         "-7",
         "-8",
         "-7",
         "-3",
         "-7",
         "-4",
         "0",
         "1",
         "-2",
         "-4",
         "-6",
         "-8",
         "-16",
         "-27",
         "-34",
         "-35",
         "-36",
         "-37",
         "-36",
         "-36",
         "-32",
         "-34",
         "-37",
         "-33",
         "-31",
         "-28",
         "-29",
         "-33",
         "-38",
         "-37",
         "-41",
         "-41",
         "-37",
         "-32",
         "-33",
         "-35",
         "-32",
         "-31",
         "-26",
         "-16",
         "-11",
         "-6",
         "-2",
         "1",
         "4",
         "6",
         "6",
         "5",
         "2",
         "-2",
         "1",
         "-2",
         "-4",
         "-2",
         "-1",
         "7",
         "10",
         "11",
         "14",
         "13",
         "13",
         "11",
         "12",
         "14",
         "13",
         "11",
         "6",
         "2",
         "6",
         "7",
         "11",
         "9",
         "9",
         "12",
         "17",
         "20",
         "21",
         "21",
         "22",
         "24",
         "26",
         "23",
         "23",
         "25",
         "26",
         "23",
         "23",
         "22",
         "25",
         "24",
         "23",
         "24",
         "25",
         "23",
         "23",
         "23",
         "21",
         "18",
         "15",
         "13",
         "9",
         "1",
         "-2",
         "-3",
         "-3",
         "-3",
         "-1",
         "1",
         "-1",
         "-2",
         "-1",
         "-2",
         "-2",
         "-2",
         "-2",
         "-3",
         "-23",
         "-31",
         "-27",
         "-26",
         "-29",
         "-28",
         "-30",
         "-26",
         "-19",
         "-19",
         "-19",
         "-18",
         "-14",
         "-9",
         "-3",
         "-4",
         "-6",
         "-5",
         "-10",
         "-20",
         "-26",
         "-28",
         "-30",
         "-39",
         "-48",
         "-47",
         "-50",
         "-51",
         "-54",
         "-59",
         "-59",
         "-56",
         "-52",
         "-49",
         "-44",
         "-39",
         "-37",
         "-38",
         "-39",
         "-39",
         "-40",
         "-39",
         "-38",
         "-33",
         "-29",
         "-28",
         "-26",
         "-22",
         "-21",
         "-22",
         "-23",
         "-24",
         "-24",
         "-21",
         "-22",
         "-25",
         "-26",
         "-28",
         "-32",
         "-34",
         "-37"
        ],
        [
         "1",
         "Economisch klimaat",
         null,
         "6",
         "17",
         "33",
         "45",
         "47",
         "45",
         "45",
         "44",
         "43",
         "45",
         "45",
         "43",
         "15",
         "-2",
         "-10",
         "-13",
         "-3",
         "19",
         "9",
         "4",
         "-2",
         "-13",
         "-14",
         "-8",
         "2",
         "4",
         "4",
         "10",
         "20",
         "16",
         "22",
         "29",
         "32",
         "34",
         "31",
         "33",
         "32",
         "26",
         "28",
         "35",
         "34",
         "34",
         "35",
         "36",
         "34",
         "34",
         "26",
         "26",
         "22",
         "17",
         "14",
         "13",
         "10",
         "-4",
         "-17",
         "-31",
         "-32",
         "-32",
         "-38",
         "-27",
         "-28",
         "-23",
         "-23",
         "-27",
         "-30",
         "-34",
         "-41",
         "-41",
         "-38",
         "-38",
         "-40",
         "-39",
         "-38",
         "-35",
         "-27",
         "-18",
         "-18",
         "-21",
         "-25",
         "-37",
         "-48",
         "-47",
         "-53",
         "-62",
         "-60",
         "-55",
         "-53",
         "-53",
         "-45",
         "-35",
         "-39",
         "-34",
         "-38",
         "-41",
         "-34",
         "-24",
         "-16",
         "-12",
         "-4",
         "0",
         "13",
         "26",
         "21",
         "19",
         "8",
         "7",
         "16",
         "23",
         "18",
         "20",
         "14",
         "13",
         "19",
         "18",
         "25",
         "24",
         "16",
         "13",
         "1",
         "-13",
         "-19",
         "-10",
         "-2",
         "7",
         "7",
         "13",
         "24",
         "20",
         "21",
         "26",
         "27",
         "29",
         "31",
         "35",
         "33",
         "33",
         "33",
         "31",
         "33",
         "34",
         "33",
         "34",
         "36",
         "43",
         "42",
         "43",
         "42",
         "41",
         "37",
         "22",
         "0",
         "-5",
         "-2",
         "0",
         "0",
         "0",
         "1",
         "2",
         "3",
         "11",
         "13",
         "27",
         "37",
         "38",
         "37",
         "42",
         "41",
         "41",
         "45",
         "41",
         "40",
         "37",
         "33",
         "30",
         "32",
         "29",
         "29",
         "22",
         "13",
         "-1",
         "-16",
         "-20",
         "-26",
         "-27",
         "-33",
         "-35",
         "-35",
         "-37",
         "-33",
         "-23",
         "-14",
         "-14",
         "-19",
         "-22",
         "-28",
         "-37",
         "-44",
         "-53",
         "-55",
         "-50",
         "-45",
         "-55",
         "-59",
         "-62",
         "-61",
         "-56",
         "-54",
         "-57",
         "-50",
         "-48",
         "-47",
         "-38",
         "-33",
         "-37",
         "-23",
         "-20",
         "-21",
         "-26",
         "-26",
         "-20",
         "-16",
         "-17",
         "-21",
         "-24",
         "-29",
         "-29",
         "-19",
         "-9",
         "1",
         "-4",
         "-17",
         "-22",
         "-27",
         "-29",
         "-19",
         "-8",
         "2",
         "6",
         "7",
         "13",
         "19",
         "24",
         "34",
         "34",
         "32",
         "33",
         "35",
         "35",
         "37",
         "41",
         "41",
         "39",
         "37",
         "37",
         "42",
         "38",
         "35",
         "12",
         "1",
         "-2",
         "1",
         "-2",
         "-12",
         "-15",
         "-18",
         "-28",
         "-35",
         "-51",
         "-54",
         "-47",
         "-48",
         "-50",
         "-53",
         "-57",
         "-59",
         "-63",
         "-55",
         "-42",
         "-37",
         "-36",
         "-28",
         "-22",
         "-28",
         "-21",
         "-10",
         "-6",
         "-9",
         "-8",
         "-7",
         "-9",
         "-18",
         "-14",
         "-7",
         "-7",
         "-3",
         "4",
         "-4",
         "4",
         "12",
         "12",
         "9",
         "3",
         "-4",
         "-8",
         "-26",
         "-48",
         "-61",
         "-64",
         "-65",
         "-66",
         "-61",
         "-60",
         "-51",
         "-54",
         "-59",
         "-50",
         "-47",
         "-40",
         "-39",
         "-47",
         "-57",
         "-58",
         "-61",
         "-60",
         "-53",
         "-42",
         "-42",
         "-46",
         "-39",
         "-37",
         "-29",
         "-11",
         "0",
         "8",
         "12",
         "18",
         "23",
         "25",
         "25",
         "25",
         "18",
         "9",
         "13",
         "7",
         "4",
         "6",
         "6",
         "22",
         "30",
         "31",
         "38",
         "34",
         "34",
         "28",
         "28",
         "31",
         "27",
         "23",
         "16",
         "5",
         "12",
         "15",
         "23",
         "20",
         "20",
         "26",
         "32",
         "39",
         "39",
         "41",
         "43",
         "47",
         "50",
         "45",
         "44",
         "46",
         "49",
         "44",
         "43",
         "41",
         "45",
         "45",
         "43",
         "44",
         "47",
         "43",
         "43",
         "43",
         "40",
         "34",
         "28",
         "24",
         "17",
         "3",
         "0",
         "-3",
         "-3",
         "-2",
         "2",
         "6",
         "-1",
         "-3",
         "-4",
         "-6",
         "-8",
         "-7",
         "-5",
         "-10",
         "-31",
         "-52",
         "-52",
         "-51",
         "-58",
         "-58",
         "-61",
         "-53",
         "-40",
         "-39",
         "-41",
         "-39",
         "-31",
         "-24",
         "-12",
         "-10",
         "-11",
         "-8",
         "-15",
         "-29",
         "-39",
         "-43",
         "-46",
         "-58",
         "-69",
         "-68",
         "-69",
         "-71",
         "-74",
         "-79",
         "-75",
         "-72",
         "-65",
         "-62",
         "-54",
         "-48",
         "-48",
         "-53",
         "-54",
         "-54",
         "-56",
         "-57",
         "-56",
         "-47",
         "-41",
         "-39",
         "-41",
         "-35",
         "-34",
         "-38",
         "-38",
         "-39",
         "-42",
         "-37",
         "-37",
         "-43",
         "-45",
         "-50",
         "-54",
         "-57",
         "-61"
        ],
        [
         "2",
         "Koopbereidheid",
         null,
         "0",
         "1",
         "3",
         "4",
         "4",
         "5",
         "6",
         "5",
         "5",
         "6",
         "8",
         "8",
         "7",
         "4",
         "3",
         "4",
         "5",
         "6",
         "4",
         "3",
         "3",
         "4",
         "5",
         "7",
         "7",
         "7",
         "7",
         "9",
         "11",
         "10",
         "9",
         "11",
         "8",
         "10",
         "9",
         "12",
         "11",
         "11",
         "14",
         "15",
         "16",
         "16",
         "17",
         "17",
         "17",
         "16",
         "14",
         "14",
         "15",
         "15",
         "15",
         "17",
         "19",
         "17",
         "15",
         "12",
         "12",
         "10",
         "7",
         "6",
         "6",
         "8",
         "8",
         "6",
         "4",
         "4",
         "3",
         "4",
         "6",
         "6",
         "3",
         "3",
         "3",
         "3",
         "6",
         "8",
         "9",
         "9",
         "8",
         "8",
         "5",
         "4",
         "2",
         "1",
         "0",
         "-1",
         "-1",
         "-1",
         "1",
         "1",
         "-2",
         "-1",
         "0",
         "0",
         "0",
         "1",
         "1",
         "2",
         "2",
         "1",
         "2",
         "4",
         "2",
         "2",
         "0",
         "-1",
         "2",
         "5",
         "6",
         "7",
         "6",
         "8",
         "10",
         "11",
         "12",
         "11",
         "7",
         "6",
         "5",
         "4",
         "6",
         "6",
         "8",
         "10",
         "11",
         "11",
         "12",
         "11",
         "9",
         "10",
         "13",
         "16",
         "17",
         "17",
         "18",
         "20",
         "19",
         "20",
         "20",
         "20",
         "20",
         "21",
         "21",
         "23",
         "24",
         "26",
         "28",
         "27",
         "26",
         "25",
         "22",
         "21",
         "23",
         "21",
         "21",
         "21",
         "24",
         "25",
         "25",
         "26",
         "25",
         "27",
         "30",
         "32",
         "34",
         "33",
         "32",
         "31",
         "30",
         "29",
         "31",
         "30",
         "30",
         "30",
         "31",
         "30",
         "32",
         "28",
         "26",
         "23",
         "21",
         "21",
         "18",
         "17",
         "17",
         "17",
         "18",
         "19",
         "21",
         "19",
         "15",
         "10",
         "5",
         "0",
         "-5",
         "-9",
         "-12",
         "-15",
         "-15",
         "-14",
         "-11",
         "-12",
         "-14",
         "-16",
         "-18",
         "-19",
         "-20",
         "-22",
         "-22",
         "-23",
         "-22",
         "-20",
         "-19",
         "-20",
         "-17",
         "-19",
         "-19",
         "-19",
         "-19",
         "-17",
         "-17",
         "-17",
         "-19",
         "-20",
         "-21",
         "-20",
         "-19",
         "-20",
         "-19",
         "-20",
         "-23",
         "-22",
         "-23",
         "-24",
         "-23",
         "-20",
         "-18",
         "-16",
         "-15",
         "-13",
         "-11",
         "-9",
         "-5",
         "-3",
         "-2",
         "0",
         "1",
         "0",
         "1",
         "5",
         "6",
         "7",
         "9",
         "10",
         "13",
         "13",
         "14",
         "9",
         "5",
         "3",
         "2",
         "3",
         "2",
         "1",
         "0",
         "-1",
         "-4",
         "-10",
         "-11",
         "-10",
         "-10",
         "-11",
         "-8",
         "-7",
         "-6",
         "-7",
         "-7",
         "-8",
         "-7",
         "-7",
         "-5",
         "-5",
         "-5",
         "-5",
         "-4",
         "-3",
         "-4",
         "-4",
         "-6",
         "-9",
         "-10",
         "-9",
         "-7",
         "-9",
         "-9",
         "-7",
         "-9",
         "-9",
         "-7",
         "-7",
         "-9",
         "-9",
         "-8",
         "-8",
         "-9",
         "-13",
         "-16",
         "-15",
         "-17",
         "-18",
         "-19",
         "-20",
         "-19",
         "-21",
         "-22",
         "-21",
         "-21",
         "-20",
         "-23",
         "-24",
         "-25",
         "-23",
         "-27",
         "-29",
         "-26",
         "-25",
         "-27",
         "-27",
         "-27",
         "-26",
         "-23",
         "-20",
         "-18",
         "-15",
         "-11",
         "-10",
         "-9",
         "-8",
         "-7",
         "-7",
         "-9",
         "-9",
         "-8",
         "-8",
         "-9",
         "-8",
         "-6",
         "-4",
         "-4",
         "-3",
         "-1",
         "0",
         "-1",
         "0",
         "1",
         "3",
         "4",
         "3",
         "0",
         "0",
         "1",
         "2",
         "3",
         "2",
         "1",
         "3",
         "7",
         "8",
         "8",
         "7",
         "8",
         "8",
         "10",
         "8",
         "10",
         "11",
         "11",
         "10",
         "10",
         "10",
         "12",
         "11",
         "10",
         "10",
         "11",
         "10",
         "9",
         "10",
         "9",
         "8",
         "6",
         "5",
         "3",
         "-1",
         "-3",
         "-4",
         "-3",
         "-4",
         "-2",
         "-1",
         "-1",
         "-1",
         "1",
         "1",
         "2",
         "1",
         "1",
         "2",
         "-17",
         "-17",
         "-11",
         "-10",
         "-10",
         "-9",
         "-9",
         "-7",
         "-6",
         "-6",
         "-5",
         "-4",
         "-2",
         "1",
         "3",
         "0",
         "-2",
         "-3",
         "-7",
         "-14",
         "-17",
         "-18",
         "-20",
         "-26",
         "-34",
         "-33",
         "-37",
         "-38",
         "-40",
         "-46",
         "-48",
         "-46",
         "-43",
         "-41",
         "-37",
         "-33",
         "-30",
         "-28",
         "-29",
         "-29",
         "-29",
         "-28",
         "-27",
         "-24",
         "-21",
         "-20",
         "-17",
         "-14",
         "-13",
         "-12",
         "-14",
         "-14",
         "-13",
         "-11",
         "-12",
         "-12",
         "-13",
         "-14",
         "-17",
         "-18",
         "-20"
        ]
       ],
       "shape": {
        "columns": 471,
        "rows": 3
       }
      },
      "text/html": [
       "<div>\n",
       "<style scoped>\n",
       "    .dataframe tbody tr th:only-of-type {\n",
       "        vertical-align: middle;\n",
       "    }\n",
       "\n",
       "    .dataframe tbody tr th {\n",
       "        vertical-align: top;\n",
       "    }\n",
       "\n",
       "    .dataframe thead th {\n",
       "        text-align: right;\n",
       "    }\n",
       "</style>\n",
       "<table border=\"1\" class=\"dataframe\">\n",
       "  <thead>\n",
       "    <tr style=\"text-align: right;\">\n",
       "      <th></th>\n",
       "      <th>Onderwerp</th>\n",
       "      <th>Unnamed: 1</th>\n",
       "      <th>1986 april</th>\n",
       "      <th>1986 mei</th>\n",
       "      <th>1986 juni</th>\n",
       "      <th>1986 juli</th>\n",
       "      <th>1986 augustus</th>\n",
       "      <th>1986 september</th>\n",
       "      <th>1986 oktober</th>\n",
       "      <th>1986 november</th>\n",
       "      <th>...</th>\n",
       "      <th>2024 juli</th>\n",
       "      <th>2024 augustus</th>\n",
       "      <th>2024 september</th>\n",
       "      <th>2024 oktober</th>\n",
       "      <th>2024 november</th>\n",
       "      <th>2024 december</th>\n",
       "      <th>2025 januari</th>\n",
       "      <th>2025 februari</th>\n",
       "      <th>2025 maart</th>\n",
       "      <th>2025 april</th>\n",
       "    </tr>\n",
       "  </thead>\n",
       "  <tbody>\n",
       "    <tr>\n",
       "      <th>0</th>\n",
       "      <td>Consumentenvertrouwen</td>\n",
       "      <td>NaN</td>\n",
       "      <td>2</td>\n",
       "      <td>8</td>\n",
       "      <td>15</td>\n",
       "      <td>20</td>\n",
       "      <td>21</td>\n",
       "      <td>21</td>\n",
       "      <td>21</td>\n",
       "      <td>21</td>\n",
       "      <td>...</td>\n",
       "      <td>-24</td>\n",
       "      <td>-24</td>\n",
       "      <td>-21</td>\n",
       "      <td>-22</td>\n",
       "      <td>-25</td>\n",
       "      <td>-26</td>\n",
       "      <td>-28</td>\n",
       "      <td>-32</td>\n",
       "      <td>-34</td>\n",
       "      <td>-37</td>\n",
       "    </tr>\n",
       "    <tr>\n",
       "      <th>1</th>\n",
       "      <td>Economisch klimaat</td>\n",
       "      <td>NaN</td>\n",
       "      <td>6</td>\n",
       "      <td>17</td>\n",
       "      <td>33</td>\n",
       "      <td>45</td>\n",
       "      <td>47</td>\n",
       "      <td>45</td>\n",
       "      <td>45</td>\n",
       "      <td>44</td>\n",
       "      <td>...</td>\n",
       "      <td>-39</td>\n",
       "      <td>-42</td>\n",
       "      <td>-37</td>\n",
       "      <td>-37</td>\n",
       "      <td>-43</td>\n",
       "      <td>-45</td>\n",
       "      <td>-50</td>\n",
       "      <td>-54</td>\n",
       "      <td>-57</td>\n",
       "      <td>-61</td>\n",
       "    </tr>\n",
       "    <tr>\n",
       "      <th>2</th>\n",
       "      <td>Koopbereidheid</td>\n",
       "      <td>NaN</td>\n",
       "      <td>0</td>\n",
       "      <td>1</td>\n",
       "      <td>3</td>\n",
       "      <td>4</td>\n",
       "      <td>4</td>\n",
       "      <td>5</td>\n",
       "      <td>6</td>\n",
       "      <td>5</td>\n",
       "      <td>...</td>\n",
       "      <td>-14</td>\n",
       "      <td>-13</td>\n",
       "      <td>-11</td>\n",
       "      <td>-12</td>\n",
       "      <td>-12</td>\n",
       "      <td>-13</td>\n",
       "      <td>-14</td>\n",
       "      <td>-17</td>\n",
       "      <td>-18</td>\n",
       "      <td>-20</td>\n",
       "    </tr>\n",
       "  </tbody>\n",
       "</table>\n",
       "<p>3 rows × 471 columns</p>\n",
       "</div>"
      ],
      "text/plain": [
       "               Onderwerp  Unnamed: 1  1986 april  1986 mei  1986 juni  \\\n",
       "0  Consumentenvertrouwen         NaN           2         8         15   \n",
       "1     Economisch klimaat         NaN           6        17         33   \n",
       "2         Koopbereidheid         NaN           0         1          3   \n",
       "\n",
       "   1986 juli  1986 augustus  1986 september  1986 oktober  1986 november  ...  \\\n",
       "0         20             21              21            21             21  ...   \n",
       "1         45             47              45            45             44  ...   \n",
       "2          4              4               5             6              5  ...   \n",
       "\n",
       "   2024 juli  2024 augustus  2024 september  2024 oktober  2024 november  \\\n",
       "0        -24            -24             -21           -22            -25   \n",
       "1        -39            -42             -37           -37            -43   \n",
       "2        -14            -13             -11           -12            -12   \n",
       "\n",
       "   2024 december  2025 januari  2025 februari  2025 maart  2025 april  \n",
       "0            -26           -28            -32         -34         -37  \n",
       "1            -45           -50            -54         -57         -61  \n",
       "2            -13           -14            -17         -18         -20  \n",
       "\n",
       "[3 rows x 471 columns]"
      ]
     },
     "metadata": {},
     "output_type": "display_data"
    }
   ],
   "source": [
    "import pandas as pd\n",
    "\n",
    "# 1. Data inladen\n",
    "df_raw = pd.read_csv(\n",
    "    r\"E:\\Nieuw dataset\\Consumentenvertrouwen, economisch klimaat en koopbereidheid ongecorrigeerd\\Consumentenvertrouwen__economisch_klimaat_en_koopbereidheid__gecorrigeerd_27042025_161526.csv\",\n",
    "    sep=\";\"\n",
    ")\n",
    "\n",
    "display(df_raw)\n"
   ]
  },
  {
   "cell_type": "markdown",
   "id": "5cfb59bb",
   "metadata": {},
   "source": [
    "data opmgooien"
   ]
  },
  {
   "cell_type": "code",
   "execution_count": null,
   "id": "b8899944",
   "metadata": {},
   "outputs": [
    {
     "data": {
      "application/vnd.microsoft.datawrangler.viewer.v0+json": {
       "columns": [
        {
         "name": "index",
         "rawType": "int64",
         "type": "integer"
        },
        {
         "name": "Periode",
         "rawType": "object",
         "type": "string"
        },
        {
         "name": "Consumentenvertrouwen",
         "rawType": "float64",
         "type": "float"
        },
        {
         "name": "Economisch klimaat",
         "rawType": "float64",
         "type": "float"
        },
        {
         "name": "Koopbereidheid",
         "rawType": "float64",
         "type": "float"
        }
       ],
       "conversionMethod": "pd.DataFrame",
       "ref": "c17df1e9-f43c-459e-b003-4b17e642d481",
       "rows": [
        [
         "0",
         "Unnamed: 1",
         null,
         null,
         null
        ],
        [
         "1",
         "1986 april",
         "2.0",
         "6.0",
         "0.0"
        ],
        [
         "2",
         "1986 mei",
         "8.0",
         "17.0",
         "1.0"
        ],
        [
         "3",
         "1986 juni",
         "15.0",
         "33.0",
         "3.0"
        ],
        [
         "4",
         "1986 juli",
         "20.0",
         "45.0",
         "4.0"
        ],
        [
         "5",
         "1986 augustus",
         "21.0",
         "47.0",
         "4.0"
        ],
        [
         "6",
         "1986 september",
         "21.0",
         "45.0",
         "5.0"
        ],
        [
         "7",
         "1986 oktober",
         "21.0",
         "45.0",
         "6.0"
        ],
        [
         "8",
         "1986 november",
         "21.0",
         "44.0",
         "5.0"
        ],
        [
         "9",
         "1986 december",
         "20.0",
         "43.0",
         "5.0"
        ],
        [
         "10",
         "1987 januari",
         "22.0",
         "45.0",
         "6.0"
        ],
        [
         "11",
         "1987 februari",
         "23.0",
         "45.0",
         "8.0"
        ],
        [
         "12",
         "1987 maart",
         "22.0",
         "43.0",
         "8.0"
        ],
        [
         "13",
         "1987 april",
         "10.0",
         "15.0",
         "7.0"
        ],
        [
         "14",
         "1987 mei",
         "1.0",
         "-2.0",
         "4.0"
        ],
        [
         "15",
         "1987 juni",
         "-2.0",
         "-10.0",
         "3.0"
        ],
        [
         "16",
         "1987 juli",
         "-3.0",
         "-13.0",
         "4.0"
        ],
        [
         "17",
         "1987 augustus",
         "2.0",
         "-3.0",
         "5.0"
        ],
        [
         "18",
         "1987 september",
         "11.0",
         "19.0",
         "6.0"
        ],
        [
         "19",
         "1987 oktober",
         "6.0",
         "9.0",
         "4.0"
        ],
        [
         "20",
         "1987 november",
         "4.0",
         "4.0",
         "3.0"
        ],
        [
         "21",
         "1987 december",
         "1.0",
         "-2.0",
         "3.0"
        ],
        [
         "22",
         "1988 januari",
         "-3.0",
         "-13.0",
         "4.0"
        ],
        [
         "23",
         "1988 februari",
         "-3.0",
         "-14.0",
         "5.0"
        ],
        [
         "24",
         "1988 maart",
         "1.0",
         "-8.0",
         "7.0"
        ],
        [
         "25",
         "1988 april",
         "5.0",
         "2.0",
         "7.0"
        ],
        [
         "26",
         "1988 mei",
         "6.0",
         "4.0",
         "7.0"
        ],
        [
         "27",
         "1988 juni",
         "6.0",
         "4.0",
         "7.0"
        ],
        [
         "28",
         "1988 juli",
         "9.0",
         "10.0",
         "9.0"
        ],
        [
         "29",
         "1988 augustus",
         "15.0",
         "20.0",
         "11.0"
        ],
        [
         "30",
         "1988 september",
         "13.0",
         "16.0",
         "10.0"
        ],
        [
         "31",
         "1988 oktober",
         "14.0",
         "22.0",
         "9.0"
        ],
        [
         "32",
         "1988 november",
         "18.0",
         "29.0",
         "11.0"
        ],
        [
         "33",
         "1988 december",
         "18.0",
         "32.0",
         "8.0"
        ],
        [
         "34",
         "1989 januari",
         "20.0",
         "34.0",
         "10.0"
        ],
        [
         "35",
         "1989 februari",
         "18.0",
         "31.0",
         "9.0"
        ],
        [
         "36",
         "1989 maart",
         "20.0",
         "33.0",
         "12.0"
        ],
        [
         "37",
         "1989 april",
         "20.0",
         "32.0",
         "11.0"
        ],
        [
         "38",
         "1989 mei",
         "17.0",
         "26.0",
         "11.0"
        ],
        [
         "39",
         "1989 juni",
         "19.0",
         "28.0",
         "14.0"
        ],
        [
         "40",
         "1989 juli",
         "23.0",
         "35.0",
         "15.0"
        ],
        [
         "41",
         "1989 augustus",
         "23.0",
         "34.0",
         "16.0"
        ],
        [
         "42",
         "1989 september",
         "23.0",
         "34.0",
         "16.0"
        ],
        [
         "43",
         "1989 oktober",
         "24.0",
         "35.0",
         "17.0"
        ],
        [
         "44",
         "1989 november",
         "25.0",
         "36.0",
         "17.0"
        ],
        [
         "45",
         "1989 december",
         "24.0",
         "34.0",
         "17.0"
        ],
        [
         "46",
         "1990 januari",
         "23.0",
         "34.0",
         "16.0"
        ],
        [
         "47",
         "1990 februari",
         "19.0",
         "26.0",
         "14.0"
        ],
        [
         "48",
         "1990 maart",
         "19.0",
         "26.0",
         "14.0"
        ],
        [
         "49",
         "1990 april",
         "18.0",
         "22.0",
         "15.0"
        ]
       ],
       "shape": {
        "columns": 4,
        "rows": 470
       }
      },
      "text/html": [
       "<div>\n",
       "<style scoped>\n",
       "    .dataframe tbody tr th:only-of-type {\n",
       "        vertical-align: middle;\n",
       "    }\n",
       "\n",
       "    .dataframe tbody tr th {\n",
       "        vertical-align: top;\n",
       "    }\n",
       "\n",
       "    .dataframe thead th {\n",
       "        text-align: right;\n",
       "    }\n",
       "</style>\n",
       "<table border=\"1\" class=\"dataframe\">\n",
       "  <thead>\n",
       "    <tr style=\"text-align: right;\">\n",
       "      <th>Onderwerp</th>\n",
       "      <th>Periode</th>\n",
       "      <th>Consumentenvertrouwen</th>\n",
       "      <th>Economisch klimaat</th>\n",
       "      <th>Koopbereidheid</th>\n",
       "    </tr>\n",
       "  </thead>\n",
       "  <tbody>\n",
       "    <tr>\n",
       "      <th>0</th>\n",
       "      <td>Unnamed: 1</td>\n",
       "      <td>NaN</td>\n",
       "      <td>NaN</td>\n",
       "      <td>NaN</td>\n",
       "    </tr>\n",
       "    <tr>\n",
       "      <th>1</th>\n",
       "      <td>1986 april</td>\n",
       "      <td>2.0</td>\n",
       "      <td>6.0</td>\n",
       "      <td>0.0</td>\n",
       "    </tr>\n",
       "    <tr>\n",
       "      <th>2</th>\n",
       "      <td>1986 mei</td>\n",
       "      <td>8.0</td>\n",
       "      <td>17.0</td>\n",
       "      <td>1.0</td>\n",
       "    </tr>\n",
       "    <tr>\n",
       "      <th>3</th>\n",
       "      <td>1986 juni</td>\n",
       "      <td>15.0</td>\n",
       "      <td>33.0</td>\n",
       "      <td>3.0</td>\n",
       "    </tr>\n",
       "    <tr>\n",
       "      <th>4</th>\n",
       "      <td>1986 juli</td>\n",
       "      <td>20.0</td>\n",
       "      <td>45.0</td>\n",
       "      <td>4.0</td>\n",
       "    </tr>\n",
       "    <tr>\n",
       "      <th>...</th>\n",
       "      <td>...</td>\n",
       "      <td>...</td>\n",
       "      <td>...</td>\n",
       "      <td>...</td>\n",
       "    </tr>\n",
       "    <tr>\n",
       "      <th>465</th>\n",
       "      <td>2024 december</td>\n",
       "      <td>-26.0</td>\n",
       "      <td>-45.0</td>\n",
       "      <td>-13.0</td>\n",
       "    </tr>\n",
       "    <tr>\n",
       "      <th>466</th>\n",
       "      <td>2025 januari</td>\n",
       "      <td>-28.0</td>\n",
       "      <td>-50.0</td>\n",
       "      <td>-14.0</td>\n",
       "    </tr>\n",
       "    <tr>\n",
       "      <th>467</th>\n",
       "      <td>2025 februari</td>\n",
       "      <td>-32.0</td>\n",
       "      <td>-54.0</td>\n",
       "      <td>-17.0</td>\n",
       "    </tr>\n",
       "    <tr>\n",
       "      <th>468</th>\n",
       "      <td>2025 maart</td>\n",
       "      <td>-34.0</td>\n",
       "      <td>-57.0</td>\n",
       "      <td>-18.0</td>\n",
       "    </tr>\n",
       "    <tr>\n",
       "      <th>469</th>\n",
       "      <td>2025 april</td>\n",
       "      <td>-37.0</td>\n",
       "      <td>-61.0</td>\n",
       "      <td>-20.0</td>\n",
       "    </tr>\n",
       "  </tbody>\n",
       "</table>\n",
       "<p>470 rows × 4 columns</p>\n",
       "</div>"
      ],
      "text/plain": [
       "Onderwerp        Periode  Consumentenvertrouwen  Economisch klimaat  \\\n",
       "0             Unnamed: 1                    NaN                 NaN   \n",
       "1             1986 april                    2.0                 6.0   \n",
       "2               1986 mei                    8.0                17.0   \n",
       "3              1986 juni                   15.0                33.0   \n",
       "4              1986 juli                   20.0                45.0   \n",
       "..                   ...                    ...                 ...   \n",
       "465        2024 december                  -26.0               -45.0   \n",
       "466         2025 januari                  -28.0               -50.0   \n",
       "467        2025 februari                  -32.0               -54.0   \n",
       "468           2025 maart                  -34.0               -57.0   \n",
       "469           2025 april                  -37.0               -61.0   \n",
       "\n",
       "Onderwerp  Koopbereidheid  \n",
       "0                     NaN  \n",
       "1                     0.0  \n",
       "2                     1.0  \n",
       "3                     3.0  \n",
       "4                     4.0  \n",
       "..                    ...  \n",
       "465                 -13.0  \n",
       "466                 -14.0  \n",
       "467                 -17.0  \n",
       "468                 -18.0  \n",
       "469                 -20.0  \n",
       "\n",
       "[470 rows x 4 columns]"
      ]
     },
     "metadata": {},
     "output_type": "display_data"
    }
   ],
   "source": [
    "\n",
    "\n",
    "# 2. Transponeren\n",
    "df_transposed = df_raw.set_index('Onderwerp').T\n",
    "\n",
    "# 3. Index hernoemen naar 'Periode'\n",
    "df_transposed.index.name = 'Periode'\n",
    "df_transposed.reset_index(inplace=True)\n",
    "\n",
    "# 4. Displayen\n",
    "display(df_transposed)\n"
   ]
  },
  {
   "cell_type": "code",
   "execution_count": null,
   "id": "c710349e",
   "metadata": {},
   "outputs": [
    {
     "data": {
      "application/vnd.microsoft.datawrangler.viewer.v0+json": {
       "columns": [
        {
         "name": "index",
         "rawType": "int64",
         "type": "integer"
        },
        {
         "name": "Periode",
         "rawType": "object",
         "type": "string"
        },
        {
         "name": "Consumentenvertrouwen",
         "rawType": "float64",
         "type": "float"
        },
        {
         "name": "Economisch klimaat",
         "rawType": "float64",
         "type": "float"
        },
        {
         "name": "Koopbereidheid",
         "rawType": "float64",
         "type": "float"
        }
       ],
       "conversionMethod": "pd.DataFrame",
       "ref": "9ab3c3ea-dfba-42e7-9475-8735979d31b4",
       "rows": [
        [
         "349",
         "2015/04",
         "10.0",
         "30.0",
         "-4.0"
        ],
        [
         "354",
         "2015/09",
         "11.0",
         "28.0",
         "0.0"
        ],
        [
         "356",
         "2015/11",
         "14.0",
         "31.0",
         "3.0"
        ],
        [
         "357",
         "2015/12",
         "13.0",
         "27.0",
         "4.0"
        ],
        [
         "361",
         "2016/04",
         "6.0",
         "12.0",
         "1.0"
        ],
        [
         "366",
         "2016/09",
         "12.0",
         "26.0",
         "3.0"
        ],
        [
         "368",
         "2016/11",
         "20.0",
         "39.0",
         "8.0"
        ],
        [
         "369",
         "2016/12",
         "21.0",
         "39.0",
         "8.0"
        ],
        [
         "373",
         "2017/04",
         "26.0",
         "50.0",
         "10.0"
        ],
        [
         "378",
         "2017/09",
         "23.0",
         "44.0",
         "10.0"
        ],
        [
         "380",
         "2017/11",
         "22.0",
         "41.0",
         "10.0"
        ],
        [
         "381",
         "2017/12",
         "25.0",
         "45.0",
         "12.0"
        ],
        [
         "385",
         "2018/04",
         "25.0",
         "47.0",
         "11.0"
        ],
        [
         "390",
         "2018/09",
         "18.0",
         "34.0",
         "8.0"
        ],
        [
         "392",
         "2018/11",
         "13.0",
         "24.0",
         "5.0"
        ],
        [
         "393",
         "2018/12",
         "9.0",
         "17.0",
         "3.0"
        ],
        [
         "397",
         "2019/04",
         "-3.0",
         "-3.0",
         "-3.0"
        ],
        [
         "402",
         "2019/09",
         "-2.0",
         "-3.0",
         "-1.0"
        ],
        [
         "404",
         "2019/11",
         "-2.0",
         "-6.0",
         "1.0"
        ],
        [
         "405",
         "2019/12",
         "-2.0",
         "-8.0",
         "2.0"
        ],
        [
         "409",
         "2020/04",
         "-23.0",
         "-31.0",
         "-17.0"
        ],
        [
         "414",
         "2020/09",
         "-28.0",
         "-58.0",
         "-9.0"
        ],
        [
         "416",
         "2020/11",
         "-26.0",
         "-53.0",
         "-7.0"
        ],
        [
         "417",
         "2020/12",
         "-19.0",
         "-40.0",
         "-6.0"
        ],
        [
         "421",
         "2021/04",
         "-14.0",
         "-31.0",
         "-2.0"
        ],
        [
         "426",
         "2021/09",
         "-5.0",
         "-8.0",
         "-3.0"
        ],
        [
         "428",
         "2021/11",
         "-20.0",
         "-29.0",
         "-14.0"
        ],
        [
         "429",
         "2021/12",
         "-26.0",
         "-39.0",
         "-17.0"
        ],
        [
         "433",
         "2022/04",
         "-48.0",
         "-69.0",
         "-34.0"
        ],
        [
         "438",
         "2022/09",
         "-59.0",
         "-79.0",
         "-46.0"
        ],
        [
         "440",
         "2022/11",
         "-56.0",
         "-72.0",
         "-46.0"
        ],
        [
         "441",
         "2022/12",
         "-52.0",
         "-65.0",
         "-43.0"
        ],
        [
         "445",
         "2023/04",
         "-37.0",
         "-48.0",
         "-30.0"
        ],
        [
         "450",
         "2023/09",
         "-39.0",
         "-57.0",
         "-28.0"
        ],
        [
         "452",
         "2023/11",
         "-33.0",
         "-47.0",
         "-24.0"
        ],
        [
         "453",
         "2023/12",
         "-29.0",
         "-41.0",
         "-21.0"
        ],
        [
         "457",
         "2024/04",
         "-21.0",
         "-34.0",
         "-13.0"
        ],
        [
         "462",
         "2024/09",
         "-21.0",
         "-37.0",
         "-11.0"
        ],
        [
         "464",
         "2024/11",
         "-25.0",
         "-43.0",
         "-12.0"
        ],
        [
         "465",
         "2024/12",
         "-26.0",
         "-45.0",
         "-13.0"
        ],
        [
         "469",
         "2025/04",
         "-37.0",
         "-61.0",
         "-20.0"
        ]
       ],
       "shape": {
        "columns": 4,
        "rows": 41
       }
      },
      "text/html": [
       "<div>\n",
       "<style scoped>\n",
       "    .dataframe tbody tr th:only-of-type {\n",
       "        vertical-align: middle;\n",
       "    }\n",
       "\n",
       "    .dataframe tbody tr th {\n",
       "        vertical-align: top;\n",
       "    }\n",
       "\n",
       "    .dataframe thead th {\n",
       "        text-align: right;\n",
       "    }\n",
       "</style>\n",
       "<table border=\"1\" class=\"dataframe\">\n",
       "  <thead>\n",
       "    <tr style=\"text-align: right;\">\n",
       "      <th>Onderwerp</th>\n",
       "      <th>Periode</th>\n",
       "      <th>Consumentenvertrouwen</th>\n",
       "      <th>Economisch klimaat</th>\n",
       "      <th>Koopbereidheid</th>\n",
       "    </tr>\n",
       "  </thead>\n",
       "  <tbody>\n",
       "    <tr>\n",
       "      <th>349</th>\n",
       "      <td>2015/04</td>\n",
       "      <td>10.0</td>\n",
       "      <td>30.0</td>\n",
       "      <td>-4.0</td>\n",
       "    </tr>\n",
       "    <tr>\n",
       "      <th>354</th>\n",
       "      <td>2015/09</td>\n",
       "      <td>11.0</td>\n",
       "      <td>28.0</td>\n",
       "      <td>0.0</td>\n",
       "    </tr>\n",
       "    <tr>\n",
       "      <th>356</th>\n",
       "      <td>2015/11</td>\n",
       "      <td>14.0</td>\n",
       "      <td>31.0</td>\n",
       "      <td>3.0</td>\n",
       "    </tr>\n",
       "    <tr>\n",
       "      <th>357</th>\n",
       "      <td>2015/12</td>\n",
       "      <td>13.0</td>\n",
       "      <td>27.0</td>\n",
       "      <td>4.0</td>\n",
       "    </tr>\n",
       "    <tr>\n",
       "      <th>361</th>\n",
       "      <td>2016/04</td>\n",
       "      <td>6.0</td>\n",
       "      <td>12.0</td>\n",
       "      <td>1.0</td>\n",
       "    </tr>\n",
       "    <tr>\n",
       "      <th>366</th>\n",
       "      <td>2016/09</td>\n",
       "      <td>12.0</td>\n",
       "      <td>26.0</td>\n",
       "      <td>3.0</td>\n",
       "    </tr>\n",
       "    <tr>\n",
       "      <th>368</th>\n",
       "      <td>2016/11</td>\n",
       "      <td>20.0</td>\n",
       "      <td>39.0</td>\n",
       "      <td>8.0</td>\n",
       "    </tr>\n",
       "    <tr>\n",
       "      <th>369</th>\n",
       "      <td>2016/12</td>\n",
       "      <td>21.0</td>\n",
       "      <td>39.0</td>\n",
       "      <td>8.0</td>\n",
       "    </tr>\n",
       "    <tr>\n",
       "      <th>373</th>\n",
       "      <td>2017/04</td>\n",
       "      <td>26.0</td>\n",
       "      <td>50.0</td>\n",
       "      <td>10.0</td>\n",
       "    </tr>\n",
       "    <tr>\n",
       "      <th>378</th>\n",
       "      <td>2017/09</td>\n",
       "      <td>23.0</td>\n",
       "      <td>44.0</td>\n",
       "      <td>10.0</td>\n",
       "    </tr>\n",
       "    <tr>\n",
       "      <th>380</th>\n",
       "      <td>2017/11</td>\n",
       "      <td>22.0</td>\n",
       "      <td>41.0</td>\n",
       "      <td>10.0</td>\n",
       "    </tr>\n",
       "    <tr>\n",
       "      <th>381</th>\n",
       "      <td>2017/12</td>\n",
       "      <td>25.0</td>\n",
       "      <td>45.0</td>\n",
       "      <td>12.0</td>\n",
       "    </tr>\n",
       "    <tr>\n",
       "      <th>385</th>\n",
       "      <td>2018/04</td>\n",
       "      <td>25.0</td>\n",
       "      <td>47.0</td>\n",
       "      <td>11.0</td>\n",
       "    </tr>\n",
       "    <tr>\n",
       "      <th>390</th>\n",
       "      <td>2018/09</td>\n",
       "      <td>18.0</td>\n",
       "      <td>34.0</td>\n",
       "      <td>8.0</td>\n",
       "    </tr>\n",
       "    <tr>\n",
       "      <th>392</th>\n",
       "      <td>2018/11</td>\n",
       "      <td>13.0</td>\n",
       "      <td>24.0</td>\n",
       "      <td>5.0</td>\n",
       "    </tr>\n",
       "    <tr>\n",
       "      <th>393</th>\n",
       "      <td>2018/12</td>\n",
       "      <td>9.0</td>\n",
       "      <td>17.0</td>\n",
       "      <td>3.0</td>\n",
       "    </tr>\n",
       "    <tr>\n",
       "      <th>397</th>\n",
       "      <td>2019/04</td>\n",
       "      <td>-3.0</td>\n",
       "      <td>-3.0</td>\n",
       "      <td>-3.0</td>\n",
       "    </tr>\n",
       "    <tr>\n",
       "      <th>402</th>\n",
       "      <td>2019/09</td>\n",
       "      <td>-2.0</td>\n",
       "      <td>-3.0</td>\n",
       "      <td>-1.0</td>\n",
       "    </tr>\n",
       "    <tr>\n",
       "      <th>404</th>\n",
       "      <td>2019/11</td>\n",
       "      <td>-2.0</td>\n",
       "      <td>-6.0</td>\n",
       "      <td>1.0</td>\n",
       "    </tr>\n",
       "    <tr>\n",
       "      <th>405</th>\n",
       "      <td>2019/12</td>\n",
       "      <td>-2.0</td>\n",
       "      <td>-8.0</td>\n",
       "      <td>2.0</td>\n",
       "    </tr>\n",
       "    <tr>\n",
       "      <th>409</th>\n",
       "      <td>2020/04</td>\n",
       "      <td>-23.0</td>\n",
       "      <td>-31.0</td>\n",
       "      <td>-17.0</td>\n",
       "    </tr>\n",
       "    <tr>\n",
       "      <th>414</th>\n",
       "      <td>2020/09</td>\n",
       "      <td>-28.0</td>\n",
       "      <td>-58.0</td>\n",
       "      <td>-9.0</td>\n",
       "    </tr>\n",
       "    <tr>\n",
       "      <th>416</th>\n",
       "      <td>2020/11</td>\n",
       "      <td>-26.0</td>\n",
       "      <td>-53.0</td>\n",
       "      <td>-7.0</td>\n",
       "    </tr>\n",
       "    <tr>\n",
       "      <th>417</th>\n",
       "      <td>2020/12</td>\n",
       "      <td>-19.0</td>\n",
       "      <td>-40.0</td>\n",
       "      <td>-6.0</td>\n",
       "    </tr>\n",
       "    <tr>\n",
       "      <th>421</th>\n",
       "      <td>2021/04</td>\n",
       "      <td>-14.0</td>\n",
       "      <td>-31.0</td>\n",
       "      <td>-2.0</td>\n",
       "    </tr>\n",
       "    <tr>\n",
       "      <th>426</th>\n",
       "      <td>2021/09</td>\n",
       "      <td>-5.0</td>\n",
       "      <td>-8.0</td>\n",
       "      <td>-3.0</td>\n",
       "    </tr>\n",
       "    <tr>\n",
       "      <th>428</th>\n",
       "      <td>2021/11</td>\n",
       "      <td>-20.0</td>\n",
       "      <td>-29.0</td>\n",
       "      <td>-14.0</td>\n",
       "    </tr>\n",
       "    <tr>\n",
       "      <th>429</th>\n",
       "      <td>2021/12</td>\n",
       "      <td>-26.0</td>\n",
       "      <td>-39.0</td>\n",
       "      <td>-17.0</td>\n",
       "    </tr>\n",
       "    <tr>\n",
       "      <th>433</th>\n",
       "      <td>2022/04</td>\n",
       "      <td>-48.0</td>\n",
       "      <td>-69.0</td>\n",
       "      <td>-34.0</td>\n",
       "    </tr>\n",
       "    <tr>\n",
       "      <th>438</th>\n",
       "      <td>2022/09</td>\n",
       "      <td>-59.0</td>\n",
       "      <td>-79.0</td>\n",
       "      <td>-46.0</td>\n",
       "    </tr>\n",
       "    <tr>\n",
       "      <th>440</th>\n",
       "      <td>2022/11</td>\n",
       "      <td>-56.0</td>\n",
       "      <td>-72.0</td>\n",
       "      <td>-46.0</td>\n",
       "    </tr>\n",
       "    <tr>\n",
       "      <th>441</th>\n",
       "      <td>2022/12</td>\n",
       "      <td>-52.0</td>\n",
       "      <td>-65.0</td>\n",
       "      <td>-43.0</td>\n",
       "    </tr>\n",
       "    <tr>\n",
       "      <th>445</th>\n",
       "      <td>2023/04</td>\n",
       "      <td>-37.0</td>\n",
       "      <td>-48.0</td>\n",
       "      <td>-30.0</td>\n",
       "    </tr>\n",
       "    <tr>\n",
       "      <th>450</th>\n",
       "      <td>2023/09</td>\n",
       "      <td>-39.0</td>\n",
       "      <td>-57.0</td>\n",
       "      <td>-28.0</td>\n",
       "    </tr>\n",
       "    <tr>\n",
       "      <th>452</th>\n",
       "      <td>2023/11</td>\n",
       "      <td>-33.0</td>\n",
       "      <td>-47.0</td>\n",
       "      <td>-24.0</td>\n",
       "    </tr>\n",
       "    <tr>\n",
       "      <th>453</th>\n",
       "      <td>2023/12</td>\n",
       "      <td>-29.0</td>\n",
       "      <td>-41.0</td>\n",
       "      <td>-21.0</td>\n",
       "    </tr>\n",
       "    <tr>\n",
       "      <th>457</th>\n",
       "      <td>2024/04</td>\n",
       "      <td>-21.0</td>\n",
       "      <td>-34.0</td>\n",
       "      <td>-13.0</td>\n",
       "    </tr>\n",
       "    <tr>\n",
       "      <th>462</th>\n",
       "      <td>2024/09</td>\n",
       "      <td>-21.0</td>\n",
       "      <td>-37.0</td>\n",
       "      <td>-11.0</td>\n",
       "    </tr>\n",
       "    <tr>\n",
       "      <th>464</th>\n",
       "      <td>2024/11</td>\n",
       "      <td>-25.0</td>\n",
       "      <td>-43.0</td>\n",
       "      <td>-12.0</td>\n",
       "    </tr>\n",
       "    <tr>\n",
       "      <th>465</th>\n",
       "      <td>2024/12</td>\n",
       "      <td>-26.0</td>\n",
       "      <td>-45.0</td>\n",
       "      <td>-13.0</td>\n",
       "    </tr>\n",
       "    <tr>\n",
       "      <th>469</th>\n",
       "      <td>2025/04</td>\n",
       "      <td>-37.0</td>\n",
       "      <td>-61.0</td>\n",
       "      <td>-20.0</td>\n",
       "    </tr>\n",
       "  </tbody>\n",
       "</table>\n",
       "</div>"
      ],
      "text/plain": [
       "Onderwerp  Periode  Consumentenvertrouwen  Economisch klimaat  Koopbereidheid\n",
       "349        2015/04                   10.0                30.0            -4.0\n",
       "354        2015/09                   11.0                28.0             0.0\n",
       "356        2015/11                   14.0                31.0             3.0\n",
       "357        2015/12                   13.0                27.0             4.0\n",
       "361        2016/04                    6.0                12.0             1.0\n",
       "366        2016/09                   12.0                26.0             3.0\n",
       "368        2016/11                   20.0                39.0             8.0\n",
       "369        2016/12                   21.0                39.0             8.0\n",
       "373        2017/04                   26.0                50.0            10.0\n",
       "378        2017/09                   23.0                44.0            10.0\n",
       "380        2017/11                   22.0                41.0            10.0\n",
       "381        2017/12                   25.0                45.0            12.0\n",
       "385        2018/04                   25.0                47.0            11.0\n",
       "390        2018/09                   18.0                34.0             8.0\n",
       "392        2018/11                   13.0                24.0             5.0\n",
       "393        2018/12                    9.0                17.0             3.0\n",
       "397        2019/04                   -3.0                -3.0            -3.0\n",
       "402        2019/09                   -2.0                -3.0            -1.0\n",
       "404        2019/11                   -2.0                -6.0             1.0\n",
       "405        2019/12                   -2.0                -8.0             2.0\n",
       "409        2020/04                  -23.0               -31.0           -17.0\n",
       "414        2020/09                  -28.0               -58.0            -9.0\n",
       "416        2020/11                  -26.0               -53.0            -7.0\n",
       "417        2020/12                  -19.0               -40.0            -6.0\n",
       "421        2021/04                  -14.0               -31.0            -2.0\n",
       "426        2021/09                   -5.0                -8.0            -3.0\n",
       "428        2021/11                  -20.0               -29.0           -14.0\n",
       "429        2021/12                  -26.0               -39.0           -17.0\n",
       "433        2022/04                  -48.0               -69.0           -34.0\n",
       "438        2022/09                  -59.0               -79.0           -46.0\n",
       "440        2022/11                  -56.0               -72.0           -46.0\n",
       "441        2022/12                  -52.0               -65.0           -43.0\n",
       "445        2023/04                  -37.0               -48.0           -30.0\n",
       "450        2023/09                  -39.0               -57.0           -28.0\n",
       "452        2023/11                  -33.0               -47.0           -24.0\n",
       "453        2023/12                  -29.0               -41.0           -21.0\n",
       "457        2024/04                  -21.0               -34.0           -13.0\n",
       "462        2024/09                  -21.0               -37.0           -11.0\n",
       "464        2024/11                  -25.0               -43.0           -12.0\n",
       "465        2024/12                  -26.0               -45.0           -13.0\n",
       "469        2025/04                  -37.0               -61.0           -20.0"
      ]
     },
     "metadata": {},
     "output_type": "display_data"
    }
   ],
   "source": [
    "\n",
    "\n",
    "# 5. Periode omzetten naar datetime\n",
    "df_transposed['Periode'] = pd.to_datetime(df_transposed['Periode'], format='%Y %B', errors='coerce')\n",
    "\n",
    "# 6. Omzetten naar YYYY/MM string\n",
    "df_transposed['Periode'] = df_transposed['Periode'].dt.strftime('%Y/%m')\n",
    "\n",
    "# 7. Filteren op periode 2015-01 t/m 2025-04\n",
    "df_transposed = df_transposed[\n",
    "    (df_transposed['Periode'] >= '2015/01') & \n",
    "    (df_transposed['Periode'] <= '2025/04')\n",
    "]\n",
    "\n",
    "# 8. Kolommen herschikken (alleen als ze bestaan)\n",
    "kolommen = ['Periode']\n",
    "for kolom in ['Consumentenvertrouwen', 'Economisch klimaat', 'Koopbereidheid']:\n",
    "    if kolom in df_transposed.columns:\n",
    "        kolommen.append(kolom)\n",
    "\n",
    "df_transposed = df_transposed[kolommen]\n",
    "\n",
    "# 9. Resultaat bekijken\n",
    "display(df_transposed)"
   ]
  },
  {
   "cell_type": "code",
   "execution_count": 24,
   "id": "4fc9a2e1",
   "metadata": {},
   "outputs": [
    {
     "name": "stderr",
     "output_type": "stream",
     "text": [
      "C:\\Users\\dylan\\AppData\\Local\\Temp\\ipykernel_20464\\1763514700.py:20: FutureWarning: DataFrame.fillna with 'method' is deprecated and will raise in a future version. Use obj.ffill() or obj.bfill() instead.\n",
      "  df_consumentenvertrouwen_interpolatie[['Consumentenvertrouwen', 'Economisch klimaat', 'Koopbereidheid']].fillna(method='bfill')\n"
     ]
    },
    {
     "data": {
      "application/vnd.microsoft.datawrangler.viewer.v0+json": {
       "columns": [
        {
         "name": "index",
         "rawType": "int64",
         "type": "integer"
        },
        {
         "name": "Periode",
         "rawType": "object",
         "type": "string"
        },
        {
         "name": "Consumentenvertrouwen",
         "rawType": "float64",
         "type": "float"
        },
        {
         "name": "Economisch klimaat",
         "rawType": "float64",
         "type": "float"
        },
        {
         "name": "Koopbereidheid",
         "rawType": "float64",
         "type": "float"
        }
       ],
       "conversionMethod": "pd.DataFrame",
       "ref": "b0cc005d-27d1-4995-843a-7ec06ec6c57a",
       "rows": [
        [
         "0",
         "2015/01",
         "10.0",
         "30.0",
         "-4.0"
        ],
        [
         "1",
         "2015/02",
         "10.0",
         "30.0",
         "-4.0"
        ],
        [
         "2",
         "2015/03",
         "10.0",
         "30.0",
         "-4.0"
        ],
        [
         "3",
         "2015/04",
         "10.0",
         "30.0",
         "-4.0"
        ],
        [
         "4",
         "2015/05",
         "10.2",
         "29.6",
         "-3.2"
        ],
        [
         "5",
         "2015/06",
         "10.4",
         "29.2",
         "-2.4"
        ],
        [
         "6",
         "2015/07",
         "10.6",
         "28.8",
         "-1.5999999999999996"
        ],
        [
         "7",
         "2015/08",
         "10.8",
         "28.4",
         "-0.7999999999999998"
        ],
        [
         "8",
         "2015/09",
         "11.0",
         "28.0",
         "0.0"
        ],
        [
         "9",
         "2015/10",
         "12.5",
         "29.5",
         "1.5"
        ],
        [
         "10",
         "2015/11",
         "14.0",
         "31.0",
         "3.0"
        ],
        [
         "11",
         "2015/12",
         "13.0",
         "27.0",
         "4.0"
        ],
        [
         "12",
         "2016/01",
         "11.25",
         "23.25",
         "3.25"
        ],
        [
         "13",
         "2016/02",
         "9.5",
         "19.5",
         "2.5"
        ],
        [
         "14",
         "2016/03",
         "7.75",
         "15.75",
         "1.75"
        ],
        [
         "15",
         "2016/04",
         "6.0",
         "12.0",
         "1.0"
        ],
        [
         "16",
         "2016/05",
         "7.2",
         "14.8",
         "1.4"
        ],
        [
         "17",
         "2016/06",
         "8.4",
         "17.6",
         "1.8"
        ],
        [
         "18",
         "2016/07",
         "9.6",
         "20.4",
         "2.2"
        ],
        [
         "19",
         "2016/08",
         "10.8",
         "23.2",
         "2.6"
        ],
        [
         "20",
         "2016/09",
         "12.0",
         "26.0",
         "3.0"
        ],
        [
         "21",
         "2016/10",
         "16.0",
         "32.5",
         "5.5"
        ],
        [
         "22",
         "2016/11",
         "20.0",
         "39.0",
         "8.0"
        ],
        [
         "23",
         "2016/12",
         "21.0",
         "39.0",
         "8.0"
        ],
        [
         "24",
         "2017/01",
         "22.25",
         "41.75",
         "8.5"
        ],
        [
         "25",
         "2017/02",
         "23.5",
         "44.5",
         "9.0"
        ],
        [
         "26",
         "2017/03",
         "24.75",
         "47.25",
         "9.5"
        ],
        [
         "27",
         "2017/04",
         "26.0",
         "50.0",
         "10.0"
        ],
        [
         "28",
         "2017/05",
         "25.4",
         "48.8",
         "10.0"
        ],
        [
         "29",
         "2017/06",
         "24.8",
         "47.6",
         "10.0"
        ],
        [
         "30",
         "2017/07",
         "24.2",
         "46.4",
         "10.0"
        ],
        [
         "31",
         "2017/08",
         "23.6",
         "45.2",
         "10.0"
        ],
        [
         "32",
         "2017/09",
         "23.0",
         "44.0",
         "10.0"
        ],
        [
         "33",
         "2017/10",
         "22.5",
         "42.5",
         "10.0"
        ],
        [
         "34",
         "2017/11",
         "22.0",
         "41.0",
         "10.0"
        ],
        [
         "35",
         "2017/12",
         "25.0",
         "45.0",
         "12.0"
        ],
        [
         "36",
         "2018/01",
         "25.0",
         "45.5",
         "11.75"
        ],
        [
         "37",
         "2018/02",
         "25.0",
         "46.0",
         "11.5"
        ],
        [
         "38",
         "2018/03",
         "25.0",
         "46.5",
         "11.25"
        ],
        [
         "39",
         "2018/04",
         "25.0",
         "47.0",
         "11.0"
        ],
        [
         "40",
         "2018/05",
         "23.6",
         "44.4",
         "10.4"
        ],
        [
         "41",
         "2018/06",
         "22.2",
         "41.8",
         "9.8"
        ],
        [
         "42",
         "2018/07",
         "20.8",
         "39.2",
         "9.2"
        ],
        [
         "43",
         "2018/08",
         "19.4",
         "36.6",
         "8.6"
        ],
        [
         "44",
         "2018/09",
         "18.0",
         "34.0",
         "8.0"
        ],
        [
         "45",
         "2018/10",
         "15.5",
         "29.0",
         "6.5"
        ],
        [
         "46",
         "2018/11",
         "13.0",
         "24.0",
         "5.0"
        ],
        [
         "47",
         "2018/12",
         "9.0",
         "17.0",
         "3.0"
        ],
        [
         "48",
         "2019/01",
         "6.0",
         "12.0",
         "1.5"
        ],
        [
         "49",
         "2019/02",
         "3.0",
         "7.0",
         "0.0"
        ]
       ],
       "shape": {
        "columns": 4,
        "rows": 124
       }
      },
      "text/html": [
       "<div>\n",
       "<style scoped>\n",
       "    .dataframe tbody tr th:only-of-type {\n",
       "        vertical-align: middle;\n",
       "    }\n",
       "\n",
       "    .dataframe tbody tr th {\n",
       "        vertical-align: top;\n",
       "    }\n",
       "\n",
       "    .dataframe thead th {\n",
       "        text-align: right;\n",
       "    }\n",
       "</style>\n",
       "<table border=\"1\" class=\"dataframe\">\n",
       "  <thead>\n",
       "    <tr style=\"text-align: right;\">\n",
       "      <th></th>\n",
       "      <th>Periode</th>\n",
       "      <th>Consumentenvertrouwen</th>\n",
       "      <th>Economisch klimaat</th>\n",
       "      <th>Koopbereidheid</th>\n",
       "    </tr>\n",
       "  </thead>\n",
       "  <tbody>\n",
       "    <tr>\n",
       "      <th>0</th>\n",
       "      <td>2015/01</td>\n",
       "      <td>10.00</td>\n",
       "      <td>30.0</td>\n",
       "      <td>-4.00</td>\n",
       "    </tr>\n",
       "    <tr>\n",
       "      <th>1</th>\n",
       "      <td>2015/02</td>\n",
       "      <td>10.00</td>\n",
       "      <td>30.0</td>\n",
       "      <td>-4.00</td>\n",
       "    </tr>\n",
       "    <tr>\n",
       "      <th>2</th>\n",
       "      <td>2015/03</td>\n",
       "      <td>10.00</td>\n",
       "      <td>30.0</td>\n",
       "      <td>-4.00</td>\n",
       "    </tr>\n",
       "    <tr>\n",
       "      <th>3</th>\n",
       "      <td>2015/04</td>\n",
       "      <td>10.00</td>\n",
       "      <td>30.0</td>\n",
       "      <td>-4.00</td>\n",
       "    </tr>\n",
       "    <tr>\n",
       "      <th>4</th>\n",
       "      <td>2015/05</td>\n",
       "      <td>10.20</td>\n",
       "      <td>29.6</td>\n",
       "      <td>-3.20</td>\n",
       "    </tr>\n",
       "    <tr>\n",
       "      <th>...</th>\n",
       "      <td>...</td>\n",
       "      <td>...</td>\n",
       "      <td>...</td>\n",
       "      <td>...</td>\n",
       "    </tr>\n",
       "    <tr>\n",
       "      <th>119</th>\n",
       "      <td>2024/12</td>\n",
       "      <td>-26.00</td>\n",
       "      <td>-45.0</td>\n",
       "      <td>-13.00</td>\n",
       "    </tr>\n",
       "    <tr>\n",
       "      <th>120</th>\n",
       "      <td>2025/01</td>\n",
       "      <td>-28.75</td>\n",
       "      <td>-49.0</td>\n",
       "      <td>-14.75</td>\n",
       "    </tr>\n",
       "    <tr>\n",
       "      <th>121</th>\n",
       "      <td>2025/02</td>\n",
       "      <td>-31.50</td>\n",
       "      <td>-53.0</td>\n",
       "      <td>-16.50</td>\n",
       "    </tr>\n",
       "    <tr>\n",
       "      <th>122</th>\n",
       "      <td>2025/03</td>\n",
       "      <td>-34.25</td>\n",
       "      <td>-57.0</td>\n",
       "      <td>-18.25</td>\n",
       "    </tr>\n",
       "    <tr>\n",
       "      <th>123</th>\n",
       "      <td>2025/04</td>\n",
       "      <td>-37.00</td>\n",
       "      <td>-61.0</td>\n",
       "      <td>-20.00</td>\n",
       "    </tr>\n",
       "  </tbody>\n",
       "</table>\n",
       "<p>124 rows × 4 columns</p>\n",
       "</div>"
      ],
      "text/plain": [
       "     Periode  Consumentenvertrouwen  Economisch klimaat  Koopbereidheid\n",
       "0    2015/01                  10.00                30.0           -4.00\n",
       "1    2015/02                  10.00                30.0           -4.00\n",
       "2    2015/03                  10.00                30.0           -4.00\n",
       "3    2015/04                  10.00                30.0           -4.00\n",
       "4    2015/05                  10.20                29.6           -3.20\n",
       "..       ...                    ...                 ...             ...\n",
       "119  2024/12                 -26.00               -45.0          -13.00\n",
       "120  2025/01                 -28.75               -49.0          -14.75\n",
       "121  2025/02                 -31.50               -53.0          -16.50\n",
       "122  2025/03                 -34.25               -57.0          -18.25\n",
       "123  2025/04                 -37.00               -61.0          -20.00\n",
       "\n",
       "[124 rows x 4 columns]"
      ]
     },
     "metadata": {},
     "output_type": "display_data"
    }
   ],
   "source": [
    "# ---- Optie 2: Interpolatie toevoegen ----\n",
    "\n",
    "# Genereer volledige maandlijst\n",
    "maanden_volledig = pd.date_range(start='2015-01-01', end='2025-04-01', freq='MS').strftime('%Y/%m')\n",
    "df_maanden = pd.DataFrame({'Periode': maanden_volledig})\n",
    "\n",
    "# Merge volledige maanden met de transposed data\n",
    "df_consumentenvertrouwen_interpolatie = df_maanden.merge(df_transposed, on='Periode', how='left')\n",
    "\n",
    "# Interpoleren (lineair) op de relevante kolommen\n",
    "df_consumentenvertrouwen_interpolatie[['Consumentenvertrouwen', 'Economisch klimaat', 'Koopbereidheid']] = \\\n",
    "    df_consumentenvertrouwen_interpolatie[['Consumentenvertrouwen', 'Economisch klimaat', 'Koopbereidheid']].interpolate(method='linear')\n",
    "\n",
    "# 1. Eerst interpoleren\n",
    "df_consumentenvertrouwen_interpolatie[['Consumentenvertrouwen', 'Economisch klimaat', 'Koopbereidheid']] = \\\n",
    "    df_consumentenvertrouwen_interpolatie[['Consumentenvertrouwen', 'Economisch klimaat', 'Koopbereidheid']].interpolate(method='linear')\n",
    "\n",
    "# 2. Daarna backward fill voor beginwaarden\n",
    "df_consumentenvertrouwen_interpolatie[['Consumentenvertrouwen', 'Economisch klimaat', 'Koopbereidheid']] = \\\n",
    "    df_consumentenvertrouwen_interpolatie[['Consumentenvertrouwen', 'Economisch klimaat', 'Koopbereidheid']].fillna(method='bfill')\n",
    "\n",
    "# Resultaat bekijken\n",
    "display(df_consumentenvertrouwen_interpolatie)"
   ]
  },
  {
   "cell_type": "markdown",
   "id": "c404f80b",
   "metadata": {},
   "source": [
    "1.2 Data opschonen \n",
    "-  perioden wijzigen naar yy/mm \n",
    "- \n",
    "- datum selecteren 2015-1 t/m 2025-01"
   ]
  },
  {
   "cell_type": "markdown",
   "id": "e258c79c",
   "metadata": {},
   "source": [
    "# 2. Pompprijzen motorbrandstoffen"
   ]
  },
  {
   "cell_type": "markdown",
   "id": "953941cf",
   "metadata": {},
   "source": [
    "https://opendata.cbs.nl/#/CBS/nl/dataset/80416ned/table?ts=1745763454832 "
   ]
  },
  {
   "cell_type": "markdown",
   "id": "eddcc4f7",
   "metadata": {},
   "source": [
    "2.1 Data inladen/inzien"
   ]
  },
  {
   "cell_type": "markdown",
   "id": "a421906b",
   "metadata": {},
   "source": [
    "2.2 Data opschonen \n",
    "- Perioden omzetten naar per maand (first, last, min, mean, avg voor benzine en diesel)\n",
    "-  perioden wijzigen naar yy/mm \n",
    "- datum selecteren 2015-1 t/m 2025-01"
   ]
  },
  {
   "cell_type": "markdown",
   "id": "8c5eca5c",
   "metadata": {},
   "source": [
    "2.3 CSV exporteren"
   ]
  },
  {
   "cell_type": "markdown",
   "id": "edf07492",
   "metadata": {},
   "source": [
    "# 3. Verkochte wegvoertuigen"
   ]
  },
  {
   "cell_type": "markdown",
   "id": "510cf475",
   "metadata": {},
   "source": [
    "https://opendata.cbs.nl/#/CBS/nl/dataset/85898NED/table?ts=1745764299955"
   ]
  },
  {
   "cell_type": "markdown",
   "id": "6e6004af",
   "metadata": {},
   "source": [
    "3.1 Data inladen/inzien"
   ]
  },
  {
   "cell_type": "markdown",
   "id": "95540bf2",
   "metadata": {},
   "source": [
    "3.2 Data opschonen \n",
    "- Perioden omzetten naar per maand (first, last, min, mean, avg voor benzine en diesel)\n",
    "-  perioden wijzigen naar yy/mm \n",
    "- datum selecteren 2015-1 t/m 2025-01"
   ]
  },
  {
   "cell_type": "markdown",
   "id": "011bad35",
   "metadata": {},
   "source": [
    "3.3 CSV exporteren"
   ]
  }
 ],
 "metadata": {
  "kernelspec": {
   "display_name": "base",
   "language": "python",
   "name": "python3"
  },
  "language_info": {
   "codemirror_mode": {
    "name": "ipython",
    "version": 3
   },
   "file_extension": ".py",
   "mimetype": "text/x-python",
   "name": "python",
   "nbconvert_exporter": "python",
   "pygments_lexer": "ipython3",
   "version": "3.12.4"
  }
 },
 "nbformat": 4,
 "nbformat_minor": 5
}
