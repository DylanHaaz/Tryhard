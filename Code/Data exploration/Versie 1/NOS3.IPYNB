{
 "cells": [
  {
   "cell_type": "markdown",
   "id": "33230ba7",
   "metadata": {},
   "source": [
    "# Jina Embeddings v3"
   ]
  },
  {
   "cell_type": "markdown",
   "id": "dc60aa24",
   "metadata": {},
   "source": [
    "### Imports"
   ]
  },
  {
   "cell_type": "code",
   "execution_count": 1,
   "id": "c6c852e9",
   "metadata": {},
   "outputs": [],
   "source": [
    "# # Install necessary libraries if not already installed\n",
    "# !pip install --upgrade torch torchvision\n",
    "# !pip install flash-attn --no-build-isolation"
   ]
  },
  {
   "cell_type": "code",
   "execution_count": 1,
   "id": "0c516332",
   "metadata": {},
   "outputs": [
    {
     "name": "stdout",
     "output_type": "stream",
     "text": [
      "WARNING:tensorflow:From c:\\Users\\dylan\\anaconda3\\Lib\\site-packages\\tf_keras\\src\\losses.py:2976: The name tf.losses.sparse_softmax_cross_entropy is deprecated. Please use tf.compat.v1.losses.sparse_softmax_cross_entropy instead.\n",
      "\n"
     ]
    }
   ],
   "source": [
    "import matplotlib.pyplot as plt\n",
    "import numpy as np\n",
    "import pandas as pd\n",
    "import plotly.graph_objects as go\n",
    "from pathlib import Path\n",
    "from sentence_transformers import SentenceTransformer\n",
    "from sklearn.cluster import KMeans\n",
    "from sklearn.metrics.pairwise import cosine_similarity\n",
    "from bs4 import BeautifulSoup\n",
    "import random\n",
    "import umap\n"
   ]
  },
  {
   "cell_type": "markdown",
   "id": "c8d495f4",
   "metadata": {},
   "source": [
    "## Stap 1: Data inladen en previewen"
   ]
  },
  {
   "cell_type": "code",
   "execution_count": 3,
   "id": "31356815",
   "metadata": {},
   "outputs": [
    {
     "name": "stdout",
     "output_type": "stream",
     "text": [
      "Index(['channel', 'url', 'type', 'title', 'keywords', 'section', 'description',\n",
      "       'published_time', 'modified_time', 'image', 'content'],\n",
      "      dtype='object')\n"
     ]
    },
    {
     "data": {
      "application/vnd.microsoft.datawrangler.viewer.v0+json": {
       "columns": [
        {
         "name": "index",
         "rawType": "int64",
         "type": "integer"
        },
        {
         "name": "channel",
         "rawType": "object",
         "type": "string"
        },
        {
         "name": "url",
         "rawType": "object",
         "type": "string"
        },
        {
         "name": "type",
         "rawType": "object",
         "type": "string"
        },
        {
         "name": "title",
         "rawType": "object",
         "type": "string"
        },
        {
         "name": "keywords",
         "rawType": "object",
         "type": "unknown"
        },
        {
         "name": "section",
         "rawType": "object",
         "type": "unknown"
        },
        {
         "name": "description",
         "rawType": "object",
         "type": "string"
        },
        {
         "name": "published_time",
         "rawType": "datetime64[ns]",
         "type": "datetime"
        },
        {
         "name": "modified_time",
         "rawType": "object",
         "type": "string"
        },
        {
         "name": "image",
         "rawType": "object",
         "type": "unknown"
        },
        {
         "name": "content",
         "rawType": "object",
         "type": "string"
        }
       ],
       "conversionMethod": "pd.DataFrame",
       "ref": "7134cba0-42a6-441c-a646-2c4548efcd23",
       "rows": [
        [
         "1948",
         "nos",
         "https://nos.nl/artikel/2011341-euro-nu-ook-in-litouwen",
         "article",
         "Euro nu ook in Litouwen",
         "eurozone",
         "Economie",
         "Vanaf vandaag betalen ze in Litouwen met de euro. Alle Baltische landen hebben nu de Europese munt.",
         "2015-01-01 00:32:52",
         "2015-01-01 00:32:52",
         "https://cdn.nos.nl/image/2015/01/01/48809/1200x675.jpg",
         "<h1>Euro nu ook in Litouwen</h1><p>In Litouwen wordt vanaf vandaag betaald met de euro in plaats van met de litas. Hiermee is Litouwen het 19e land dat toetreedt tot de eurozone en de laatste Baltische staat die zich bij de munteenheid voegt. Estland en Letland traden al eerder toe, in 2011 en 2014.</p><p>President Dalia Grybauskaite zei gisteren: \"We zijn trots dat we aan alle voorwaarden van het Verdrag van Maastricht voldoen; dat onze economie sterk genoeg is.\" Het land, dat zich de laatste jaren economisch sterk ontwikkelde, heeft geleden onder de krimp van de Russische economie. De hoop is dat de toetreding tot de euro de handel goed zal doen.</p><h2>Politiek gevoelig</h2><p>Daarnaast refereerde de president aan de politieke betekenis van de stap: \"Behalve financiële zekerheid biedt de toetreding ook politieke zekerheid. Met de euro kunnen we populisme vermijden. Het is het sluitstuk van de terugkeer naar onze Europese familie.\" </p><p>De Baltische staten liggen in een politiek gevoelige regio, grenzend aan Polen en Wit-Rusland. Ze zijn daarmee volop betrokken bij de spanningen rond Oekraïne.</p><h2>Onrust</h2><p>Maar in Litouwen heerst ook onrust over de toetreding. Veel mensen zijn bang dat de euro tot hogere prijzen zal leiden.</p><p>Litouwen is het grootste land van de drie Baltische staten, met een bevolking van 3,5 miljoen mensen. Sinds 2004 is het lid van de Europese Unie.</p><aside><h3>Eurozonelanden(per toetredingsjaar)</h3><h3>2002</h3><p>België Duitsland Frankrijk Finland Griekenland Ierland Italië Luxemburg Nederland Oostenrijk Portugal  Spanje</p><h3>2007</h3><p>Slovenië</p><h3>2008</h3><p>Cyprus Malta</p><h3>2009</h3><p>Slowakije</p><h3>2011</h3><p>Estland</p><h3>2014</h3><p>Letland</p><h3>2015</h3></aside>"
        ],
        [
         "1949",
         "nos",
         "https://nos.nl/artikel/2011343-start-2015-vol-vreugde-maar-ook-met-gewonden-en-inzet-me",
         "article",
         "Start 2015 vol vreugde maar ook met gewonden en inzet ME",
         "oud en nieuw",
         "Binnenland",
         "Nederland is met oliebollen en vuurwerk het nieuwe jaar ingegaan, maar niet overal was de jaarwisseling een feest.",
         "2015-01-01 01:05:57",
         "2015-01-01 07:18:23",
         "https://cdn.nos.nl/image/2015/01/01/48853/1200x675.jpg",
         "<h1>Start 2015 vol vreugde maar ook met gewonden en inzet ME</h1><p>Nederland is met vuurwerk en oliebollen het nieuwe jaar ingegaan. Bij het Nationale Aftelmoment bij het Scheepvaartmuseum in Amsterdam waren tienduizenden mensen aanwezig. In Rotterdam keken 40.000 mensen naar het vuurwerk dat bij de Erasmusbrug werd afgestoken.</p><p>De ME is in Nijmegen twee keer in actie gekomen omdat omstanders bij vreugdevuren de brandweer bekogelden. In Utrecht trad de ME op tegen jongeren die agenten bekogelden in de wijk Hoograven.</p><p>De ME trad ook op in Culemborg, waar iemand is aangehouden. Ook daar werden de hulpdiensten gehinderd bij het blussen van een brand.</p><h2>Baby uit brandend huis </h2><p>In Tilburg hebben buurtbewoners een baby en twee volwassenen uit een brandend huis gehaald. De brand was ontstaan in de meterkast. De baby en vier andere mensen zijn voor controle naar het ziekenhuis gebracht.</p><p>In Veen is de jaarwisseling relatief rustig verlopen. Vorig jaar werden er 100 jongeren opgepakt, omdat er auto's in brand werden gestoken. Er was wederom veel politie op de been. Die kon niet voorkomen dat er weer een auto in lichterlaaie werd gezet.</p><p>In Enschede is een man neergestoken, waarschijnlijk door een buurman. De twee zouden ruzie hebben gekregen.</p><p>In Zutphen reed iemand in op brandweermensen. De automobilist zou het er niet mee eens zijn geweest dat een straat was afgesloten. Niemand raakte gewond.</p><h2>Gasbrand Sint-Oedenrode</h2><p>Een gasbrand in Sint-Oedenrode bezorgt de brandweer veel werk. De hoofdkraan wordt dichtgedraaid en dat betekent dat ongeveer 350 huishoudens zeker een deel van de ochtend zonder gas komen te zitten. De politie sluit niet uit dat er al sprake was van een gaslek en dat er door vuurwerk brand is ontstaan.</p><p>In Rotterdam en omgeving zijn tijdens de jaarwisseling verschillende gewonden gevallen bij het afsteken van vuurwerk. Zo raakte een jongen van dertien ernstig gewond aan zijn hand toen vuurwerk ontplofte dat hij net had opgeraapt.</p><p>In Nieuwkoop (Zuid-Holland) raakte een meisje van 4 gewond toen vuurwerk werd afgestoken. Ze is naar het ziekenhuis gebracht.</p><p>In Dirksland woedt brand in een loods van 1000 vierkante meter groot. Acht woningen werden ontruimd; de bewoners zijn opgevangen in een nabijgelegen café.</p>"
        ],
        [
         "1950",
         "nos",
         "https://nos.nl/artikel/2011346-letland-nieuwe-voorzitter-van-de-europese-unie",
         "article",
         "Letland nieuwe voorzitter van de Europese Unie",
         "EU-voorzitter, Italië, EU, Letland",
         "Buitenland",
         "Vanaf vandaag neemt Letland het stokje over van Italië.",
         "2015-01-01 02:32:34",
         "2015-01-01 02:32:34",
         "https://cdn.nos.nl/image/2015/01/01/48818/1200x675.jpg",
         "<h1>Letland nieuwe voorzitter van de Europese Unie</h1><p>Letland is vanaf vandaag voorzitter van de Europese Unie. Tot 1 juli zal het land de vergaderingen van de Raad van de Europese Unie leiden.</p><p>Het afgelopen half jaar was Italië voorzitter. Vanaf 1 juli 2015 neemt Luxemburg het stokje over. Daarna, vanaf 1 januari 2016, is Nederland aan de beurt.</p><h2>\"Concurrerend Europa\"</h2><p>De voorzitter van de EU heeft een sturende rol bij het maken van wetten en politiek beleid. Riga moet zich vooral gaan ontfermen over het groeiplan van de voorzitter van de Europese Commissie, Jean-Claude Juncker. Letland zegt zich te willen inzetten voor een \"concurrerend, digitaal en toegewijd Europa\".</p><p>Letland trad op 1 januari 2014 toe tot de eurozone.</p>"
        ],
        [
         "1951",
         "nos",
         "https://nos.nl/artikel/2011348-noord-korea-wil-praten-met-zuid-korea",
         "article",
         "Noord-Korea wil praten met Zuid-Korea",
         "kim jong un, Noord-Korea, Zuid-Korea",
         "Buitenland",
         "De Noord-Koreaanse leider Kim Jong-un zei in zijn nieuwjaarsboodschap dat hij geen reden ziet niet te praten met het buurland.",
         "2015-01-01 03:34:25",
         "2015-01-01 03:34:25",
         "https://cdn.nos.nl/image/2014/12/24/42888/1200x675.jpg",
         "<h1>Noord-Korea wil praten met Zuid-Korea</h1><p>De Noord-Koreaanse leider Kim Jong-un wil ingaan op de uitnodiging van buurland Zuid-Korea om om de tafel te gaan zitten. In zijn nieuwjaarstoespraak zei hij dat hij geen reden ziet om geen ontmoeting te houden.</p><p>\"Als de Zuid-Koreaanse autoriteiten oprecht de relatie tussen onze landen willen verbeteren door te gaan praten, dan kunnen we de vastgelopen gesprekken hervatten\", zei hij.</p><p>Zuid-Korea zei maandag dat het met Noord-Korea wil praten, bijvoorbeeld over de hereniging van families. Bij de scheiding van Noord- en Zuid-Korea zijn veel families elkaar kwijtgeraakt.</p>"
        ],
        [
         "1952",
         "nos",
         "https://nos.nl/artikel/2011351-feest-in-londen-parijs-en-berlijn",
         "article",
         "Feest in Londen, Parijs en Berlijn",
         "jaarwisseling",
         "Buitenland",
         "In Londen en Berlijn waren muziekfestivals. Parijs vierde de jaarwisseling voor het eerst zonder vuurwerkshow.",
         "2015-01-01 04:34:20",
         "2015-01-01 04:34:20",
         "https://cdn.nos.nl/image/2015/01/01/48846/1200x675.jpg",
         "<h1>Feest in Londen, Parijs en Berlijn</h1><p>In Europa is de jaarwisseling uitbundig gevierd.</p><p>In Berlijn was traditiegetrouw een van de grootste openluchtfeesten ter wereld, met veel artiesten uit binnen- en buitenland. David Hasselhoff zong er, gekleed in een zwart jack en een t-shirt met een beeltenis van zichzelf, het nummer I've been looking for Freedom. Hij verwees daarmee naar het jubileum van de val van de Muur.</p><p>Parijs luidde het jaar in met een grote licht- en videoshow bij de Arc de Triomphe. Voor het eerst werd er geen vuurwerk afgestoken. Bij de Champs-Élysées proostten duizenden mensen op het nieuwe jaar. De boulevard was speciaal autovrij gemaakt.</p><p>In de binnenstad van Londen telden zo'n half miljoen mensen af met de Big Ben. Aan de oever van de Theems was een groot openluchtconcert met een vuurwerkshow. Voor de show moest een toegangskaart worden gekocht, om te voorkomen dat het te druk zou worden. Er kwamen ruim 100.000 mensen op af.</p><p>Tara MacGowran:</p><blockquote id=\"tweet\"><p>@TaraMacG</p><p>Great fireworks London. Nice work! #littletownthatcould #2015 #LondonNYE http://t.co/hdCSFKsPOK</p><p>1:32</p><p>1 januari 2015</p></blockquote>"
        ],
        [
         "1953",
         "nos",
         "https://nos.nl/artikel/2011353-ook-new-york-luidt-2015-in",
         "article",
         "Ook New York luidt 2015 in",
         "oud en nieuw, politiegeweld, VS, New York",
         "Buitenland",
         "Op Times Square waren een miljoen mensen aanwezig om de bal te zien zakken op het dak van Times Square One.",
         "2015-01-01 06:24:00",
         "2015-01-01 06:24:00",
         "https://cdn.nos.nl/image/2015/01/01/48825/1200x675.jpg",
         "<h1>Ook New York luidt 2015 in</h1><p>Ook de Amerikaanse oostkust heeft nu 2015 ingeluid. Op Times Square waren honderdduizenden mensen aanwezig om de bal te zien zakken op het dak van Times Square One, een traditie die meer dan 100 jaar oud is.</p><p>President Obama publiceerde op Twitter een foto waarop hij zijn vrouw gelukkig nieuwjaar wenst.</p><p>White House Archived:</p><blockquote id=\"tweet\"><p>@ObamaWhiteHouse</p><p>Happy New Year! http://t.co/KXDfhDoxBB</p><p>6:01</p><p>1 januari 2015</p></blockquote><p>Ondanks de vrieskou hadden mensen er in New York uren wachten voor over om een goed plekje te bemachtigen. In totaal werd ongeveer een miljoen mensen verwacht.</p><p>In de marge van de festiviteiten nam een honderdtal mensen de kans om te protesteren onder het motto 'Begin het nieuwe jaar met verzet tegen politiegeweld'. Na de dood van twee zwarte arrestanten werd er de afgelopen weken geregeld geprotesteerd tegen racistische agenten.</p><h2>Flashmob</h2><p>De betogers wilden een flashmob houden tijdens de nieuwjaarsviering op Times Square en deelden plakkaten uit die bezoekers om middernacht omhoog moesten houden. \"Iedereen kijkt vandaag naar Times Square, dus daar moeten we zijn\", legde een van de betogers uit.</p><p>Het gros van de aanwezigen, onder wie veel toeristen, wilde echter niet protesteren. \"Dit is geen tijd voor protest, het is tijd voor een viering\", zei een student uit Philadelphia. \"Ze wilden dat we gingen protesteren, maar ik geef er niet om. We willen lol\", vulde een toerist uit Australië aan.</p><p>Vanwege de grimmige sfeer bij protesten de afgelopen tijd en de moord op twee agenten is het evenement op Times Square nog beter beveiligd dan anders. Het gebied is onderzocht met bomhonden en agenten houden vanaf daken een oogje in het zeil.</p>"
        ],
        [
         "1954",
         "nos",
         "https://nos.nl/artikel/2011355-doden-in-duitse-nieuwjaarsnacht",
         "article",
         "Doden in Duitse Nieuwjaarsnacht",
         "jaarwisselingen, oud en nieuw, Duitsland, Denemarken",
         "Buitenland",
         "Twee mensen kwamen om bij een woningbrand, een derde overleed na een vuurwerkontploffing.",
         "2015-01-01 07:40:46",
         "2015-01-01 07:40:46",
         "https://cdn.nos.nl/image/2015/01/01/48848/1200x675.jpg",
         "<h1>Doden in Duitse Nieuwjaarsnacht</h1><p>In Duitsland zijn in de Nieuwjaarsnacht vier doden gevallen. Bij een woningbrand in de deelstaat Noordrijn-Westfalen kwamen een meisje van 16 en haar opa van 79 om. Een vriendin van 17 raakte zwaargewond.</p><p>De meisjes hadden nog zelf de brandweer kunnen bellen. Doordat het vuur snel om zich heen greep, konden ze echter niet meer uit het huis komen. Tegen de tijd dat de brandweer arriveerde sloegen de vlammen al uit het dak.</p><p>Het huis is volledig uitgebrand en staat op instorten. De oorzaak van de brand is nog niet bekend.</p><h2>Vuurwerk</h2><p>In de deelstaat Sleeswijk-Holstein kwam een 18-jarige man om het leven door een ontploffing. Hij liep een zware hoofdwond op door vuurwerk.</p><p>In Saksen kwam een 19-jarige man om het leven door illegaal vuurwerk. Een 18-jarige raakte gewond bij het incident.</p><p>Bij een brand in een ondergrondse parkeergarage in Stuttgart raakten zeker achttien mensen gewond. De mensen ademden rook in. Er wordt onderzocht of vuurwerk de oorzaak was van de brand.</p><h2>Denemarken</h2><p>In de Deense regio Noord-Jutland zijn drie mensen om het leven gekomen door vuurwerk. De mannen hadden met illegaal vuurwerk een bom gemaakt. De explosie daarvan was zo hevig dat zij overleden.</p><p>Twee andere mannen raakten zwaargewond. Zij liggen in kritieke toestand in het ziekenhuis.</p>"
        ],
        [
         "1955",
         "nos",
         "https://nos.nl/artikel/2011357-verkoop-nieuwe-auto-s-stevent-af-op-laagterecord",
         "article",
         "Verkoop nieuwe auto's stevent af op laagterecord",
         "autobranche, dealers, aumacon",
         "Economie",
         "Nederlanders kochten in 2014 opnieuw minder auto's. En die trend zet door, is een van de thema's in de economieserie Ganzenbord.",
         "2015-01-01 07:41:58",
         "2015-01-01 07:41:58",
         "https://cdn.nos.nl/image/2015/01/01/48850/1200x675.jpg",
         "<h1>Verkoop nieuwe auto's stevent af op laagterecord</h1><p>'Ganzenbord' op NPO Radio 1 is een serie van de NOS. Aan de hand van het ouderwetse Ganzenbordspel blikt de economieredactie terug op de economische hoogte- en dieptepunten van het afgelopen jaar. Vandaag deel 4: de autobranche.</p><p>De autobranche is de crisis nog niet te boven. De elektrische auto en de plug-in hybrides, zoals de Volvo V60, de Mitsubishi Outlander en de Toyota Prius, rukten in 2014 op, maar in totaal werden weer minder auto's verkocht.</p><p>Bovendien werden auto's een stuk duurder. Vooral kleine modellen, zoals de Fiat Panda, de Volkswagen Up! en de Aygo van Toyota kosten vanaf vandaag zo'n 1000 euro meer.</p><p>\"Heel lang waren auto's in de laagste zuinigheidscategorieën vrijgesteld van aanschafbelasting maar die moeten nu ook betalen en dat heeft vooral voor de kleine zuinige autootjes gevolgen\", zegt Tom Huyskens van de BOVAG. \"Sommige modellen worden 8 tot 11 procent duurder.\"</p><p>Voor de elektrische en hybride auto's verandert er niets. Alleen moet voor de volledige elektrische auto straks wel BPM (aanschafbelasting) betaald worden. \"Dat is maar 175 euro, peanuts op het grote aanschafbedrag\", aldus Huyskens.</p><h2>Uit de toon</h2><p>De verkoop van nieuwe auto's stevent af op het laagste aantal in 45 jaar. \"Ik denk niet dat we boven de 380.000 auto's uitkomen\", zegt Clem Dickmann, directeur van kennisbureau Aumacon. Nederland valt daarmee uit de toon in Europa. In de meeste landen trekken de autoverkopen juist weer aan.</p><p>Zo was er de afgelopen maanden een opleving bij lease-auto's omdat per 1 januari 2015 de bijtelling voor lease-auto's weer wordt aangepast. In de maanden daarna moeten de dealers het bezuren omdat de autoverkoop dan helemaal inzakt.</p><p>De verwachting is dan ook dat dit jaar de autoverkopen moeizaam op gang zullen komen. De problemen voor de autobranche houden dus voorlopig aan.</p><h2>Garages</h2><p>Auto's behoeven minder onderhoud en mensen bezuinigen op onderhoud. In de harde slag om de klant concurreren garages op prijs en dat gaat ten koste van de verdiensten. Volgens het CBS zijn het zware tijden voor garages. In het derde kwartaal leverden garagebedrijven bijna 3 procent omzet in.</p><p>In vergelijking met het topjaar 2008 is de omzet met 15 procent gedaald. Ondanks die omzetdaling kwamen er in diezelfde periode bijna duizend garagebedrijven bij, vaak eenmanszaken, waardoor de concurrentie groot is en de spoeling dun.</p><p>Volgens Dickmann is het consumentenvertrouwen laag en wordt spaargeld eerder gebruikt om het inkomen aan te vullen en schulden af te lossen. Ook kiezen steeds meer Nederlanders voor een jonge tweedehands auto.</p><h2>Fiscus</h2><p>De autoverkopen golven bovendien mee met fiscale maatregelen. Aankondigingen dat regels versoberen en autorijden duurder wordt, zorgen voor pieken in de verkoop in de maanden voor invoering.</p><p>Wilt u meespelen en uw kennis testen? Speel het Ganzenbordspel dan online.</p>"
        ],
        [
         "1956",
         "nos",
         "https://nos.nl/artikel/2011359-slecht-weer-hindert-zoektocht-airasia",
         "article",
         "Slecht weer hindert zoektocht AirAsia",
         "vliegtuigongevallen, Indonesië",
         "Buitenland",
         "Duikers staan klaar om een groot object op de zeebodem te onderzoeken, maar de zee is te onstuimig.",
         "2015-01-01 08:18:38",
         "2015-01-01 08:18:38",
         "https://cdn.nos.nl/image/2015/01/01/48855/1200x675.jpg",
         "<h1>Slecht weer hindert zoektocht AirAsia</h1><p>Indonesische duikers hebben nog geen onderzoek kunnen doen op de plek waar mogelijk het wrak van AirAsia vlucht 8501 ligt. Door het slechte weer is duiken onmogelijk.</p><p>Voor de kust van Borneo is op zo'n 50 meter diepte een groot voorwerp ontdekt dat mogelijk de romp is van het vliegtuig. 47 militaire duikers staan klaar om dat te onderzoeken, maar moeten wachten tot de zee minder onstuimig is.</p><p>In de buurt werden eerder zeven lichamen geborgen, evenals een koffer, een reddingsvest en een stuk van het vliegtuig. Vier van de lichamen zijn inmiddels aan land gebracht.</p><h2>Zwarte dozen</h2><p>Doordat het weer zo slecht is, vreest de leider van het onderzoek dat het nog wel eens een week kan duren voordat de zwarte dozen van de Airbus worden geborgen. Tot nu toe is er geen signaal opgepikt van die apparatuur.</p><p>De zwarte dozen zijn nodig om te onderzoeken wat er precies fout is gegaan. Er wordt nu gespeculeerd dat de piloot het toestel te snel heeft laten stijgen om een onweersstorm te ontwijken; daardoor zou de kracht die het vliegtuig in de lucht houdt verloren zijn gegaan.</p><p>Aan boord van het vliegtuig waren 162 mensen, voornamelijk Indonesiërs.</p>"
        ],
        [
         "1957",
         "nos",
         "https://nos.nl/artikel/2011360-sloppenwijk-manilla-brandt-af-door-rotjes",
         "article",
         "Sloppenwijk Manilla brandt af door rotjes",
         "jaarwisselingen, achterbuurten, brand, Filipijnen",
         "Buitenland",
         "Zo'n 4000 mensen zijn dakloos geworden in de Nieuwjaarsnacht doordat een Filipijnse sloppenwijk is afgebrand.",
         "2015-01-01 08:29:19",
         "2015-01-01 08:29:19",
         "https://cdn.nos.nl/image/2015/01/01/48862/1200x675.jpg",
         "<h1>Sloppenwijk Manilla brandt af door rotjes</h1><p>In de Filipijnen is in de Nieuwjaarsnacht een groot deel van een sloppenwijk in de hoofdstad Manilla in vlammen opgegaan. De brand werd waarschijnlijk veroorzaakt door kinderen die speelden met rotjes.</p><p>Zo'n 200 huisjes gingen verloren, waardoor ongeveer 4000 mensen dakloos zijn geworden. Ook zouden er ten minste drie doden zijn gevallen.</p><p>Veel mensen wisten ternauwernood te ontkomen aan het vuur. Sommigen moesten op geïmproviseerde vlotjes vluchtenomdat ze waren ingesloten tussen het vuur en een rivier.</p><p>De brandweer heeft grote moeite het vuur te bestrijden. Niet alleen worden de vlammen aangewakkerd door een harde wind, door de nauwe straatjes is het moeilijk om bij de brandhaarden te komen.</p>"
        ],
        [
         "1958",
         "nos",
         "https://nos.nl/artikel/2011363-automobilist-in-haarlem-beschoten",
         "article",
         "Automobilist in Haarlem beschoten",
         null,
         "Binnenland",
         "De man bleef ongedeerd en de dader is opgepakt.",
         "2015-01-01 08:42:01",
         "2015-01-01 08:42:01",
         "https://cdn.nos.nl/image/2015/01/01/48861/1200x675.jpg",
         "<h1>Automobilist in Haarlem beschoten</h1><p>In Haarlem is vanochtend vroeg een auto beschoten. De inzittende bleef volgens de politie ongedeerd.</p><p>Om 05.20 reed het slachtoffer in de Basilicumstraat toen de dader op hem schoot. De kogel raakte alleen de auto. Al snel na de melding heeft de politie de dader aangehouden.</p><p>Het is nog onduidelijk waarom hij heeft geschoten.</p>"
        ],
        [
         "1959",
         "nos",
         "https://nos.nl/artikel/2011364-brand-verwoest-vier-panden-in-centrum-alkmaar",
         "article",
         "Brand verwoest vier panden in centrum Alkmaar",
         "jaarwisselingen, brand",
         "Binnenland",
         "De brand in de grootste winkelstraat was in de loop van de ochtend onder controle.",
         "2015-01-01 09:06:55",
         "2015-01-01 09:06:55",
         "https://cdn.nos.nl/image/2015/01/01/48883/1200x675.jpg",
         "<h1>Brand verwoest vier panden in centrum Alkmaar</h1><p>In de Langestraat in het centrum van Alkmaar zijn bij een grote brand vier winkelpanden in vlammen opgegaan en eenzelfde aantal zwaar beschadigd. De brandweer had het vuur in de loop van de ochtend onder controle.</p><p>Het bestrijden van de brand ging moeilijk doordat het vuur lastig te bereiken was; de winkels zijn groot en diep en staan dicht op elkaar. Daarom werden hoogwerkers gebruikt om bij de brandhaarden te komen.</p><p>Doordat veel panden zo aaneen zijn geschakeld, konden de vlammen makkelijk overslaan, zegt de brandweer. Omliggende winkels hebben veel water- en rookschade opgelopen.</p><p>Vanwege de brand zijn zestig mensen geëvacueerd. De meesten konden slapen bij familie of vrienden. Een aantal werd ondergebracht in het stadskantoor.</p><p>paulinebroekema:</p><blockquote id=\"tweet\"><p>@paulinebroekema</p><p>Alkmaar binnenstad http://t.co/l3yibsMl6o</p><p>10:04</p><p>1 januari 2015</p></blockquote>"
        ],
        [
         "1960",
         "nos",
         "https://nos.nl/artikel/2011365-al-jazeera-proces-egypte-moet-over",
         "article",
         "Al-Jazeera-proces Egypte moet over",
         "Al-Jazeera, Egypte",
         "Buitenland",
         "Eerder kregen drie journalisten, onder wie een Australiër, tot tien jaar cel voor het verspreiden van valse informatie. ",
         "2015-01-01 09:09:25",
         "2015-01-01 09:09:25",
         "https://cdn.nos.nl/image/2015/01/01/48868/1200x675.jpg",
         "<h1>Al-Jazeera-proces Egypte moet over</h1><p>Het proces in Egypte tegen drie journalisten van Al-Jazeera moet over. Dat heeft het Hof van Cassatie in Caïro bepaald in hoger beroep.</p><p>De drie, onder wie de Australiër Peter Greste, waren veroordeeld voor het verspreiden van valse informatie. Ze kregen daarom celstraffen van zeven tot tien jaar.</p><p>Het is nog niet bekend waarom het hof besloten heeft dat het proces over moet.</p><h2>Moslimbroederschap </h2><p>De zaak werd gezien als een politiek proces; de drie zouden vooral zijn veroordeeld omdat ze een platform hadden geboden aan de Moslimbroederschap, die oppositie voert tegen het Egyptische bewind.</p><p>De drie zitten ruim een jaar gevangen. Ze werden gearresteerd kort nadat president Morsi van de Moslimbroederschap het veld had moeten ruimen na een volksopstand.</p><p>Volgens hun advocaat komen de drie nog niet vrij. Ze moeten het nieuwe proces in de gevangenis afwachten. Dat zou volgens de advocaat al binnen een maand kunnen beginnen.</p><h2>Rena Netjes</h2><p>In hetzelfde proces werd ook de Nederlandse journalist Rena Netjes veroordeeld. Ze werd bij verstek veroordeeld tot tien jaar cel.</p><p>Het lopende proces heeft op die uitspraak geen invloed.</p>"
        ],
        [
         "1961",
         "nos",
         "https://nos.nl/op3/artikel/2011367-wekdienst-me-brand-alkmaar-en-nog-grotere-brand-manilla",
         "article",
         "Wekdienst: ME, brand Alkmaar en nog grotere brand Manilla",
         "wekdienst",
         "Binnenland",
         "Wat heb je vannacht gemist en wat moet je weten om fris aan de eerste dag van 2015 te beginnen. ",
         "2015-01-01 09:43:14",
         "2015-01-01 09:43:14",
         "https://cdn.nos.nl/image/2014/11/22/27572/1200x675.jpg",
         "<h1>Wekdienst: ME, brand Alkmaar en nog grotere brand Manilla</h1><p>Goeiemorgen! Vandaag is er veel zon, maar in het noordwesten wat meer bewolking. Het wordt ongeveer 4 graden. Vanavond en vannacht regen en aan zee een stormachtige wind. Morgen weer zonnig en een graad of 9.</p><h2> Wat heb je gemist...</h2><p>Nieuwjaarsnacht</p><p>Feest, branden en tientallen aanhoudingen vannacht, een overzichtje: de ME moest in meerdere steden in actie komen om politieagenten en brandweermensen te beschermen die werden lastig gevallen. In Nijmegen, Culemborg en in Utrecht werden hulpdiensten bekogeld. In Zutphen reed iemand in op brandweermensen en in Uden brandde een basisschool af.</p><p>In Enschede is een man neergestoken, waarschijnlijk door een buurman. In Rotterdam en omgeving zijn tijdens de jaarwisseling verschillende gewonden gevallen bij het afsteken van vuurwerk. Zo raakte een jongen van 13 ernstig gewond aan zijn hand toen vuurwerk ontplofte dat hij net had opgeraapt. In Nieuwkoop in Zuid-Holland raakte een meisje van 4 gewond toen vuurwerk werd afgestoken. Een jongen van 18 in Almere is een oog kwijtgeraakt door zwaar vuurwerk.</p><p>Verwoestende brand in centrum Alkmaar</p><p>In de binnenstad van Alkmaar woedt al uren brand in een aantal oude panden. Het zijn winkels met woningen erboven. Vijftig mensen zijn geëvacueerd. Ze worden opgevangen in het stadhuis. Volgens de brandweer is er risico dat de voorgevel van de gebouwen het begeeft.</p><p>Sloppenwijk Manilla brandt af door rotjes</p><p>In de Filipijnen is in de Nieuwjaarsnacht een groot deel van een sloppenwijk in de hoofdstad Manilla in vlammen opgegaan. De brand werd waarschijnlijk veroorzaakt door kinderen die speelden met rotjes. Zo'n 200 huisjes gingen verloren, waardoor ongeveer 4000 mensen dakloos zijn geworden. Ook zou er ten minste één dode zijn gevallen.</p><p>NOS:</p><blockquote id=\"tweet\"><p>@NOS</p><p>Update: de brand in het centrum van Alkmaar heeft zes tot zeven panden verwoest en het vuur is nog niet uit: http://t.co/Pa021aS8N6</p><p>9:22</p><p>1 januari 2015</p></blockquote><h2>Wat moet je vandaag weten...</h2><p>Nieuwjaarsduik</p><p>Het is weer tijd voor de Nieuwjaarsduik: in Scheveningen gaan jaarlijks zo’n 10.000 Nederlanders het water in om het nieuwe jaar goed te beginnen. En ook in de rest van het land wordt inmiddels volop gedoken: in totaal zijn er 45.000 Nieuwjaarsduikers in heel Nederland.</p><p>Omroep West houdt een liveblog bij.</p>"
        ],
        [
         "1962",
         "nos",
         "https://nos.nl/artikel/2011368-ik-voelde-de-angst-maar-kon-niet-wegkomen",
         "article",
         "'Ik voelde de angst maar kon niet wegkomen'",
         "China",
         "Buitenland",
         "In het Chinese Shanghai zijn tientallen mensen onder de voet gelopen bij een groot nieuwjaarsfeest. Ooggetuigen vertellen over het gedrang.",
         "2015-01-01 09:46:17",
         "2015-01-01 09:46:17",
         "https://cdn.nos.nl/image/2015/01/01/48975/1200x675.jpg",
         "<h1>'Ik voelde de angst maar kon niet wegkomen'</h1><p>“Ik hoorde baby’s en vrouwen huilen en ik voelde de angst”, zegt Guo Xianzhong, een journalist van de Chinese krant Southern Metropolis. Hij was onderweg naar De Bund, een populair toeristengebied op de oever van de Huangpu-rivier, toen het gedrang begon. Tientallen mensen werden in korte tijd onder de voet gelopen tijdens het Oud en Nieuw-feest in Shanghai.</p><p>Guo Xianzhong liep op een trap richting de waterkant en zag het steeds drukker worden. Hij voelde hoe de sfeer grimmiger werd. “Ik wilde weggaan, maar het was al te druk. Ik kon al niet meer wegkomen.”</p><h2>Verdrukking</h2><p>Om zichzelf in veiligheid te brengen, klom hij via een vuilnisbak op een twee meter hoge muur. Hij kon over de menigte heen kijken en zag hoe er mensen die onderaan de trap liepen in de verdrukking kwamen en op de grond vielen.</p><p>Er werd geroepen: “Stop met duwen! Er is hier iemand gevallen”, maar hun stemmen verdronken in het geschreeuw.</p><blockquote id=\"quote\"><p>Door het gedrang vielen er mensen op de grond en andere mensen liepen daar overheen. - Ooggetuige Huang</p></blockquote><p>Ook Huang, student aan de Universiteit van Shanghai, zag hoe mensen onder de voet werden gelopen. Hij liep met drie vrienden richting de boulevard. Ze waren er al vroeg, maar het was koud en er waren nog weinig mensen. Daarom besloten de vier eerst nog even ergens anders wat te gaan drinken. Toen ze 40 minuten later terugkwamen, was de chaos al begonnen.</p><h2>Opstootjes</h2><p>De politie blokkeerde de weg richting de boulevard, tot groot ongenoegen van veel mensen. Er ontstonden opstootjes tussen bezoekers en politie; mensen duwden tegen agenten en een trok zelfs een mes, wat zorgde voor een hoop geschreeuw. Het lukte de politie niet om de massa tegen te houden. De mensen drukten door de blokkade heen.</p><p>Huang en zijn vrienden probeerden weg te komen, net als vele anderen. \"Door het gedrang vielen er mensen op de grond en andere mensen liepen daar overheen\", aldus Huang. Een aantal verstikte door de menigte.</p><p>Uiteindelijk lukte het de politie toch om controle over de situatie te krijgen. Agenten konden het gebied afzetten, waardoor hulpverleners hulp konden bieden aan slachtoffers. Het gedrang kostte uiteindelijk het leven aan 35 mensen, 43 raakten gewond.</p><p>Er gingen geruchten dat de chaos zou zijn ontstaan doordat mensen (nep-)geld wilden oprapen dat uit een gebouw werd gegooid. Maar volgens correspondent Marieke de Vries zouden er gewoon onverwacht te veel mensen aanwezig zijn geweest.</p><p>Normaal gesproken is er ieder jaar op de boulevard uitzicht op een lasershow, maar die hadden de autoriteiten vorig jaar al geannuleerd vanwege de verwachte hoge opkomst. Vermoedelijk is dat nieuws niet bij iedereen aangekomen.</p>"
        ],
        [
         "1963",
         "nos",
         "https://nos.nl/artikel/2011369-lampard-maakt-seizoen-af-bij-manchester-city",
         "article",
         "Lampard maakt seizoen af bij Manchester City",
         "Manchester City, Frank Lampard, voetbal",
         "Voetbal",
         "Lampard zou vanaf januari voor zijn nieuwe club New York City FC gaan spelen, maar City huurt hem nu tot het einde van het seizoen.",
         "2015-01-01 09:58:52",
         "2015-01-01 09:58:52",
         "https://cdn.nos.nl/image/2015/01/01/48879/1200x675.jpg",
         "<h1>Lampard maakt seizoen af bij Manchester City</h1><p>Frank Lampard speelt ook de rest van het seizoen voor Manchester City. Hij zou eigenlijk vanaf januari voor zijn nieuwe club New York City FC gaan spelen, maar City heeft de huurovereenkomst verlengd.</p><p>City-trainer Manuel Pellegrini heeft er nooit een geheim van gemaakt dat hij de 36-jarige middenvelder graag wilde behouden. Lampard maakte tot nu toe zes goals in zeventien wedstrijden, terwijl hij slechts drie keer basisspeler was.</p><p>Manchester City moet het in de eerste weken van 2015 stellen zonder Yaya Touré, die met Ivoorkust in de Afrika Cup gaat spelen. Ook kampen Sergio Agüero en Edin Dzeko met blessures. Het aanblijven van Lampard is daardoor extra welkom voor Pellegrini.</p><p>City is op dit moment de nummer twee van Engeland. De achterstand op koploper Chelsea is drie punten. Ook in de Champions League kan Manchester City de ervaring van Lampard goed gebruiken. In de knock-outfase is FC Barcelona in februari de tegenstander.</p>"
        ],
        [
         "1964",
         "nos",
         "https://nos.nl/op3/liveblog/2011370-stroom",
         "liveblog",
         "Stroom",
         "stroom",
         null,
         "De stroom van NOS op 3.",
         "2015-01-01 10:03:19",
         "2015-01-01 10:03:19",
         "https://cdn.nos.nl/image/2015/01/01/48968/1200x675.jpg",
         "<h1>Stroom</h1><h2>Man loopt nacht rond met kogel in hoofd</h2><p>Een man van 20 uit Haarlem heeft afgelopen nacht een tijd met een kogel in zijn hoofd rondgelopen zonder dat 'ie het doorhad. Hij stond op een plein toen hij een harde klap op zijn hoofd voelde en op de grond terechtkwam. Hij wist niet wat er aan de hand was en pas later in de nieuwjaarsnacht kreeg hij steeds meer hoofdpijn.</p><p>In het ziekenhuis bleek het een kogel te zijn. Die is verwijderd. Met de jongen gaat het goed. De politie is op zoek naar getuigen, omdat er mogelijk in de lucht is geschoten en mensen dat hebben gezien.</p><h2>Politie zoekt getuigen liquidatie in Amsterdam-Noord</h2><p>De politie in Amsterdam is nog steeds op zoek naar getuigen van de dodelijke schietpartij in Noord gistermiddag. Dat meldt AT5. Het 44-jarige slachtoffer, een bekende van de politie, werd op zittend in zijn auto, een Volvo XC90, meerdere keren beschoten. Hij overleed later aan zijn verwondingen.</p><p>Volgens getuigen is er meerdere keren gevuurd, in de voorruit van de auto zijn vier kogelgaten te zien. De man zou twee maal in zijn hoofd zijn geraakt.</p><p>Politie Eenheid Amsterdam:</p><blockquote id=\"tweet\"><p>@POL_Amsterdam</p><p>Getuigen van liquidatie Tussendek gezocht http://t.co/73zLOz7Wl0 #Amsterdam via @Politie</p><p>15:56</p><p>1 januari 2015</p></blockquote><h2>Britse politie arresteert hacker Xbox Live en Playstation Network</h2><p>De Britse politie heeft een man gearresteerd die het Playstation Network en Xbox Live op Eerste Kerstdag met een DDoS-aanval zou hebben platgelegd. De 22-jarige Vinnie Omari zou lid zijn van de hackersgroep Lizard Squad. De politie zegt dat ze hem hebben opgepakt voor fraude met PayPal, maar ze willen ook z'n computers, telefoons en e-mails willen onderzoeken in verband met de hacks.</p><p>Omari is op borgtocht vrij en moet op 10 maart voor de rechter verschijnen.</p><h2>Kerkbrand in Hoek onder controle</h2><p>In het Zeeuwse dorp Hoek, bij Terneuzen, heeft een grote brand gewoed in de Protestantse kerk. Inmiddels is de brand onder controle, maar de kerktoren is ingestort en een groot gedeelte van de kerk is uitgebrand. Volgens de brandweer is het nog te heet om uit te zoeken hoe de kerk er precies aan toe is.</p><p>Volgens de predikant is er weinig over van het kerkgebouw uit 1900. Hij is bang dat ook de preekstoel uit 1600 verwoest is.</p><h2>Eerste slachtoffer AirAsia geïdentificeerd</h2><p>Het eerste slachtoffer van de vliegtuigcrash met AirAsia vlucht 8501 is geïdentificeerd. De identiteit van de vrouw is onder andere vastgesteld aan de hand van vingerafdrukken. Na een korte ceremonie in het politiehospitaal in Surabaya is het lichaam van Hayati Lutfiah Hamid is overgedragen aan haar familie. Kort daarna is ze begraven.</p><h2>Alkmaar wil verbod op vuurwerk in oude stadscentra</h2><p>De burgemeester van Alkmaar is klaar met vuurwerk. Vannacht brak brand uit in een winkelstraat; vier historische panden brandden af, vier raakten zwaar beschadigd. \"Wat mij betreft is het over en uit met vuurwerk\", zei hij in het NOS Radio 1 Journaal.</p><h2>'Warme' Nieuwjaarsduik in Scheveningen</h2><p>In Scheveningen hebben vanmiddag 10.000 mensen een Nieuwjaarsduik gemaakt. De deelnemers hadden volgens NOS-weerman Marco Verhoef vandaag te maken met een relatief hoge watertemperatuur: zo'n 7 graden. De gemiddelde zeewatertemperatuur ligt de laatste jaren rond de jaarwisseling op een graad of 6.</p><p>De luchttemperatuur lag rond de 4 graden, iets te koud voor de tijd van het jaar. Door de krachtige wind lag de gevoelstemperatuur echter onder nul, -1,6 graden.</p><p>Ook mooi:</p><p>PATRICK KICKEN:</p><blockquote id=\"tweet\"><p>@KICKEN</p><p>Kontje van de Dag http://t.co/goJcRyaZYl</p><p>13:54</p><p>1 januari 2015</p></blockquote><h2>PostcodeKanjer valt in de Bijlmer</h2><p>Het feest gaat nog even door in de Amsterdamse Bijlmer vandaag: daar is de PostcodeKanjer van 43,7 miljoen gevallen. In de wijk Gaasperdam om precies te zijn. In welke straat wordt vanavond bekendgemaakt.</p><p>De helft van de prijs wordt verdeeld onder meespelende inwoners van die straat. De andere helft wordt verdeeld onder alle deelnemers die wonen in het postcodegebied 1107.</p><h2>We liegen over kijken naar Breaking Bad</h2><p>Meepraten over populaire tv-shows: da's nogal belangrijk. En daarom liegen we er ook over. De Britse Radio Times heeft een onderzoekje gedaan waaruit blijkt dat heel veel mensen zéggen dat ze Breaking Bad kijken of keken - maar dat in werkelijkheid helemaal niet doen.</p><p>1500 mensen werd gevraagd of ze wel eens liegen over het kijken naar een bepaald programma, en 42 procent gaf toe. 13 procent bekende te doen alsof ze Breaking Bad hebben gezien.</p><p>De top 5 shows waarover gelogen wordt:</p><p>1. Breaking Bad 2. Game of Thrones 3. Sherlock 4. Doctor Who 5. Lost </p><h2>Congolees ziekenhuis raakt geld Serious Request kwijt</h2><p>Een ziekenhuis dat geld krijgt van Serious Request dreigt door een belastingconflict een half miljoen euro kwijt te raken. De Congolese overheid heeft beslag laten leggen op de fondsen van het wereldberoemde ziekenhuis van Denis Mukwege.</p><p>In het ziekenhuis worden meisjes en vrouwen geopereerd die slachtoffer zijn geworden van verkrachting en genitale verminking. Het Panzi-ziekenhuis krijgt via War Child 250.000 euro van de opbrengst van Serious Request. Maar de regering is geen fan van Mukwege en gaat nu elke maand 50.000 euro afschrijven, om achterstallige belasting te innen. Volgens Mukwege's advocaat hoeft geen enkel ander ziekenhuis in het land belasting te betalen.</p><h2>De balans bij daglicht: drie doden</h2><p>In Rotterdam is Nieuwjaarsnacht slecht afgelopen voor een man die bij de Erasmusbrug in het water was gevallen; hij verdronk. Ook in Amsterdam werd een lichaam in het water gevonden, maar die is volgens de politie niet met Oud en Nieuw verdronken.</p><p>In het verkeer vielen deze jaarwisseling ook enkele doden. Tussen Winschoten en Oude Pekela verloor een man de macht over het stuur en botste hij tegen een boom. Op de A16 bij Zevenbergen bezweek een automobilist aan zijn verwondingen nadat hij zijn auto total loss had gereden.</p><h2>Geen gas in Olland door vuurwerk</h2><p>In Olland in Brabant, bij Sint-Oedenrode, zitten 350 huizen zonder gas. \"Er is vannacht vermoedelijk vuurwerk in een rioolput gegooid\", zegt verslaggever Martijn van der Zande. \"Daarbij is een gasleiding geraakt en die is gaan lekken. Die hebben ze provisorisch kunnen maken met twee ballonnetjes. Maar dat betekent dat er geen gas meer doorheen kan.\"</p><h2>Nieuw op 1 januari: shoppen!</h2><p>Bankhangen en tv kijken is niet je enige optie vandaag: dit jaar kan je ook flink winkelen. Voor het eerst zijn de winkels in en rond de Kalverstraat in Amsterdam open op Nieuwjaarsdag. Zeker zeventig winkels hebben de deuren geopend. En Willem Koster van ondernemersvereniging Amsterdam City denkt dat andere steden dit voorbeeld in de toekomst gaan volgen.</p><blockquote id=\"quote\"><p>Het past in de trend. Winkels gingen al open op Eerste Pinksterdag, Eerste Paasdag enz. - Willem Koster</p></blockquote><h2>Tien vuurwerkslachtoffers, twaalf beschadigde ogen</h2><p>Tien mensen, twaalf beschadigde ogen: die zijn in de nieuwjaarsnacht behandeld in het Oogziekenhuis in Rotterdam. Zeven ogen zijn zo zwaar beschadigd dat de slachtoffers voorgoed minder zien of helemaal blind zijn. In sommige gevallen moet het oog misschien ook worden verwijderd.</p><p>In de meeste gevallen komt de schade door legaal siervuurwerk dat niet door slachtoffers zelf werd afgestoken; ze hadden geen van allen een vuurwerkbril op. Het Oogziekenhuis verwacht dat er de komende dagen nog meer vuurwerkslachtoffers binnenkomen.</p><p>Het Oogziekenhuis:</p><blockquote id=\"tweet\"><p>@oogziekenhuis</p><p>Oud & Nieuw komt dichterbij. Vergeet u de #vuurwerkbril niet? Vorig jaar 245 slachtoffers en 20 blinde ogen! http://t.co/jdCKRJSZ6Z</p><p>14:26</p><p>29 december 2014</p></blockquote><h2>Slecht weer hindert zoektocht AirAsia</h2><p>Indonesische duikers kunnen vanwege slecht weer nog niet naar de plek waar mogelijk het wrak van AirAsia vlucht 8501 ligt. Voor de kust van Borneo is op zo'n 50 meter diepte een groot voorwerp ontdekt dat mogelijk de romp is van het vliegtuig.</p><p>In de buurt werden eerder zeven lichamen geborgen. Vier van de lichamen zijn inmiddels aan land gebracht. Door het slechte weer kan het nog wel eens een week duren voordat de zwarte dozen van de Airbus worden geborgen. Tot nu toe is er geen signaal opgepikt van die apparatuur.</p><h2>De nieuwjaarsnacht in Nederland</h2><p>Feest, branden en tientallen aanhoudingen vannacht, een overzichtje: de ME moest in meerdere steden in actie komen om politieagenten en brandweermensen te beschermen die werden lastig gevallen. In Nijmegen, Culemborg en in Utrecht werden hulpdiensten bekogeld. In Zutphen reed iemand in op brandweermensen en in Uden brandde een basisschool af.</p><p>In Enschede is een man neergestoken, waarschijnlijk door een buurman. In Rotterdam en omgeving zijn verschillende gewonden gevallen bij het afsteken van vuurwerk. Zo raakte een jongen van 13 ernstig gewond aan zijn hand toen vuurwerk ontplofte dat hij net had opgeraapt. In Nieuwkoop in Zuid-Holland raakte een meisje van 4 gewond toen vuurwerk werd afgestoken. Een jongen van 18 in Almere is een oog kwijtgeraakt door zwaar vuurwerk.</p><h2>Tientallen mensen vertrapt in Shanghai</h2><p>In Shanghai zijn tientallen mensen onder de voet gelopen bij een groot Oud en Nieuw-feest. Daarbij zijn 35 doden gevallen en 43 gewonden. Volgens ooggetuigen ontstond gedrang toen mensen een plein op wilden, dat door de politie was afgesloten. In het gedrang werden mensen vertrapt.</p><p>Normaal gesproken is er ieder jaar op de Bund, een grote boulevard in de Chinese stad, uitzicht op een lasershow, maar die was vorig jaar al geannuleerd vanwege de verwachte hoge opkomst. Dat bericht is waarschijnlijk niet bij iedereen aangekomen. “Ik wilde weggaan, maar het was al te druk\", zegt Guo Xianzhong, een journalist van de Chinese krant Southern Metropolis. \"Ik kon al niet meer wegkomen.”</p>"
        ],
        [
         "1965",
         "nos",
         "https://nos.nl/artikel/2011371-tien-vuurwerkslachtoffers-naar-het-oogziekenhuis",
         "article",
         "Tien vuurwerkslachtoffers naar Het Oogziekenhuis",
         "oogheelkunde, Het Oogziekenhuis",
         "Binnenland",
         "Zeven ogen hebben blijvend letsel opgelopen door vuurwerk, zegt een woordvoerder.",
         "2015-01-01 10:03:59",
         "2015-01-01 10:03:59",
         "https://cdn.nos.nl/image/2015/01/01/48906/1200x675.jpg",
         "<h1>Tien vuurwerkslachtoffers naar Het Oogziekenhuis</h1><p>Het Oogziekenhuis in Rotterdam heeft in de nieuwjaarsnacht tien vuurwerkslachtoffers behandeld.</p><p>Zeven ogen zijn zo zwaar beschadigd dat de slachtoffers permanent minder zien of helemaal blind zijn. In sommige gevallen moet het oog misschien ook worden verwijderd.</p><h2>Vuurwerkbril</h2><p>De schade is in de meeste gevallen veroorzaakt door legaal siervuurwerk dat niet door slachtoffers zelf werd afgestoken. Niemand van hen droeg een vuurwerkbril.</p><p>Iedere jaarwisseling raken er ogen beschadigd door vuurwerk. De afgelopen zes jaar moesten 1551 mensen rond Oud en Nieuw naar de oogarts. 632 ogen raakten blijvend beschadigd. Daarvan werden 131 ogen blind.</p><h2>Verbod</h2><p>Oogartsen pleiten daarom voor een verbod op consumentenvuurwerk. \"Oud en Nieuw in Nederland lijkt meer op oorlogsoogheelkunde dan normale oogheelkunde\", zegt oogarts Tjeerd de Faber van Het Nederland Oogheelkundig Gezelschap (NOG).</p><p>Volgens het NOG veroorzaakt vuurwerk in Nederland in twee nachten meer oogletsels dan alle 512 oogtrauma’s die Amerikaanse militairen opiepen gedurende 4 jaar militaire vijandelijkheden in Irak en Afghanistan.</p><p>Het Oogziekenhuis:</p><blockquote id=\"tweet\"><p>@oogziekenhuis</p><p>Al 10 vuurwerkslachtoffers met oogletsel binnengebracht bij Het Oogziekenhuis Rotterdam, 12 beschadigde ogen: http://t.co/IYjLmh8fyC</p><p>9:10</p><p>1 januari 2015</p></blockquote>"
        ],
        [
         "1966",
         "nos",
         "https://nos.nl/artikel/2011372-durant-loodst-oklahoma-naar-zege",
         "article",
         "Durant loodst Oklahoma naar zege",
         "NBA [Vst][basketbalcompetitie]",
         "Basketbal",
         "De sterspeler miste zes duels door een enkelblessure, maar was tegen Phoenix Suns direct belangrijk met 44 punten.",
         "2015-01-01 10:04:40",
         "2015-01-01 10:04:40",
         "https://cdn.nos.nl/image/2015/01/01/48881/1200x675.jpg",
         "<h1>Durant loodst Oklahoma naar zege</h1><p>Oklahoma City Thunder heeft het jaar afgesloten met een zege op Phoenix Suns. Aan de hand van Kevin Durant won de ploeg na verlenging met 137-134.</p><p>Durant was zes wedstrijden uit de roulatie geweest vanwege enkelproblemen. Tegen Phoenix was hij direct goed voor 44 punten, tien rebounds en zeven assists. Oklahoma speelde de tweede helft zonder Russell Westbrook, die in het tweede kwart al zijn tweede technische fout had gekregen.</p><p>San Antonio Spurs verloor in december al drie keer thuis na verlenging, maar ditmaal werd New Orleans Pelicans na extra tijd met 95-93 verslagen. In de reguliere speeltijd kwam de thuisploeg met nog minder dan een seconde op de klok langszij. In de verlenging werd een achterstand van zes punten goed gemaakt, mede door zeven punten van Manu Ginobili.</p><h2>James absent</h2><p>Cleveland Cavaliers verloor thuis met 80-96 van Milwaukee Bucks. Bij Cleveland was LeBron James er voor de tweede keer op rij niet bij. Hij kampt met knieproblemen.</p><h2>Uitslagen 31 december</h2><table><thead><tr><td>Thuisploeg</td><td></td><td>Uitploeg</td><td>Uitslag</td></tr></thead><tbody><tr><td>Boston Celtics</td><td>-</td><td>Sacramento Kings</td><td>106-84</td></tr><tr><td>Indiana Pacers</td><td>-</td><td>Miami Heat</td><td>106-95</td></tr><tr><td>Los Angeles Clippers</td><td>-</td><td>New York Knicks</td><td>99-78</td></tr><tr><td>Houston Rockets</td><td>-</td><td>Charlotte Hornets</td><td>102-83</td></tr><tr><td>San Antonio Spurs</td><td>-</td><td>New Orleans Pelicans</td><td>95-93</td></tr><tr><td>Oklahoma City Thunder</td><td>-</td><td>Phoenix Suns</td><td>137-134</td></tr><tr><td>Cleveland Cavaliers</td><td>-</td><td>Milwaukee Bucks</td><td>80-96</td></tr></tbody></table><h3>Kevin Durant Scores Season-High 44 Points in Return</h3>"
        ],
        [
         "1967",
         "nos",
         "https://nos.nl/artikel/2011373-tweede-actiedag-easyjet-in-frankrijk",
         "article",
         "Tweede actiedag EasyJet in Frankrijk",
         "Easyjet",
         "Buitenland",
         "Cabinepersoneel van EasyJet in Frankrijk staakt vandaag opnieuw voor meer loon",
         "2015-01-01 10:22:45",
         "2015-01-01 10:22:45",
         "https://cdn.nos.nl/image/2015/01/01/48882/1200x675.jpg",
         "<h1>Tweede actiedag EasyJet in Frankrijk</h1><p>Bij de Franse tak van EasyJet wordt ook vandaag gestaakt voor meer loon. De prijsvechter heeft in verband daarmee voor vandaag 68 vluchten geschrapt.</p><p>Gisteren werd ook al gestaakt en toen gingen 70 vluchten niet door. Het cabinepersoneel van EasyJet in Frankrijk eist een groter aandeel in de winst. Het afgelopen jaar steeg de nettowinst met 20 procent en daarvan willen ze een graantje meepikken.</p><p>Nederlandse reizigers worden niet getroffen door de staking. De actie kan wel effect hebben op mensen die vertrekken van een Franse, Italiaanse, Spaanse, Portugese, Belgische, Tsjechische, Poolse, Duitse of Britse luchthaven.</p><p>Vooral vluchten naar Nice hebben last van de actie bij EasyJet.</p>"
        ],
        [
         "1968",
         "nos",
         "https://nos.nl/artikel/2011374-del-potro-mist-start-van-seizoen",
         "article",
         "Del Potro mist start van seizoen",
         "Juan Martin del Potro, ATP Brisbane, Marin Cilic",
         "Tennis",
         "De Argentijnse tennisser kampt nog altijd met een polsblessure en heeft zich afgemeld voor het toernooi van Brisbane.",
         "2015-01-01 10:37:18",
         "2015-01-01 10:37:18",
         "https://cdn.nos.nl/image/2015/01/01/48890/1200x675.jpg",
         "<h1>Del Potro mist start van seizoen</h1><p>Juan Martín del Potro mist de start van het nieuwe tennisseizoen. De Argentijn heeft nog altijd last van een blessure aan zijn linkerpols.</p><p>De US Open-kampioen van 2009 heeft al sinds zijn polsoperatie in maart niet meer gespeeld. Hij richtte zich op het toernooi van komende week in Brisbane, maar heeft zich daar inmiddels voor afgemeld. Het is onzeker of Del Potro op tijd fit is voor de Australian Open, die op 19 januari beginnen.</p><p>Del Potro is de tweede US Open-kampioen die zich in 48 uur tijd heeft afgemeld voor het toernooi in Brisbane. Marin Cilic ging hem voor. De Kroaat, die in september in New York zegevierde, heeft een schouderblessure. Onder anderen Roger Federer, Kei Nishikori, Milos Raonic en Grigor Dimitrov zijn wel van de partij in Brisbane.</p>"
        ],
        [
         "1969",
         "nos",
         "https://nos.nl/artikel/2011375-garmisch-is-en-blijft-een-prachtige-belevenis",
         "article",
         "'Garmisch is en blijft een prachtige belevenis'",
         "vierschansentournee [ski-springen], schansspringen [skien]",
         "Skispringen",
         "Op 1 januari kijken miljoenen mensen naar het skispringen in Garmisch-Partenkirchen. Commentator Ayolt Kloosterboer is erbij.",
         "2015-01-01 10:41:56",
         "2015-01-01 10:41:56",
         "https://cdn.nos.nl/image/2015/01/01/48891/1200x675.jpg",
         "<h1>'Garmisch is en blijft een prachtige belevenis'</h1><p>\"Het is een prachtige belevenis en er hangt altijd een bijzondere sfeer.\" NOS-commentator Ayolt Kloosterboer is in Garmisch-Partenkirchen om verslag te doen van de eerste grote sportwedstrijd van het jaar. Het traditionele schansspringen op Nieuwjaarsdag.</p><p>De omstandigheden lijken ideaal voor een mooie wedstrijd. \"Het wordt vandaag prachtig hier in Garmisch. Er staat een strakblauwe hemel en er is heel veel sneeuw gevallen. En op 1 januari is iedereen toch al extra vrolijk en verwachtingsvol voor het nieuwe sportseizoen.\"</p><h2>Garmisch telt</h2><p>Voor de meeste skispringers is winnen op Nieuwjaarsdag een droom. Voor velen blijft het dat ook. \"De springers weten dat er miljoenen mensen kijken. Het heeft een magische bijklank. Als je Garmisch gewonnen hebt, dan tel je echt mee\", weet Kloosterboer.</p><p>Maar uiteindelijk draait het natuurlijk om het winnen van de Vierschansentournee. \"Een prijs die iedere skispringer op zijn verlanglijst heeft staan. Het wordt nog hoger aangeslagen dan het wereldkampioenschap. Omdat het over vier verschillende schansen gaat, moet je echt in de vorm van je leven zijn om te winnen.\"</p><p>Kloosterboer: \"Er zijn mensen bij wie dat maar één keer lukt, zoals bijvoorbeeld Thomas Diethart vorig jaar. Die had nog nooit iets gewonnen in zijn carrière, was in bloedvorm en won de tournee. Naar dat gevoel gaat hij nu de rest van zijn carrière op zoek, maar misschien vindt hij het wel nooit meer.\"</p><h2>Kraft aan de leiding</h2><p>De eerste wedstrijd van de Vierschansentournee werd gewonnen door de Oostenrijker Stefan Kraft. Hij was de sterkste in Oberstdorf, een wedstrijd die een dag werd uitgesteld vanwege sneeuwstorm.</p><p>De wedstrijd in Garmisch-Partenkirchen is vanaf 13.55 uur live te volgen op NPO 1 en op NOS.nl.</p>"
        ],
        [
         "1970",
         "nos",
         "https://nos.nl/artikel/2011376-de-balans-bij-daglicht-drie-doden-veel-branden",
         "article",
         "De balans bij daglicht: drie doden, veel branden",
         "oud en nieuw",
         "Binnenland",
         "Ook deze jaarwisseling waren er weer slachtoffers en branden. ",
         "2015-01-01 11:30:57",
         "2015-01-01 11:30:57",
         "https://cdn.nos.nl/image/2015/01/01/48896/1200x675.jpg",
         "<h1>De balans bij daglicht: drie doden, veel branden</h1><p>Voor veel mensen is het nieuwe jaar niet volgens wens begonnen. Ze raakten gewond door vuurwerk, moesten vanwege brand tijdelijk hun huis uit of verongelukten onderweg naar huis.</p><p>In het centrum van Alkmaar woedde een grote brand. Daar zijn vier winkelpanden in vlammen opgegaan en vier zwaar beschadigd. Veel mensen die boven de winkels wonen, zijn geëvacueerd. In Uden in Noord-Brabant werden twee basisscholen door brand verwoest.</p><p>In Dirksland op Goeree-Overflakkee werden twaalf woningen ontruimd vanwege een brand in een nabijgelegen loods.</p><h2>Hulpverleners belaagd</h2><p>Ondanks waarschuwingen om politie en hulpverleners hun werk te laten doen, ging het in de eerste uren van 2015 toch weer mis. Zo werden hulpdiensten in Nijmegen, Utrecht en Culemborg door jongeren belaagd. En er is al een eerste overzicht van vuurwerkslachtoffers.</p><p>In Enschede werd een man neergestoken, waarschijnlijk tijdens een ruzie met zijn buurman. In Haarlem ontkwam een automobilist aan de dood toen zijn auto werd beschoten.</p><p>In Rotterdam liep het slecht af met een man die bij de Erasmusbrug in het water was gevallen; hij verdronk. De politie onderzoekt nog onder welke omstandigheden de man in het water terechtkwam.</p><p>Ook in Amsterdam werd een lichaam in het water gevonden, maar dat slachtoffer is volgens de politie niet met Oud en Nieuw verdronken.</p><h2>Verkeersdoden</h2><p>In het verkeer vielen deze jaarwisseling ook enkele doden. Tussen Winschoten en Oude Pekela verloor een man de macht over het stuur en botste hij tegen een boom.</p><p>Op de A16 bij Zevenbergen bezweek een automobilist aan zijn verwondingen nadat hij zijn auto total loss had gereden.</p><p>In Sint Oedenrode bij Eindhoven zitten 350 huishoudens zonder gas door een storing. Doordat er modder in de leiding is gekomen, duurt het waarschijnlijk nog de hele dag voordat mensen weer kunnen worden aangesloten.</p><p>Elders zijn gemeenten begonnen met het opruimen van al het afval dat altijd bij de jaarwisseling op straat wordt achtergelaten. In Amsterdam ging de reinigingsdienst al vroeg de straat op.</p><h2>Opstelten </h2><p>Minister Opstelten geeft vanavond een persconferentie over alle gebeurtenissen rond de jaarwisseling. Hij komt dan met een overzicht, heeft zijn ministerie laten weten.</p><p>De persconferentie begint om 19.00 uur in Den Haag.</p>"
        ],
        [
         "1971",
         "nos",
         "https://nos.nl/artikel/2011377-pulis-nieuwe-trainer-west-bromwich-albion",
         "article",
         "Pulis nieuwe trainer West Bromwich Albion",
         "Tony Pulis, West Bromwich Albion, voetbal, Premier League",
         "Voetbal",
         "Tony Pulis is de opvolger van Alan Irvine, die maandag werd ontslagen. Pulis is de vierde trainer in een jaar voor WBA.",
         "2015-01-01 11:43:40",
         "2015-01-01 11:43:40",
         "https://cdn.nos.nl/image/2015/01/01/48901/1200x675.jpg",
         "<h1>Pulis nieuwe trainer West Bromwich Albion</h1><p>West Bromwich Albion heeft Tony Pulis aangesteld als nieuwe trainer. Hij is de opvolger van Alan Irvine, die afgelopen maandag werd ontslagen door de club uit de Premier League. Pulis is al de vierde trainer in een jaar bij WBA.</p><p>De belangrijkste taak voor de nieuwe trainer is om de club te behouden voor de Premier League. West Bromwich staat momenteel op de zestiende plaats. Pulis tekent een contract voor 2,5 jaar. Hij zal op Nieuwjaarsdag, als WBA het opneemt tegen West Ham United, nog niet op de bank zitten.</p><p>Pulis zat sinds augustus zonder club. Twee dagen voor de competitie begon stapte hij op bij Crystal Palace wegens onvrede met clubvoorzitter Steve Parish. Met Crystal Palace eindigde Pulis vorig jaar als elfde in de Premier League, wat hem de titel 'Manager van het Jaar' opleverde.</p>"
        ],
        [
         "1972",
         "nos",
         "https://nos.nl/artikel/2011379-weer-brandbom-bij-zweedse-moskee",
         "article",
         "Weer brandbom bij Zweedse moskee",
         "moskee, brandbom, Zweden, racisme",
         "Buitenland",
         "Er werden een molotovcocktail en bakstenen naar het gebedshuis gegooid. Ook werden er racistische leuzen op de deur geschreven.",
         "2015-01-01 11:54:24",
         "2015-01-01 11:54:24",
         "https://cdn.nos.nl/image/2014/12/29/45755/1200x675.jpg",
         "<h1>Weer brandbom bij Zweedse moskee</h1><p>In Zweden is vanochtend vroeg weer een brandbom naar een moskee gegooid. Deze keer was een gebedshuis in Uppsala ten noorden van Stockholm doelwit.</p><p>Getuigen hebben een man gezien die een molotovcocktail naar het pand gooide. Ook zijn er bakstenen naar de moskee gegooid en zijn er racistische leuzen op de deur geschreven.</p><p>Het vuur doofde snel en er zijn geen gewonden. De politie sluit niet uit dat er meerdere daders zijn. Er is niemand aangehouden.</p><h2>Haatmisdrijven</h2><p>Dit is de derde moskee in Zweden waar in korte tijd brand wordt gesticht. Op Eerste Kerstdag raakten vijf mensen gewond door een brandbom in een moskee in Eskilstuna.</p><p>Vorig jaar zijn er in totaal dertien aanslagen gepleegd op Zweedse moskeeën. De regering werkt aan beleid om harder op te treden tegen dit soort haatmisdrijven.</p>"
        ],
        [
         "1973",
         "nos",
         "https://nos.nl/artikel/2011380-wij-steken-tenminste-onze-eigen-auto-s-in-brand",
         "article",
         "'Wij steken tenminste onze eigen auto's in brand'",
         "autowrakken, jaarwisseling, oud en nieuw, brand, Veen, rellen",
         "Binnenland",
         "De meeste inwoners vinden dat er veel te veel ophef wordt gemaakt over de rellen van vorig jaar. Dit keer bleef het rustig.",
         "2015-01-01 11:55:39",
         "2015-01-01 11:55:39",
         "https://cdn.nos.nl/image/2015/01/01/48842/1200x675.jpg",
         "<h1>'Wij steken tenminste onze eigen auto's in brand'</h1><p>Veel politie op de been afgelopen nacht in Veen. Maar tot confrontaties is het dit keer niet gekomen. Ondanks de jaarlijks terugkerende kat-en-muisspelletjes tussen de politie en een clubje jongeren dat autowrakken in brand steekt, bleef het dit jaar rustig in het Brabantse dorp.</p><p>\"Het begon ooit met een traditie. Dat ging jarenlang goed, maar hoe meer tegenstand er kwam vanuit de overheid, hoe groter het vuur werd\", zegt een van de inwoners.</p><p>“Die traditie is ontstaan in 1974, nadat drie gemeentes een jaar eerder fuseerden. Toen verhuisde de brandweer van Veen naar een ander dorp en zei de jeugd: weet je wat? Dan halen we de brandweer wel hier naartoe op dit tijdstip. Dan kopen we een auto en steken we die in brand.\"</p><blockquote id=\"quote\"><p>Hoe meer tegenstand er kwam vanuit de overheid, hoe groter het vuur werd. - Inwoner van Veen</p></blockquote><p>Anders dan vorig jaar, toen vlak voor Oudjaar honderd jongeren tijdelijk werden opgesloten, is het deze jaarwisseling in Veen een heel normaal feestje.</p><p>Als de klok twaalf uur heeft geslagen, kijken mensen naar het vuurwerk en rond 01.00 uur stroomt het feestplein langzaam vol. Geen champagne en oliebollen, maar bier, worst en muziek.</p><p>De meeste inwoners vinden dat er veel te veel ophef wordt gemaakt over de rellen van vorig jaar.</p><p>\"Veen is wel heel erg in het nieuws. In grote steden als Den Haag en Rotterdam steken ze auto’s van andere mensen in de fik. Hier steken we in ieder geval onze eigen auto’s in brand”, zegt een van de feestgangers op het plein.</p><p>Toch is niet iedereen blij met deze zogenaamde traditie. De barvrouw op het feest vindt de brandende auto's allesbehalve gezellig. \"Als ik een ruime schatting moet maken, denk ik dat 98 procent van de inwoners het opsteken van auto's spuug- en spuugzat is. Het is geen traditie. Volgens mij is een traditie iets goeds, iets leuks en iets gezelligs. Iets volksvermakend. Dat kan ik dit niet noemen.\"</p><p>Voorlopig zal de traditie in Veen blijven voorbestaan. Daar zullen andere inwoners in ieder geval hun best voor doen: \"We vieren hier ieder jaar een heel gezellig feestje\", zegt een man. \"Zolang de dienstverleners ons niet tot last zijn, zijn wij hun ook niet tot last. Tot mijn dood toe blijf ik weerstand bieden. Ik laat me niet kleineren, zeker niet in mijn eigen dorp. En zeker niet door de overheid.\"</p><aside><p>Vorig jaar werden op de dag vóór Oudjaar 100 jongeren in Veen opgepakt omdat ze flessen en vuurwerk naar de politie zouden hebben gegooid. Verreweg de meesten waren onschuldig en justitie moest excuses aanbieden.</p></aside>"
        ],
        [
         "1974",
         "nos",
         "https://nos.nl/artikel/2011381-arts-dreigt-hulpgeld-serious-request-te-verliezen",
         "article",
         "Arts dreigt hulpgeld Serious Request te verliezen",
         "Sacharov-prijs, Mukwege Denis, Serious Request, verkrachtingen",
         "Buitenland",
         "Congo heeft beslag gelegd op het geld van de prominente arts Denis Mukwege, omdat zijn ziekenhuis nog 500.000 euro aan belastingen zou moeten betalen. ",
         "2015-01-01 11:56:22",
         "2015-01-01 11:56:22",
         "https://cdn.nos.nl/image/2015/01/01/48905/1200x675.jpg",
         "<h1>Arts dreigt hulpgeld Serious Request te verliezen</h1><p>Een ziekenhuis dat geld krijgt van Serious Request dreigt door een belastingconflict een half miljoen euro kwijt te raken. De Congolese overheid heeft beslag laten leggen op de fondsen van het wereldberoemde ziekenhuis van Denis Mukwege.</p><p>Mukwege richtte in 1999 het Panzi-ziekenhuis op in de stad Bukavu. Daar worden meisjes en vrouwen geopereerd die slachtoffer zijn geworden van verkrachting en genitale verminking. Groepsverkrachting als 'oorlogswapen' komt in de regio veel voor.</p><h2>Serious Request </h2><p>Het Panzi-ziekenhuis krijgt via War Child 250.000 euro van de opbrengst van Serious Request, dat dit jaar geld inzamelde voor slachtoffers van verkrachting. Mukwege is op dat gebied een belangrijke activist.</p><p>War Child zegt dat het gedoneerde bedrag niet is overgemaakt aan het ziekenhuis. Dat gebeurt pas als de hulporganisatie de garantie heeft dat het geld volledig ten goede komt aan slachtoffers van seksueel geweld. War Child overlegt daarover met het Panzi-ziekenhuis.</p><h2>Sacharovprijs</h2><p>Mukwege werd vanwege zijn werk vaak onderscheiden. Zo kreeg hij in oktober de Sacharovprijs, de mensenrechtenprijs van het Europees Parlement. Eerder onderscheidden de Verenigde Naties en de Nederlandse Stichting Vluchteling hem al.</p><h3>Mini-doc: Seksueel geweld in de Congo (Dr. Denis Mukwege)</h3><p>Dat de Congolese overheid hem tegenwerkt, komt doordat Mukwege wereldwijd aandacht vraagt voor de verkrachtingsproblemen in het land, zegt Tineke Ceelen van Stichting Vluchteling. \"Hij aarzelt niet om daarbij dadergroepen aan te wijzen. En één van de grootste groepen is het Congolese leger, dat de verantwoordelijkheid is van de overheid.\"</p><p>Vanwege zijn uitgesproken standpunten is Mukwege vaak bedreigd en tegengewerkt. Twee jaar geleden ontsnapte hij aan een aanslag.</p><h2>Geen salaris</h2><p>Volgens Mukwege wil de Congolese overheid nog zo'n 500.000 euro aan achterstallige belasting innen. Daarom zal er elke maand 50.000 euro worden afgeschreven. Tot die tijd ligt er beslag op de bankrekening van het ziekenhuis.</p><p>De arts spreekt er schande van dat hij niet meer bij het geld kan. Volgens hem komt de continuïteit van zorg in gevaar doordat hij honderden werknemers niet meer kan betalen.</p><h2>Vrijgesteld</h2><p>Medestanders van Mukwege zeggen dat het project als liefdadigheidsinstelling juist moet zijn vrijgesteld van belastingen. Zijn advocaat zegt dat geen enkel ander ziekenhuis in het land belasting hoeft te betalen.</p><p>De Congolese overheid wil niet reageren, omdat het een lopende zaak betreft.</p>"
        ],
        [
         "1975",
         "nos",
         "https://nos.nl/op3/artikel/2011382-12-00-uur-overal-ter-wereld-2015",
         "article",
         "12.00 uur: overal ter wereld 2015",
         "jaarwisselingen, Amerikaans Samoa",
         "Buitenland",
         "Ook Amerikaans Samoa heeft het nieuwe jaar ingeluid, als laatste in de bewoonde wereld.",
         "2015-01-01 12:01:34",
         "2015-01-01 12:01:34",
         "https://cdn.nos.nl/image/2015/01/01/48907/1200x675.jpg",
         "<h1>12.00 uur: overal ter wereld 2015</h1><p>En nu is het in de hele bewoonde wereld 2015: Amerikaans Samoa in de Stille Oceaan heeft om 12.00 uur onze tijd het nieuwe jaar ingeluid. Amerikaans Samoa is het oostelijke deel van de Samoa-eilanden.</p><p>All Blacks:</p><blockquote id=\"tweet\"><p>@AllBlacks</p><p>We are set for for the final #HappyNewYear of them all. Pago pago in American Samoa is the last to bring in 2015! http://t.co/kNYz9Eu4SP</p><p>11:56</p><p>1 januari 2015</p></blockquote><p>Om 18.00 uur lokale tijd kon je in Poloa in het westen de allerlaatste zonsondergang van 2014 zien, iets wat veel inwoners dan ook doen.</p><aside><p>Amerikaans Samoa ligt 100 kilometer ten oosten van het westelijke Samoa. Dat is onafhankelijk en ligt sinds 2011 in een andere tijdzone: daar was het 't eerst 2015. Op 29 december 2011 zette Samoa de klok 24 uur vooruit en sloegen ze dus 30 december over. Dat deden ze vanwege de economie, de handel met Australië. Ze liepen 21 uur achter op Sydney en dat was niet handig.</p></aside><p>Ook op de Midway-eilanden is het nu 2015. Daar wonen alleen niet veel mensen, het doet dienst als militair vliegveld. Niue, met zo'n 2000 inwoners, ligt in dezelfde tijdzone.</p>"
        ],
        [
         "1976",
         "nos",
         "https://nos.nl/artikel/2011383-samoa-ontkurkt-2014-nu-echt-voorbij",
         "article",
         "Samoa ontkurkt: 2014 nu écht voorbij",
         "Amerikaans Samoa",
         "Buitenland",
         "Om 12.00 uur Nederlandse tijd luidde Amerikaans-Samoa het nieuwe jaar in.",
         "2015-01-01 12:07:08",
         "2015-01-01 12:07:08",
         "https://cdn.nos.nl/image/2015/01/01/48915/1200x675.jpg",
         "<h1>Samoa ontkurkt: 2014 nu écht voorbij</h1><p>2014 is nu echt helemaal voorbij. Om 12.00 uur Nederlandse tijd luidde Amerikaans-Samoa het nieuwe jaar in.</p><p>De kleine eilandengroep is een overzees territorium van de Verenigde Staten in de Stille Oceaan, vlak bij de datumgrens. Een uurtje eerder had Hawaï als laatste Amerikaanse staat 2015 begroet.</p><p>Amerikaans-Samoa ligt op een steenworp afstand van Kiribati, aan de andere kant van de datumgrens. Daar is inmiddels 2 januari al weer aangebroken.</p>"
        ],
        [
         "1977",
         "nos",
         "https://nos.nl/artikel/2011388-meer-nieuwjaarswensen-via-whatsapp-minder-sms-jes",
         "article",
         "Meer nieuwjaarswensen via WhatsApp, minder sms'jes",
         "jaarwisselingen",
         "Economie, Tech",
         "Het aantal telefoontjes bleef nagenoeg gelijk ten opzichte van vorig jaar.",
         "2015-01-01 12:28:04",
         "2015-01-01 12:28:04",
         "https://cdn.nos.nl/image/2015/01/01/48914/1200x675.jpg",
         "<h1>Meer nieuwjaarswensen via WhatsApp, minder sms'jes</h1><p>Steeds meer mensen sturen hun nieuwjaarswensen via mobiel internet. Het mobiele datanetwerk van KPN piekte tijdens de jaarwisseling. Er werd bijna drie keer meer data verbruikt dan vorig jaar. Bij T-mobile was er een stijging van 182 procent, bij Vodafone 55 procent.</p><p>Het aantal sms'jes rond de jaarwisseling daalde juist. Bij Vodafone werden er 15 miljoen sms'jes verzonden. Dat is een daling van 30 procent ten opzichte van vorig jaar. Bij KPN werden er 6 miljoen sms-berichten verstuurd, tegenover 8,5 miljoen vorig jaar.</p><h2>Bellen</h2><p>Vodafone-klanten pleegden ruim 7 miljoen telefoontjes. Dat is een daling van 3,6 procent ten opzichte van vorig jaar. Bij KPN werd zo'n 5 miljoen keer mobiel gebeld, ongeveer net zo veel als een jaar geleden.</p><p>De meeste nieuwjaarstelefoontjes werden bij Vodafone gepleegd vanaf de Dam in Amsterdam. In Rotterdam werd het meeste data van Vodafone verbruikt. Dat gebeurde bij Blaak.</p>"
        ],
        [
         "1978",
         "nos",
         "https://nos.nl/artikel/2011389-tientallen-gewonden-door-vuurwerk",
         "article",
         "Tientallen gewonden door vuurwerk",
         "jaarwisselingen",
         "Binnenland",
         "Ziekenhuizen en hulpdiensten hebben een drukke nacht achter de rug. Er vielen opvallend veel gewonden bij carbidschieten. ",
         "2015-01-01 12:35:20",
         "2015-01-01 12:35:20",
         "https://cdn.nos.nl/image/2015/01/01/48942/1200x675.jpg",
         "<h1>Tientallen gewonden door vuurwerk</h1><p>Bij het brandwondencentrum van het Martini Ziekenhuis in Groningen zijn in de Nieuwjaarsnacht tien mensen binnengebracht met verwondingen door carbidschieten. Volgens een woordvoerder gaat het om \"opvallend veel\" gewonden.</p><p>In totaal werden vijftien mensen opgenomen met brandwonden. Ze komen uit Groningen, Drenthe en Friesland.</p><p>Het Brandwondencentrum van het Rode Kruis Ziekenhuis in Beverwijk heeft ook een drukke nacht achter de rug. Er werden tien vuurwerkslachtoffers behandeld. Eén van hen raakte ernstig gewond aan zijn gezicht, een ander moest een hand laten amputeren.</p><p>Bij het Maasstad Ziekenhuis in Rotterdam spreken ze van een normale jaarwisseling. Er werden zestien vuurwerkslachtoffers behandeld, zes van hen zijn tussen de 7 en 12 jaar oud.</p><p>Bij Het Oogziekenhuis in Rotterdam zijn tien vuurwerkslachtoffers behandeld.</p><h2>Vierjarig meisje</h2><p>Een meisje van vier jaar is gisteravond gewond geraakt door rondspringend vuurwerk. Dat gebeurde in het Zuid-Hollandse Nieuwkoop. Het meisje is naar het ziekenhuis gebracht. Hoe het met haar gaat, is niet bekendgemaakt.</p><p>Het UMC in Groningen heeft een jongen (14) uit Beilen behandeld die een hand is kwijtgeraakt door vuurwerk. Er ging een nitraatbom af in zijn hand.</p><p>In Millingen aan de Rijn moesten twee mensen naar het ziekenhuis omdat ze gewond waren geraakt door een vuurwerkbom. Hun toestand is stabiel.</p><p>Een vrouw uit Nieuw-Vennep raakte gewond aan haar buik toen er vuurwerk door haar brievenbus werd gegooid. Ook zij moest in het ziekenhuis worden behandeld.</p><h2>Brandversneller</h2><p>In Rotterdam is een man (27) levensgevaarlijk gewond geraakt. Hij vloog in brand door een steekvlam van een fles brandversneller. Dat stond bij hem in de buurt toen hij vuurwerk afstak.</p><p>Een 13-jarige plaatsgenoot moet een aantal vingertoppen missen omdat er vuurwerk in zijn hand afging. Een man (49) uit Vlaardingen overkwam hetzelfde. Ook hij is een aantal vingertoppen kwijt.</p>"
        ],
        [
         "1979",
         "nos",
         "https://nos.nl/artikel/2011392-warme-nieuwjaarsduik-in-scheveningen",
         "article",
         "'Warme' nieuwjaarsduik in Scheveningen",
         "Unox, Meteogroup",
         "Binnenland",
         "10.000 mensen sprongen in water van een graad of 7. ",
         "2015-01-01 13:15:21",
         "2015-01-01 13:15:21",
         "https://cdn.nos.nl/image/2015/01/01/48919/1200x675.jpg",
         "<h1>'Warme' nieuwjaarsduik in Scheveningen</h1><p>In Scheveningen hebben vanmiddag 10.000 mensen een nieuwjaarsduik gemaakt. Het was de 56ste keer dat er een nieuwjaarsduik werd georganiseerd; voor Scheveningen was het de 51ste keer.</p><p>De deelnemers hadden volgens NOS weerman Marco Verhoef vandaag te maken met een relatief hoge watertemperatuur: het water was zo'n 7 graden, een graadje meer dan het gemiddelde van de afgelopen jaren.</p><p>De luchttemperatuur lag rond de 4 graden, iets te koud voor de tijd van het jaar. Door de krachtige wind lag de gevoelstemperatuur echter onder nul, -1,6 graden.</p><h2>Traditie</h2><p>De nieuwjaarsduik in Scheveningen is een ware Hollandse traditie. In de loop van de tijd groeide de nieuwjaarsduik van enkele fanatiekelingen uit tot een massaal evenement.</p><p>In Scheveningen gaan nu jaarlijks zo’n 10.000 Nederlanders het water in om het nieuwe jaar goed te beginnen. Ook in de rest van het land wordt inmiddels volop gedoken: verspreid over het land zijn er 45.000 nieuwjaarsduikers.</p>"
        ],
        [
         "1980",
         "nos",
         "https://nos.nl/artikel/2011393-postcodekanjer-valt-in-bijlmer",
         "article",
         "PostcodeKanjer valt in Bijlmer",
         "Postcodeloterijshow, Starreveld, Gaston, oudejaarsloterij, staatsloterij",
         "Binnenland",
         "43,7 miljoen euro wordt verdeeld onder meespelende inwoners van de Postcode Loterij in postcodegebied 1107.",
         "2015-01-01 13:23:26",
         "2015-01-01 13:23:26",
         "https://cdn.nos.nl/image/2015/01/01/48923/1200x675.jpg",
         "<h1>PostcodeKanjer valt in Bijlmer</h1><p>De PostcodeKanjer van 43,7 miljoen is gevallen in de wijk Gaasperdam in de Amsterdamse Bijlmer. De grootste geldprijzen van de Postcode Loterij zijn voor zeven meespelende inwoners van de Steenderenstraat met de winnende postcode 1107 LA. Zij delen samen de helft van de prijs, 21,85 miljoen.</p><p>De andere helft wordt verdeeld onder alle deelnemers die wonen in het postcodegebied 1107.</p><p>De troostprijzen van 1 miljoen euro zijn onder meer gevallen in Zoetermeer (postcode 2728 RA), Lelystad (8226 DG), Landsmeer (1121 NS) en Oosterhout (4902 CB). Hier mogen de deelnemers in elk van die postcodegebieden een miljoen delen.</p><h2>Oudejaarsloterij</h2><p>Het winnende lotnummer van de Oudejaarsloterij van de Staatsloterij werd gisteravond al bekendgemaakt. De hoofdprijs van 30 miljoen euro netto is gewonnen door een abonneespeler uit de provincie Utrecht.</p>"
        ],
        [
         "1981",
         "nos",
         "https://nos.nl/artikel/2011394-assad-bezoekt-syrische-frontlinie",
         "article",
         "Assad bezoekt Syrische frontlinie",
         "Assad, Bashar al, Syrië",
         "Buitenland",
         "Op de staatstelevisie was te zien hoe president Assad een deel van Oudjaarsavond doorbracht met militairen. ",
         "2015-01-01 13:28:28",
         "2015-01-01 13:28:28",
         "https://cdn.nos.nl/image/2015/01/01/48924/1200x675.jpg",
         "<h1>Assad bezoekt Syrische frontlinie</h1><p>De Syrische leider Assad heeft een deel van Oudjaarsavond doorgebracht bij de frontlinie. Hij dineerde met militairen in de wijk Jobar in de hoofdstad Damascus.</p><p>Op de staatstelevisie was te zien hoe Assad handenschudde met militairen en hen kuste. Ook werd getoond hoe hij fortificaties bekeek en op een tank klom.</p><p>Sinds vier jaar geleden de burgeroorlog uitbrak in Syrië, laat Assad zich zelden in het openbaar zien. In Jobar is het regeringsleger al een tijd verwikkeld in gevechten met opstandelingen.</p>"
        ],
        [
         "1982",
         "nos",
         "https://nos.nl/artikel/2011395-uden-pinkt-traantje-weg-om-afgebrande-scholen",
         "article",
         "Uden pinkt traantje weg om afgebrande scholen",
         "jaarwisseling, basisscholen",
         "Binnenland",
         "Twee schoolgebouwen in het Brabantse dorp hebben de jaarwisseling niet overleefd. Vuurwerk is de vermoedelijke oorzaak.",
         "2015-01-01 13:42:33",
         "2015-01-01 13:42:33",
         "https://cdn.nos.nl/image/2015/01/01/48928/1200x675.jpg",
         "<h1>Uden pinkt traantje weg om afgebrande scholen</h1><p>In het Brabantse Uden is geschokt gereageerd op de brand die twee basisscholen in de as heeft gelegd. De politie houdt er rekening mee dat de brand ontstond door vuurwerk.</p><p>Het vuur ontstond gisteravond in openbare school De Brinck en al snel stond ook de naastgelegen katholieke school Jan Bluyssen in brand. Een naastgelegen peuterspeelzaal staat nog wel.</p><p>Ouders, leerlingen en leerkrachten reageren geschokt op de brand. \"Ik heb wel een traantje gelaten\", zegt een oud-directeur van basisschool Jan Bluyssen. Bij daglicht is de omvang van de ravage pas duidelijk. Van een aantal klaslokalen is niets meer over.</p><p>Edith Vissers:</p><blockquote id=\"tweet\"><p>@EdithVissers1</p><p>Confronterend om in deze nieuwjaarsnacht Jan Bluyssen basisschool van kinderen in vlamnen te zien opgaan. #Uden http://t.co/z44TD0zB4N</p><p>2:32</p><p>1 januari 2015</p></blockquote><p>Omdat er veel rook vrijkwam, werd een naastgelegen appartementencomplex ontruimd. Veertig omwonenden moesten hun huis uit. De meesten konden bij familie terecht.</p><p>\"Ik heb de nacht bij m'n zwager doorgebracht\", zegt een man tegen Omroep Brabant: \"Met een borreltje erbij, dan is het niet zo erg.\" Vanochtend mochten de meeste omwonenden weer naar huis.</p><blockquote id=\"quote\"><p>Een triest begin van het nieuwe jaar. - Burgemeester Henk Hellegers</p></blockquote><p>\"We zagen een brandweerauto langsrijden. Toen we uit het raam keken, sloegen de vlammen uit het dak van de school\", zegt een omstander. \"We zijn meteen naar buiten gelopen, we wonen naast de school. Even later kwam de politie ons ook halen.\"</p><h2>Vuurwerk</h2><p>De politie onderzoekt tips over kinderen die vuurwerk afstaken op het schoolplein. Volgens de burgemeester is het nog te vroeg om conclusies te trekken: \"Natuurlijk is het je eerste gedachte. Het zal wel vuurwerk zijn. Technisch onderzoek moet uitwijzen of dat inderdaad de oorzaak is.\"</p><p>Op de beide basisscholen zitten in totaal 330 leerlingen. Komende maandag moeten ze weer naar school. Waarschijnlijk worden ze tijdelijk in leegstaande lokalen opgevangen.</p>"
        ],
        [
         "1983",
         "nos",
         "https://nos.nl/artikel/2011397-burgemeester-van-alkmaar-wil-verbod-op-vuurwerk",
         "article",
         "Burgemeester van Alkmaar wil verbod op vuurwerk",
         "oud en nieuw, brand",
         "Binnenland",
         "Burgemeester Bruinooge is het zat: \"Het is geen vuurwerk meer, het zijn bommen geworden. Het is tijd om te stoppen met dat vuurwerk-gedoe.\"",
         "2015-01-01 13:53:12",
         "2015-01-01 13:53:12",
         "https://cdn.nos.nl/image/2015/01/01/48970/1200x675.jpg",
         "<h1>Burgemeester van Alkmaar wil verbod op vuurwerk</h1><p>Burgemeester Piet Bruinooge (CDA) van Alkmaar vindt dat er een algemeen vuurwerkverbod moet komen. \"Wat mij betreft is het over en uit met het vuurwerk\", zei hij tegen de NOS. Bruinooge roept de Rijksoverheid op om vuurwerk te verbieden.</p><p>Aanleiding voor zijn opmerking is de brand van vannacht in de oude binnenstad van Alkmaar. Vier winkelpanden in de Langestraat gingen in vlammen op. Eenzelfde aantal werd zwaar beschadigd.</p><p>Enkele muren van de verwoeste winkels zijn vanmiddag omver gehaald, omdat ze dreigden in te storten.</p><p>Een van de gedupeerde winkeliers die boven zijn winkel woonde, is er stellig van overtuigd dat de brand is ontstaan door vuurwerk. \"Aan de achterkant van de panden zitten cafés en daar zijn mensen vuurwerk wezen afsteken. Daardoor is de brand ontstaan.\"</p><p>Bruinooge vindt dat sowieso de discussie over het gebruik van vuurwerk moet worden hervat. Hij zegt dat vooral historische gebouwen in binnensteden kans lopen om in vlammen op te gaan door \"het moderne ongebreidelde vuurwerk\".</p><h2>Den Haag </h2><p>De gemeente Den Haag had deze jaarwisseling voor het eerst in 250 jaar besloten om tijdens Oud en Nieuw een groot vuurwerk op een centrale plaats te organiseren om overlast door vuurwerk te voorkomen. Met succes, zegt de gemeente.</p><p>Meer dan 10.000 mensen waren gisteravond laat naar de Hofvijver bij het Binnenhof gegaan om het nieuwe jaar in te luiden met een vuurwerkshow. De stad is vanwege het succes van plan om daarvan een nieuwe traditie te maken.</p><p>Uit het overzicht van Den Haag blijkt verder dat er aanzienlijk minder mensen zijn aangehouden dan vorig jaar in verband met misdrijven. Ook het aantal bedreigingen van hulpverleners is flink gedaald.</p>"
        ],
        [
         "1984",
         "nos",
         "https://nos.nl/artikel/2011398-kerkbrand-in-hoek-onder-controle",
         "article",
         "Kerkbrand in Hoek onder controle",
         "brand, hoek",
         "Binnenland",
         "De vlammen sloegen uit het dak van de kerk. De toren is ingestort door de brand.",
         "2015-01-01 13:54:28",
         "2015-01-01 13:54:28",
         "https://cdn.nos.nl/image/2015/01/01/48979/1200x675.jpg",
         "<h1>Kerkbrand in Hoek onder controle</h1><p>In het Zeeuwse dorp Hoek, bij Terneuzen, heeft een grote brand gewoed in de Protestantse Kerk. Inmiddels is de brand onder controle.</p><p>De kerktoren is ingestort en een groot gedeelte van de kerk is uitgebrand. Volgens de brandweer is het nog te heet om uit te zoeken hoe de kerk er precies aan toe is.</p><p>Volgens predikant Arie van der Maas is er weinig over van het kerkgebouw uit 1900. Hij is bang dat ook de preekstoel uit 1600 is vernietigd door het vuur.</p><p>De brand komt hard aan in de protestantse gemeenschap. \"Mensen zijn hier gedoopt en getrouwd. Dit is een stuk van hun levensgeschiedenis. Ze staan hier dan ook huilend bij te kijken\", zegt Van der Maas.</p><h2>NL-Alert</h2><p>Bij de brand kwam veel rook vrij. Daarom werd een NL-Alert verstuurd om omwonenden te waarschuwen om hun ramen en deuren dicht te houden, net als ventilatiekanalen.</p><p>De brand ontstond aan het begin van de middag, het is niet duidelijk waardoor. Er zijn geen gewonden gevallen.</p><p>Pim van den Berge:</p><blockquote id=\"tweet\"><p>@Pimzn</p><p>Dak kerk #hoek staat op instorten http://t.co/6jbPDWsbbr</p><p>12:58</p><p>1 januari 2015</p></blockquote>"
        ],
        [
         "1985",
         "nos",
         "https://nos.nl/artikel/2011400-2-4-miljoen-kijkers-voor-youp-van-t-hek",
         "article",
         "2,4 miljoen kijkers voor Youp van 't Hek",
         "Hek, Youp van 't [cabaretier], oudejaarsconference, oud en nieuw",
         "Cultuur & Media",
         "De cabaretier trok 2,4 miljoen kijkers. Het best bekeken was gisteravond het Nationale Aftelmoment met 2,9 miljoen kijkers. ",
         "2015-01-01 14:01:47",
         "2015-01-01 14:01:47",
         "https://cdn.nos.nl/image/2015/01/01/48938/1200x675.jpg",
         "<h1>2,4 miljoen kijkers voor Youp van 't Hek</h1><p>De oudejaarsconference van Youp van 't Hek heeft gisteravond 2,4 miljoen kijkers getrokken. Daarmee was de uitzending volgens Stichting KijkOnderzoek het op één na best bekeken programma van Oudejaarsavond.</p><p>Op nummer 1 stond het Nationaal Aftelmoment op NPO 1. Om middernacht zagen 2,9 miljoen mensen hoe Art Rooijakkers bij het Amsterdamse Scheepvaartmuseum het nieuwe jaar inluidde.</p><p>De derde plek was gisteravond voor Ik hou van Holland op RTL4. 1,9 miljoen mensen zagen de speciale Oud-en-Nieuwuitzending van de spelshow met Linda de Mol.</p><h2>Achtste oudejaarsconference </h2><p>Met Wat is de vraag? leverde Van 't Hek voor de achtste keer een oudejaarsconference. De laatste keer was in 2012, toen ook 2,4 miljoen mensen op zijn show afstemden.</p><p>Vorig jaar was de eer aan Theo Maassen. 1,9 miljoen mensen zagen zijn Einde oefening.</p>"
        ],
        [
         "1986",
         "nos",
         "https://nos.nl/artikel/2011401-eerste-slachtoffer-airasia-geidentificeerd",
         "article",
         "Eerste slachtoffer AirAsia geïdentificeerd",
         "vliegtuigongevallen, wrakken, Indonesië",
         "Buitenland",
         "Na een korte ceremonie is het lichaam van de vrouw overgedragen aan de familie.",
         "2015-01-01 14:10:14",
         "2015-01-01 14:10:14",
         "https://cdn.nos.nl/image/2015/01/01/48941/1200x675.jpg",
         "<h1>Eerste slachtoffer AirAsia geïdentificeerd</h1><p>Het eerste slachtoffer van de vliegtuigcrash met AirAsia vlucht 8501 is geïdentificeerd. De identiteit van de vrouw is onder andere vastgesteld aan de hand van vingerafdrukken.</p><p>Na een korte ceremonie in het politiehospitaal in Surabaya is het lichaam van Hayati Lutfiah Hamid overgedragen aan haar familie. Kort daarna is ze begraven.</p><h2>Slecht weer</h2><p>Het bergen van de slachtoffers van de rampvlucht wordt gehinderd door het slechte weer op de Javazee. Op de zeebodem voor de kust van Borneo is een groot voorwerp ontdekt waarvan wordt gedacht dat het de romp van het vliegtuig is. Duikers staan klaar om dat te onderzoeken maar de zee is te onstuimig.</p><p>Het vliegtuig met 162 inzittenden verdween zondag van de radar. Dinsdag werden er voor het eerst lichamen en brokstukken gevonden.</p>"
        ],
        [
         "1987",
         "nos",
         "https://nos.nl/artikel/2011402-dubbeldam-wil-aan-de-verwachtingen-voldoen",
         "article",
         "Dubbeldam wil aan de verwachtingen voldoen",
         "Paardensport, Jeroen Dubbeldam, zenith",
         "Paardensport dressuur",
         "In 2015 wil springruiter Jeroen Dubbeldam hoge ogen gooien bij de EK in Aken. \"Dat is toch het Wimbledon van de paardensport.\" ",
         "2015-01-01 14:16:19",
         "2015-01-01 14:16:19",
         "https://cdn.nos.nl/image/2014/12/05/33905/1200x675.jpg",
         "<h1>Dubbeldam wil aan de verwachtingen voldoen</h1><p>\"Succesvoller dan 2014 zal moeilijk worden\", beseft een over het komend jaar mijmerende Jeroen Dubbeldam, \"maar misschien kunnen we het evenaren.\" </p><p>Twee keer won de springruiter afgelopen jaar goud met de onervaren ruin Zenith bij de Wereldruiterspelen in Normandië. Het succes kwam onverwacht voor de olympisch kampioen van 2000.</p><p>Zijn jaar begon vanaf nul, na de verkoop van zijn paard Utascha. \"Toen had ik eigenlijk het idee: 2014 wordt een tussenjaar. In mijn ogen was Zenith niet ver genoeg om in het Nederlands team te komen.\"</p><p>In 2015 hoopt Dubbeldam aan de inmiddels hooggespannen verwachtingen te voldoen. Olympisch kampioen was hij al, sinds deze zomer mag hij zich wereldkampioen noemen. De Europese titel ontbreekt nog.</p><p>\"Het hoofddoel is zijn Europese kampioenschappen in Aken. Aken is het Wimbledon van de paardensport. Als daar dan de EK worden gehouden, wil je daar wel hoge ogen gooien.\"</p><p>Op de achtergrond spelen bovendien de Olympische Spelen in 2016. In het pre-olympische jaar is het zaak om het niveau vast te houden, weet Dubbeldam. \"Dan is Rio heel dichtbij.\"</p>"
        ],
        [
         "1988",
         "nos",
         "https://nos.nl/artikel/2011405-de-sportkalender-van-2015",
         "article",
         "De sportkalender van 2015",
         null,
         "Sport algemeen",
         "De Tour de France start dit jaar in Utrecht, het WK beachvolleybal komt naar Nederland en de vrouwen spelen voor het eerst een WK voetbal.",
         "2015-01-01 14:41:53",
         "2015-01-01 14:41:53",
         "https://cdn.nos.nl/image/2015/01/01/48946/1200x675.jpg",
         "<h1>De sportkalender van 2015</h1><p>Het ene jaar is het andere niet. Waar 2014 vooral in het teken stond van het WK voetbal en de Winterspelen, is 2015 het jaar van onder meer de Tour de France-start in Utrecht.</p><p>Daarnaast vinden ook de EK shorttrack, de WK afstanden en de WK beachvolleybal in Nederland plaats.</p><p>Het is bovendien een pre-olympisch seizoen. Voor veel sporters begint dit jaar de eerste kwalificatiestress op weg naar de Spelen van 2016 in Rio de Janeiro.</p><h2>Een greep uit het aanbod in 2015</h2><table><thead><tr><td>Datum</td><td>Evenement</td><td>Locatie</td></tr></thead><tbody><tr><td>4 januari</td><td>Finale WK darts PDC</td><td>Londen, Engeland</td></tr><tr><td>10 januari - 11 januari</td><td>EK allround (schaatsen) </td><td>Tsjeljabinsk, Rusland</td></tr><tr><td>15 januari - 1 februari</td><td>WK handbal (m)</td><td>Qatar</td></tr><tr><td>19 januari - 1 februari</td><td>Australian Open</td><td>Melbourne, Australië</td></tr><tr><td>23 januari - 25 januari</td><td>EK shorttrack</td><td>Dordrecht</td></tr><tr><td>31 januari - 1 februari</td><td>WK veldrijden</td><td>Tabor, Tsjechië</td></tr><tr><td>2 februari - 15 februari</td><td>WK skiën</td><td>Vail/Beaver Creek, Verenigde Staten</td></tr><tr><td>12 februari - 15 februari</td><td>WK afstanden</td><td>Heerenveen</td></tr><tr><td>18 februari - 22 februari</td><td>WK baanwielrennen</td><td>Parijs, Frankrijk</td></tr><tr><td>28 februari - 1 maart</td><td>WK sprint</td><td>Astana, Kazachstan</td></tr><tr><td>7 maart - 8 maart</td><td>WK allround</td><td>Calgary, Canada</td></tr><tr><td>13 maart - 15 maart</td><td>WK shorttrack</td><td>Moskou, Rusland</td></tr><tr><td>15 maart</td><td>Start F1-seizoen</td><td>Melbourne, Australië</td></tr><tr><td>22 maart</td><td>Milaan - Sanremo</td><td>Italië</td></tr><tr><td>5 april</td><td>Ronde van Vlaanderen</td><td>België</td></tr><tr><td>9 april - 12 april</td><td>US Masters</td><td>Augusta, Verenigde Staten</td></tr><tr><td>9 april - 12 april</td><td>EK judo</td><td>Glasgow, Schotland</td></tr><tr><td>12 april</td><td>Parijs - Roubaix</td><td>Frankrijk</td></tr><tr><td>15 april - 19 april</td><td>EK turnen</td><td>Montpellier, Frankrijk</td></tr><tr><td>19 april</td><td>Amstel Gold Race</td><td>Nederland</td></tr><tr><td>26 april</td><td>Luik-Bastenaken-Luik</td><td>België</td></tr><tr><td>3 mei </td><td>Finale KNVB-beker</td><td>Rotterdam</td></tr><tr><td>9 mei - 31 mei</td><td>Giro d'Italia</td><td>Italië</td></tr><tr><td>17 mei</td><td>Eredivisie, laatste speelronde</td><td>Nederland</td></tr><tr><td>24 mei - 7 juni</td><td>Roland Garros</td><td>Parijs, Frankrijk</td></tr><tr><td>27 mei</td><td>Finale Europa League</td><td>Warschau, Polen</td></tr><tr><td>6 juni </td><td>Finale Champions League</td><td>Berlijn, Duitsland</td></tr><tr><td>6 juni - 5 juli</td><td>WK voetbal (v)</td><td>Canada</td></tr><tr><td>12 - 28 juni</td><td>Europese Spelen</td><td>Bakoe, Azerbeidzjan</td></tr><tr><td>18 juni - 21 juni</td><td>US Open (golf)</td><td>Chambers Bay, Verenigde Staten</td></tr><tr><td>19 juni - 20 juni</td><td>Tussenstop Volvo Ocean Race</td><td>Den Haag</td></tr><tr><td>26 juni - 5 juli</td><td>WK beachvolleybal</td><td>Nederland</td></tr><tr><td>27 juni</td><td>Finish Volvo Ocean Race</td><td>Gothenburg, Zweden</td></tr><tr><td>29 juni - 12 juli</td><td>Wimbledon</td><td>Londen, Engeland</td></tr><tr><td>4 juli - 26 juli</td><td>Tour de France</td><td>Frankrijk (start in Utrecht)</td></tr><tr><td>13 juli - 19 juli</td><td>British Open</td><td>St Andrews, Schotland</td></tr><tr><td>21 juli - 25 juli </td><td>WK BMX </td><td>Heusden-Zolder, België</td></tr><tr><td>24 juli - 9 augustus</td><td>WK zwemmen</td><td>Kazan, Rusland</td></tr><tr><td>10 - 16 augustus</td><td>PGA Championship</td><td>Whistling Straits, Verenigde Staten</td></tr><tr><td>21 augustus - 30 augustus</td><td>EK hockey (m+v)</td><td>Londen, Engeland</td></tr><tr><td>22 augustus - 30 augustus</td><td>WK atletiek</td><td>Peking, China</td></tr><tr><td>22 augustus - 13 september</td><td>Vuelta a España</td><td>Spanje</td></tr><tr><td>24 augustus - 30 augustus</td><td>WK judo</td><td>Astana, Kazchstan</td></tr><tr><td>30 augustus - 6 september</td><td>WK roeien</td><td>Lac d'Aiguebelette, Frankrijk</td></tr><tr><td>31 augustus - 13 september</td><td>US Open (tennis)</td><td>New York, Verenigde Staten</td></tr><tr><td>5 september - 20 september</td><td>EK basketbal (m)</td><td>Dui/Kro/Let/Fra</td></tr><tr><td>18 september - 31 oktober </td><td>WK rugby</td><td>Engeland</td></tr><tr><td>19 september - 27 september</td><td>WK wielrennen</td><td>Richmond, Verenigde Staten</td></tr><tr><td>26 september - 4 oktober</td><td>EK volleybal (v)</td><td>Nederland/België</td></tr><tr><td>4 oktober</td><td>Ronde van Lombardije</td><td>Italië</td></tr><tr><td>23 oktober - 1 november</td><td>WK turnen</td><td>Glasgow, Schotland</td></tr><tr><td>15 november - 22 november</td><td>ATP World Tour Finals</td><td>Londen, Engeland</td></tr><tr><td>5 december - 20 december</td><td>WK handbal (v)</td><td>Denemarken</td></tr><tr><td>12 december</td><td>Loting EK voetbal</td><td>Parijs, Frankrijk</td></tr></tbody></table>"
        ],
        [
         "1989",
         "nos",
         "https://nos.nl/artikel/2011407-sijsling-laat-ahoy-dit-jaar-links-liggen",
         "article",
         "Sijsling laat Ahoy dit jaar links liggen",
         null,
         "Tennis",
         "De halvefinalist van vorig jaar geeft de voorkeur aan het ATP-toernooi van Memphis, dat tegelijkertijd plaatsvindt.",
         "2015-01-01 14:54:36",
         "2015-01-01 14:54:36",
         "https://cdn.nos.nl/image/2015/01/01/48951/1200x675.jpg",
         "<h1>Sijsling laat Ahoy dit jaar links liggen</h1><p>Igor Sijsling maakt dit jaar niet zijn opwachting op het ABN Amro World Tennis Tournament, dat van 9 tot en met 15 februari gehouden wordt. De 27-jarige Amsterdammer, die vorig jaar nog tot de halve finales reikte in Rotterdam, geeft de voorkeur aan het ATP-toernooi van Memphis.</p><p>In Amerika werd Sijsling rechtstreeks toegelaten tot het hoofdtoernooi, terwijl hij in Rotterdam afhankelijk zou zijn van een wildcard. Toernooidirecteur Richard Krajicek heeft nog twee wildcards te vergeven.</p><p>Sijsling baarde vorig seizoen opzien in Ahoy door onder anderen de Rus Michail Joezjny en Philipp Kohlschreiber uit Duitsland te verslaan. Bij de laatste vier werd hij gestuit door Marin Cilic.</p><h2>Deur op kier</h2><p>Volgens de toernooiorganisatie vroeg het management van Sijsling om een wildcard, maar die toezegging kon nog niet gedaan worden. Daarop besloot Sijsling zich in te schrijven voor het toernooi in Amerika.</p><p>De organisatie meent dat er nog een kleine kans bestaat dat Sijsling alsnog een wildcard accepteert en zich terugtrekt uit het toernooi in Memphis.</p>"
        ],
        [
         "1990",
         "nos",
         "https://nos.nl/artikel/2011408-paus-vraagt-hardere-aanpak-mensenhandel",
         "article",
         "Paus vraagt hardere aanpak mensenhandel ",
         "Paus Franciscus [kerkhoofd]",
         "Buitenland",
         "Paus Franciscus vroeg in zijn nieuwjaarstoespraak ook meer aandacht voor de strijd tegen slavernij. ",
         "2015-01-01 15:11:49",
         "2015-01-01 15:11:49",
         "https://cdn.nos.nl/image/2015/01/01/48902/1200x675.jpg",
         "<h1>Paus vraagt hardere aanpak mensenhandel </h1><p>Paus Franciscus heeft in zijn nieuwjaarstoespraak de wereld opgeroepen om nog meer te strijden tegen slavernij en mensenhandel.</p><p>\"God heeft iedereen het recht gegeven om vrij te zijn\", zei hij na de mis in de Sint Pieter in Rome. Vorige maand nog riep de paus mensen in de hele wereld op om geen laag geprijsde artikelen te kopen die via slavenarbeid zijn gemaakt.</p><p>Nieuwjaarsdag is traditioneel de dag van de vrede in de katholieke kerk en het thema dit jaar was: 'Niet langer slaven, alleen broeders en zusters'.</p><p>De paus zei verder dat vrede niet vanzelfsprekend is. \"Vrede is altijd mogelijk maar we moeten ernaar zoeken. Laat ons bidden voor vrede.''</p>"
        ],
        [
         "1991",
         "nos",
         "https://nos.nl/op3/artikel/2011410-2015-wat-verandert-er-voor-jou",
         "article",
         "2015: wat verandert er voor jou?",
         "januari, wijziging",
         "Binnenland",
         "Sinds middernacht is er weer van alles veranderd aan regelgeving en voorzieningen. De belangrijkste wijzigingen voor jou.",
         "2015-01-01 15:27:55",
         "2015-01-01 15:27:55",
         "https://cdn.nos.nl/image/2015/01/01/48956/1200x675.jpg",
         "<h1>2015: wat verandert er voor jou?</h1><p>De oliebollen liggen oud te worden, buiten veegt de buurman al de rotjes van de stoep en iedereen neemt zich voor om dit jaar alles anders te doen. 1 januari is het begin van een nieuwe ronde, nieuwe kansen. Bereid je even voor met wat veranderingen.</p><p>Uitgaan</p><p>Sinds twee weken rijden treinen in de Randstad en andere knooppunten langer door: er gaan extra late treinen naar Zwolle, Alkmaar, Deventer, Haarlem, Dordrecht en Utrecht en er komen extra nachttreinen tussen Utrecht en Nijmegen. Schiphol is voortaan ook 's nachts te bereiken vanuit Amsterdam.</p><p>Uitgaan in Amsterdam wordt dus makkelijker voor mensen die ver weg wonen, maar een van de populairste clubs van de stad is vanaf zondag voor altijd onbereikbaar: Club Trouw sluit de deuren en wordt omgetoverd tot studentenhotel. Het hotel krijgt 573 kamers.</p><p>Op zaterdag 3 januari is het laatste feestje.</p><h2>Roken</h2><p>Roken in kleine kroegen wordt héél moeilijk. Het rookverbod voor kleine kroegen is er al sinds oktober, maar op veel plekken stonden de asbakken nog op tafel. Caféhouders kregen dan een waarschuwing, maar vanaf vandaag meteen een boete als er binnen gerookt wordt.</p><p>Rokers sowieso opgelet: de accijnzen gaan omhoog. Een pakje sigaretten of shag wordt 9 cent duurder. En aan de pomp gaat de prijs van benzine, diesel en LPG ongeveer een cent per liter omhoog.</p><p>Het goede nieuws: de thuiskopieheffing op onder meer cd's, smartphones, tablets en computers gaat omlaag met 30 procent. Daardoor betaal je niet 5 euro extra voor een laptop, maar 3,50 euro.</p><h2>Facebook</h2><p>Nieuwe privacyvoorwaarden van Facebook. Eigenlijk per vandaag, maar Facebook heeft de introductie uitgesteld tot 30 januari. Volgens de nieuwe voorwaarden wordt wat je op Facebook zet van Facebook. En kunnen ze bijvoorbeeld meer met je locatiegegevens doen. Veel privacy-instellingen heb je nog steeds zelf onder controle, maar ben je het er niet mee eens? Dan moet je Facebook maar niet meer gebruiken.</p><h2>Studeren</h2><p>Vanaf 1 september: het leenstelsel. Als je al studiefinanciering krijgt, verandert er niets, ook niet als je tussendoor een jaar stopt. Maar voor nieuwe bachelor- en masterstudenten verdwijnt de basisbeurs. Dat betekent dat je moet gaan lenen, maximaal zo'n 1000 euro per maand. Je hebt 35 jaar om die lening terug te betalen.</p><p>De aanvullende beurs blijft als je ouders samen minder dan 48.000 euro verdienen. Deze beurs gaat zelfs met 100 euro per maand omhoog. De aanvullende beurs wordt omgezet in een gift zodra je je diploma haalt.</p><p>Minder lenen? Dan zal je ergens moeten bezuinigen. Het Nibud rekende voor wat de gemiddelde student per maand kwijt is en ontvangt: </p><h2>Online gokken</h2><p>Dat zou vanaf vandaag legaal worden, maar dat is uitgesteld. Het is een wetsvoorstel van staatssecretaris Teeven. De huidige wet op de kansspelen is bijna 50 jaar oud en verbiedt het aanbieden van kansspelen zonder vergunning. \"Spelers zijn daarom aangewezen op het illegale aanbod, waarop weinig toezicht mogelijk is\", zegt Teeven.</p><p>Hij wil dat gokbedrijven een vergunning kunnen krijgen voor websites die zich op de Nederlandse markt richten. Ze moeten dan wel maatregelen nemen om verslaving tegen te gaan.</p><p>Het kabinet zag het plan wel zitten, maar waarschijnlijk wordt het voorstel pas ergens eind deze maand besproken in de Kamer.</p><h2>Verkeer en vervoer</h2><p>Openbaar vervoer wordt iets duurder. Zowel bij de GVB als de NS moet er nu meer betaald worden voor een kaartje. De tarieven voor de enkele reizen en dagretours op NS trajecten zijn met 1,98% gestegen. Een enkeltje van Hilversum Media Park naar Tilburg kostte bijvoorbeeld gisteren nog 14,80 en nu 15,10. Ook de abonnementen Traject Vrij, het Voordeelurenabonnement, het Grensabonnement en Altijd Vrij stijgen in prijs met 2,15%.</p><p>De 'hufterovertredingen' in het verkeer worden dit jaar harder aangepakt. Dat zijn gevaarlijke en hinderlijke gedragingen, zoals het niet stoppen voor een stopteken van de politie, negeren van een rood kruis, of op de snelweg onterecht de vluchtstrook gebruiken. Eerst kwamen dit soort overtreders er met een standaardboete vanaf, maar nu komen dit soort zaken ook voor de rechter, zodat de veelpleger uit de anonimiteit wordt gehaald en eerder bekend is bij politie en justitie.</p><p>De wegenbelasting gaat in veel provincies omhoog. Bovenop een basisbedrag dat in het hele land geldt, verschilt het per provincie hoeveel je daarbovenop nog moet betalen.</p><h2> Nieuwe borden</h2><p>En bestudeer ook even de veertien nieuwe verkeersborden die je vanaf vandaag langs de weg kunt zien. Minister Schultz van Infrastructuur en Milieu wil duidelijker maken waar trams, bussen, tractoren en vrachtwagens wel en niet mogen rijden.</p><p>De minister wil met de nieuwe borden ook het aantal files achter landbouwvoertuigen verminderen.</p><h2>Snelrecht</h2><p>Mensen die hulpdiensten of bushokjes in elkaar trappen worden ook sneller aangepakt. Agressie of geweld tegen politieagenten, ambulancepersoneel of leraren wordt dus sneller en strenger bestraft.</p><p>Vanaf dit jaar kan de politie een overtreder langer vasthouden zodat hij niet op vrije voeten is voordat de snelrechtzitting er is. Dat is binnen 17 dagen.</p><p>Gezondheid</p><p>Het eigen risico is weer verhoogd, naar 375 euro. De eerste 375 euro aan zorgkosten betaal je dus zelf. Het is een verhoging van 15 euro ten opzichte van 2014.</p><p>Wil je baas in eigen buik zijn en een spiraaltje laten plaatsen? Het kan best zijn dat je daar meer voor moet betalen. Huisartsen krijgen dit jaar minder vergoed voor het plaatsen van het spiraaltje: van 55 euro naar 18 euro. Dat vinden huisartsen niet genoeg en ze waarschuwen ervoor dat patiënten dan vaker naar het ziekenhuis doorverwezen zullen worden. Huisartsen en zorgverzekeringen zijn hierover nog in gesprek.</p><p>De tandarts wordt goedkoper. Heb je niets aan als je nu naar de tandarts moet, de maximale tarieven gaan per 1 juli in. De tarieven gaan met 5 procent omlaag. Controles, het vullen van een gaatje of het trekken van een kies wordt dus goedkoper. Het maximale tarief voor het plaatsen van implantaten gaat zelfs 100 euro (19 procent) omlaag.</p><p>Verder</p><p>Betalen met je Chipknip? Hoeft niet meer en kan ook niet meer. Als er nog geld op staat, wordt dat op je rekening teruggestort.</p><p>Ook Tele2 gaat over op 4G. Voorlopig alleen in de Randstad, eind maart 2016 wil het bedrijf landelijke dekking hebben.</p><p>Ajax heeft een nieuwe naam op het shirt. Ziggo vervangt Aegon als hoofdsponsor en zal nu dus naast de Ziggo Dome ook de naastgelegen ArenA als thuisbasis voor de merknaam hebben. Het bedrijf betaalt 8 miljoen euro per jaar aan de Amsterdamse club. Als ze goed presteren, komt daar nog 2 miljoen per jaar bij. Het contract loopt door tot in de zomer van 2019.</p><p>En: je kan de Mount Everest beklimmen voor 11.000 dollar. Dat was 25.000 dollar. En de hoogste berg ter wereld wordt beter bereikbaar: binnenkort hoef je niet meer per vliegtuig de bergen in, Nepal gaat de eerste autoweg naar de Mount Everest aanleggen. Dat betekent ook minder kosten.</p>"
        ],
        [
         "1992",
         "nos",
         "https://nos.nl/artikel/2011411-manchester-united-niet-voorbij-stoke-city",
         "article",
         "Manchester United niet voorbij Stoke City",
         "Manchester United, Radamel Falcao, Erik Pieters, voetbal, Louis van Gaal",
         "Voetbal",
         "De ploeg van Louis van Gaal bleef teleurstellend steken op 1-1 bij de nummer elf van de Premier League.",
         "2015-01-01 15:37:23",
         "2015-01-01 15:37:23",
         "https://cdn.nos.nl/image/2015/01/01/48965/1200x675.jpg",
         "<h1>Manchester United niet voorbij Stoke City</h1><p>Manchester United is er niet in geslaagd om de eerste wedstrijd van 2015 te winnen. Louis van Gaal zag zijn ploeg in de uitwedstrijd tegen Stoke City, in het Britannia-stadium waar de straffe wind vrij spel had, niet verder komen dan 1-1.</p><p>Stoke City, met Erik Pieters in de basis, kwam al na twee minuten op voorsprong. Peter Crouch kopte de bal na een hoekschop voor de voeten van aanvoerder Ryan Shawcross, die attent binnenschoot. Na een kwartier liet Mame Biram Diouf na om er 2-0 van te maken. Hij troefde United-verdediger Jonny Evans af, maar schoot oog in oog met doelman David de Gea hopeloos naast.</p><p>United slaagde er niet in de controle in handen te krijgen, maar kwam wel langszij door een goal van Radamel Falcao. Een hoekschop van Wayne Rooney werd verlengd door Michael Carrick, waarna de Colombiaan op de juiste plek stond voor de gelijkmaker.</p><h2>Aantrekkelijke tweede helft</h2><p>De tweede helft kwam moeizaam op gang, maar na een kwartier brandde het duel los. Het spel golfde op en neer en de kansen volgden elkaar in rap tempo op. Zo claimde Stoke City een penalty, waar het na een handsbal van Chris Smalling ook recht op had, maar de scheidsrechter wuifde het weg.</p><p>Twee minuten later kreeg de tot dan toe onzichtbare Robin van Persie zijn eerste kans. Hij controleerde de bal goed, maar zijn schot ging net naast. Even later kopte Crouch de bal namens Stoke op de paal. De laatste goede kans was weer voor Van Persie, maar hij tikte een voorzet van invaller Adnan Januzaj net naast.</p><p>Door het gelijkspel blijft Manchester United derde in de Premier League. Stadgenoot City en koploper Chelsea hebben later vandaag de kans om verder uit te lopen in de titelstrijd. Manchester City speelt thuis tegen Sunderland, Chelsea moet op bezoek bij Tottenham Hotspur.</p>"
        ],
        [
         "1993",
         "nos",
         "https://nos.nl/artikel/2011412-rampveerboot-op-weg-naar-italiaanse-haven",
         "article",
         "Rampveerboot op weg naar Italiaanse haven",
         "ferry, Adriatische Zee, vermistend, dodena, ramp",
         "Buitenland",
         "Eerder lukte het vanwege slechte weersomstandigheden niet om de Norman Atlantic op sleeptouw te nemen. ",
         "2015-01-01 15:51:38",
         "2015-01-01 15:51:38",
         "https://cdn.nos.nl/image/2015/01/01/48969/1200x675.jpg",
         "<h1>Rampveerboot op weg naar Italiaanse haven</h1><p>De rampveerboot Norman Atlantic is onderweg naar de Italiaanse havenstad Brindisi, onder begeleiding van twee sleepboten. De boten worden daar morgen verwacht.</p><p>Eerder lukte het vanwege slechte weersomstandigheden op de Adriatische Zee niet om de ferry op sleeptouw te nemen. Gisteren kwam er nog rook uit de veerboot, waarschijnlijk door smeulende auto's en banden op een autodek.</p><h2>Bijna honderd vermisten</h2><p>Op de veerboot brak zondagochtend brand uit toen die onderweg was van Patras in Griekenland naar Ancona in Italië. Opvarenden zaten urenlang in de kou op het dek van het schip te wachten op hulp. Velen zijn met Italiaanse reddingshelikopters van boord gehaald.</p><p>Het is nog steeds niet duidelijk hoeveel mensen zijn omgekomen bij de brand. Er worden nog 98 mensen vermist en het is geheel onbekend wat er met hen is gebeurd. Van velen staat niet eens vast of zij wel aan boord zijn gegaan van de veerboot.</p><h2>Niet goed gespeld</h2><p>Honderden mensen zijn gered, maar hoeveel precies is onduidelijk, zegt de Italiaanse officier van justitie Volpe die het onderzoek naar de ramp met de Norman Atlantic leidt. Zeker elf opvarenden kwamen om het leven. Ook twee Albanese zeelui vonden de dood toen een sleepkabel van de veerboot losschoot.</p><p>Eerder werd bekend dat de officiële passagierslijst 478 mensen telt. Maar tientallen geredde mensen staan daar niet op.</p><p>De Griekse autoriteiten willen nog niet bekendmaken hoeveel Grieken er precies zijn gered. Op de lijst met namen die ze van Italië hebben gekregen, staan sommige namen twee keer, zeggen ze, en andere namen zijn niet goed gespeld.</p><h2>Lichamen van opvarenden</h2><p>Volgens Volpe is het belangrijk dat de ferry naar Italië wordt gesleept om te zien of er nog lichamen van opvarenden aan boord zijn en om de oorzaak van de brand te achterhalen. De Italiaanse kapitein is gisteren meer dan vijf uur verhoord.</p>"
        ],
        [
         "1994",
         "nos",
         "https://nos.nl/artikel/2011414-van-der-haar-tweede-achter-van-aert",
         "article",
         "Van der Haar tweede achter Van Aert",
         "Lars van der Haar, Wout van Aert, Bpost Bank Trofee",
         "Veldrijden",
         "De Belg Wout van Aert heeft een dubbelslag geslagen in de veldrit van Baal. Door zijn zege pakt hij de eindzege in de Bpost Bank Trofee.",
         "2015-01-01 16:19:26",
         "2015-01-01 16:19:26",
         "https://cdn.nos.nl/image/2015/01/01/48973/1200x675.jpg",
         "<h1>Van der Haar tweede achter Van Aert</h1><p>Wout van Aert heeft met groot vertoon van macht de Bpost Bank Trofee in de wacht gesleept. De twintigjarige Belg was in de voorlaatste veldrit, de GP Sven Nys, veruit de beste en is nu niet meer in te halen in het klassement.</p><p>Van Aert reed met nog vier ronden voor de boeg samen met Tom Meeusen weg uit een kopgroep van vijf man. Zijn doel was om minimaal 0.15 te pakken op Meeusen, Kevin Pauwels en Nys (de naamgever van de race in Baal) en daarmee verzekerd te zijn van de eindzege. Daarin slaagde hij met glans.</p><p>Van Aert loste Meeusen met gemak en koerste naar de dagzege. De Nederlander Lars van der Haar, die dinsdag de veldrit in Loenhout nog aan zich voorbij liet gaan vanwege een verkoudheid, kwam via een opmars in de laatste ronden toch nog als tweede over de finish, op 0.45 van Van Aert.</p>"
        ],
        [
         "1995",
         "nos",
         "https://nos.nl/artikel/2011415-jacobsen-wint-in-garmisch-partenkirchen",
         "article",
         "Jacobsen wint in Garmisch-Partenkirchen",
         "Vierschansentournee, Schansspringen, Anders Jacobsen",
         "Skispringen",
         "De Noor liet in de tweede wedstrijd van de Vierschansentournee Simon Ammann en Peter Prevc achter zich.",
         "2015-01-01 16:25:13",
         "2015-01-01 16:25:13",
         "https://cdn.nos.nl/image/2015/01/01/48976/1200x675.jpg",
         "<h1>Jacobsen wint in Garmisch-Partenkirchen</h1><p>Schansspringer Anders Jacobsen heeft voor de tweede keer de wedstrijd in Garmisch-Partenkirchen gewonnen. De Noor hield in de tweede wedstrijd van de 63ste Vierschansentournee Simon Ammann en Peter Prevc achter zich.</p><p>Voormalig loodgieter Jacobsen werd in 2007 met 21 jaar de jongste winnaar van de tournee en was in 2013 ook al eens de winnaar in het Zuid-Duitse skioord.</p><p>In de eerste ronde nam Jacobsen met een sprong van 135,5 meter de leiding. In de tweede ronde stelde hij de zege veilig met een afstand van 136,0 meter. Ammann, in 2011 de winnaar op Nieuwjaarsdag, sprong 138,0 en 133,0 meter.</p><h2>Kraft behoudt leiding</h2><p>Gregor Schlierenzauer liet met 139,5 meter de verste sprong van de dag noteren. De Oostenrijker, die vier meter van het schansrecord van Ammann verwijderd bleef, eindigde als vierde.</p><p>De Oostenrijker Stefan Kraft werd zesde en behield de leiding in het klassement van de Vierschansentournee. Hij won eerder de wedstrijd in Oberstdorf.</p>"
        ],
        [
         "1996",
         "nos",
         "https://nos.nl/artikel/2011416-schietpartij-amsterdam-noord-was-liquidatie",
         "article",
         "Schietpartij Amsterdam-Noord was liquidatie",
         "moord, liquidatie, afrekening",
         "Binnenland",
         "De 44-jarige man was een bekende van de politie. Hij werd gisteren beschoten in zijn auto.",
         "2015-01-01 16:52:37",
         "2015-01-01 16:52:37",
         "https://cdn.nos.nl/image/2015/01/01/48984/1200x675.jpg",
         "<h1>Schietpartij Amsterdam-Noord was liquidatie</h1><p>De 44-jarige man die gisteren werd doodgeschoten in Amsterdam-Noord, is een bekende van de politie. Zijn dood was het gevolg van een liquidatie.</p><p>Het slachtoffer zat in zijn auto toen hij werd beschoten op het Tussendek in Amsterdam-Noord. Hij raakte zwaargewond en overleed later in het ziekenhuis.</p><p>De politie roept getuigen op om zich te melden.</p>"
        ],
        [
         "1997",
         "nos",
         "https://nos.nl/artikel/2011417-franse-econoom-piketty-weigert-legion-d-honneur",
         "article",
         "Franse econoom Piketty weigert Légion d'honneur",
         "onderscheiding, econoom, auteur, Piketty",
         "Buitenland",
         "De bestsellerauteur vindt dat het niet aan de regering is om te bepalen wie eer verdient. ",
         "2015-01-01 17:20:38",
         "2015-01-01 17:20:38",
         "https://cdn.nos.nl/image/2015/01/01/48982/1200x675.jpg",
         "<h1>Franse econoom Piketty weigert Légion d'honneur</h1><p>De invloedrijke Franse econoom Thomas Piketty weigert de hoogste Franse onderscheiding, de Légion d'honneur, uit protest tegen de socialistische regering. Hij vindt dat het niet aan de overheid is om te bepalen wie eer verdient. \"Ze kunnen zich beter concentreren op het aanzwengelen van de economie in Frankrijk en Europa.\" </p><p>De Franse autoriteiten publiceerden gisteren lijsten met namen van mensen die de onderscheiding dit jaar krijgen. Piketty is voorgedragen als ridder in het Legioen van Eer. Hij schreef het populaire boek Kapitaal in de 21ste eeuw, over kapitaal en ongelijkheid. Daarvan zijn ruim 1,5 miljoen exemplaren verkocht.</p><h2>Arm en rijk</h2><p>Piketty was in het verleden nauw verbonden met de Socialistische Partij van president François Hollande, maar inmiddels heeft hij afstand genomen van het beleid van het staatshoofd. \"De mate waarin de president zijn economisch beleid improviseert, is verbijsterend\", zei Piketty in 2014 tegen de Franse krant Le Monde.</p><p>Piketty bezocht vorige maand de Nederlandse Tweede Kamer om over de ideeën uit zijn boek te praten. Volgens hem wordt het verschil tussen arm en rijk steeds groter als politici niets doen.</p><h2>Nobelprijs</h2><p>Op de Franse lijst met genomineerden staan verder onder anderen schrijver Patrick Modiano, winnaar van de Nobelprijs voor de Literatuur dit jaar, actrice Mimie Mathy en een Franse verpleegkundige van Artsen zonder Grenzen die ebola had en genezen is.</p>"
        ]
       ],
       "shape": {
        "columns": 11,
        "rows": 295259
       }
      },
      "text/html": [
       "<div>\n",
       "<style scoped>\n",
       "    .dataframe tbody tr th:only-of-type {\n",
       "        vertical-align: middle;\n",
       "    }\n",
       "\n",
       "    .dataframe tbody tr th {\n",
       "        vertical-align: top;\n",
       "    }\n",
       "\n",
       "    .dataframe thead th {\n",
       "        text-align: right;\n",
       "    }\n",
       "</style>\n",
       "<table border=\"1\" class=\"dataframe\">\n",
       "  <thead>\n",
       "    <tr style=\"text-align: right;\">\n",
       "      <th></th>\n",
       "      <th>channel</th>\n",
       "      <th>url</th>\n",
       "      <th>type</th>\n",
       "      <th>title</th>\n",
       "      <th>keywords</th>\n",
       "      <th>section</th>\n",
       "      <th>description</th>\n",
       "      <th>published_time</th>\n",
       "      <th>modified_time</th>\n",
       "      <th>image</th>\n",
       "      <th>content</th>\n",
       "    </tr>\n",
       "  </thead>\n",
       "  <tbody>\n",
       "    <tr>\n",
       "      <th>1948</th>\n",
       "      <td>nos</td>\n",
       "      <td>https://nos.nl/artikel/2011341-euro-nu-ook-in-...</td>\n",
       "      <td>article</td>\n",
       "      <td>Euro nu ook in Litouwen</td>\n",
       "      <td>eurozone</td>\n",
       "      <td>Economie</td>\n",
       "      <td>Vanaf vandaag betalen ze in Litouwen met de eu...</td>\n",
       "      <td>2015-01-01 00:32:52</td>\n",
       "      <td>2015-01-01 00:32:52</td>\n",
       "      <td>https://cdn.nos.nl/image/2015/01/01/48809/1200...</td>\n",
       "      <td>&lt;h1&gt;Euro nu ook in Litouwen&lt;/h1&gt;&lt;p&gt;In Litouwen...</td>\n",
       "    </tr>\n",
       "    <tr>\n",
       "      <th>1949</th>\n",
       "      <td>nos</td>\n",
       "      <td>https://nos.nl/artikel/2011343-start-2015-vol-...</td>\n",
       "      <td>article</td>\n",
       "      <td>Start 2015 vol vreugde maar ook met gewonden e...</td>\n",
       "      <td>oud en nieuw</td>\n",
       "      <td>Binnenland</td>\n",
       "      <td>Nederland is met oliebollen en vuurwerk het ni...</td>\n",
       "      <td>2015-01-01 01:05:57</td>\n",
       "      <td>2015-01-01 07:18:23</td>\n",
       "      <td>https://cdn.nos.nl/image/2015/01/01/48853/1200...</td>\n",
       "      <td>&lt;h1&gt;Start 2015 vol vreugde maar ook met gewond...</td>\n",
       "    </tr>\n",
       "    <tr>\n",
       "      <th>1950</th>\n",
       "      <td>nos</td>\n",
       "      <td>https://nos.nl/artikel/2011346-letland-nieuwe-...</td>\n",
       "      <td>article</td>\n",
       "      <td>Letland nieuwe voorzitter van de Europese Unie</td>\n",
       "      <td>EU-voorzitter, Italië, EU, Letland</td>\n",
       "      <td>Buitenland</td>\n",
       "      <td>Vanaf vandaag neemt Letland het stokje over va...</td>\n",
       "      <td>2015-01-01 02:32:34</td>\n",
       "      <td>2015-01-01 02:32:34</td>\n",
       "      <td>https://cdn.nos.nl/image/2015/01/01/48818/1200...</td>\n",
       "      <td>&lt;h1&gt;Letland nieuwe voorzitter van de Europese ...</td>\n",
       "    </tr>\n",
       "    <tr>\n",
       "      <th>1951</th>\n",
       "      <td>nos</td>\n",
       "      <td>https://nos.nl/artikel/2011348-noord-korea-wil...</td>\n",
       "      <td>article</td>\n",
       "      <td>Noord-Korea wil praten met Zuid-Korea</td>\n",
       "      <td>kim jong un, Noord-Korea, Zuid-Korea</td>\n",
       "      <td>Buitenland</td>\n",
       "      <td>De Noord-Koreaanse leider Kim Jong-un zei in z...</td>\n",
       "      <td>2015-01-01 03:34:25</td>\n",
       "      <td>2015-01-01 03:34:25</td>\n",
       "      <td>https://cdn.nos.nl/image/2014/12/24/42888/1200...</td>\n",
       "      <td>&lt;h1&gt;Noord-Korea wil praten met Zuid-Korea&lt;/h1&gt;...</td>\n",
       "    </tr>\n",
       "    <tr>\n",
       "      <th>1952</th>\n",
       "      <td>nos</td>\n",
       "      <td>https://nos.nl/artikel/2011351-feest-in-londen...</td>\n",
       "      <td>article</td>\n",
       "      <td>Feest in Londen, Parijs en Berlijn</td>\n",
       "      <td>jaarwisseling</td>\n",
       "      <td>Buitenland</td>\n",
       "      <td>In Londen en Berlijn waren muziekfestivals. Pa...</td>\n",
       "      <td>2015-01-01 04:34:20</td>\n",
       "      <td>2015-01-01 04:34:20</td>\n",
       "      <td>https://cdn.nos.nl/image/2015/01/01/48846/1200...</td>\n",
       "      <td>&lt;h1&gt;Feest in Londen, Parijs en Berlijn&lt;/h1&gt;&lt;p&gt;...</td>\n",
       "    </tr>\n",
       "    <tr>\n",
       "      <th>...</th>\n",
       "      <td>...</td>\n",
       "      <td>...</td>\n",
       "      <td>...</td>\n",
       "      <td>...</td>\n",
       "      <td>...</td>\n",
       "      <td>...</td>\n",
       "      <td>...</td>\n",
       "      <td>...</td>\n",
       "      <td>...</td>\n",
       "      <td>...</td>\n",
       "      <td>...</td>\n",
       "    </tr>\n",
       "    <tr>\n",
       "      <th>1928</th>\n",
       "      <td>nos</td>\n",
       "      <td>https://nos.nl/l/2561877</td>\n",
       "      <td>article</td>\n",
       "      <td>Gorré kijkt terug op historische prestatie met...</td>\n",
       "      <td>voetbal, Suriname, Natio</td>\n",
       "      <td>Voetbal</td>\n",
       "      <td>Dean Gorré leidde het voetbalteam van Suriname...</td>\n",
       "      <td>2025-03-31 22:27:34</td>\n",
       "      <td>2025-03-31 22:27:34</td>\n",
       "      <td>https://cdn.nos.nl/image/2025/03/31/1209242/10...</td>\n",
       "      <td>&lt;h1&gt;Gorré kijkt terug op historische prestatie...</td>\n",
       "    </tr>\n",
       "    <tr>\n",
       "      <th>1929</th>\n",
       "      <td>nos</td>\n",
       "      <td>https://nos.nl/l/2561881</td>\n",
       "      <td>article</td>\n",
       "      <td>Rode Kruis woedend over doden hulpverleners in...</td>\n",
       "      <td>hulpverleners, Rafah, Gaza</td>\n",
       "      <td>Buitenland</td>\n",
       "      <td>Gisteren werden de lichamen van vijftien hulpv...</td>\n",
       "      <td>2025-03-31 22:30:12</td>\n",
       "      <td>2025-03-31 22:30:12</td>\n",
       "      <td>https://cdn.nos.nl/image/2025/03/31/1209248/10...</td>\n",
       "      <td>&lt;h1&gt;Rode Kruis woedend over doden hulpverlener...</td>\n",
       "    </tr>\n",
       "    <tr>\n",
       "      <th>1930</th>\n",
       "      <td>nos</td>\n",
       "      <td>https://nos.nl/l/2561883</td>\n",
       "      <td>article</td>\n",
       "      <td>Politie doet inval in Enschede in zoektocht na...</td>\n",
       "      <td>ontvoering, Amber Alert, politie, Enschede, Da...</td>\n",
       "      <td>Regionaal nieuws</td>\n",
       "      <td>Buurtbewoners zeggen dat de politie onderzoek ...</td>\n",
       "      <td>2025-03-31 23:01:55</td>\n",
       "      <td>2025-03-31 23:01:55</td>\n",
       "      <td>https://cdn.nos.nl/image/2025/03/31/1209252/10...</td>\n",
       "      <td>&lt;h1&gt;Politie doet inval in Enschede in zoektoch...</td>\n",
       "    </tr>\n",
       "    <tr>\n",
       "      <th>1931</th>\n",
       "      <td>nos</td>\n",
       "      <td>https://nos.nl/l/2561884</td>\n",
       "      <td>article</td>\n",
       "      <td>Meerdere voertuigen over de kop op snelweg bij...</td>\n",
       "      <td>A50, ongeluk, Vaassen, Epe, Zwolle</td>\n",
       "      <td>Binnenland</td>\n",
       "      <td>Volgens Omroep Gelderland is er een onbekend a...</td>\n",
       "      <td>2025-03-31 23:28:12</td>\n",
       "      <td>2025-03-31 23:28:12</td>\n",
       "      <td>https://cdn.nos.nl/image/2025/03/31/1209258/10...</td>\n",
       "      <td>&lt;h1&gt;Meerdere voertuigen over de kop op snelweg...</td>\n",
       "    </tr>\n",
       "    <tr>\n",
       "      <th>1932</th>\n",
       "      <td>nos</td>\n",
       "      <td>https://nos.nl/l/2561885</td>\n",
       "      <td>article</td>\n",
       "      <td>Doelman Cillessen ondergaat darmoperatie na ha...</td>\n",
       "      <td>voetb</td>\n",
       "      <td>Voetbal</td>\n",
       "      <td>Doelman Jasper Cillessen is maandagavond per b...</td>\n",
       "      <td>2025-03-31 23:45:01</td>\n",
       "      <td>2025-04-01 10:48:52</td>\n",
       "      <td>https://cdn.nos.nl/image/2025/04/01/1209349/10...</td>\n",
       "      <td>&lt;h1&gt;Doelman Cillessen ondergaat darmoperatie n...</td>\n",
       "    </tr>\n",
       "  </tbody>\n",
       "</table>\n",
       "<p>295259 rows × 11 columns</p>\n",
       "</div>"
      ],
      "text/plain": [
       "     channel                                                url     type  \\\n",
       "1948     nos  https://nos.nl/artikel/2011341-euro-nu-ook-in-...  article   \n",
       "1949     nos  https://nos.nl/artikel/2011343-start-2015-vol-...  article   \n",
       "1950     nos  https://nos.nl/artikel/2011346-letland-nieuwe-...  article   \n",
       "1951     nos  https://nos.nl/artikel/2011348-noord-korea-wil...  article   \n",
       "1952     nos  https://nos.nl/artikel/2011351-feest-in-londen...  article   \n",
       "...      ...                                                ...      ...   \n",
       "1928     nos                           https://nos.nl/l/2561877  article   \n",
       "1929     nos                           https://nos.nl/l/2561881  article   \n",
       "1930     nos                           https://nos.nl/l/2561883  article   \n",
       "1931     nos                           https://nos.nl/l/2561884  article   \n",
       "1932     nos                           https://nos.nl/l/2561885  article   \n",
       "\n",
       "                                                  title  \\\n",
       "1948                            Euro nu ook in Litouwen   \n",
       "1949  Start 2015 vol vreugde maar ook met gewonden e...   \n",
       "1950     Letland nieuwe voorzitter van de Europese Unie   \n",
       "1951              Noord-Korea wil praten met Zuid-Korea   \n",
       "1952                 Feest in Londen, Parijs en Berlijn   \n",
       "...                                                 ...   \n",
       "1928  Gorré kijkt terug op historische prestatie met...   \n",
       "1929  Rode Kruis woedend over doden hulpverleners in...   \n",
       "1930  Politie doet inval in Enschede in zoektocht na...   \n",
       "1931  Meerdere voertuigen over de kop op snelweg bij...   \n",
       "1932  Doelman Cillessen ondergaat darmoperatie na ha...   \n",
       "\n",
       "                                               keywords           section  \\\n",
       "1948                                           eurozone          Economie   \n",
       "1949                                       oud en nieuw        Binnenland   \n",
       "1950                 EU-voorzitter, Italië, EU, Letland        Buitenland   \n",
       "1951               kim jong un, Noord-Korea, Zuid-Korea        Buitenland   \n",
       "1952                                      jaarwisseling        Buitenland   \n",
       "...                                                 ...               ...   \n",
       "1928                           voetbal, Suriname, Natio           Voetbal   \n",
       "1929                         hulpverleners, Rafah, Gaza        Buitenland   \n",
       "1930  ontvoering, Amber Alert, politie, Enschede, Da...  Regionaal nieuws   \n",
       "1931                 A50, ongeluk, Vaassen, Epe, Zwolle        Binnenland   \n",
       "1932                                              voetb           Voetbal   \n",
       "\n",
       "                                            description      published_time  \\\n",
       "1948  Vanaf vandaag betalen ze in Litouwen met de eu... 2015-01-01 00:32:52   \n",
       "1949  Nederland is met oliebollen en vuurwerk het ni... 2015-01-01 01:05:57   \n",
       "1950  Vanaf vandaag neemt Letland het stokje over va... 2015-01-01 02:32:34   \n",
       "1951  De Noord-Koreaanse leider Kim Jong-un zei in z... 2015-01-01 03:34:25   \n",
       "1952  In Londen en Berlijn waren muziekfestivals. Pa... 2015-01-01 04:34:20   \n",
       "...                                                 ...                 ...   \n",
       "1928  Dean Gorré leidde het voetbalteam van Suriname... 2025-03-31 22:27:34   \n",
       "1929  Gisteren werden de lichamen van vijftien hulpv... 2025-03-31 22:30:12   \n",
       "1930  Buurtbewoners zeggen dat de politie onderzoek ... 2025-03-31 23:01:55   \n",
       "1931  Volgens Omroep Gelderland is er een onbekend a... 2025-03-31 23:28:12   \n",
       "1932  Doelman Jasper Cillessen is maandagavond per b... 2025-03-31 23:45:01   \n",
       "\n",
       "            modified_time                                              image  \\\n",
       "1948  2015-01-01 00:32:52  https://cdn.nos.nl/image/2015/01/01/48809/1200...   \n",
       "1949  2015-01-01 07:18:23  https://cdn.nos.nl/image/2015/01/01/48853/1200...   \n",
       "1950  2015-01-01 02:32:34  https://cdn.nos.nl/image/2015/01/01/48818/1200...   \n",
       "1951  2015-01-01 03:34:25  https://cdn.nos.nl/image/2014/12/24/42888/1200...   \n",
       "1952  2015-01-01 04:34:20  https://cdn.nos.nl/image/2015/01/01/48846/1200...   \n",
       "...                   ...                                                ...   \n",
       "1928  2025-03-31 22:27:34  https://cdn.nos.nl/image/2025/03/31/1209242/10...   \n",
       "1929  2025-03-31 22:30:12  https://cdn.nos.nl/image/2025/03/31/1209248/10...   \n",
       "1930  2025-03-31 23:01:55  https://cdn.nos.nl/image/2025/03/31/1209252/10...   \n",
       "1931  2025-03-31 23:28:12  https://cdn.nos.nl/image/2025/03/31/1209258/10...   \n",
       "1932  2025-04-01 10:48:52  https://cdn.nos.nl/image/2025/04/01/1209349/10...   \n",
       "\n",
       "                                                content  \n",
       "1948  <h1>Euro nu ook in Litouwen</h1><p>In Litouwen...  \n",
       "1949  <h1>Start 2015 vol vreugde maar ook met gewond...  \n",
       "1950  <h1>Letland nieuwe voorzitter van de Europese ...  \n",
       "1951  <h1>Noord-Korea wil praten met Zuid-Korea</h1>...  \n",
       "1952  <h1>Feest in Londen, Parijs en Berlijn</h1><p>...  \n",
       "...                                                 ...  \n",
       "1928  <h1>Gorré kijkt terug op historische prestatie...  \n",
       "1929  <h1>Rode Kruis woedend over doden hulpverlener...  \n",
       "1930  <h1>Politie doet inval in Enschede in zoektoch...  \n",
       "1931  <h1>Meerdere voertuigen over de kop op snelweg...  \n",
       "1932  <h1>Doelman Cillessen ondergaat darmoperatie n...  \n",
       "\n",
       "[295259 rows x 11 columns]"
      ]
     },
     "metadata": {},
     "output_type": "display_data"
    }
   ],
   "source": [
    "\n",
    "# Inlezen van feather-bestand vanuit /content\n",
    "df_raw = pd.read_feather(r\"E:\\Nieuw dataset\\Dutch news articles 2015-2025 NOS.nl\\NOS_NL_articles_2015_mar_2025.feather\")\n",
    "\n",
    "# Preview van de kolommen\n",
    "print(df_raw.columns)\n",
    "\n",
    "display(df_raw)\n"
   ]
  },
  {
   "cell_type": "code",
   "execution_count": 4,
   "id": "f3677bd0",
   "metadata": {},
   "outputs": [
    {
     "name": "stdout",
     "output_type": "stream",
     "text": [
      "NOS articles: 285210\n",
      "Nieuwsuur' aricles: 10049\n",
      "liveblogs: 0\n",
      "Number of duplicate rows: 0\n",
      "Missing values per column:\n",
      "channel               0\n",
      "url                   0\n",
      "type                  0\n",
      "title                 0\n",
      "keywords          15473\n",
      "section            5524\n",
      "description           0\n",
      "published_time        0\n",
      "modified_time         0\n",
      "image               101\n",
      "content               0\n",
      "dtype: int64\n"
     ]
    }
   ],
   "source": [
    "# Count the occurrences of specific channels\n",
    "channel_counts = df_raw['channel'].value_counts()\n",
    "\n",
    "# Print counts for 'nos', 'nieuwsuur', and 'liveblogs'\n",
    "print(f\"NOS articles: {channel_counts.get('nos', 0)}\")\n",
    "print(f\"Nieuwsuur' aricles: {channel_counts.get('nieuwsuur', 0)}\")\n",
    "print(f\"liveblogs: {channel_counts.get('liveblog', 0)}\")\n",
    "\n",
    "\n",
    "# Check for duplicates\n",
    "duplicate_count = df_raw.duplicated().sum()\n",
    "print(f\"Number of duplicate rows: {duplicate_count}\")\n",
    "\n",
    "# Check for missing values\n",
    "missing_values = df_raw.isnull().sum()\n",
    "print(\"Missing values per column:\")\n",
    "print(missing_values)"
   ]
  },
  {
   "cell_type": "markdown",
   "id": "19e13ebe",
   "metadata": {},
   "source": [
    "> Pick a random article from the dataframe"
   ]
  },
  {
   "cell_type": "code",
   "execution_count": 5,
   "id": "fd08bfab",
   "metadata": {},
   "outputs": [
    {
     "name": "stdout",
     "output_type": "stream",
     "text": [
      "Title: Vaccineren alleen is niet genoeg om apenpokkenvirus in de kiem te smoren\n",
      "Content: <h1>Vaccineren alleen is niet genoeg om apenpokkenvirus in de kiem te smoren</h1><p>Vaccineren alleen is niet voldoende om het apenpokkenvirus onder controle te krijgen, zeggen de RIVM en de GGD in Amsterdam en Den Haag tegen de NOS.</p><p>Het virus gaat vrijwel exclusief rond onder mannen die geregeld seks hebben met wisselende mannelijke partners. Het wordt voornamelijk doorgegeven tijdens langdurig en intensief huid-op-huid contact tijdens seks.</p><p>Deskundigen adviseren tijdelijk het aantal sekspartners te beperken om de verspreiding van het virus te temperen. Dat beschermt de gezondheid van deze mensen, en houdt de kans zo klein mogelijk dat het virus zich breder verspreidt.</p><p>Zo denken mensen bij de RAI, waar gevaccineerd wordt, over een prik:</p><p>Het RIVM heeft een landelijke lijst met 32.000 mensen opgesteld die veel risico lopen. Het gaat om homoseksuele of transgender mensen die om een hiv-infectie te voorkomen het medicijn PrEP gebruiken, of daarvoor op de wachtlijst staan. Ook mannen die hiv-positief zijn en een deel van de bezoekers van de soa-poli kunnen een vaccin krijgen.</p><p>Het vaccineren kwam de eerste weken moeizaam op gang. \"Door de snelheid waarmee we zijn gestart was er nog geen efficiënt werkproces'', zegt een woordvoerder van GGD Amsterdam. \"Er was geen registratiesysteem, landelijk telefoonnummer of landelijk afsprakensysteem én er waren de vakanties van personeel en genodigden.\" Volgens haar wordt nu snel opgeschaald.</p><h2>Bescherming vaccins onduidelijk</h2><p>Vaccins kunnen niet alles oplossen. \"Vaccinatie is geen wondermiddel\", zegt Marion Koopmans, hoogleraar virologie bij het Erasmus MC en lid van het deskundigenberaad dat het kabinet adviseert over apenpokken. \"Het is onderdeel van een heel pakket waarmee we apenpokken proberen te stoppen. Net als bijvoorbeeld voorlichting, laagdrempelig testen, het informeren van contacten, en het creëren van een bubbel wat betreft seksuele contacten.\"</p><p>Ook RIVM-epidemioloog Susan van den Hof zegt dat meer nodig is dan vaccineren. \"We weten niet precies hoe goed de vaccins beschermen en hoeveel mensen zich laten vaccineren, dus daarom is meer nodig om het aantal besmettingen te beperken.\"</p><p>Minder seksuele contacten is cruciaal, zegt Kai Jonas, hoogleraar sociale psychologie aan de universiteit Maastricht, die zich bezighoudt met gezondheid binnen de lhbti+-gemeenschap en onderzoek doet naar apenpokken. \"Eigenlijk moeten we terug naar het advies uit de coronatijd: één vast sekscontact. Losse contacten zijn nu funest.\"</p><h2>'Seksleven is iets fundamenteels'</h2><p>Henry de Vries, bijzonder UvA-hoogleraar met specialisatie in seksueel overdraagbare infecties en tropische huidziekten, onderschrijft het belang van tijdelijke gedragsverandering. De Vries, die ook in het deskundigenberaad zit, voegt daaraan toe dat dit erg lastig is. \"Zeker bij iets fundamenteels als seks. Hoe je seks wil beleven komt deels voort uit jouw identiteit en zelfbeeld. Het is ingewikkeld om seksueel gedrag aan te passen.\"</p><p>De bereidheid tijdelijk af te zien van wisselende sekscontacten lijkt laag. Jonas ondervroeg begin juli 439 homomannen via vragenlijsten voor een niet door vakgenoten beoordeeld onderzoek. \"Acht procent was van plan het aantal sekspartners te verminderen, de overgrote meerderheid was daar onzeker over.\"</p><p>Volgens Jonas moeten campagnes aansturen op gedragsverandering. De Vries is daar al mee begonnen. \"Veel mensen binnen de homogemeenschap willen weten wat ze kunnen doen om besmettingen te voorkomen\", zegt hij. \"Goed voorlichten is dé manier om deze gemeenschap mee te krijgen. Het sluiten van clubs of verbieden van seksfeesten werkt averechts. Dan gaat het ondergronds.\"</p><h2>Vrees voor stigma</h2><p>Hoe minder het virus rondgaat, hoe kleiner de kans dat het zich buiten de huidige kleine risicogroep verspreidt. Bij de GGD houdt men rekening met het scenario dat het virus overspringt van mens op dier. Bijvoorbeeld als een hond in aanraking komt met plekjes op de huid van een besmet baasje. \"Dan zijn we de controle helemaal kwijt\", zegt De Vries. \"Het virus kan zich dan veel gemakkelijker verspreiden.\"</p><p>Als dat gebeurt vreest De Vries dat de homogemeenschap weer zal worden gestigmatiseerd. \"Zo van: we zitten weer met een virus en dat komt door die homo's.\"</p><p>Die vrees leeft ook in de homogemeenschap. Daar klinkt ook de kritiek dat minister Kuipers pas laat besloot de risicogroep te vaccineren.</p><p>\"Begin juli werd bij ons binnen de homogemeenschap al gepraat over dit virus. Bijna iedereen kende iemand die besmet was\", vertelt Danny*, een expat die al jaren in Amsterdam woont. \"Ik merkte toen al dat iedereen binnen de 'community' snel een vaccin wilde krijgen.\"</p><h2>'Waarom moet het maanden duren?'</h2><p>Soa Aids Nederland pleitte eind juni al voor preventief vaccineren. Bijna een maand later, op 21 juli gaf Kuipers de opdracht. Vier dagen later werden de eerste prikken gezet.</p><p>\"Onbegrijpelijk\", vindt Danny \"Met het Milkshake festival en Pride aan de horizon had zo snel mogelijk vaccineren een prioriteit moeten zijn.\"</p><p>Mannen die een prik mogen halen ervaren het tempo van de GGD als traag. \"32.000 man moeten ze prikken\", zegt Berend* \"Tijdens de coronavaccinaties werd dat aantal binnen een paar dagen gedaan. Waarom moet dat nu maanden duren?''</p><p>Het probleem zit volgens de GGD's in het feit dat er geen centrale database is van mensen die PrEP gebruiken en daarom in aanmerking komen voor een vaccin.</p><p>\"Je kunt PrEP krijgen via de huisarts, lokale GGD of sommige HIV behandelcentra\", zegt de woordvoerder van GGD Amsterdam. \"In Amsterdam, waar 10.500 mensen een prik moeten krijgen, kunnen we 300 uitnodigingen per dag versturen. Dit wordt opgeschaald naar 500 per dag. De opbouw van de lijst kost veel tijd, vanwege privacywetgeving en omdat iedereen persoonlijk moet worden uitgenodigd. Daarom kunnen mensen niet uitwijken naar priklocaties elders in het land zoals met corona.\"</p><h2>'Juiste prik in de juiste arm'</h2><p>Tot nu toe komt slechts iets meer dan de helft opdagen, waarschijnlijk omdat veel mensen op vakantie zijn of de uitnodiging hebben gemist. \"We nemen hen mee in een volgende ronde, maar kunnen er weinig aan doen dat de vakantie vertraging veroorzaakt\", zegt de woordvoerder.</p><p>Berend: \"Als er elke dag vaccinaties over zijn kunnen ze best mensen vaccineren die niet op de lijst staan maar zelf aangeven dat ze meer risico lopen.\"</p><p>\"We verspillen geen vaccins hoor. Als we voldoende vaccins zouden hebben, dan zouden we breder vaccineren\", reageert de woordvoerder. \"Maar dat is niet het geval. Daarom houden we vast aan de zeer specifieke groep die het meeste risico loopt. De juiste prik moet in de juiste arm.\"</p><p>* Danny en Berend wilden vanwege privacy-overwegingen niet met hun volledige naam worden genoemd.</p>\n",
      "Published Time: 2022-08-11 17:27:21\n",
      "URL: https://nos.nl/artikel/2440157-vaccineren-alleen-is-niet-genoeg-om-apenpokkenvirus-in-de-kiem-te-smoren\n"
     ]
    }
   ],
   "source": [
    "\n",
    "random_index = random.randint(0, len(df_raw) - 1)\n",
    "\n",
    "# Select the row at the random index and extract the desired columns\n",
    "random_article = df_raw.iloc[random_index][['title', 'content', 'published_time', 'url']]\n",
    "\n",
    "# Print the selected article's title and content\n",
    "print(f\"Title: {random_article['title']}\")\n",
    "print(f\"Content: {random_article['content']}\")\n",
    "print(f\"Published Time: {random_article['published_time']}\")\n",
    "print(f\"URL: {random_article['url']}\")"
   ]
  },
  {
   "cell_type": "markdown",
   "id": "e30e4cd1",
   "metadata": {},
   "source": [
    "Looks good, only content is in HTML format. lets need to clean it up a bit.\n"
   ]
  },
  {
   "cell_type": "markdown",
   "id": "f6ca9dca",
   "metadata": {},
   "source": [
    "## Step 2: Data cleaning \n",
    "- Parse and clean the HTML content\n",
    "- set datetime to yy-mm-dd format\n",
    "- select articles from 2015-01 to 2025-01\n"
   ]
  },
  {
   "cell_type": "markdown",
   "id": "2c254116",
   "metadata": {},
   "source": [
    "#### Parse and clean the HTML content"
   ]
  },
  {
   "cell_type": "markdown",
   "id": "115d211a",
   "metadata": {},
   "source": [
    "####  Convert 'published_time' to datetime"
   ]
  },
  {
   "cell_type": "code",
   "execution_count": 6,
   "id": "5d20be59",
   "metadata": {},
   "outputs": [],
   "source": [
    "# Stap 1: Convert 'published_time' to datetime\n",
    "df_raw['published_time'] = pd.to_datetime(df_raw['published_time'])"
   ]
  },
  {
   "cell_type": "markdown",
   "id": "bea22b8e",
   "metadata": {},
   "source": [
    "#### select artocles from 2015-01 to 2025-01\n"
   ]
  },
  {
   "cell_type": "code",
   "execution_count": 7,
   "id": "ef3eef81",
   "metadata": {},
   "outputs": [],
   "source": [
    "# Stap 2: Filter op datum\n",
    "start_date = '2015-01-01'\n",
    "end_date = '2025-01-31'\n",
    "filtered_df = df_raw[(df_raw['published_time'] >= start_date) & (df_raw['published_time'] <= end_date)].copy()"
   ]
  },
  {
   "cell_type": "code",
   "execution_count": 8,
   "id": "be12920f",
   "metadata": {},
   "outputs": [
    {
     "name": "stdout",
     "output_type": "stream",
     "text": [
      "     published_time\n",
      "1948     2015/01/01\n",
      "1949     2015/01/01\n",
      "1950     2015/01/01\n",
      "1951     2015/01/01\n",
      "1952     2015/01/01\n"
     ]
    }
   ],
   "source": [
    "# Stap 3: Format 'published_time' naar string voor presentatie (yyyy/mm/dd)\n",
    "filtered_df['published_time'] = filtered_df['published_time'].dt.strftime('%Y/%m/%d')\n",
    "\n",
    "# Preview\n",
    "print(filtered_df[['published_time']].head())"
   ]
  },
  {
   "cell_type": "markdown",
   "id": "e9d385c2",
   "metadata": {},
   "source": [
    "#### Parse and clean the HTML content"
   ]
  },
  {
   "cell_type": "code",
   "execution_count": 9,
   "id": "377e1424",
   "metadata": {},
   "outputs": [],
   "source": [
    "\n",
    "# Stap 2: Selecteer relevante kolommen\n",
    "filtered_df = filtered_df[['published_time', 'title', 'description', 'content', 'url', 'channel']]\n",
    "\n",
    "# Stap 3: Clean HTML in 'content'\n",
    "def clean_html(raw_html):\n",
    "    soup = BeautifulSoup(raw_html, 'html.parser')\n",
    "    return soup.get_text(separator=' ', strip=True)\n",
    "\n",
    "filtered_df['content'] = filtered_df['content'].apply(clean_html)"
   ]
  },
  {
   "cell_type": "markdown",
   "id": "54146fbe",
   "metadata": {},
   "source": [
    "####  save as  CSV"
   ]
  },
  {
   "cell_type": "code",
   "execution_count": 10,
   "id": "d134aa42",
   "metadata": {},
   "outputs": [
    {
     "name": "stdout",
     "output_type": "stream",
     "text": [
      "Dataset saved: E:\\Nieuw dataset\\Dutch news articles 2015-2025 NOS.nl\\articles_cleaned.csv\n"
     ]
    }
   ],
   "source": [
    "# Stap 4: Opslaan als CSV\n",
    "output_path = r\"E:\\Nieuw dataset\\Dutch news articles 2015-2025 NOS.nl\\articles_cleaned.csv\"\n",
    "filtered_df.to_csv(output_path, index=False, encoding='utf-8-sig')\n",
    "\n",
    "print(f\"Dataset saved: {output_path}\")"
   ]
  },
  {
   "cell_type": "markdown",
   "id": "07b4282d",
   "metadata": {},
   "source": [
    "#### Start with new CSV"
   ]
  },
  {
   "cell_type": "code",
   "execution_count": 2,
   "id": "5a3a6d35",
   "metadata": {},
   "outputs": [
    {
     "data": {
      "application/vnd.microsoft.datawrangler.viewer.v0+json": {
       "columns": [
        {
         "name": "index",
         "rawType": "int64",
         "type": "integer"
        },
        {
         "name": "published_time",
         "rawType": "object",
         "type": "string"
        },
        {
         "name": "title",
         "rawType": "object",
         "type": "string"
        },
        {
         "name": "description",
         "rawType": "object",
         "type": "string"
        },
        {
         "name": "content",
         "rawType": "object",
         "type": "string"
        },
        {
         "name": "url",
         "rawType": "object",
         "type": "string"
        },
        {
         "name": "channel",
         "rawType": "object",
         "type": "string"
        }
       ],
       "conversionMethod": "pd.DataFrame",
       "ref": "c5556a7e-7553-43d0-a81c-8ab0a47ed783",
       "rows": [
        [
         "0",
         "2015/01/01",
         "Euro nu ook in Litouwen",
         "Vanaf vandaag betalen ze in Litouwen met de euro. Alle Baltische landen hebben nu de Europese munt.",
         "Euro nu ook in Litouwen In Litouwen wordt vanaf vandaag betaald met de euro in plaats van met de litas. Hiermee is Litouwen het 19e land dat toetreedt tot de eurozone en de laatste Baltische staat die zich bij de munteenheid voegt. Estland en Letland traden al eerder toe, in 2011 en 2014. President Dalia Grybauskaite zei gisteren: \"We zijn trots dat we aan alle voorwaarden van het Verdrag van Maastricht voldoen; dat onze economie sterk genoeg is.\" Het land, dat zich de laatste jaren economisch sterk ontwikkelde, heeft geleden onder de krimp van de Russische economie. De hoop is dat de toetreding tot de euro de handel goed zal doen. Politiek gevoelig Daarnaast refereerde de president aan de politieke betekenis van de stap: \"Behalve financiële zekerheid biedt de toetreding ook politieke zekerheid. Met de euro kunnen we populisme vermijden. Het is het sluitstuk van de terugkeer naar onze Europese familie.\" De Baltische staten liggen in een politiek gevoelige regio, grenzend aan Polen en Wit-Rusland. Ze zijn daarmee volop betrokken bij de spanningen rond Oekraïne. Onrust Maar in Litouwen heerst ook onrust over de toetreding. Veel mensen zijn bang dat de euro tot hogere prijzen zal leiden. Litouwen is het grootste land van de drie Baltische staten, met een bevolking van 3,5 miljoen mensen. Sinds 2004 is het lid van de Europese Unie. Eurozonelanden(per toetredingsjaar) 2002 België Duitsland Frankrijk Finland Griekenland Ierland Italië Luxemburg Nederland Oostenrijk Portugal  Spanje 2007 Slovenië 2008 Cyprus Malta 2009 Slowakije 2011 Estland 2014 Letland 2015",
         "https://nos.nl/artikel/2011341-euro-nu-ook-in-litouwen",
         "nos"
        ],
        [
         "1",
         "2015/01/01",
         "Start 2015 vol vreugde maar ook met gewonden en inzet ME",
         "Nederland is met oliebollen en vuurwerk het nieuwe jaar ingegaan, maar niet overal was de jaarwisseling een feest.",
         "Start 2015 vol vreugde maar ook met gewonden en inzet ME Nederland is met vuurwerk en oliebollen het nieuwe jaar ingegaan. Bij het Nationale Aftelmoment bij het Scheepvaartmuseum in Amsterdam waren tienduizenden mensen aanwezig. In Rotterdam keken 40.000 mensen naar het vuurwerk dat bij de Erasmusbrug werd afgestoken. De ME is in Nijmegen twee keer in actie gekomen omdat omstanders bij vreugdevuren de brandweer bekogelden. In Utrecht trad de ME op tegen jongeren die agenten bekogelden in de wijk Hoograven. De ME trad ook op in Culemborg, waar iemand is aangehouden. Ook daar werden de hulpdiensten gehinderd bij het blussen van een brand. Baby uit brandend huis In Tilburg hebben buurtbewoners een baby en twee volwassenen uit een brandend huis gehaald. De brand was ontstaan in de meterkast. De baby en vier andere mensen zijn voor controle naar het ziekenhuis gebracht. In Veen is de jaarwisseling relatief rustig verlopen. Vorig jaar werden er 100 jongeren opgepakt, omdat er auto's in brand werden gestoken. Er was wederom veel politie op de been. Die kon niet voorkomen dat er weer een auto in lichterlaaie werd gezet. In Enschede is een man neergestoken, waarschijnlijk door een buurman. De twee zouden ruzie hebben gekregen. In Zutphen reed iemand in op brandweermensen. De automobilist zou het er niet mee eens zijn geweest dat een straat was afgesloten. Niemand raakte gewond. Gasbrand Sint-Oedenrode Een gasbrand in Sint-Oedenrode bezorgt de brandweer veel werk. De hoofdkraan wordt dichtgedraaid en dat betekent dat ongeveer 350 huishoudens zeker een deel van de ochtend zonder gas komen te zitten. De politie sluit niet uit dat er al sprake was van een gaslek en dat er door vuurwerk brand is ontstaan. In Rotterdam en omgeving zijn tijdens de jaarwisseling verschillende gewonden gevallen bij het afsteken van vuurwerk. Zo raakte een jongen van dertien ernstig gewond aan zijn hand toen vuurwerk ontplofte dat hij net had opgeraapt. In Nieuwkoop (Zuid-Holland) raakte een meisje van 4 gewond toen vuurwerk werd afgestoken. Ze is naar het ziekenhuis gebracht. In Dirksland woedt brand in een loods van 1000 vierkante meter groot. Acht woningen werden ontruimd; de bewoners zijn opgevangen in een nabijgelegen café.",
         "https://nos.nl/artikel/2011343-start-2015-vol-vreugde-maar-ook-met-gewonden-en-inzet-me",
         "nos"
        ],
        [
         "2",
         "2015/01/01",
         "Letland nieuwe voorzitter van de Europese Unie",
         "Vanaf vandaag neemt Letland het stokje over van Italië.",
         "Letland nieuwe voorzitter van de Europese Unie Letland is vanaf vandaag voorzitter van de Europese Unie. Tot 1 juli zal het land de vergaderingen van de Raad van de Europese Unie leiden. Het afgelopen half jaar was Italië voorzitter. Vanaf 1 juli 2015 neemt Luxemburg het stokje over. Daarna, vanaf 1 januari 2016, is Nederland aan de beurt. \"Concurrerend Europa\" De voorzitter van de EU heeft een sturende rol bij het maken van wetten en politiek beleid. Riga moet zich vooral gaan ontfermen over het groeiplan van de voorzitter van de Europese Commissie, Jean-Claude Juncker. Letland zegt zich te willen inzetten voor een \"concurrerend, digitaal en toegewijd Europa\". Letland trad op 1 januari 2014 toe tot de eurozone.",
         "https://nos.nl/artikel/2011346-letland-nieuwe-voorzitter-van-de-europese-unie",
         "nos"
        ],
        [
         "3",
         "2015/01/01",
         "Noord-Korea wil praten met Zuid-Korea",
         "De Noord-Koreaanse leider Kim Jong-un zei in zijn nieuwjaarsboodschap dat hij geen reden ziet niet te praten met het buurland.",
         "Noord-Korea wil praten met Zuid-Korea De Noord-Koreaanse leider Kim Jong-un wil ingaan op de uitnodiging van buurland Zuid-Korea om om de tafel te gaan zitten. In zijn nieuwjaarstoespraak zei hij dat hij geen reden ziet om geen ontmoeting te houden. \"Als de Zuid-Koreaanse autoriteiten oprecht de relatie tussen onze landen willen verbeteren door te gaan praten, dan kunnen we de vastgelopen gesprekken hervatten\", zei hij. Zuid-Korea zei maandag dat het met Noord-Korea wil praten, bijvoorbeeld over de hereniging van families. Bij de scheiding van Noord- en Zuid-Korea zijn veel families elkaar kwijtgeraakt.",
         "https://nos.nl/artikel/2011348-noord-korea-wil-praten-met-zuid-korea",
         "nos"
        ],
        [
         "4",
         "2015/01/01",
         "Feest in Londen, Parijs en Berlijn",
         "In Londen en Berlijn waren muziekfestivals. Parijs vierde de jaarwisseling voor het eerst zonder vuurwerkshow.",
         "Feest in Londen, Parijs en Berlijn In Europa is de jaarwisseling uitbundig gevierd. In Berlijn was traditiegetrouw een van de grootste openluchtfeesten ter wereld, met veel artiesten uit binnen- en buitenland. David Hasselhoff zong er, gekleed in een zwart jack en een t-shirt met een beeltenis van zichzelf, het nummer I've been looking for Freedom. Hij verwees daarmee naar het jubileum van de val van de Muur. Parijs luidde het jaar in met een grote licht- en videoshow bij de Arc de Triomphe. Voor het eerst werd er geen vuurwerk afgestoken. Bij de Champs-Élysées proostten duizenden mensen op het nieuwe jaar. De boulevard was speciaal autovrij gemaakt. In de binnenstad van Londen telden zo'n half miljoen mensen af met de Big Ben. Aan de oever van de Theems was een groot openluchtconcert met een vuurwerkshow. Voor de show moest een toegangskaart worden gekocht, om te voorkomen dat het te druk zou worden. Er kwamen ruim 100.000 mensen op af. Tara MacGowran: @TaraMacG Great fireworks London. Nice work! #littletownthatcould #2015 #LondonNYE http://t.co/hdCSFKsPOK 1:32 1 januari 2015",
         "https://nos.nl/artikel/2011351-feest-in-londen-parijs-en-berlijn",
         "nos"
        ]
       ],
       "shape": {
        "columns": 6,
        "rows": 5
       }
      },
      "text/html": [
       "<div>\n",
       "<style scoped>\n",
       "    .dataframe tbody tr th:only-of-type {\n",
       "        vertical-align: middle;\n",
       "    }\n",
       "\n",
       "    .dataframe tbody tr th {\n",
       "        vertical-align: top;\n",
       "    }\n",
       "\n",
       "    .dataframe thead th {\n",
       "        text-align: right;\n",
       "    }\n",
       "</style>\n",
       "<table border=\"1\" class=\"dataframe\">\n",
       "  <thead>\n",
       "    <tr style=\"text-align: right;\">\n",
       "      <th></th>\n",
       "      <th>published_time</th>\n",
       "      <th>title</th>\n",
       "      <th>description</th>\n",
       "      <th>content</th>\n",
       "      <th>url</th>\n",
       "      <th>channel</th>\n",
       "    </tr>\n",
       "  </thead>\n",
       "  <tbody>\n",
       "    <tr>\n",
       "      <th>0</th>\n",
       "      <td>2015/01/01</td>\n",
       "      <td>Euro nu ook in Litouwen</td>\n",
       "      <td>Vanaf vandaag betalen ze in Litouwen met de eu...</td>\n",
       "      <td>Euro nu ook in Litouwen In Litouwen wordt vana...</td>\n",
       "      <td>https://nos.nl/artikel/2011341-euro-nu-ook-in-...</td>\n",
       "      <td>nos</td>\n",
       "    </tr>\n",
       "    <tr>\n",
       "      <th>1</th>\n",
       "      <td>2015/01/01</td>\n",
       "      <td>Start 2015 vol vreugde maar ook met gewonden e...</td>\n",
       "      <td>Nederland is met oliebollen en vuurwerk het ni...</td>\n",
       "      <td>Start 2015 vol vreugde maar ook met gewonden e...</td>\n",
       "      <td>https://nos.nl/artikel/2011343-start-2015-vol-...</td>\n",
       "      <td>nos</td>\n",
       "    </tr>\n",
       "    <tr>\n",
       "      <th>2</th>\n",
       "      <td>2015/01/01</td>\n",
       "      <td>Letland nieuwe voorzitter van de Europese Unie</td>\n",
       "      <td>Vanaf vandaag neemt Letland het stokje over va...</td>\n",
       "      <td>Letland nieuwe voorzitter van de Europese Unie...</td>\n",
       "      <td>https://nos.nl/artikel/2011346-letland-nieuwe-...</td>\n",
       "      <td>nos</td>\n",
       "    </tr>\n",
       "    <tr>\n",
       "      <th>3</th>\n",
       "      <td>2015/01/01</td>\n",
       "      <td>Noord-Korea wil praten met Zuid-Korea</td>\n",
       "      <td>De Noord-Koreaanse leider Kim Jong-un zei in z...</td>\n",
       "      <td>Noord-Korea wil praten met Zuid-Korea De Noord...</td>\n",
       "      <td>https://nos.nl/artikel/2011348-noord-korea-wil...</td>\n",
       "      <td>nos</td>\n",
       "    </tr>\n",
       "    <tr>\n",
       "      <th>4</th>\n",
       "      <td>2015/01/01</td>\n",
       "      <td>Feest in Londen, Parijs en Berlijn</td>\n",
       "      <td>In Londen en Berlijn waren muziekfestivals. Pa...</td>\n",
       "      <td>Feest in Londen, Parijs en Berlijn In Europa i...</td>\n",
       "      <td>https://nos.nl/artikel/2011351-feest-in-londen...</td>\n",
       "      <td>nos</td>\n",
       "    </tr>\n",
       "  </tbody>\n",
       "</table>\n",
       "</div>"
      ],
      "text/plain": [
       "  published_time                                              title  \\\n",
       "0     2015/01/01                            Euro nu ook in Litouwen   \n",
       "1     2015/01/01  Start 2015 vol vreugde maar ook met gewonden e...   \n",
       "2     2015/01/01     Letland nieuwe voorzitter van de Europese Unie   \n",
       "3     2015/01/01              Noord-Korea wil praten met Zuid-Korea   \n",
       "4     2015/01/01                 Feest in Londen, Parijs en Berlijn   \n",
       "\n",
       "                                         description  \\\n",
       "0  Vanaf vandaag betalen ze in Litouwen met de eu...   \n",
       "1  Nederland is met oliebollen en vuurwerk het ni...   \n",
       "2  Vanaf vandaag neemt Letland het stokje over va...   \n",
       "3  De Noord-Koreaanse leider Kim Jong-un zei in z...   \n",
       "4  In Londen en Berlijn waren muziekfestivals. Pa...   \n",
       "\n",
       "                                             content  \\\n",
       "0  Euro nu ook in Litouwen In Litouwen wordt vana...   \n",
       "1  Start 2015 vol vreugde maar ook met gewonden e...   \n",
       "2  Letland nieuwe voorzitter van de Europese Unie...   \n",
       "3  Noord-Korea wil praten met Zuid-Korea De Noord...   \n",
       "4  Feest in Londen, Parijs en Berlijn In Europa i...   \n",
       "\n",
       "                                                 url channel  \n",
       "0  https://nos.nl/artikel/2011341-euro-nu-ook-in-...     nos  \n",
       "1  https://nos.nl/artikel/2011343-start-2015-vol-...     nos  \n",
       "2  https://nos.nl/artikel/2011346-letland-nieuwe-...     nos  \n",
       "3  https://nos.nl/artikel/2011348-noord-korea-wil...     nos  \n",
       "4  https://nos.nl/artikel/2011351-feest-in-londen...     nos  "
      ]
     },
     "execution_count": 2,
     "metadata": {},
     "output_type": "execute_result"
    }
   ],
   "source": [
    "df_csv = pd.read_csv(r\"E:\\Nieuw dataset\\Dutch news articles 2015-2025 NOS.nl\\articles_cleaned.csv\")\n",
    "df_csv.head()"
   ]
  },
  {
   "cell_type": "code",
   "execution_count": 12,
   "id": "e6a7d6d1",
   "metadata": {},
   "outputs": [
    {
     "name": "stdout",
     "output_type": "stream",
     "text": [
      "Title: Vaccineren alleen is niet genoeg om apenpokkenvirus in de kiem te smoren\n",
      "Content: Vaccineren alleen is niet genoeg om apenpokkenvirus in de kiem te smoren Vaccineren alleen is niet voldoende om het apenpokkenvirus onder controle te krijgen, zeggen de RIVM en de GGD in Amsterdam en Den Haag tegen de NOS. Het virus gaat vrijwel exclusief rond onder mannen die geregeld seks hebben met wisselende mannelijke partners. Het wordt voornamelijk doorgegeven tijdens langdurig en intensief huid-op-huid contact tijdens seks. Deskundigen adviseren tijdelijk het aantal sekspartners te beperken om de verspreiding van het virus te temperen. Dat beschermt de gezondheid van deze mensen, en houdt de kans zo klein mogelijk dat het virus zich breder verspreidt. Zo denken mensen bij de RAI, waar gevaccineerd wordt, over een prik: Het RIVM heeft een landelijke lijst met 32.000 mensen opgesteld die veel risico lopen. Het gaat om homoseksuele of transgender mensen die om een hiv-infectie te voorkomen het medicijn PrEP gebruiken, of daarvoor op de wachtlijst staan. Ook mannen die hiv-positief zijn en een deel van de bezoekers van de soa-poli kunnen een vaccin krijgen. Het vaccineren kwam de eerste weken moeizaam op gang. \"Door de snelheid waarmee we zijn gestart was er nog geen efficiënt werkproces'', zegt een woordvoerder van GGD Amsterdam. \"Er was geen registratiesysteem, landelijk telefoonnummer of landelijk afsprakensysteem én er waren de vakanties van personeel en genodigden.\" Volgens haar wordt nu snel opgeschaald. Bescherming vaccins onduidelijk Vaccins kunnen niet alles oplossen. \"Vaccinatie is geen wondermiddel\", zegt Marion Koopmans, hoogleraar virologie bij het Erasmus MC en lid van het deskundigenberaad dat het kabinet adviseert over apenpokken. \"Het is onderdeel van een heel pakket waarmee we apenpokken proberen te stoppen. Net als bijvoorbeeld voorlichting, laagdrempelig testen, het informeren van contacten, en het creëren van een bubbel wat betreft seksuele contacten.\" Ook RIVM-epidemioloog Susan van den Hof zegt dat meer nodig is dan vaccineren. \"We weten niet precies hoe goed de vaccins beschermen en hoeveel mensen zich laten vaccineren, dus daarom is meer nodig om het aantal besmettingen te beperken.\" Minder seksuele contacten is cruciaal, zegt Kai Jonas, hoogleraar sociale psychologie aan de universiteit Maastricht, die zich bezighoudt met gezondheid binnen de lhbti+-gemeenschap en onderzoek doet naar apenpokken. \"Eigenlijk moeten we terug naar het advies uit de coronatijd: één vast sekscontact. Losse contacten zijn nu funest.\" 'Seksleven is iets fundamenteels' Henry de Vries, bijzonder UvA-hoogleraar met specialisatie in seksueel overdraagbare infecties en tropische huidziekten, onderschrijft het belang van tijdelijke gedragsverandering. De Vries, die ook in het deskundigenberaad zit, voegt daaraan toe dat dit erg lastig is. \"Zeker bij iets fundamenteels als seks. Hoe je seks wil beleven komt deels voort uit jouw identiteit en zelfbeeld. Het is ingewikkeld om seksueel gedrag aan te passen.\" De bereidheid tijdelijk af te zien van wisselende sekscontacten lijkt laag. Jonas ondervroeg begin juli 439 homomannen via vragenlijsten voor een niet door vakgenoten beoordeeld onderzoek. \"Acht procent was van plan het aantal sekspartners te verminderen, de overgrote meerderheid was daar onzeker over.\" Volgens Jonas moeten campagnes aansturen op gedragsverandering. De Vries is daar al mee begonnen. \"Veel mensen binnen de homogemeenschap willen weten wat ze kunnen doen om besmettingen te voorkomen\", zegt hij. \"Goed voorlichten is dé manier om deze gemeenschap mee te krijgen. Het sluiten van clubs of verbieden van seksfeesten werkt averechts. Dan gaat het ondergronds.\" Vrees voor stigma Hoe minder het virus rondgaat, hoe kleiner de kans dat het zich buiten de huidige kleine risicogroep verspreidt. Bij de GGD houdt men rekening met het scenario dat het virus overspringt van mens op dier. Bijvoorbeeld als een hond in aanraking komt met plekjes op de huid van een besmet baasje. \"Dan zijn we de controle helemaal kwijt\", zegt De Vries. \"Het virus kan zich dan veel gemakkelijker verspreiden.\" Als dat gebeurt vreest De Vries dat de homogemeenschap weer zal worden gestigmatiseerd. \"Zo van: we zitten weer met een virus en dat komt door die homo's.\" Die vrees leeft ook in de homogemeenschap. Daar klinkt ook de kritiek dat minister Kuipers pas laat besloot de risicogroep te vaccineren. \"Begin juli werd bij ons binnen de homogemeenschap al gepraat over dit virus. Bijna iedereen kende iemand die besmet was\", vertelt Danny*, een expat die al jaren in Amsterdam woont. \"Ik merkte toen al dat iedereen binnen de 'community' snel een vaccin wilde krijgen.\" 'Waarom moet het maanden duren?' Soa Aids Nederland pleitte eind juni al voor preventief vaccineren. Bijna een maand later, op 21 juli gaf Kuipers de opdracht. Vier dagen later werden de eerste prikken gezet. \"Onbegrijpelijk\", vindt Danny \"Met het Milkshake festival en Pride aan de horizon had zo snel mogelijk vaccineren een prioriteit moeten zijn.\" Mannen die een prik mogen halen ervaren het tempo van de GGD als traag. \"32.000 man moeten ze prikken\", zegt Berend* \"Tijdens de coronavaccinaties werd dat aantal binnen een paar dagen gedaan. Waarom moet dat nu maanden duren?'' Het probleem zit volgens de GGD's in het feit dat er geen centrale database is van mensen die PrEP gebruiken en daarom in aanmerking komen voor een vaccin. \"Je kunt PrEP krijgen via de huisarts, lokale GGD of sommige HIV behandelcentra\", zegt de woordvoerder van GGD Amsterdam. \"In Amsterdam, waar 10.500 mensen een prik moeten krijgen, kunnen we 300 uitnodigingen per dag versturen. Dit wordt opgeschaald naar 500 per dag. De opbouw van de lijst kost veel tijd, vanwege privacywetgeving en omdat iedereen persoonlijk moet worden uitgenodigd. Daarom kunnen mensen niet uitwijken naar priklocaties elders in het land zoals met corona.\" 'Juiste prik in de juiste arm' Tot nu toe komt slechts iets meer dan de helft opdagen, waarschijnlijk omdat veel mensen op vakantie zijn of de uitnodiging hebben gemist. \"We nemen hen mee in een volgende ronde, maar kunnen er weinig aan doen dat de vakantie vertraging veroorzaakt\", zegt de woordvoerder. Berend: \"Als er elke dag vaccinaties over zijn kunnen ze best mensen vaccineren die niet op de lijst staan maar zelf aangeven dat ze meer risico lopen.\" \"We verspillen geen vaccins hoor. Als we voldoende vaccins zouden hebben, dan zouden we breder vaccineren\", reageert de woordvoerder. \"Maar dat is niet het geval. Daarom houden we vast aan de zeer specifieke groep die het meeste risico loopt. De juiste prik moet in de juiste arm.\" * Danny en Berend wilden vanwege privacy-overwegingen niet met hun volledige naam worden genoemd.\n",
      "Published Time: 2022/08/11\n",
      "URL: https://nos.nl/artikel/2440157-vaccineren-alleen-is-niet-genoeg-om-apenpokkenvirus-in-de-kiem-te-smoren\n"
     ]
    }
   ],
   "source": [
    "\n",
    "random_article = df_csv.iloc[random_index][['title', 'content', 'published_time', 'url']]\n",
    "\n",
    "# Print the selected article's title and content\n",
    "print(f\"Title: {random_article['title']}\")\n",
    "print(f\"Content: {random_article['content']}\")\n",
    "print(f\"Published Time: {random_article['published_time']}\")\n",
    "print(f\"URL: {random_article['url']}\")"
   ]
  },
  {
   "cell_type": "code",
   "execution_count": 13,
   "id": "470924f7",
   "metadata": {},
   "outputs": [
    {
     "name": "stdout",
     "output_type": "stream",
     "text": [
      "NOS articles: 281426\n",
      "Nieuwsuur' aricles: 10049\n",
      "liveblogs: 0\n"
     ]
    }
   ],
   "source": [
    "channel_counts = df_csv['channel'].value_counts()\n",
    "\n",
    "# Print counts for 'nos', 'nieuwsuur', and 'liveblogs'\n",
    "print(f\"NOS articles: {channel_counts.get('nos', 0)}\")\n",
    "print(f\"Nieuwsuur' aricles: {channel_counts.get('nieuwsuur', 0)}\")\n",
    "print(f\"liveblogs: {channel_counts.get('liveblog', 0)}\")"
   ]
  },
  {
   "cell_type": "code",
   "execution_count": 15,
   "id": "a8c91f75",
   "metadata": {},
   "outputs": [
    {
     "data": {
      "image/png": "[encoded data removed]",
      "text/plain": [
       "<Figure size 1200x800 with 1 Axes>"
      ]
     },
     "metadata": {},
     "output_type": "display_data"
    }
   ],
   "source": [
    "# # Convert 'published_time' to datetime if not already done\n",
    "# df_csv['published_time'] = pd.to_datetime(df_csv['published_time'], format='%y-%m-%d')\n",
    "\n",
    "# Ensure 'published_time' is in datetime format\n",
    "df_csv['published_time'] = pd.to_datetime(df_csv['published_time'], format='%Y/%m/%d', errors='coerce')\n",
    "\n",
    "# Extract year from 'published_time'\n",
    "df_csv['year'] = df_csv['published_time'].dt.year\n",
    "\n",
    "# Group by year and channel, then count articles\n",
    "articles_per_year = df_csv.groupby(['year', 'channel']).size().unstack(fill_value=0)\n",
    "\n",
    "# Calculate total articles per year\n",
    "articles_per_year['total'] = articles_per_year.sum(axis=1)\n",
    "\n",
    "# Calculate average articles per year\n",
    "average_articles_per_year = articles_per_year['total'].mean()\n",
    "\n",
    "# Plot stacked bar chart with increased y-axis limit\n",
    "plt.figure(figsize=(12, 8))\n",
    "bars_nos = plt.bar(articles_per_year.index, articles_per_year['nos'], color='royalblue', label=\"NOS\", alpha=0.7)\n",
    "bars_nieuwsuur = plt.bar(articles_per_year.index, articles_per_year['nieuwsuur'], bottom=articles_per_year['nos'], color='mediumseagreen', label=\"Nieuwsuur\", alpha=0.7)\n",
    "\n",
    "# Add text labels for total count on top of each bar\n",
    "for i, total in enumerate(articles_per_year['total']):\n",
    "    plt.text(articles_per_year.index[i], total + 5, int(total), ha='center', fontsize=12, fontweight='bold')\n",
    "\n",
    "# Add average line\n",
    "plt.axhline(y=average_articles_per_year, color='black', linestyle='dashed', linewidth=2, label=f'Average ({average_articles_per_year:.2f})')\n",
    "\n",
    "# Labels and title\n",
    "plt.title(\"Yearly Article Counts for NOS and Nieuwsuur\", fontsize=14, fontweight=\"bold\")\n",
    "plt.xlabel(\"Year\", fontsize=12)\n",
    "plt.ylabel(\"Number of Articles\", fontsize=12)\n",
    "plt.xticks(articles_per_year.index, rotation=45, fontsize=12)\n",
    "plt.yticks(fontsize=12)\n",
    "plt.legend(fontsize=12)\n",
    "plt.grid(axis='y', linestyle=\"--\", alpha=0.5)\n",
    "max_total = articles_per_year['total'].max()\n",
    "plt.ylim(0, max_total * 1.1)  # 10% extra margin above the highest point\n",
    "plt.tight_layout()\n",
    "\n",
    "# Show the plot\n",
    "plt.show()\n",
    "\n",
    "# Calculate total articles\n",
    "total_articles = articles_per_year['total'].sum()\n"
   ]
  },
  {
   "cell_type": "code",
   "execution_count": 17,
   "id": "13329f52",
   "metadata": {},
   "outputs": [
    {
     "data": {
      "image/png": "[encoded data removed]",
      "text/plain": [
       "<Figure size 1400x800 with 1 Axes>"
      ]
     },
     "metadata": {},
     "output_type": "display_data"
    }
   ],
   "source": [
    "# Convert 'published_time' to datetime if not already done\n",
    "df_csv['published_time'] = pd.to_datetime(df_csv['published_time'], format='%Y/%m/%d', errors='coerce')\n",
    "\n",
    "# Extract year and month from 'published_time'\n",
    "df_csv['year_month'] = df_csv['published_time'].dt.to_period('M')\n",
    "\n",
    "# Group by year and month, then count articles\n",
    "articles_per_month = df_csv.groupby('year_month').size()\n",
    "\n",
    "# Convert the index back to datetime for plotting\n",
    "articles_per_month.index = articles_per_month.index.to_timestamp()\n",
    "\n",
    "# Plot the line chart\n",
    "plt.figure(figsize=(14, 8))\n",
    "plt.plot(articles_per_month.index, articles_per_month.values, marker='o', color='blue', label='Articles per Month')\n",
    "\n",
    "# Add labels and title\n",
    "plt.title(\"Monthly Article Counts (2015-01 to 2025-01)\", fontsize=14, fontweight=\"bold\")\n",
    "plt.xlabel(\"Month\", fontsize=12)\n",
    "plt.ylabel(\"Number of Articles\", fontsize=12)\n",
    "plt.xticks(rotation=45, fontsize=10)\n",
    "plt.yticks(fontsize=10)\n",
    "plt.grid(axis='y', linestyle=\"--\", alpha=0.5)\n",
    "plt.legend(fontsize=12)\n",
    "plt.tight_layout()\n",
    "\n",
    "# Show the plot\n",
    "plt.show()"
   ]
  },
  {
   "cell_type": "code",
   "execution_count": 16,
   "id": "1cf83b71",
   "metadata": {},
   "outputs": [
    {
     "name": "stdout",
     "output_type": "stream",
     "text": [
      "Average articles per month: 2408.88\n"
     ]
    },
    {
     "name": "stderr",
     "output_type": "stream",
     "text": [
      "C:\\Users\\dylan\\AppData\\Local\\Temp\\ipykernel_14424\\722606589.py:2: FutureWarning: 'M' is deprecated and will be removed in a future version, please use 'ME' instead.\n",
      "  total_months = len(pd.date_range(start=start_date, end=end_date, freq='M'))\n"
     ]
    }
   ],
   "source": [
    "# Calculate the total number of months in the dataset\n",
    "total_months = len(pd.date_range(start=start_date, end=end_date, freq='M'))\n",
    "\n",
    "# Calculate the average articles per month\n",
    "average_articles_per_month = total_articles / total_months\n",
    "\n",
    "print(f\"Average articles per month: {average_articles_per_month:.2f}\")"
   ]
  },
  {
   "cell_type": "markdown",
   "id": "aef6e8d3",
   "metadata": {},
   "source": [
    " ## Jina Embeddings V3"
   ]
  },
  {
   "cell_type": "markdown",
   "id": "3f6a76fc",
   "metadata": {},
   "source": [
    "#### Superkleine batch draaien"
   ]
  },
  {
   "cell_type": "code",
   "execution_count": 3,
   "id": "01bc02e2",
   "metadata": {},
   "outputs": [
    {
     "data": {
      "application/vnd.jupyter.widget-view+json": {
       "model_id": "6bab764ccc9144cd8a01c1f85125d8bb",
       "version_major": 2,
       "version_minor": 0
      },
      "text/plain": [
       "Batches:   0%|          | 0/5 [00:00<?, ?it/s]"
      ]
     },
     "metadata": {},
     "output_type": "display_data"
    },
    {
     "name": "stdout",
     "output_type": "stream",
     "text": [
      "(10, 1024)\n"
     ]
    }
   ],
   "source": [
    "from sentence_transformers import SentenceTransformer\n",
    "\n",
    "# Model laden\n",
    "model = SentenceTransformer(\"jinaai/jina-embeddings-v3\", trust_remote_code=True)\n",
    "\n",
    "# Combineer 'title', 'description' en 'content'\n",
    "df_csv['combined_text'] = df_csv['title'].fillna('') + \". \" + df_csv['description'].fillna('') + \". \" + df_csv['content'].fillna('')\n",
    "\n",
    "# Pak klein batchje (bijv. 5)\n",
    "texts = df_csv['combined_text'].head(10).tolist()\n",
    "\n",
    "# Embeddings genereren zoals eerder\n",
    "embeddings = model.encode(texts, task='retrieval.passage', batch_size=2, show_progress_bar=True)\n",
    "\n",
    "\n",
    "print(embeddings.shape)  # Zou (5, 1024) moeten zijn\n"
   ]
  },
  {
   "cell_type": "markdown",
   "id": "71a45403",
   "metadata": {},
   "source": [
    "####  query toepassen (semantische search)"
   ]
  },
  {
   "cell_type": "code",
   "execution_count": 4,
   "id": "b2c8b694",
   "metadata": {},
   "outputs": [
    {
     "name": "stdout",
     "output_type": "stream",
     "text": [
      "Article 0 similarity: 0.0603\n",
      "Article 1 similarity: 0.1788\n",
      "Article 2 similarity: 0.0938\n",
      "Article 3 similarity: 0.0558\n",
      "Article 4 similarity: 0.1244\n",
      "Article 5 similarity: 0.0219\n",
      "Article 6 similarity: 0.1124\n",
      "Article 7 similarity: 0.3887\n",
      "Article 8 similarity: -0.0333\n",
      "Article 9 similarity: 0.0991\n"
     ]
    }
   ],
   "source": [
    "from sklearn.metrics.pairwise import cosine_similarity\n",
    "\n",
    "# EV gerelateerde query\n",
    "query = \"elektrische auto's\"\n",
    "query_embedding = model.encode(query, task='retrieval.query')\n",
    "\n",
    "# Similarity berekenen met je kleine batch\n",
    "similarities = cosine_similarity([query_embedding], embeddings)[0]\n",
    "\n",
    "# Print similarity scores\n",
    "for idx, score in enumerate(similarities):\n",
    "    print(f\"Article {idx} similarity: {score:.4f}\")\n"
   ]
  },
  {
   "cell_type": "code",
   "execution_count": 5,
   "id": "809e4362",
   "metadata": {},
   "outputs": [
    {
     "name": "stdout",
     "output_type": "stream",
     "text": [
      "\n",
      "Article 7 similarity: 0.3887\n",
      "Title: Verkoop nieuwe auto's stevent af op laagterecord\n",
      "Description: Nederlanders kochten in 2014 opnieuw minder auto's. En die trend zet door, is een van de thema's in de economieserie Ganzenbord.\n",
      "Content (snippet): Verkoop nieuwe auto's stevent af op laagterecord 'Ganzenbord' op NPO Radio 1 is een serie van de NOS. Aan de hand van het ouderwetse Ganzenbordspel blikt de economieredactie terug op de economische ho...\n",
      "\n",
      "Article 1 similarity: 0.1788\n",
      "Title: Start 2015 vol vreugde maar ook met gewonden en inzet ME\n",
      "Description: Nederland is met oliebollen en vuurwerk het nieuwe jaar ingegaan, maar niet overal was de jaarwisseling een feest.\n",
      "Content (snippet): Start 2015 vol vreugde maar ook met gewonden en inzet ME Nederland is met vuurwerk en oliebollen het nieuwe jaar ingegaan. Bij het Nationale Aftelmoment bij het Scheepvaartmuseum in Amsterdam waren ti...\n",
      "\n",
      "Article 4 similarity: 0.1244\n",
      "Title: Feest in Londen, Parijs en Berlijn\n",
      "Description: In Londen en Berlijn waren muziekfestivals. Parijs vierde de jaarwisseling voor het eerst zonder vuurwerkshow.\n",
      "Content (snippet): Feest in Londen, Parijs en Berlijn In Europa is de jaarwisseling uitbundig gevierd. In Berlijn was traditiegetrouw een van de grootste openluchtfeesten ter wereld, met veel artiesten uit binnen- en bu...\n",
      "\n",
      "Article 6 similarity: 0.1124\n",
      "Title: Doden in Duitse Nieuwjaarsnacht\n",
      "Description: Twee mensen kwamen om bij een woningbrand, een derde overleed na een vuurwerkontploffing.\n",
      "Content (snippet): Doden in Duitse Nieuwjaarsnacht In Duitsland zijn in de Nieuwjaarsnacht vier doden gevallen. Bij een woningbrand in de deelstaat Noordrijn-Westfalen kwamen een meisje van 16 en haar opa van 79 om. Een...\n",
      "\n",
      "Article 9 similarity: 0.0991\n",
      "Title: Sloppenwijk Manilla brandt af door rotjes\n",
      "Description: Zo'n 4000 mensen zijn dakloos geworden in de Nieuwjaarsnacht doordat een Filipijnse sloppenwijk is afgebrand.\n",
      "Content (snippet): Sloppenwijk Manilla brandt af door rotjes In de Filipijnen is in de Nieuwjaarsnacht een groot deel van een sloppenwijk in de hoofdstad Manilla in vlammen opgegaan. De brand werd waarschijnlijk veroorz...\n",
      "\n",
      "Article 2 similarity: 0.0938\n",
      "Title: Letland nieuwe voorzitter van de Europese Unie\n",
      "Description: Vanaf vandaag neemt Letland het stokje over van Italië.\n",
      "Content (snippet): Letland nieuwe voorzitter van de Europese Unie Letland is vanaf vandaag voorzitter van de Europese Unie. Tot 1 juli zal het land de vergaderingen van de Raad van de Europese Unie leiden. Het afgelopen...\n",
      "\n",
      "Article 0 similarity: 0.0603\n",
      "Title: Euro nu ook in Litouwen\n",
      "Description: Vanaf vandaag betalen ze in Litouwen met de euro. Alle Baltische landen hebben nu de Europese munt.\n",
      "Content (snippet): Euro nu ook in Litouwen In Litouwen wordt vanaf vandaag betaald met de euro in plaats van met de litas. Hiermee is Litouwen het 19e land dat toetreedt tot de eurozone en de laatste Baltische staat die...\n",
      "\n",
      "Article 3 similarity: 0.0558\n",
      "Title: Noord-Korea wil praten met Zuid-Korea\n",
      "Description: De Noord-Koreaanse leider Kim Jong-un zei in zijn nieuwjaarsboodschap dat hij geen reden ziet niet te praten met het buurland.\n",
      "Content (snippet): Noord-Korea wil praten met Zuid-Korea De Noord-Koreaanse leider Kim Jong-un wil ingaan op de uitnodiging van buurland Zuid-Korea om om de tafel te gaan zitten. In zijn nieuwjaarstoespraak zei hij dat ...\n",
      "\n",
      "Article 5 similarity: 0.0219\n",
      "Title: Ook New York luidt 2015 in\n",
      "Description: Op Times Square waren een miljoen mensen aanwezig om de bal te zien zakken op het dak van Times Square One.\n",
      "Content (snippet): Ook New York luidt 2015 in Ook de Amerikaanse oostkust heeft nu 2015 ingeluid. Op Times Square waren honderdduizenden mensen aanwezig om de bal te zien zakken op het dak van Times Square One, een trad...\n",
      "\n",
      "Article 8 similarity: -0.0333\n",
      "Title: Slecht weer hindert zoektocht AirAsia\n",
      "Description: Duikers staan klaar om een groot object op de zeebodem te onderzoeken, maar de zee is te onstuimig.\n",
      "Content (snippet): Slecht weer hindert zoektocht AirAsia Indonesische duikers hebben nog geen onderzoek kunnen doen op de plek waar mogelijk het wrak van AirAsia vlucht 8501 ligt. Door het slechte weer is duiken onmogel...\n"
     ]
    }
   ],
   "source": [
    "# Combineer indices en scores\n",
    "results = list(enumerate(similarities))\n",
    "# Sorteer op score, hoogste eerst\n",
    "results = sorted(results, key=lambda x: x[1], reverse=True)\n",
    "\n",
    "# Print de gesorteerde resultaten\n",
    "for idx, score in results:\n",
    "    print(f\"\\nArticle {idx} similarity: {score:.4f}\")\n",
    "    print(f\"Title: {df_csv.iloc[idx]['title']}\")\n",
    "    print(f\"Description: {df_csv.iloc[idx]['description']}\")\n",
    "    print(f\"Content (snippet): {df_csv.iloc[idx]['content'][:200]}...\")\n"
   ]
  },
  {
   "cell_type": "code",
   "execution_count": null,
   "id": "3cd83a20",
   "metadata": {
    "vscode": {
     "languageId": "julia"
    }
   },
   "outputs": [
    {
     "ename": "NameError",
     "evalue": "name 'umap' is not defined",
     "output_type": "error",
     "traceback": [
      "\u001b[1;31m---------------------------------------------------------------------------\u001b[0m",
      "\u001b[1;31mNameError\u001b[0m                                 Traceback (most recent call last)",
      "Cell \u001b[1;32mIn[6], line 2\u001b[0m\n\u001b[0;32m      1\u001b[0m \u001b[38;5;66;03m# Stap 1: Reduceer je embeddings naar 2D\u001b[39;00m\n\u001b[1;32m----> 2\u001b[0m reducer \u001b[38;5;241m=\u001b[39m umap\u001b[38;5;241m.\u001b[39mUMAP(n_neighbors\u001b[38;5;241m=\u001b[39m\u001b[38;5;241m3\u001b[39m, min_dist\u001b[38;5;241m=\u001b[39m\u001b[38;5;241m0.1\u001b[39m, metric\u001b[38;5;241m=\u001b[39m\u001b[38;5;124m'\u001b[39m\u001b[38;5;124mcosine\u001b[39m\u001b[38;5;124m'\u001b[39m, random_state\u001b[38;5;241m=\u001b[39m\u001b[38;5;241m42\u001b[39m)\n\u001b[0;32m      3\u001b[0m embedding_2d \u001b[38;5;241m=\u001b[39m reducer\u001b[38;5;241m.\u001b[39mfit_transform(embeddings)  \u001b[38;5;66;03m# gebruik jouw embeddings hier\u001b[39;00m\n\u001b[0;32m      5\u001b[0m \u001b[38;5;66;03m# Stap 2: Voeg coördinaten toe aan je DataFrame (bijv. df_csv.head(5))\u001b[39;00m\n",
      "\u001b[1;31mNameError\u001b[0m: name 'umap' is not defined"
     ]
    }
   ],
   "source": [
    "import umap\n",
    "import matplotlib.pyplot as plt\n",
    "\n",
    "# Stap 1: Reduceer je embeddings naar 2D\n",
    "reducer = umap.UMAP(n_neighbors=3, min_dist=0.1, metric='cosine', random_state=42)\n",
    "embedding_2d = reducer.fit_transform(embeddings)  # gebruik jouw embeddings hier\n",
    "\n",
    "# Stap 2: Voeg coördinaten toe aan je DataFrame (bijv. df_csv.head(5))\n",
    "df_sample = df_csv.head(5).copy()\n",
    "df_sample[\"x\"] = embedding_2d[:, 0]\n",
    "df_sample[\"y\"] = embedding_2d[:, 1]\n",
    "\n",
    "# Stap 3: Voeg similarity als kleur toe (bijv. hoe dicht bij EV)\n",
    "df_sample[\"similarity\"] = similarities  # jouw similarity scores\n",
    "\n",
    "# Stap 4: Plot de scatterplot\n",
    "plt.figure(figsize=(8, 6))\n",
    "scatter = plt.scatter(\n",
    "    df_sample[\"x\"],\n",
    "    df_sample[\"y\"],\n",
    "    c=df_sample[\"similarity\"],\n",
    "    cmap=\"coolwarm\",\n",
    "    s=100,  # grootte van de punten\n",
    "    alpha=0.7\n",
    ")\n",
    "plt.colorbar(scatter, label=\"Similarity to EV query\")\n",
    "plt.title(\"UMAP Visualisatie van Artikelen (Jina Embeddings)\", fontsize=14)\n",
    "plt.xlabel(\"Component 1\")\n",
    "plt.ylabel(\"Component 2\")\n",
    "plt.grid(True, linestyle=\"--\", alpha=0.3)\n",
    "plt.tight_layout()\n",
    "plt.show()\n"
   ]
  }
 ],
 "metadata": {
  "kernelspec": {
   "display_name": "base",
   "language": "python",
   "name": "python3"
  },
  "language_info": {
   "codemirror_mode": {
    "name": "ipython",
    "version": 3
   },
   "file_extension": ".py",
   "mimetype": "text/x-python",
   "name": "python",
   "nbconvert_exporter": "python",
   "pygments_lexer": "ipython3",
   "version": "3.12.4"
  }
 },
 "nbformat": 4,
 "nbformat_minor": 5
}
