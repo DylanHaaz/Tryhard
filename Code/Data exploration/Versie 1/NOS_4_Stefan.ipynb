{
 "cells": [
  {
   "cell_type": "markdown",
   "id": "7463753b",
   "metadata": {},
   "source": [
    " ### Setup: Packages + Model laden"
   ]
  },
  {
   "cell_type": "code",
   "execution_count": null,
   "id": "d7c044bb",
   "metadata": {},
   "outputs": [],
   "source": [
    "from sentence_transformers import SentenceTransformer\n",
    "import pandas as pd\n",
    "from sklearn.metrics.pairwise import cosine_similarity\n",
    "import umap\n",
    "import matplotlib.pyplot as plt\n"
   ]
  },
  {
   "cell_type": "code",
   "execution_count": null,
   "id": "2e0e49e2",
   "metadata": {},
   "outputs": [],
   "source": [
    "!pip install sentence-transformers torch pandas scikit-learn umap-learn matplotlib\n"
   ]
  },
  {
   "cell_type": "markdown",
   "id": "d9aa71e6",
   "metadata": {},
   "source": [
    "###  Laad het model"
   ]
  },
  {
   "cell_type": "code",
   "execution_count": null,
   "id": "1c4728b8",
   "metadata": {},
   "outputs": [],
   "source": [
    "# Model laden met retrieval-passage task\n",
    "model = SentenceTransformer(\"jinaai/jina-embeddings-v3\", trust_remote_code=True)"
   ]
  },
  {
   "cell_type": "markdown",
   "id": "c87d50ac",
   "metadata": {},
   "source": [
    "###  Laad de dataset (csv)"
   ]
  },
  {
   "cell_type": "code",
   "execution_count": null,
   "id": "6e22433b",
   "metadata": {},
   "outputs": [],
   "source": [
    "# Laad je dataset\n",
    "df = pd.read_csv('your_dataset.csv')  # <-- \"articles_cleaned\" CSV bestand hier\n",
    "\n",
    "# Combineer velden voor embeddings\n",
    "df['combined_text'] = df['title'].fillna('') + \". \" + df['description'].fillna('') + \". \" + df['content'].fillna('')\n"
   ]
  },
  {
   "cell_type": "markdown",
   "id": "bc81142d",
   "metadata": {},
   "source": [
    "### Genereer embeddings voor ALLE artikelen"
   ]
  },
  {
   "cell_type": "code",
   "execution_count": null,
   "id": "9868e468",
   "metadata": {},
   "outputs": [],
   "source": [
    "# Kies alle teksten\n",
    "texts = df['combined_text'].tolist()\n",
    "\n",
    "# Genereer embeddings\n",
    "embeddings = model.encode(texts, task='retrieval.passage', batch_size=64, show_progress_bar=True)\n",
    "\n",
    "# Sla embeddings op (bijv. als numpy)\n",
    "import numpy as np\n",
    "np.save('article_embeddings.npy', embeddings)\n"
   ]
  },
  {
   "cell_type": "markdown",
   "id": "1b1383a2",
   "metadata": {},
   "source": [
    "#### EV-query + Similarities berekenen"
   ]
  },
  {
   "cell_type": "code",
   "execution_count": null,
   "id": "94fcac53",
   "metadata": {},
   "outputs": [],
   "source": [
    "# EV gerelateerde queries\n",
    "queries = [\n",
    "    \"elektrische auto's\",\n",
    "    \"laadpalen en accutechnologie\",\n",
    "    \"elektrisch rijden subsidies en beleid\",\n",
    "]\n",
    "\n",
    "# Query embeddings\n",
    "query_embeddings = model.encode(queries, task='retrieval.query')\n",
    "\n",
    "# Gemiddelde query embedding\n",
    "query_embedding = query_embeddings.mean(axis=0)\n",
    "\n",
    "# Similarities berekenen\n",
    "similarities = cosine_similarity([query_embedding], embeddings)[0]\n",
    "\n",
    "# Similarities aan DataFrame toevoegen\n",
    "df['similarity'] = similarities\n",
    "\n",
    "# Optioneel: meest relevante artikelen tonen\n",
    "df_sorted = df.sort_values('similarity', ascending=False)\n",
    "print(df_sorted[['title', 'similarity']].head(10))\n"
   ]
  },
  {
   "cell_type": "markdown",
   "id": "5e5e893f",
   "metadata": {},
   "source": [
    "#### (Optioneel) UMAP + Scatterplot"
   ]
  },
  {
   "cell_type": "code",
   "execution_count": null,
   "id": "47dddb5c",
   "metadata": {},
   "outputs": [],
   "source": [
    "# Reduce embeddings\n",
    "reducer = umap.UMAP(n_neighbors=15, min_dist=0.1, metric='cosine', random_state=42)\n",
    "embedding_2d = reducer.fit_transform(embeddings)\n",
    "\n",
    "# Voeg 2D-coördinaten toe\n",
    "df['x'] = embedding_2d[:, 0]\n",
    "df['y'] = embedding_2d[:, 1]\n",
    "\n",
    "# Plot\n",
    "plt.figure(figsize=(10, 8))\n",
    "scatter = plt.scatter(\n",
    "    df['x'],\n",
    "    df['y'],\n",
    "    c=df['similarity'],\n",
    "    cmap=\"coolwarm\",\n",
    "    s=30,\n",
    "    alpha=0.6\n",
    ")\n",
    "plt.colorbar(scatter, label=\"Similarity to EV query\")\n",
    "plt.title(\"UMAP van Artikelen (Jina Embeddings)\", fontsize=14)\n",
    "plt.show()\n"
   ]
  }
 ],
 "metadata": {
  "language_info": {
   "name": "python"
  }
 },
 "nbformat": 4,
 "nbformat_minor": 5
}
