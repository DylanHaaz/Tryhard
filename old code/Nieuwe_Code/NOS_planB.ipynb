{
 "cells": [
  {
   "cell_type": "markdown",
   "id": "6cc70697",
   "metadata": {},
   "source": [
    "Sentiment analyse doen aan de hand van robert en keyword search "
   ]
  }
 ],
 "metadata": {
  "language_info": {
   "name": "python"
  }
 },
 "nbformat": 4,
 "nbformat_minor": 5
}
